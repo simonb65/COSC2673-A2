{
 "cells": [
  {
   "cell_type": "markdown",
   "id": "4a2fa6f6",
   "metadata": {},
   "source": [
    "# CellType classification model "
   ]
  },
  {
   "cell_type": "code",
   "execution_count": 1,
   "id": "2781e72c",
   "metadata": {},
   "outputs": [],
   "source": [
    "# import zipfile\n",
    "# with zipfile.ZipFile('./Image_classification_data.zip', 'r') as zip_ref:\n",
    "#     zip_ref.extractall('./')"
   ]
  },
  {
   "cell_type": "markdown",
   "id": "47f5243c",
   "metadata": {},
   "source": [
    "Import all the required libraries"
   ]
  },
  {
   "cell_type": "code",
   "execution_count": 2,
   "id": "8237c1f0",
   "metadata": {},
   "outputs": [],
   "source": [
    "import datetime\n",
    "\n",
    "import pandas as pd\n",
    "import numpy as np\n",
    "import matplotlib.pyplot as plt\n",
    "import seaborn as sns\n",
    "import tensorflow as tf\n",
    "from tensorflow import keras\n",
    "\n",
    "from tensorflow.keras.callbacks import EarlyStopping\n",
    "from sklearn.model_selection import train_test_split\n",
    "from sklearn.metrics import classification_report\n",
    "from sklearn.metrics import accuracy_score, f1_score, precision_recall_fscore_support"
   ]
  },
  {
   "cell_type": "markdown",
   "id": "17998d54",
   "metadata": {},
   "source": [
    "Load mainData and extraData into dataframes"
   ]
  },
  {
   "cell_type": "code",
   "execution_count": 3,
   "id": "826431af",
   "metadata": {},
   "outputs": [
    {
     "data": {
      "text/html": [
       "<div>\n",
       "<style scoped>\n",
       "    .dataframe tbody tr th:only-of-type {\n",
       "        vertical-align: middle;\n",
       "    }\n",
       "\n",
       "    .dataframe tbody tr th {\n",
       "        vertical-align: top;\n",
       "    }\n",
       "\n",
       "    .dataframe thead th {\n",
       "        text-align: right;\n",
       "    }\n",
       "</style>\n",
       "<table border=\"1\" class=\"dataframe\">\n",
       "  <thead>\n",
       "    <tr style=\"text-align: right;\">\n",
       "      <th></th>\n",
       "      <th>InstanceID</th>\n",
       "      <th>patientID</th>\n",
       "      <th>ImageName</th>\n",
       "      <th>cellTypeName</th>\n",
       "      <th>cellType</th>\n",
       "      <th>isCancerous</th>\n",
       "    </tr>\n",
       "  </thead>\n",
       "  <tbody>\n",
       "    <tr>\n",
       "      <th>0</th>\n",
       "      <td>22405</td>\n",
       "      <td>1</td>\n",
       "      <td>22405.png</td>\n",
       "      <td>fibroblast</td>\n",
       "      <td>0</td>\n",
       "      <td>0</td>\n",
       "    </tr>\n",
       "    <tr>\n",
       "      <th>1</th>\n",
       "      <td>22406</td>\n",
       "      <td>1</td>\n",
       "      <td>22406.png</td>\n",
       "      <td>fibroblast</td>\n",
       "      <td>0</td>\n",
       "      <td>0</td>\n",
       "    </tr>\n",
       "    <tr>\n",
       "      <th>2</th>\n",
       "      <td>22407</td>\n",
       "      <td>1</td>\n",
       "      <td>22407.png</td>\n",
       "      <td>fibroblast</td>\n",
       "      <td>0</td>\n",
       "      <td>0</td>\n",
       "    </tr>\n",
       "    <tr>\n",
       "      <th>3</th>\n",
       "      <td>22408</td>\n",
       "      <td>1</td>\n",
       "      <td>22408.png</td>\n",
       "      <td>fibroblast</td>\n",
       "      <td>0</td>\n",
       "      <td>0</td>\n",
       "    </tr>\n",
       "    <tr>\n",
       "      <th>4</th>\n",
       "      <td>22409</td>\n",
       "      <td>1</td>\n",
       "      <td>22409.png</td>\n",
       "      <td>fibroblast</td>\n",
       "      <td>0</td>\n",
       "      <td>0</td>\n",
       "    </tr>\n",
       "    <tr>\n",
       "      <th>...</th>\n",
       "      <td>...</td>\n",
       "      <td>...</td>\n",
       "      <td>...</td>\n",
       "      <td>...</td>\n",
       "      <td>...</td>\n",
       "      <td>...</td>\n",
       "    </tr>\n",
       "    <tr>\n",
       "      <th>9891</th>\n",
       "      <td>1625</td>\n",
       "      <td>60</td>\n",
       "      <td>1625.png</td>\n",
       "      <td>epithelial</td>\n",
       "      <td>2</td>\n",
       "      <td>1</td>\n",
       "    </tr>\n",
       "    <tr>\n",
       "      <th>9892</th>\n",
       "      <td>1626</td>\n",
       "      <td>60</td>\n",
       "      <td>1626.png</td>\n",
       "      <td>epithelial</td>\n",
       "      <td>2</td>\n",
       "      <td>1</td>\n",
       "    </tr>\n",
       "    <tr>\n",
       "      <th>9893</th>\n",
       "      <td>1627</td>\n",
       "      <td>60</td>\n",
       "      <td>1627.png</td>\n",
       "      <td>epithelial</td>\n",
       "      <td>2</td>\n",
       "      <td>1</td>\n",
       "    </tr>\n",
       "    <tr>\n",
       "      <th>9894</th>\n",
       "      <td>1628</td>\n",
       "      <td>60</td>\n",
       "      <td>1628.png</td>\n",
       "      <td>epithelial</td>\n",
       "      <td>2</td>\n",
       "      <td>1</td>\n",
       "    </tr>\n",
       "    <tr>\n",
       "      <th>9895</th>\n",
       "      <td>1629</td>\n",
       "      <td>60</td>\n",
       "      <td>1629.png</td>\n",
       "      <td>epithelial</td>\n",
       "      <td>2</td>\n",
       "      <td>1</td>\n",
       "    </tr>\n",
       "  </tbody>\n",
       "</table>\n",
       "<p>9896 rows × 6 columns</p>\n",
       "</div>"
      ],
      "text/plain": [
       "      InstanceID  patientID  ImageName cellTypeName  cellType  isCancerous\n",
       "0          22405          1  22405.png   fibroblast         0            0\n",
       "1          22406          1  22406.png   fibroblast         0            0\n",
       "2          22407          1  22407.png   fibroblast         0            0\n",
       "3          22408          1  22408.png   fibroblast         0            0\n",
       "4          22409          1  22409.png   fibroblast         0            0\n",
       "...          ...        ...        ...          ...       ...          ...\n",
       "9891        1625         60   1625.png   epithelial         2            1\n",
       "9892        1626         60   1626.png   epithelial         2            1\n",
       "9893        1627         60   1627.png   epithelial         2            1\n",
       "9894        1628         60   1628.png   epithelial         2            1\n",
       "9895        1629         60   1629.png   epithelial         2            1\n",
       "\n",
       "[9896 rows x 6 columns]"
      ]
     },
     "execution_count": 3,
     "metadata": {},
     "output_type": "execute_result"
    }
   ],
   "source": [
    "mainData = pd.read_csv('./data_labels_mainData.csv')\n",
    "extraData = pd.read_csv('./data_labels_extraData.csv')\n",
    "\n",
    "mainData"
   ]
  },
  {
   "cell_type": "code",
   "execution_count": 4,
   "id": "4a394a2d",
   "metadata": {},
   "outputs": [
    {
     "data": {
      "text/plain": [
       "epithelial      4079\n",
       "inflammatory    2543\n",
       "fibroblast      1888\n",
       "others          1386\n",
       "Name: cellTypeName, dtype: int64"
      ]
     },
     "execution_count": 4,
     "metadata": {},
     "output_type": "execute_result"
    }
   ],
   "source": [
    "mainData.cellTypeName.value_counts()"
   ]
  },
  {
   "cell_type": "markdown",
   "id": "736d3a3c",
   "metadata": {},
   "source": [
    "Check for any null values"
   ]
  },
  {
   "cell_type": "markdown",
   "id": "11d3f048",
   "metadata": {},
   "source": [
    "Check if to see any null values exists"
   ]
  },
  {
   "cell_type": "code",
   "execution_count": 5,
   "id": "00eaa309",
   "metadata": {},
   "outputs": [
    {
     "data": {
      "text/plain": [
       "InstanceID      0\n",
       "patientID       0\n",
       "ImageName       0\n",
       "cellTypeName    0\n",
       "cellType        0\n",
       "isCancerous     0\n",
       "dtype: int64"
      ]
     },
     "execution_count": 5,
     "metadata": {},
     "output_type": "execute_result"
    }
   ],
   "source": [
    "mainData.isnull().sum()"
   ]
  },
  {
   "cell_type": "markdown",
   "id": "d95eff02",
   "metadata": {},
   "source": [
    "We remove the `InstanceID` column to prevent any data leaks and the `isCancerous` column since we are only predicting the cell type"
   ]
  },
  {
   "cell_type": "code",
   "execution_count": 6,
   "id": "f85ab6b2",
   "metadata": {},
   "outputs": [],
   "source": [
    "mainData.drop(['InstanceID'], axis=1,inplace=True)\n",
    "mainData.drop(['isCancerous'], axis=1,inplace=True)"
   ]
  },
  {
   "cell_type": "code",
   "execution_count": 7,
   "id": "8b73452c",
   "metadata": {},
   "outputs": [
    {
     "name": "stdout",
     "output_type": "stream",
     "text": [
      "#### mainData shape ####\n",
      "\n",
      "(9896, 4)\n",
      "\n",
      "#### mainData info ####\n",
      "\n",
      "<class 'pandas.core.frame.DataFrame'>\n",
      "RangeIndex: 9896 entries, 0 to 9895\n",
      "Data columns (total 4 columns):\n",
      " #   Column        Non-Null Count  Dtype \n",
      "---  ------        --------------  ----- \n",
      " 0   patientID     9896 non-null   int64 \n",
      " 1   ImageName     9896 non-null   object\n",
      " 2   cellTypeName  9896 non-null   object\n",
      " 3   cellType      9896 non-null   int64 \n",
      "dtypes: int64(2), object(2)\n",
      "memory usage: 309.4+ KB\n",
      "None\n",
      "\n",
      "#### mainData describe ####\n",
      "\n",
      "         patientID     cellType\n",
      "count  9896.000000  9896.000000\n",
      "mean     29.762025     1.501516\n",
      "std      17.486553     0.954867\n",
      "min       1.000000     0.000000\n",
      "25%      14.000000     1.000000\n",
      "50%      26.000000     2.000000\n",
      "75%      47.000000     2.000000\n",
      "max      60.000000     3.000000\n"
     ]
    }
   ],
   "source": [
    "print(\"#### mainData shape ####\\n\")\n",
    "print(mainData.shape)\n",
    "print(\"\\n#### mainData info ####\\n\")\n",
    "print(mainData.info())\n",
    "print(\"\\n#### mainData describe ####\\n\")\n",
    "print(mainData.describe())"
   ]
  },
  {
   "cell_type": "markdown",
   "id": "cd85dd1b",
   "metadata": {},
   "source": [
    "Create a dictionary with label mapping for future predictions."
   ]
  },
  {
   "cell_type": "code",
   "execution_count": 8,
   "id": "6f0970d6",
   "metadata": {},
   "outputs": [
    {
     "data": {
      "image/png": "[encoded data removed]",
      "text/plain": [
       "<Figure size 1440x1440 with 2 Axes>"
      ]
     },
     "metadata": {
      "needs_background": "light"
     },
     "output_type": "display_data"
    }
   ],
   "source": [
    "plt.figure(figsize=(20,20))\n",
    "plt.subplot(3, 2, 1)\n",
    "plt.hist(mainData['patientID'], facecolor='blue', alpha=0.5)\n",
    "plt.title('patient ID')\n",
    "\n",
    "plt.subplot(3, 2, 2)\n",
    "plt.hist(mainData['cellTypeName'], facecolor='blue', alpha=0.5)\n",
    "plt.title('Cell Types')\n",
    "plt.show()"
   ]
  },
  {
   "cell_type": "code",
   "execution_count": 9,
   "id": "e7a939ce",
   "metadata": {},
   "outputs": [],
   "source": [
    "cellType_map = mainData.set_index('cellType').to_dict()['cellTypeName']"
   ]
  },
  {
   "cell_type": "code",
   "execution_count": 10,
   "id": "6c8140f4",
   "metadata": {},
   "outputs": [],
   "source": [
    "mainData['cellType'] = mainData['cellType'].astype('category')"
   ]
  },
  {
   "cell_type": "markdown",
   "id": "70ac8613",
   "metadata": {},
   "source": [
    "## Train test validation split"
   ]
  },
  {
   "cell_type": "markdown",
   "id": "cd5fd94e",
   "metadata": {},
   "source": [
    "While in part 1 the data was split based on the images pertaining to a patient, here we split the dataset without any processing as the goal of the model is the classify the image to a cell type, regardless of its relationship to a patient."
   ]
  },
  {
   "cell_type": "code",
   "execution_count": 11,
   "id": "ad9a4657",
   "metadata": {},
   "outputs": [],
   "source": [
    "train_data, test_data = train_test_split(mainData, test_size=0.2, random_state=42)\n",
    "train_data, val_data = train_test_split(train_data, test_size=0.25, random_state=42)"
   ]
  },
  {
   "cell_type": "code",
   "execution_count": 12,
   "id": "444b41e9",
   "metadata": {},
   "outputs": [
    {
     "name": "stdout",
     "output_type": "stream",
     "text": [
      "Train data : 5937, Val Data: 1979, Test Data: 1980\n"
     ]
    }
   ],
   "source": [
    "print(\"Train data : {}, Val Data: {}, Test Data: {}\".format(train_data.shape[0], val_data.shape[0], test_data.shape[0]))"
   ]
  },
  {
   "cell_type": "code",
   "execution_count": 13,
   "id": "634e0b9f",
   "metadata": {},
   "outputs": [
    {
     "data": {
      "text/plain": [
       "<matplotlib.legend.Legend at 0x7fdc154e5be0>"
      ]
     },
     "execution_count": 13,
     "metadata": {},
     "output_type": "execute_result"
    },
    {
     "data": {
      "image/png": "[encoded data removed]",
      "text/plain": [
       "<Figure size 720x504 with 1 Axes>"
      ]
     },
     "metadata": {
      "needs_background": "light"
     },
     "output_type": "display_data"
    }
   ],
   "source": [
    "plt.figure(figsize=(10,7))\n",
    "plt.bar(\n",
    "    train_data.cellType.value_counts().index.astype(str), \n",
    "    train_data.cellType.value_counts().values/np.sum(train_data.cellType.value_counts().values), \n",
    "    alpha=0.3, \n",
    "    color='r',\n",
    "    label='Train Data'\n",
    ")\n",
    "plt.bar(\n",
    "    val_data.cellType.value_counts().index.astype(str), \n",
    "    val_data.cellType.value_counts().values/np.sum(val_data.cellType.value_counts().values), \n",
    "    alpha=0.3, \n",
    "    color='b',\n",
    "    label='Val Data'\n",
    ")\n",
    "plt.bar(\n",
    "    test_data.cellType.value_counts().index.astype(str), \n",
    "    test_data.cellType.value_counts().values/np.sum(test_data.cellType.value_counts().values), \n",
    "    alpha=0.3, \n",
    "    color='g',\n",
    "    label='Test Data'\n",
    ")\n",
    "\n",
    "plt.title('Cell Type - Train vs Validation vs Test')\n",
    "plt.xticks(rotation='vertical')\n",
    "plt.legend()"
   ]
  },
  {
   "cell_type": "markdown",
   "id": "e448a3fd",
   "metadata": {},
   "source": [
    "## One hot encoding the labels"
   ]
  },
  {
   "cell_type": "code",
   "execution_count": 14,
   "id": "4ab8c6f6",
   "metadata": {},
   "outputs": [],
   "source": [
    "from sklearn.preprocessing import OneHotEncoder\n",
    "\n",
    "def one_hot_encode(df, col, col_names = None):\n",
    "    ohe = OneHotEncoder(handle_unknown = 'ignore')\n",
    "    ohe.fit(df[[col]])\n",
    "    \n",
    "    ohe_ = ohe.transform(df[[col]]).toarray()\n",
    "    \n",
    "    if (col_names == None):\n",
    "        col_names = ohe.categories_[0]\n",
    "        \n",
    "        for i in range(len(ohe.categories_[0])):\n",
    "            df[col + '_' + str(col_names[i])] = ohe_[:,i]\n",
    "            \n",
    "        df.drop(col, axis = 1, inplace = True)"
   ]
  },
  {
   "cell_type": "code",
   "execution_count": 15,
   "id": "ac425528",
   "metadata": {},
   "outputs": [
    {
     "name": "stderr",
     "output_type": "stream",
     "text": [
      "<ipython-input-14-ba2fe6a3a20f>:13: SettingWithCopyWarning: \n",
      "A value is trying to be set on a copy of a slice from a DataFrame.\n",
      "Try using .loc[row_indexer,col_indexer] = value instead\n",
      "\n",
      "See the caveats in the documentation: https://pandas.pydata.org/pandas-docs/stable/user_guide/indexing.html#returning-a-view-versus-a-copy\n",
      "  df[col + '_' + str(col_names[i])] = ohe_[:,i]\n",
      "/home/magnuscake/miniconda3/envs/tf_cpu/lib/python3.9/site-packages/pandas/core/frame.py:4308: SettingWithCopyWarning: \n",
      "A value is trying to be set on a copy of a slice from a DataFrame\n",
      "\n",
      "See the caveats in the documentation: https://pandas.pydata.org/pandas-docs/stable/user_guide/indexing.html#returning-a-view-versus-a-copy\n",
      "  return super().drop(\n"
     ]
    }
   ],
   "source": [
    "one_hot_encode(train_data, 'cellType')\n",
    "one_hot_encode(val_data, 'cellType')\n",
    "one_hot_encode(test_data, 'cellType')"
   ]
  },
  {
   "cell_type": "markdown",
   "id": "59c37ed8",
   "metadata": {},
   "source": [
    "## Image preprocessing"
   ]
  },
  {
   "cell_type": "code",
   "execution_count": 16,
   "id": "56771023",
   "metadata": {},
   "outputs": [
    {
     "name": "stdout",
     "output_type": "stream",
     "text": [
      "Found 5937 validated image filenames.\n",
      "Found 1979 validated image filenames.\n",
      "Found 1980 validated image filenames.\n"
     ]
    }
   ],
   "source": [
    "from tensorflow.keras.preprocessing.image import ImageDataGenerator\n",
    "\n",
    "# Rescale is done here to normalize the pixels in a range of 0-1\n",
    "train_datagen = ImageDataGenerator(rescale=1./255, data_format='channels_last')\n",
    "val_datagen = ImageDataGenerator(rescale=1./255, data_format='channels_last')\n",
    "test_datagen = ImageDataGenerator(rescale=1./255, data_format='channels_last')\n",
    "\n",
    "# This the default batch size\n",
    "batch_size = 32\n",
    "columns = ['cellType_0', 'cellType_1', 'cellType_2', 'cellType_3']\n",
    "\n",
    "train_generator = train_datagen.flow_from_dataframe(\n",
    "    dataframe = train_data,\n",
    "    directory = './patch_images',\n",
    "    x_col = 'ImageName',\n",
    "    y_col = columns,\n",
    "    target_size = (27, 27),\n",
    "    batch_size = batch_size,\n",
    "    class_mode = 'raw',\n",
    "    shuffle=False\n",
    ")\n",
    "\n",
    "validation_generator = val_datagen.flow_from_dataframe(\n",
    "    dataframe = val_data,\n",
    "    directory = './patch_images',\n",
    "    x_col = 'ImageName',\n",
    "    y_col = columns,\n",
    "    target_size = (27, 27),\n",
    "    batch_size = batch_size,\n",
    "    class_mode = 'raw',\n",
    "    shuffle=False\n",
    ")\n",
    "\n",
    "test_generator = test_datagen.flow_from_dataframe(\n",
    "    dataframe = test_data,\n",
    "    directory = './patch_images',\n",
    "    x_col = 'ImageName',\n",
    "    y_col = columns,\n",
    "    target_size = (27, 27),\n",
    "    batch_size = batch_size,\n",
    "    class_mode = 'raw',\n",
    "    shuffle=False\n",
    ")"
   ]
  },
  {
   "cell_type": "markdown",
   "id": "cad8d169",
   "metadata": {},
   "source": [
    "# Utility Functions"
   ]
  },
  {
   "cell_type": "markdown",
   "id": "740ac682",
   "metadata": {},
   "source": [
    "## Plot functions"
   ]
  },
  {
   "cell_type": "code",
   "execution_count": 17,
   "id": "b1aef4c2",
   "metadata": {},
   "outputs": [],
   "source": [
    "# Learning curve diagnostic tool\n",
    "def plot_fit_history(train_loss, val_loss, train_metric, val_metric, metric_name='Accuracy'):\n",
    "    plt.figure(figsize=(10,5))\n",
    "    \n",
    "    plt.subplot(1,2,1)\n",
    "    plt.plot(train_loss, 'r--')\n",
    "    plt.plot(val_loss, 'b--')\n",
    "    plt.xlabel(\"epochs\")\n",
    "    plt.ylabel(\"Loss\")\n",
    "    plt.legend(['train', 'val'], loc='upper left')\n",
    "\n",
    "    plt.subplot(1,2,2)\n",
    "    plt.plot(train_metric, 'r--')\n",
    "    plt.plot(val_metric, 'b--')\n",
    "    plt.xlabel(\"epochs\")\n",
    "    plt.ylabel(metric_name)\n",
    "    plt.legend(['train', 'val'], loc='upper left')\n",
    "\n",
    "    plt.show()"
   ]
  },
  {
   "cell_type": "code",
   "execution_count": 18,
   "id": "c066c87a",
   "metadata": {},
   "outputs": [],
   "source": [
    "# def plot_confusion_matrix(test, pred):\n",
    "#     cm = confusion_matrix(test, pred)\n",
    "#     group_names = ['True Neg','False Pos','False Neg','True Pos']\n",
    "#     group_counts = [\"{0:0.0f}\".format(value) for value in cm.flatten()]\n",
    "#     group_percentages = [\"{0:.2%}\".format(value) for value in cm.flatten()/np.sum(cm)]\n",
    "#     labels = [f\"{v1}\\n{v2}\\n{v3}\" for v1, v2, v3 in zip(group_names, group_counts, group_percentages)]\n",
    "#     labels = np.asarray(labels).reshape(2,2)\n",
    "#     sns.heatmap(cm, annot=True, fmt='', cmap='Blues')\n",
    "\n",
    "def plot_confusion_matrix(test, pred, title='Confusion matrix', cmap=None, normalize=True):\n",
    "    \n",
    "    import itertools\n",
    "    from sklearn.metrics import confusion_matrix\n",
    "\n",
    "    cm = confusion_matrix(test, pred)\n",
    "    target_names = [0, 1, 2, 3]\n",
    "    \n",
    "    accuracy = np.trace(cm) / float(np.sum(cm))\n",
    "    misclass = 1 - accuracy\n",
    "\n",
    "    if cmap is None:\n",
    "        cmap = plt.get_cmap('Blues')\n",
    "\n",
    "    plt.figure(figsize=(8, 6))\n",
    "    plt.imshow(cm, interpolation='nearest', cmap=cmap)\n",
    "    plt.title(title)\n",
    "    plt.colorbar()\n",
    "\n",
    "    if target_names is not None:\n",
    "        tick_marks = np.arange(len(target_names))\n",
    "        plt.xticks(tick_marks, target_names)\n",
    "        plt.yticks(tick_marks, target_names)\n",
    "\n",
    "    if normalize:\n",
    "        cm = cm.astype('float') / cm.sum(axis=1)[:, np.newaxis]\n",
    "\n",
    "\n",
    "    thresh = cm.max() / 1.5 if normalize else cm.max() / 2\n",
    "    for i, j in itertools.product(range(cm.shape[0]), range(cm.shape[1])):\n",
    "        if normalize:\n",
    "            plt.text(j, i, \"{:0.4f}\".format(cm[i, j]),\n",
    "                     horizontalalignment=\"center\",\n",
    "                     color=\"white\" if cm[i, j] > thresh else \"black\")\n",
    "        else:\n",
    "            plt.text(j, i, \"{:,}\".format(cm[i, j]),\n",
    "                     horizontalalignment=\"center\",\n",
    "                     color=\"white\" if cm[i, j] > thresh else \"black\")\n",
    "\n",
    "\n",
    "    plt.tight_layout()\n",
    "    plt.ylabel('True label')\n",
    "    plt.xlabel('Predicted label\\naccuracy={:0.4f}; misclass={:0.4f}'.format(accuracy, misclass))\n",
    "    plt.show()"
   ]
  },
  {
   "cell_type": "markdown",
   "id": "dd114505",
   "metadata": {},
   "source": [
    "## Model development functions"
   ]
  },
  {
   "cell_type": "code",
   "execution_count": 19,
   "id": "e53bb809",
   "metadata": {},
   "outputs": [],
   "source": [
    "def compile_model(model):\n",
    "    sgd = tf.keras.optimizers.SGD(learning_rate=0.01)\n",
    "#     opt = tf.keras.optimizers.Adagrad()\n",
    "    \n",
    "    model.compile(optimizer=sgd,\n",
    "              loss=tf.keras.losses.CategoricalCrossentropy(from_logits=True),\n",
    "              metrics=['categorical_accuracy', 'accuracy'])"
   ]
  },
  {
   "cell_type": "code",
   "execution_count": 20,
   "id": "77b9308f",
   "metadata": {},
   "outputs": [],
   "source": [
    "early_stopping_monitor = EarlyStopping(patience=10, monitor='val_categorical_accuracy')\n",
    "\n",
    "def fit_model(model, train_gen=train_generator, val_gen=validation_generator):\n",
    "\n",
    "    print('start ', datetime.datetime.now().strftime(\"%H:%M:%S\"))\n",
    "    now = datetime.datetime.now()\n",
    "\n",
    "    fit_history = model.fit(train_generator, validation_data = validation_generator, \n",
    "                            callbacks=[early_stopping_monitor], epochs=10000, verbose=1)\n",
    "\n",
    "    print('stop ', datetime.datetime.now().strftime(\"%H:%M:%S\"))\n",
    "    print(\"Took = \", datetime.datetime.now() - now)\n",
    "    \n",
    "    return fit_history"
   ]
  },
  {
   "cell_type": "code",
   "execution_count": 21,
   "id": "5967c250",
   "metadata": {},
   "outputs": [],
   "source": [
    "def predict_model(model):\n",
    "    batch_size_ = 1\n",
    "    y_pred = list()\n",
    "    y_test = list()\n",
    "    filenames = test_generator.filenames\n",
    "    N_images = len(filenames)\n",
    "    batches = 0\n",
    "\n",
    "    # iterate through the data generator and predict for each batch\n",
    "    # hold the predictions and labels\n",
    "    for x,y in test_generator:\n",
    "            yp = model.predict(x, verbose=0)\n",
    "            yp = np.argmax(yp, axis = 1)\n",
    "            yt = np.argmax(y, axis = 1)\n",
    "            y_pred = y_pred + yp.tolist()\n",
    "            y_test = y_test + yt.tolist()\n",
    "\n",
    "            batches += 1\n",
    "            if batches >= N_images / batch_size_:\n",
    "                break\n",
    "                \n",
    "    return (y_test, y_pred)"
   ]
  },
  {
   "cell_type": "code",
   "execution_count": 22,
   "id": "009abc08",
   "metadata": {},
   "outputs": [],
   "source": [
    "class ModelResult:\n",
    "  def __init__(self, name, accuracy, f1, precision, recall):\n",
    "    self.name = name\n",
    "    self.accuracy = accuracy\n",
    "    self.f1 = f1\n",
    "    self.precision = precision\n",
    "    self.recall = recall\n",
    "    \n",
    "modelResults = list()\n",
    "\n",
    "def show_stats(test_name, y_test, y_pred):\n",
    "    accuracy = accuracy_score(test_y, pred_y)\n",
    "    f1 = f1_score(test_y, pred_y, average='macro')\n",
    "    cm = classification_report(test_y, pred_y, zero_division=0)\n",
    "    \n",
    "    prfs = precision_recall_fscore_support(test_y, pred_y, zero_division=0)\n",
    "    detect_precision = prfs[0][1]\n",
    "    detect_recall = prfs[1][1]\n",
    "\n",
    "    mr = ModelResult(test_name, accuracy, f1, detect_precision, detect_recall)\n",
    "    modelResults.append(mr)\n",
    "\n",
    "    print(\"Accuracy score: \", accuracy_score(test_y, pred_y))\n",
    "    print(\"F1 score: \", f1_score(test_y, pred_y, average='macro'))\n",
    "    print(classification_report(test_y, pred_y, zero_division=0))"
   ]
  },
  {
   "cell_type": "markdown",
   "id": "f6ec37a7",
   "metadata": {},
   "source": [
    "# Baseline model"
   ]
  },
  {
   "cell_type": "markdown",
   "id": "48082628",
   "metadata": {},
   "source": [
    "- Initial baseline NN model\n",
    "- 4 output classes, with OneHotEncoding\n",
    "- Input has 2187 dims (this is small for image recognition)\n",
    "- 1 hidden layer with 256 internal nodes\n",
    "- Loss - Categorical Cross Entropy\n",
    "- Metric - categorical_accuracy"
   ]
  },
  {
   "cell_type": "code",
   "execution_count": 23,
   "id": "fa66b67f",
   "metadata": {},
   "outputs": [],
   "source": [
    "INPUT_DIM = (27, 27, 3)\n",
    "HIDDEN_LAYER_DIM = 256\n",
    "OUTPUT_CLASSES = 4 # Flag for output layer\n",
    "\n",
    "base_model = keras.Sequential([\n",
    "    keras.layers.Flatten(input_shape=INPUT_DIM),\n",
    "    keras.layers.Dense(HIDDEN_LAYER_DIM, activation='relu'),\n",
    "    keras.layers.Dense(OUTPUT_CLASSES)\n",
    "])"
   ]
  },
  {
   "cell_type": "code",
   "execution_count": 24,
   "id": "ffdf59e9",
   "metadata": {},
   "outputs": [
    {
     "name": "stdout",
     "output_type": "stream",
     "text": [
      "Model: \"sequential\"\n",
      "_________________________________________________________________\n",
      "Layer (type)                 Output Shape              Param #   \n",
      "=================================================================\n",
      "flatten (Flatten)            (None, 2187)              0         \n",
      "_________________________________________________________________\n",
      "dense (Dense)                (None, 256)               560128    \n",
      "_________________________________________________________________\n",
      "dense_1 (Dense)              (None, 4)                 1028      \n",
      "=================================================================\n",
      "Total params: 561,156\n",
      "Trainable params: 561,156\n",
      "Non-trainable params: 0\n",
      "_________________________________________________________________\n"
     ]
    }
   ],
   "source": [
    "base_model.summary()"
   ]
  },
  {
   "cell_type": "markdown",
   "id": "739d8da6",
   "metadata": {},
   "source": [
    "Initial the optimizer to use with the learning rate."
   ]
  },
  {
   "cell_type": "code",
   "execution_count": 25,
   "id": "41c1b819",
   "metadata": {},
   "outputs": [],
   "source": [
    "compile_model(base_model)"
   ]
  },
  {
   "cell_type": "code",
   "execution_count": 26,
   "id": "fbabcea4",
   "metadata": {},
   "outputs": [
    {
     "name": "stdout",
     "output_type": "stream",
     "text": [
      "start  19:34:27\n",
      "Epoch 1/10000\n",
      "186/186 [==============================] - 3s 12ms/step - loss: 1.2462 - categorical_accuracy: 0.4664 - accuracy: 0.4664 - val_loss: 1.0979 - val_categorical_accuracy: 0.5836 - val_accuracy: 0.5836\n",
      "Epoch 2/10000\n",
      "186/186 [==============================] - 2s 12ms/step - loss: 1.0628 - categorical_accuracy: 0.5604 - accuracy: 0.5604 - val_loss: 1.0929 - val_categorical_accuracy: 0.5609 - val_accuracy: 0.5609\n",
      "Epoch 3/10000\n",
      "186/186 [==============================] - 2s 12ms/step - loss: 0.9899 - categorical_accuracy: 0.5961 - accuracy: 0.5961 - val_loss: 0.9335 - val_categorical_accuracy: 0.6150 - val_accuracy: 0.6150\n",
      "Epoch 4/10000\n",
      "186/186 [==============================] - 2s 12ms/step - loss: 0.9520 - categorical_accuracy: 0.6160 - accuracy: 0.6160 - val_loss: 0.9238 - val_categorical_accuracy: 0.6175 - val_accuracy: 0.6175\n",
      "Epoch 5/10000\n",
      "186/186 [==============================] - 2s 12ms/step - loss: 0.9038 - categorical_accuracy: 0.6444 - accuracy: 0.6444 - val_loss: 1.0061 - val_categorical_accuracy: 0.5867 - val_accuracy: 0.5867\n",
      "Epoch 6/10000\n",
      "186/186 [==============================] - 2s 12ms/step - loss: 0.8853 - categorical_accuracy: 0.6480 - accuracy: 0.6480 - val_loss: 0.9812 - val_categorical_accuracy: 0.5700 - val_accuracy: 0.5700\n",
      "Epoch 7/10000\n",
      "186/186 [==============================] - 2s 12ms/step - loss: 0.8649 - categorical_accuracy: 0.6598 - accuracy: 0.6598 - val_loss: 0.9017 - val_categorical_accuracy: 0.6463 - val_accuracy: 0.6463\n",
      "Epoch 8/10000\n",
      "186/186 [==============================] - 2s 12ms/step - loss: 0.8446 - categorical_accuracy: 0.6689 - accuracy: 0.6689 - val_loss: 0.7974 - val_categorical_accuracy: 0.6781 - val_accuracy: 0.6781\n",
      "Epoch 9/10000\n",
      "186/186 [==============================] - 2s 12ms/step - loss: 0.8406 - categorical_accuracy: 0.6759 - accuracy: 0.6759 - val_loss: 0.7926 - val_categorical_accuracy: 0.7074 - val_accuracy: 0.7074\n",
      "Epoch 10/10000\n",
      "186/186 [==============================] - 2s 11ms/step - loss: 0.8257 - categorical_accuracy: 0.6773 - accuracy: 0.6773 - val_loss: 1.1372 - val_categorical_accuracy: 0.5488 - val_accuracy: 0.5488\n",
      "Epoch 11/10000\n",
      "186/186 [==============================] - 2s 11ms/step - loss: 0.8217 - categorical_accuracy: 0.6820 - accuracy: 0.6820 - val_loss: 0.8112 - val_categorical_accuracy: 0.6614 - val_accuracy: 0.6614\n",
      "Epoch 12/10000\n",
      "186/186 [==============================] - 2s 12ms/step - loss: 0.8116 - categorical_accuracy: 0.6768 - accuracy: 0.6768 - val_loss: 0.9020 - val_categorical_accuracy: 0.6347 - val_accuracy: 0.6347\n",
      "Epoch 13/10000\n",
      "186/186 [==============================] - 2s 12ms/step - loss: 0.8059 - categorical_accuracy: 0.6822 - accuracy: 0.6822 - val_loss: 0.8185 - val_categorical_accuracy: 0.6716 - val_accuracy: 0.6716\n",
      "Epoch 14/10000\n",
      "186/186 [==============================] - 2s 12ms/step - loss: 0.7974 - categorical_accuracy: 0.6901 - accuracy: 0.6901 - val_loss: 0.8006 - val_categorical_accuracy: 0.6968 - val_accuracy: 0.6968\n",
      "Epoch 15/10000\n",
      "186/186 [==============================] - 2s 11ms/step - loss: 0.7810 - categorical_accuracy: 0.6955 - accuracy: 0.6955 - val_loss: 0.7632 - val_categorical_accuracy: 0.7089 - val_accuracy: 0.7089\n",
      "Epoch 16/10000\n",
      "186/186 [==============================] - 2s 11ms/step - loss: 0.7795 - categorical_accuracy: 0.6958 - accuracy: 0.6958 - val_loss: 0.8048 - val_categorical_accuracy: 0.6776 - val_accuracy: 0.6776\n",
      "Epoch 17/10000\n",
      "186/186 [==============================] - 2s 11ms/step - loss: 0.7861 - categorical_accuracy: 0.6913 - accuracy: 0.6913 - val_loss: 0.7721 - val_categorical_accuracy: 0.6953 - val_accuracy: 0.6953\n",
      "Epoch 18/10000\n",
      "186/186 [==============================] - 2s 11ms/step - loss: 0.7822 - categorical_accuracy: 0.6948 - accuracy: 0.6948 - val_loss: 0.7684 - val_categorical_accuracy: 0.6988 - val_accuracy: 0.6988\n",
      "Epoch 19/10000\n",
      "186/186 [==============================] - 2s 11ms/step - loss: 0.7703 - categorical_accuracy: 0.7007 - accuracy: 0.7007 - val_loss: 0.7750 - val_categorical_accuracy: 0.6978 - val_accuracy: 0.6978\n",
      "Epoch 20/10000\n",
      "186/186 [==============================] - 2s 11ms/step - loss: 0.7643 - categorical_accuracy: 0.7000 - accuracy: 0.7000 - val_loss: 0.8348 - val_categorical_accuracy: 0.6837 - val_accuracy: 0.6837\n",
      "Epoch 21/10000\n",
      "186/186 [==============================] - 2s 11ms/step - loss: 0.7729 - categorical_accuracy: 0.6993 - accuracy: 0.6993 - val_loss: 0.7651 - val_categorical_accuracy: 0.6948 - val_accuracy: 0.6948\n",
      "Epoch 22/10000\n",
      "186/186 [==============================] - 2s 11ms/step - loss: 0.7536 - categorical_accuracy: 0.7073 - accuracy: 0.7073 - val_loss: 0.7901 - val_categorical_accuracy: 0.6837 - val_accuracy: 0.6837\n",
      "Epoch 23/10000\n",
      "186/186 [==============================] - 2s 11ms/step - loss: 0.7521 - categorical_accuracy: 0.7052 - accuracy: 0.7052 - val_loss: 0.7884 - val_categorical_accuracy: 0.6857 - val_accuracy: 0.6857\n",
      "Epoch 24/10000\n",
      "186/186 [==============================] - 2s 11ms/step - loss: 0.7496 - categorical_accuracy: 0.7088 - accuracy: 0.7088 - val_loss: 0.7485 - val_categorical_accuracy: 0.7084 - val_accuracy: 0.7084\n",
      "Epoch 25/10000\n",
      "186/186 [==============================] - 2s 11ms/step - loss: 0.7458 - categorical_accuracy: 0.7108 - accuracy: 0.7108 - val_loss: 0.7652 - val_categorical_accuracy: 0.7039 - val_accuracy: 0.7039\n",
      "stop  19:35:21\n",
      "Took =  0:00:54.807206\n"
     ]
    }
   ],
   "source": [
    "base_history = fit_model(base_model)"
   ]
  },
  {
   "cell_type": "code",
   "execution_count": 27,
   "id": "093f1151",
   "metadata": {},
   "outputs": [
    {
     "data": {
      "image/png": "[encoded data removed]",
      "text/plain": [
       "<Figure size 720x360 with 2 Axes>"
      ]
     },
     "metadata": {
      "needs_background": "light"
     },
     "output_type": "display_data"
    }
   ],
   "source": [
    "plot_fit_history(base_history.history['loss'], base_history.history['val_loss'],\n",
    "                    base_history.history['categorical_accuracy'], base_history.history['val_categorical_accuracy'])"
   ]
  },
  {
   "cell_type": "code",
   "execution_count": 28,
   "id": "1865a35c",
   "metadata": {},
   "outputs": [],
   "source": [
    "(test_y, pred_y) = predict_model(base_model)"
   ]
  },
  {
   "cell_type": "code",
   "execution_count": 29,
   "id": "9f975c7a",
   "metadata": {},
   "outputs": [
    {
     "name": "stdout",
     "output_type": "stream",
     "text": [
      "Accuracy score:  0.6935290024669492\n",
      "F1 score:  0.5804058705168477\n",
      "              precision    recall  f1-score   support\n",
      "\n",
      "           0       0.69      0.52      0.59     12488\n",
      "           1       0.57      0.86      0.68     15841\n",
      "           2       0.81      0.90      0.85     25261\n",
      "           3       0.59      0.12      0.19      9646\n",
      "\n",
      "    accuracy                           0.69     63236\n",
      "   macro avg       0.67      0.60      0.58     63236\n",
      "weighted avg       0.69      0.69      0.66     63236\n",
      "\n"
     ]
    }
   ],
   "source": [
    "show_stats('Baseline', test_y, pred_y)"
   ]
  },
  {
   "cell_type": "markdown",
   "id": "4f34209d",
   "metadata": {},
   "source": [
    "Model seems to be doing alright. Trying some regularization to see if the performance can be improved"
   ]
  },
  {
   "cell_type": "code",
   "execution_count": 30,
   "id": "9e84c779",
   "metadata": {},
   "outputs": [],
   "source": [
    "reg_lambda = 0.001\n",
    "\n",
    "reg_model = keras.Sequential([\n",
    "    keras.layers.Flatten(input_shape=INPUT_DIM),\n",
    "    keras.layers.Dense(HIDDEN_LAYER_DIM, activation='relu', kernel_regularizer=keras.regularizers.l2(reg_lambda)),\n",
    "    keras.layers.Dense(OUTPUT_CLASSES, activation='relu')\n",
    "])"
   ]
  },
  {
   "cell_type": "code",
   "execution_count": 31,
   "id": "21070cc6",
   "metadata": {},
   "outputs": [],
   "source": [
    "compile_model(reg_model)"
   ]
  },
  {
   "cell_type": "code",
   "execution_count": 32,
   "id": "bfcf057e",
   "metadata": {},
   "outputs": [
    {
     "name": "stdout",
     "output_type": "stream",
     "text": [
      "Model: \"sequential_1\"\n",
      "_________________________________________________________________\n",
      "Layer (type)                 Output Shape              Param #   \n",
      "=================================================================\n",
      "flatten_1 (Flatten)          (None, 2187)              0         \n",
      "_________________________________________________________________\n",
      "dense_2 (Dense)              (None, 256)               560128    \n",
      "_________________________________________________________________\n",
      "dense_3 (Dense)              (None, 4)                 1028      \n",
      "=================================================================\n",
      "Total params: 561,156\n",
      "Trainable params: 561,156\n",
      "Non-trainable params: 0\n",
      "_________________________________________________________________\n"
     ]
    }
   ],
   "source": [
    "reg_model.summary()"
   ]
  },
  {
   "cell_type": "code",
   "execution_count": 33,
   "id": "8b8065bd",
   "metadata": {
    "scrolled": true
   },
   "outputs": [
    {
     "name": "stdout",
     "output_type": "stream",
     "text": [
      "start  19:36:37\n",
      "Epoch 1/10000\n",
      "186/186 [==============================] - 3s 13ms/step - loss: 1.8441 - categorical_accuracy: 0.1937 - accuracy: 0.1937 - val_loss: 1.8414 - val_categorical_accuracy: 0.1930 - val_accuracy: 0.1930\n",
      "Epoch 2/10000\n",
      "186/186 [==============================] - 2s 12ms/step - loss: 1.8397 - categorical_accuracy: 0.1878 - accuracy: 0.1878 - val_loss: 1.8380 - val_categorical_accuracy: 0.1930 - val_accuracy: 0.1930\n",
      "Epoch 3/10000\n",
      "186/186 [==============================] - 2s 12ms/step - loss: 1.8363 - categorical_accuracy: 0.1878 - accuracy: 0.1878 - val_loss: 1.8346 - val_categorical_accuracy: 0.1930 - val_accuracy: 0.1930\n",
      "Epoch 4/10000\n",
      "186/186 [==============================] - 2s 12ms/step - loss: 1.8330 - categorical_accuracy: 0.1878 - accuracy: 0.1878 - val_loss: 1.8313 - val_categorical_accuracy: 0.1930 - val_accuracy: 0.1930\n",
      "Epoch 5/10000\n",
      "186/186 [==============================] - 2s 12ms/step - loss: 1.8297 - categorical_accuracy: 0.1878 - accuracy: 0.1878 - val_loss: 1.8280 - val_categorical_accuracy: 0.1930 - val_accuracy: 0.1930\n",
      "Epoch 6/10000\n",
      "186/186 [==============================] - 2s 13ms/step - loss: 1.8264 - categorical_accuracy: 0.1878 - accuracy: 0.1878 - val_loss: 1.8247 - val_categorical_accuracy: 0.1930 - val_accuracy: 0.1930\n",
      "Epoch 7/10000\n",
      "186/186 [==============================] - 2s 13ms/step - loss: 1.8231 - categorical_accuracy: 0.1878 - accuracy: 0.1878 - val_loss: 1.8215 - val_categorical_accuracy: 0.1930 - val_accuracy: 0.1930\n",
      "Epoch 8/10000\n",
      "186/186 [==============================] - 2s 12ms/step - loss: 1.8199 - categorical_accuracy: 0.1878 - accuracy: 0.1878 - val_loss: 1.8183 - val_categorical_accuracy: 0.1930 - val_accuracy: 0.1930\n",
      "Epoch 9/10000\n",
      "186/186 [==============================] - 2s 12ms/step - loss: 1.8167 - categorical_accuracy: 0.1878 - accuracy: 0.1878 - val_loss: 1.8151 - val_categorical_accuracy: 0.1930 - val_accuracy: 0.1930\n",
      "Epoch 10/10000\n",
      "186/186 [==============================] - 2s 13ms/step - loss: 1.8135 - categorical_accuracy: 0.1878 - accuracy: 0.1878 - val_loss: 1.8119 - val_categorical_accuracy: 0.1930 - val_accuracy: 0.1930\n",
      "Epoch 11/10000\n",
      "186/186 [==============================] - 2s 13ms/step - loss: 1.8103 - categorical_accuracy: 0.1878 - accuracy: 0.1878 - val_loss: 1.8087 - val_categorical_accuracy: 0.1930 - val_accuracy: 0.1930\n",
      "stop  19:37:03\n",
      "Took =  0:00:26.442356\n"
     ]
    }
   ],
   "source": [
    "reg_history = fit_model(reg_model)"
   ]
  },
  {
   "cell_type": "code",
   "execution_count": 34,
   "id": "91a8e82b",
   "metadata": {},
   "outputs": [
    {
     "data": {
      "image/png": "[encoded data removed]",
      "text/plain": [
       "<Figure size 720x360 with 2 Axes>"
      ]
     },
     "metadata": {
      "needs_background": "light"
     },
     "output_type": "display_data"
    }
   ],
   "source": [
    "plot_fit_history(reg_history.history['loss'], reg_history.history['val_loss'],\n",
    "                    reg_history.history['categorical_accuracy'], reg_history.history['val_categorical_accuracy'])"
   ]
  },
  {
   "cell_type": "code",
   "execution_count": 35,
   "id": "e842d7df",
   "metadata": {},
   "outputs": [],
   "source": [
    "(test_y, pred_y) = predict_model(reg_model)"
   ]
  },
  {
   "cell_type": "code",
   "execution_count": 36,
   "id": "6de04fc8",
   "metadata": {},
   "outputs": [
    {
     "name": "stdout",
     "output_type": "stream",
     "text": [
      "Accuracy score:  0.19749493927125505\n",
      "F1 score:  0.08246170100369783\n",
      "              precision    recall  f1-score   support\n",
      "\n",
      "           0       0.20      1.00      0.33     12488\n",
      "           1       0.00      0.00      0.00     15836\n",
      "           2       0.00      0.00      0.00     25260\n",
      "           3       0.00      0.00      0.00      9648\n",
      "\n",
      "    accuracy                           0.20     63232\n",
      "   macro avg       0.05      0.25      0.08     63232\n",
      "weighted avg       0.04      0.20      0.07     63232\n",
      "\n"
     ]
    }
   ],
   "source": [
    "show_stats('Baseline Reg', test_y, pred_y)"
   ]
  },
  {
   "cell_type": "code",
   "execution_count": 37,
   "id": "45dcece1",
   "metadata": {},
   "outputs": [
    {
     "data": {
      "image/png": "[encoded data removed]",
      "text/plain": [
       "<Figure size 576x432 with 2 Axes>"
      ]
     },
     "metadata": {
      "needs_background": "light"
     },
     "output_type": "display_data"
    }
   ],
   "source": [
    "plot_confusion_matrix(test_y, pred_y)"
   ]
  },
  {
   "cell_type": "markdown",
   "id": "0744eb76",
   "metadata": {},
   "source": [
    "We can clearly see from the above that performance was horrible. The baseline model won't be enough in the long run, even with regularization. Therefore, we explore other more complicated models"
   ]
  },
  {
   "cell_type": "markdown",
   "id": "5535d4c7",
   "metadata": {},
   "source": [
    "## Base VGG model"
   ]
  },
  {
   "cell_type": "code",
   "execution_count": 38,
   "id": "80136304",
   "metadata": {},
   "outputs": [],
   "source": [
    "VGG_model = keras.Sequential([\n",
    "    #VGG block 1\n",
    "    keras.layers.Conv2D(32, (3, 3), activation='relu', padding='same', input_shape=INPUT_DIM),\n",
    "    keras.layers.Conv2D(32, (3, 3), activation='relu', padding='same'),\n",
    "    keras.layers.MaxPooling2D((2, 2)),\n",
    "    \n",
    "    #VGG block 2\n",
    "    keras.layers.Conv2D(64, (3, 3), activation='relu', padding='same'),\n",
    "    keras.layers.Conv2D(64, (3, 3), activation='relu', padding='same'),\n",
    "    keras.layers.MaxPooling2D((2, 2)),\n",
    "    \n",
    "    #VGG block 3\n",
    "    keras.layers.Conv2D(128, (3, 3), activation='relu', padding='same'),\n",
    "    keras.layers.Conv2D(128, (3, 3), activation='relu', padding='same'),\n",
    "    keras.layers.MaxPooling2D((2, 2)),\n",
    "    \n",
    "    keras.layers.Flatten(),\n",
    "    \n",
    "#     keras.layers.Dense(128, activation='relu', kernel_regularizer=keras.regularizers.l2(reg_lambda)),\n",
    "#     keras.layers.Dense(OUTPUT_CLASSES, activation='relu', kernel_regularizer=keras.regularizers.l2(reg_lambda))\n",
    "    keras.layers.Dense(128, activation='relu'),\n",
    "    keras.layers.Dense(OUTPUT_CLASSES, activation='relu')\n",
    "])"
   ]
  },
  {
   "cell_type": "code",
   "execution_count": 39,
   "id": "8a212785",
   "metadata": {},
   "outputs": [],
   "source": [
    "compile_model(VGG_model)"
   ]
  },
  {
   "cell_type": "code",
   "execution_count": 40,
   "id": "c1573f0d",
   "metadata": {},
   "outputs": [
    {
     "name": "stdout",
     "output_type": "stream",
     "text": [
      "Model: \"sequential_2\"\n",
      "_________________________________________________________________\n",
      "Layer (type)                 Output Shape              Param #   \n",
      "=================================================================\n",
      "conv2d (Conv2D)              (None, 27, 27, 32)        896       \n",
      "_________________________________________________________________\n",
      "conv2d_1 (Conv2D)            (None, 27, 27, 32)        9248      \n",
      "_________________________________________________________________\n",
      "max_pooling2d (MaxPooling2D) (None, 13, 13, 32)        0         \n",
      "_________________________________________________________________\n",
      "conv2d_2 (Conv2D)            (None, 13, 13, 64)        18496     \n",
      "_________________________________________________________________\n",
      "conv2d_3 (Conv2D)            (None, 13, 13, 64)        36928     \n",
      "_________________________________________________________________\n",
      "max_pooling2d_1 (MaxPooling2 (None, 6, 6, 64)          0         \n",
      "_________________________________________________________________\n",
      "conv2d_4 (Conv2D)            (None, 6, 6, 128)         73856     \n",
      "_________________________________________________________________\n",
      "conv2d_5 (Conv2D)            (None, 6, 6, 128)         147584    \n",
      "_________________________________________________________________\n",
      "max_pooling2d_2 (MaxPooling2 (None, 3, 3, 128)         0         \n",
      "_________________________________________________________________\n",
      "flatten_2 (Flatten)          (None, 1152)              0         \n",
      "_________________________________________________________________\n",
      "dense_4 (Dense)              (None, 128)               147584    \n",
      "_________________________________________________________________\n",
      "dense_5 (Dense)              (None, 4)                 516       \n",
      "=================================================================\n",
      "Total params: 435,108\n",
      "Trainable params: 435,108\n",
      "Non-trainable params: 0\n",
      "_________________________________________________________________\n"
     ]
    }
   ],
   "source": [
    "VGG_model.summary()"
   ]
  },
  {
   "cell_type": "code",
   "execution_count": 41,
   "id": "1dac5bee",
   "metadata": {},
   "outputs": [
    {
     "name": "stdout",
     "output_type": "stream",
     "text": [
      "start  19:38:22\n",
      "Epoch 1/10000\n",
      "186/186 [==============================] - 15s 80ms/step - loss: 1.3863 - categorical_accuracy: 0.1881 - accuracy: 0.1881 - val_loss: 1.3863 - val_categorical_accuracy: 0.1935 - val_accuracy: 0.1935\n",
      "Epoch 2/10000\n",
      "186/186 [==============================] - 15s 81ms/step - loss: 1.3863 - categorical_accuracy: 0.1932 - accuracy: 0.1932 - val_loss: 1.3863 - val_categorical_accuracy: 0.2021 - val_accuracy: 0.2021\n",
      "Epoch 3/10000\n",
      "186/186 [==============================] - 17s 90ms/step - loss: 1.3857 - categorical_accuracy: 0.2361 - accuracy: 0.2361 - val_loss: 1.3844 - val_categorical_accuracy: 0.2567 - val_accuracy: 0.2567\n",
      "Epoch 4/10000\n",
      "186/186 [==============================] - 17s 89ms/step - loss: 1.3586 - categorical_accuracy: 0.3360 - accuracy: 0.3360 - val_loss: 1.3098 - val_categorical_accuracy: 0.4093 - val_accuracy: 0.4093\n",
      "Epoch 5/10000\n",
      "186/186 [==============================] - 16s 88ms/step - loss: 1.2922 - categorical_accuracy: 0.4196 - accuracy: 0.4196 - val_loss: 1.2758 - val_categorical_accuracy: 0.4093 - val_accuracy: 0.4093\n",
      "Epoch 6/10000\n",
      "186/186 [==============================] - 17s 93ms/step - loss: 1.2593 - categorical_accuracy: 0.4499 - accuracy: 0.4499 - val_loss: 1.1785 - val_categorical_accuracy: 0.4841 - val_accuracy: 0.4841\n",
      "Epoch 7/10000\n",
      "186/186 [==============================] - 18s 96ms/step - loss: 1.2112 - categorical_accuracy: 0.4740 - accuracy: 0.4740 - val_loss: 1.2944 - val_categorical_accuracy: 0.5088 - val_accuracy: 0.5088\n",
      "Epoch 8/10000\n",
      "186/186 [==============================] - 17s 89ms/step - loss: 1.1463 - categorical_accuracy: 0.5232 - accuracy: 0.5232 - val_loss: 1.1165 - val_categorical_accuracy: 0.5387 - val_accuracy: 0.5387\n",
      "Epoch 9/10000\n",
      "186/186 [==============================] - 17s 89ms/step - loss: 1.0650 - categorical_accuracy: 0.5742 - accuracy: 0.5742 - val_loss: 1.0074 - val_categorical_accuracy: 0.6296 - val_accuracy: 0.6296\n",
      "Epoch 10/10000\n",
      "186/186 [==============================] - 16s 87ms/step - loss: 0.9822 - categorical_accuracy: 0.6197 - accuracy: 0.6197 - val_loss: 0.9678 - val_categorical_accuracy: 0.6195 - val_accuracy: 0.6195\n",
      "Epoch 11/10000\n",
      "186/186 [==============================] - 17s 91ms/step - loss: 0.9395 - categorical_accuracy: 0.6411 - accuracy: 0.6411 - val_loss: 0.8515 - val_categorical_accuracy: 0.6968 - val_accuracy: 0.6968\n",
      "Epoch 12/10000\n",
      "186/186 [==============================] - 16s 87ms/step - loss: 0.9230 - categorical_accuracy: 0.6498 - accuracy: 0.6498 - val_loss: 0.8432 - val_categorical_accuracy: 0.6867 - val_accuracy: 0.6867\n",
      "Epoch 13/10000\n",
      "186/186 [==============================] - 16s 87ms/step - loss: 0.8960 - categorical_accuracy: 0.6582 - accuracy: 0.6582 - val_loss: 0.8465 - val_categorical_accuracy: 0.6806 - val_accuracy: 0.6806\n",
      "Epoch 14/10000\n",
      "186/186 [==============================] - 16s 87ms/step - loss: 0.8762 - categorical_accuracy: 0.6690 - accuracy: 0.6690 - val_loss: 0.8092 - val_categorical_accuracy: 0.7014 - val_accuracy: 0.7014\n",
      "Epoch 15/10000\n",
      "186/186 [==============================] - 17s 90ms/step - loss: 0.8748 - categorical_accuracy: 0.6721 - accuracy: 0.6721 - val_loss: 1.1082 - val_categorical_accuracy: 0.5452 - val_accuracy: 0.5452\n",
      "Epoch 16/10000\n",
      "186/186 [==============================] - 16s 86ms/step - loss: 0.8520 - categorical_accuracy: 0.6801 - accuracy: 0.6801 - val_loss: 0.8170 - val_categorical_accuracy: 0.6902 - val_accuracy: 0.6902\n",
      "Epoch 17/10000\n",
      "186/186 [==============================] - 16s 86ms/step - loss: 0.8321 - categorical_accuracy: 0.6842 - accuracy: 0.6842 - val_loss: 0.7960 - val_categorical_accuracy: 0.7094 - val_accuracy: 0.7094\n",
      "Epoch 18/10000\n",
      "186/186 [==============================] - 16s 87ms/step - loss: 0.8371 - categorical_accuracy: 0.6840 - accuracy: 0.6840 - val_loss: 0.7917 - val_categorical_accuracy: 0.7100 - val_accuracy: 0.7100\n",
      "Epoch 19/10000\n",
      "186/186 [==============================] - 17s 90ms/step - loss: 0.8010 - categorical_accuracy: 0.7009 - accuracy: 0.7009 - val_loss: 0.7990 - val_categorical_accuracy: 0.7054 - val_accuracy: 0.7054\n",
      "Epoch 20/10000\n",
      "186/186 [==============================] - 16s 87ms/step - loss: 0.8081 - categorical_accuracy: 0.6948 - accuracy: 0.6948 - val_loss: 0.8277 - val_categorical_accuracy: 0.6958 - val_accuracy: 0.6958\n",
      "Epoch 21/10000\n",
      "186/186 [==============================] - 16s 87ms/step - loss: 0.7893 - categorical_accuracy: 0.7056 - accuracy: 0.7056 - val_loss: 1.0010 - val_categorical_accuracy: 0.5983 - val_accuracy: 0.5983\n",
      "Epoch 22/10000\n",
      "186/186 [==============================] - 16s 88ms/step - loss: 0.7813 - categorical_accuracy: 0.7098 - accuracy: 0.7098 - val_loss: 0.7825 - val_categorical_accuracy: 0.7094 - val_accuracy: 0.7094\n",
      "Epoch 23/10000\n",
      "186/186 [==============================] - 17s 92ms/step - loss: 0.7717 - categorical_accuracy: 0.7091 - accuracy: 0.7091 - val_loss: 0.7604 - val_categorical_accuracy: 0.7231 - val_accuracy: 0.7231\n",
      "Epoch 24/10000\n",
      "186/186 [==============================] - 16s 87ms/step - loss: 0.7662 - categorical_accuracy: 0.7192 - accuracy: 0.7192 - val_loss: 0.8048 - val_categorical_accuracy: 0.7014 - val_accuracy: 0.7014\n",
      "Epoch 25/10000\n",
      "186/186 [==============================] - 16s 87ms/step - loss: 0.7577 - categorical_accuracy: 0.7185 - accuracy: 0.7185 - val_loss: 0.7736 - val_categorical_accuracy: 0.7140 - val_accuracy: 0.7140\n",
      "Epoch 26/10000\n",
      "186/186 [==============================] - 15s 80ms/step - loss: 0.7490 - categorical_accuracy: 0.7196 - accuracy: 0.7196 - val_loss: 0.7625 - val_categorical_accuracy: 0.7196 - val_accuracy: 0.7196\n",
      "Epoch 27/10000\n",
      "186/186 [==============================] - 17s 90ms/step - loss: 0.7360 - categorical_accuracy: 0.7260 - accuracy: 0.7260 - val_loss: 0.7482 - val_categorical_accuracy: 0.7196 - val_accuracy: 0.7196\n",
      "Epoch 28/10000\n",
      "186/186 [==============================] - 16s 88ms/step - loss: 0.7235 - categorical_accuracy: 0.7351 - accuracy: 0.7351 - val_loss: 0.7820 - val_categorical_accuracy: 0.7064 - val_accuracy: 0.7064\n",
      "Epoch 29/10000\n",
      "186/186 [==============================] - 16s 87ms/step - loss: 0.7159 - categorical_accuracy: 0.7324 - accuracy: 0.7324 - val_loss: 0.8010 - val_categorical_accuracy: 0.7079 - val_accuracy: 0.7079\n",
      "Epoch 30/10000\n",
      "186/186 [==============================] - 16s 87ms/step - loss: 0.7053 - categorical_accuracy: 0.7342 - accuracy: 0.7342 - val_loss: 0.7593 - val_categorical_accuracy: 0.7191 - val_accuracy: 0.7191\n",
      "Epoch 31/10000\n",
      "186/186 [==============================] - 17s 89ms/step - loss: 0.6977 - categorical_accuracy: 0.7386 - accuracy: 0.7386 - val_loss: 0.8622 - val_categorical_accuracy: 0.6756 - val_accuracy: 0.6756\n",
      "Epoch 32/10000\n",
      "186/186 [==============================] - 16s 88ms/step - loss: 0.7041 - categorical_accuracy: 0.7364 - accuracy: 0.7364 - val_loss: 0.7569 - val_categorical_accuracy: 0.7211 - val_accuracy: 0.7211\n",
      "Epoch 33/10000\n",
      "186/186 [==============================] - 16s 87ms/step - loss: 0.6806 - categorical_accuracy: 0.7445 - accuracy: 0.7445 - val_loss: 0.7950 - val_categorical_accuracy: 0.7115 - val_accuracy: 0.7115\n",
      "stop  19:47:27\n",
      "Took =  0:09:04.310150\n"
     ]
    }
   ],
   "source": [
    "VGG_history = fit_model(VGG_model)"
   ]
  },
  {
   "cell_type": "code",
   "execution_count": 42,
   "id": "103b3084",
   "metadata": {},
   "outputs": [
    {
     "data": {
      "image/png": "[encoded data removed]",
      "text/plain": [
       "<Figure size 720x360 with 2 Axes>"
      ]
     },
     "metadata": {
      "needs_background": "light"
     },
     "output_type": "display_data"
    }
   ],
   "source": [
    "plot_fit_history(VGG_history.history['loss'], VGG_history.history['val_loss'],\n",
    "                    VGG_history.history['categorical_accuracy'], VGG_history.history['val_categorical_accuracy'])"
   ]
  },
  {
   "cell_type": "markdown",
   "id": "458cbdbf",
   "metadata": {},
   "source": [
    " Model seems to be overfitting. There are a couple of things we can do here. We have gone with removing 1 VGG block as well as add a dropout layer"
   ]
  },
  {
   "cell_type": "code",
   "execution_count": 43,
   "id": "f5945664",
   "metadata": {},
   "outputs": [],
   "source": [
    "(test_y, pred_y) = predict_model(VGG_model)"
   ]
  },
  {
   "cell_type": "code",
   "execution_count": 44,
   "id": "b650ded6",
   "metadata": {},
   "outputs": [
    {
     "name": "stdout",
     "output_type": "stream",
     "text": [
      "Accuracy score:  0.6978744939271255\n",
      "F1 score:  0.5407023103719888\n",
      "              precision    recall  f1-score   support\n",
      "\n",
      "           0       0.66      0.54      0.60     12483\n",
      "           1       0.60      0.89      0.71     15842\n",
      "           2       0.79      0.92      0.85     25257\n",
      "           3       0.00      0.00      0.00      9650\n",
      "\n",
      "    accuracy                           0.70     63232\n",
      "   macro avg       0.51      0.59      0.54     63232\n",
      "weighted avg       0.60      0.70      0.64     63232\n",
      "\n"
     ]
    }
   ],
   "source": [
    "show_stats('VGG', test_y, pred_y)"
   ]
  },
  {
   "cell_type": "code",
   "execution_count": 45,
   "id": "b82c7686",
   "metadata": {},
   "outputs": [
    {
     "data": {
      "image/png": "[encoded data removed]",
      "text/plain": [
       "<Figure size 576x432 with 2 Axes>"
      ]
     },
     "metadata": {
      "needs_background": "light"
     },
     "output_type": "display_data"
    }
   ],
   "source": [
    "plot_confusion_matrix(test_y, pred_y)"
   ]
  },
  {
   "cell_type": "markdown",
   "id": "b112f044",
   "metadata": {},
   "source": [
    "# VGG 2 model with Dropout"
   ]
  },
  {
   "cell_type": "code",
   "execution_count": 46,
   "id": "7ec52e84",
   "metadata": {},
   "outputs": [],
   "source": [
    "VGG2_model = keras.Sequential([\n",
    "    #VGG block 1\n",
    "    keras.layers.Conv2D(32, (3, 3), activation='relu', padding='same', input_shape=INPUT_DIM),\n",
    "    keras.layers.Conv2D(32, (3, 3), activation='relu', padding='same'),\n",
    "    keras.layers.MaxPooling2D((2, 2)),\n",
    "    \n",
    "    #VGG block 2\n",
    "    keras.layers.Conv2D(64, (3, 3), activation='relu', padding='same'),\n",
    "    keras.layers.Conv2D(64, (3, 3), activation='relu', padding='same'),\n",
    "    keras.layers.MaxPooling2D((2, 2)),\n",
    "    \n",
    "    keras.layers.Flatten(),\n",
    "    \n",
    "    keras.layers.Dense(128, activation='relu', kernel_regularizer=keras.regularizers.l2(reg_lambda)),\n",
    "    keras.layers.Dropout(.2),\n",
    "    keras.layers.Dense(OUTPUT_CLASSES, activation='relu')\n",
    "])"
   ]
  },
  {
   "cell_type": "code",
   "execution_count": 47,
   "id": "2a76d5d4",
   "metadata": {},
   "outputs": [],
   "source": [
    "compile_model(VGG2_model)"
   ]
  },
  {
   "cell_type": "code",
   "execution_count": 48,
   "id": "f0496e4b",
   "metadata": {},
   "outputs": [
    {
     "name": "stdout",
     "output_type": "stream",
     "text": [
      "Model: \"sequential_3\"\n",
      "_________________________________________________________________\n",
      "Layer (type)                 Output Shape              Param #   \n",
      "=================================================================\n",
      "conv2d_6 (Conv2D)            (None, 27, 27, 32)        896       \n",
      "_________________________________________________________________\n",
      "conv2d_7 (Conv2D)            (None, 27, 27, 32)        9248      \n",
      "_________________________________________________________________\n",
      "max_pooling2d_3 (MaxPooling2 (None, 13, 13, 32)        0         \n",
      "_________________________________________________________________\n",
      "conv2d_8 (Conv2D)            (None, 13, 13, 64)        18496     \n",
      "_________________________________________________________________\n",
      "conv2d_9 (Conv2D)            (None, 13, 13, 64)        36928     \n",
      "_________________________________________________________________\n",
      "max_pooling2d_4 (MaxPooling2 (None, 6, 6, 64)          0         \n",
      "_________________________________________________________________\n",
      "flatten_3 (Flatten)          (None, 2304)              0         \n",
      "_________________________________________________________________\n",
      "dense_6 (Dense)              (None, 128)               295040    \n",
      "_________________________________________________________________\n",
      "dropout (Dropout)            (None, 128)               0         \n",
      "_________________________________________________________________\n",
      "dense_7 (Dense)              (None, 4)                 516       \n",
      "=================================================================\n",
      "Total params: 361,124\n",
      "Trainable params: 361,124\n",
      "Non-trainable params: 0\n",
      "_________________________________________________________________\n"
     ]
    }
   ],
   "source": [
    "VGG2_model.summary()"
   ]
  },
  {
   "cell_type": "code",
   "execution_count": 49,
   "id": "2feb9c8a",
   "metadata": {},
   "outputs": [
    {
     "name": "stdout",
     "output_type": "stream",
     "text": [
      "start  19:49:19\n",
      "Epoch 1/10000\n",
      "186/186 [==============================] - 12s 65ms/step - loss: 1.5591 - categorical_accuracy: 0.4090 - accuracy: 0.4090 - val_loss: 1.5147 - val_categorical_accuracy: 0.4093 - val_accuracy: 0.4093\n",
      "Epoch 2/10000\n",
      "186/186 [==============================] - 13s 69ms/step - loss: 1.4851 - categorical_accuracy: 0.4553 - accuracy: 0.4553 - val_loss: 1.3999 - val_categorical_accuracy: 0.5316 - val_accuracy: 0.5316\n",
      "Epoch 3/10000\n",
      "186/186 [==============================] - 14s 74ms/step - loss: 1.4031 - categorical_accuracy: 0.5129 - accuracy: 0.5129 - val_loss: 1.4397 - val_categorical_accuracy: 0.4841 - val_accuracy: 0.4841\n",
      "Epoch 4/10000\n",
      "186/186 [==============================] - 13s 71ms/step - loss: 1.3031 - categorical_accuracy: 0.5744 - accuracy: 0.5744 - val_loss: 1.1978 - val_categorical_accuracy: 0.6473 - val_accuracy: 0.6473\n",
      "Epoch 5/10000\n",
      "186/186 [==============================] - 13s 71ms/step - loss: 1.2212 - categorical_accuracy: 0.6200 - accuracy: 0.6200 - val_loss: 1.1342 - val_categorical_accuracy: 0.6761 - val_accuracy: 0.6761\n",
      "Epoch 6/10000\n",
      "186/186 [==============================] - 13s 71ms/step - loss: 1.1656 - categorical_accuracy: 0.6362 - accuracy: 0.6362 - val_loss: 1.1278 - val_categorical_accuracy: 0.6382 - val_accuracy: 0.6382\n",
      "Epoch 7/10000\n",
      "186/186 [==============================] - 13s 71ms/step - loss: 1.1424 - categorical_accuracy: 0.6434 - accuracy: 0.6434 - val_loss: 1.0638 - val_categorical_accuracy: 0.6776 - val_accuracy: 0.6776\n",
      "Epoch 8/10000\n",
      "186/186 [==============================] - 14s 74ms/step - loss: 1.0981 - categorical_accuracy: 0.6604 - accuracy: 0.6604 - val_loss: 1.0175 - val_categorical_accuracy: 0.6943 - val_accuracy: 0.6943\n",
      "Epoch 9/10000\n",
      "186/186 [==============================] - 13s 71ms/step - loss: 1.0787 - categorical_accuracy: 0.6641 - accuracy: 0.6641 - val_loss: 1.0140 - val_categorical_accuracy: 0.6923 - val_accuracy: 0.6923\n",
      "Epoch 10/10000\n",
      "186/186 [==============================] - 13s 71ms/step - loss: 1.0622 - categorical_accuracy: 0.6742 - accuracy: 0.6742 - val_loss: 0.9886 - val_categorical_accuracy: 0.7019 - val_accuracy: 0.7019\n",
      "Epoch 11/10000\n",
      "186/186 [==============================] - 13s 72ms/step - loss: 1.0428 - categorical_accuracy: 0.6749 - accuracy: 0.6749 - val_loss: 0.9839 - val_categorical_accuracy: 0.7089 - val_accuracy: 0.7089\n",
      "Epoch 12/10000\n",
      "186/186 [==============================] - 14s 75ms/step - loss: 1.0229 - categorical_accuracy: 0.6879 - accuracy: 0.6879 - val_loss: 1.0356 - val_categorical_accuracy: 0.6872 - val_accuracy: 0.6872\n",
      "Epoch 13/10000\n",
      "186/186 [==============================] - 13s 72ms/step - loss: 1.0112 - categorical_accuracy: 0.6926 - accuracy: 0.6926 - val_loss: 0.9796 - val_categorical_accuracy: 0.7084 - val_accuracy: 0.7084\n",
      "Epoch 14/10000\n",
      "186/186 [==============================] - 13s 72ms/step - loss: 0.9867 - categorical_accuracy: 0.6970 - accuracy: 0.6970 - val_loss: 0.9600 - val_categorical_accuracy: 0.7125 - val_accuracy: 0.7125\n",
      "Epoch 15/10000\n",
      "186/186 [==============================] - 13s 73ms/step - loss: 0.9847 - categorical_accuracy: 0.6982 - accuracy: 0.6982 - val_loss: 0.9384 - val_categorical_accuracy: 0.7110 - val_accuracy: 0.7110\n",
      "Epoch 16/10000\n",
      "186/186 [==============================] - 13s 72ms/step - loss: 0.9699 - categorical_accuracy: 0.7037 - accuracy: 0.7037 - val_loss: 0.9613 - val_categorical_accuracy: 0.7054 - val_accuracy: 0.7054\n",
      "Epoch 17/10000\n",
      "186/186 [==============================] - 14s 76ms/step - loss: 0.9424 - categorical_accuracy: 0.7076 - accuracy: 0.7076 - val_loss: 0.9581 - val_categorical_accuracy: 0.7226 - val_accuracy: 0.7226\n",
      "Epoch 18/10000\n",
      "186/186 [==============================] - 14s 73ms/step - loss: 0.9480 - categorical_accuracy: 0.7172 - accuracy: 0.7172 - val_loss: 0.9302 - val_categorical_accuracy: 0.7332 - val_accuracy: 0.7332\n",
      "Epoch 19/10000\n",
      "186/186 [==============================] - 14s 73ms/step - loss: 0.9314 - categorical_accuracy: 0.7184 - accuracy: 0.7184 - val_loss: 1.1947 - val_categorical_accuracy: 0.6195 - val_accuracy: 0.6195\n",
      "Epoch 20/10000\n",
      "186/186 [==============================] - 13s 72ms/step - loss: 0.9228 - categorical_accuracy: 0.7226 - accuracy: 0.7226 - val_loss: 0.9064 - val_categorical_accuracy: 0.7180 - val_accuracy: 0.7180\n",
      "Epoch 21/10000\n",
      "186/186 [==============================] - 13s 72ms/step - loss: 0.9216 - categorical_accuracy: 0.7194 - accuracy: 0.7194 - val_loss: 0.9253 - val_categorical_accuracy: 0.7276 - val_accuracy: 0.7276\n",
      "Epoch 22/10000\n",
      "186/186 [==============================] - 14s 75ms/step - loss: 0.9097 - categorical_accuracy: 0.7263 - accuracy: 0.7263 - val_loss: 1.0806 - val_categorical_accuracy: 0.6443 - val_accuracy: 0.6443\n",
      "Epoch 23/10000\n",
      "186/186 [==============================] - 13s 72ms/step - loss: 0.8903 - categorical_accuracy: 0.7335 - accuracy: 0.7335 - val_loss: 0.8699 - val_categorical_accuracy: 0.7484 - val_accuracy: 0.7484\n",
      "Epoch 24/10000\n",
      "186/186 [==============================] - 13s 72ms/step - loss: 0.8775 - categorical_accuracy: 0.7393 - accuracy: 0.7393 - val_loss: 0.8881 - val_categorical_accuracy: 0.7428 - val_accuracy: 0.7428\n",
      "Epoch 25/10000\n",
      "186/186 [==============================] - 14s 73ms/step - loss: 0.8651 - categorical_accuracy: 0.7448 - accuracy: 0.7448 - val_loss: 0.8882 - val_categorical_accuracy: 0.7443 - val_accuracy: 0.7443\n",
      "Epoch 26/10000\n",
      "186/186 [==============================] - 14s 75ms/step - loss: 0.8658 - categorical_accuracy: 0.7450 - accuracy: 0.7450 - val_loss: 0.8750 - val_categorical_accuracy: 0.7372 - val_accuracy: 0.7372\n",
      "Epoch 27/10000\n",
      "186/186 [==============================] - 13s 72ms/step - loss: 0.8383 - categorical_accuracy: 0.7539 - accuracy: 0.7539 - val_loss: 0.8837 - val_categorical_accuracy: 0.7403 - val_accuracy: 0.7403\n",
      "Epoch 28/10000\n",
      "186/186 [==============================] - 13s 72ms/step - loss: 0.8415 - categorical_accuracy: 0.7521 - accuracy: 0.7521 - val_loss: 0.8861 - val_categorical_accuracy: 0.7347 - val_accuracy: 0.7347\n",
      "Epoch 29/10000\n",
      "186/186 [==============================] - 13s 72ms/step - loss: 0.8150 - categorical_accuracy: 0.7655 - accuracy: 0.7655 - val_loss: 0.8727 - val_categorical_accuracy: 0.7383 - val_accuracy: 0.7383\n",
      "Epoch 30/10000\n",
      "186/186 [==============================] - 13s 72ms/step - loss: 0.8103 - categorical_accuracy: 0.7694 - accuracy: 0.7694 - val_loss: 0.8723 - val_categorical_accuracy: 0.7448 - val_accuracy: 0.7448\n",
      "Epoch 31/10000\n",
      "186/186 [==============================] - 14s 76ms/step - loss: 0.7934 - categorical_accuracy: 0.7684 - accuracy: 0.7684 - val_loss: 0.8563 - val_categorical_accuracy: 0.7479 - val_accuracy: 0.7479\n",
      "Epoch 32/10000\n",
      "186/186 [==============================] - 13s 72ms/step - loss: 0.7896 - categorical_accuracy: 0.7756 - accuracy: 0.7756 - val_loss: 0.8662 - val_categorical_accuracy: 0.7529 - val_accuracy: 0.7529\n",
      "Epoch 33/10000\n",
      "186/186 [==============================] - 13s 72ms/step - loss: 0.7657 - categorical_accuracy: 0.7783 - accuracy: 0.7783 - val_loss: 0.8543 - val_categorical_accuracy: 0.7453 - val_accuracy: 0.7453\n",
      "Epoch 34/10000\n",
      "186/186 [==============================] - 13s 72ms/step - loss: 0.7571 - categorical_accuracy: 0.7852 - accuracy: 0.7852 - val_loss: 0.8541 - val_categorical_accuracy: 0.7539 - val_accuracy: 0.7539\n",
      "Epoch 35/10000\n",
      "186/186 [==============================] - 13s 72ms/step - loss: 0.7398 - categorical_accuracy: 0.7925 - accuracy: 0.7925 - val_loss: 0.9814 - val_categorical_accuracy: 0.7069 - val_accuracy: 0.7069\n",
      "Epoch 36/10000\n",
      "186/186 [==============================] - 14s 73ms/step - loss: 0.7313 - categorical_accuracy: 0.7898 - accuracy: 0.7898 - val_loss: 0.8595 - val_categorical_accuracy: 0.7509 - val_accuracy: 0.7509\n",
      "Epoch 37/10000\n",
      "186/186 [==============================] - 13s 70ms/step - loss: 0.7098 - categorical_accuracy: 0.8056 - accuracy: 0.8056 - val_loss: 0.8767 - val_categorical_accuracy: 0.7393 - val_accuracy: 0.7393\n",
      "Epoch 38/10000\n",
      "186/186 [==============================] - 13s 71ms/step - loss: 0.7080 - categorical_accuracy: 0.7997 - accuracy: 0.7997 - val_loss: 0.8839 - val_categorical_accuracy: 0.7453 - val_accuracy: 0.7453\n",
      "Epoch 39/10000\n"
     ]
    },
    {
     "name": "stdout",
     "output_type": "stream",
     "text": [
      "186/186 [==============================] - 13s 70ms/step - loss: 0.6893 - categorical_accuracy: 0.8070 - accuracy: 0.8070 - val_loss: 0.8657 - val_categorical_accuracy: 0.7479 - val_accuracy: 0.7479\n",
      "Epoch 40/10000\n",
      "186/186 [==============================] - 13s 70ms/step - loss: 0.6840 - categorical_accuracy: 0.8082 - accuracy: 0.8082 - val_loss: 0.8988 - val_categorical_accuracy: 0.7367 - val_accuracy: 0.7367\n",
      "Epoch 41/10000\n",
      "186/186 [==============================] - 14s 73ms/step - loss: 0.6629 - categorical_accuracy: 0.8228 - accuracy: 0.8228 - val_loss: 0.8711 - val_categorical_accuracy: 0.7383 - val_accuracy: 0.7383\n",
      "Epoch 42/10000\n",
      "186/186 [==============================] - 13s 70ms/step - loss: 0.6509 - categorical_accuracy: 0.8260 - accuracy: 0.8260 - val_loss: 0.8971 - val_categorical_accuracy: 0.7367 - val_accuracy: 0.7367\n",
      "Epoch 43/10000\n",
      "186/186 [==============================] - 13s 70ms/step - loss: 0.6308 - categorical_accuracy: 0.8282 - accuracy: 0.8282 - val_loss: 0.9521 - val_categorical_accuracy: 0.7206 - val_accuracy: 0.7206\n",
      "Epoch 44/10000\n",
      "186/186 [==============================] - 13s 70ms/step - loss: 0.6169 - categorical_accuracy: 0.8390 - accuracy: 0.8390 - val_loss: 0.9340 - val_categorical_accuracy: 0.7125 - val_accuracy: 0.7125\n",
      "stop  19:59:09\n",
      "Took =  0:09:50.116746\n"
     ]
    }
   ],
   "source": [
    "VGG2_history = fit_model(VGG2_model)"
   ]
  },
  {
   "cell_type": "code",
   "execution_count": 50,
   "id": "d932ec55",
   "metadata": {},
   "outputs": [
    {
     "data": {
      "image/png": "[encoded data removed]",
      "text/plain": [
       "<Figure size 720x360 with 2 Axes>"
      ]
     },
     "metadata": {
      "needs_background": "light"
     },
     "output_type": "display_data"
    }
   ],
   "source": [
    "plot_fit_history(VGG_history.history['loss'], VGG_history.history['val_loss'],\n",
    "                    VGG_history.history['categorical_accuracy'], VGG_history.history['val_categorical_accuracy'])"
   ]
  },
  {
   "cell_type": "markdown",
   "id": "3bc24e2f",
   "metadata": {},
   "source": [
    "Performance seems slightly better, but definately can be imporved upon. As of right now, overfitting seems to be the main problem."
   ]
  },
  {
   "cell_type": "code",
   "execution_count": 51,
   "id": "359bdebd",
   "metadata": {},
   "outputs": [],
   "source": [
    "(test_y, pred_y) = predict_model(VGG_model)"
   ]
  },
  {
   "cell_type": "code",
   "execution_count": 52,
   "id": "72da915d",
   "metadata": {},
   "outputs": [
    {
     "name": "stdout",
     "output_type": "stream",
     "text": [
      "Accuracy score:  0.6981275303643725\n",
      "F1 score:  0.5408538830465599\n",
      "              precision    recall  f1-score   support\n",
      "\n",
      "           0       0.66      0.54      0.60     12487\n",
      "           1       0.60      0.89      0.71     15833\n",
      "           2       0.79      0.92      0.85     25269\n",
      "           3       0.00      0.00      0.00      9643\n",
      "\n",
      "    accuracy                           0.70     63232\n",
      "   macro avg       0.51      0.59      0.54     63232\n",
      "weighted avg       0.60      0.70      0.64     63232\n",
      "\n"
     ]
    }
   ],
   "source": [
    "show_stats('VGG 2', test_y, pred_y)"
   ]
  },
  {
   "cell_type": "code",
   "execution_count": 53,
   "id": "65ea1ea7",
   "metadata": {},
   "outputs": [
    {
     "data": {
      "image/png": "[encoded data removed]",
      "text/plain": [
       "<Figure size 576x432 with 2 Axes>"
      ]
     },
     "metadata": {
      "needs_background": "light"
     },
     "output_type": "display_data"
    }
   ],
   "source": [
    "plot_confusion_matrix(test_y, pred_y)"
   ]
  },
  {
   "cell_type": "markdown",
   "id": "04c2c0dd",
   "metadata": {},
   "source": [
    "There is almost no difference between the two models. There overfitting issue still seems to persist, despite regularization and dropout. Therefore, we will running the model with data augumentation"
   ]
  },
  {
   "cell_type": "markdown",
   "id": "3a3be4fb",
   "metadata": {},
   "source": [
    "## VGG with Data Augumentation"
   ]
  },
  {
   "cell_type": "code",
   "execution_count": 54,
   "id": "324ad4ec",
   "metadata": {},
   "outputs": [
    {
     "name": "stdout",
     "output_type": "stream",
     "text": [
      "Found 5937 validated image filenames.\n",
      "Found 1979 validated image filenames.\n"
     ]
    }
   ],
   "source": [
    "aug_train_datagen = ImageDataGenerator(rescale=1./255, data_format='channels_last',\n",
    "                                   rotation_range=90, width_shift_range=0.2,\n",
    "                                   height_shift_range=0.2, brightness_range=[0.5,1.5])\n",
    "aug_val_datagen = ImageDataGenerator(rescale=1./255, data_format='channels_last')\n",
    "\n",
    "batch_size = 32\n",
    "columns = ['cellType_0', 'cellType_1', 'cellType_2', 'cellType_3']\n",
    "\n",
    "aug_train_generator = aug_train_datagen.flow_from_dataframe(\n",
    "    dataframe = train_data,\n",
    "    directory = './patch_images',\n",
    "    x_col = 'ImageName',\n",
    "    y_col = columns,\n",
    "    target_size = (27, 27),\n",
    "    batch_size = batch_size,\n",
    "    class_mode = 'raw',\n",
    "    shuffle=False\n",
    ")\n",
    "\n",
    "aug_validation_generator = aug_val_datagen.flow_from_dataframe(\n",
    "    dataframe=val_data,\n",
    "    directory = './patch_images',\n",
    "    x_col = 'ImageName',\n",
    "    y_col = columns,\n",
    "    target_size = (27, 27),\n",
    "    batch_size = batch_size,\n",
    "    class_mode = 'raw',\n",
    "    shuffle = False\n",
    ")"
   ]
  },
  {
   "cell_type": "code",
   "execution_count": 55,
   "id": "bcfe703f",
   "metadata": {},
   "outputs": [],
   "source": [
    "compile_model(VGG2_model)"
   ]
  },
  {
   "cell_type": "code",
   "execution_count": 56,
   "id": "37bc088b",
   "metadata": {},
   "outputs": [
    {
     "name": "stdout",
     "output_type": "stream",
     "text": [
      "start  20:01:07\n",
      "Epoch 1/10000\n",
      "186/186 [==============================] - 12s 64ms/step - loss: 0.6055 - categorical_accuracy: 0.8413 - accuracy: 0.8413 - val_loss: 0.9071 - val_categorical_accuracy: 0.7271 - val_accuracy: 0.7271\n",
      "Epoch 2/10000\n",
      "186/186 [==============================] - 13s 69ms/step - loss: 0.5982 - categorical_accuracy: 0.8461 - accuracy: 0.8461 - val_loss: 0.9103 - val_categorical_accuracy: 0.7337 - val_accuracy: 0.7337\n",
      "Epoch 3/10000\n",
      "186/186 [==============================] - 13s 70ms/step - loss: 0.5712 - categorical_accuracy: 0.8565 - accuracy: 0.8565 - val_loss: 0.9080 - val_categorical_accuracy: 0.7347 - val_accuracy: 0.7347\n",
      "Epoch 4/10000\n",
      "186/186 [==============================] - 13s 70ms/step - loss: 0.5563 - categorical_accuracy: 0.8637 - accuracy: 0.8637 - val_loss: 0.9585 - val_categorical_accuracy: 0.7211 - val_accuracy: 0.7211\n",
      "Epoch 5/10000\n",
      "186/186 [==============================] - 13s 70ms/step - loss: 0.5595 - categorical_accuracy: 0.8604 - accuracy: 0.8604 - val_loss: 0.9505 - val_categorical_accuracy: 0.7231 - val_accuracy: 0.7231\n",
      "Epoch 6/10000\n",
      "186/186 [==============================] - 13s 70ms/step - loss: 0.5158 - categorical_accuracy: 0.8777 - accuracy: 0.8777 - val_loss: 0.9548 - val_categorical_accuracy: 0.7196 - val_accuracy: 0.7196\n",
      "Epoch 7/10000\n",
      "186/186 [==============================] - 14s 73ms/step - loss: 0.5070 - categorical_accuracy: 0.8787 - accuracy: 0.8787 - val_loss: 0.9669 - val_categorical_accuracy: 0.7377 - val_accuracy: 0.7377\n",
      "Epoch 8/10000\n",
      "186/186 [==============================] - 13s 70ms/step - loss: 0.4948 - categorical_accuracy: 0.8850 - accuracy: 0.8850 - val_loss: 0.9985 - val_categorical_accuracy: 0.7352 - val_accuracy: 0.7352\n",
      "Epoch 9/10000\n",
      "186/186 [==============================] - 13s 70ms/step - loss: 0.4977 - categorical_accuracy: 0.8802 - accuracy: 0.8802 - val_loss: 1.0020 - val_categorical_accuracy: 0.7383 - val_accuracy: 0.7383\n",
      "Epoch 10/10000\n",
      "186/186 [==============================] - 13s 70ms/step - loss: 0.4811 - categorical_accuracy: 0.8917 - accuracy: 0.8917 - val_loss: 0.9997 - val_categorical_accuracy: 0.7185 - val_accuracy: 0.7185\n",
      "Epoch 11/10000\n",
      "186/186 [==============================] - 13s 70ms/step - loss: 0.4439 - categorical_accuracy: 0.9028 - accuracy: 0.9028 - val_loss: 1.0684 - val_categorical_accuracy: 0.7271 - val_accuracy: 0.7271\n",
      "Epoch 12/10000\n",
      "186/186 [==============================] - 14s 73ms/step - loss: 0.4491 - categorical_accuracy: 0.8981 - accuracy: 0.8981 - val_loss: 1.0361 - val_categorical_accuracy: 0.7362 - val_accuracy: 0.7362\n",
      "Epoch 13/10000\n",
      "186/186 [==============================] - 13s 70ms/step - loss: 0.4230 - categorical_accuracy: 0.9099 - accuracy: 0.9099 - val_loss: 1.1811 - val_categorical_accuracy: 0.6958 - val_accuracy: 0.6958\n",
      "Epoch 14/10000\n",
      "186/186 [==============================] - 13s 70ms/step - loss: 0.4163 - categorical_accuracy: 0.9139 - accuracy: 0.9139 - val_loss: 1.0720 - val_categorical_accuracy: 0.7266 - val_accuracy: 0.7266\n",
      "Epoch 15/10000\n",
      "186/186 [==============================] - 13s 71ms/step - loss: 0.4073 - categorical_accuracy: 0.9188 - accuracy: 0.9188 - val_loss: 1.0701 - val_categorical_accuracy: 0.7246 - val_accuracy: 0.7246\n",
      "Epoch 16/10000\n",
      "186/186 [==============================] - 13s 70ms/step - loss: 0.4027 - categorical_accuracy: 0.9146 - accuracy: 0.9146 - val_loss: 1.0906 - val_categorical_accuracy: 0.7120 - val_accuracy: 0.7120\n",
      "Epoch 17/10000\n",
      "186/186 [==============================] - 14s 73ms/step - loss: 0.3760 - categorical_accuracy: 0.9269 - accuracy: 0.9269 - val_loss: 1.1041 - val_categorical_accuracy: 0.7216 - val_accuracy: 0.7216\n",
      "Epoch 18/10000\n",
      "186/186 [==============================] - 12s 64ms/step - loss: 0.3971 - categorical_accuracy: 0.9215 - accuracy: 0.9215 - val_loss: 1.1148 - val_categorical_accuracy: 0.7281 - val_accuracy: 0.7281\n",
      "Epoch 19/10000\n",
      "186/186 [==============================] - 13s 68ms/step - loss: 0.3510 - categorical_accuracy: 0.9400 - accuracy: 0.9400 - val_loss: 1.2194 - val_categorical_accuracy: 0.7276 - val_accuracy: 0.7276\n",
      "stop  20:05:21\n",
      "Took =  0:04:14.611835\n"
     ]
    }
   ],
   "source": [
    "VGG2_aug = fit_model(VGG2_model, aug_train_generator, aug_validation_generator)"
   ]
  },
  {
   "cell_type": "code",
   "execution_count": 57,
   "id": "58521651",
   "metadata": {},
   "outputs": [
    {
     "data": {
      "image/png": "[encoded data removed]",
      "text/plain": [
       "<Figure size 720x360 with 2 Axes>"
      ]
     },
     "metadata": {
      "needs_background": "light"
     },
     "output_type": "display_data"
    }
   ],
   "source": [
    "plot_fit_history(VGG2_history.history['loss'], VGG2_history.history['val_loss'],\n",
    "                    VGG2_history.history['categorical_accuracy'], VGG2_history.history['val_categorical_accuracy'])"
   ]
  },
  {
   "cell_type": "code",
   "execution_count": 59,
   "id": "bcb2934c",
   "metadata": {},
   "outputs": [],
   "source": [
    "(test_y, pred_y) = predict_model(VGG2_model)"
   ]
  },
  {
   "cell_type": "code",
   "execution_count": 60,
   "id": "3c6425d4",
   "metadata": {},
   "outputs": [
    {
     "name": "stdout",
     "output_type": "stream",
     "text": [
      "Accuracy score:  0.7233362854251012\n",
      "F1 score:  0.6430470952103307\n",
      "              precision    recall  f1-score   support\n",
      "\n",
      "           0       0.64      0.66      0.65     12487\n",
      "           1       0.69      0.75      0.72     15835\n",
      "           2       0.84      0.91      0.87     25265\n",
      "           3       0.46      0.26      0.33      9645\n",
      "\n",
      "    accuracy                           0.72     63232\n",
      "   macro avg       0.66      0.65      0.64     63232\n",
      "weighted avg       0.70      0.72      0.71     63232\n",
      "\n"
     ]
    }
   ],
   "source": [
    "show_stats('VGG 2 Aug', test_y, pred_y)"
   ]
  },
  {
   "cell_type": "markdown",
   "id": "5747387b",
   "metadata": {},
   "source": [
    "- There is certainly an improvement in the overall accuracy\n",
    "- However the loss and accuracy fluctuates a lot more, despite having a constant learning rate"
   ]
  },
  {
   "cell_type": "markdown",
   "id": "09465721",
   "metadata": {},
   "source": [
    "# SC-CNN (Spatially Constrained CNN)"
   ]
  },
  {
   "cell_type": "markdown",
   "id": "344e54d9",
   "metadata": {},
   "source": [
    "Here we make an attempt at applying the SC-CNN that was used in the linked paper, and which also gave a good performance in part 1"
   ]
  },
  {
   "cell_type": "code",
   "execution_count": 61,
   "id": "8aeb73de",
   "metadata": {},
   "outputs": [],
   "source": [
    "SCCNN_model = tf.keras.Sequential([\n",
    "    # Convolution\n",
    "    tf.keras.layers.Conv2D(24, (4, 4), activation='relu', padding='same', input_shape=INPUT_DIM),\n",
    "    tf.keras.layers.MaxPooling2D((2, 2)),\n",
    "    tf.keras.layers.Conv2D(36, (3, 3), activation='relu', padding='same'),\n",
    "    tf.keras.layers.MaxPooling2D((2, 2)),\n",
    "    \n",
    "    tf.keras.layers.Flatten(),\n",
    "    \n",
    "    tf.keras.layers.Dense(512, activation='softmax'),\n",
    "    tf.keras.layers.Dense(OUTPUT_CLASSES, activation='relu')\n",
    "    \n",
    "])"
   ]
  },
  {
   "cell_type": "code",
   "execution_count": 62,
   "id": "8c30bfeb",
   "metadata": {},
   "outputs": [],
   "source": [
    "compile_model(SCCNN_model)"
   ]
  },
  {
   "cell_type": "code",
   "execution_count": 63,
   "id": "b9a7e8d5",
   "metadata": {},
   "outputs": [
    {
     "name": "stdout",
     "output_type": "stream",
     "text": [
      "Model: \"sequential_4\"\n",
      "_________________________________________________________________\n",
      "Layer (type)                 Output Shape              Param #   \n",
      "=================================================================\n",
      "conv2d_10 (Conv2D)           (None, 27, 27, 24)        1176      \n",
      "_________________________________________________________________\n",
      "max_pooling2d_5 (MaxPooling2 (None, 13, 13, 24)        0         \n",
      "_________________________________________________________________\n",
      "conv2d_11 (Conv2D)           (None, 13, 13, 36)        7812      \n",
      "_________________________________________________________________\n",
      "max_pooling2d_6 (MaxPooling2 (None, 6, 6, 36)          0         \n",
      "_________________________________________________________________\n",
      "flatten_4 (Flatten)          (None, 1296)              0         \n",
      "_________________________________________________________________\n",
      "dense_8 (Dense)              (None, 512)               664064    \n",
      "_________________________________________________________________\n",
      "dense_9 (Dense)              (None, 4)                 2052      \n",
      "=================================================================\n",
      "Total params: 675,104\n",
      "Trainable params: 675,104\n",
      "Non-trainable params: 0\n",
      "_________________________________________________________________\n"
     ]
    }
   ],
   "source": [
    "SCCNN_model.summary()"
   ]
  },
  {
   "cell_type": "code",
   "execution_count": 64,
   "id": "e989a1f0",
   "metadata": {},
   "outputs": [
    {
     "name": "stdout",
     "output_type": "stream",
     "text": [
      "start  20:50:19\n",
      "Epoch 1/10000\n",
      "186/186 [==============================] - 4s 22ms/step - loss: 1.3655 - categorical_accuracy: 0.4174 - accuracy: 0.4174 - val_loss: 1.3513 - val_categorical_accuracy: 0.4093 - val_accuracy: 0.4093\n",
      "Epoch 2/10000\n",
      "186/186 [==============================] - 4s 21ms/step - loss: 1.3397 - categorical_accuracy: 0.4174 - accuracy: 0.4174 - val_loss: 1.3358 - val_categorical_accuracy: 0.4093 - val_accuracy: 0.4093\n",
      "Epoch 3/10000\n",
      "186/186 [==============================] - 4s 21ms/step - loss: 1.3281 - categorical_accuracy: 0.4174 - accuracy: 0.4174 - val_loss: 1.3294 - val_categorical_accuracy: 0.4093 - val_accuracy: 0.4093\n",
      "Epoch 4/10000\n",
      "186/186 [==============================] - 4s 21ms/step - loss: 1.3231 - categorical_accuracy: 0.4174 - accuracy: 0.4174 - val_loss: 1.3268 - val_categorical_accuracy: 0.4093 - val_accuracy: 0.4093\n",
      "Epoch 5/10000\n",
      "186/186 [==============================] - 4s 21ms/step - loss: 1.3210 - categorical_accuracy: 0.4174 - accuracy: 0.4174 - val_loss: 1.3259 - val_categorical_accuracy: 0.4093 - val_accuracy: 0.4093\n",
      "Epoch 6/10000\n",
      "186/186 [==============================] - 4s 23ms/step - loss: 1.3201 - categorical_accuracy: 0.4174 - accuracy: 0.4174 - val_loss: 1.3256 - val_categorical_accuracy: 0.4093 - val_accuracy: 0.4093\n",
      "Epoch 7/10000\n",
      "186/186 [==============================] - 4s 21ms/step - loss: 1.3198 - categorical_accuracy: 0.4174 - accuracy: 0.4174 - val_loss: 1.3256 - val_categorical_accuracy: 0.4093 - val_accuracy: 0.4093\n",
      "Epoch 8/10000\n",
      "186/186 [==============================] - 4s 22ms/step - loss: 1.3196 - categorical_accuracy: 0.4174 - accuracy: 0.4174 - val_loss: 1.3256 - val_categorical_accuracy: 0.4093 - val_accuracy: 0.4093\n",
      "Epoch 9/10000\n",
      "186/186 [==============================] - 4s 22ms/step - loss: 1.3196 - categorical_accuracy: 0.4174 - accuracy: 0.4174 - val_loss: 1.3256 - val_categorical_accuracy: 0.4093 - val_accuracy: 0.4093\n",
      "Epoch 10/10000\n",
      "186/186 [==============================] - 4s 22ms/step - loss: 1.3195 - categorical_accuracy: 0.4174 - accuracy: 0.4174 - val_loss: 1.3256 - val_categorical_accuracy: 0.4093 - val_accuracy: 0.4093\n",
      "Epoch 11/10000\n",
      "186/186 [==============================] - 4s 22ms/step - loss: 1.3195 - categorical_accuracy: 0.4174 - accuracy: 0.4174 - val_loss: 1.3257 - val_categorical_accuracy: 0.4093 - val_accuracy: 0.4093\n",
      "stop  20:51:04\n",
      "Took =  0:00:45.087887\n"
     ]
    }
   ],
   "source": [
    "SCCNN_history = fit_model(SCCNN_model)"
   ]
  },
  {
   "cell_type": "code",
   "execution_count": 65,
   "id": "31d8f6dc",
   "metadata": {},
   "outputs": [
    {
     "data": {
      "image/png": "[encoded data removed]",
      "text/plain": [
       "<Figure size 720x360 with 2 Axes>"
      ]
     },
     "metadata": {
      "needs_background": "light"
     },
     "output_type": "display_data"
    }
   ],
   "source": [
    "plot_fit_history(SCCNN_history.history['loss'], SCCNN_history.history['val_loss'],\n",
    "                    SCCNN_history.history['categorical_accuracy'], SCCNN_history.history['val_categorical_accuracy'])"
   ]
  },
  {
   "cell_type": "code",
   "execution_count": 66,
   "id": "78b8b9f9",
   "metadata": {},
   "outputs": [],
   "source": [
    "(test_y, pred_y) = predict_model(SCCNN_model)"
   ]
  },
  {
   "cell_type": "code",
   "execution_count": 67,
   "id": "cb1ccc55",
   "metadata": {},
   "outputs": [
    {
     "name": "stdout",
     "output_type": "stream",
     "text": [
      "Accuracy score:  0.3995287196356275\n",
      "F1 score:  0.14273687778970562\n",
      "              precision    recall  f1-score   support\n",
      "\n",
      "           0       0.00      0.00      0.00     12481\n",
      "           1       0.00      0.00      0.00     15849\n",
      "           2       0.40      1.00      0.57     25263\n",
      "           3       0.00      0.00      0.00      9639\n",
      "\n",
      "    accuracy                           0.40     63232\n",
      "   macro avg       0.10      0.25      0.14     63232\n",
      "weighted avg       0.16      0.40      0.23     63232\n",
      "\n"
     ]
    }
   ],
   "source": [
    "show_stats('SC-CNN', test_y, pred_y)"
   ]
  },
  {
   "cell_type": "markdown",
   "id": "72b0f25d",
   "metadata": {},
   "source": [
    "# Model comparison and ultimate judgment"
   ]
  },
  {
   "cell_type": "code",
   "execution_count": 68,
   "id": "3e876a89",
   "metadata": {},
   "outputs": [
    {
     "name": "stdout",
     "output_type": "stream",
     "text": [
      "Name                   Accuracy   F1-score  Precision     Recall\n",
      "Baseline                   0.69       0.58       0.57       0.86\n",
      "Baseline Reg               0.20       0.08       0.00       0.00\n",
      "VGG                        0.70       0.54       0.60       0.89\n",
      "VGG 2                      0.70       0.54       0.60       0.89\n",
      "VGG 2 Aug                  0.72       0.64       0.69       0.75\n",
      "SC-CNN                     0.40       0.14       0.00       0.00\n"
     ]
    }
   ],
   "source": [
    "#Print out Summary Results\n",
    "print(\"{:20} {:>10} {:>10} {:>10} {:>10}\".format('Name', 'Accuracy', 'F1-score', 'Precision', 'Recall'))\n",
    "for mr in modelResults:\n",
    "    print(\"{:20} {:10.2f} {:10.2f} {:10.2f} {:10.2f}\".format(mr.name, mr.accuracy, mr.f1, mr.precision, mr.recall))"
   ]
  },
  {
   "cell_type": "markdown",
   "id": "8843a83c",
   "metadata": {},
   "source": [
    "- All the models that we have developed so far had issues with the loss and accuracy fluctuations\n",
    "- The baseline model already seemed to do pretty well without the need for more layers"
   ]
  }
 ],
 "metadata": {
  "kernelspec": {
   "display_name": "Python 3",
   "language": "python",
   "name": "python3"
  },
  "language_info": {
   "codemirror_mode": {
    "name": "ipython",
    "version": 3
   },
   "file_extension": ".py",
   "mimetype": "text/x-python",
   "name": "python",
   "nbconvert_exporter": "python",
   "pygments_lexer": "ipython3",
   "version": "3.9.4"
  }
 },
 "nbformat": 4,
 "nbformat_minor": 5
}
