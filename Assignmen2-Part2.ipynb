{
 "cells": [
  {
   "cell_type": "markdown",
   "id": "4a2fa6f6",
   "metadata": {},
   "source": [
    "# CellType classification model "
   ]
  },
  {
   "cell_type": "code",
   "execution_count": 1,
   "id": "2781e72c",
   "metadata": {},
   "outputs": [],
   "source": [
    "# import zipfile\n",
    "# with zipfile.ZipFile('./Image_classification_data.zip', 'r') as zip_ref:\n",
    "#     zip_ref.extractall('./')"
   ]
  },
  {
   "cell_type": "markdown",
   "id": "47f5243c",
   "metadata": {},
   "source": [
    "Import all the required libraries"
   ]
  },
  {
   "cell_type": "code",
   "execution_count": 2,
   "id": "8237c1f0",
   "metadata": {},
   "outputs": [],
   "source": [
    "import datetime\n",
    "\n",
    "import pandas as pd\n",
    "import numpy as np\n",
    "import matplotlib.pyplot as plt\n",
    "import seaborn as sns\n",
    "import tensorflow as tf\n",
    "from tensorflow import keras\n",
    "\n",
    "from tensorflow.keras.callbacks import EarlyStopping\n",
    "from sklearn.model_selection import train_test_split\n",
    "from sklearn.metrics import classification_report\n",
    "from sklearn.metrics import accuracy_score, f1_score, precision_recall_fscore_support"
   ]
  },
  {
   "cell_type": "markdown",
   "id": "17998d54",
   "metadata": {},
   "source": [
    "Load mainData and extraData into dataframes"
   ]
  },
  {
   "cell_type": "code",
   "execution_count": 3,
   "id": "826431af",
   "metadata": {},
   "outputs": [
    {
     "data": {
      "text/html": [
       "<div>\n",
       "<style scoped>\n",
       "    .dataframe tbody tr th:only-of-type {\n",
       "        vertical-align: middle;\n",
       "    }\n",
       "\n",
       "    .dataframe tbody tr th {\n",
       "        vertical-align: top;\n",
       "    }\n",
       "\n",
       "    .dataframe thead th {\n",
       "        text-align: right;\n",
       "    }\n",
       "</style>\n",
       "<table border=\"1\" class=\"dataframe\">\n",
       "  <thead>\n",
       "    <tr style=\"text-align: right;\">\n",
       "      <th></th>\n",
       "      <th>InstanceID</th>\n",
       "      <th>patientID</th>\n",
       "      <th>ImageName</th>\n",
       "      <th>cellTypeName</th>\n",
       "      <th>cellType</th>\n",
       "      <th>isCancerous</th>\n",
       "    </tr>\n",
       "  </thead>\n",
       "  <tbody>\n",
       "    <tr>\n",
       "      <th>0</th>\n",
       "      <td>22405</td>\n",
       "      <td>1</td>\n",
       "      <td>22405.png</td>\n",
       "      <td>fibroblast</td>\n",
       "      <td>0</td>\n",
       "      <td>0</td>\n",
       "    </tr>\n",
       "    <tr>\n",
       "      <th>1</th>\n",
       "      <td>22406</td>\n",
       "      <td>1</td>\n",
       "      <td>22406.png</td>\n",
       "      <td>fibroblast</td>\n",
       "      <td>0</td>\n",
       "      <td>0</td>\n",
       "    </tr>\n",
       "    <tr>\n",
       "      <th>2</th>\n",
       "      <td>22407</td>\n",
       "      <td>1</td>\n",
       "      <td>22407.png</td>\n",
       "      <td>fibroblast</td>\n",
       "      <td>0</td>\n",
       "      <td>0</td>\n",
       "    </tr>\n",
       "    <tr>\n",
       "      <th>3</th>\n",
       "      <td>22408</td>\n",
       "      <td>1</td>\n",
       "      <td>22408.png</td>\n",
       "      <td>fibroblast</td>\n",
       "      <td>0</td>\n",
       "      <td>0</td>\n",
       "    </tr>\n",
       "    <tr>\n",
       "      <th>4</th>\n",
       "      <td>22409</td>\n",
       "      <td>1</td>\n",
       "      <td>22409.png</td>\n",
       "      <td>fibroblast</td>\n",
       "      <td>0</td>\n",
       "      <td>0</td>\n",
       "    </tr>\n",
       "    <tr>\n",
       "      <th>...</th>\n",
       "      <td>...</td>\n",
       "      <td>...</td>\n",
       "      <td>...</td>\n",
       "      <td>...</td>\n",
       "      <td>...</td>\n",
       "      <td>...</td>\n",
       "    </tr>\n",
       "    <tr>\n",
       "      <th>9891</th>\n",
       "      <td>1625</td>\n",
       "      <td>60</td>\n",
       "      <td>1625.png</td>\n",
       "      <td>epithelial</td>\n",
       "      <td>2</td>\n",
       "      <td>1</td>\n",
       "    </tr>\n",
       "    <tr>\n",
       "      <th>9892</th>\n",
       "      <td>1626</td>\n",
       "      <td>60</td>\n",
       "      <td>1626.png</td>\n",
       "      <td>epithelial</td>\n",
       "      <td>2</td>\n",
       "      <td>1</td>\n",
       "    </tr>\n",
       "    <tr>\n",
       "      <th>9893</th>\n",
       "      <td>1627</td>\n",
       "      <td>60</td>\n",
       "      <td>1627.png</td>\n",
       "      <td>epithelial</td>\n",
       "      <td>2</td>\n",
       "      <td>1</td>\n",
       "    </tr>\n",
       "    <tr>\n",
       "      <th>9894</th>\n",
       "      <td>1628</td>\n",
       "      <td>60</td>\n",
       "      <td>1628.png</td>\n",
       "      <td>epithelial</td>\n",
       "      <td>2</td>\n",
       "      <td>1</td>\n",
       "    </tr>\n",
       "    <tr>\n",
       "      <th>9895</th>\n",
       "      <td>1629</td>\n",
       "      <td>60</td>\n",
       "      <td>1629.png</td>\n",
       "      <td>epithelial</td>\n",
       "      <td>2</td>\n",
       "      <td>1</td>\n",
       "    </tr>\n",
       "  </tbody>\n",
       "</table>\n",
       "<p>9896 rows × 6 columns</p>\n",
       "</div>"
      ],
      "text/plain": [
       "      InstanceID  patientID  ImageName cellTypeName  cellType  isCancerous\n",
       "0          22405          1  22405.png   fibroblast         0            0\n",
       "1          22406          1  22406.png   fibroblast         0            0\n",
       "2          22407          1  22407.png   fibroblast         0            0\n",
       "3          22408          1  22408.png   fibroblast         0            0\n",
       "4          22409          1  22409.png   fibroblast         0            0\n",
       "...          ...        ...        ...          ...       ...          ...\n",
       "9891        1625         60   1625.png   epithelial         2            1\n",
       "9892        1626         60   1626.png   epithelial         2            1\n",
       "9893        1627         60   1627.png   epithelial         2            1\n",
       "9894        1628         60   1628.png   epithelial         2            1\n",
       "9895        1629         60   1629.png   epithelial         2            1\n",
       "\n",
       "[9896 rows x 6 columns]"
      ]
     },
     "execution_count": 3,
     "metadata": {},
     "output_type": "execute_result"
    }
   ],
   "source": [
    "mainData = pd.read_csv('./data_labels_mainData.csv')\n",
    "extraData = pd.read_csv('./data_labels_extraData.csv')\n",
    "\n",
    "mainData"
   ]
  },
  {
   "cell_type": "code",
   "execution_count": 4,
   "id": "4a394a2d",
   "metadata": {},
   "outputs": [
    {
     "data": {
      "text/plain": [
       "epithelial      4079\n",
       "inflammatory    2543\n",
       "fibroblast      1888\n",
       "others          1386\n",
       "Name: cellTypeName, dtype: int64"
      ]
     },
     "execution_count": 4,
     "metadata": {},
     "output_type": "execute_result"
    }
   ],
   "source": [
    "mainData.cellTypeName.value_counts()"
   ]
  },
  {
   "cell_type": "markdown",
   "id": "736d3a3c",
   "metadata": {},
   "source": [
    "Check for any null values"
   ]
  },
  {
   "cell_type": "markdown",
   "id": "11d3f048",
   "metadata": {},
   "source": [
    "Check if to see any null values exists"
   ]
  },
  {
   "cell_type": "code",
   "execution_count": 5,
   "id": "00eaa309",
   "metadata": {},
   "outputs": [
    {
     "data": {
      "text/plain": [
       "InstanceID      0\n",
       "patientID       0\n",
       "ImageName       0\n",
       "cellTypeName    0\n",
       "cellType        0\n",
       "isCancerous     0\n",
       "dtype: int64"
      ]
     },
     "execution_count": 5,
     "metadata": {},
     "output_type": "execute_result"
    }
   ],
   "source": [
    "mainData.isnull().sum()"
   ]
  },
  {
   "cell_type": "markdown",
   "id": "d95eff02",
   "metadata": {},
   "source": [
    "We remove the `InstanceID` column to prevent any data leaks and the `isCancerous` column since we are only predicting the cell type"
   ]
  },
  {
   "cell_type": "code",
   "execution_count": 6,
   "id": "f85ab6b2",
   "metadata": {},
   "outputs": [],
   "source": [
    "mainData.drop(['InstanceID'], axis=1,inplace=True)\n",
    "mainData.drop(['isCancerous'], axis=1,inplace=True)"
   ]
  },
  {
   "cell_type": "code",
   "execution_count": 7,
   "id": "8b73452c",
   "metadata": {},
   "outputs": [
    {
     "name": "stdout",
     "output_type": "stream",
     "text": [
      "#### mainData shape ####\n",
      "\n",
      "(9896, 4)\n",
      "\n",
      "#### mainData info ####\n",
      "\n",
      "<class 'pandas.core.frame.DataFrame'>\n",
      "RangeIndex: 9896 entries, 0 to 9895\n",
      "Data columns (total 4 columns):\n",
      " #   Column        Non-Null Count  Dtype \n",
      "---  ------        --------------  ----- \n",
      " 0   patientID     9896 non-null   int64 \n",
      " 1   ImageName     9896 non-null   object\n",
      " 2   cellTypeName  9896 non-null   object\n",
      " 3   cellType      9896 non-null   int64 \n",
      "dtypes: int64(2), object(2)\n",
      "memory usage: 309.4+ KB\n",
      "None\n",
      "\n",
      "#### mainData describe ####\n",
      "\n",
      "         patientID     cellType\n",
      "count  9896.000000  9896.000000\n",
      "mean     29.762025     1.501516\n",
      "std      17.486553     0.954867\n",
      "min       1.000000     0.000000\n",
      "25%      14.000000     1.000000\n",
      "50%      26.000000     2.000000\n",
      "75%      47.000000     2.000000\n",
      "max      60.000000     3.000000\n"
     ]
    }
   ],
   "source": [
    "print(\"#### mainData shape ####\\n\")\n",
    "print(mainData.shape)\n",
    "print(\"\\n#### mainData info ####\\n\")\n",
    "print(mainData.info())\n",
    "print(\"\\n#### mainData describe ####\\n\")\n",
    "print(mainData.describe())"
   ]
  },
  {
   "cell_type": "markdown",
   "id": "cd85dd1b",
   "metadata": {},
   "source": [
    "Create a dictionary with label mapping for future predictions."
   ]
  },
  {
   "cell_type": "code",
   "execution_count": 8,
   "id": "6f0970d6",
   "metadata": {},
   "outputs": [
    {
     "data": {
      "image/png": "[encoded data removed]",
      "text/plain": [
       "<Figure size 1440x1440 with 2 Axes>"
      ]
     },
     "metadata": {
      "needs_background": "light"
     },
     "output_type": "display_data"
    }
   ],
   "source": [
    "plt.figure(figsize=(20,20))\n",
    "plt.subplot(3, 2, 1)\n",
    "plt.hist(mainData['patientID'], facecolor='blue', alpha=0.5)\n",
    "plt.title('patient ID')\n",
    "\n",
    "plt.subplot(3, 2, 2)\n",
    "plt.hist(mainData['cellTypeName'], facecolor='blue', alpha=0.5)\n",
    "plt.title('Cell Types')\n",
    "plt.show()"
   ]
  },
  {
   "cell_type": "code",
   "execution_count": 9,
   "id": "e7a939ce",
   "metadata": {},
   "outputs": [],
   "source": [
    "cellType_map = mainData.set_index('cellType').to_dict()['cellTypeName']"
   ]
  },
  {
   "cell_type": "code",
   "execution_count": 10,
   "id": "6c8140f4",
   "metadata": {},
   "outputs": [],
   "source": [
    "mainData['cellType'] = mainData['cellType'].astype('category')"
   ]
  },
  {
   "cell_type": "markdown",
   "id": "70ac8613",
   "metadata": {},
   "source": [
    "## Train test validation split"
   ]
  },
  {
   "cell_type": "markdown",
   "id": "238be443",
   "metadata": {},
   "source": [
    "While in part 1 the data was split based on the images pertaining to a patient, here we split the dataset without any processing as the goal of the model is the classify the image to a cell type, regardless of its relationship to a patient."
   ]
  },
  {
   "cell_type": "code",
   "execution_count": 11,
   "id": "ad9a4657",
   "metadata": {},
   "outputs": [],
   "source": [
    "train_data, test_data = train_test_split(mainData, test_size=0.2, random_state=42)\n",
    "train_data, val_data = train_test_split(train_data, test_size=0.25, random_state=42)"
   ]
  },
  {
   "cell_type": "code",
   "execution_count": 12,
   "id": "444b41e9",
   "metadata": {},
   "outputs": [
    {
     "name": "stdout",
     "output_type": "stream",
     "text": [
      "Train data : 5937, Val Data: 1979, Test Data: 1980\n"
     ]
    }
   ],
   "source": [
    "print(\"Train data : {}, Val Data: {}, Test Data: {}\".format(train_data.shape[0], val_data.shape[0], test_data.shape[0]))"
   ]
  },
  {
   "cell_type": "code",
   "execution_count": 13,
   "id": "634e0b9f",
   "metadata": {},
   "outputs": [
    {
     "data": {
      "text/plain": [
       "<matplotlib.legend.Legend at 0x7fed51c55130>"
      ]
     },
     "execution_count": 13,
     "metadata": {},
     "output_type": "execute_result"
    },
    {
     "data": {
      "image/png": "[encoded data removed]",
      "text/plain": [
       "<Figure size 720x504 with 1 Axes>"
      ]
     },
     "metadata": {
      "needs_background": "light"
     },
     "output_type": "display_data"
    }
   ],
   "source": [
    "plt.figure(figsize=(10,7))\n",
    "plt.bar(\n",
    "    train_data.cellType.value_counts().index.astype(str), \n",
    "    train_data.cellType.value_counts().values/np.sum(train_data.cellType.value_counts().values), \n",
    "    alpha=0.3, \n",
    "    color='r',\n",
    "    label='Train Data'\n",
    ")\n",
    "plt.bar(\n",
    "    val_data.cellType.value_counts().index.astype(str), \n",
    "    val_data.cellType.value_counts().values/np.sum(val_data.cellType.value_counts().values), \n",
    "    alpha=0.3, \n",
    "    color='b',\n",
    "    label='Val Data'\n",
    ")\n",
    "plt.bar(\n",
    "    test_data.cellType.value_counts().index.astype(str), \n",
    "    test_data.cellType.value_counts().values/np.sum(test_data.cellType.value_counts().values), \n",
    "    alpha=0.3, \n",
    "    color='g',\n",
    "    label='Test Data'\n",
    ")\n",
    "\n",
    "plt.title('Cell Type - Train vs Validation vs Test')\n",
    "plt.xticks(rotation='vertical')\n",
    "plt.legend()"
   ]
  },
  {
   "cell_type": "markdown",
   "id": "3396c718",
   "metadata": {},
   "source": [
    "## One hot encoding the labels"
   ]
  },
  {
   "cell_type": "code",
   "execution_count": 14,
   "id": "7818a81b",
   "metadata": {},
   "outputs": [],
   "source": [
    "from sklearn.preprocessing import OneHotEncoder\n",
    "\n",
    "def one_hot_encode(df, col, col_names = None):\n",
    "    ohe = OneHotEncoder(handle_unknown = 'ignore')\n",
    "    ohe.fit(df[[col]])\n",
    "    \n",
    "    ohe_ = ohe.transform(df[[col]]).toarray()\n",
    "    \n",
    "    if (col_names == None):\n",
    "        col_names = ohe.categories_[0]\n",
    "        \n",
    "        for i in range(len(ohe.categories_[0])):\n",
    "            df[col + '_' + str(col_names[i])] = ohe_[:,i]\n",
    "            \n",
    "        df.drop(col, axis = 1, inplace = True)"
   ]
  },
  {
   "cell_type": "code",
   "execution_count": 15,
   "id": "c1fb5404",
   "metadata": {},
   "outputs": [
    {
     "name": "stderr",
     "output_type": "stream",
     "text": [
      "<ipython-input-14-ba2fe6a3a20f>:13: SettingWithCopyWarning: \n",
      "A value is trying to be set on a copy of a slice from a DataFrame.\n",
      "Try using .loc[row_indexer,col_indexer] = value instead\n",
      "\n",
      "See the caveats in the documentation: https://pandas.pydata.org/pandas-docs/stable/user_guide/indexing.html#returning-a-view-versus-a-copy\n",
      "  df[col + '_' + str(col_names[i])] = ohe_[:,i]\n",
      "/home/magnuscake/miniconda3/envs/tf_cpu/lib/python3.9/site-packages/pandas/core/frame.py:4308: SettingWithCopyWarning: \n",
      "A value is trying to be set on a copy of a slice from a DataFrame\n",
      "\n",
      "See the caveats in the documentation: https://pandas.pydata.org/pandas-docs/stable/user_guide/indexing.html#returning-a-view-versus-a-copy\n",
      "  return super().drop(\n"
     ]
    }
   ],
   "source": [
    "one_hot_encode(train_data, 'cellType')\n",
    "one_hot_encode(val_data, 'cellType')\n",
    "one_hot_encode(test_data, 'cellType')"
   ]
  },
  {
   "cell_type": "markdown",
   "id": "dfee4905",
   "metadata": {},
   "source": [
    "## Image preprocessing"
   ]
  },
  {
   "cell_type": "code",
   "execution_count": 16,
   "id": "56771023",
   "metadata": {},
   "outputs": [
    {
     "name": "stdout",
     "output_type": "stream",
     "text": [
      "Found 5937 validated image filenames.\n",
      "Found 1979 validated image filenames.\n",
      "Found 1980 validated image filenames.\n"
     ]
    }
   ],
   "source": [
    "from tensorflow.keras.preprocessing.image import ImageDataGenerator\n",
    "\n",
    "# Rescale is done here to normalize the pixels in a range of 0-1\n",
    "train_datagen = ImageDataGenerator(rescale=1./255, data_format='channels_last')\n",
    "val_datagen = ImageDataGenerator(rescale=1./255, data_format='channels_last')\n",
    "test_datagen = ImageDataGenerator(rescale=1./255, data_format='channels_last')\n",
    "\n",
    "# This the default batch size\n",
    "batch_size = 32\n",
    "columns = ['cellType_0', 'cellType_1', 'cellType_2', 'cellType_3']\n",
    "\n",
    "train_generator = train_datagen.flow_from_dataframe(\n",
    "    dataframe = train_data,\n",
    "    directory = './patch_images',\n",
    "    x_col = 'ImageName',\n",
    "    y_col = columns,\n",
    "    target_size = (27, 27),\n",
    "    batch_size = batch_size,\n",
    "    class_mode = 'raw',\n",
    "    shuffle=False\n",
    ")\n",
    "\n",
    "validation_generator = val_datagen.flow_from_dataframe(\n",
    "    dataframe = val_data,\n",
    "    directory = './patch_images',\n",
    "    x_col = 'ImageName',\n",
    "    y_col = columns,\n",
    "    target_size = (27, 27),\n",
    "    batch_size = batch_size,\n",
    "    class_mode = 'raw',\n",
    "    shuffle=False\n",
    ")\n",
    "\n",
    "test_generator = test_datagen.flow_from_dataframe(\n",
    "    dataframe = test_data,\n",
    "    directory = './patch_images',\n",
    "    x_col = 'ImageName',\n",
    "    y_col = columns,\n",
    "    target_size = (27, 27),\n",
    "    batch_size = batch_size,\n",
    "    class_mode = 'raw',\n",
    "    shuffle=False\n",
    ")"
   ]
  },
  {
   "cell_type": "markdown",
   "id": "cad8d169",
   "metadata": {},
   "source": [
    "# Utility Functions"
   ]
  },
  {
   "cell_type": "markdown",
   "id": "740ac682",
   "metadata": {},
   "source": [
    "## Plot functions"
   ]
  },
  {
   "cell_type": "code",
   "execution_count": 17,
   "id": "b1aef4c2",
   "metadata": {},
   "outputs": [],
   "source": [
    "# Learning curve diagnostic tool\n",
    "def plot_fit_history(train_loss, val_loss, train_metric, val_metric, metric_name='Accuracy'):\n",
    "    plt.figure(figsize=(10,5))\n",
    "    \n",
    "    plt.subplot(1,2,1)\n",
    "    plt.plot(train_loss, 'r--')\n",
    "    plt.plot(val_loss, 'b--')\n",
    "    plt.xlabel(\"epochs\")\n",
    "    plt.ylabel(\"Loss\")\n",
    "    plt.legend(['train', 'val'], loc='upper left')\n",
    "\n",
    "    plt.subplot(1,2,2)\n",
    "    plt.plot(train_metric, 'r--')\n",
    "    plt.plot(val_metric, 'b--')\n",
    "    plt.xlabel(\"epochs\")\n",
    "    plt.ylabel(metric_name)\n",
    "    plt.legend(['train', 'val'], loc='upper left')\n",
    "\n",
    "    plt.show()"
   ]
  },
  {
   "cell_type": "code",
   "execution_count": 18,
   "id": "c066c87a",
   "metadata": {},
   "outputs": [],
   "source": [
    "# def plot_confusion_matrix(test, pred):\n",
    "#     cm = confusion_matrix(test, pred)\n",
    "#     group_names = ['True Neg','False Pos','False Neg','True Pos']\n",
    "#     group_counts = [\"{0:0.0f}\".format(value) for value in cm.flatten()]\n",
    "#     group_percentages = [\"{0:.2%}\".format(value) for value in cm.flatten()/np.sum(cm)]\n",
    "#     labels = [f\"{v1}\\n{v2}\\n{v3}\" for v1, v2, v3 in zip(group_names, group_counts, group_percentages)]\n",
    "#     labels = np.asarray(labels).reshape(2,2)\n",
    "#     sns.heatmap(cm, annot=True, fmt='', cmap='Blues')\n",
    "\n",
    "def plot_confusion_matrix(test, pred, title='Confusion matrix', cmap=None, normalize=True):\n",
    "    \n",
    "    import itertools\n",
    "    from sklearn.metrics import confusion_matrix\n",
    "\n",
    "    cm = confusion_matrix(test, pred)\n",
    "    target_names = [0, 1, 2, 3]\n",
    "    \n",
    "    accuracy = np.trace(cm) / float(np.sum(cm))\n",
    "    misclass = 1 - accuracy\n",
    "\n",
    "    if cmap is None:\n",
    "        cmap = plt.get_cmap('Blues')\n",
    "\n",
    "    plt.figure(figsize=(8, 6))\n",
    "    plt.imshow(cm, interpolation='nearest', cmap=cmap)\n",
    "    plt.title(title)\n",
    "    plt.colorbar()\n",
    "\n",
    "    if target_names is not None:\n",
    "        tick_marks = np.arange(len(target_names))\n",
    "        plt.xticks(tick_marks, target_names)\n",
    "        plt.yticks(tick_marks, target_names)\n",
    "\n",
    "    if normalize:\n",
    "        cm = cm.astype('float') / cm.sum(axis=1)[:, np.newaxis]\n",
    "\n",
    "\n",
    "    thresh = cm.max() / 1.5 if normalize else cm.max() / 2\n",
    "    for i, j in itertools.product(range(cm.shape[0]), range(cm.shape[1])):\n",
    "        if normalize:\n",
    "            plt.text(j, i, \"{:0.4f}\".format(cm[i, j]),\n",
    "                     horizontalalignment=\"center\",\n",
    "                     color=\"white\" if cm[i, j] > thresh else \"black\")\n",
    "        else:\n",
    "            plt.text(j, i, \"{:,}\".format(cm[i, j]),\n",
    "                     horizontalalignment=\"center\",\n",
    "                     color=\"white\" if cm[i, j] > thresh else \"black\")\n",
    "\n",
    "\n",
    "    plt.tight_layout()\n",
    "    plt.ylabel('True label')\n",
    "    plt.xlabel('Predicted label\\naccuracy={:0.4f}; misclass={:0.4f}'.format(accuracy, misclass))\n",
    "    plt.show()"
   ]
  },
  {
   "cell_type": "markdown",
   "id": "dd114505",
   "metadata": {},
   "source": [
    "## Model development functions"
   ]
  },
  {
   "cell_type": "code",
   "execution_count": 19,
   "id": "e53bb809",
   "metadata": {},
   "outputs": [],
   "source": [
    "def compile_model(model):\n",
    "    sgd = tf.keras.optimizers.SGD(learning_rate=0.01)\n",
    "#     opt = tf.keras.optimizers.Adagrad()\n",
    "    \n",
    "    model.compile(optimizer=sgd,\n",
    "              loss=tf.keras.losses.CategoricalCrossentropy(from_logits=True),\n",
    "              metrics=['categorical_accuracy', 'accuracy'])"
   ]
  },
  {
   "cell_type": "code",
   "execution_count": 20,
   "id": "b6f4afb1",
   "metadata": {},
   "outputs": [],
   "source": [
    "early_stopping_monitor = EarlyStopping(patience=10, monitor='val_categorical_accuracy')\n",
    "\n",
    "def fit_model(model, train_gen=train_generator, val_gen=validation_generator):\n",
    "\n",
    "    print('start ', datetime.datetime.now().strftime(\"%H:%M:%S\"))\n",
    "    now = datetime.datetime.now()\n",
    "\n",
    "    fit_history = model.fit(train_generator, validation_data = validation_generator, \n",
    "                            callbacks=[early_stopping_monitor], epochs=10000, verbose=1)\n",
    "\n",
    "    print('stop ', datetime.datetime.now().strftime(\"%H:%M:%S\"))\n",
    "    print(\"Took = \", datetime.datetime.now() - now)\n",
    "    \n",
    "    return fit_history"
   ]
  },
  {
   "cell_type": "code",
   "execution_count": 21,
   "id": "de603a13",
   "metadata": {},
   "outputs": [],
   "source": [
    "def predict_model(model):\n",
    "    batch_size_ = 1\n",
    "    y_pred = list()\n",
    "    y_test = list()\n",
    "    filenames = test_generator.filenames\n",
    "    N_images = len(filenames)\n",
    "    batches = 0\n",
    "\n",
    "    # iterate through the data generator and predict for each batch\n",
    "    # hold the predictions and labels\n",
    "    for x,y in test_generator:\n",
    "            yp = model.predict(x, verbose=0)\n",
    "            yp = np.argmax(yp, axis = 1)\n",
    "            yt = np.argmax(y, axis = 1)\n",
    "            y_pred = y_pred + yp.tolist()\n",
    "            y_test = y_test + yt.tolist()\n",
    "\n",
    "            batches += 1\n",
    "            if batches >= N_images / batch_size_:\n",
    "                break\n",
    "                \n",
    "    return (y_test, y_pred)"
   ]
  },
  {
   "cell_type": "code",
   "execution_count": 22,
   "id": "f7d0dcb5",
   "metadata": {},
   "outputs": [],
   "source": [
    "class ModelResult:\n",
    "  def __init__(self, name, accuracy, f1, precision, recall):\n",
    "    self.name = name\n",
    "    self.accuracy = accuracy\n",
    "    self.f1 = f1\n",
    "    self.precision = precision\n",
    "    self.recall = recall\n",
    "    \n",
    "modelResults = list()\n",
    "\n",
    "def show_stats(test_name, y_test, y_pred):\n",
    "    accuracy = accuracy_score(test_y, pred_y)\n",
    "    f1 = f1_score(test_y, pred_y, average='macro')\n",
    "    cm = classification_report(test_y, pred_y, zero_division=0)\n",
    "    \n",
    "    prfs = precision_recall_fscore_support(test_y, pred_y, zero_division=0)\n",
    "    detect_precision = prfs[0][1]\n",
    "    detect_recall = prfs[1][1]\n",
    "\n",
    "    mr = ModelResult(test_name, accuracy, f1, detect_precision, detect_recall)\n",
    "    modelResults.append(mr)\n",
    "\n",
    "    print(\"Accuracy score: \", accuracy_score(test_y, pred_y))\n",
    "    print(\"F1 score: \", f1_score(test_y, pred_y, average='macro'))\n",
    "    print(classification_report(test_y, pred_y, zero_division=0))"
   ]
  },
  {
   "cell_type": "markdown",
   "id": "f6ec37a7",
   "metadata": {},
   "source": [
    "# Baseline model"
   ]
  },
  {
   "cell_type": "markdown",
   "id": "8adff495",
   "metadata": {},
   "source": [
    "- Initial baseline NN model\n",
    "- 4 output classes, with OneHotEncoding\n",
    "- Input has 2187 dims (this is small for image recognition)\n",
    "- 1 hidden layer with 256 internal nodes\n",
    "- Loss - Categorical Cross Entropy\n",
    "- Metric - categorical_accuracy"
   ]
  },
  {
   "cell_type": "code",
   "execution_count": 23,
   "id": "fa66b67f",
   "metadata": {},
   "outputs": [],
   "source": [
    "INPUT_DIM = (27, 27, 3)\n",
    "HIDDEN_LAYER_DIM = 256\n",
    "OUTPUT_CLASSES = 4 # Flag for output layer\n",
    "\n",
    "base_model = keras.Sequential([\n",
    "    keras.layers.Flatten(input_shape=INPUT_DIM),\n",
    "    keras.layers.Dense(HIDDEN_LAYER_DIM, activation='relu'),\n",
    "    keras.layers.Dense(OUTPUT_CLASSES)\n",
    "])"
   ]
  },
  {
   "cell_type": "code",
   "execution_count": 24,
   "id": "ffdf59e9",
   "metadata": {},
   "outputs": [
    {
     "name": "stdout",
     "output_type": "stream",
     "text": [
      "Model: \"sequential\"\n",
      "_________________________________________________________________\n",
      "Layer (type)                 Output Shape              Param #   \n",
      "=================================================================\n",
      "flatten (Flatten)            (None, 2187)              0         \n",
      "_________________________________________________________________\n",
      "dense (Dense)                (None, 256)               560128    \n",
      "_________________________________________________________________\n",
      "dense_1 (Dense)              (None, 4)                 1028      \n",
      "=================================================================\n",
      "Total params: 561,156\n",
      "Trainable params: 561,156\n",
      "Non-trainable params: 0\n",
      "_________________________________________________________________\n"
     ]
    }
   ],
   "source": [
    "base_model.summary()"
   ]
  },
  {
   "cell_type": "markdown",
   "id": "739d8da6",
   "metadata": {},
   "source": [
    "Initial the optimizer to use with the learning rate."
   ]
  },
  {
   "cell_type": "code",
   "execution_count": 25,
   "id": "41c1b819",
   "metadata": {},
   "outputs": [],
   "source": [
    "compile_model(base_model)"
   ]
  },
  {
   "cell_type": "code",
   "execution_count": 26,
   "id": "fbabcea4",
   "metadata": {},
   "outputs": [
    {
     "name": "stdout",
     "output_type": "stream",
     "text": [
      "start  09:29:33\n",
      "Epoch 1/10000\n",
      "186/186 [==============================] - 3s 13ms/step - loss: 1.2770 - categorical_accuracy: 0.4543 - accuracy: 0.4543 - val_loss: 1.1433 - val_categorical_accuracy: 0.5073 - val_accuracy: 0.5073\n",
      "Epoch 2/10000\n",
      "186/186 [==============================] - 2s 13ms/step - loss: 1.0733 - categorical_accuracy: 0.5542 - accuracy: 0.5542 - val_loss: 1.2162 - val_categorical_accuracy: 0.4785 - val_accuracy: 0.4785\n",
      "Epoch 3/10000\n",
      "186/186 [==============================] - 2s 12ms/step - loss: 0.9852 - categorical_accuracy: 0.6030 - accuracy: 0.6030 - val_loss: 0.8858 - val_categorical_accuracy: 0.6529 - val_accuracy: 0.6529\n",
      "Epoch 4/10000\n",
      "186/186 [==============================] - 2s 13ms/step - loss: 0.9303 - categorical_accuracy: 0.6328 - accuracy: 0.6328 - val_loss: 0.9687 - val_categorical_accuracy: 0.5821 - val_accuracy: 0.5821\n",
      "Epoch 5/10000\n",
      "186/186 [==============================] - 2s 12ms/step - loss: 0.9213 - categorical_accuracy: 0.6348 - accuracy: 0.6348 - val_loss: 0.8421 - val_categorical_accuracy: 0.6488 - val_accuracy: 0.6488\n",
      "Epoch 6/10000\n",
      "186/186 [==============================] - 2s 12ms/step - loss: 0.8834 - categorical_accuracy: 0.6517 - accuracy: 0.6517 - val_loss: 0.8344 - val_categorical_accuracy: 0.6791 - val_accuracy: 0.6791\n",
      "Epoch 7/10000\n",
      "186/186 [==============================] - 2s 12ms/step - loss: 0.8567 - categorical_accuracy: 0.6588 - accuracy: 0.6588 - val_loss: 0.8823 - val_categorical_accuracy: 0.6453 - val_accuracy: 0.6453\n",
      "Epoch 8/10000\n",
      "186/186 [==============================] - 2s 12ms/step - loss: 0.8378 - categorical_accuracy: 0.6704 - accuracy: 0.6704 - val_loss: 0.8090 - val_categorical_accuracy: 0.6776 - val_accuracy: 0.6776\n",
      "Epoch 9/10000\n",
      "186/186 [==============================] - 2s 12ms/step - loss: 0.8394 - categorical_accuracy: 0.6744 - accuracy: 0.6744 - val_loss: 0.7848 - val_categorical_accuracy: 0.6923 - val_accuracy: 0.6923\n",
      "Epoch 10/10000\n",
      "186/186 [==============================] - 2s 12ms/step - loss: 0.8249 - categorical_accuracy: 0.6751 - accuracy: 0.6751 - val_loss: 0.8021 - val_categorical_accuracy: 0.6822 - val_accuracy: 0.6822\n",
      "Epoch 11/10000\n",
      "186/186 [==============================] - 2s 12ms/step - loss: 0.8188 - categorical_accuracy: 0.6778 - accuracy: 0.6778 - val_loss: 0.8453 - val_categorical_accuracy: 0.6463 - val_accuracy: 0.6463\n",
      "Epoch 12/10000\n",
      "186/186 [==============================] - 2s 12ms/step - loss: 0.8166 - categorical_accuracy: 0.6795 - accuracy: 0.6795 - val_loss: 0.7726 - val_categorical_accuracy: 0.6973 - val_accuracy: 0.6973\n",
      "Epoch 13/10000\n",
      "186/186 [==============================] - 2s 12ms/step - loss: 0.8060 - categorical_accuracy: 0.6845 - accuracy: 0.6845 - val_loss: 0.7789 - val_categorical_accuracy: 0.6882 - val_accuracy: 0.6882\n",
      "Epoch 14/10000\n",
      "186/186 [==============================] - 2s 12ms/step - loss: 0.8022 - categorical_accuracy: 0.6796 - accuracy: 0.6796 - val_loss: 0.7771 - val_categorical_accuracy: 0.6948 - val_accuracy: 0.6948\n",
      "Epoch 15/10000\n",
      "186/186 [==============================] - 2s 12ms/step - loss: 0.7873 - categorical_accuracy: 0.6968 - accuracy: 0.6968 - val_loss: 0.8450 - val_categorical_accuracy: 0.6594 - val_accuracy: 0.6594\n",
      "Epoch 16/10000\n",
      "186/186 [==============================] - 2s 12ms/step - loss: 0.7800 - categorical_accuracy: 0.6961 - accuracy: 0.6961 - val_loss: 0.7706 - val_categorical_accuracy: 0.6968 - val_accuracy: 0.6968\n",
      "Epoch 17/10000\n",
      "186/186 [==============================] - 2s 12ms/step - loss: 0.7753 - categorical_accuracy: 0.7004 - accuracy: 0.7004 - val_loss: 0.7499 - val_categorical_accuracy: 0.7140 - val_accuracy: 0.7140\n",
      "Epoch 18/10000\n",
      "186/186 [==============================] - 2s 12ms/step - loss: 0.7772 - categorical_accuracy: 0.6975 - accuracy: 0.6975 - val_loss: 0.7771 - val_categorical_accuracy: 0.6847 - val_accuracy: 0.6847\n",
      "Epoch 19/10000\n",
      "186/186 [==============================] - 2s 12ms/step - loss: 0.7691 - categorical_accuracy: 0.6998 - accuracy: 0.6998 - val_loss: 0.7722 - val_categorical_accuracy: 0.7084 - val_accuracy: 0.7084\n",
      "Epoch 20/10000\n",
      "186/186 [==============================] - 2s 12ms/step - loss: 0.7672 - categorical_accuracy: 0.6958 - accuracy: 0.6958 - val_loss: 0.7908 - val_categorical_accuracy: 0.6746 - val_accuracy: 0.6746\n",
      "Epoch 21/10000\n",
      "186/186 [==============================] - 2s 12ms/step - loss: 0.7659 - categorical_accuracy: 0.7015 - accuracy: 0.7015 - val_loss: 0.7811 - val_categorical_accuracy: 0.6918 - val_accuracy: 0.6918\n",
      "Epoch 22/10000\n",
      "186/186 [==============================] - 2s 12ms/step - loss: 0.7557 - categorical_accuracy: 0.7007 - accuracy: 0.7007 - val_loss: 0.8654 - val_categorical_accuracy: 0.6635 - val_accuracy: 0.6635\n",
      "Epoch 23/10000\n",
      "186/186 [==============================] - 2s 12ms/step - loss: 0.7493 - categorical_accuracy: 0.7022 - accuracy: 0.7022 - val_loss: 0.7698 - val_categorical_accuracy: 0.6933 - val_accuracy: 0.6933\n",
      "Epoch 24/10000\n",
      "186/186 [==============================] - 2s 12ms/step - loss: 0.7482 - categorical_accuracy: 0.7020 - accuracy: 0.7020 - val_loss: 0.7606 - val_categorical_accuracy: 0.6988 - val_accuracy: 0.6988\n",
      "Epoch 25/10000\n",
      "186/186 [==============================] - 2s 12ms/step - loss: 0.7396 - categorical_accuracy: 0.7068 - accuracy: 0.7068 - val_loss: 0.7581 - val_categorical_accuracy: 0.7089 - val_accuracy: 0.7089\n",
      "Epoch 26/10000\n",
      "186/186 [==============================] - 2s 13ms/step - loss: 0.7366 - categorical_accuracy: 0.7091 - accuracy: 0.7091 - val_loss: 0.7466 - val_categorical_accuracy: 0.7120 - val_accuracy: 0.7120\n",
      "Epoch 27/10000\n",
      "186/186 [==============================] - 2s 12ms/step - loss: 0.7375 - categorical_accuracy: 0.7116 - accuracy: 0.7116 - val_loss: 0.7762 - val_categorical_accuracy: 0.6993 - val_accuracy: 0.6993\n",
      "stop  09:30:34\n",
      "Took =  0:01:01.674821\n"
     ]
    }
   ],
   "source": [
    "base_history = fit_model(base_model)"
   ]
  },
  {
   "cell_type": "code",
   "execution_count": 27,
   "id": "093f1151",
   "metadata": {},
   "outputs": [
    {
     "data": {
      "image/png": "[encoded data removed]",
      "text/plain": [
       "<Figure size 720x360 with 2 Axes>"
      ]
     },
     "metadata": {
      "needs_background": "light"
     },
     "output_type": "display_data"
    }
   ],
   "source": [
    "plot_fit_history(base_history.history['loss'], base_history.history['val_loss'],\n",
    "                    base_history.history['categorical_accuracy'], base_history.history['val_categorical_accuracy'])"
   ]
  },
  {
   "cell_type": "code",
   "execution_count": 28,
   "id": "3adec842",
   "metadata": {},
   "outputs": [],
   "source": [
    "(test_y, pred_y) = predict_model(base_model)"
   ]
  },
  {
   "cell_type": "code",
   "execution_count": 29,
   "id": "5a17aaad",
   "metadata": {},
   "outputs": [
    {
     "name": "stdout",
     "output_type": "stream",
     "text": [
      "Accuracy score:  0.690002530204314\n",
      "F1 score:  0.5875885227909324\n",
      "              precision    recall  f1-score   support\n",
      "\n",
      "           0       0.71      0.46      0.56     12488\n",
      "           1       0.56      0.88      0.68     15841\n",
      "           2       0.82      0.89      0.85     25261\n",
      "           3       0.54      0.17      0.26      9646\n",
      "\n",
      "    accuracy                           0.69     63236\n",
      "   macro avg       0.66      0.60      0.59     63236\n",
      "weighted avg       0.69      0.69      0.66     63236\n",
      "\n"
     ]
    }
   ],
   "source": [
    "show_stats('Baseline', test_y, pred_y)"
   ]
  },
  {
   "cell_type": "markdown",
   "id": "4f34209d",
   "metadata": {},
   "source": [
    "Model seems to be doing alright. Trying some regularization to see if the performance can be improved"
   ]
  },
  {
   "cell_type": "code",
   "execution_count": 30,
   "id": "9e84c779",
   "metadata": {},
   "outputs": [],
   "source": [
    "reg_lambda = 0.001\n",
    "\n",
    "reg_model = keras.Sequential([\n",
    "    keras.layers.Flatten(input_shape=INPUT_DIM),\n",
    "    keras.layers.Dense(HIDDEN_LAYER_DIM, activation='relu', kernel_regularizer=keras.regularizers.l2(reg_lambda)),\n",
    "    keras.layers.Dense(OUTPUT_CLASSES, activation='relu')\n",
    "])"
   ]
  },
  {
   "cell_type": "code",
   "execution_count": 31,
   "id": "21070cc6",
   "metadata": {},
   "outputs": [],
   "source": [
    "compile_model(reg_model)"
   ]
  },
  {
   "cell_type": "code",
   "execution_count": 32,
   "id": "bfcf057e",
   "metadata": {},
   "outputs": [
    {
     "name": "stdout",
     "output_type": "stream",
     "text": [
      "Model: \"sequential_1\"\n",
      "_________________________________________________________________\n",
      "Layer (type)                 Output Shape              Param #   \n",
      "=================================================================\n",
      "flatten_1 (Flatten)          (None, 2187)              0         \n",
      "_________________________________________________________________\n",
      "dense_2 (Dense)              (None, 256)               560128    \n",
      "_________________________________________________________________\n",
      "dense_3 (Dense)              (None, 4)                 1028      \n",
      "=================================================================\n",
      "Total params: 561,156\n",
      "Trainable params: 561,156\n",
      "Non-trainable params: 0\n",
      "_________________________________________________________________\n"
     ]
    }
   ],
   "source": [
    "reg_model.summary()"
   ]
  },
  {
   "cell_type": "code",
   "execution_count": 33,
   "id": "8b8065bd",
   "metadata": {
    "scrolled": true
   },
   "outputs": [
    {
     "name": "stdout",
     "output_type": "stream",
     "text": [
      "start  09:31:57\n",
      "Epoch 1/10000\n",
      "186/186 [==============================] - 3s 13ms/step - loss: 1.8460 - categorical_accuracy: 0.1935 - accuracy: 0.1935 - val_loss: 1.8422 - val_categorical_accuracy: 0.1930 - val_accuracy: 0.1930\n",
      "Epoch 2/10000\n",
      "186/186 [==============================] - 2s 13ms/step - loss: 1.8405 - categorical_accuracy: 0.1878 - accuracy: 0.1878 - val_loss: 1.8389 - val_categorical_accuracy: 0.1930 - val_accuracy: 0.1930\n",
      "Epoch 3/10000\n",
      "186/186 [==============================] - 2s 13ms/step - loss: 1.8372 - categorical_accuracy: 0.1878 - accuracy: 0.1878 - val_loss: 1.8355 - val_categorical_accuracy: 0.1930 - val_accuracy: 0.1930\n",
      "Epoch 4/10000\n",
      "186/186 [==============================] - 2s 13ms/step - loss: 1.8338 - categorical_accuracy: 0.1878 - accuracy: 0.1878 - val_loss: 1.8322 - val_categorical_accuracy: 0.1930 - val_accuracy: 0.1930\n",
      "Epoch 5/10000\n",
      "186/186 [==============================] - 2s 13ms/step - loss: 1.8305 - categorical_accuracy: 0.1878 - accuracy: 0.1878 - val_loss: 1.8289 - val_categorical_accuracy: 0.1930 - val_accuracy: 0.1930\n",
      "Epoch 6/10000\n",
      "186/186 [==============================] - 2s 12ms/step - loss: 1.8272 - categorical_accuracy: 0.1878 - accuracy: 0.1878 - val_loss: 1.8256 - val_categorical_accuracy: 0.1930 - val_accuracy: 0.1930\n",
      "Epoch 7/10000\n",
      "186/186 [==============================] - 2s 12ms/step - loss: 1.8240 - categorical_accuracy: 0.1878 - accuracy: 0.1878 - val_loss: 1.8223 - val_categorical_accuracy: 0.1930 - val_accuracy: 0.1930\n",
      "Epoch 8/10000\n",
      "186/186 [==============================] - 2s 13ms/step - loss: 1.8207 - categorical_accuracy: 0.1878 - accuracy: 0.1878 - val_loss: 1.8191 - val_categorical_accuracy: 0.1930 - val_accuracy: 0.1930\n",
      "Epoch 9/10000\n",
      "186/186 [==============================] - 2s 13ms/step - loss: 1.8175 - categorical_accuracy: 0.1878 - accuracy: 0.1878 - val_loss: 1.8159 - val_categorical_accuracy: 0.1930 - val_accuracy: 0.1930\n",
      "Epoch 10/10000\n",
      "186/186 [==============================] - 2s 13ms/step - loss: 1.8143 - categorical_accuracy: 0.1878 - accuracy: 0.1878 - val_loss: 1.8127 - val_categorical_accuracy: 0.1930 - val_accuracy: 0.1930\n",
      "Epoch 11/10000\n",
      "186/186 [==============================] - 2s 13ms/step - loss: 1.8111 - categorical_accuracy: 0.1878 - accuracy: 0.1878 - val_loss: 1.8095 - val_categorical_accuracy: 0.1930 - val_accuracy: 0.1930\n",
      "stop  09:32:23\n",
      "Took =  0:00:26.371695\n"
     ]
    }
   ],
   "source": [
    "reg_history = fit_model(reg_model)"
   ]
  },
  {
   "cell_type": "code",
   "execution_count": 34,
   "id": "91a8e82b",
   "metadata": {},
   "outputs": [
    {
     "data": {
      "image/png": "[encoded data removed]",
      "text/plain": [
       "<Figure size 720x360 with 2 Axes>"
      ]
     },
     "metadata": {
      "needs_background": "light"
     },
     "output_type": "display_data"
    }
   ],
   "source": [
    "plot_fit_history(reg_history.history['loss'], reg_history.history['val_loss'],\n",
    "                    reg_history.history['categorical_accuracy'], reg_history.history['val_categorical_accuracy'])"
   ]
  },
  {
   "cell_type": "code",
   "execution_count": 35,
   "id": "5edceef2",
   "metadata": {},
   "outputs": [],
   "source": [
    "(test_y, pred_y) = predict_model(reg_model)"
   ]
  },
  {
   "cell_type": "code",
   "execution_count": 36,
   "id": "33b7c8a9",
   "metadata": {},
   "outputs": [
    {
     "name": "stdout",
     "output_type": "stream",
     "text": [
      "Accuracy score:  0.19749493927125505\n",
      "F1 score:  0.08249656484515379\n",
      "              precision    recall  f1-score   support\n",
      "\n",
      "           0       0.20      1.00      0.33     12488\n",
      "           1       0.00      0.00      0.00     15836\n",
      "           2       0.00      0.00      0.00     25260\n",
      "           3       0.00      0.00      0.00      9648\n",
      "\n",
      "    accuracy                           0.20     63232\n",
      "   macro avg       0.05      0.25      0.08     63232\n",
      "weighted avg       0.04      0.20      0.07     63232\n",
      "\n"
     ]
    }
   ],
   "source": [
    "show_stats('Baseline Reg', test_y, pred_y)"
   ]
  },
  {
   "cell_type": "code",
   "execution_count": 37,
   "id": "57eb33ae",
   "metadata": {},
   "outputs": [
    {
     "data": {
      "image/png": "[encoded data removed]",
      "text/plain": [
       "<Figure size 576x432 with 2 Axes>"
      ]
     },
     "metadata": {
      "needs_background": "light"
     },
     "output_type": "display_data"
    }
   ],
   "source": [
    "plot_confusion_matrix(test_y, pred_y)"
   ]
  },
  {
   "cell_type": "markdown",
   "id": "74375a63",
   "metadata": {},
   "source": [
    "We can clearly see from the above that performance was horrible. The baseline model won't be enough in the long run, even with regularization. Therefore, we explore other more complicated models"
   ]
  },
  {
   "cell_type": "markdown",
   "id": "5535d4c7",
   "metadata": {},
   "source": [
    "## Base VGG model"
   ]
  },
  {
   "cell_type": "code",
   "execution_count": 38,
   "id": "80136304",
   "metadata": {},
   "outputs": [],
   "source": [
    "VGG_model = keras.Sequential([\n",
    "    #VGG block 1\n",
    "    keras.layers.Conv2D(32, (3, 3), activation='relu', padding='same', input_shape=INPUT_DIM),\n",
    "    keras.layers.Conv2D(32, (3, 3), activation='relu', padding='same'),\n",
    "    keras.layers.MaxPooling2D((2, 2)),\n",
    "    \n",
    "    #VGG block 2\n",
    "    keras.layers.Conv2D(64, (3, 3), activation='relu', padding='same'),\n",
    "    keras.layers.Conv2D(64, (3, 3), activation='relu', padding='same'),\n",
    "    keras.layers.MaxPooling2D((2, 2)),\n",
    "    \n",
    "    #VGG block 3\n",
    "    keras.layers.Conv2D(128, (3, 3), activation='relu', padding='same'),\n",
    "    keras.layers.Conv2D(128, (3, 3), activation='relu', padding='same'),\n",
    "    keras.layers.MaxPooling2D((2, 2)),\n",
    "    \n",
    "    keras.layers.Flatten(),\n",
    "    \n",
    "#     keras.layers.Dense(128, activation='relu', kernel_regularizer=keras.regularizers.l2(reg_lambda)),\n",
    "#     keras.layers.Dense(OUTPUT_CLASSES, activation='relu', kernel_regularizer=keras.regularizers.l2(reg_lambda))\n",
    "    keras.layers.Dense(128, activation='relu'),\n",
    "    keras.layers.Dense(OUTPUT_CLASSES, activation='relu')\n",
    "])"
   ]
  },
  {
   "cell_type": "code",
   "execution_count": 39,
   "id": "8a212785",
   "metadata": {},
   "outputs": [],
   "source": [
    "compile_model(VGG_model)"
   ]
  },
  {
   "cell_type": "code",
   "execution_count": 40,
   "id": "c1573f0d",
   "metadata": {},
   "outputs": [
    {
     "name": "stdout",
     "output_type": "stream",
     "text": [
      "Model: \"sequential_2\"\n",
      "_________________________________________________________________\n",
      "Layer (type)                 Output Shape              Param #   \n",
      "=================================================================\n",
      "conv2d (Conv2D)              (None, 27, 27, 32)        896       \n",
      "_________________________________________________________________\n",
      "conv2d_1 (Conv2D)            (None, 27, 27, 32)        9248      \n",
      "_________________________________________________________________\n",
      "max_pooling2d (MaxPooling2D) (None, 13, 13, 32)        0         \n",
      "_________________________________________________________________\n",
      "conv2d_2 (Conv2D)            (None, 13, 13, 64)        18496     \n",
      "_________________________________________________________________\n",
      "conv2d_3 (Conv2D)            (None, 13, 13, 64)        36928     \n",
      "_________________________________________________________________\n",
      "max_pooling2d_1 (MaxPooling2 (None, 6, 6, 64)          0         \n",
      "_________________________________________________________________\n",
      "conv2d_4 (Conv2D)            (None, 6, 6, 128)         73856     \n",
      "_________________________________________________________________\n",
      "conv2d_5 (Conv2D)            (None, 6, 6, 128)         147584    \n",
      "_________________________________________________________________\n",
      "max_pooling2d_2 (MaxPooling2 (None, 3, 3, 128)         0         \n",
      "_________________________________________________________________\n",
      "flatten_2 (Flatten)          (None, 1152)              0         \n",
      "_________________________________________________________________\n",
      "dense_4 (Dense)              (None, 128)               147584    \n",
      "_________________________________________________________________\n",
      "dense_5 (Dense)              (None, 4)                 516       \n",
      "=================================================================\n",
      "Total params: 435,108\n",
      "Trainable params: 435,108\n",
      "Non-trainable params: 0\n",
      "_________________________________________________________________\n"
     ]
    }
   ],
   "source": [
    "VGG_model.summary()"
   ]
  },
  {
   "cell_type": "code",
   "execution_count": 41,
   "id": "1dac5bee",
   "metadata": {},
   "outputs": [
    {
     "name": "stdout",
     "output_type": "stream",
     "text": [
      "start  09:33:45\n",
      "Epoch 1/10000\n",
      "186/186 [==============================] - 17s 87ms/step - loss: 1.3133 - categorical_accuracy: 0.4176 - accuracy: 0.4176 - val_loss: 1.3017 - val_categorical_accuracy: 0.4093 - val_accuracy: 0.4093\n",
      "Epoch 2/10000\n",
      "186/186 [==============================] - 18s 95ms/step - loss: 1.2816 - categorical_accuracy: 0.4352 - accuracy: 0.4352 - val_loss: 1.2641 - val_categorical_accuracy: 0.5685 - val_accuracy: 0.5685\n",
      "Epoch 3/10000\n",
      "186/186 [==============================] - 17s 93ms/step - loss: 1.2181 - categorical_accuracy: 0.4925 - accuracy: 0.4925 - val_loss: 1.2456 - val_categorical_accuracy: 0.4512 - val_accuracy: 0.4512\n",
      "Epoch 4/10000\n",
      "186/186 [==============================] - 17s 90ms/step - loss: 1.1002 - categorical_accuracy: 0.5493 - accuracy: 0.5493 - val_loss: 0.9919 - val_categorical_accuracy: 0.6018 - val_accuracy: 0.6018\n",
      "Epoch 5/10000\n",
      "186/186 [==============================] - 17s 90ms/step - loss: 1.0058 - categorical_accuracy: 0.6003 - accuracy: 0.6003 - val_loss: 0.9599 - val_categorical_accuracy: 0.6261 - val_accuracy: 0.6261\n",
      "Epoch 6/10000\n",
      "186/186 [==============================] - 16s 87ms/step - loss: 0.9557 - categorical_accuracy: 0.6289 - accuracy: 0.6289 - val_loss: 0.9376 - val_categorical_accuracy: 0.6513 - val_accuracy: 0.6513\n",
      "Epoch 7/10000\n",
      "186/186 [==============================] - 16s 87ms/step - loss: 0.9401 - categorical_accuracy: 0.6259 - accuracy: 0.6259 - val_loss: 0.8672 - val_categorical_accuracy: 0.6544 - val_accuracy: 0.6544\n",
      "Epoch 8/10000\n",
      "186/186 [==============================] - 17s 90ms/step - loss: 0.8669 - categorical_accuracy: 0.6542 - accuracy: 0.6542 - val_loss: 0.8713 - val_categorical_accuracy: 0.6594 - val_accuracy: 0.6594\n",
      "Epoch 9/10000\n",
      "186/186 [==============================] - 17s 89ms/step - loss: 0.8545 - categorical_accuracy: 0.6648 - accuracy: 0.6648 - val_loss: 0.8009 - val_categorical_accuracy: 0.6877 - val_accuracy: 0.6877\n",
      "Epoch 10/10000\n",
      "186/186 [==============================] - 17s 90ms/step - loss: 0.8372 - categorical_accuracy: 0.6694 - accuracy: 0.6694 - val_loss: 0.8050 - val_categorical_accuracy: 0.6913 - val_accuracy: 0.6913\n",
      "Epoch 11/10000\n",
      "186/186 [==============================] - 17s 93ms/step - loss: 0.8145 - categorical_accuracy: 0.6773 - accuracy: 0.6773 - val_loss: 0.7826 - val_categorical_accuracy: 0.6938 - val_accuracy: 0.6938\n",
      "Epoch 12/10000\n",
      "186/186 [==============================] - 17s 90ms/step - loss: 0.8049 - categorical_accuracy: 0.6852 - accuracy: 0.6852 - val_loss: 1.0269 - val_categorical_accuracy: 0.5735 - val_accuracy: 0.5735\n",
      "Epoch 13/10000\n",
      "186/186 [==============================] - 17s 89ms/step - loss: 0.7673 - categorical_accuracy: 0.6985 - accuracy: 0.6985 - val_loss: 0.7562 - val_categorical_accuracy: 0.6872 - val_accuracy: 0.6872\n",
      "Epoch 14/10000\n",
      "186/186 [==============================] - 17s 89ms/step - loss: 0.7783 - categorical_accuracy: 0.6914 - accuracy: 0.6914 - val_loss: 0.9224 - val_categorical_accuracy: 0.6352 - val_accuracy: 0.6352\n",
      "Epoch 15/10000\n",
      "186/186 [==============================] - 16s 88ms/step - loss: 0.7485 - categorical_accuracy: 0.7089 - accuracy: 0.7089 - val_loss: 0.7950 - val_categorical_accuracy: 0.6786 - val_accuracy: 0.6786\n",
      "Epoch 16/10000\n",
      "186/186 [==============================] - 17s 89ms/step - loss: 0.7389 - categorical_accuracy: 0.7076 - accuracy: 0.7076 - val_loss: 0.7581 - val_categorical_accuracy: 0.7049 - val_accuracy: 0.7049\n",
      "Epoch 17/10000\n",
      "186/186 [==============================] - 17s 89ms/step - loss: 0.7167 - categorical_accuracy: 0.7226 - accuracy: 0.7226 - val_loss: 0.6973 - val_categorical_accuracy: 0.7342 - val_accuracy: 0.7342\n",
      "Epoch 18/10000\n",
      "186/186 [==============================] - 16s 87ms/step - loss: 0.7012 - categorical_accuracy: 0.7233 - accuracy: 0.7233 - val_loss: 0.8496 - val_categorical_accuracy: 0.6665 - val_accuracy: 0.6665\n",
      "Epoch 19/10000\n",
      "186/186 [==============================] - 16s 87ms/step - loss: 0.6981 - categorical_accuracy: 0.7236 - accuracy: 0.7236 - val_loss: 0.6960 - val_categorical_accuracy: 0.7342 - val_accuracy: 0.7342\n",
      "Epoch 20/10000\n",
      "186/186 [==============================] - 17s 91ms/step - loss: 0.6811 - categorical_accuracy: 0.7244 - accuracy: 0.7244 - val_loss: 0.7224 - val_categorical_accuracy: 0.7307 - val_accuracy: 0.7307\n",
      "Epoch 21/10000\n",
      "186/186 [==============================] - 18s 98ms/step - loss: 0.6556 - categorical_accuracy: 0.7433 - accuracy: 0.7433 - val_loss: 0.8282 - val_categorical_accuracy: 0.6796 - val_accuracy: 0.6796\n",
      "Epoch 22/10000\n",
      "186/186 [==============================] - 17s 94ms/step - loss: 0.6585 - categorical_accuracy: 0.7445 - accuracy: 0.7445 - val_loss: 0.7049 - val_categorical_accuracy: 0.7211 - val_accuracy: 0.7211\n",
      "Epoch 23/10000\n",
      "186/186 [==============================] - 18s 95ms/step - loss: 0.6397 - categorical_accuracy: 0.7551 - accuracy: 0.7551 - val_loss: 0.6805 - val_categorical_accuracy: 0.7322 - val_accuracy: 0.7322\n",
      "Epoch 24/10000\n",
      "186/186 [==============================] - 18s 94ms/step - loss: 0.6181 - categorical_accuracy: 0.7625 - accuracy: 0.7625 - val_loss: 0.6765 - val_categorical_accuracy: 0.7408 - val_accuracy: 0.7408\n",
      "Epoch 25/10000\n",
      "186/186 [==============================] - 18s 94ms/step - loss: 0.6272 - categorical_accuracy: 0.7554 - accuracy: 0.7554 - val_loss: 0.6848 - val_categorical_accuracy: 0.7413 - val_accuracy: 0.7413\n",
      "Epoch 26/10000\n",
      "186/186 [==============================] - 19s 102ms/step - loss: 0.5956 - categorical_accuracy: 0.7681 - accuracy: 0.7681 - val_loss: 0.7973 - val_categorical_accuracy: 0.6862 - val_accuracy: 0.6862\n",
      "Epoch 27/10000\n",
      "186/186 [==============================] - 17s 92ms/step - loss: 0.5908 - categorical_accuracy: 0.7723 - accuracy: 0.7723 - val_loss: 0.7357 - val_categorical_accuracy: 0.7276 - val_accuracy: 0.7276\n",
      "Epoch 28/10000\n",
      "186/186 [==============================] - 16s 85ms/step - loss: 0.5763 - categorical_accuracy: 0.7793 - accuracy: 0.7793 - val_loss: 0.7599 - val_categorical_accuracy: 0.6877 - val_accuracy: 0.6877\n",
      "Epoch 29/10000\n",
      "186/186 [==============================] - 16s 87ms/step - loss: 0.5699 - categorical_accuracy: 0.7792 - accuracy: 0.7792 - val_loss: 0.6931 - val_categorical_accuracy: 0.7367 - val_accuracy: 0.7367\n",
      "Epoch 30/10000\n",
      "186/186 [==============================] - 17s 89ms/step - loss: 0.5462 - categorical_accuracy: 0.7950 - accuracy: 0.7950 - val_loss: 0.6936 - val_categorical_accuracy: 0.7281 - val_accuracy: 0.7281\n",
      "Epoch 31/10000\n",
      "186/186 [==============================] - 16s 87ms/step - loss: 0.5257 - categorical_accuracy: 0.7996 - accuracy: 0.7996 - val_loss: 0.9719 - val_categorical_accuracy: 0.6609 - val_accuracy: 0.6609\n",
      "Epoch 32/10000\n",
      "186/186 [==============================] - 16s 88ms/step - loss: 0.5050 - categorical_accuracy: 0.8129 - accuracy: 0.8129 - val_loss: 0.7432 - val_categorical_accuracy: 0.7135 - val_accuracy: 0.7135\n",
      "Epoch 33/10000\n",
      "186/186 [==============================] - 16s 87ms/step - loss: 0.4907 - categorical_accuracy: 0.8127 - accuracy: 0.8127 - val_loss: 0.7528 - val_categorical_accuracy: 0.7160 - val_accuracy: 0.7160\n",
      "Epoch 34/10000\n",
      "186/186 [==============================] - 16s 88ms/step - loss: 0.4628 - categorical_accuracy: 0.8252 - accuracy: 0.8252 - val_loss: 0.7384 - val_categorical_accuracy: 0.7312 - val_accuracy: 0.7312\n",
      "Epoch 35/10000\n",
      "186/186 [==============================] - 16s 87ms/step - loss: 0.4454 - categorical_accuracy: 0.8349 - accuracy: 0.8349 - val_loss: 0.8225 - val_categorical_accuracy: 0.6902 - val_accuracy: 0.6902\n",
      "stop  09:43:37\n",
      "Took =  0:09:52.164935\n"
     ]
    }
   ],
   "source": [
    "VGG_history = fit_model(VGG_model)"
   ]
  },
  {
   "cell_type": "code",
   "execution_count": 42,
   "id": "103b3084",
   "metadata": {},
   "outputs": [
    {
     "data": {
      "image/png": "[encoded data removed]",
      "text/plain": [
       "<Figure size 720x360 with 2 Axes>"
      ]
     },
     "metadata": {
      "needs_background": "light"
     },
     "output_type": "display_data"
    }
   ],
   "source": [
    "plot_fit_history(VGG_history.history['loss'], VGG_history.history['val_loss'],\n",
    "                    VGG_history.history['categorical_accuracy'], VGG_history.history['val_categorical_accuracy'])"
   ]
  },
  {
   "cell_type": "markdown",
   "id": "458cbdbf",
   "metadata": {},
   "source": [
    " Model seems to be overfitting. There are a couple of things we can do here. We have gone with removing 1 VGG block as well as add a dropout layer"
   ]
  },
  {
   "cell_type": "code",
   "execution_count": 43,
   "id": "a9889c4d",
   "metadata": {},
   "outputs": [],
   "source": [
    "(test_y, pred_y) = predict_model(VGG_model)"
   ]
  },
  {
   "cell_type": "code",
   "execution_count": 44,
   "id": "59d6385e",
   "metadata": {},
   "outputs": [
    {
     "name": "stdout",
     "output_type": "stream",
     "text": [
      "Accuracy score:  0.6969414220647774\n",
      "F1 score:  0.6297418280867012\n",
      "              precision    recall  f1-score   support\n",
      "\n",
      "           0       0.60      0.64      0.62     12483\n",
      "           1       0.75      0.60      0.66     15842\n",
      "           2       0.80      0.92      0.86     25257\n",
      "           3       0.42      0.35      0.38      9650\n",
      "\n",
      "    accuracy                           0.70     63232\n",
      "   macro avg       0.64      0.63      0.63     63232\n",
      "weighted avg       0.69      0.70      0.69     63232\n",
      "\n"
     ]
    }
   ],
   "source": [
    "show_stats('VGG', test_y, pred_y)"
   ]
  },
  {
   "cell_type": "code",
   "execution_count": 45,
   "id": "dc0ef76d",
   "metadata": {},
   "outputs": [
    {
     "data": {
      "image/png": "[encoded data removed]",
      "text/plain": [
       "<Figure size 576x432 with 2 Axes>"
      ]
     },
     "metadata": {
      "needs_background": "light"
     },
     "output_type": "display_data"
    }
   ],
   "source": [
    "plot_confusion_matrix(test_y, pred_y)"
   ]
  },
  {
   "cell_type": "markdown",
   "id": "8b989c0e",
   "metadata": {},
   "source": [
    "# VGG 2 model with Dropout"
   ]
  },
  {
   "cell_type": "code",
   "execution_count": 46,
   "id": "7ec52e84",
   "metadata": {},
   "outputs": [],
   "source": [
    "VGG2_model = keras.Sequential([\n",
    "    #VGG block 1\n",
    "    keras.layers.Conv2D(32, (3, 3), activation='relu', padding='same', input_shape=INPUT_DIM),\n",
    "    keras.layers.Conv2D(32, (3, 3), activation='relu', padding='same'),\n",
    "    keras.layers.MaxPooling2D((2, 2)),\n",
    "    \n",
    "    #VGG block 2\n",
    "    keras.layers.Conv2D(64, (3, 3), activation='relu', padding='same'),\n",
    "    keras.layers.Conv2D(64, (3, 3), activation='relu', padding='same'),\n",
    "    keras.layers.MaxPooling2D((2, 2)),\n",
    "    \n",
    "    keras.layers.Flatten(),\n",
    "    \n",
    "    keras.layers.Dense(128, activation='relu', kernel_regularizer=keras.regularizers.l2(reg_lambda)),\n",
    "    keras.layers.Dropout(.2),\n",
    "    keras.layers.Dense(OUTPUT_CLASSES, activation='relu')\n",
    "])"
   ]
  },
  {
   "cell_type": "code",
   "execution_count": 47,
   "id": "2a76d5d4",
   "metadata": {},
   "outputs": [],
   "source": [
    "compile_model(VGG2_model)"
   ]
  },
  {
   "cell_type": "code",
   "execution_count": 48,
   "id": "f0496e4b",
   "metadata": {},
   "outputs": [
    {
     "name": "stdout",
     "output_type": "stream",
     "text": [
      "Model: \"sequential_3\"\n",
      "_________________________________________________________________\n",
      "Layer (type)                 Output Shape              Param #   \n",
      "=================================================================\n",
      "conv2d_6 (Conv2D)            (None, 27, 27, 32)        896       \n",
      "_________________________________________________________________\n",
      "conv2d_7 (Conv2D)            (None, 27, 27, 32)        9248      \n",
      "_________________________________________________________________\n",
      "max_pooling2d_3 (MaxPooling2 (None, 13, 13, 32)        0         \n",
      "_________________________________________________________________\n",
      "conv2d_8 (Conv2D)            (None, 13, 13, 64)        18496     \n",
      "_________________________________________________________________\n",
      "conv2d_9 (Conv2D)            (None, 13, 13, 64)        36928     \n",
      "_________________________________________________________________\n",
      "max_pooling2d_4 (MaxPooling2 (None, 6, 6, 64)          0         \n",
      "_________________________________________________________________\n",
      "flatten_3 (Flatten)          (None, 2304)              0         \n",
      "_________________________________________________________________\n",
      "dense_6 (Dense)              (None, 128)               295040    \n",
      "_________________________________________________________________\n",
      "dropout (Dropout)            (None, 128)               0         \n",
      "_________________________________________________________________\n",
      "dense_7 (Dense)              (None, 4)                 516       \n",
      "=================================================================\n",
      "Total params: 361,124\n",
      "Trainable params: 361,124\n",
      "Non-trainable params: 0\n",
      "_________________________________________________________________\n"
     ]
    }
   ],
   "source": [
    "VGG2_model.summary()"
   ]
  },
  {
   "cell_type": "code",
   "execution_count": 49,
   "id": "2feb9c8a",
   "metadata": {},
   "outputs": [
    {
     "name": "stdout",
     "output_type": "stream",
     "text": [
      "start  09:45:25\n",
      "Epoch 1/10000\n",
      "186/186 [==============================] - 12s 62ms/step - loss: 1.5470 - categorical_accuracy: 0.4177 - accuracy: 0.4177 - val_loss: 1.5323 - val_categorical_accuracy: 0.4093 - val_accuracy: 0.4093\n",
      "Epoch 2/10000\n",
      "186/186 [==============================] - 13s 68ms/step - loss: 1.4942 - categorical_accuracy: 0.4423 - accuracy: 0.4423 - val_loss: 1.4804 - val_categorical_accuracy: 0.4118 - val_accuracy: 0.4118\n",
      "Epoch 3/10000\n",
      "186/186 [==============================] - 13s 68ms/step - loss: 1.4272 - categorical_accuracy: 0.4923 - accuracy: 0.4923 - val_loss: 1.3715 - val_categorical_accuracy: 0.5947 - val_accuracy: 0.5947\n",
      "Epoch 4/10000\n",
      "186/186 [==============================] - 13s 68ms/step - loss: 1.3428 - categorical_accuracy: 0.5562 - accuracy: 0.5562 - val_loss: 1.2524 - val_categorical_accuracy: 0.6119 - val_accuracy: 0.6119\n",
      "Epoch 5/10000\n",
      "186/186 [==============================] - 13s 71ms/step - loss: 1.2643 - categorical_accuracy: 0.5961 - accuracy: 0.5961 - val_loss: 1.1991 - val_categorical_accuracy: 0.6321 - val_accuracy: 0.6321\n",
      "Epoch 6/10000\n",
      "186/186 [==============================] - 13s 68ms/step - loss: 1.1911 - categorical_accuracy: 0.6291 - accuracy: 0.6291 - val_loss: 1.0777 - val_categorical_accuracy: 0.6726 - val_accuracy: 0.6726\n",
      "Epoch 7/10000\n",
      "186/186 [==============================] - 13s 70ms/step - loss: 1.1250 - categorical_accuracy: 0.6490 - accuracy: 0.6490 - val_loss: 1.0482 - val_categorical_accuracy: 0.6842 - val_accuracy: 0.6842\n",
      "Epoch 8/10000\n",
      "186/186 [==============================] - 13s 69ms/step - loss: 1.1079 - categorical_accuracy: 0.6582 - accuracy: 0.6582 - val_loss: 1.2508 - val_categorical_accuracy: 0.5705 - val_accuracy: 0.5705\n",
      "Epoch 9/10000\n",
      "186/186 [==============================] - 13s 68ms/step - loss: 1.0802 - categorical_accuracy: 0.6662 - accuracy: 0.6662 - val_loss: 1.0036 - val_categorical_accuracy: 0.6918 - val_accuracy: 0.6918\n",
      "Epoch 10/10000\n",
      "186/186 [==============================] - 13s 71ms/step - loss: 1.0613 - categorical_accuracy: 0.6761 - accuracy: 0.6761 - val_loss: 1.0184 - val_categorical_accuracy: 0.6776 - val_accuracy: 0.6776\n",
      "Epoch 11/10000\n",
      "186/186 [==============================] - 13s 68ms/step - loss: 1.0323 - categorical_accuracy: 0.6884 - accuracy: 0.6884 - val_loss: 1.0184 - val_categorical_accuracy: 0.6791 - val_accuracy: 0.6791\n",
      "Epoch 12/10000\n",
      "186/186 [==============================] - 13s 69ms/step - loss: 1.0133 - categorical_accuracy: 0.6876 - accuracy: 0.6876 - val_loss: 1.0025 - val_categorical_accuracy: 0.6877 - val_accuracy: 0.6877\n",
      "Epoch 13/10000\n",
      "186/186 [==============================] - 13s 69ms/step - loss: 1.0029 - categorical_accuracy: 0.6972 - accuracy: 0.6972 - val_loss: 0.9903 - val_categorical_accuracy: 0.6948 - val_accuracy: 0.6948\n",
      "Epoch 14/10000\n",
      "186/186 [==============================] - 13s 68ms/step - loss: 1.0056 - categorical_accuracy: 0.6855 - accuracy: 0.6855 - val_loss: 0.9821 - val_categorical_accuracy: 0.6938 - val_accuracy: 0.6938\n",
      "Epoch 15/10000\n",
      "186/186 [==============================] - 13s 70ms/step - loss: 0.9779 - categorical_accuracy: 0.7000 - accuracy: 0.7000 - val_loss: 1.0598 - val_categorical_accuracy: 0.6513 - val_accuracy: 0.6513\n",
      "Epoch 16/10000\n",
      "186/186 [==============================] - 13s 68ms/step - loss: 0.9663 - categorical_accuracy: 0.7078 - accuracy: 0.7078 - val_loss: 0.9477 - val_categorical_accuracy: 0.7105 - val_accuracy: 0.7105\n",
      "Epoch 17/10000\n",
      "186/186 [==============================] - 13s 68ms/step - loss: 0.9495 - categorical_accuracy: 0.7093 - accuracy: 0.7093 - val_loss: 1.0267 - val_categorical_accuracy: 0.6645 - val_accuracy: 0.6645\n",
      "Epoch 18/10000\n",
      "186/186 [==============================] - 13s 70ms/step - loss: 0.9419 - categorical_accuracy: 0.7145 - accuracy: 0.7145 - val_loss: 1.0099 - val_categorical_accuracy: 0.6716 - val_accuracy: 0.6716\n",
      "Epoch 19/10000\n",
      "186/186 [==============================] - 13s 68ms/step - loss: 0.9331 - categorical_accuracy: 0.7201 - accuracy: 0.7201 - val_loss: 1.0971 - val_categorical_accuracy: 0.6387 - val_accuracy: 0.6387\n",
      "Epoch 20/10000\n",
      "186/186 [==============================] - 13s 70ms/step - loss: 0.9177 - categorical_accuracy: 0.7265 - accuracy: 0.7265 - val_loss: 0.9163 - val_categorical_accuracy: 0.7191 - val_accuracy: 0.7191\n",
      "Epoch 21/10000\n",
      "186/186 [==============================] - 13s 68ms/step - loss: 0.9062 - categorical_accuracy: 0.7271 - accuracy: 0.7271 - val_loss: 0.9141 - val_categorical_accuracy: 0.7185 - val_accuracy: 0.7185\n",
      "Epoch 22/10000\n",
      "186/186 [==============================] - 13s 68ms/step - loss: 0.9003 - categorical_accuracy: 0.7347 - accuracy: 0.7347 - val_loss: 0.9026 - val_categorical_accuracy: 0.7327 - val_accuracy: 0.7327\n",
      "Epoch 23/10000\n",
      "186/186 [==============================] - 13s 70ms/step - loss: 0.8934 - categorical_accuracy: 0.7361 - accuracy: 0.7361 - val_loss: 0.9323 - val_categorical_accuracy: 0.7135 - val_accuracy: 0.7135\n",
      "Epoch 24/10000\n",
      "186/186 [==============================] - 13s 68ms/step - loss: 0.8628 - categorical_accuracy: 0.7489 - accuracy: 0.7489 - val_loss: 0.9224 - val_categorical_accuracy: 0.7297 - val_accuracy: 0.7297\n",
      "Epoch 25/10000\n",
      "186/186 [==============================] - 13s 70ms/step - loss: 0.8606 - categorical_accuracy: 0.7453 - accuracy: 0.7453 - val_loss: 0.8801 - val_categorical_accuracy: 0.7408 - val_accuracy: 0.7408\n",
      "Epoch 26/10000\n",
      "186/186 [==============================] - 13s 71ms/step - loss: 0.8498 - categorical_accuracy: 0.7499 - accuracy: 0.7499 - val_loss: 0.8845 - val_categorical_accuracy: 0.7448 - val_accuracy: 0.7448\n",
      "Epoch 27/10000\n",
      "186/186 [==============================] - 13s 69ms/step - loss: 0.8355 - categorical_accuracy: 0.7551 - accuracy: 0.7551 - val_loss: 0.9054 - val_categorical_accuracy: 0.7287 - val_accuracy: 0.7287\n",
      "Epoch 28/10000\n",
      "186/186 [==============================] - 13s 70ms/step - loss: 0.8248 - categorical_accuracy: 0.7607 - accuracy: 0.7607 - val_loss: 0.8878 - val_categorical_accuracy: 0.7388 - val_accuracy: 0.7388\n",
      "Epoch 29/10000\n",
      "186/186 [==============================] - 13s 68ms/step - loss: 0.8124 - categorical_accuracy: 0.7682 - accuracy: 0.7682 - val_loss: 0.8721 - val_categorical_accuracy: 0.7504 - val_accuracy: 0.7504\n",
      "Epoch 30/10000\n",
      "186/186 [==============================] - 13s 70ms/step - loss: 0.8017 - categorical_accuracy: 0.7652 - accuracy: 0.7652 - val_loss: 0.9330 - val_categorical_accuracy: 0.7175 - val_accuracy: 0.7175\n",
      "Epoch 31/10000\n",
      "186/186 [==============================] - 13s 68ms/step - loss: 0.7938 - categorical_accuracy: 0.7687 - accuracy: 0.7687 - val_loss: 0.9725 - val_categorical_accuracy: 0.6958 - val_accuracy: 0.6958\n",
      "Epoch 32/10000\n",
      "186/186 [==============================] - 13s 69ms/step - loss: 0.7882 - categorical_accuracy: 0.7735 - accuracy: 0.7735 - val_loss: 0.9011 - val_categorical_accuracy: 0.7453 - val_accuracy: 0.7453\n",
      "Epoch 33/10000\n",
      "186/186 [==============================] - 13s 71ms/step - loss: 0.7639 - categorical_accuracy: 0.7841 - accuracy: 0.7841 - val_loss: 0.9521 - val_categorical_accuracy: 0.7014 - val_accuracy: 0.7014\n",
      "Epoch 34/10000\n",
      "186/186 [==============================] - 13s 69ms/step - loss: 0.7512 - categorical_accuracy: 0.7820 - accuracy: 0.7820 - val_loss: 0.9315 - val_categorical_accuracy: 0.7241 - val_accuracy: 0.7241\n",
      "Epoch 35/10000\n",
      "186/186 [==============================] - 13s 71ms/step - loss: 0.7568 - categorical_accuracy: 0.7826 - accuracy: 0.7826 - val_loss: 0.9151 - val_categorical_accuracy: 0.7231 - val_accuracy: 0.7231\n",
      "Epoch 36/10000\n",
      "186/186 [==============================] - 13s 69ms/step - loss: 0.7417 - categorical_accuracy: 0.7923 - accuracy: 0.7923 - val_loss: 0.8865 - val_categorical_accuracy: 0.7423 - val_accuracy: 0.7423\n",
      "Epoch 37/10000\n",
      "186/186 [==============================] - 13s 68ms/step - loss: 0.7151 - categorical_accuracy: 0.7977 - accuracy: 0.7977 - val_loss: 0.8875 - val_categorical_accuracy: 0.7398 - val_accuracy: 0.7398\n",
      "Epoch 38/10000\n",
      "186/186 [==============================] - 13s 70ms/step - loss: 0.6985 - categorical_accuracy: 0.8070 - accuracy: 0.8070 - val_loss: 0.8940 - val_categorical_accuracy: 0.7443 - val_accuracy: 0.7443\n",
      "Epoch 39/10000\n"
     ]
    },
    {
     "name": "stdout",
     "output_type": "stream",
     "text": [
      "186/186 [==============================] - 13s 68ms/step - loss: 0.6885 - categorical_accuracy: 0.8090 - accuracy: 0.8090 - val_loss: 0.8897 - val_categorical_accuracy: 0.7231 - val_accuracy: 0.7231\n",
      "stop  09:53:47\n",
      "Took =  0:08:21.340575\n"
     ]
    }
   ],
   "source": [
    "VGG2_history = fit_model(VGG2_model)"
   ]
  },
  {
   "cell_type": "code",
   "execution_count": 50,
   "id": "d932ec55",
   "metadata": {},
   "outputs": [
    {
     "data": {
      "image/png": "[encoded data removed]",
      "text/plain": [
       "<Figure size 720x360 with 2 Axes>"
      ]
     },
     "metadata": {
      "needs_background": "light"
     },
     "output_type": "display_data"
    }
   ],
   "source": [
    "plot_fit_history(VGG_history.history['loss'], VGG_history.history['val_loss'],\n",
    "                    VGG_history.history['categorical_accuracy'], VGG_history.history['val_categorical_accuracy'])"
   ]
  },
  {
   "cell_type": "markdown",
   "id": "3bc24e2f",
   "metadata": {},
   "source": [
    "Performance seems slightly better, but definitely can be imporved upon. As of right now, overfitting seems to be the main problem."
   ]
  },
  {
   "cell_type": "code",
   "execution_count": 51,
   "id": "305233f9",
   "metadata": {},
   "outputs": [],
   "source": [
    "(test_y, pred_y) = predict_model(VGG2_model)"
   ]
  },
  {
   "cell_type": "code",
   "execution_count": 52,
   "id": "62795f4e",
   "metadata": {},
   "outputs": [
    {
     "name": "stdout",
     "output_type": "stream",
     "text": [
      "Accuracy score:  0.7117124240890689\n",
      "F1 score:  0.6560934280767325\n",
      "              precision    recall  f1-score   support\n",
      "\n",
      "           0       0.69      0.62      0.65     12487\n",
      "           1       0.67      0.71      0.69     15833\n",
      "           2       0.88      0.87      0.87     25269\n",
      "           3       0.39      0.42      0.41      9643\n",
      "\n",
      "    accuracy                           0.71     63232\n",
      "   macro avg       0.66      0.65      0.66     63232\n",
      "weighted avg       0.72      0.71      0.71     63232\n",
      "\n"
     ]
    }
   ],
   "source": [
    "show_stats('VGG 2', test_y, pred_y)"
   ]
  },
  {
   "cell_type": "code",
   "execution_count": 53,
   "id": "abefa564",
   "metadata": {},
   "outputs": [
    {
     "data": {
      "image/png": "[encoded data removed]",
      "text/plain": [
       "<Figure size 576x432 with 2 Axes>"
      ]
     },
     "metadata": {
      "needs_background": "light"
     },
     "output_type": "display_data"
    }
   ],
   "source": [
    "plot_confusion_matrix(test_y, pred_y)"
   ]
  },
  {
   "cell_type": "markdown",
   "id": "d8d043f5",
   "metadata": {},
   "source": [
    "There is almost no difference between the two models. There overfitting issue still seems to persist, despite regularization and dropout. Therefore, we will running the model with data augumentation"
   ]
  },
  {
   "cell_type": "markdown",
   "id": "3a3be4fb",
   "metadata": {},
   "source": [
    "## VGG with Data Augumentation"
   ]
  },
  {
   "cell_type": "code",
   "execution_count": 54,
   "id": "324ad4ec",
   "metadata": {},
   "outputs": [
    {
     "name": "stdout",
     "output_type": "stream",
     "text": [
      "Found 5937 validated image filenames.\n",
      "Found 1979 validated image filenames.\n"
     ]
    }
   ],
   "source": [
    "aug_train_datagen = ImageDataGenerator(rescale=1./255, data_format='channels_last',\n",
    "                                   rotation_range=90, width_shift_range=0.2,\n",
    "                                   height_shift_range=0.2, brightness_range=[0.5,1.5])\n",
    "aug_val_datagen = ImageDataGenerator(rescale=1./255, data_format='channels_last')\n",
    "\n",
    "batch_size = 32\n",
    "columns = ['cellType_0', 'cellType_1', 'cellType_2', 'cellType_3']\n",
    "\n",
    "aug_train_generator = aug_train_datagen.flow_from_dataframe(\n",
    "    dataframe = train_data,\n",
    "    directory = './patch_images',\n",
    "    x_col = 'ImageName',\n",
    "    y_col = columns,\n",
    "    target_size = (27, 27),\n",
    "    batch_size = batch_size,\n",
    "    class_mode = 'raw',\n",
    "    shuffle=False\n",
    ")\n",
    "\n",
    "aug_validation_generator = aug_val_datagen.flow_from_dataframe(\n",
    "    dataframe=val_data,\n",
    "    directory = './patch_images',\n",
    "    x_col = 'ImageName',\n",
    "    y_col = columns,\n",
    "    target_size = (27, 27),\n",
    "    batch_size = batch_size,\n",
    "    class_mode = 'raw',\n",
    "    shuffle = False\n",
    ")"
   ]
  },
  {
   "cell_type": "code",
   "execution_count": 55,
   "id": "bcfe703f",
   "metadata": {},
   "outputs": [],
   "source": [
    "compile_model(VGG2_model)"
   ]
  },
  {
   "cell_type": "code",
   "execution_count": 56,
   "id": "37bc088b",
   "metadata": {},
   "outputs": [
    {
     "name": "stdout",
     "output_type": "stream",
     "text": [
      "start  09:55:30\n",
      "Epoch 1/10000\n",
      "186/186 [==============================] - 12s 64ms/step - loss: 0.6793 - categorical_accuracy: 0.8144 - accuracy: 0.8144 - val_loss: 1.0297 - val_categorical_accuracy: 0.6958 - val_accuracy: 0.6958\n",
      "Epoch 2/10000\n",
      "186/186 [==============================] - 12s 64ms/step - loss: 0.6724 - categorical_accuracy: 0.8199 - accuracy: 0.8199 - val_loss: 0.9343 - val_categorical_accuracy: 0.7175 - val_accuracy: 0.7175\n",
      "Epoch 3/10000\n",
      "186/186 [==============================] - 13s 68ms/step - loss: 0.6403 - categorical_accuracy: 0.8361 - accuracy: 0.8361 - val_loss: 0.9389 - val_categorical_accuracy: 0.7221 - val_accuracy: 0.7221\n",
      "Epoch 4/10000\n",
      "186/186 [==============================] - 13s 69ms/step - loss: 0.6213 - categorical_accuracy: 0.8306 - accuracy: 0.8306 - val_loss: 0.9230 - val_categorical_accuracy: 0.7292 - val_accuracy: 0.7292\n",
      "Epoch 5/10000\n",
      "186/186 [==============================] - 13s 68ms/step - loss: 0.6211 - categorical_accuracy: 0.8257 - accuracy: 0.8257 - val_loss: 0.9220 - val_categorical_accuracy: 0.7322 - val_accuracy: 0.7322\n",
      "Epoch 6/10000\n",
      "186/186 [==============================] - 13s 71ms/step - loss: 0.6078 - categorical_accuracy: 0.8418 - accuracy: 0.8418 - val_loss: 1.7649 - val_categorical_accuracy: 0.5478 - val_accuracy: 0.5478\n",
      "Epoch 7/10000\n",
      "186/186 [==============================] - 13s 68ms/step - loss: 0.5931 - categorical_accuracy: 0.8467 - accuracy: 0.8467 - val_loss: 0.9240 - val_categorical_accuracy: 0.7155 - val_accuracy: 0.7155\n",
      "Epoch 8/10000\n",
      "186/186 [==============================] - 13s 68ms/step - loss: 0.5665 - categorical_accuracy: 0.8538 - accuracy: 0.8538 - val_loss: 0.9680 - val_categorical_accuracy: 0.7287 - val_accuracy: 0.7287\n",
      "Epoch 9/10000\n",
      "186/186 [==============================] - 13s 70ms/step - loss: 0.5549 - categorical_accuracy: 0.8585 - accuracy: 0.8585 - val_loss: 0.9674 - val_categorical_accuracy: 0.7327 - val_accuracy: 0.7327\n",
      "Epoch 10/10000\n",
      "186/186 [==============================] - 13s 67ms/step - loss: 0.5382 - categorical_accuracy: 0.8679 - accuracy: 0.8679 - val_loss: 0.9516 - val_categorical_accuracy: 0.7347 - val_accuracy: 0.7347\n",
      "Epoch 11/10000\n",
      "186/186 [==============================] - 13s 69ms/step - loss: 0.5183 - categorical_accuracy: 0.8696 - accuracy: 0.8696 - val_loss: 0.9881 - val_categorical_accuracy: 0.7044 - val_accuracy: 0.7044\n",
      "Epoch 12/10000\n",
      "186/186 [==============================] - 13s 68ms/step - loss: 0.5081 - categorical_accuracy: 0.8749 - accuracy: 0.8749 - val_loss: 1.0211 - val_categorical_accuracy: 0.7175 - val_accuracy: 0.7175\n",
      "Epoch 13/10000\n",
      "186/186 [==============================] - 13s 68ms/step - loss: 0.5004 - categorical_accuracy: 0.8858 - accuracy: 0.8858 - val_loss: 1.0240 - val_categorical_accuracy: 0.7231 - val_accuracy: 0.7231\n",
      "Epoch 14/10000\n",
      "186/186 [==============================] - 13s 69ms/step - loss: 0.4938 - categorical_accuracy: 0.8833 - accuracy: 0.8833 - val_loss: 1.0516 - val_categorical_accuracy: 0.7110 - val_accuracy: 0.7110\n",
      "Epoch 15/10000\n",
      "186/186 [==============================] - 13s 68ms/step - loss: 0.4666 - categorical_accuracy: 0.8961 - accuracy: 0.8961 - val_loss: 1.0700 - val_categorical_accuracy: 0.6963 - val_accuracy: 0.6963\n",
      "Epoch 16/10000\n",
      "186/186 [==============================] - 13s 70ms/step - loss: 0.4601 - categorical_accuracy: 0.8964 - accuracy: 0.8964 - val_loss: 1.0381 - val_categorical_accuracy: 0.7216 - val_accuracy: 0.7216\n",
      "Epoch 17/10000\n",
      "186/186 [==============================] - 13s 68ms/step - loss: 0.4502 - categorical_accuracy: 0.9006 - accuracy: 0.9006 - val_loss: 1.0856 - val_categorical_accuracy: 0.7206 - val_accuracy: 0.7206\n",
      "Epoch 18/10000\n",
      "186/186 [==============================] - 13s 68ms/step - loss: 0.4455 - categorical_accuracy: 0.8954 - accuracy: 0.8954 - val_loss: 1.1493 - val_categorical_accuracy: 0.7191 - val_accuracy: 0.7191\n",
      "Epoch 19/10000\n",
      "186/186 [==============================] - 13s 71ms/step - loss: 0.4247 - categorical_accuracy: 0.9069 - accuracy: 0.9069 - val_loss: 1.1117 - val_categorical_accuracy: 0.7216 - val_accuracy: 0.7216\n",
      "Epoch 20/10000\n",
      "186/186 [==============================] - 13s 68ms/step - loss: 0.4046 - categorical_accuracy: 0.9161 - accuracy: 0.9161 - val_loss: 1.2720 - val_categorical_accuracy: 0.7185 - val_accuracy: 0.7185\n",
      "stop  09:59:45\n",
      "Took =  0:04:14.405875\n"
     ]
    }
   ],
   "source": [
    "VGG2_aug = fit_model(VGG2_model, aug_train_generator, aug_validation_generator)"
   ]
  },
  {
   "cell_type": "code",
   "execution_count": 57,
   "id": "58521651",
   "metadata": {},
   "outputs": [
    {
     "data": {
      "image/png": "[encoded data removed]",
      "text/plain": [
       "<Figure size 720x360 with 2 Axes>"
      ]
     },
     "metadata": {
      "needs_background": "light"
     },
     "output_type": "display_data"
    }
   ],
   "source": [
    "plot_fit_history(VGG2_history.history['loss'], VGG2_history.history['val_loss'],\n",
    "                    VGG2_history.history['categorical_accuracy'], VGG2_history.history['val_categorical_accuracy'])"
   ]
  },
  {
   "cell_type": "code",
   "execution_count": 58,
   "id": "bcb2934c",
   "metadata": {},
   "outputs": [],
   "source": [
    "(test_y, pred_y) = predict_model(VGG2_model)"
   ]
  },
  {
   "cell_type": "code",
   "execution_count": 59,
   "id": "154c4768",
   "metadata": {},
   "outputs": [
    {
     "name": "stdout",
     "output_type": "stream",
     "text": [
      "Accuracy score:  0.697020495951417\n",
      "F1 score:  0.6048623351197668\n",
      "              precision    recall  f1-score   support\n",
      "\n",
      "           0       0.69      0.57      0.62     12483\n",
      "           1       0.65      0.72      0.69     15837\n",
      "           2       0.75      0.94      0.84     25269\n",
      "           3       0.46      0.20      0.27      9643\n",
      "\n",
      "    accuracy                           0.70     63232\n",
      "   macro avg       0.64      0.61      0.60     63232\n",
      "weighted avg       0.67      0.70      0.67     63232\n",
      "\n"
     ]
    }
   ],
   "source": [
    "show_stats('VGG 2 Aug', test_y, pred_y)"
   ]
  },
  {
   "cell_type": "markdown",
   "id": "80512ce6",
   "metadata": {},
   "source": [
    "- No change in overall efficiency\n",
    "- Seems to have solved the problem of overfitting to some extent\n",
    "- However the loss and accuracy fluctuates a lot more, despite having a constant learning rate"
   ]
  },
  {
   "cell_type": "markdown",
   "id": "16afa080",
   "metadata": {},
   "source": [
    "# SC-CNN (Spatially Constrained CNN)"
   ]
  },
  {
   "cell_type": "markdown",
   "id": "9aa58842",
   "metadata": {},
   "source": [
    "Here we make an attempt at applying the SC-CNN that was used in the linked paper, and which also gave a good performance in part 1"
   ]
  },
  {
   "cell_type": "code",
   "execution_count": 60,
   "id": "2578c982",
   "metadata": {},
   "outputs": [],
   "source": [
    "SCCNN_model = tf.keras.Sequential([\n",
    "    # Convolution\n",
    "    tf.keras.layers.Conv2D(24, (4, 4), activation='relu', padding='same', input_shape=INPUT_DIM),\n",
    "    tf.keras.layers.MaxPooling2D((2, 2)),\n",
    "    tf.keras.layers.Conv2D(36, (3, 3), activation='relu', padding='same'),\n",
    "    tf.keras.layers.MaxPooling2D((2, 2)),\n",
    "    \n",
    "    tf.keras.layers.Flatten(),\n",
    "    \n",
    "    tf.keras.layers.Dense(512, activation='softmax'),\n",
    "    tf.keras.layers.Dense(OUTPUT_CLASSES, activation='relu')\n",
    "    \n",
    "])"
   ]
  },
  {
   "cell_type": "code",
   "execution_count": 61,
   "id": "50551973",
   "metadata": {},
   "outputs": [],
   "source": [
    "compile_model(SCCNN_model)"
   ]
  },
  {
   "cell_type": "code",
   "execution_count": 62,
   "id": "6567c8d9",
   "metadata": {},
   "outputs": [
    {
     "name": "stdout",
     "output_type": "stream",
     "text": [
      "Model: \"sequential_4\"\n",
      "_________________________________________________________________\n",
      "Layer (type)                 Output Shape              Param #   \n",
      "=================================================================\n",
      "conv2d_10 (Conv2D)           (None, 27, 27, 24)        1176      \n",
      "_________________________________________________________________\n",
      "max_pooling2d_5 (MaxPooling2 (None, 13, 13, 24)        0         \n",
      "_________________________________________________________________\n",
      "conv2d_11 (Conv2D)           (None, 13, 13, 36)        7812      \n",
      "_________________________________________________________________\n",
      "max_pooling2d_6 (MaxPooling2 (None, 6, 6, 36)          0         \n",
      "_________________________________________________________________\n",
      "flatten_4 (Flatten)          (None, 1296)              0         \n",
      "_________________________________________________________________\n",
      "dense_8 (Dense)              (None, 512)               664064    \n",
      "_________________________________________________________________\n",
      "dense_9 (Dense)              (None, 4)                 2052      \n",
      "=================================================================\n",
      "Total params: 675,104\n",
      "Trainable params: 675,104\n",
      "Non-trainable params: 0\n",
      "_________________________________________________________________\n"
     ]
    }
   ],
   "source": [
    "SCCNN_model.summary()"
   ]
  },
  {
   "cell_type": "code",
   "execution_count": 63,
   "id": "7f59acee",
   "metadata": {},
   "outputs": [
    {
     "name": "stdout",
     "output_type": "stream",
     "text": [
      "start  10:01:23\n",
      "Epoch 1/10000\n",
      "186/186 [==============================] - 5s 22ms/step - loss: 1.3655 - categorical_accuracy: 0.4174 - accuracy: 0.4174 - val_loss: 1.3513 - val_categorical_accuracy: 0.4093 - val_accuracy: 0.4093\n",
      "Epoch 2/10000\n",
      "186/186 [==============================] - 4s 22ms/step - loss: 1.3397 - categorical_accuracy: 0.4174 - accuracy: 0.4174 - val_loss: 1.3358 - val_categorical_accuracy: 0.4093 - val_accuracy: 0.4093\n",
      "Epoch 3/10000\n",
      "186/186 [==============================] - 4s 23ms/step - loss: 1.3280 - categorical_accuracy: 0.4174 - accuracy: 0.4174 - val_loss: 1.3293 - val_categorical_accuracy: 0.4093 - val_accuracy: 0.4093\n",
      "Epoch 4/10000\n",
      "186/186 [==============================] - 4s 21ms/step - loss: 1.3231 - categorical_accuracy: 0.4174 - accuracy: 0.4174 - val_loss: 1.3268 - val_categorical_accuracy: 0.4093 - val_accuracy: 0.4093\n",
      "Epoch 5/10000\n",
      "186/186 [==============================] - 4s 21ms/step - loss: 1.3210 - categorical_accuracy: 0.4174 - accuracy: 0.4174 - val_loss: 1.3259 - val_categorical_accuracy: 0.4093 - val_accuracy: 0.4093\n",
      "Epoch 6/10000\n",
      "186/186 [==============================] - 4s 21ms/step - loss: 1.3201 - categorical_accuracy: 0.4174 - accuracy: 0.4174 - val_loss: 1.3256 - val_categorical_accuracy: 0.4093 - val_accuracy: 0.4093\n",
      "Epoch 7/10000\n",
      "186/186 [==============================] - 4s 21ms/step - loss: 1.3198 - categorical_accuracy: 0.4174 - accuracy: 0.4174 - val_loss: 1.3256 - val_categorical_accuracy: 0.4093 - val_accuracy: 0.4093\n",
      "Epoch 8/10000\n",
      "186/186 [==============================] - 4s 22ms/step - loss: 1.3196 - categorical_accuracy: 0.4174 - accuracy: 0.4174 - val_loss: 1.3256 - val_categorical_accuracy: 0.4093 - val_accuracy: 0.4093\n",
      "Epoch 9/10000\n",
      "186/186 [==============================] - 4s 23ms/step - loss: 1.3196 - categorical_accuracy: 0.4174 - accuracy: 0.4174 - val_loss: 1.3256 - val_categorical_accuracy: 0.4093 - val_accuracy: 0.4093\n",
      "Epoch 10/10000\n",
      "186/186 [==============================] - 4s 23ms/step - loss: 1.3196 - categorical_accuracy: 0.4174 - accuracy: 0.4174 - val_loss: 1.3256 - val_categorical_accuracy: 0.4093 - val_accuracy: 0.4093\n",
      "Epoch 11/10000\n",
      "186/186 [==============================] - 4s 24ms/step - loss: 1.3196 - categorical_accuracy: 0.4174 - accuracy: 0.4174 - val_loss: 1.3257 - val_categorical_accuracy: 0.4093 - val_accuracy: 0.4093\n",
      "stop  10:02:09\n",
      "Took =  0:00:46.224094\n"
     ]
    }
   ],
   "source": [
    "SCCNN_history = fit_model(SCCNN_model)"
   ]
  },
  {
   "cell_type": "code",
   "execution_count": 64,
   "id": "e894e8ea",
   "metadata": {},
   "outputs": [
    {
     "data": {
      "image/png": "[encoded data removed]",
      "text/plain": [
       "<Figure size 720x360 with 2 Axes>"
      ]
     },
     "metadata": {
      "needs_background": "light"
     },
     "output_type": "display_data"
    }
   ],
   "source": [
    "plot_fit_history(SCCNN_history.history['loss'], SCCNN_history.history['val_loss'],\n",
    "                    SCCNN_history.history['categorical_accuracy'], SCCNN_history.history['val_categorical_accuracy'])"
   ]
  },
  {
   "cell_type": "code",
   "execution_count": 65,
   "id": "64d5d89e",
   "metadata": {},
   "outputs": [],
   "source": [
    "(test_y, pred_y) = predict_model(SCCNN_model)"
   ]
  },
  {
   "cell_type": "code",
   "execution_count": 66,
   "id": "90a9b3bf",
   "metadata": {},
   "outputs": [
    {
     "name": "stdout",
     "output_type": "stream",
     "text": [
      "Accuracy score:  0.39948127530364375\n",
      "F1 score:  0.14272476608054968\n",
      "              precision    recall  f1-score   support\n",
      "\n",
      "           0       0.00      0.00      0.00     12483\n",
      "           1       0.00      0.00      0.00     15850\n",
      "           2       0.40      1.00      0.57     25260\n",
      "           3       0.00      0.00      0.00      9639\n",
      "\n",
      "    accuracy                           0.40     63232\n",
      "   macro avg       0.10      0.25      0.14     63232\n",
      "weighted avg       0.16      0.40      0.23     63232\n",
      "\n"
     ]
    }
   ],
   "source": [
    "show_stats('SC-CNN', test_y, pred_y)"
   ]
  },
  {
   "cell_type": "markdown",
   "id": "fe33757d",
   "metadata": {},
   "source": [
    "# Model comparison and ultimate judgment"
   ]
  },
  {
   "cell_type": "code",
   "execution_count": 67,
   "id": "2e23de47",
   "metadata": {},
   "outputs": [
    {
     "name": "stdout",
     "output_type": "stream",
     "text": [
      "Name                   Accuracy   F1-score  Precision     Recall\n",
      "Baseline                   0.69       0.59       0.56       0.88\n",
      "Baseline Reg               0.20       0.08       0.00       0.00\n",
      "VGG                        0.70       0.63       0.75       0.60\n",
      "VGG 2                      0.71       0.66       0.67       0.71\n",
      "VGG 2 Aug                  0.70       0.60       0.65       0.72\n",
      "SC-CNN                     0.40       0.14       0.00       0.00\n"
     ]
    }
   ],
   "source": [
    "#Print out Summary Results\n",
    "print(\"{:20} {:>10} {:>10} {:>10} {:>10}\".format('Name', 'Accuracy', 'F1-score', 'Precision', 'Recall'))\n",
    "for mr in modelResults:\n",
    "    print(\"{:20} {:10.2f} {:10.2f} {:10.2f} {:10.2f}\".format(mr.name, mr.accuracy, mr.f1, mr.precision, mr.recall))"
   ]
  },
  {
   "cell_type": "markdown",
   "id": "f726ec06",
   "metadata": {},
   "source": [
    "- All the models that we have developed so far had issues with the loss and accuracy fluctuations\n",
    "- The baseline model seemed to do alright without the need for more layers\n",
    "- VGG gave the best results overall. We also tried a VGG architecture with L2 regularization and dropout, but there wasn't a huge difference in the overall performance, other than an apparent problem of overfitting\n",
    "- Overfitting issue seems to have been solved using data augumentation.\n",
    "- The SC-CNN architecture failed to pickup anything, so there was no point in proceeding with it any further"
   ]
  }
 ],
 "metadata": {
  "kernelspec": {
   "display_name": "Python 3",
   "language": "python",
   "name": "python3"
  },
  "language_info": {
   "codemirror_mode": {
    "name": "ipython",
    "version": 3
   },
   "file_extension": ".py",
   "mimetype": "text/x-python",
   "name": "python",
   "nbconvert_exporter": "python",
   "pygments_lexer": "ipython3",
   "version": "3.9.4"
  }
 },
 "nbformat": 4,
 "nbformat_minor": 5
}
