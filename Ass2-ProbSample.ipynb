{
 "cells": [
  {
   "cell_type": "markdown",
   "metadata": {},
   "source": [
    "# COCS2673 Assignment 2 P1A - Cancer detection in images"
   ]
  },
  {
   "cell_type": "code",
   "execution_count": 1,
   "metadata": {
    "scrolled": true
   },
   "outputs": [],
   "source": [
    "#!pip install tensorflow"
   ]
  },
  {
   "cell_type": "code",
   "execution_count": 2,
   "metadata": {
    "scrolled": true
   },
   "outputs": [],
   "source": [
    "#import zipfile\n",
    "#with zipfile.ZipFile('./Image_classification_data.zip', 'r') as zip_ref:\n",
    "#   zip_ref.extractall('./')"
   ]
  },
  {
   "cell_type": "code",
   "execution_count": 3,
   "metadata": {
    "scrolled": true
   },
   "outputs": [],
   "source": [
    "#!pwd"
   ]
  },
  {
   "cell_type": "code",
   "execution_count": 4,
   "metadata": {
    "scrolled": true
   },
   "outputs": [
    {
     "data": {
      "text/plain": [
       "'2.4.1'"
      ]
     },
     "execution_count": 4,
     "metadata": {},
     "output_type": "execute_result"
    }
   ],
   "source": [
    "import tensorflow as tf\n",
    "#AUTOTUNE = tf.data.experimental.AUTOTUNE\n",
    "\n",
    "import IPython.display as display\n",
    "from PIL import Image\n",
    "import pandas as pd\n",
    "import numpy as np\n",
    "import matplotlib.pyplot as plt\n",
    "import os\n",
    "import datetime\n",
    "\n",
    "import pandas as pd\n",
    "\n",
    "from tensorflow.keras.callbacks import EarlyStopping\n",
    "from sklearn.metrics import classification_report\n",
    "from sklearn.metrics import confusion_matrix, accuracy_score, f1_score\n",
    "\n",
    "\n",
    "tf.__version__"
   ]
  },
  {
   "cell_type": "markdown",
   "metadata": {},
   "source": [
    "# Read Data\n",
    "Split data into train, validation, and test\n",
    "Note that images for the same patient may contain a mix of cancerous and non-cancerous data.\n",
    "Q - Sould we split on patient or just randomly\n",
    "\n"
   ]
  },
  {
   "cell_type": "code",
   "execution_count": 5,
   "metadata": {
    "scrolled": true
   },
   "outputs": [],
   "source": [
    "mainData = pd.read_csv('./data_labels_mainData.csv')\n",
    "extraData = pd.read_csv('./data_labels_extraData.csv')"
   ]
  },
  {
   "cell_type": "code",
   "execution_count": 6,
   "metadata": {
    "scrolled": true
   },
   "outputs": [],
   "source": [
    "#mainData = mainData.sample(2000)   # Sampling used for inital model development\n",
    "mainData = mainData.append(extraData, ignore_index=True)"
   ]
  },
  {
   "cell_type": "code",
   "execution_count": 7,
   "metadata": {},
   "outputs": [],
   "source": [
    "mainData = mainData.sample(frac=1).reset_index(drop=True)"
   ]
  },
  {
   "cell_type": "code",
   "execution_count": 8,
   "metadata": {},
   "outputs": [
    {
     "data": {
      "text/plain": [
       "20280"
      ]
     },
     "execution_count": 8,
     "metadata": {},
     "output_type": "execute_result"
    }
   ],
   "source": [
    "mainData.shape[0]"
   ]
  },
  {
   "cell_type": "markdown",
   "metadata": {},
   "source": [
    "Update Categorical Data types"
   ]
  },
  {
   "cell_type": "code",
   "execution_count": 9,
   "metadata": {
    "scrolled": true
   },
   "outputs": [],
   "source": [
    "mainData.drop(['InstanceID'], axis=1,inplace=True)\n",
    "mainData.drop(['cellType'], axis=1,inplace=True)\n",
    "mainData.drop(['cellTypeName'], axis=1,inplace=True)\n"
   ]
  },
  {
   "cell_type": "markdown",
   "metadata": {},
   "source": [
    "**There are no missing values in the datasets.**"
   ]
  },
  {
   "cell_type": "code",
   "execution_count": 10,
   "metadata": {
    "scrolled": true
   },
   "outputs": [],
   "source": [
    "def BinBreakdown(desc, data):\n",
    "    neg, pos = np.bincount(data)\n",
    "    total = neg + pos\n",
    "    print('{} Class Data:\\n    Total: {}\\n    Positive: {} ({:.2f}% of total)\\n'.format(desc, total, pos, 100 * pos / total))"
   ]
  },
  {
   "cell_type": "code",
   "execution_count": 11,
   "metadata": {},
   "outputs": [
    {
     "name": "stdout",
     "output_type": "stream",
     "text": [
      "Input Data Class Data:\n",
      "    Total: 20280\n",
      "    Positive: 7069 (34.86% of total)\n",
      "\n"
     ]
    }
   ],
   "source": [
    "BinBreakdown('Input Data', mainData.isCancerous)"
   ]
  },
  {
   "cell_type": "markdown",
   "metadata": {},
   "source": [
    "# Train/Validation/Test Split on Patients"
   ]
  },
  {
   "cell_type": "markdown",
   "metadata": {},
   "source": [
    "### Add classification class"
   ]
  },
  {
   "cell_type": "code",
   "execution_count": 12,
   "metadata": {
    "scrolled": true
   },
   "outputs": [],
   "source": [
    "mainData['isCancerous'] = mainData['isCancerous'].astype('str')"
   ]
  },
  {
   "cell_type": "markdown",
   "metadata": {},
   "source": [
    "### Split Data into Train/Validate/Test\n",
    "For test and training data split via person.\n",
    "This assumes that if a person has cancer or not, then would the images for that person have cancer.\n",
    "Also different cell types per person would be used for validation/testing."
   ]
  },
  {
   "cell_type": "code",
   "execution_count": 13,
   "metadata": {
    "scrolled": true
   },
   "outputs": [],
   "source": [
    "# Get list of patients and observation counts\n",
    "# Allocate approc 25% of data for Validation and Testing - of that 60%/40% for validation/test split.\n",
    "TEST_RATIO = 0.10\n",
    "VAL_RATIO = 0.15\n"
   ]
  },
  {
   "cell_type": "code",
   "execution_count": 14,
   "metadata": {
    "scrolled": true
   },
   "outputs": [],
   "source": [
    "# Split train tests by ratios\n",
    "# Select random patients until the number of images for \n",
    "# each patient sums to the number of records require\n",
    "\n",
    "np.random.seed(43) # Consistent random list\n",
    "\n",
    "recCount = mainData.shape[0]\n",
    "patientRec = mainData.patientID.value_counts().to_dict()\n",
    "    \n",
    "patientIds = list(patientRec.keys())\n",
    "\n",
    "# Loop through selecting a patient at random summing the number of images they have\n",
    "# until the count of images crosses is more than required number\n",
    "\n",
    "testCust = []\n",
    "testRecs = 0\n",
    "while (testRecs < (recCount * TEST_RATIO)):\n",
    "    pId = np.random.choice(patientIds)\n",
    "    ic = patientRec.get(pId)\n",
    "    patientIds.remove(pId)\n",
    "    testCust.append(pId)\n",
    "    testRecs += ic\n",
    "    \n",
    "#print(testCust, testRecs)\n",
    "\n",
    "valCust = []\n",
    "valRecs = 0\n",
    "while (valRecs < (recCount * VAL_RATIO)):\n",
    "    pId = np.random.choice(patientIds)\n",
    "    ic = patientRec.get(pId)\n",
    "    patientIds.remove(pId)\n",
    "    valCust.append(pId)\n",
    "    valRecs += ic\n",
    "\n",
    "#print(valCust, valRecs)"
   ]
  },
  {
   "cell_type": "code",
   "execution_count": 15,
   "metadata": {
    "scrolled": true
   },
   "outputs": [],
   "source": [
    "testData = mainData[mainData.patientID.isin(testCust)]\n",
    "valData = mainData[mainData.patientID.isin(valCust)]\n",
    "trainData = mainData[~(mainData.patientID.isin(valCust + testCust))]"
   ]
  },
  {
   "cell_type": "code",
   "execution_count": 16,
   "metadata": {
    "scrolled": true
   },
   "outputs": [
    {
     "name": "stdout",
     "output_type": "stream",
     "text": [
      "Train data : 15054, Val Data: 3055, Test Data: 2171\n",
      "Train data : 74.23%, Val Data: 15.06%, Test Data: 10.71%\n"
     ]
    }
   ],
   "source": [
    "totalRecs = mainData.shape[0]\n",
    "#print(trainData.shape[0] + valData.shape[0] + testData.shape[0])\n",
    "\n",
    "print(\"Train data : {}, Val Data: {}, Test Data: {}\".format(trainData.shape[0], valData.shape[0], testData.shape[0]))\n",
    "print(\"Train data : {:.2f}%, Val Data: {:.2f}%, Test Data: {:.2f}%\".format(\n",
    "    100 * trainData.shape[0] / totalRecs, 100 * valData.shape[0]/totalRecs, 100 * testData.shape[0]/totalRecs))"
   ]
  },
  {
   "cell_type": "code",
   "execution_count": 17,
   "metadata": {},
   "outputs": [
    {
     "name": "stdout",
     "output_type": "stream",
     "text": [
      "Train Class Data:\n",
      "    Total: 15054\n",
      "    Positive: 5264 (34.97% of total)\n",
      "\n",
      "Validation Class Data:\n",
      "    Total: 3055\n",
      "    Positive: 1096 (35.88% of total)\n",
      "\n",
      "Test Class Data:\n",
      "    Total: 2171\n",
      "    Positive: 709 (32.66% of total)\n",
      "\n"
     ]
    }
   ],
   "source": [
    "BinBreakdown('Train', trainData.isCancerous)\n",
    "BinBreakdown('Validation', valData.isCancerous)\n",
    "BinBreakdown('Test', testData.isCancerous)"
   ]
  },
  {
   "cell_type": "code",
   "execution_count": 18,
   "metadata": {
    "scrolled": true
   },
   "outputs": [
    {
     "data": {
      "text/plain": [
       "([0, 1], <a list of 2 Text xticklabel objects>)"
      ]
     },
     "execution_count": 18,
     "metadata": {},
     "output_type": "execute_result"
    },
    {
     "data": {
      "image/png": "[encoded data removed]",
      "text/plain": [
       "<Figure size 432x288 with 1 Axes>"
      ]
     },
     "metadata": {
      "needs_background": "light"
     },
     "output_type": "display_data"
    }
   ],
   "source": [
    "plt.bar(\n",
    "    trainData.isCancerous.value_counts().index.astype(str), \n",
    "    trainData.isCancerous.value_counts().values/np.sum(trainData.isCancerous.value_counts().values), \n",
    "    alpha=0.3, \n",
    "    color='r')\n",
    "\n",
    "plt.bar(\n",
    "    valData.isCancerous.value_counts().index.astype(str), \n",
    "    valData.isCancerous.value_counts().values/np.sum(valData.isCancerous.value_counts().values), \n",
    "    alpha=0.3, \n",
    "    color='b')\n",
    "\n",
    "plt.bar(\n",
    "    testData.isCancerous.value_counts().index.astype(str), \n",
    "    testData.isCancerous.value_counts().values/np.sum(testData.isCancerous.value_counts().values), \n",
    "    alpha=0.3, \n",
    "    color='g')\n",
    "\n",
    "plt.title('isCancerous - Train vs Test')\n",
    "plt.xticks(rotation='vertical')"
   ]
  },
  {
   "cell_type": "markdown",
   "metadata": {},
   "source": [
    "**Observations:**\n",
    "1. Train/Validation/Test data distributions sets have similar distributions"
   ]
  },
  {
   "cell_type": "markdown",
   "metadata": {},
   "source": [
    "# Images\n",
    "27x27 RGB "
   ]
  },
  {
   "cell_type": "markdown",
   "metadata": {},
   "source": [
    "# Questions\n",
    "* Results are the same for all models - looks bad but I can work out why\n",
    "* accuracy jumps around but how to set learning rate?"
   ]
  },
  {
   "cell_type": "code",
   "execution_count": 19,
   "metadata": {
    "scrolled": true
   },
   "outputs": [
    {
     "name": "stdout",
     "output_type": "stream",
     "text": [
      "Found 15054 validated image filenames belonging to 2 classes.\n",
      "Found 3055 validated image filenames belonging to 2 classes.\n",
      "Found 2171 validated image filenames belonging to 2 classes.\n"
     ]
    }
   ],
   "source": [
    "from tensorflow.keras.preprocessing.image import ImageDataGenerator\n",
    "\n",
    "# Training add Data Augmentation to assist with any overfitting (see Sirinukunwattana et al 2016)\n",
    "train_datagen = ImageDataGenerator(\n",
    "    rescale=1./255, \n",
    "    data_format='channels_last',\n",
    "    #rotation_range=90, \n",
    "    #width_shift_range=0.1,\n",
    "    #height_shift_range=0.1, \n",
    "    #brightness_range=[0.5,1.5]\n",
    ")\n",
    "\n",
    "val_datagen = ImageDataGenerator(rescale=1./255, data_format='channels_last')\n",
    "\n",
    "batch_size = 32\n",
    "\n",
    "train_generator = train_datagen.flow_from_dataframe(\n",
    "        dataframe=trainData,\n",
    "        directory='./patch_images',\n",
    "        x_col=\"ImageName\",\n",
    "        y_col=\"isCancerous\",\n",
    "        target_size=(27, 27),\n",
    "        batch_size=batch_size,\n",
    "        class_mode='categorical')\n",
    "\n",
    "validation_generator = val_datagen.flow_from_dataframe(\n",
    "        dataframe=valData,\n",
    "        directory='patch_images',\n",
    "        x_col=\"ImageName\",\n",
    "        y_col=\"isCancerous\",\n",
    "        target_size=(27, 27),\n",
    "        batch_size=batch_size,\n",
    "        class_mode='categorical')\n",
    "\n",
    "test_generator = val_datagen.flow_from_dataframe(\n",
    "        dataframe=testData,\n",
    "        directory='patch_images',\n",
    "        x_col=\"ImageName\",\n",
    "        y_col=\"isCancerous\",\n",
    "        target_size=(27, 27),\n",
    "        batch_size=batch_size,\n",
    "        class_mode='categorical')"
   ]
  },
  {
   "cell_type": "markdown",
   "metadata": {},
   "source": [
    "### Utility Functions"
   ]
  },
  {
   "cell_type": "code",
   "execution_count": 20,
   "metadata": {},
   "outputs": [],
   "source": [
    "import seaborn as sn\n",
    "import matplotlib.pyplot as plt\n",
    "from sklearn.metrics import confusion_matrix\n",
    "from sklearn.metrics import classification_report\n"
   ]
  },
  {
   "cell_type": "code",
   "execution_count": 21,
   "metadata": {
    "scrolled": true
   },
   "outputs": [],
   "source": [
    "def PlotModelFitHistory(mh):\n",
    "    plt.figure(figsize=(10,5))\n",
    "    plt.subplot(1,2,1)\n",
    "    plt.plot(mh.history['loss'], 'r--')\n",
    "    plt.plot(mh.history['val_loss'], 'b--')\n",
    "    plt.xlabel(\"epochs\")\n",
    "    plt.ylabel(\"Loss\")\n",
    "    plt.legend(['train', 'val'], loc='upper left')\n",
    "\n",
    "    plt.subplot(1,2,2)\n",
    "    plt.plot(mh.history['categorical_accuracy'], 'r--')\n",
    "    plt.plot(mh.history['val_categorical_accuracy'], 'b--')\n",
    "    plt.xlabel(\"epochs\")\n",
    "    plt.ylabel(\"Accuracy\")\n",
    "    plt.legend(['train', 'val'], loc='upper left')\n",
    "\n",
    "    plt.show()\n"
   ]
  },
  {
   "cell_type": "code",
   "execution_count": 22,
   "metadata": {
    "scrolled": true
   },
   "outputs": [],
   "source": [
    "def PlotConfusionMatrix(test, pred):\n",
    "    cm = confusion_matrix(test, pred)\n",
    "    group_names = ['True Neg','False Pos','False Neg','True Pos']\n",
    "    group_counts = [\"{0:0.0f}\".format(value) for value in cm.flatten()]\n",
    "    group_percentages = [\"{0:.2%}\".format(value) for value in cm.flatten()/np.sum(cm)]\n",
    "    labels = [f\"{v1}\\n{v2}\\n{v3}\" for v1, v2, v3 in zip(group_names, group_counts, group_percentages)]\n",
    "    labels = np.asarray(labels).reshape(2,2)\n",
    "    sn.heatmap(cm, annot=labels, fmt='', cmap='Blues')"
   ]
  },
  {
   "cell_type": "markdown",
   "metadata": {},
   "source": [
    "# Model Development"
   ]
  },
  {
   "cell_type": "code",
   "execution_count": 23,
   "metadata": {},
   "outputs": [],
   "source": [
    "def CompileModel(model):\n",
    "    opt = tf.keras.optimizers.Adagrad()\n",
    "    model.compile(optimizer=opt,\n",
    "              loss=tf.keras.losses.CategoricalCrossentropy(from_logits=False),\n",
    "              metrics=['categorical_accuracy', 'accuracy'])\n",
    "    "
   ]
  },
  {
   "cell_type": "code",
   "execution_count": 24,
   "metadata": {},
   "outputs": [],
   "source": [
    "early_stopping_monitor = EarlyStopping(patience=10, monitor='val_categorical_accuracy')\n",
    "\n",
    "def FitModel(model):\n",
    "\n",
    "    print('start ', datetime.datetime.now().strftime(\"%H:%M:%S\"))\n",
    "    now = datetime.datetime.now()\n",
    "\n",
    "    fit_history = model.fit(train_generator, validation_data = validation_generator, \n",
    "                            callbacks=[early_stopping_monitor], epochs=10000, verbose=1)\n",
    "\n",
    "    print('stop ', datetime.datetime.now().strftime(\"%H:%M:%S\"))\n",
    "    print(\"Took = \", datetime.datetime.now() - now)\n",
    "    \n",
    "    return fit_history"
   ]
  },
  {
   "cell_type": "code",
   "execution_count": 25,
   "metadata": {},
   "outputs": [],
   "source": [
    "def PredictModel(model):\n",
    "    batch_size_ = 1\n",
    "    y_pred = list()\n",
    "    y_test = list()\n",
    "    filenames = test_generator.filenames\n",
    "    N_images = len(filenames)\n",
    "    batches = 0\n",
    "\n",
    "    # iterate through the data generator and predict for each batch\n",
    "    # hold the predictions and labels\n",
    "    for x,y in test_generator:\n",
    "            yp = model_reg.predict(x, verbose=0)\n",
    "            yp = np.argmax(yp, axis = 1)\n",
    "            yt = np.argmax(y, axis = 1)\n",
    "            y_pred = y_pred + yp.tolist()\n",
    "            y_test = y_test + yt.tolist()\n",
    "\n",
    "            batches += 1\n",
    "            if batches >= N_images / batch_size_:\n",
    "                break\n",
    "                \n",
    "    return (y_test, y_pred)"
   ]
  },
  {
   "cell_type": "markdown",
   "metadata": {},
   "source": [
    "# Base Model"
   ]
  },
  {
   "cell_type": "code",
   "execution_count": 26,
   "metadata": {},
   "outputs": [],
   "source": [
    "INPUT_DIM = (27,27,3)\n",
    "OUTPUT_CLASSES = 2\n"
   ]
  },
  {
   "cell_type": "code",
   "execution_count": 27,
   "metadata": {},
   "outputs": [],
   "source": [
    "model_reg = tf.keras.Sequential([\n",
    "    tf.keras.layers.Flatten(input_shape=INPUT_DIM),\n",
    "    tf.keras.layers.Dense(256, activation='relu'),\n",
    "    tf.keras.layers.Dropout(.2),\n",
    "    tf.keras.layers.Dense(OUTPUT_CLASSES, activation='sigmoid')\n",
    "])"
   ]
  },
  {
   "cell_type": "code",
   "execution_count": 28,
   "metadata": {},
   "outputs": [],
   "source": [
    "CompileModel(model_reg)"
   ]
  },
  {
   "cell_type": "code",
   "execution_count": 29,
   "metadata": {},
   "outputs": [
    {
     "name": "stdout",
     "output_type": "stream",
     "text": [
      "start  17:39:49\n",
      "Epoch 1/10000\n",
      "471/471 [==============================] - 15s 31ms/step - loss: 0.6288 - categorical_accuracy: 0.6706 - accuracy: 0.6706 - val_loss: 0.4515 - val_categorical_accuracy: 0.7718 - val_accuracy: 0.7718\n",
      "Epoch 2/10000\n",
      "471/471 [==============================] - 9s 18ms/step - loss: 0.4595 - categorical_accuracy: 0.7890 - accuracy: 0.7890 - val_loss: 0.3975 - val_categorical_accuracy: 0.8236 - val_accuracy: 0.8236\n",
      "Epoch 3/10000\n",
      "471/471 [==============================] - 9s 20ms/step - loss: 0.4089 - categorical_accuracy: 0.8238 - accuracy: 0.8238 - val_loss: 0.3595 - val_categorical_accuracy: 0.8507 - val_accuracy: 0.8507\n",
      "Epoch 4/10000\n",
      "471/471 [==============================] - 8s 17ms/step - loss: 0.3975 - categorical_accuracy: 0.8278 - accuracy: 0.8278 - val_loss: 0.3487 - val_categorical_accuracy: 0.8530 - val_accuracy: 0.8530\n",
      "Epoch 5/10000\n",
      "471/471 [==============================] - 8s 16ms/step - loss: 0.3870 - categorical_accuracy: 0.8285 - accuracy: 0.8285 - val_loss: 0.3479 - val_categorical_accuracy: 0.8520 - val_accuracy: 0.8520\n",
      "Epoch 6/10000\n",
      "471/471 [==============================] - 8s 16ms/step - loss: 0.3877 - categorical_accuracy: 0.8295 - accuracy: 0.8295 - val_loss: 0.3395 - val_categorical_accuracy: 0.8550 - val_accuracy: 0.8550\n",
      "Epoch 7/10000\n",
      "471/471 [==============================] - 8s 17ms/step - loss: 0.3733 - categorical_accuracy: 0.8407 - accuracy: 0.8407 - val_loss: 0.3433 - val_categorical_accuracy: 0.8543 - val_accuracy: 0.8543\n",
      "Epoch 8/10000\n",
      "471/471 [==============================] - 8s 16ms/step - loss: 0.3743 - categorical_accuracy: 0.8365 - accuracy: 0.8365 - val_loss: 0.3373 - val_categorical_accuracy: 0.8573 - val_accuracy: 0.8573\n",
      "Epoch 9/10000\n",
      "471/471 [==============================] - 8s 16ms/step - loss: 0.3732 - categorical_accuracy: 0.8366 - accuracy: 0.8366 - val_loss: 0.3443 - val_categorical_accuracy: 0.8517 - val_accuracy: 0.8517\n",
      "Epoch 10/10000\n",
      "471/471 [==============================] - 8s 16ms/step - loss: 0.3686 - categorical_accuracy: 0.8417 - accuracy: 0.8417 - val_loss: 0.3305 - val_categorical_accuracy: 0.8606 - val_accuracy: 0.8606\n",
      "Epoch 11/10000\n",
      "471/471 [==============================] - 8s 16ms/step - loss: 0.3714 - categorical_accuracy: 0.8413 - accuracy: 0.8413 - val_loss: 0.3526 - val_categorical_accuracy: 0.8481 - val_accuracy: 0.8481\n",
      "Epoch 12/10000\n",
      "471/471 [==============================] - 8s 17ms/step - loss: 0.3679 - categorical_accuracy: 0.8395 - accuracy: 0.8395 - val_loss: 0.3435 - val_categorical_accuracy: 0.8504 - val_accuracy: 0.8504\n",
      "Epoch 13/10000\n",
      "471/471 [==============================] - 8s 16ms/step - loss: 0.3545 - categorical_accuracy: 0.8448 - accuracy: 0.8448 - val_loss: 0.3280 - val_categorical_accuracy: 0.8592 - val_accuracy: 0.8592\n",
      "Epoch 14/10000\n",
      "471/471 [==============================] - 8s 16ms/step - loss: 0.3629 - categorical_accuracy: 0.8424 - accuracy: 0.8424 - val_loss: 0.3269 - val_categorical_accuracy: 0.8576 - val_accuracy: 0.8576\n",
      "Epoch 15/10000\n",
      "471/471 [==============================] - 8s 16ms/step - loss: 0.3562 - categorical_accuracy: 0.8450 - accuracy: 0.8450 - val_loss: 0.3260 - val_categorical_accuracy: 0.8583 - val_accuracy: 0.8583\n",
      "Epoch 16/10000\n",
      "471/471 [==============================] - 8s 17ms/step - loss: 0.3533 - categorical_accuracy: 0.8451 - accuracy: 0.8451 - val_loss: 0.3361 - val_categorical_accuracy: 0.8592 - val_accuracy: 0.8592\n",
      "Epoch 17/10000\n",
      "471/471 [==============================] - 8s 17ms/step - loss: 0.3624 - categorical_accuracy: 0.8366 - accuracy: 0.8366 - val_loss: 0.3250 - val_categorical_accuracy: 0.8596 - val_accuracy: 0.8596\n",
      "Epoch 18/10000\n",
      "471/471 [==============================] - 8s 16ms/step - loss: 0.3654 - categorical_accuracy: 0.8380 - accuracy: 0.8380 - val_loss: 0.3286 - val_categorical_accuracy: 0.8570 - val_accuracy: 0.8570\n",
      "Epoch 19/10000\n",
      "471/471 [==============================] - 8s 17ms/step - loss: 0.3540 - categorical_accuracy: 0.8433 - accuracy: 0.8433 - val_loss: 0.3284 - val_categorical_accuracy: 0.8589 - val_accuracy: 0.8589\n",
      "Epoch 20/10000\n",
      "471/471 [==============================] - 8s 16ms/step - loss: 0.3557 - categorical_accuracy: 0.8435 - accuracy: 0.8435 - val_loss: 0.3430 - val_categorical_accuracy: 0.8530 - val_accuracy: 0.8530\n",
      "stop  17:42:34\n",
      "Took =  0:02:45.253003\n"
     ]
    }
   ],
   "source": [
    "history_reg = FitModel(model_reg)"
   ]
  },
  {
   "cell_type": "code",
   "execution_count": 30,
   "metadata": {},
   "outputs": [
    {
     "data": {
      "image/png": "[encoded data removed]",
      "text/plain": [
       "<Figure size 720x360 with 2 Axes>"
      ]
     },
     "metadata": {
      "needs_background": "light"
     },
     "output_type": "display_data"
    }
   ],
   "source": [
    "PlotModelFitHistory(history_reg)"
   ]
  },
  {
   "cell_type": "code",
   "execution_count": 31,
   "metadata": {},
   "outputs": [],
   "source": [
    "(test_y, pred_y) = PredictModel(model_reg)"
   ]
  },
  {
   "cell_type": "code",
   "execution_count": 32,
   "metadata": {},
   "outputs": [
    {
     "name": "stdout",
     "output_type": "stream",
     "text": [
      "Accuracy score:  0.86038057042284\n",
      "F1 score:  0.8257297375874701\n",
      "              precision    recall  f1-score   support\n",
      "\n",
      "           0       0.85      0.97      0.90     46680\n",
      "           1       0.91      0.63      0.75     22637\n",
      "\n",
      "    accuracy                           0.86     69317\n",
      "   macro avg       0.88      0.80      0.83     69317\n",
      "weighted avg       0.87      0.86      0.85     69317\n",
      "\n"
     ]
    }
   ],
   "source": [
    "print(\"Accuracy score: \", accuracy_score(test_y, pred_y))\n",
    "print(\"F1 score: \", f1_score(test_y, pred_y, average='macro'))\n",
    "\n",
    "print(classification_report(test_y, pred_y, zero_division=0))"
   ]
  },
  {
   "cell_type": "code",
   "execution_count": 33,
   "metadata": {},
   "outputs": [
    {
     "data": {
      "image/png": "[encoded data removed]",
      "text/plain": [
       "<Figure size 432x288 with 2 Axes>"
      ]
     },
     "metadata": {
      "needs_background": "light"
     },
     "output_type": "display_data"
    }
   ],
   "source": [
    "PlotConfusionMatrix(test_y, pred_y)"
   ]
  },
  {
   "cell_type": "code",
   "execution_count": null,
   "metadata": {},
   "outputs": [],
   "source": []
  },
  {
   "cell_type": "markdown",
   "metadata": {},
   "source": [
    "## 5. VGG 2 with simplified convolutions\n",
    "* We have 20k images so that should be ok for training\n",
    "* image size is small so down scaling is not too beneficial\n",
    "* after 40 epics so could stop early \n",
    "* over fitting so reduce the number of convolutions\n",
    "* Given number of images, data augmentation probably not required\n"
   ]
  },
  {
   "cell_type": "code",
   "execution_count": 34,
   "metadata": {
    "scrolled": true
   },
   "outputs": [],
   "source": [
    "model_VGG_2 = tf.keras.Sequential([\n",
    "    #VGG block 1\n",
    "    tf.keras.layers.Conv2D(32, (3, 3), activation='relu', padding='same', input_shape=INPUT_DIM),\n",
    "    tf.keras.layers.Conv2D(32, (3, 3), activation='relu', padding='same'),\n",
    "    tf.keras.layers.MaxPooling2D((2, 2)),\n",
    "    \n",
    "    #VGG block 2\n",
    "    tf.keras.layers.Conv2D(64, (3, 3), activation='relu', padding='same'),\n",
    "    tf.keras.layers.Conv2D(64, (3, 3), activation='relu', padding='same'),\n",
    "    tf.keras.layers.MaxPooling2D((2, 2)),\n",
    "    \n",
    "    tf.keras.layers.Flatten(),\n",
    "    \n",
    "    tf.keras.layers.Dense(256, activation='relu'),\n",
    "    tf.keras.layers.Dropout(.2),\n",
    "    tf.keras.layers.Dense(OUTPUT_CLASSES, activation='sigmoid')\n",
    "])\n"
   ]
  },
  {
   "cell_type": "code",
   "execution_count": 35,
   "metadata": {},
   "outputs": [],
   "source": [
    "CompileModel(model_VGG_2)"
   ]
  },
  {
   "cell_type": "code",
   "execution_count": 36,
   "metadata": {},
   "outputs": [
    {
     "name": "stdout",
     "output_type": "stream",
     "text": [
      "start  17:43:57\n",
      "Epoch 1/10000\n",
      "471/471 [==============================] - 35s 73ms/step - loss: 0.6473 - categorical_accuracy: 0.6445 - accuracy: 0.6445 - val_loss: 0.6199 - val_categorical_accuracy: 0.6412 - val_accuracy: 0.6412\n",
      "Epoch 2/10000\n",
      "471/471 [==============================] - 32s 68ms/step - loss: 0.6099 - categorical_accuracy: 0.6553 - accuracy: 0.6553 - val_loss: 0.5335 - val_categorical_accuracy: 0.6956 - val_accuracy: 0.6956\n",
      "Epoch 3/10000\n",
      "471/471 [==============================] - 32s 68ms/step - loss: 0.5381 - categorical_accuracy: 0.7279 - accuracy: 0.7279 - val_loss: 0.4013 - val_categorical_accuracy: 0.8301 - val_accuracy: 0.8301\n",
      "Epoch 4/10000\n",
      "471/471 [==============================] - 33s 70ms/step - loss: 0.4602 - categorical_accuracy: 0.7820 - accuracy: 0.7820 - val_loss: 0.3677 - val_categorical_accuracy: 0.8488 - val_accuracy: 0.8488\n",
      "Epoch 5/10000\n",
      "471/471 [==============================] - 33s 69ms/step - loss: 0.4339 - categorical_accuracy: 0.7974 - accuracy: 0.7974 - val_loss: 0.3522 - val_categorical_accuracy: 0.8498 - val_accuracy: 0.8498\n",
      "Epoch 6/10000\n",
      "471/471 [==============================] - 33s 70ms/step - loss: 0.4107 - categorical_accuracy: 0.8121 - accuracy: 0.8121 - val_loss: 0.3494 - val_categorical_accuracy: 0.8478 - val_accuracy: 0.8478\n",
      "Epoch 7/10000\n",
      "471/471 [==============================] - 33s 69ms/step - loss: 0.3993 - categorical_accuracy: 0.8163 - accuracy: 0.8163 - val_loss: 0.3357 - val_categorical_accuracy: 0.8573 - val_accuracy: 0.8573\n",
      "Epoch 8/10000\n",
      "471/471 [==============================] - 36s 77ms/step - loss: 0.3843 - categorical_accuracy: 0.8248 - accuracy: 0.8248 - val_loss: 0.3380 - val_categorical_accuracy: 0.8550 - val_accuracy: 0.8550\n",
      "Epoch 9/10000\n",
      "471/471 [==============================] - 35s 75ms/step - loss: 0.3639 - categorical_accuracy: 0.8383 - accuracy: 0.8383 - val_loss: 0.3259 - val_categorical_accuracy: 0.8573 - val_accuracy: 0.8573\n",
      "Epoch 10/10000\n",
      "471/471 [==============================] - 35s 74ms/step - loss: 0.3575 - categorical_accuracy: 0.8439 - accuracy: 0.8439 - val_loss: 0.3229 - val_categorical_accuracy: 0.8651 - val_accuracy: 0.8651\n",
      "Epoch 11/10000\n",
      "471/471 [==============================] - 35s 74ms/step - loss: 0.3551 - categorical_accuracy: 0.8432 - accuracy: 0.8432 - val_loss: 0.3199 - val_categorical_accuracy: 0.8628 - val_accuracy: 0.8628\n",
      "Epoch 12/10000\n",
      "471/471 [==============================] - 34s 73ms/step - loss: 0.3511 - categorical_accuracy: 0.8451 - accuracy: 0.8451 - val_loss: 0.3179 - val_categorical_accuracy: 0.8622 - val_accuracy: 0.8622\n",
      "Epoch 13/10000\n",
      "471/471 [==============================] - 35s 73ms/step - loss: 0.3424 - categorical_accuracy: 0.8499 - accuracy: 0.8499 - val_loss: 0.3169 - val_categorical_accuracy: 0.8612 - val_accuracy: 0.8612\n",
      "Epoch 14/10000\n",
      "471/471 [==============================] - 35s 73ms/step - loss: 0.3471 - categorical_accuracy: 0.8509 - accuracy: 0.8509 - val_loss: 0.3156 - val_categorical_accuracy: 0.8658 - val_accuracy: 0.8658\n",
      "Epoch 15/10000\n",
      "471/471 [==============================] - 36s 76ms/step - loss: 0.3428 - categorical_accuracy: 0.8514 - accuracy: 0.8514 - val_loss: 0.3139 - val_categorical_accuracy: 0.8642 - val_accuracy: 0.8642\n",
      "Epoch 16/10000\n",
      "471/471 [==============================] - 35s 74ms/step - loss: 0.3353 - categorical_accuracy: 0.8567 - accuracy: 0.8567 - val_loss: 0.3110 - val_categorical_accuracy: 0.8671 - val_accuracy: 0.8671\n",
      "Epoch 17/10000\n",
      "471/471 [==============================] - 35s 75ms/step - loss: 0.3358 - categorical_accuracy: 0.8583 - accuracy: 0.8583 - val_loss: 0.3144 - val_categorical_accuracy: 0.8678 - val_accuracy: 0.8678\n",
      "Epoch 18/10000\n",
      "471/471 [==============================] - 37s 78ms/step - loss: 0.3349 - categorical_accuracy: 0.8582 - accuracy: 0.8582 - val_loss: 0.3183 - val_categorical_accuracy: 0.8645 - val_accuracy: 0.8645\n",
      "Epoch 19/10000\n",
      "471/471 [==============================] - 37s 78ms/step - loss: 0.3232 - categorical_accuracy: 0.8638 - accuracy: 0.8638 - val_loss: 0.3177 - val_categorical_accuracy: 0.8638 - val_accuracy: 0.8638\n",
      "Epoch 20/10000\n",
      "471/471 [==============================] - 36s 77ms/step - loss: 0.3240 - categorical_accuracy: 0.8630 - accuracy: 0.8630 - val_loss: 0.3190 - val_categorical_accuracy: 0.8645 - val_accuracy: 0.8645\n",
      "Epoch 21/10000\n",
      "471/471 [==============================] - 36s 76ms/step - loss: 0.3209 - categorical_accuracy: 0.8671 - accuracy: 0.8671 - val_loss: 0.3148 - val_categorical_accuracy: 0.8681 - val_accuracy: 0.8681\n",
      "Epoch 22/10000\n",
      "471/471 [==============================] - 36s 76ms/step - loss: 0.3284 - categorical_accuracy: 0.8601 - accuracy: 0.8601 - val_loss: 0.3066 - val_categorical_accuracy: 0.8707 - val_accuracy: 0.8707\n",
      "Epoch 23/10000\n",
      "471/471 [==============================] - 36s 76ms/step - loss: 0.3287 - categorical_accuracy: 0.8613 - accuracy: 0.8613 - val_loss: 0.3116 - val_categorical_accuracy: 0.8694 - val_accuracy: 0.8694\n",
      "Epoch 24/10000\n",
      "471/471 [==============================] - 36s 76ms/step - loss: 0.3172 - categorical_accuracy: 0.8687 - accuracy: 0.8687 - val_loss: 0.3077 - val_categorical_accuracy: 0.8678 - val_accuracy: 0.8678\n",
      "Epoch 25/10000\n",
      "471/471 [==============================] - 36s 77ms/step - loss: 0.3361 - categorical_accuracy: 0.8598 - accuracy: 0.8598 - val_loss: 0.3055 - val_categorical_accuracy: 0.8687 - val_accuracy: 0.8687\n",
      "Epoch 26/10000\n",
      "471/471 [==============================] - 36s 76ms/step - loss: 0.3218 - categorical_accuracy: 0.8647 - accuracy: 0.8647 - val_loss: 0.3056 - val_categorical_accuracy: 0.8687 - val_accuracy: 0.8687\n",
      "Epoch 27/10000\n",
      "471/471 [==============================] - 36s 76ms/step - loss: 0.3227 - categorical_accuracy: 0.8643 - accuracy: 0.8643 - val_loss: 0.3134 - val_categorical_accuracy: 0.8697 - val_accuracy: 0.8697\n",
      "Epoch 28/10000\n",
      "471/471 [==============================] - 36s 77ms/step - loss: 0.3168 - categorical_accuracy: 0.8669 - accuracy: 0.8669 - val_loss: 0.3072 - val_categorical_accuracy: 0.8691 - val_accuracy: 0.8691\n",
      "Epoch 29/10000\n",
      "471/471 [==============================] - 36s 75ms/step - loss: 0.3180 - categorical_accuracy: 0.8658 - accuracy: 0.8658 - val_loss: 0.3040 - val_categorical_accuracy: 0.8730 - val_accuracy: 0.8730\n",
      "Epoch 30/10000\n",
      "471/471 [==============================] - 35s 75ms/step - loss: 0.3137 - categorical_accuracy: 0.8636 - accuracy: 0.8636 - val_loss: 0.3125 - val_categorical_accuracy: 0.8674 - val_accuracy: 0.8674\n",
      "Epoch 31/10000\n",
      "471/471 [==============================] - 35s 74ms/step - loss: 0.3143 - categorical_accuracy: 0.8666 - accuracy: 0.8666 - val_loss: 0.3034 - val_categorical_accuracy: 0.8730 - val_accuracy: 0.8730\n",
      "Epoch 32/10000\n",
      "471/471 [==============================] - 35s 75ms/step - loss: 0.3170 - categorical_accuracy: 0.8688 - accuracy: 0.8688 - val_loss: 0.3059 - val_categorical_accuracy: 0.8697 - val_accuracy: 0.8697\n",
      "Epoch 33/10000\n",
      "471/471 [==============================] - 36s 77ms/step - loss: 0.3160 - categorical_accuracy: 0.8696 - accuracy: 0.8696 - val_loss: 0.3041 - val_categorical_accuracy: 0.8727 - val_accuracy: 0.8727\n",
      "Epoch 34/10000\n",
      "471/471 [==============================] - 35s 74ms/step - loss: 0.3076 - categorical_accuracy: 0.8717 - accuracy: 0.8717 - val_loss: 0.3053 - val_categorical_accuracy: 0.8707 - val_accuracy: 0.8707\n",
      "Epoch 35/10000\n",
      "471/471 [==============================] - 39s 82ms/step - loss: 0.3089 - categorical_accuracy: 0.8652 - accuracy: 0.8652 - val_loss: 0.3065 - val_categorical_accuracy: 0.8723 - val_accuracy: 0.8723\n",
      "Epoch 36/10000\n",
      "471/471 [==============================] - 35s 73ms/step - loss: 0.3170 - categorical_accuracy: 0.8678 - accuracy: 0.8678 - val_loss: 0.3173 - val_categorical_accuracy: 0.8691 - val_accuracy: 0.8691\n",
      "Epoch 37/10000\n",
      "471/471 [==============================] - 35s 75ms/step - loss: 0.3185 - categorical_accuracy: 0.8667 - accuracy: 0.8667 - val_loss: 0.3026 - val_categorical_accuracy: 0.8730 - val_accuracy: 0.8730\n",
      "Epoch 38/10000\n",
      "471/471 [==============================] - 35s 75ms/step - loss: 0.3114 - categorical_accuracy: 0.8700 - accuracy: 0.8700 - val_loss: 0.3016 - val_categorical_accuracy: 0.8746 - val_accuracy: 0.8746\n",
      "Epoch 39/10000\n"
     ]
    },
    {
     "name": "stdout",
     "output_type": "stream",
     "text": [
      "471/471 [==============================] - 34s 72ms/step - loss: 0.3089 - categorical_accuracy: 0.8687 - accuracy: 0.8687 - val_loss: 0.3019 - val_categorical_accuracy: 0.8730 - val_accuracy: 0.8730\n",
      "Epoch 40/10000\n",
      "471/471 [==============================] - 35s 74ms/step - loss: 0.3078 - categorical_accuracy: 0.8748 - accuracy: 0.8748 - val_loss: 0.3034 - val_categorical_accuracy: 0.8740 - val_accuracy: 0.8740\n",
      "Epoch 41/10000\n",
      "471/471 [==============================] - 35s 74ms/step - loss: 0.3097 - categorical_accuracy: 0.8708 - accuracy: 0.8708 - val_loss: 0.3013 - val_categorical_accuracy: 0.8730 - val_accuracy: 0.8730\n",
      "Epoch 42/10000\n",
      "471/471 [==============================] - 36s 77ms/step - loss: 0.3031 - categorical_accuracy: 0.8719 - accuracy: 0.8719 - val_loss: 0.3004 - val_categorical_accuracy: 0.8746 - val_accuracy: 0.8746\n",
      "Epoch 43/10000\n",
      "471/471 [==============================] - 36s 76ms/step - loss: 0.3033 - categorical_accuracy: 0.8749 - accuracy: 0.8749 - val_loss: 0.3026 - val_categorical_accuracy: 0.8733 - val_accuracy: 0.8733\n",
      "Epoch 44/10000\n",
      "471/471 [==============================] - 37s 78ms/step - loss: 0.3003 - categorical_accuracy: 0.8741 - accuracy: 0.8741 - val_loss: 0.3002 - val_categorical_accuracy: 0.8750 - val_accuracy: 0.8750\n",
      "Epoch 45/10000\n",
      "471/471 [==============================] - 38s 80ms/step - loss: 0.3027 - categorical_accuracy: 0.8689 - accuracy: 0.8689 - val_loss: 0.3043 - val_categorical_accuracy: 0.8730 - val_accuracy: 0.8730\n",
      "Epoch 46/10000\n",
      "471/471 [==============================] - 36s 76ms/step - loss: 0.3006 - categorical_accuracy: 0.8720 - accuracy: 0.8720 - val_loss: 0.3000 - val_categorical_accuracy: 0.8750 - val_accuracy: 0.8750\n",
      "Epoch 47/10000\n",
      "471/471 [==============================] - 36s 77ms/step - loss: 0.3029 - categorical_accuracy: 0.8715 - accuracy: 0.8715 - val_loss: 0.2985 - val_categorical_accuracy: 0.8763 - val_accuracy: 0.8763\n",
      "Epoch 48/10000\n",
      "471/471 [==============================] - 38s 81ms/step - loss: 0.2978 - categorical_accuracy: 0.8776 - accuracy: 0.8776 - val_loss: 0.3012 - val_categorical_accuracy: 0.8759 - val_accuracy: 0.8759\n",
      "Epoch 49/10000\n",
      "471/471 [==============================] - 38s 80ms/step - loss: 0.3005 - categorical_accuracy: 0.8731 - accuracy: 0.8731 - val_loss: 0.2998 - val_categorical_accuracy: 0.8743 - val_accuracy: 0.8743\n",
      "Epoch 50/10000\n",
      "471/471 [==============================] - 36s 76ms/step - loss: 0.3063 - categorical_accuracy: 0.8717 - accuracy: 0.8717 - val_loss: 0.2986 - val_categorical_accuracy: 0.8753 - val_accuracy: 0.8753\n",
      "Epoch 51/10000\n",
      "471/471 [==============================] - 35s 75ms/step - loss: 0.2960 - categorical_accuracy: 0.8769 - accuracy: 0.8769 - val_loss: 0.3028 - val_categorical_accuracy: 0.8740 - val_accuracy: 0.8740\n",
      "Epoch 52/10000\n",
      "471/471 [==============================] - 40s 85ms/step - loss: 0.2995 - categorical_accuracy: 0.8743 - accuracy: 0.8743 - val_loss: 0.3033 - val_categorical_accuracy: 0.8740 - val_accuracy: 0.8740\n",
      "Epoch 53/10000\n",
      "471/471 [==============================] - 49s 105ms/step - loss: 0.2929 - categorical_accuracy: 0.8781 - accuracy: 0.8781 - val_loss: 0.2991 - val_categorical_accuracy: 0.8763 - val_accuracy: 0.8763\n",
      "Epoch 54/10000\n",
      "471/471 [==============================] - 55s 117ms/step - loss: 0.2953 - categorical_accuracy: 0.8752 - accuracy: 0.8752 - val_loss: 0.2979 - val_categorical_accuracy: 0.8750 - val_accuracy: 0.8750\n",
      "Epoch 55/10000\n",
      "471/471 [==============================] - 58s 124ms/step - loss: 0.2969 - categorical_accuracy: 0.8748 - accuracy: 0.8748 - val_loss: 0.3028 - val_categorical_accuracy: 0.8750 - val_accuracy: 0.8750\n",
      "Epoch 56/10000\n",
      "471/471 [==============================] - 43s 91ms/step - loss: 0.2960 - categorical_accuracy: 0.8771 - accuracy: 0.8771 - val_loss: 0.2985 - val_categorical_accuracy: 0.8750 - val_accuracy: 0.8750\n",
      "Epoch 57/10000\n",
      "471/471 [==============================] - 39s 83ms/step - loss: 0.2964 - categorical_accuracy: 0.8768 - accuracy: 0.8768 - val_loss: 0.3015 - val_categorical_accuracy: 0.8740 - val_accuracy: 0.8740\n",
      "stop  18:18:47\n",
      "Took =  0:34:49.524642\n"
     ]
    }
   ],
   "source": [
    "history_VGG_2 = FitModel(model_VGG_2)"
   ]
  },
  {
   "cell_type": "code",
   "execution_count": 37,
   "metadata": {
    "scrolled": true
   },
   "outputs": [
    {
     "data": {
      "image/png": "[encoded data removed]",
      "text/plain": [
       "<Figure size 720x360 with 2 Axes>"
      ]
     },
     "metadata": {
      "needs_background": "light"
     },
     "output_type": "display_data"
    }
   ],
   "source": [
    "PlotModelFitHistory(history_VGG_2)"
   ]
  },
  {
   "cell_type": "code",
   "execution_count": 38,
   "metadata": {},
   "outputs": [],
   "source": [
    "(test_y, pred_y) = PredictModel(history_VGG_2)"
   ]
  },
  {
   "cell_type": "code",
   "execution_count": 39,
   "metadata": {},
   "outputs": [
    {
     "name": "stdout",
     "output_type": "stream",
     "text": [
      "Accuracy score:  0.8605147737765466\n",
      "F1 score:  0.8259161742367037\n",
      "              precision    recall  f1-score   support\n",
      "\n",
      "           0       0.85      0.97      0.90     46674\n",
      "           1       0.91      0.63      0.75     22638\n",
      "\n",
      "    accuracy                           0.86     69312\n",
      "   macro avg       0.88      0.80      0.83     69312\n",
      "weighted avg       0.87      0.86      0.85     69312\n",
      "\n"
     ]
    }
   ],
   "source": [
    "print(\"Accuracy score: \", accuracy_score(test_y, pred_y))\n",
    "print(\"F1 score: \", f1_score(test_y, pred_y, average='macro'))\n",
    "\n",
    "print(classification_report(test_y, pred_y, zero_division=0))"
   ]
  },
  {
   "cell_type": "code",
   "execution_count": 40,
   "metadata": {},
   "outputs": [
    {
     "data": {
      "image/png": "[encoded data removed]",
      "text/plain": [
       "<Figure size 432x288 with 2 Axes>"
      ]
     },
     "metadata": {
      "needs_background": "light"
     },
     "output_type": "display_data"
    }
   ],
   "source": [
    "PlotConfusionMatrix(test_y, pred_y)"
   ]
  },
  {
   "cell_type": "code",
   "execution_count": null,
   "metadata": {},
   "outputs": [],
   "source": []
  },
  {
   "cell_type": "markdown",
   "metadata": {},
   "source": [
    "### Observations\n",
    "* The model still took a long time to train\n",
    "* There looks to be minimal overfitting\n",
    "* False negatives still too low for screening but good at just under 90% "
   ]
  },
  {
   "cell_type": "code",
   "execution_count": null,
   "metadata": {},
   "outputs": [],
   "source": []
  }
 ],
 "metadata": {
  "kernelspec": {
   "display_name": "Python 3",
   "language": "python",
   "name": "python3"
  },
  "language_info": {
   "codemirror_mode": {
    "name": "ipython",
    "version": 3
   },
   "file_extension": ".py",
   "mimetype": "text/x-python",
   "name": "python",
   "nbconvert_exporter": "python",
   "pygments_lexer": "ipython3",
   "version": "3.7.7"
  }
 },
 "nbformat": 4,
 "nbformat_minor": 4
}
