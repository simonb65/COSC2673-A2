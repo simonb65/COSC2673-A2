{
 "cells": [
  {
   "cell_type": "markdown",
   "metadata": {},
   "source": [
    "# COCS2673 Assignment 2 P1A - Cancer detection in images"
   ]
  },
  {
   "cell_type": "code",
   "execution_count": null,
   "metadata": {
    "scrolled": true
   },
   "outputs": [],
   "source": [
    "#!pip install tensorflow"
   ]
  },
  {
   "cell_type": "code",
   "execution_count": null,
   "metadata": {
    "scrolled": true
   },
   "outputs": [],
   "source": [
    "#import zipfile\n",
    "#with zipfile.ZipFile('./Image_classification_data.zip', 'r') as zip_ref:\n",
    "#   zip_ref.extractall('./')"
   ]
  },
  {
   "cell_type": "code",
   "execution_count": null,
   "metadata": {
    "scrolled": true
   },
   "outputs": [],
   "source": [
    "#!pwd"
   ]
  },
  {
   "cell_type": "code",
   "execution_count": 1,
   "metadata": {
    "scrolled": true
   },
   "outputs": [
    {
     "data": {
      "text/plain": [
       "'2.4.1'"
      ]
     },
     "execution_count": 1,
     "metadata": {},
     "output_type": "execute_result"
    }
   ],
   "source": [
    "import tensorflow as tf\n",
    "AUTOTUNE = tf.data.experimental.AUTOTUNE\n",
    "\n",
    "import IPython.display as display\n",
    "from PIL import Image\n",
    "import pandas as pd\n",
    "import numpy as np\n",
    "import matplotlib.pyplot as plt\n",
    "import os\n",
    "import datetime\n",
    "\n",
    "import pandas as pd\n",
    "\n",
    "tf.__version__"
   ]
  },
  {
   "cell_type": "markdown",
   "metadata": {},
   "source": [
    "# Read Data\n",
    "Split data into train, validation, and test\n",
    "Note that images for the same patient may contain a mix of cancerous and non-cancerous data.\n",
    "Q - Sould we split on patient or just randomly\n",
    "\n"
   ]
  },
  {
   "cell_type": "code",
   "execution_count": 2,
   "metadata": {
    "scrolled": true
   },
   "outputs": [],
   "source": [
    "mainData = pd.read_csv('./data_labels_mainData.csv')\n",
    "extraData = pd.read_csv('./data_labels_extraData.csv')"
   ]
  },
  {
   "cell_type": "code",
   "execution_count": 3,
   "metadata": {
    "scrolled": true
   },
   "outputs": [],
   "source": [
    "mainData = mainData.sample(2000)   # Sampling used for inital model development\n",
    "#mainData = mainData.append(extraData, ignore_index=True)"
   ]
  },
  {
   "cell_type": "code",
   "execution_count": 4,
   "metadata": {},
   "outputs": [
    {
     "data": {
      "text/plain": [
       "2000"
      ]
     },
     "execution_count": 4,
     "metadata": {},
     "output_type": "execute_result"
    }
   ],
   "source": [
    "mainData.shape[0]"
   ]
  },
  {
   "cell_type": "markdown",
   "metadata": {},
   "source": [
    "Update Categorical Data types"
   ]
  },
  {
   "cell_type": "code",
   "execution_count": 5,
   "metadata": {
    "scrolled": true
   },
   "outputs": [],
   "source": [
    "mainData.drop(['InstanceID'], axis=1,inplace=True)\n",
    "mainData.drop(['cellType'], axis=1,inplace=True)\n",
    "mainData.drop(['cellTypeName'], axis=1,inplace=True)\n"
   ]
  },
  {
   "cell_type": "markdown",
   "metadata": {},
   "source": [
    "**There are no missing values in the datasets.**"
   ]
  },
  {
   "cell_type": "code",
   "execution_count": 6,
   "metadata": {
    "scrolled": true
   },
   "outputs": [],
   "source": [
    "def BinBreakdown(desc, data):\n",
    "    neg, pos = np.bincount(data)\n",
    "    total = neg + pos\n",
    "    print('{} Class Data:\\n    Total: {}\\n    Positive: {} ({:.2f}% of total)\\n'.format(desc, total, pos, 100 * pos / total))"
   ]
  },
  {
   "cell_type": "code",
   "execution_count": 7,
   "metadata": {},
   "outputs": [
    {
     "name": "stdout",
     "output_type": "stream",
     "text": [
      "Input Data Class Data:\n",
      "    Total: 2000\n",
      "    Positive: 818 (40.90% of total)\n",
      "\n"
     ]
    }
   ],
   "source": [
    "BinBreakdown('Input Data', mainData.isCancerous)"
   ]
  },
  {
   "cell_type": "markdown",
   "metadata": {},
   "source": [
    "# Train/Validation/Test Split on Patients"
   ]
  },
  {
   "cell_type": "markdown",
   "metadata": {},
   "source": [
    "### Add classification class"
   ]
  },
  {
   "cell_type": "code",
   "execution_count": 8,
   "metadata": {
    "scrolled": true
   },
   "outputs": [],
   "source": [
    "mainData['isCancerous'] = mainData['isCancerous'].astype('str')"
   ]
  },
  {
   "cell_type": "markdown",
   "metadata": {},
   "source": [
    "### Split Data into Train/Validate/Test\n",
    "For test and training data split via person.\n",
    "This assumes that if a person has cancer or not, then would the images for that person have cancer.\n",
    "Also different cell types per person would be used for validation/testing."
   ]
  },
  {
   "cell_type": "code",
   "execution_count": 9,
   "metadata": {
    "scrolled": true
   },
   "outputs": [],
   "source": [
    "# Get list of patients and observation counts\n",
    "# Allocate approc 25% of data for Validation and Testing - of that 60%/40% for validation/test split.\n",
    "TEST_RATIO = 0.10\n",
    "VAL_RATIO = 0.15\n"
   ]
  },
  {
   "cell_type": "code",
   "execution_count": 10,
   "metadata": {
    "scrolled": true
   },
   "outputs": [],
   "source": [
    "# Split train tests by ratios\n",
    "# Select random patients until the number of images for \n",
    "# each patient sums to the number of records require\n",
    "\n",
    "np.random.seed(43) # Consistent random list\n",
    "\n",
    "recCount = mainData.shape[0]\n",
    "custRec = mainData.patientID.value_counts().to_dict()\n",
    "    \n",
    "patientIds = list(custRec.keys())\n",
    "\n",
    "# Loop through selecting a patient at random summing the number of images they have\n",
    "# until the count of images crosses is more than required number\n",
    "\n",
    "testCust = []\n",
    "testRecs = 0\n",
    "while (testRecs < (recCount * TEST_RATIO)):\n",
    "    pId = np.random.choice(patientIds)\n",
    "    ic = custRec.get(pId)\n",
    "    patientIds.remove(pId)\n",
    "    testCust.append(pId)\n",
    "    testRecs += ic\n",
    "    \n",
    "#print(testCust, testRecs)\n",
    "\n",
    "valCust = []\n",
    "valRecs = 0\n",
    "while (valRecs < (recCount * VAL_RATIO)):\n",
    "    pId = np.random.choice(patientIds)\n",
    "    ic = custRec.get(pId)\n",
    "    patientIds.remove(pId)\n",
    "    valCust.append(pId)\n",
    "    valRecs += ic\n",
    "\n",
    "#print(valCust, valRecs)"
   ]
  },
  {
   "cell_type": "code",
   "execution_count": 11,
   "metadata": {
    "scrolled": true
   },
   "outputs": [],
   "source": [
    "testData = mainData[mainData.patientID.isin(testCust)]\n",
    "valData = mainData[mainData.patientID.isin(valCust)]\n",
    "trainData = mainData[~(mainData.patientID.isin(valCust + testCust))]"
   ]
  },
  {
   "cell_type": "code",
   "execution_count": 12,
   "metadata": {
    "scrolled": true
   },
   "outputs": [
    {
     "name": "stdout",
     "output_type": "stream",
     "text": [
      "Train data : 1433, Val Data: 334, Test Data: 233\n",
      "Train data : 71.65%, Val Data: 16.70%, Test Data: 11.65%\n"
     ]
    }
   ],
   "source": [
    "totalRecs = mainData.shape[0]\n",
    "#print(trainData.shape[0] + valData.shape[0] + testData.shape[0])\n",
    "\n",
    "print(\"Train data : {}, Val Data: {}, Test Data: {}\".format(trainData.shape[0], valData.shape[0], testData.shape[0]))\n",
    "print(\"Train data : {:.2f}%, Val Data: {:.2f}%, Test Data: {:.2f}%\".format(\n",
    "    100 * trainData.shape[0] / totalRecs, 100 * valData.shape[0]/totalRecs, 100 * testData.shape[0]/totalRecs))"
   ]
  },
  {
   "cell_type": "code",
   "execution_count": 13,
   "metadata": {},
   "outputs": [
    {
     "name": "stdout",
     "output_type": "stream",
     "text": [
      "Train Class Data:\n",
      "    Total: 1433\n",
      "    Positive: 575 (40.13% of total)\n",
      "\n",
      "Validation Class Data:\n",
      "    Total: 334\n",
      "    Positive: 107 (32.04% of total)\n",
      "\n",
      "Test Class Data:\n",
      "    Total: 233\n",
      "    Positive: 136 (58.37% of total)\n",
      "\n"
     ]
    }
   ],
   "source": [
    "BinBreakdown('Train', trainData.isCancerous)\n",
    "BinBreakdown('Validation', valData.isCancerous)\n",
    "BinBreakdown('Test', testData.isCancerous)"
   ]
  },
  {
   "cell_type": "code",
   "execution_count": 14,
   "metadata": {
    "scrolled": true
   },
   "outputs": [
    {
     "data": {
      "text/plain": [
       "([0, 1], <a list of 2 Text xticklabel objects>)"
      ]
     },
     "execution_count": 14,
     "metadata": {},
     "output_type": "execute_result"
    },
    {
     "data": {
      "image/png": "[encoded data removed]",
      "text/plain": [
       "<Figure size 432x288 with 1 Axes>"
      ]
     },
     "metadata": {
      "needs_background": "light"
     },
     "output_type": "display_data"
    }
   ],
   "source": [
    "plt.bar(\n",
    "    trainData.isCancerous.value_counts().index.astype(str), \n",
    "    trainData.isCancerous.value_counts().values/np.sum(trainData.isCancerous.value_counts().values), \n",
    "    alpha=0.3, \n",
    "    color='r')\n",
    "\n",
    "plt.bar(\n",
    "    valData.isCancerous.value_counts().index.astype(str), \n",
    "    valData.isCancerous.value_counts().values/np.sum(valData.isCancerous.value_counts().values), \n",
    "    alpha=0.3, \n",
    "    color='b')\n",
    "\n",
    "plt.bar(\n",
    "    testData.isCancerous.value_counts().index.astype(str), \n",
    "    testData.isCancerous.value_counts().values/np.sum(testData.isCancerous.value_counts().values), \n",
    "    alpha=0.3, \n",
    "    color='g')\n",
    "\n",
    "plt.title('isCancerous - Train vs Test')\n",
    "plt.xticks(rotation='vertical')"
   ]
  },
  {
   "cell_type": "markdown",
   "metadata": {},
   "source": [
    "**Observations:**\n",
    "1. Train/Validation/Test data distributions sets have similar distributions"
   ]
  },
  {
   "cell_type": "markdown",
   "metadata": {},
   "source": [
    "# Images\n",
    "27x27 RGB "
   ]
  },
  {
   "cell_type": "markdown",
   "metadata": {},
   "source": [
    "# Questions\n",
    "* Results are the same for all models - looks bad but I can work out why\n",
    "* accuracy jumps around but how to set learning rate?"
   ]
  },
  {
   "cell_type": "code",
   "execution_count": 26,
   "metadata": {
    "scrolled": true
   },
   "outputs": [
    {
     "name": "stdout",
     "output_type": "stream",
     "text": [
      "Found 1433 validated image filenames belonging to 2 classes.\n",
      "Found 334 validated image filenames belonging to 2 classes.\n",
      "Found 233 validated image filenames belonging to 2 classes.\n"
     ]
    }
   ],
   "source": [
    "from tensorflow.keras.preprocessing.image import ImageDataGenerator\n",
    "\n",
    "# Training add Data Augmentation to assist with any overfitting (see Sirinukunwattana et al 2016)\n",
    "train_datagen = ImageDataGenerator(\n",
    "    rescale=1./255, \n",
    "    data_format='channels_last',\n",
    "    rotation_range=90, \n",
    "    width_shift_range=0.1,\n",
    "    height_shift_range=0.1, \n",
    "    brightness_range=[0.5,1.5])\n",
    "\n",
    "val_datagen = ImageDataGenerator(rescale=1./255, data_format='channels_last')\n",
    "\n",
    "batch_size = 32\n",
    "\n",
    "train_generator = train_datagen.flow_from_dataframe(\n",
    "        dataframe=trainData,\n",
    "        directory='./patch_images',\n",
    "        x_col=\"ImageName\",\n",
    "        y_col=\"isCancerous\",\n",
    "        target_size=(27, 27),\n",
    "        batch_size=batch_size,\n",
    "        class_mode='categorical')\n",
    "\n",
    "validation_generator = val_datagen.flow_from_dataframe(\n",
    "        dataframe=valData,\n",
    "        directory='patch_images',\n",
    "        x_col=\"ImageName\",\n",
    "        y_col=\"isCancerous\",\n",
    "        target_size=(27, 27),\n",
    "        batch_size=batch_size,\n",
    "        class_mode='categorical')\n",
    "\n",
    "test_generator = val_datagen.flow_from_dataframe(\n",
    "        dataframe=testData,\n",
    "        directory='patch_images',\n",
    "        x_col=\"ImageName\",\n",
    "        y_col=\"isCancerous\",\n",
    "        target_size=(27, 27),\n",
    "        batch_size=batch_size,\n",
    "        class_mode='categorical')"
   ]
  },
  {
   "cell_type": "markdown",
   "metadata": {},
   "source": [
    "### Utility Functions"
   ]
  },
  {
   "cell_type": "code",
   "execution_count": 27,
   "metadata": {},
   "outputs": [],
   "source": [
    "import seaborn as sn\n",
    "import matplotlib.pyplot as plt\n",
    "from sklearn.metrics import confusion_matrix\n",
    "from sklearn.metrics import classification_report\n"
   ]
  },
  {
   "cell_type": "code",
   "execution_count": 37,
   "metadata": {
    "scrolled": true
   },
   "outputs": [],
   "source": [
    "def PlotModelFitHistory(mh):\n",
    "    plt.figure(figsize=(10,5))\n",
    "    plt.subplot(1,2,1)\n",
    "    plt.plot(mh.history['loss'], 'r--')\n",
    "    plt.plot(mh.history['val_loss'], 'b--')\n",
    "    plt.xlabel(\"epochs\")\n",
    "    plt.ylabel(\"Loss\")\n",
    "    plt.legend(['train', 'val'], loc='upper left')\n",
    "\n",
    "    plt.subplot(1,2,2)\n",
    "    plt.plot(mh.history['categorical_accuracy'], 'r--')\n",
    "    plt.plot(mh.history['val_categorical_accuracy'], 'b--')\n",
    "    plt.xlabel(\"epochs\")\n",
    "    plt.ylabel(\"Accuracy\")\n",
    "    plt.legend(['train', 'val'], loc='upper left')\n",
    "\n",
    "    plt.show()\n"
   ]
  },
  {
   "cell_type": "code",
   "execution_count": 29,
   "metadata": {
    "scrolled": true
   },
   "outputs": [],
   "source": [
    "def PlotConfusionMatrix(test, pred):\n",
    "    cm = confusion_matrix(test, pred)\n",
    "    group_names = ['True Neg','False Pos','False Neg','True Pos']\n",
    "    group_counts = [\"{0:0.0f}\".format(value) for value in cm.flatten()]\n",
    "    group_percentages = [\"{0:.2%}\".format(value) for value in cm.flatten()/np.sum(cm)]\n",
    "    labels = [f\"{v1}\\n{v2}\\n{v3}\" for v1, v2, v3 in zip(group_names, group_counts, group_percentages)]\n",
    "    labels = np.asarray(labels).reshape(2,2)\n",
    "    sn.heatmap(cm, annot=labels, fmt='', cmap='Blues')"
   ]
  },
  {
   "cell_type": "markdown",
   "metadata": {},
   "source": [
    "# Model Development"
   ]
  },
  {
   "cell_type": "code",
   "execution_count": 30,
   "metadata": {},
   "outputs": [],
   "source": [
    "# Use default lambda - note for assignment only. In real this might be in loop to determine best value.\n",
    "reg_lambda = 0.01\n",
    "\n",
    "INPUT_DIM = (27,27,3)\n",
    "HIDDEN_LAYER_DIM = 256\n",
    "# OUTPUT_CLASSES = 1\n",
    "\n",
    "model_reg = tf.keras.Sequential([\n",
    "    tf.keras.layers.Flatten(input_shape=INPUT_DIM),\n",
    "    tf.keras.layers.Dense(HIDDEN_LAYER_DIM, activation='sigmoid', kernel_regularizer=tf.keras.regularizers.l2(reg_lambda)),\n",
    "    tf.keras.layers.Dense(2, activation='sigmoid', kernel_regularizer=tf.keras.regularizers.l2(reg_lambda))\n",
    "])"
   ]
  },
  {
   "cell_type": "code",
   "execution_count": 31,
   "metadata": {},
   "outputs": [],
   "source": [
    "model_reg.compile(optimizer='sgd',\n",
    "              loss=tf.keras.losses.CategoricalCrossentropy(from_logits=True),\n",
    "              metrics=['categorical_accuracy'])"
   ]
  },
  {
   "cell_type": "code",
   "execution_count": 32,
   "metadata": {},
   "outputs": [
    {
     "name": "stdout",
     "output_type": "stream",
     "text": [
      "Model: \"sequential_1\"\n",
      "_________________________________________________________________\n",
      "Layer (type)                 Output Shape              Param #   \n",
      "=================================================================\n",
      "flatten_1 (Flatten)          (None, 2187)              0         \n",
      "_________________________________________________________________\n",
      "dense_2 (Dense)              (None, 256)               560128    \n",
      "_________________________________________________________________\n",
      "dense_3 (Dense)              (None, 2)                 514       \n",
      "=================================================================\n",
      "Total params: 560,642\n",
      "Trainable params: 560,642\n",
      "Non-trainable params: 0\n",
      "_________________________________________________________________\n"
     ]
    }
   ],
   "source": [
    "model_reg.summary()"
   ]
  },
  {
   "cell_type": "code",
   "execution_count": 33,
   "metadata": {},
   "outputs": [
    {
     "name": "stdout",
     "output_type": "stream",
     "text": [
      "13:14:09\n",
      "13:17:27\n",
      "Took =  0:03:17.854049\n"
     ]
    }
   ],
   "source": [
    "print(datetime.datetime.now().strftime(\"%H:%M:%S\"))\n",
    "now = datetime.datetime.now()\n",
    "\n",
    "history_reg = model_reg.fit(train_generator, validation_data = validation_generator, epochs=100, verbose=0)\n",
    "\n",
    "print(datetime.datetime.now().strftime(\"%H:%M:%S\"))\n",
    "print(\"Took = \", datetime.datetime.now() - now)"
   ]
  },
  {
   "cell_type": "code",
   "execution_count": 38,
   "metadata": {},
   "outputs": [
    {
     "data": {
      "image/png": "[encoded data removed]",
      "text/plain": [
       "<Figure size 720x360 with 2 Axes>"
      ]
     },
     "metadata": {
      "needs_background": "light"
     },
     "output_type": "display_data"
    }
   ],
   "source": [
    "PlotModelFitHistory(history_reg)\n"
   ]
  },
  {
   "cell_type": "code",
   "execution_count": 47,
   "metadata": {},
   "outputs": [
    {
     "name": "stdout",
     "output_type": "stream",
     "text": [
      "8/8 [==============================] - 0s 15ms/step\n"
     ]
    }
   ],
   "source": [
    "pred_y_reg = model_reg.predict(test_generator, batch_size=64, verbose=1)\n",
    "#pred_y_reg = np.argmax(pred_y_reg, axis=1)"
   ]
  },
  {
   "cell_type": "code",
   "execution_count": 52,
   "metadata": {},
   "outputs": [
    {
     "data": {
      "text/plain": [
       "array([[0.87861836, 0.18729648],\n",
       "       [0.76036   , 0.34461558],\n",
       "       [0.83429193, 0.24961612],\n",
       "       [0.52516603, 0.6020746 ],\n",
       "       [0.70928377, 0.40544507],\n",
       "       [0.93376374, 0.10256246],\n",
       "       [0.5868549 , 0.5424322 ],\n",
       "       [0.8140649 , 0.27237594],\n",
       "       [0.92356884, 0.12019554],\n",
       "       [0.7339568 , 0.37124428],\n",
       "       [0.8772558 , 0.18495014],\n",
       "       [0.29491043, 0.79839206],\n",
       "       [0.61939704, 0.49947286],\n",
       "       [0.38073483, 0.72821164],\n",
       "       [0.54863805, 0.5740938 ],\n",
       "       [0.5582423 , 0.5632057 ],\n",
       "       [0.7954602 , 0.30112332],\n",
       "       [0.6455427 , 0.47136754],\n",
       "       [0.67002535, 0.4467842 ],\n",
       "       [0.61115116, 0.513562  ],\n",
       "       [0.83038676, 0.2508665 ],\n",
       "       [0.83793336, 0.24012697],\n",
       "       [0.7054143 , 0.40889686],\n",
       "       [0.63082635, 0.4909954 ],\n",
       "       [0.8628515 , 0.2026726 ],\n",
       "       [0.5073106 , 0.61322737],\n",
       "       [0.36993295, 0.7385653 ],\n",
       "       [0.74400234, 0.36362413],\n",
       "       [0.811118  , 0.27858463],\n",
       "       [0.76888806, 0.33884135],\n",
       "       [0.8312848 , 0.25150365],\n",
       "       [0.8050266 , 0.28471193],\n",
       "       [0.8901592 , 0.16633457],\n",
       "       [0.41221952, 0.7041714 ],\n",
       "       [0.5391043 , 0.58842945],\n",
       "       [0.87808883, 0.18496773],\n",
       "       [0.6343793 , 0.48885605],\n",
       "       [0.80759585, 0.28250226],\n",
       "       [0.93376374, 0.10256246],\n",
       "       [0.8915949 , 0.16121843],\n",
       "       [0.3740214 , 0.7313366 ],\n",
       "       [0.5721716 , 0.55290633],\n",
       "       [0.5819168 , 0.53760505],\n",
       "       [0.3487028 , 0.75858396],\n",
       "       [0.79562044, 0.29282364],\n",
       "       [0.54544175, 0.5781542 ],\n",
       "       [0.5552973 , 0.56748   ],\n",
       "       [0.52837676, 0.59365183],\n",
       "       [0.36986187, 0.7397117 ],\n",
       "       [0.42699677, 0.690858  ],\n",
       "       [0.59361917, 0.53128886],\n",
       "       [0.89152235, 0.16712299],\n",
       "       [0.91293466, 0.13326967],\n",
       "       [0.31610915, 0.78284115],\n",
       "       [0.24079293, 0.8398123 ],\n",
       "       [0.3318587 , 0.7730521 ],\n",
       "       [0.2806366 , 0.8087875 ],\n",
       "       [0.91004574, 0.13771862],\n",
       "       [0.8010528 , 0.2877401 ],\n",
       "       [0.4916606 , 0.63065135],\n",
       "       [0.9292084 , 0.1101813 ],\n",
       "       [0.48146752, 0.6460558 ],\n",
       "       [0.32895592, 0.7760912 ],\n",
       "       [0.7727132 , 0.32237947],\n",
       "       [0.25291026, 0.8319628 ],\n",
       "       [0.43704632, 0.67773294],\n",
       "       [0.43361852, 0.6828318 ],\n",
       "       [0.8607839 , 0.20829898],\n",
       "       [0.77511066, 0.32513878],\n",
       "       [0.73554593, 0.37489218],\n",
       "       [0.8393029 , 0.23503059],\n",
       "       [0.8478931 , 0.22971755],\n",
       "       [0.42471743, 0.6896063 ],\n",
       "       [0.46426567, 0.6546191 ],\n",
       "       [0.89016867, 0.16609463],\n",
       "       [0.5155224 , 0.60387975],\n",
       "       [0.8994392 , 0.15241462],\n",
       "       [0.9057816 , 0.14722061],\n",
       "       [0.6453509 , 0.47464183],\n",
       "       [0.70003533, 0.40906775],\n",
       "       [0.9341174 , 0.103908  ],\n",
       "       [0.31396845, 0.78253925],\n",
       "       [0.7467154 , 0.36003506],\n",
       "       [0.7956055 , 0.2930624 ],\n",
       "       [0.70460105, 0.4137776 ],\n",
       "       [0.4364443 , 0.680397  ],\n",
       "       [0.47568184, 0.64696115],\n",
       "       [0.32318485, 0.77144057],\n",
       "       [0.577302  , 0.54440284],\n",
       "       [0.8705003 , 0.19461235],\n",
       "       [0.83953726, 0.23798984],\n",
       "       [0.4871101 , 0.6372071 ],\n",
       "       [0.916886  , 0.13325202],\n",
       "       [0.6971055 , 0.41591087],\n",
       "       [0.32918328, 0.7742542 ],\n",
       "       [0.46446624, 0.65390676],\n",
       "       [0.7569889 , 0.34547132],\n",
       "       [0.543445  , 0.58286446],\n",
       "       [0.6893227 , 0.42306402],\n",
       "       [0.37426788, 0.7337963 ],\n",
       "       [0.56580555, 0.5598407 ],\n",
       "       [0.29746902, 0.7955886 ],\n",
       "       [0.7857909 , 0.30930752],\n",
       "       [0.4340765 , 0.67939657],\n",
       "       [0.80131555, 0.28866893],\n",
       "       [0.43334293, 0.6837175 ],\n",
       "       [0.8215538 , 0.26242462],\n",
       "       [0.71984005, 0.38844606],\n",
       "       [0.82105714, 0.26433063],\n",
       "       [0.3866974 , 0.7235981 ],\n",
       "       [0.84378064, 0.2330043 ],\n",
       "       [0.27570373, 0.8146281 ],\n",
       "       [0.80393726, 0.2820654 ],\n",
       "       [0.90413046, 0.14602101],\n",
       "       [0.7509192 , 0.3527618 ],\n",
       "       [0.49103266, 0.62919486],\n",
       "       [0.7014855 , 0.41079774],\n",
       "       [0.6763777 , 0.43809658],\n",
       "       [0.86288345, 0.20724267],\n",
       "       [0.83786106, 0.24015826],\n",
       "       [0.19228053, 0.87485373],\n",
       "       [0.7256897 , 0.38260776],\n",
       "       [0.7982751 , 0.2930184 ],\n",
       "       [0.85613054, 0.21761432],\n",
       "       [0.8178117 , 0.2785529 ],\n",
       "       [0.6176937 , 0.50958747],\n",
       "       [0.6591648 , 0.46047252],\n",
       "       [0.5738652 , 0.5538226 ],\n",
       "       [0.66090345, 0.45614395],\n",
       "       [0.47320035, 0.6461194 ],\n",
       "       [0.42643422, 0.69551885],\n",
       "       [0.86678946, 0.201002  ],\n",
       "       [0.7975857 , 0.29817778],\n",
       "       [0.4520189 , 0.6632388 ],\n",
       "       [0.45282197, 0.66980326],\n",
       "       [0.7780802 , 0.3156279 ],\n",
       "       [0.46758807, 0.64345133],\n",
       "       [0.83867365, 0.24008915],\n",
       "       [0.86972636, 0.19537985],\n",
       "       [0.80526054, 0.2878145 ],\n",
       "       [0.38412893, 0.72717506],\n",
       "       [0.93906856, 0.0987272 ],\n",
       "       [0.5947597 , 0.5283014 ],\n",
       "       [0.81489956, 0.26512724],\n",
       "       [0.72696733, 0.3749171 ],\n",
       "       [0.6761823 , 0.44380957],\n",
       "       [0.8767723 , 0.18960354],\n",
       "       [0.48523903, 0.63164735],\n",
       "       [0.4717367 , 0.65028834],\n",
       "       [0.48415312, 0.64349604],\n",
       "       [0.42399365, 0.6899916 ],\n",
       "       [0.5433616 , 0.57853615],\n",
       "       [0.603434  , 0.5167371 ],\n",
       "       [0.8432946 , 0.22696894],\n",
       "       [0.37520307, 0.73193336],\n",
       "       [0.6092572 , 0.5053615 ],\n",
       "       [0.85862386, 0.21261299],\n",
       "       [0.51616186, 0.60914713],\n",
       "       [0.8944328 , 0.1641733 ],\n",
       "       [0.87542164, 0.1911147 ],\n",
       "       [0.38168842, 0.7265193 ],\n",
       "       [0.706169  , 0.40405092],\n",
       "       [0.5444274 , 0.5865167 ],\n",
       "       [0.82121   , 0.26960486],\n",
       "       [0.6183827 , 0.49960092],\n",
       "       [0.6784358 , 0.44013363],\n",
       "       [0.55555457, 0.57091373],\n",
       "       [0.82073796, 0.2632226 ],\n",
       "       [0.49141777, 0.6325904 ],\n",
       "       [0.85715383, 0.21667212],\n",
       "       [0.6895676 , 0.41742608],\n",
       "       [0.7866442 , 0.30841368],\n",
       "       [0.7294324 , 0.36931542],\n",
       "       [0.67171055, 0.4504481 ],\n",
       "       [0.84567845, 0.23176745],\n",
       "       [0.41068736, 0.70405406],\n",
       "       [0.866892  , 0.20579284],\n",
       "       [0.65161043, 0.46449912],\n",
       "       [0.59263617, 0.5293446 ],\n",
       "       [0.90644944, 0.14306706],\n",
       "       [0.80562973, 0.28770477],\n",
       "       [0.2657166 , 0.82177716],\n",
       "       [0.4735192 , 0.64767045],\n",
       "       [0.48769945, 0.6386518 ],\n",
       "       [0.46628547, 0.6556054 ],\n",
       "       [0.59140486, 0.5324572 ],\n",
       "       [0.30054975, 0.79510975],\n",
       "       [0.7609736 , 0.34002578],\n",
       "       [0.33069113, 0.7689011 ],\n",
       "       [0.85982555, 0.21084517],\n",
       "       [0.4962611 , 0.6187862 ],\n",
       "       [0.75189245, 0.34897923],\n",
       "       [0.64700603, 0.47287613],\n",
       "       [0.34903574, 0.75098157],\n",
       "       [0.5086414 , 0.6143206 ],\n",
       "       [0.24311289, 0.83887815],\n",
       "       [0.8844103 , 0.1785428 ],\n",
       "       [0.26741272, 0.82121587],\n",
       "       [0.93539274, 0.10022652],\n",
       "       [0.8066424 , 0.27907288],\n",
       "       [0.7978072 , 0.29539368],\n",
       "       [0.37809527, 0.72769374],\n",
       "       [0.7850997 , 0.30339032],\n",
       "       [0.6036172 , 0.51834095],\n",
       "       [0.8312458 , 0.24823475],\n",
       "       [0.86859024, 0.19846454],\n",
       "       [0.81699574, 0.2686922 ],\n",
       "       [0.56573105, 0.5613856 ],\n",
       "       [0.8002604 , 0.29303777],\n",
       "       [0.58149564, 0.54251486],\n",
       "       [0.5576541 , 0.56335753],\n",
       "       [0.9285488 , 0.11052653],\n",
       "       [0.25332385, 0.83036745],\n",
       "       [0.5857252 , 0.54009414],\n",
       "       [0.46621594, 0.6485007 ],\n",
       "       [0.43141058, 0.67770535],\n",
       "       [0.6691768 , 0.44699186],\n",
       "       [0.4224431 , 0.68818593],\n",
       "       [0.4238001 , 0.68924105],\n",
       "       [0.49519825, 0.6271486 ],\n",
       "       [0.74751693, 0.3563696 ],\n",
       "       [0.5174567 , 0.600273  ],\n",
       "       [0.803655  , 0.28859395],\n",
       "       [0.719854  , 0.39129445],\n",
       "       [0.70879954, 0.399103  ],\n",
       "       [0.8545477 , 0.21429598],\n",
       "       [0.8560276 , 0.21711731],\n",
       "       [0.73997265, 0.37104475],\n",
       "       [0.664631  , 0.46003076],\n",
       "       [0.8372983 , 0.2411505 ],\n",
       "       [0.7669065 , 0.33846194],\n",
       "       [0.32820812, 0.7763866 ],\n",
       "       [0.273807  , 0.8123863 ]], dtype=float32)"
      ]
     },
     "execution_count": 52,
     "metadata": {},
     "output_type": "execute_result"
    }
   ],
   "source": [
    "pred_y_reg"
   ]
  },
  {
   "cell_type": "code",
   "execution_count": 54,
   "metadata": {},
   "outputs": [
    {
     "data": {
      "text/plain": [
       "array([0.76036   , 0.34461558], dtype=float32)"
      ]
     },
     "execution_count": 54,
     "metadata": {},
     "output_type": "execute_result"
    }
   ],
   "source": [
    "pred_y_reg[1]"
   ]
  },
  {
   "cell_type": "code",
   "execution_count": 42,
   "metadata": {},
   "outputs": [],
   "source": [
    "test_y = testData['isCancerous'].astype('int')"
   ]
  },
  {
   "cell_type": "code",
   "execution_count": 45,
   "metadata": {
    "scrolled": true
   },
   "outputs": [
    {
     "name": "stdout",
     "output_type": "stream",
     "text": [
      "              precision    recall  f1-score   support\n",
      "\n",
      "           0       0.44      0.67      0.53        97\n",
      "           1       0.62      0.39      0.48       136\n",
      "\n",
      "    accuracy                           0.51       233\n",
      "   macro avg       0.53      0.53      0.51       233\n",
      "weighted avg       0.55      0.51      0.50       233\n",
      "\n"
     ]
    }
   ],
   "source": [
    "print(classification_report(test_y, pred_y_reg, zero_division=0))"
   ]
  },
  {
   "cell_type": "code",
   "execution_count": 46,
   "metadata": {},
   "outputs": [
    {
     "data": {
      "image/png": "[encoded data removed]",
      "text/plain": [
       "<Figure size 432x288 with 2 Axes>"
      ]
     },
     "metadata": {
      "needs_background": "light"
     },
     "output_type": "display_data"
    }
   ],
   "source": [
    "PlotConfusionMatrix(test_y, pred_y_reg)"
   ]
  },
  {
   "cell_type": "markdown",
   "metadata": {},
   "source": [
    "### Measure \n",
    "As this is a screening/detection task, the impact of a false negative is high (ie someone who has cancer is missed)\n",
    "In this case use Recall for measure.\n",
    "We can also use F1 to get a more balanced measure of Precision and Recall"
   ]
  },
  {
   "cell_type": "code",
   "execution_count": null,
   "metadata": {},
   "outputs": [],
   "source": []
  },
  {
   "cell_type": "markdown",
   "metadata": {},
   "source": [
    "Model output is boolean so need to use sigmoid function as probability output of model"
   ]
  },
  {
   "cell_type": "markdown",
   "metadata": {},
   "source": [
    "### Model Inputs"
   ]
  },
  {
   "cell_type": "code",
   "execution_count": null,
   "metadata": {
    "scrolled": true
   },
   "outputs": [],
   "source": [
    "INPUT_DIM = (27,27,3)\n",
    "HIDDEN_LAYER_DIM = 256\n",
    "OUTPUT_CLASSES = 1"
   ]
  },
  {
   "cell_type": "markdown",
   "metadata": {},
   "source": [
    "## 5. VGG 2 with simplified convolutions\n",
    "* We have 20k images so that should be ok for training\n",
    "* image size is small so down scaling is not too beneficial\n",
    "* after 40 epics so could stop early \n",
    "* over fitting so reduce the number of convolutions\n",
    "* Given number of images, data augmentation probably not required\n"
   ]
  },
  {
   "cell_type": "code",
   "execution_count": null,
   "metadata": {
    "scrolled": true
   },
   "outputs": [],
   "source": [
    "reg_lambda = 0.01\n",
    "\n",
    "model_VGG_2 = tf.keras.Sequential([\n",
    "    #VGG block 1\n",
    "    tf.keras.layers.Conv2D(32, (3, 3), activation='relu', padding='same', input_shape=INPUT_DIM),\n",
    "    tf.keras.layers.Conv2D(32, (3, 3), activation='relu', padding='same'),\n",
    "    tf.keras.layers.MaxPooling2D((2, 2)),\n",
    "    \n",
    "    #VGG block 2\n",
    "    tf.keras.layers.Conv2D(64, (3, 3), activation='relu', padding='same'),\n",
    "    tf.keras.layers.Conv2D(64, (3, 3), activation='relu', padding='same'),\n",
    "    tf.keras.layers.MaxPooling2D((2, 2)),\n",
    "    \n",
    "    tf.keras.layers.Flatten(),\n",
    "    \n",
    "    tf.keras.layers.Dense(128, activation='relu', kernel_regularizer=tf.keras.regularizers.l2(reg_lambda)),\n",
    "\n",
    "    tf.keras.layers.Dense(\n",
    "        OUTPUT_CLASSES, \n",
    "        kernel_regularizer=tf.keras.regularizers.l2(reg_lambda),\n",
    "        activation='sigmoid' )\n",
    "])"
   ]
  },
  {
   "cell_type": "code",
   "execution_count": null,
   "metadata": {
    "scrolled": true
   },
   "outputs": [],
   "source": [
    "adamOpt = tf.keras.optimizers.Adam(learning_rate=0.0005)\n",
    "model_VGG_2.compile(optimizer=adamOpt,\n",
    "              loss=tf.keras.losses.BinaryCrossentropy(from_logits=False),\n",
    "              metrics=['binary_accuracy'])"
   ]
  },
  {
   "cell_type": "code",
   "execution_count": null,
   "metadata": {
    "scrolled": true
   },
   "outputs": [],
   "source": [
    "model_VGG_2.summary()"
   ]
  },
  {
   "cell_type": "code",
   "execution_count": null,
   "metadata": {
    "scrolled": true
   },
   "outputs": [],
   "source": [
    "print(datetime.datetime.now().strftime(\"%H:%M:%S\"))\n",
    "now = datetime.datetime.now()\n",
    "\n",
    "history_VGG_2 = model_VGG_2.fit(train_generator, validation_data = validation_generator, epochs=50, verbose=0)\n",
    "\n",
    "print(datetime.datetime.now().strftime(\"%H:%M:%S\"))\n",
    "print(\"Took = \", datetime.datetime.now() - now)"
   ]
  },
  {
   "cell_type": "code",
   "execution_count": null,
   "metadata": {
    "scrolled": true
   },
   "outputs": [],
   "source": [
    "PlotModelFitHistory(history_VGG_2)"
   ]
  },
  {
   "cell_type": "code",
   "execution_count": null,
   "metadata": {
    "scrolled": true
   },
   "outputs": [],
   "source": [
    "test_y = testData['isCancerous'].astype('int')\n",
    "\n",
    "pred_y_vgg2 = model_VGG_2.predict(test_generator, batch_size=64, verbose=1)\n",
    "pred_y_vgg2 = np.argmax(pred_y_vgg2, axis=1)"
   ]
  },
  {
   "cell_type": "code",
   "execution_count": null,
   "metadata": {
    "scrolled": true
   },
   "outputs": [],
   "source": [
    "print(classification_report(test_y, pred_y_vgg2, zero_division=0))"
   ]
  },
  {
   "cell_type": "code",
   "execution_count": null,
   "metadata": {
    "scrolled": true
   },
   "outputs": [],
   "source": [
    "PlotConfusionMatrix(test_y, pred_y_vgg2)"
   ]
  },
  {
   "cell_type": "markdown",
   "metadata": {},
   "source": [
    "### Observations\n",
    "* The model still took a long time to train\n",
    "* There looks to be minimal overfitting\n",
    "* Reducing the number of epochs to 50 showed minimal loss issues but accuracy was jumbled - perhaps training rate too high\n",
    "\n",
    "*Big Issue* Still not detecting any true cases!"
   ]
  },
  {
   "cell_type": "code",
   "execution_count": null,
   "metadata": {},
   "outputs": [],
   "source": []
  }
 ],
 "metadata": {
  "kernelspec": {
   "display_name": "Python 3",
   "language": "python",
   "name": "python3"
  },
  "language_info": {
   "codemirror_mode": {
    "name": "ipython",
    "version": 3
   },
   "file_extension": ".py",
   "mimetype": "text/x-python",
   "name": "python",
   "nbconvert_exporter": "python",
   "pygments_lexer": "ipython3",
   "version": "3.7.7"
  }
 },
 "nbformat": 4,
 "nbformat_minor": 4
}
