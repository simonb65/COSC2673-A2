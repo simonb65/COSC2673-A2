{
 "cells": [
  {
   "cell_type": "markdown",
   "metadata": {},
   "source": [
    "# COCS2673 Assignment 2 P1A - Cancer detection in images"
   ]
  },
  {
   "cell_type": "code",
   "execution_count": 1,
   "metadata": {
    "scrolled": true
   },
   "outputs": [],
   "source": [
    "#!pip install tensorflow"
   ]
  },
  {
   "cell_type": "code",
   "execution_count": 2,
   "metadata": {
    "scrolled": true
   },
   "outputs": [],
   "source": [
    "#import zipfile\n",
    "#with zipfile.ZipFile('./Image_classification_data.zip', 'r') as zip_ref:\n",
    "#   zip_ref.extractall('./')"
   ]
  },
  {
   "cell_type": "code",
   "execution_count": 3,
   "metadata": {
    "scrolled": true
   },
   "outputs": [],
   "source": [
    "#!pwd"
   ]
  },
  {
   "cell_type": "code",
   "execution_count": 33,
   "metadata": {
    "scrolled": true
   },
   "outputs": [
    {
     "data": {
      "text/plain": [
       "'2.4.1'"
      ]
     },
     "execution_count": 33,
     "metadata": {},
     "output_type": "execute_result"
    }
   ],
   "source": [
    "import tensorflow as tf\n",
    "#AUTOTUNE = tf.data.experimental.AUTOTUNE\n",
    "\n",
    "import IPython.display as display\n",
    "from PIL import Image\n",
    "import pandas as pd\n",
    "import numpy as np\n",
    "import matplotlib.pyplot as plt\n",
    "import os\n",
    "import datetime\n",
    "\n",
    "import pandas as pd\n",
    "\n",
    "from tensorflow.keras.callbacks import EarlyStopping\n",
    "from sklearn.metrics import classification_report\n",
    "from sklearn.metrics import confusion_matrix, accuracy_score, f1_score\n",
    "\n",
    "\n",
    "tf.__version__"
   ]
  },
  {
   "cell_type": "markdown",
   "metadata": {},
   "source": [
    "# Read Data\n",
    "Split data into train, validation, and test\n",
    "Note that images for the same patient may contain a mix of cancerous and non-cancerous data.\n",
    "Q - Sould we split on patient or just randomly\n",
    "\n"
   ]
  },
  {
   "cell_type": "code",
   "execution_count": 5,
   "metadata": {
    "scrolled": true
   },
   "outputs": [],
   "source": [
    "mainData = pd.read_csv('./data_labels_mainData.csv')\n",
    "extraData = pd.read_csv('./data_labels_extraData.csv')"
   ]
  },
  {
   "cell_type": "code",
   "execution_count": 6,
   "metadata": {
    "scrolled": true
   },
   "outputs": [],
   "source": [
    "mainData = mainData.sample(2000)   # Sampling used for inital model development\n",
    "#mainData = mainData.append(extraData, ignore_index=True)"
   ]
  },
  {
   "cell_type": "code",
   "execution_count": 7,
   "metadata": {},
   "outputs": [],
   "source": [
    "mainData = mainData.sample(frac=1).reset_index(drop=True)"
   ]
  },
  {
   "cell_type": "code",
   "execution_count": 8,
   "metadata": {},
   "outputs": [
    {
     "data": {
      "text/plain": [
       "2000"
      ]
     },
     "execution_count": 8,
     "metadata": {},
     "output_type": "execute_result"
    }
   ],
   "source": [
    "mainData.shape[0]"
   ]
  },
  {
   "cell_type": "markdown",
   "metadata": {},
   "source": [
    "Update Categorical Data types"
   ]
  },
  {
   "cell_type": "code",
   "execution_count": 9,
   "metadata": {
    "scrolled": true
   },
   "outputs": [],
   "source": [
    "mainData.drop(['InstanceID'], axis=1,inplace=True)\n",
    "mainData.drop(['cellType'], axis=1,inplace=True)\n",
    "mainData.drop(['cellTypeName'], axis=1,inplace=True)\n"
   ]
  },
  {
   "cell_type": "markdown",
   "metadata": {},
   "source": [
    "**There are no missing values in the datasets.**"
   ]
  },
  {
   "cell_type": "code",
   "execution_count": 10,
   "metadata": {
    "scrolled": true
   },
   "outputs": [],
   "source": [
    "def BinBreakdown(desc, data):\n",
    "    neg, pos = np.bincount(data)\n",
    "    total = neg + pos\n",
    "    print('{} Class Data:\\n    Total: {}\\n    Positive: {} ({:.2f}% of total)\\n'.format(desc, total, pos, 100 * pos / total))"
   ]
  },
  {
   "cell_type": "code",
   "execution_count": 11,
   "metadata": {},
   "outputs": [
    {
     "name": "stdout",
     "output_type": "stream",
     "text": [
      "Input Data Class Data:\n",
      "    Total: 2000\n",
      "    Positive: 820 (41.00% of total)\n",
      "\n"
     ]
    }
   ],
   "source": [
    "BinBreakdown('Input Data', mainData.isCancerous)"
   ]
  },
  {
   "cell_type": "markdown",
   "metadata": {},
   "source": [
    "# Train/Validation/Test Split on Patients"
   ]
  },
  {
   "cell_type": "markdown",
   "metadata": {},
   "source": [
    "### Add classification class"
   ]
  },
  {
   "cell_type": "code",
   "execution_count": 12,
   "metadata": {
    "scrolled": true
   },
   "outputs": [],
   "source": [
    "mainData['isCancerous'] = mainData['isCancerous'].astype('str')"
   ]
  },
  {
   "cell_type": "markdown",
   "metadata": {},
   "source": [
    "### Split Data into Train/Validate/Test\n",
    "For test and training data split via person.\n",
    "This assumes that if a person has cancer or not, then would the images for that person have cancer.\n",
    "Also different cell types per person would be used for validation/testing."
   ]
  },
  {
   "cell_type": "code",
   "execution_count": 13,
   "metadata": {
    "scrolled": true
   },
   "outputs": [],
   "source": [
    "# Get list of patients and observation counts\n",
    "# Allocate approc 25% of data for Validation and Testing - of that 60%/40% for validation/test split.\n",
    "TEST_RATIO = 0.10\n",
    "VAL_RATIO = 0.15\n"
   ]
  },
  {
   "cell_type": "code",
   "execution_count": 14,
   "metadata": {
    "scrolled": true
   },
   "outputs": [],
   "source": [
    "# Split train tests by ratios\n",
    "# Select random patients until the number of images for \n",
    "# each patient sums to the number of records require\n",
    "\n",
    "np.random.seed(43) # Consistent random list\n",
    "\n",
    "recCount = mainData.shape[0]\n",
    "patientRec = mainData.patientID.value_counts().to_dict()\n",
    "    \n",
    "patientIds = list(patientRec.keys())\n",
    "\n",
    "# Loop through selecting a patient at random summing the number of images they have\n",
    "# until the count of images crosses is more than required number\n",
    "\n",
    "testCust = []\n",
    "testRecs = 0\n",
    "while (testRecs < (recCount * TEST_RATIO)):\n",
    "    pId = np.random.choice(patientIds)\n",
    "    ic = patientRec.get(pId)\n",
    "    patientIds.remove(pId)\n",
    "    testCust.append(pId)\n",
    "    testRecs += ic\n",
    "    \n",
    "#print(testCust, testRecs)\n",
    "\n",
    "valCust = []\n",
    "valRecs = 0\n",
    "while (valRecs < (recCount * VAL_RATIO)):\n",
    "    pId = np.random.choice(patientIds)\n",
    "    ic = patientRec.get(pId)\n",
    "    patientIds.remove(pId)\n",
    "    valCust.append(pId)\n",
    "    valRecs += ic\n",
    "\n",
    "#print(valCust, valRecs)"
   ]
  },
  {
   "cell_type": "code",
   "execution_count": 15,
   "metadata": {
    "scrolled": true
   },
   "outputs": [],
   "source": [
    "testData = mainData[mainData.patientID.isin(testCust)]\n",
    "valData = mainData[mainData.patientID.isin(valCust)]\n",
    "trainData = mainData[~(mainData.patientID.isin(valCust + testCust))]"
   ]
  },
  {
   "cell_type": "code",
   "execution_count": 16,
   "metadata": {
    "scrolled": true
   },
   "outputs": [
    {
     "name": "stdout",
     "output_type": "stream",
     "text": [
      "Train data : 1459, Val Data: 303, Test Data: 238\n",
      "Train data : 72.95%, Val Data: 15.15%, Test Data: 11.90%\n"
     ]
    }
   ],
   "source": [
    "totalRecs = mainData.shape[0]\n",
    "#print(trainData.shape[0] + valData.shape[0] + testData.shape[0])\n",
    "\n",
    "print(\"Train data : {}, Val Data: {}, Test Data: {}\".format(trainData.shape[0], valData.shape[0], testData.shape[0]))\n",
    "print(\"Train data : {:.2f}%, Val Data: {:.2f}%, Test Data: {:.2f}%\".format(\n",
    "    100 * trainData.shape[0] / totalRecs, 100 * valData.shape[0]/totalRecs, 100 * testData.shape[0]/totalRecs))"
   ]
  },
  {
   "cell_type": "code",
   "execution_count": 17,
   "metadata": {},
   "outputs": [
    {
     "name": "stdout",
     "output_type": "stream",
     "text": [
      "Train Class Data:\n",
      "    Total: 1459\n",
      "    Positive: 563 (38.59% of total)\n",
      "\n",
      "Validation Class Data:\n",
      "    Total: 303\n",
      "    Positive: 128 (42.24% of total)\n",
      "\n",
      "Test Class Data:\n",
      "    Total: 238\n",
      "    Positive: 129 (54.20% of total)\n",
      "\n"
     ]
    }
   ],
   "source": [
    "BinBreakdown('Train', trainData.isCancerous)\n",
    "BinBreakdown('Validation', valData.isCancerous)\n",
    "BinBreakdown('Test', testData.isCancerous)"
   ]
  },
  {
   "cell_type": "code",
   "execution_count": 18,
   "metadata": {
    "scrolled": true
   },
   "outputs": [
    {
     "data": {
      "text/plain": [
       "([0, 1], <a list of 2 Text xticklabel objects>)"
      ]
     },
     "execution_count": 18,
     "metadata": {},
     "output_type": "execute_result"
    },
    {
     "data": {
      "image/png": "[encoded data removed]",
      "text/plain": [
       "<Figure size 432x288 with 1 Axes>"
      ]
     },
     "metadata": {
      "needs_background": "light"
     },
     "output_type": "display_data"
    }
   ],
   "source": [
    "plt.bar(\n",
    "    trainData.isCancerous.value_counts().index.astype(str), \n",
    "    trainData.isCancerous.value_counts().values/np.sum(trainData.isCancerous.value_counts().values), \n",
    "    alpha=0.3, \n",
    "    color='r')\n",
    "\n",
    "plt.bar(\n",
    "    valData.isCancerous.value_counts().index.astype(str), \n",
    "    valData.isCancerous.value_counts().values/np.sum(valData.isCancerous.value_counts().values), \n",
    "    alpha=0.3, \n",
    "    color='b')\n",
    "\n",
    "plt.bar(\n",
    "    testData.isCancerous.value_counts().index.astype(str), \n",
    "    testData.isCancerous.value_counts().values/np.sum(testData.isCancerous.value_counts().values), \n",
    "    alpha=0.3, \n",
    "    color='g')\n",
    "\n",
    "plt.title('isCancerous - Train vs Test')\n",
    "plt.xticks(rotation='vertical')"
   ]
  },
  {
   "cell_type": "markdown",
   "metadata": {},
   "source": [
    "**Observations:**\n",
    "1. Train/Validation/Test data distributions sets have similar distributions"
   ]
  },
  {
   "cell_type": "markdown",
   "metadata": {},
   "source": [
    "# Images\n",
    "27x27 RGB "
   ]
  },
  {
   "cell_type": "markdown",
   "metadata": {},
   "source": [
    "# Questions\n",
    "* Results are the same for all models - looks bad but I can work out why\n",
    "* accuracy jumps around but how to set learning rate?"
   ]
  },
  {
   "cell_type": "code",
   "execution_count": 19,
   "metadata": {
    "scrolled": true
   },
   "outputs": [
    {
     "name": "stdout",
     "output_type": "stream",
     "text": [
      "Found 1459 validated image filenames belonging to 2 classes.\n",
      "Found 303 validated image filenames belonging to 2 classes.\n",
      "Found 238 validated image filenames belonging to 2 classes.\n"
     ]
    }
   ],
   "source": [
    "from tensorflow.keras.preprocessing.image import ImageDataGenerator\n",
    "\n",
    "# Training add Data Augmentation to assist with any overfitting (see Sirinukunwattana et al 2016)\n",
    "train_datagen = ImageDataGenerator(\n",
    "    rescale=1./255, \n",
    "    data_format='channels_last',\n",
    "    #rotation_range=90, \n",
    "    #width_shift_range=0.1,\n",
    "    #height_shift_range=0.1, \n",
    "    #brightness_range=[0.5,1.5]\n",
    ")\n",
    "\n",
    "val_datagen = ImageDataGenerator(rescale=1./255, data_format='channels_last')\n",
    "\n",
    "batch_size = 32\n",
    "\n",
    "train_generator = train_datagen.flow_from_dataframe(\n",
    "        dataframe=trainData,\n",
    "        directory='./patch_images',\n",
    "        x_col=\"ImageName\",\n",
    "        y_col=\"isCancerous\",\n",
    "        target_size=(27, 27),\n",
    "        batch_size=batch_size,\n",
    "        class_mode='categorical')\n",
    "\n",
    "validation_generator = val_datagen.flow_from_dataframe(\n",
    "        dataframe=valData,\n",
    "        directory='patch_images',\n",
    "        x_col=\"ImageName\",\n",
    "        y_col=\"isCancerous\",\n",
    "        target_size=(27, 27),\n",
    "        batch_size=batch_size,\n",
    "        class_mode='categorical')\n",
    "\n",
    "test_generator = val_datagen.flow_from_dataframe(\n",
    "        dataframe=testData,\n",
    "        directory='patch_images',\n",
    "        x_col=\"ImageName\",\n",
    "        y_col=\"isCancerous\",\n",
    "        target_size=(27, 27),\n",
    "        batch_size=batch_size,\n",
    "        class_mode='categorical')"
   ]
  },
  {
   "cell_type": "markdown",
   "metadata": {},
   "source": [
    "### Utility Functions"
   ]
  },
  {
   "cell_type": "code",
   "execution_count": 20,
   "metadata": {},
   "outputs": [],
   "source": [
    "import seaborn as sn\n",
    "import matplotlib.pyplot as plt\n",
    "from sklearn.metrics import confusion_matrix\n",
    "from sklearn.metrics import classification_report\n"
   ]
  },
  {
   "cell_type": "code",
   "execution_count": 21,
   "metadata": {
    "scrolled": true
   },
   "outputs": [],
   "source": [
    "def PlotModelFitHistory(mh):\n",
    "    plt.figure(figsize=(10,5))\n",
    "    plt.subplot(1,2,1)\n",
    "    plt.plot(mh.history['loss'], 'r--')\n",
    "    plt.plot(mh.history['val_loss'], 'b--')\n",
    "    plt.xlabel(\"epochs\")\n",
    "    plt.ylabel(\"Loss\")\n",
    "    plt.legend(['train', 'val'], loc='upper left')\n",
    "\n",
    "    plt.subplot(1,2,2)\n",
    "    plt.plot(mh.history['categorical_accuracy'], 'r--')\n",
    "    plt.plot(mh.history['val_categorical_accuracy'], 'b--')\n",
    "    plt.xlabel(\"epochs\")\n",
    "    plt.ylabel(\"Accuracy\")\n",
    "    plt.legend(['train', 'val'], loc='upper left')\n",
    "\n",
    "    plt.show()\n"
   ]
  },
  {
   "cell_type": "code",
   "execution_count": 22,
   "metadata": {
    "scrolled": true
   },
   "outputs": [],
   "source": [
    "def PlotConfusionMatrix(test, pred):\n",
    "    cm = confusion_matrix(test, pred)\n",
    "    group_names = ['True Neg','False Pos','False Neg','True Pos']\n",
    "    group_counts = [\"{0:0.0f}\".format(value) for value in cm.flatten()]\n",
    "    group_percentages = [\"{0:.2%}\".format(value) for value in cm.flatten()/np.sum(cm)]\n",
    "    labels = [f\"{v1}\\n{v2}\\n{v3}\" for v1, v2, v3 in zip(group_names, group_counts, group_percentages)]\n",
    "    labels = np.asarray(labels).reshape(2,2)\n",
    "    sn.heatmap(cm, annot=labels, fmt='', cmap='Blues')"
   ]
  },
  {
   "cell_type": "markdown",
   "metadata": {},
   "source": [
    "# Model Development"
   ]
  },
  {
   "cell_type": "code",
   "execution_count": 23,
   "metadata": {},
   "outputs": [],
   "source": [
    "def CompileModel(model):\n",
    "    opt = tf.keras.optimizers.Adagrad()\n",
    "    model.compile(optimizer=opt,\n",
    "              loss=tf.keras.losses.CategoricalCrossentropy(from_logits=False),\n",
    "              metrics=['categorical_accuracy', 'accuracy'])\n",
    "    "
   ]
  },
  {
   "cell_type": "code",
   "execution_count": 24,
   "metadata": {},
   "outputs": [],
   "source": [
    "early_stopping_monitor = EarlyStopping(patience=10, monitor='val_categorical_accuracy')\n",
    "\n",
    "def FitModel(model):\n",
    "\n",
    "    print('start ', datetime.datetime.now().strftime(\"%H:%M:%S\"))\n",
    "    now = datetime.datetime.now()\n",
    "\n",
    "    fit_history = model.fit(train_generator, validation_data = validation_generator, \n",
    "                            callbacks=[early_stopping_monitor], epochs=10000, verbose=1)\n",
    "\n",
    "    print('stop ', datetime.datetime.now().strftime(\"%H:%M:%S\"))\n",
    "    print(\"Took = \", datetime.datetime.now() - now)\n",
    "    \n",
    "    return fit_history"
   ]
  },
  {
   "cell_type": "code",
   "execution_count": 25,
   "metadata": {},
   "outputs": [],
   "source": [
    "def PredictModel(model):\n",
    "    batch_size_ = 1\n",
    "    y_pred = list()\n",
    "    y_test = list()\n",
    "    filenames = test_generator.filenames\n",
    "    N_images = len(filenames)\n",
    "    batches = 0\n",
    "\n",
    "    # iterate through the data generator and predict for each batch\n",
    "    # hold the predictions and labels\n",
    "    for x,y in test_generator:\n",
    "            yp = model_reg.predict(x, verbose=0)\n",
    "            yp = np.argmax(yp, axis = 1)\n",
    "            yt = np.argmax(y, axis = 1)\n",
    "            y_pred = y_pred + yp.tolist()\n",
    "            y_test = y_test + yt.tolist()\n",
    "\n",
    "            batches += 1\n",
    "            if batches >= N_images / batch_size_:\n",
    "                break\n",
    "                \n",
    "    return (y_test, y_pred)"
   ]
  },
  {
   "cell_type": "markdown",
   "metadata": {},
   "source": [
    "# Base Model"
   ]
  },
  {
   "cell_type": "code",
   "execution_count": 26,
   "metadata": {},
   "outputs": [],
   "source": [
    "INPUT_DIM = (27,27,3)\n",
    "OUTPUT_CLASSES = 2\n"
   ]
  },
  {
   "cell_type": "code",
   "execution_count": 27,
   "metadata": {},
   "outputs": [],
   "source": [
    "model_reg = tf.keras.Sequential([\n",
    "    tf.keras.layers.Flatten(input_shape=INPUT_DIM),\n",
    "    tf.keras.layers.Dense(256, activation='relu'),\n",
    "    tf.keras.layers.Dropout(.2),\n",
    "    tf.keras.layers.Dense(OUTPUT_CLASSES, activation='sigmoid')\n",
    "])"
   ]
  },
  {
   "cell_type": "code",
   "execution_count": 28,
   "metadata": {},
   "outputs": [],
   "source": [
    "CompileModel(model_reg)"
   ]
  },
  {
   "cell_type": "code",
   "execution_count": 29,
   "metadata": {},
   "outputs": [
    {
     "name": "stdout",
     "output_type": "stream",
     "text": [
      "start  17:32:25\n",
      "Epoch 1/10000\n",
      "46/46 [==============================] - 3s 47ms/step - loss: 0.7296 - categorical_accuracy: 0.5645 - accuracy: 0.5645 - val_loss: 0.6283 - val_categorical_accuracy: 0.5809 - val_accuracy: 0.5809\n",
      "Epoch 2/10000\n",
      "46/46 [==============================] - 1s 21ms/step - loss: 0.6463 - categorical_accuracy: 0.6437 - accuracy: 0.6437 - val_loss: 0.6156 - val_categorical_accuracy: 0.5809 - val_accuracy: 0.5809\n",
      "Epoch 3/10000\n",
      "46/46 [==============================] - 1s 24ms/step - loss: 0.5730 - categorical_accuracy: 0.7001 - accuracy: 0.7001 - val_loss: 0.5866 - val_categorical_accuracy: 0.6073 - val_accuracy: 0.6073\n",
      "Epoch 4/10000\n",
      "46/46 [==============================] - 1s 25ms/step - loss: 0.5209 - categorical_accuracy: 0.7457 - accuracy: 0.7457 - val_loss: 0.5209 - val_categorical_accuracy: 0.7921 - val_accuracy: 0.7921\n",
      "Epoch 5/10000\n",
      "46/46 [==============================] - 1s 24ms/step - loss: 0.5187 - categorical_accuracy: 0.7501 - accuracy: 0.7501 - val_loss: 0.5314 - val_categorical_accuracy: 0.6931 - val_accuracy: 0.6931\n",
      "Epoch 6/10000\n",
      "46/46 [==============================] - 1s 20ms/step - loss: 0.4928 - categorical_accuracy: 0.7718 - accuracy: 0.7718 - val_loss: 0.4924 - val_categorical_accuracy: 0.8383 - val_accuracy: 0.8383\n",
      "Epoch 7/10000\n",
      "46/46 [==============================] - 1s 25ms/step - loss: 0.4730 - categorical_accuracy: 0.7940 - accuracy: 0.7940 - val_loss: 0.4881 - val_categorical_accuracy: 0.8020 - val_accuracy: 0.8020\n",
      "Epoch 8/10000\n",
      "46/46 [==============================] - 1s 23ms/step - loss: 0.4684 - categorical_accuracy: 0.8200 - accuracy: 0.8200 - val_loss: 0.4758 - val_categorical_accuracy: 0.7789 - val_accuracy: 0.7789\n",
      "Epoch 9/10000\n",
      "46/46 [==============================] - 1s 23ms/step - loss: 0.4495 - categorical_accuracy: 0.8090 - accuracy: 0.8090 - val_loss: 0.4612 - val_categorical_accuracy: 0.8218 - val_accuracy: 0.8218\n",
      "Epoch 10/10000\n",
      "46/46 [==============================] - 1s 22ms/step - loss: 0.4432 - categorical_accuracy: 0.8254 - accuracy: 0.8254 - val_loss: 0.4500 - val_categorical_accuracy: 0.7987 - val_accuracy: 0.7987\n",
      "Epoch 11/10000\n",
      "46/46 [==============================] - 1s 21ms/step - loss: 0.4435 - categorical_accuracy: 0.8200 - accuracy: 0.8200 - val_loss: 0.4475 - val_categorical_accuracy: 0.8119 - val_accuracy: 0.8119\n",
      "Epoch 12/10000\n",
      "46/46 [==============================] - 1s 23ms/step - loss: 0.4118 - categorical_accuracy: 0.8559 - accuracy: 0.8559 - val_loss: 0.4351 - val_categorical_accuracy: 0.8020 - val_accuracy: 0.8020\n",
      "Epoch 13/10000\n",
      "46/46 [==============================] - 1s 23ms/step - loss: 0.3990 - categorical_accuracy: 0.8517 - accuracy: 0.8517 - val_loss: 0.4515 - val_categorical_accuracy: 0.7888 - val_accuracy: 0.7888\n",
      "Epoch 14/10000\n",
      "46/46 [==============================] - 1s 22ms/step - loss: 0.4049 - categorical_accuracy: 0.8414 - accuracy: 0.8414 - val_loss: 0.4558 - val_categorical_accuracy: 0.7921 - val_accuracy: 0.7921\n",
      "Epoch 15/10000\n",
      "46/46 [==============================] - 1s 22ms/step - loss: 0.4038 - categorical_accuracy: 0.8294 - accuracy: 0.8294 - val_loss: 0.4151 - val_categorical_accuracy: 0.8449 - val_accuracy: 0.8449\n",
      "Epoch 16/10000\n",
      "46/46 [==============================] - 1s 21ms/step - loss: 0.3914 - categorical_accuracy: 0.8604 - accuracy: 0.8604 - val_loss: 0.4179 - val_categorical_accuracy: 0.8284 - val_accuracy: 0.8284\n",
      "Epoch 17/10000\n",
      "46/46 [==============================] - 1s 20ms/step - loss: 0.3783 - categorical_accuracy: 0.8680 - accuracy: 0.8680 - val_loss: 0.4091 - val_categorical_accuracy: 0.8416 - val_accuracy: 0.8416\n",
      "Epoch 18/10000\n",
      "46/46 [==============================] - 1s 20ms/step - loss: 0.3983 - categorical_accuracy: 0.8386 - accuracy: 0.8386 - val_loss: 0.4056 - val_categorical_accuracy: 0.8416 - val_accuracy: 0.8416\n",
      "Epoch 19/10000\n",
      "46/46 [==============================] - 1s 20ms/step - loss: 0.3858 - categorical_accuracy: 0.8541 - accuracy: 0.8541 - val_loss: 0.4074 - val_categorical_accuracy: 0.8350 - val_accuracy: 0.8350\n",
      "Epoch 20/10000\n",
      "46/46 [==============================] - 1s 22ms/step - loss: 0.3892 - categorical_accuracy: 0.8483 - accuracy: 0.8483 - val_loss: 0.3981 - val_categorical_accuracy: 0.8251 - val_accuracy: 0.8251\n",
      "Epoch 21/10000\n",
      "46/46 [==============================] - 1s 20ms/step - loss: 0.3816 - categorical_accuracy: 0.8394 - accuracy: 0.8394 - val_loss: 0.4004 - val_categorical_accuracy: 0.8020 - val_accuracy: 0.8020\n",
      "Epoch 22/10000\n",
      "46/46 [==============================] - 1s 19ms/step - loss: 0.3706 - categorical_accuracy: 0.8509 - accuracy: 0.8509 - val_loss: 0.4086 - val_categorical_accuracy: 0.8086 - val_accuracy: 0.8086\n",
      "Epoch 23/10000\n",
      "46/46 [==============================] - 1s 20ms/step - loss: 0.3565 - categorical_accuracy: 0.8551 - accuracy: 0.8551 - val_loss: 0.3900 - val_categorical_accuracy: 0.8416 - val_accuracy: 0.8416\n",
      "Epoch 24/10000\n",
      "46/46 [==============================] - 1s 21ms/step - loss: 0.3597 - categorical_accuracy: 0.8571 - accuracy: 0.8571 - val_loss: 0.4001 - val_categorical_accuracy: 0.8152 - val_accuracy: 0.8152\n",
      "Epoch 25/10000\n",
      "46/46 [==============================] - 1s 20ms/step - loss: 0.3579 - categorical_accuracy: 0.8624 - accuracy: 0.8624 - val_loss: 0.4025 - val_categorical_accuracy: 0.8152 - val_accuracy: 0.8152\n",
      "stop  17:32:53\n",
      "Took =  0:00:27.179264\n"
     ]
    }
   ],
   "source": [
    "history_reg = FitModel(model_reg)"
   ]
  },
  {
   "cell_type": "code",
   "execution_count": 30,
   "metadata": {},
   "outputs": [
    {
     "data": {
      "image/png": "[encoded data removed]",
      "text/plain": [
       "<Figure size 720x360 with 2 Axes>"
      ]
     },
     "metadata": {
      "needs_background": "light"
     },
     "output_type": "display_data"
    }
   ],
   "source": [
    "PlotModelFitHistory(history_reg)"
   ]
  },
  {
   "cell_type": "code",
   "execution_count": 31,
   "metadata": {},
   "outputs": [],
   "source": [
    "(test_y, pred_y) = PredictModel(model_reg)"
   ]
  },
  {
   "cell_type": "code",
   "execution_count": 34,
   "metadata": {},
   "outputs": [
    {
     "name": "stdout",
     "output_type": "stream",
     "text": [
      "Accuracy score:  0.8450803495912038\n",
      "F1 score:  0.8450548532187865\n",
      "              precision    recall  f1-score   support\n",
      "\n",
      "           0       0.79      0.91      0.84      3247\n",
      "           1       0.91      0.79      0.85      3847\n",
      "\n",
      "    accuracy                           0.85      7094\n",
      "   macro avg       0.85      0.85      0.85      7094\n",
      "weighted avg       0.85      0.85      0.85      7094\n",
      "\n"
     ]
    }
   ],
   "source": [
    "print(\"Accuracy score: \", accuracy_score(test_y, pred_y))\n",
    "print(\"F1 score: \", f1_score(test_y, pred_y, average='macro'))\n",
    "\n",
    "print(classification_report(test_y, pred_y, zero_division=0))"
   ]
  },
  {
   "cell_type": "code",
   "execution_count": 35,
   "metadata": {},
   "outputs": [
    {
     "data": {
      "image/png": "[encoded data removed]",
      "text/plain": [
       "<Figure size 432x288 with 2 Axes>"
      ]
     },
     "metadata": {
      "needs_background": "light"
     },
     "output_type": "display_data"
    }
   ],
   "source": [
    "PlotConfusionMatrix(test_y, pred_y)"
   ]
  },
  {
   "cell_type": "code",
   "execution_count": null,
   "metadata": {},
   "outputs": [],
   "source": []
  },
  {
   "cell_type": "markdown",
   "metadata": {},
   "source": [
    "## 5. VGG 2 with simplified convolutions\n",
    "* We have 20k images so that should be ok for training\n",
    "* image size is small so down scaling is not too beneficial\n",
    "* after 40 epics so could stop early \n",
    "* over fitting so reduce the number of convolutions\n",
    "* Given number of images, data augmentation probably not required\n"
   ]
  },
  {
   "cell_type": "code",
   "execution_count": 36,
   "metadata": {
    "scrolled": true
   },
   "outputs": [],
   "source": [
    "model_VGG_2 = tf.keras.Sequential([\n",
    "    #VGG block 1\n",
    "    tf.keras.layers.Conv2D(32, (3, 3), activation='relu', padding='same', input_shape=INPUT_DIM),\n",
    "    tf.keras.layers.Conv2D(32, (3, 3), activation='relu', padding='same'),\n",
    "    tf.keras.layers.MaxPooling2D((2, 2)),\n",
    "    \n",
    "    #VGG block 2\n",
    "    tf.keras.layers.Conv2D(64, (3, 3), activation='relu', padding='same'),\n",
    "    tf.keras.layers.Conv2D(64, (3, 3), activation='relu', padding='same'),\n",
    "    tf.keras.layers.MaxPooling2D((2, 2)),\n",
    "    \n",
    "    tf.keras.layers.Flatten(),\n",
    "    \n",
    "    tf.keras.layers.Dense(256, activation='relu'),\n",
    "    tf.keras.layers.Dropout(.2),\n",
    "    tf.keras.layers.Dense(OUTPUT_CLASSES, activation='sigmoid')\n",
    "])\n"
   ]
  },
  {
   "cell_type": "code",
   "execution_count": 37,
   "metadata": {},
   "outputs": [],
   "source": [
    "CompileModel(model_VGG_2)"
   ]
  },
  {
   "cell_type": "code",
   "execution_count": 38,
   "metadata": {},
   "outputs": [
    {
     "name": "stdout",
     "output_type": "stream",
     "text": [
      "start  17:35:51\n",
      "Epoch 1/10000\n",
      "46/46 [==============================] - 4s 80ms/step - loss: 0.6784 - categorical_accuracy: 0.5706 - accuracy: 0.5706 - val_loss: 0.6692 - val_categorical_accuracy: 0.5776 - val_accuracy: 0.5776\n",
      "Epoch 2/10000\n",
      "46/46 [==============================] - 3s 69ms/step - loss: 0.6448 - categorical_accuracy: 0.6339 - accuracy: 0.6339 - val_loss: 0.6649 - val_categorical_accuracy: 0.5776 - val_accuracy: 0.5776\n",
      "Epoch 3/10000\n",
      "46/46 [==============================] - 3s 69ms/step - loss: 0.6635 - categorical_accuracy: 0.5897 - accuracy: 0.5897 - val_loss: 0.6643 - val_categorical_accuracy: 0.5776 - val_accuracy: 0.5776\n",
      "Epoch 4/10000\n",
      "46/46 [==============================] - 3s 69ms/step - loss: 0.6594 - categorical_accuracy: 0.5898 - accuracy: 0.5898 - val_loss: 0.6597 - val_categorical_accuracy: 0.5776 - val_accuracy: 0.5776\n",
      "Epoch 5/10000\n",
      "46/46 [==============================] - 4s 76ms/step - loss: 0.6571 - categorical_accuracy: 0.5945 - accuracy: 0.5945 - val_loss: 0.6592 - val_categorical_accuracy: 0.5776 - val_accuracy: 0.5776\n",
      "Epoch 6/10000\n",
      "46/46 [==============================] - 3s 69ms/step - loss: 0.6318 - categorical_accuracy: 0.6239 - accuracy: 0.6239 - val_loss: 0.6490 - val_categorical_accuracy: 0.5776 - val_accuracy: 0.5776\n",
      "Epoch 7/10000\n",
      "46/46 [==============================] - 3s 70ms/step - loss: 0.6364 - categorical_accuracy: 0.6014 - accuracy: 0.6014 - val_loss: 0.6427 - val_categorical_accuracy: 0.5776 - val_accuracy: 0.5776\n",
      "Epoch 8/10000\n",
      "46/46 [==============================] - 3s 72ms/step - loss: 0.6246 - categorical_accuracy: 0.6158 - accuracy: 0.6158 - val_loss: 0.6352 - val_categorical_accuracy: 0.5776 - val_accuracy: 0.5776\n",
      "Epoch 9/10000\n",
      "46/46 [==============================] - 3s 73ms/step - loss: 0.6155 - categorical_accuracy: 0.6264 - accuracy: 0.6264 - val_loss: 0.6274 - val_categorical_accuracy: 0.5809 - val_accuracy: 0.5809\n",
      "Epoch 10/10000\n",
      "46/46 [==============================] - 3s 70ms/step - loss: 0.6191 - categorical_accuracy: 0.6079 - accuracy: 0.6079 - val_loss: 0.6182 - val_categorical_accuracy: 0.5809 - val_accuracy: 0.5809\n",
      "Epoch 11/10000\n",
      "46/46 [==============================] - 3s 71ms/step - loss: 0.5999 - categorical_accuracy: 0.6355 - accuracy: 0.6355 - val_loss: 0.6068 - val_categorical_accuracy: 0.5974 - val_accuracy: 0.5974\n",
      "Epoch 12/10000\n",
      "46/46 [==============================] - 3s 75ms/step - loss: 0.5922 - categorical_accuracy: 0.6465 - accuracy: 0.6465 - val_loss: 0.5936 - val_categorical_accuracy: 0.6337 - val_accuracy: 0.6337\n",
      "Epoch 13/10000\n",
      "46/46 [==============================] - 3s 70ms/step - loss: 0.5862 - categorical_accuracy: 0.6644 - accuracy: 0.6644 - val_loss: 0.5845 - val_categorical_accuracy: 0.6172 - val_accuracy: 0.6172\n",
      "Epoch 14/10000\n",
      "46/46 [==============================] - 3s 71ms/step - loss: 0.5506 - categorical_accuracy: 0.7084 - accuracy: 0.7084 - val_loss: 0.5634 - val_categorical_accuracy: 0.7459 - val_accuracy: 0.7459\n",
      "Epoch 15/10000\n",
      "46/46 [==============================] - 3s 70ms/step - loss: 0.5513 - categorical_accuracy: 0.7274 - accuracy: 0.7274 - val_loss: 0.5424 - val_categorical_accuracy: 0.7492 - val_accuracy: 0.7492\n",
      "Epoch 16/10000\n",
      "46/46 [==============================] - 3s 69ms/step - loss: 0.5187 - categorical_accuracy: 0.7640 - accuracy: 0.7640 - val_loss: 0.5234 - val_categorical_accuracy: 0.7558 - val_accuracy: 0.7558\n",
      "Epoch 17/10000\n",
      "46/46 [==============================] - 3s 70ms/step - loss: 0.5137 - categorical_accuracy: 0.7621 - accuracy: 0.7621 - val_loss: 0.5144 - val_categorical_accuracy: 0.7393 - val_accuracy: 0.7393\n",
      "Epoch 18/10000\n",
      "46/46 [==============================] - 3s 70ms/step - loss: 0.4863 - categorical_accuracy: 0.7843 - accuracy: 0.7843 - val_loss: 0.5014 - val_categorical_accuracy: 0.8053 - val_accuracy: 0.8053\n",
      "Epoch 19/10000\n",
      "46/46 [==============================] - 3s 71ms/step - loss: 0.4724 - categorical_accuracy: 0.7971 - accuracy: 0.7971 - val_loss: 0.4753 - val_categorical_accuracy: 0.7921 - val_accuracy: 0.7921\n",
      "Epoch 20/10000\n",
      "46/46 [==============================] - 3s 73ms/step - loss: 0.4665 - categorical_accuracy: 0.7891 - accuracy: 0.7891 - val_loss: 0.4619 - val_categorical_accuracy: 0.7789 - val_accuracy: 0.7789\n",
      "Epoch 21/10000\n",
      "46/46 [==============================] - 3s 74ms/step - loss: 0.4390 - categorical_accuracy: 0.8068 - accuracy: 0.8068 - val_loss: 0.4644 - val_categorical_accuracy: 0.8152 - val_accuracy: 0.8152\n",
      "Epoch 22/10000\n",
      "46/46 [==============================] - 3s 71ms/step - loss: 0.4264 - categorical_accuracy: 0.8277 - accuracy: 0.8277 - val_loss: 0.4796 - val_categorical_accuracy: 0.8185 - val_accuracy: 0.8185\n",
      "Epoch 23/10000\n",
      "46/46 [==============================] - 3s 71ms/step - loss: 0.4253 - categorical_accuracy: 0.8186 - accuracy: 0.8186 - val_loss: 0.4433 - val_categorical_accuracy: 0.7822 - val_accuracy: 0.7822\n",
      "Epoch 24/10000\n",
      "46/46 [==============================] - 3s 72ms/step - loss: 0.4224 - categorical_accuracy: 0.8122 - accuracy: 0.8122 - val_loss: 0.4339 - val_categorical_accuracy: 0.8119 - val_accuracy: 0.8119\n",
      "Epoch 25/10000\n",
      "46/46 [==============================] - 3s 71ms/step - loss: 0.4251 - categorical_accuracy: 0.8124 - accuracy: 0.8124 - val_loss: 0.4340 - val_categorical_accuracy: 0.8251 - val_accuracy: 0.8251\n",
      "Epoch 26/10000\n",
      "46/46 [==============================] - 3s 75ms/step - loss: 0.3939 - categorical_accuracy: 0.8263 - accuracy: 0.8263 - val_loss: 0.4267 - val_categorical_accuracy: 0.8119 - val_accuracy: 0.8119\n",
      "Epoch 27/10000\n",
      "46/46 [==============================] - 3s 70ms/step - loss: 0.3985 - categorical_accuracy: 0.8241 - accuracy: 0.8241 - val_loss: 0.4238 - val_categorical_accuracy: 0.8152 - val_accuracy: 0.8152\n",
      "Epoch 28/10000\n",
      "46/46 [==============================] - 3s 71ms/step - loss: 0.3847 - categorical_accuracy: 0.8376 - accuracy: 0.8376 - val_loss: 0.4233 - val_categorical_accuracy: 0.8317 - val_accuracy: 0.8317\n",
      "Epoch 29/10000\n",
      "46/46 [==============================] - 3s 71ms/step - loss: 0.3797 - categorical_accuracy: 0.8398 - accuracy: 0.8398 - val_loss: 0.4422 - val_categorical_accuracy: 0.8284 - val_accuracy: 0.8284\n",
      "Epoch 30/10000\n",
      "46/46 [==============================] - 3s 72ms/step - loss: 0.3860 - categorical_accuracy: 0.8375 - accuracy: 0.8375 - val_loss: 0.4273 - val_categorical_accuracy: 0.8185 - val_accuracy: 0.8185\n",
      "Epoch 31/10000\n",
      "46/46 [==============================] - 3s 74ms/step - loss: 0.3890 - categorical_accuracy: 0.8136 - accuracy: 0.8136 - val_loss: 0.4141 - val_categorical_accuracy: 0.8251 - val_accuracy: 0.8251\n",
      "Epoch 32/10000\n",
      "46/46 [==============================] - 3s 70ms/step - loss: 0.3755 - categorical_accuracy: 0.8420 - accuracy: 0.8420 - val_loss: 0.4249 - val_categorical_accuracy: 0.7822 - val_accuracy: 0.7822\n",
      "Epoch 33/10000\n",
      "46/46 [==============================] - 3s 69ms/step - loss: 0.3747 - categorical_accuracy: 0.8404 - accuracy: 0.8404 - val_loss: 0.4457 - val_categorical_accuracy: 0.8185 - val_accuracy: 0.8185\n",
      "Epoch 34/10000\n",
      "46/46 [==============================] - 3s 71ms/step - loss: 0.3755 - categorical_accuracy: 0.8368 - accuracy: 0.8368 - val_loss: 0.4092 - val_categorical_accuracy: 0.8284 - val_accuracy: 0.8284\n",
      "Epoch 35/10000\n",
      "46/46 [==============================] - 3s 70ms/step - loss: 0.3493 - categorical_accuracy: 0.8545 - accuracy: 0.8545 - val_loss: 0.4458 - val_categorical_accuracy: 0.8218 - val_accuracy: 0.8218\n",
      "Epoch 36/10000\n",
      "46/46 [==============================] - 3s 75ms/step - loss: 0.3506 - categorical_accuracy: 0.8482 - accuracy: 0.8482 - val_loss: 0.4186 - val_categorical_accuracy: 0.7921 - val_accuracy: 0.7921\n",
      "Epoch 37/10000\n",
      "46/46 [==============================] - 3s 72ms/step - loss: 0.3498 - categorical_accuracy: 0.8487 - accuracy: 0.8487 - val_loss: 0.4106 - val_categorical_accuracy: 0.8218 - val_accuracy: 0.8218\n",
      "Epoch 38/10000\n",
      "46/46 [==============================] - 3s 73ms/step - loss: 0.3681 - categorical_accuracy: 0.8486 - accuracy: 0.8486 - val_loss: 0.4007 - val_categorical_accuracy: 0.8251 - val_accuracy: 0.8251\n",
      "stop  17:37:57\n",
      "Took =  0:02:06.467944\n"
     ]
    }
   ],
   "source": [
    "history_VGG_2 = FitModel(model_VGG_2)"
   ]
  },
  {
   "cell_type": "code",
   "execution_count": 39,
   "metadata": {
    "scrolled": true
   },
   "outputs": [
    {
     "data": {
      "image/png": "[encoded data removed]",
      "text/plain": [
       "<Figure size 720x360 with 2 Axes>"
      ]
     },
     "metadata": {
      "needs_background": "light"
     },
     "output_type": "display_data"
    }
   ],
   "source": [
    "PlotModelFitHistory(history_VGG_2)"
   ]
  },
  {
   "cell_type": "code",
   "execution_count": 40,
   "metadata": {},
   "outputs": [],
   "source": [
    "(test_y, pred_y) = PredictModel(history_VGG_2)"
   ]
  },
  {
   "cell_type": "code",
   "execution_count": 41,
   "metadata": {},
   "outputs": [
    {
     "name": "stdout",
     "output_type": "stream",
     "text": [
      "Accuracy score:  0.8439796495195026\n",
      "F1 score:  0.8439597041957378\n",
      "              precision    recall  f1-score   support\n",
      "\n",
      "           0       0.79      0.91      0.84      3244\n",
      "           1       0.91      0.79      0.85      3832\n",
      "\n",
      "    accuracy                           0.84      7076\n",
      "   macro avg       0.85      0.85      0.84      7076\n",
      "weighted avg       0.85      0.84      0.84      7076\n",
      "\n"
     ]
    }
   ],
   "source": [
    "print(\"Accuracy score: \", accuracy_score(test_y, pred_y))\n",
    "print(\"F1 score: \", f1_score(test_y, pred_y, average='macro'))\n",
    "\n",
    "print(classification_report(test_y, pred_y, zero_division=0))"
   ]
  },
  {
   "cell_type": "code",
   "execution_count": 42,
   "metadata": {},
   "outputs": [
    {
     "data": {
      "image/png": "[encoded data removed]",
      "text/plain": [
       "<Figure size 432x288 with 2 Axes>"
      ]
     },
     "metadata": {
      "needs_background": "light"
     },
     "output_type": "display_data"
    }
   ],
   "source": [
    "PlotConfusionMatrix(test_y, pred_y)"
   ]
  },
  {
   "cell_type": "code",
   "execution_count": null,
   "metadata": {},
   "outputs": [],
   "source": []
  },
  {
   "cell_type": "markdown",
   "metadata": {},
   "source": [
    "### Observations\n",
    "* The model still took a long time to train\n",
    "* There looks to be minimal overfitting\n",
    "* Reducing the number of epochs to 50 showed minimal loss issues but accuracy was jumbled - perhaps training rate too high\n",
    "\n",
    "*Big Issue* Still not detecting any true cases!"
   ]
  },
  {
   "cell_type": "code",
   "execution_count": null,
   "metadata": {},
   "outputs": [],
   "source": []
  }
 ],
 "metadata": {
  "kernelspec": {
   "display_name": "Python 3",
   "language": "python",
   "name": "python3"
  },
  "language_info": {
   "codemirror_mode": {
    "name": "ipython",
    "version": 3
   },
   "file_extension": ".py",
   "mimetype": "text/x-python",
   "name": "python",
   "nbconvert_exporter": "python",
   "pygments_lexer": "ipython3",
   "version": "3.7.7"
  }
 },
 "nbformat": 4,
 "nbformat_minor": 4
}
