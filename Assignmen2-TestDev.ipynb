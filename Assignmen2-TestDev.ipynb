{
 "cells": [
  {
   "cell_type": "markdown",
   "id": "4a2fa6f6",
   "metadata": {},
   "source": [
    "# CellType classification model "
   ]
  },
  {
   "cell_type": "code",
   "execution_count": 1,
   "id": "2781e72c",
   "metadata": {},
   "outputs": [],
   "source": [
    "# import zipfile\n",
    "# with zipfile.ZipFile('./Image_classification_data.zip', 'r') as zip_ref:\n",
    "#     zip_ref.extractall('./')"
   ]
  },
  {
   "cell_type": "markdown",
   "id": "47f5243c",
   "metadata": {},
   "source": [
    "Import all the required libraries"
   ]
  },
  {
   "cell_type": "code",
   "execution_count": 2,
   "id": "8237c1f0",
   "metadata": {},
   "outputs": [],
   "source": [
    "import datetime\n",
    "\n",
    "import pandas as pd\n",
    "import numpy as np\n",
    "import matplotlib.pyplot as plt\n",
    "import seaborn as sns\n",
    "import tensorflow as tf\n",
    "from tensorflow import keras\n",
    "\n",
    "from tensorflow.keras.callbacks import EarlyStopping\n",
    "from sklearn.model_selection import train_test_split\n",
    "from sklearn.metrics import classification_report\n",
    "from sklearn.metrics import confusion_matrix, accuracy_score, f1_score"
   ]
  },
  {
   "cell_type": "markdown",
   "id": "17998d54",
   "metadata": {},
   "source": [
    "Load mainData and extraData into dataframes"
   ]
  },
  {
   "cell_type": "code",
   "execution_count": 3,
   "id": "826431af",
   "metadata": {},
   "outputs": [
    {
     "data": {
      "text/html": [
       "<div>\n",
       "<style scoped>\n",
       "    .dataframe tbody tr th:only-of-type {\n",
       "        vertical-align: middle;\n",
       "    }\n",
       "\n",
       "    .dataframe tbody tr th {\n",
       "        vertical-align: top;\n",
       "    }\n",
       "\n",
       "    .dataframe thead th {\n",
       "        text-align: right;\n",
       "    }\n",
       "</style>\n",
       "<table border=\"1\" class=\"dataframe\">\n",
       "  <thead>\n",
       "    <tr style=\"text-align: right;\">\n",
       "      <th></th>\n",
       "      <th>InstanceID</th>\n",
       "      <th>patientID</th>\n",
       "      <th>ImageName</th>\n",
       "      <th>cellTypeName</th>\n",
       "      <th>cellType</th>\n",
       "      <th>isCancerous</th>\n",
       "    </tr>\n",
       "  </thead>\n",
       "  <tbody>\n",
       "    <tr>\n",
       "      <th>0</th>\n",
       "      <td>22405</td>\n",
       "      <td>1</td>\n",
       "      <td>22405.png</td>\n",
       "      <td>fibroblast</td>\n",
       "      <td>0</td>\n",
       "      <td>0</td>\n",
       "    </tr>\n",
       "    <tr>\n",
       "      <th>1</th>\n",
       "      <td>22406</td>\n",
       "      <td>1</td>\n",
       "      <td>22406.png</td>\n",
       "      <td>fibroblast</td>\n",
       "      <td>0</td>\n",
       "      <td>0</td>\n",
       "    </tr>\n",
       "    <tr>\n",
       "      <th>2</th>\n",
       "      <td>22407</td>\n",
       "      <td>1</td>\n",
       "      <td>22407.png</td>\n",
       "      <td>fibroblast</td>\n",
       "      <td>0</td>\n",
       "      <td>0</td>\n",
       "    </tr>\n",
       "    <tr>\n",
       "      <th>3</th>\n",
       "      <td>22408</td>\n",
       "      <td>1</td>\n",
       "      <td>22408.png</td>\n",
       "      <td>fibroblast</td>\n",
       "      <td>0</td>\n",
       "      <td>0</td>\n",
       "    </tr>\n",
       "    <tr>\n",
       "      <th>4</th>\n",
       "      <td>22409</td>\n",
       "      <td>1</td>\n",
       "      <td>22409.png</td>\n",
       "      <td>fibroblast</td>\n",
       "      <td>0</td>\n",
       "      <td>0</td>\n",
       "    </tr>\n",
       "    <tr>\n",
       "      <th>...</th>\n",
       "      <td>...</td>\n",
       "      <td>...</td>\n",
       "      <td>...</td>\n",
       "      <td>...</td>\n",
       "      <td>...</td>\n",
       "      <td>...</td>\n",
       "    </tr>\n",
       "    <tr>\n",
       "      <th>9891</th>\n",
       "      <td>1625</td>\n",
       "      <td>60</td>\n",
       "      <td>1625.png</td>\n",
       "      <td>epithelial</td>\n",
       "      <td>2</td>\n",
       "      <td>1</td>\n",
       "    </tr>\n",
       "    <tr>\n",
       "      <th>9892</th>\n",
       "      <td>1626</td>\n",
       "      <td>60</td>\n",
       "      <td>1626.png</td>\n",
       "      <td>epithelial</td>\n",
       "      <td>2</td>\n",
       "      <td>1</td>\n",
       "    </tr>\n",
       "    <tr>\n",
       "      <th>9893</th>\n",
       "      <td>1627</td>\n",
       "      <td>60</td>\n",
       "      <td>1627.png</td>\n",
       "      <td>epithelial</td>\n",
       "      <td>2</td>\n",
       "      <td>1</td>\n",
       "    </tr>\n",
       "    <tr>\n",
       "      <th>9894</th>\n",
       "      <td>1628</td>\n",
       "      <td>60</td>\n",
       "      <td>1628.png</td>\n",
       "      <td>epithelial</td>\n",
       "      <td>2</td>\n",
       "      <td>1</td>\n",
       "    </tr>\n",
       "    <tr>\n",
       "      <th>9895</th>\n",
       "      <td>1629</td>\n",
       "      <td>60</td>\n",
       "      <td>1629.png</td>\n",
       "      <td>epithelial</td>\n",
       "      <td>2</td>\n",
       "      <td>1</td>\n",
       "    </tr>\n",
       "  </tbody>\n",
       "</table>\n",
       "<p>9896 rows × 6 columns</p>\n",
       "</div>"
      ],
      "text/plain": [
       "      InstanceID  patientID  ImageName cellTypeName  cellType  isCancerous\n",
       "0          22405          1  22405.png   fibroblast         0            0\n",
       "1          22406          1  22406.png   fibroblast         0            0\n",
       "2          22407          1  22407.png   fibroblast         0            0\n",
       "3          22408          1  22408.png   fibroblast         0            0\n",
       "4          22409          1  22409.png   fibroblast         0            0\n",
       "...          ...        ...        ...          ...       ...          ...\n",
       "9891        1625         60   1625.png   epithelial         2            1\n",
       "9892        1626         60   1626.png   epithelial         2            1\n",
       "9893        1627         60   1627.png   epithelial         2            1\n",
       "9894        1628         60   1628.png   epithelial         2            1\n",
       "9895        1629         60   1629.png   epithelial         2            1\n",
       "\n",
       "[9896 rows x 6 columns]"
      ]
     },
     "execution_count": 3,
     "metadata": {},
     "output_type": "execute_result"
    }
   ],
   "source": [
    "mainData = pd.read_csv('./data_labels_mainData.csv')\n",
    "extraData = pd.read_csv('./data_labels_extraData.csv')\n",
    "\n",
    "mainData"
   ]
  },
  {
   "cell_type": "code",
   "execution_count": 4,
   "id": "4a394a2d",
   "metadata": {},
   "outputs": [
    {
     "data": {
      "text/plain": [
       "epithelial      4079\n",
       "inflammatory    2543\n",
       "fibroblast      1888\n",
       "others          1386\n",
       "Name: cellTypeName, dtype: int64"
      ]
     },
     "execution_count": 4,
     "metadata": {},
     "output_type": "execute_result"
    }
   ],
   "source": [
    "mainData.cellTypeName.value_counts()"
   ]
  },
  {
   "cell_type": "markdown",
   "id": "736d3a3c",
   "metadata": {},
   "source": [
    "Check for any null values"
   ]
  },
  {
   "cell_type": "markdown",
   "id": "11d3f048",
   "metadata": {},
   "source": [
    "Check if to see any null values exists"
   ]
  },
  {
   "cell_type": "code",
   "execution_count": 5,
   "id": "00eaa309",
   "metadata": {},
   "outputs": [
    {
     "data": {
      "text/plain": [
       "InstanceID      0\n",
       "patientID       0\n",
       "ImageName       0\n",
       "cellTypeName    0\n",
       "cellType        0\n",
       "isCancerous     0\n",
       "dtype: int64"
      ]
     },
     "execution_count": 5,
     "metadata": {},
     "output_type": "execute_result"
    }
   ],
   "source": [
    "mainData.isnull().sum()"
   ]
  },
  {
   "cell_type": "markdown",
   "id": "d95eff02",
   "metadata": {},
   "source": [
    "We remove the `InstanceID` column to prevent any data leaks and the `isCancerous` column since we are only predicting the cell type"
   ]
  },
  {
   "cell_type": "code",
   "execution_count": 6,
   "id": "f85ab6b2",
   "metadata": {},
   "outputs": [],
   "source": [
    "mainData.drop(['InstanceID'], axis=1,inplace=True)\n",
    "mainData.drop(['isCancerous'], axis=1,inplace=True)"
   ]
  },
  {
   "cell_type": "code",
   "execution_count": 7,
   "id": "8b73452c",
   "metadata": {},
   "outputs": [
    {
     "name": "stdout",
     "output_type": "stream",
     "text": [
      "#### mainData shape ####\n",
      "\n",
      "(9896, 4)\n",
      "\n",
      "#### mainData info ####\n",
      "\n",
      "<class 'pandas.core.frame.DataFrame'>\n",
      "RangeIndex: 9896 entries, 0 to 9895\n",
      "Data columns (total 4 columns):\n",
      " #   Column        Non-Null Count  Dtype \n",
      "---  ------        --------------  ----- \n",
      " 0   patientID     9896 non-null   int64 \n",
      " 1   ImageName     9896 non-null   object\n",
      " 2   cellTypeName  9896 non-null   object\n",
      " 3   cellType      9896 non-null   int64 \n",
      "dtypes: int64(2), object(2)\n",
      "memory usage: 309.4+ KB\n",
      "None\n",
      "\n",
      "#### mainData describe ####\n",
      "\n",
      "         patientID     cellType\n",
      "count  9896.000000  9896.000000\n",
      "mean     29.762025     1.501516\n",
      "std      17.486553     0.954867\n",
      "min       1.000000     0.000000\n",
      "25%      14.000000     1.000000\n",
      "50%      26.000000     2.000000\n",
      "75%      47.000000     2.000000\n",
      "max      60.000000     3.000000\n"
     ]
    }
   ],
   "source": [
    "print(\"#### mainData shape ####\\n\")\n",
    "print(mainData.shape)\n",
    "print(\"\\n#### mainData info ####\\n\")\n",
    "print(mainData.info())\n",
    "print(\"\\n#### mainData describe ####\\n\")\n",
    "print(mainData.describe())"
   ]
  },
  {
   "cell_type": "markdown",
   "id": "cd85dd1b",
   "metadata": {},
   "source": [
    "Create a dictionary with label mapping for future predictions."
   ]
  },
  {
   "cell_type": "code",
   "execution_count": 8,
   "id": "6f0970d6",
   "metadata": {},
   "outputs": [
    {
     "data": {
      "image/png": "[encoded data removed]",
      "text/plain": [
       "<Figure size 1440x1440 with 2 Axes>"
      ]
     },
     "metadata": {
      "needs_background": "light"
     },
     "output_type": "display_data"
    }
   ],
   "source": [
    "plt.figure(figsize=(20,20))\n",
    "plt.subplot(3, 2, 1)\n",
    "plt.hist(mainData['patientID'], facecolor='blue', alpha=0.5)\n",
    "plt.title('patient ID')\n",
    "\n",
    "plt.subplot(3, 2, 2)\n",
    "plt.hist(mainData['cellTypeName'], facecolor='blue', alpha=0.5)\n",
    "plt.title('Cell Types')\n",
    "plt.show()"
   ]
  },
  {
   "cell_type": "code",
   "execution_count": 9,
   "id": "e7a939ce",
   "metadata": {},
   "outputs": [],
   "source": [
    "cellType_map = mainData.set_index('cellType').to_dict()['cellTypeName']"
   ]
  },
  {
   "cell_type": "code",
   "execution_count": 10,
   "id": "6c8140f4",
   "metadata": {},
   "outputs": [],
   "source": [
    "mainData['cellType'] = mainData['cellType'].astype('category')"
   ]
  },
  {
   "cell_type": "markdown",
   "id": "70ac8613",
   "metadata": {},
   "source": [
    "## Train test validation split"
   ]
  },
  {
   "cell_type": "code",
   "execution_count": 11,
   "id": "ad9a4657",
   "metadata": {},
   "outputs": [],
   "source": [
    "train_data, test_data = train_test_split(mainData, test_size=0.2, random_state=42)\n",
    "train_data, val_data = train_test_split(train_data, test_size=0.25, random_state=42)"
   ]
  },
  {
   "cell_type": "code",
   "execution_count": 12,
   "id": "444b41e9",
   "metadata": {},
   "outputs": [
    {
     "name": "stdout",
     "output_type": "stream",
     "text": [
      "Train data : 5937, Val Data: 1979, Test Data: 1980\n"
     ]
    }
   ],
   "source": [
    "print(\"Train data : {}, Val Data: {}, Test Data: {}\".format(train_data.shape[0], val_data.shape[0], test_data.shape[0]))"
   ]
  },
  {
   "cell_type": "code",
   "execution_count": 13,
   "id": "634e0b9f",
   "metadata": {},
   "outputs": [
    {
     "data": {
      "text/plain": [
       "<matplotlib.legend.Legend at 0x7ff2a9673940>"
      ]
     },
     "execution_count": 13,
     "metadata": {},
     "output_type": "execute_result"
    },
    {
     "data": {
      "image/png": "[encoded data removed]",
      "text/plain": [
       "<Figure size 720x504 with 1 Axes>"
      ]
     },
     "metadata": {
      "needs_background": "light"
     },
     "output_type": "display_data"
    }
   ],
   "source": [
    "plt.figure(figsize=(10,7))\n",
    "plt.bar(\n",
    "    train_data.cellType.value_counts().index.astype(str), \n",
    "    train_data.cellType.value_counts().values/np.sum(train_data.cellType.value_counts().values), \n",
    "    alpha=0.3, \n",
    "    color='r',\n",
    "    label='Train Data'\n",
    ")\n",
    "plt.bar(\n",
    "    val_data.cellType.value_counts().index.astype(str), \n",
    "    val_data.cellType.value_counts().values/np.sum(val_data.cellType.value_counts().values), \n",
    "    alpha=0.3, \n",
    "    color='b',\n",
    "    label='Val Data'\n",
    ")\n",
    "plt.bar(\n",
    "    test_data.cellType.value_counts().index.astype(str), \n",
    "    test_data.cellType.value_counts().values/np.sum(test_data.cellType.value_counts().values), \n",
    "    alpha=0.3, \n",
    "    color='g',\n",
    "    label='Test Data'\n",
    ")\n",
    "\n",
    "plt.title('Cell Type - Train vs Validation vs Test')\n",
    "plt.xticks(rotation='vertical')\n",
    "plt.legend()"
   ]
  },
  {
   "cell_type": "markdown",
   "id": "dcdc6b06",
   "metadata": {},
   "source": [
    "## One hot encoding the labels"
   ]
  },
  {
   "cell_type": "code",
   "execution_count": 14,
   "id": "0ac5b115",
   "metadata": {},
   "outputs": [],
   "source": [
    "from sklearn.preprocessing import OneHotEncoder\n",
    "\n",
    "def one_hot_encode(df, col, col_names = None):\n",
    "    ohe = OneHotEncoder(handle_unknown = 'ignore')\n",
    "    ohe.fit(df[[col]])\n",
    "    \n",
    "    ohe_ = ohe.transform(df[[col]]).toarray()\n",
    "    \n",
    "    if (col_names == None):\n",
    "        col_names = ohe.categories_[0]\n",
    "        \n",
    "        for i in range(len(ohe.categories_[0])):\n",
    "            df[col + '_' + str(col_names[i])] = ohe_[:,i]\n",
    "            \n",
    "        df.drop(col, axis = 1, inplace = True)"
   ]
  },
  {
   "cell_type": "code",
   "execution_count": 15,
   "id": "d0d0743b",
   "metadata": {},
   "outputs": [
    {
     "name": "stderr",
     "output_type": "stream",
     "text": [
      "<ipython-input-14-ba2fe6a3a20f>:13: SettingWithCopyWarning: \n",
      "A value is trying to be set on a copy of a slice from a DataFrame.\n",
      "Try using .loc[row_indexer,col_indexer] = value instead\n",
      "\n",
      "See the caveats in the documentation: https://pandas.pydata.org/pandas-docs/stable/user_guide/indexing.html#returning-a-view-versus-a-copy\n",
      "  df[col + '_' + str(col_names[i])] = ohe_[:,i]\n",
      "/home/magnuscake/miniconda3/envs/tf_cpu/lib/python3.9/site-packages/pandas/core/frame.py:4308: SettingWithCopyWarning: \n",
      "A value is trying to be set on a copy of a slice from a DataFrame\n",
      "\n",
      "See the caveats in the documentation: https://pandas.pydata.org/pandas-docs/stable/user_guide/indexing.html#returning-a-view-versus-a-copy\n",
      "  return super().drop(\n"
     ]
    }
   ],
   "source": [
    "one_hot_encode(train_data, 'cellType')\n",
    "one_hot_encode(val_data, 'cellType')\n",
    "one_hot_encode(test_data, 'cellType')"
   ]
  },
  {
   "cell_type": "markdown",
   "id": "93d53089",
   "metadata": {},
   "source": [
    "## Image preprocessing"
   ]
  },
  {
   "cell_type": "code",
   "execution_count": 16,
   "id": "56771023",
   "metadata": {},
   "outputs": [
    {
     "name": "stdout",
     "output_type": "stream",
     "text": [
      "Found 5937 validated image filenames.\n",
      "Found 1979 validated image filenames.\n",
      "Found 1980 validated image filenames.\n"
     ]
    }
   ],
   "source": [
    "from tensorflow.keras.preprocessing.image import ImageDataGenerator\n",
    "\n",
    "# Rescale is done here to normalize the pixels in a range of 0-1\n",
    "train_datagen = ImageDataGenerator(rescale=1./255, data_format='channels_last')\n",
    "val_datagen = ImageDataGenerator(rescale=1./255, data_format='channels_last')\n",
    "test_datagen = ImageDataGenerator(rescale=1./255, data_format='channels_last')\n",
    "\n",
    "# This the default batch size\n",
    "batch_size = 32\n",
    "columns = ['cellType_0', 'cellType_1', 'cellType_2', 'cellType_3']\n",
    "\n",
    "train_generator = train_datagen.flow_from_dataframe(\n",
    "    dataframe = train_data,\n",
    "    directory = './patch_images',\n",
    "    x_col = 'ImageName',\n",
    "    y_col = columns,\n",
    "    target_size = (27, 27),\n",
    "    batch_size = batch_size,\n",
    "    class_mode = 'raw',\n",
    "    shuffle=False\n",
    ")\n",
    "\n",
    "validation_generator = val_datagen.flow_from_dataframe(\n",
    "    dataframe = val_data,\n",
    "    directory = './patch_images',\n",
    "    x_col = 'ImageName',\n",
    "    y_col = columns,\n",
    "    target_size = (27, 27),\n",
    "    batch_size = batch_size,\n",
    "    class_mode = 'raw',\n",
    "    shuffle=False\n",
    ")\n",
    "\n",
    "test_generator = test_datagen.flow_from_dataframe(\n",
    "    dataframe = test_data,\n",
    "    directory = './patch_images',\n",
    "    x_col = 'ImageName',\n",
    "    y_col = columns,\n",
    "    target_size = (27, 27),\n",
    "    batch_size = batch_size,\n",
    "    class_mode = 'raw',\n",
    "    shuffle=False\n",
    ")"
   ]
  },
  {
   "cell_type": "markdown",
   "id": "cad8d169",
   "metadata": {},
   "source": [
    "# Utility Functions"
   ]
  },
  {
   "cell_type": "markdown",
   "id": "740ac682",
   "metadata": {},
   "source": [
    "## Plot functions"
   ]
  },
  {
   "cell_type": "code",
   "execution_count": 17,
   "id": "b1aef4c2",
   "metadata": {},
   "outputs": [],
   "source": [
    "# Learning curve diagnostic tool\n",
    "def plot_fit_history(train_loss, val_loss, train_metric, val_metric, metric_name='Accuracy'):\n",
    "    plt.figure(figsize=(10,5))\n",
    "    \n",
    "    plt.subplot(1,2,1)\n",
    "    plt.plot(train_loss, 'r--')\n",
    "    plt.plot(val_loss, 'b--')\n",
    "    plt.xlabel(\"epochs\")\n",
    "    plt.ylabel(\"Loss\")\n",
    "    plt.legend(['train', 'val'], loc='upper left')\n",
    "\n",
    "    plt.subplot(1,2,2)\n",
    "    plt.plot(train_metric, 'r--')\n",
    "    plt.plot(val_metric, 'b--')\n",
    "    plt.xlabel(\"epochs\")\n",
    "    plt.ylabel(metric_name)\n",
    "    plt.legend(['train', 'val'], loc='upper left')\n",
    "\n",
    "    plt.show()"
   ]
  },
  {
   "cell_type": "code",
   "execution_count": 18,
   "id": "c066c87a",
   "metadata": {},
   "outputs": [],
   "source": [
    "# def plot_confusion_matrix(test, pred):\n",
    "#     cm = confusion_matrix(test, pred)\n",
    "#     group_names = ['True Neg','False Pos','False Neg','True Pos']\n",
    "#     group_counts = [\"{0:0.0f}\".format(value) for value in cm.flatten()]\n",
    "#     group_percentages = [\"{0:.2%}\".format(value) for value in cm.flatten()/np.sum(cm)]\n",
    "#     labels = [f\"{v1}\\n{v2}\\n{v3}\" for v1, v2, v3 in zip(group_names, group_counts, group_percentages)]\n",
    "#     labels = np.asarray(labels).reshape(2,2)\n",
    "#     sns.heatmap(cm, annot=True, fmt='', cmap='Blues')\n",
    "\n",
    "def plot_confusion_matrix(test, pred,\n",
    "                          target_names,\n",
    "                          title='Confusion matrix',\n",
    "                          cmap=None,\n",
    "                          normalize=True):\n",
    "    \"\"\"\n",
    "    given a sklearn confusion matrix (cm), make a nice plot\n",
    "\n",
    "    Arguments\n",
    "    ---------\n",
    "    cm:           confusion matrix from sklearn.metrics.confusion_matrix\n",
    "\n",
    "    target_names: given classification classes such as [0, 1, 2]\n",
    "                  the class names, for example: ['high', 'medium', 'low']\n",
    "\n",
    "    title:        the text to display at the top of the matrix\n",
    "\n",
    "    cmap:         the gradient of the values displayed from matplotlib.pyplot.cm\n",
    "                  see http://matplotlib.org/examples/color/colormaps_reference.html\n",
    "                  plt.get_cmap('jet') or plt.cm.Blues\n",
    "\n",
    "    normalize:    If False, plot the raw numbers\n",
    "                  If True, plot the proportions\n",
    "\n",
    "    Usage\n",
    "    -----\n",
    "    plot_confusion_matrix(cm           = cm,                  # confusion matrix created by\n",
    "                                                              # sklearn.metrics.confusion_matrix\n",
    "                          normalize    = True,                # show proportions\n",
    "                          target_names = y_labels_vals,       # list of names of the classes\n",
    "                          title        = best_estimator_name) # title of graph\n",
    "\n",
    "    Citiation\n",
    "    ---------\n",
    "    http://scikit-learn.org/stable/auto_examples/model_selection/plot_confusion_matrix.html\n",
    "\n",
    "    \"\"\"\n",
    "    import matplotlib.pyplot as plt\n",
    "    import numpy as np\n",
    "    import itertools\n",
    "\n",
    "    cm = confusion_matrix(test, pred)\n",
    "    \n",
    "    accuracy = np.trace(cm) / float(np.sum(cm))\n",
    "    misclass = 1 - accuracy\n",
    "\n",
    "    if cmap is None:\n",
    "        cmap = plt.get_cmap('Blues')\n",
    "\n",
    "    plt.figure(figsize=(8, 6))\n",
    "    plt.imshow(cm, interpolation='nearest', cmap=cmap)\n",
    "    plt.title(title)\n",
    "    plt.colorbar()\n",
    "\n",
    "    if target_names is not None:\n",
    "        tick_marks = np.arange(len(target_names))\n",
    "        plt.xticks(tick_marks, target_names, rotation=45)\n",
    "        plt.yticks(tick_marks, target_names)\n",
    "\n",
    "    if normalize:\n",
    "        cm = cm.astype('float') / cm.sum(axis=1)[:, np.newaxis]\n",
    "\n",
    "\n",
    "    thresh = cm.max() / 1.5 if normalize else cm.max() / 2\n",
    "    for i, j in itertools.product(range(cm.shape[0]), range(cm.shape[1])):\n",
    "        if normalize:\n",
    "            plt.text(j, i, \"{:0.4f}\".format(cm[i, j]),\n",
    "                     horizontalalignment=\"center\",\n",
    "                     color=\"white\" if cm[i, j] > thresh else \"black\")\n",
    "        else:\n",
    "            plt.text(j, i, \"{:,}\".format(cm[i, j]),\n",
    "                     horizontalalignment=\"center\",\n",
    "                     color=\"white\" if cm[i, j] > thresh else \"black\")\n",
    "\n",
    "\n",
    "    plt.tight_layout()\n",
    "    plt.ylabel('True label')\n",
    "    plt.xlabel('Predicted label\\naccuracy={:0.4f}; misclass={:0.4f}'.format(accuracy, misclass))\n",
    "    plt.show()"
   ]
  },
  {
   "cell_type": "markdown",
   "id": "dd114505",
   "metadata": {},
   "source": [
    "## Model development functions"
   ]
  },
  {
   "cell_type": "code",
   "execution_count": 19,
   "id": "e53bb809",
   "metadata": {},
   "outputs": [],
   "source": [
    "def compile_model(model):\n",
    "    sgd = tf.keras.optimizers.SGD(learning_rate=0.01)\n",
    "#     opt = tf.keras.optimizers.Adagrad()\n",
    "    \n",
    "    model.compile(optimizer=sgd,\n",
    "              loss=tf.keras.losses.CategoricalCrossentropy(from_logits=True),\n",
    "              metrics=['categorical_accuracy', 'accuracy'])"
   ]
  },
  {
   "cell_type": "code",
   "execution_count": 20,
   "id": "17c02b75",
   "metadata": {},
   "outputs": [],
   "source": [
    "early_stopping_monitor = EarlyStopping(patience=10, monitor='val_categorical_accuracy')\n",
    "\n",
    "def fit_model(model):\n",
    "\n",
    "    print('start ', datetime.datetime.now().strftime(\"%H:%M:%S\"))\n",
    "    now = datetime.datetime.now()\n",
    "\n",
    "    fit_history = model.fit(train_generator, validation_data = validation_generator, \n",
    "                            callbacks=[early_stopping_monitor], epochs=10000, verbose=1)\n",
    "\n",
    "    print('stop ', datetime.datetime.now().strftime(\"%H:%M:%S\"))\n",
    "    print(\"Took = \", datetime.datetime.now() - now)\n",
    "    \n",
    "    return fit_history"
   ]
  },
  {
   "cell_type": "code",
   "execution_count": 21,
   "id": "bcc58935",
   "metadata": {},
   "outputs": [],
   "source": [
    "def predict_model(model):\n",
    "    batch_size_ = 1\n",
    "    y_pred = list()\n",
    "    y_test = list()\n",
    "    filenames = test_generator.filenames\n",
    "    N_images = len(filenames)\n",
    "    batches = 0\n",
    "\n",
    "    # iterate through the data generator and predict for each batch\n",
    "    # hold the predictions and labels\n",
    "    for x,y in test_generator:\n",
    "            yp = model.predict(x, verbose=0)\n",
    "            yp = np.argmax(yp, axis = 1)\n",
    "            yt = np.argmax(y, axis = 1)\n",
    "            y_pred = y_pred + yp.tolist()\n",
    "            y_test = y_test + yt.tolist()\n",
    "\n",
    "            batches += 1\n",
    "            if batches >= N_images / batch_size_:\n",
    "                break\n",
    "                \n",
    "    return (y_test, y_pred)"
   ]
  },
  {
   "cell_type": "code",
   "execution_count": 22,
   "id": "ac7890e2",
   "metadata": {},
   "outputs": [],
   "source": [
    "def show_stats(y_test, y_pred):\n",
    "    print(\"Accuracy score: \", accuracy_score(test_y, pred_y))\n",
    "    print(\"F1 score: \", f1_score(test_y, pred_y, average='macro'))\n",
    "\n",
    "    print(classification_report(test_y, pred_y, zero_division=0))"
   ]
  },
  {
   "cell_type": "markdown",
   "id": "f6ec37a7",
   "metadata": {},
   "source": [
    "# Baseline model"
   ]
  },
  {
   "cell_type": "code",
   "execution_count": 23,
   "id": "fa66b67f",
   "metadata": {},
   "outputs": [],
   "source": [
    "INPUT_DIM = (27, 27, 3)\n",
    "HIDDEN_LAYER_DIM = 256\n",
    "OUTPUT_CLASSES = 4 # Flag for output layer\n",
    "\n",
    "base_model = keras.Sequential([\n",
    "    keras.layers.Flatten(input_shape=INPUT_DIM),\n",
    "    keras.layers.Dense(HIDDEN_LAYER_DIM, activation='relu'),\n",
    "    keras.layers.Dense(OUTPUT_CLASSES)\n",
    "])"
   ]
  },
  {
   "cell_type": "code",
   "execution_count": 24,
   "id": "ffdf59e9",
   "metadata": {},
   "outputs": [
    {
     "name": "stdout",
     "output_type": "stream",
     "text": [
      "Model: \"sequential\"\n",
      "_________________________________________________________________\n",
      "Layer (type)                 Output Shape              Param #   \n",
      "=================================================================\n",
      "flatten (Flatten)            (None, 2187)              0         \n",
      "_________________________________________________________________\n",
      "dense (Dense)                (None, 256)               560128    \n",
      "_________________________________________________________________\n",
      "dense_1 (Dense)              (None, 4)                 1028      \n",
      "=================================================================\n",
      "Total params: 561,156\n",
      "Trainable params: 561,156\n",
      "Non-trainable params: 0\n",
      "_________________________________________________________________\n"
     ]
    }
   ],
   "source": [
    "base_model.summary()"
   ]
  },
  {
   "cell_type": "markdown",
   "id": "739d8da6",
   "metadata": {},
   "source": [
    "Initial the optimizer to use with the learning rate."
   ]
  },
  {
   "cell_type": "code",
   "execution_count": 25,
   "id": "41c1b819",
   "metadata": {},
   "outputs": [],
   "source": [
    "compile_model(base_model)"
   ]
  },
  {
   "cell_type": "code",
   "execution_count": 26,
   "id": "fbabcea4",
   "metadata": {},
   "outputs": [
    {
     "name": "stdout",
     "output_type": "stream",
     "text": [
      "start  10:55:43\n",
      "Epoch 1/10000\n",
      "186/186 [==============================] - 3s 12ms/step - loss: 1.2810 - categorical_accuracy: 0.4529 - accuracy: 0.4529 - val_loss: 1.1409 - val_categorical_accuracy: 0.5801 - val_accuracy: 0.5801\n",
      "Epoch 2/10000\n",
      "186/186 [==============================] - 2s 12ms/step - loss: 1.0797 - categorical_accuracy: 0.5526 - accuracy: 0.5526 - val_loss: 1.0309 - val_categorical_accuracy: 0.5159 - val_accuracy: 0.5159\n",
      "Epoch 3/10000\n",
      "186/186 [==============================] - 2s 12ms/step - loss: 1.0001 - categorical_accuracy: 0.5905 - accuracy: 0.5905 - val_loss: 1.0966 - val_categorical_accuracy: 0.5346 - val_accuracy: 0.5346\n",
      "Epoch 4/10000\n",
      "186/186 [==============================] - 2s 12ms/step - loss: 0.9409 - categorical_accuracy: 0.6202 - accuracy: 0.6202 - val_loss: 0.8716 - val_categorical_accuracy: 0.6589 - val_accuracy: 0.6589\n",
      "Epoch 5/10000\n",
      "186/186 [==============================] - 2s 12ms/step - loss: 0.9119 - categorical_accuracy: 0.6328 - accuracy: 0.6328 - val_loss: 0.9384 - val_categorical_accuracy: 0.5998 - val_accuracy: 0.5998\n",
      "Epoch 6/10000\n",
      "186/186 [==============================] - 2s 12ms/step - loss: 0.8802 - categorical_accuracy: 0.6554 - accuracy: 0.6554 - val_loss: 0.8474 - val_categorical_accuracy: 0.6392 - val_accuracy: 0.6392\n",
      "Epoch 7/10000\n",
      "186/186 [==============================] - 2s 12ms/step - loss: 0.8596 - categorical_accuracy: 0.6616 - accuracy: 0.6616 - val_loss: 0.7921 - val_categorical_accuracy: 0.6887 - val_accuracy: 0.6887\n",
      "Epoch 8/10000\n",
      "186/186 [==============================] - 2s 12ms/step - loss: 0.8505 - categorical_accuracy: 0.6667 - accuracy: 0.6667 - val_loss: 0.8791 - val_categorical_accuracy: 0.6594 - val_accuracy: 0.6594\n",
      "Epoch 9/10000\n",
      "186/186 [==============================] - 2s 12ms/step - loss: 0.8353 - categorical_accuracy: 0.6684 - accuracy: 0.6684 - val_loss: 0.7875 - val_categorical_accuracy: 0.6938 - val_accuracy: 0.6938\n",
      "Epoch 10/10000\n",
      "186/186 [==============================] - 2s 12ms/step - loss: 0.8169 - categorical_accuracy: 0.6813 - accuracy: 0.6813 - val_loss: 0.7993 - val_categorical_accuracy: 0.6746 - val_accuracy: 0.6746\n",
      "Epoch 11/10000\n",
      "186/186 [==============================] - 2s 12ms/step - loss: 0.8139 - categorical_accuracy: 0.6820 - accuracy: 0.6820 - val_loss: 0.7849 - val_categorical_accuracy: 0.6842 - val_accuracy: 0.6842\n",
      "Epoch 12/10000\n",
      "186/186 [==============================] - 2s 12ms/step - loss: 0.8019 - categorical_accuracy: 0.6860 - accuracy: 0.6860 - val_loss: 0.7766 - val_categorical_accuracy: 0.6943 - val_accuracy: 0.6943\n",
      "Epoch 13/10000\n",
      "186/186 [==============================] - 2s 12ms/step - loss: 0.8050 - categorical_accuracy: 0.6882 - accuracy: 0.6882 - val_loss: 0.8930 - val_categorical_accuracy: 0.6210 - val_accuracy: 0.6210\n",
      "Epoch 14/10000\n",
      "186/186 [==============================] - 2s 12ms/step - loss: 0.7929 - categorical_accuracy: 0.6914 - accuracy: 0.6914 - val_loss: 0.8457 - val_categorical_accuracy: 0.6791 - val_accuracy: 0.6791\n",
      "Epoch 15/10000\n",
      "186/186 [==============================] - 2s 12ms/step - loss: 0.7837 - categorical_accuracy: 0.6934 - accuracy: 0.6934 - val_loss: 0.7766 - val_categorical_accuracy: 0.6897 - val_accuracy: 0.6897\n",
      "Epoch 16/10000\n",
      "186/186 [==============================] - 2s 12ms/step - loss: 0.7804 - categorical_accuracy: 0.6960 - accuracy: 0.6960 - val_loss: 0.7718 - val_categorical_accuracy: 0.6943 - val_accuracy: 0.6943\n",
      "Epoch 17/10000\n",
      "186/186 [==============================] - 2s 12ms/step - loss: 0.7739 - categorical_accuracy: 0.6951 - accuracy: 0.6951 - val_loss: 0.8094 - val_categorical_accuracy: 0.6993 - val_accuracy: 0.6993\n",
      "Epoch 18/10000\n",
      "186/186 [==============================] - 2s 12ms/step - loss: 0.7696 - categorical_accuracy: 0.6982 - accuracy: 0.6982 - val_loss: 0.7765 - val_categorical_accuracy: 0.6943 - val_accuracy: 0.6943\n",
      "Epoch 19/10000\n",
      "186/186 [==============================] - 2s 12ms/step - loss: 0.7678 - categorical_accuracy: 0.7030 - accuracy: 0.7030 - val_loss: 0.7670 - val_categorical_accuracy: 0.7059 - val_accuracy: 0.7059\n",
      "Epoch 20/10000\n",
      "186/186 [==============================] - 2s 12ms/step - loss: 0.7638 - categorical_accuracy: 0.7030 - accuracy: 0.7030 - val_loss: 0.7654 - val_categorical_accuracy: 0.6953 - val_accuracy: 0.6953\n",
      "Epoch 21/10000\n",
      "186/186 [==============================] - 2s 12ms/step - loss: 0.7526 - categorical_accuracy: 0.7015 - accuracy: 0.7015 - val_loss: 0.7758 - val_categorical_accuracy: 0.6852 - val_accuracy: 0.6852\n",
      "Epoch 22/10000\n",
      "186/186 [==============================] - 2s 12ms/step - loss: 0.7620 - categorical_accuracy: 0.7032 - accuracy: 0.7032 - val_loss: 0.7506 - val_categorical_accuracy: 0.7165 - val_accuracy: 0.7165\n",
      "Epoch 23/10000\n",
      "186/186 [==============================] - 2s 12ms/step - loss: 0.7461 - categorical_accuracy: 0.7025 - accuracy: 0.7025 - val_loss: 0.8181 - val_categorical_accuracy: 0.6660 - val_accuracy: 0.6660\n",
      "Epoch 24/10000\n",
      "186/186 [==============================] - 2s 12ms/step - loss: 0.7477 - categorical_accuracy: 0.7093 - accuracy: 0.7093 - val_loss: 0.8719 - val_categorical_accuracy: 0.6574 - val_accuracy: 0.6574\n",
      "Epoch 25/10000\n",
      "186/186 [==============================] - 2s 12ms/step - loss: 0.7444 - categorical_accuracy: 0.7089 - accuracy: 0.7089 - val_loss: 0.7490 - val_categorical_accuracy: 0.7105 - val_accuracy: 0.7105\n",
      "Epoch 26/10000\n",
      "186/186 [==============================] - 2s 12ms/step - loss: 0.7342 - categorical_accuracy: 0.7111 - accuracy: 0.7111 - val_loss: 0.7887 - val_categorical_accuracy: 0.6973 - val_accuracy: 0.6973\n",
      "Epoch 27/10000\n",
      "186/186 [==============================] - 2s 12ms/step - loss: 0.7365 - categorical_accuracy: 0.7165 - accuracy: 0.7165 - val_loss: 0.7678 - val_categorical_accuracy: 0.6993 - val_accuracy: 0.6993\n",
      "Epoch 28/10000\n",
      "186/186 [==============================] - 2s 12ms/step - loss: 0.7315 - categorical_accuracy: 0.7152 - accuracy: 0.7152 - val_loss: 0.7995 - val_categorical_accuracy: 0.6766 - val_accuracy: 0.6766\n",
      "Epoch 29/10000\n",
      "186/186 [==============================] - 2s 12ms/step - loss: 0.7295 - categorical_accuracy: 0.7180 - accuracy: 0.7180 - val_loss: 0.7421 - val_categorical_accuracy: 0.7100 - val_accuracy: 0.7100\n",
      "Epoch 30/10000\n",
      "186/186 [==============================] - 2s 12ms/step - loss: 0.7269 - categorical_accuracy: 0.7125 - accuracy: 0.7125 - val_loss: 0.7454 - val_categorical_accuracy: 0.7069 - val_accuracy: 0.7069\n",
      "Epoch 31/10000\n",
      "186/186 [==============================] - 2s 12ms/step - loss: 0.7233 - categorical_accuracy: 0.7143 - accuracy: 0.7143 - val_loss: 0.7546 - val_categorical_accuracy: 0.7069 - val_accuracy: 0.7069\n",
      "Epoch 32/10000\n",
      "186/186 [==============================] - 2s 12ms/step - loss: 0.7270 - categorical_accuracy: 0.7172 - accuracy: 0.7172 - val_loss: 0.8438 - val_categorical_accuracy: 0.6523 - val_accuracy: 0.6523\n",
      "stop  10:56:54\n",
      "Took =  0:01:10.960184\n"
     ]
    }
   ],
   "source": [
    "base_history = fit_model(base_model)"
   ]
  },
  {
   "cell_type": "code",
   "execution_count": null,
   "id": "0df96aa3",
   "metadata": {},
   "outputs": [],
   "source": []
  },
  {
   "cell_type": "code",
   "execution_count": 27,
   "id": "093f1151",
   "metadata": {},
   "outputs": [
    {
     "data": {
      "image/png": "[encoded data removed]",
      "text/plain": [
       "<Figure size 720x360 with 2 Axes>"
      ]
     },
     "metadata": {
      "needs_background": "light"
     },
     "output_type": "display_data"
    }
   ],
   "source": [
    "plot_fit_history(base_history.history['loss'], base_history.history['val_loss'],\n",
    "                    base_history.history['categorical_accuracy'], base_history.history['val_categorical_accuracy'])"
   ]
  },
  {
   "cell_type": "markdown",
   "id": "4f34209d",
   "metadata": {},
   "source": [
    "Trying some regularization"
   ]
  },
  {
   "cell_type": "code",
   "execution_count": 46,
   "id": "9e84c779",
   "metadata": {},
   "outputs": [],
   "source": [
    "reg_lambda = 0.001\n",
    "\n",
    "reg_model = keras.Sequential([\n",
    "    keras.layers.Flatten(input_shape=INPUT_DIM),\n",
    "    keras.layers.Dense(HIDDEN_LAYER_DIM, activation='relu', kernel_regularizer=keras.regularizers.l2(reg_lambda)),\n",
    "    keras.layers.Dense(OUTPUT_CLASSES, activation='relu', kernel_regularizer=keras.regularizers.l2(reg_lambda))\n",
    "])"
   ]
  },
  {
   "cell_type": "code",
   "execution_count": 47,
   "id": "21070cc6",
   "metadata": {},
   "outputs": [],
   "source": [
    "compile_model(reg_model)"
   ]
  },
  {
   "cell_type": "code",
   "execution_count": 48,
   "id": "bfcf057e",
   "metadata": {},
   "outputs": [
    {
     "name": "stdout",
     "output_type": "stream",
     "text": [
      "Model: \"sequential_3\"\n",
      "_________________________________________________________________\n",
      "Layer (type)                 Output Shape              Param #   \n",
      "=================================================================\n",
      "flatten_3 (Flatten)          (None, 2187)              0         \n",
      "_________________________________________________________________\n",
      "dense_6 (Dense)              (None, 256)               560128    \n",
      "_________________________________________________________________\n",
      "dense_7 (Dense)              (None, 4)                 1028      \n",
      "=================================================================\n",
      "Total params: 561,156\n",
      "Trainable params: 561,156\n",
      "Non-trainable params: 0\n",
      "_________________________________________________________________\n"
     ]
    }
   ],
   "source": [
    "reg_model.summary()"
   ]
  },
  {
   "cell_type": "code",
   "execution_count": 49,
   "id": "8b8065bd",
   "metadata": {
    "scrolled": true
   },
   "outputs": [
    {
     "name": "stdout",
     "output_type": "stream",
     "text": [
      "start  11:15:34\n",
      "Epoch 1/10000\n",
      "186/186 [==============================] - 3s 14ms/step - loss: 1.7775 - categorical_accuracy: 0.3771 - accuracy: 0.3771 - val_loss: 1.6387 - val_categorical_accuracy: 0.4416 - val_accuracy: 0.4416\n",
      "Epoch 2/10000\n",
      "186/186 [==============================] - 2s 13ms/step - loss: 1.6386 - categorical_accuracy: 0.4474 - accuracy: 0.4474 - val_loss: 1.7401 - val_categorical_accuracy: 0.4047 - val_accuracy: 0.4047\n",
      "Epoch 3/10000\n",
      "186/186 [==============================] - 2s 13ms/step - loss: 1.5860 - categorical_accuracy: 0.4671 - accuracy: 0.4671 - val_loss: 1.5259 - val_categorical_accuracy: 0.4750 - val_accuracy: 0.4750\n",
      "Epoch 4/10000\n",
      "186/186 [==============================] - 2s 13ms/step - loss: 1.5421 - categorical_accuracy: 0.4875 - accuracy: 0.4875 - val_loss: 1.5146 - val_categorical_accuracy: 0.4634 - val_accuracy: 0.4634\n",
      "Epoch 5/10000\n",
      "186/186 [==============================] - 2s 13ms/step - loss: 1.5242 - categorical_accuracy: 0.4959 - accuracy: 0.4959 - val_loss: 1.5253 - val_categorical_accuracy: 0.4543 - val_accuracy: 0.4543\n",
      "Epoch 6/10000\n",
      "186/186 [==============================] - 2s 13ms/step - loss: 1.5061 - categorical_accuracy: 0.5272 - accuracy: 0.5272 - val_loss: 1.5006 - val_categorical_accuracy: 0.5195 - val_accuracy: 0.5195\n",
      "Epoch 7/10000\n",
      "186/186 [==============================] - 2s 13ms/step - loss: 1.4885 - categorical_accuracy: 0.5479 - accuracy: 0.5479 - val_loss: 1.4180 - val_categorical_accuracy: 0.5851 - val_accuracy: 0.5851\n",
      "Epoch 8/10000\n",
      "186/186 [==============================] - 2s 13ms/step - loss: 1.4375 - categorical_accuracy: 0.5996 - accuracy: 0.5996 - val_loss: 1.4685 - val_categorical_accuracy: 0.5685 - val_accuracy: 0.5685\n",
      "Epoch 9/10000\n",
      "186/186 [==============================] - 2s 13ms/step - loss: 1.4203 - categorical_accuracy: 0.6075 - accuracy: 0.6075 - val_loss: 1.4255 - val_categorical_accuracy: 0.6402 - val_accuracy: 0.6402\n",
      "Epoch 10/10000\n",
      "186/186 [==============================] - 2s 13ms/step - loss: 1.4048 - categorical_accuracy: 0.6163 - accuracy: 0.6163 - val_loss: 1.4571 - val_categorical_accuracy: 0.5685 - val_accuracy: 0.5685\n",
      "Epoch 11/10000\n",
      "186/186 [==============================] - 2s 13ms/step - loss: 1.3870 - categorical_accuracy: 0.6296 - accuracy: 0.6296 - val_loss: 1.4922 - val_categorical_accuracy: 0.5543 - val_accuracy: 0.5543\n",
      "Epoch 12/10000\n",
      "186/186 [==============================] - 2s 13ms/step - loss: 1.3738 - categorical_accuracy: 0.6347 - accuracy: 0.6347 - val_loss: 1.4322 - val_categorical_accuracy: 0.5821 - val_accuracy: 0.5821\n",
      "Epoch 13/10000\n",
      "186/186 [==============================] - 2s 13ms/step - loss: 1.3640 - categorical_accuracy: 0.6409 - accuracy: 0.6409 - val_loss: 1.3632 - val_categorical_accuracy: 0.6316 - val_accuracy: 0.6316\n",
      "Epoch 14/10000\n",
      "186/186 [==============================] - 2s 13ms/step - loss: 1.3660 - categorical_accuracy: 0.6390 - accuracy: 0.6390 - val_loss: 1.3802 - val_categorical_accuracy: 0.6104 - val_accuracy: 0.6104\n",
      "Epoch 15/10000\n",
      "186/186 [==============================] - 3s 14ms/step - loss: 1.3486 - categorical_accuracy: 0.6453 - accuracy: 0.6453 - val_loss: 1.6122 - val_categorical_accuracy: 0.5048 - val_accuracy: 0.5048\n",
      "Epoch 16/10000\n",
      "186/186 [==============================] - 3s 13ms/step - loss: 1.3423 - categorical_accuracy: 0.6475 - accuracy: 0.6475 - val_loss: 2.0427 - val_categorical_accuracy: 0.3663 - val_accuracy: 0.3663\n",
      "Epoch 17/10000\n",
      "186/186 [==============================] - 2s 13ms/step - loss: 1.3454 - categorical_accuracy: 0.6473 - accuracy: 0.6473 - val_loss: 1.3265 - val_categorical_accuracy: 0.6645 - val_accuracy: 0.6645\n",
      "Epoch 18/10000\n",
      "186/186 [==============================] - 2s 13ms/step - loss: 1.3239 - categorical_accuracy: 0.6571 - accuracy: 0.6571 - val_loss: 1.3182 - val_categorical_accuracy: 0.6574 - val_accuracy: 0.6574\n",
      "Epoch 19/10000\n",
      "186/186 [==============================] - 2s 13ms/step - loss: 1.3152 - categorical_accuracy: 0.6577 - accuracy: 0.6577 - val_loss: 1.3344 - val_categorical_accuracy: 0.6650 - val_accuracy: 0.6650\n",
      "Epoch 20/10000\n",
      "186/186 [==============================] - 2s 13ms/step - loss: 1.3110 - categorical_accuracy: 0.6657 - accuracy: 0.6657 - val_loss: 1.3632 - val_categorical_accuracy: 0.6200 - val_accuracy: 0.6200\n",
      "Epoch 21/10000\n",
      "186/186 [==============================] - 2s 13ms/step - loss: 1.3043 - categorical_accuracy: 0.6652 - accuracy: 0.6652 - val_loss: 1.3192 - val_categorical_accuracy: 0.6311 - val_accuracy: 0.6311\n",
      "Epoch 22/10000\n",
      "186/186 [==============================] - 2s 13ms/step - loss: 1.3072 - categorical_accuracy: 0.6613 - accuracy: 0.6613 - val_loss: 1.3254 - val_categorical_accuracy: 0.6347 - val_accuracy: 0.6347\n",
      "Epoch 23/10000\n",
      "186/186 [==============================] - 2s 13ms/step - loss: 1.2936 - categorical_accuracy: 0.6680 - accuracy: 0.6680 - val_loss: 1.3751 - val_categorical_accuracy: 0.5877 - val_accuracy: 0.5877\n",
      "Epoch 24/10000\n",
      "186/186 [==============================] - 2s 13ms/step - loss: 1.2957 - categorical_accuracy: 0.6653 - accuracy: 0.6653 - val_loss: 1.2904 - val_categorical_accuracy: 0.6554 - val_accuracy: 0.6554\n",
      "Epoch 25/10000\n",
      "186/186 [==============================] - 2s 13ms/step - loss: 1.2875 - categorical_accuracy: 0.6678 - accuracy: 0.6678 - val_loss: 1.3417 - val_categorical_accuracy: 0.6559 - val_accuracy: 0.6559\n",
      "Epoch 26/10000\n",
      "186/186 [==============================] - 2s 13ms/step - loss: 1.2767 - categorical_accuracy: 0.6685 - accuracy: 0.6685 - val_loss: 1.3264 - val_categorical_accuracy: 0.6781 - val_accuracy: 0.6781\n",
      "Epoch 27/10000\n",
      "186/186 [==============================] - 2s 13ms/step - loss: 1.2727 - categorical_accuracy: 0.6710 - accuracy: 0.6710 - val_loss: 1.2834 - val_categorical_accuracy: 0.6791 - val_accuracy: 0.6791\n",
      "Epoch 28/10000\n",
      "186/186 [==============================] - 3s 14ms/step - loss: 1.2719 - categorical_accuracy: 0.6692 - accuracy: 0.6692 - val_loss: 1.2735 - val_categorical_accuracy: 0.6574 - val_accuracy: 0.6574\n",
      "Epoch 29/10000\n",
      "186/186 [==============================] - 3s 14ms/step - loss: 1.2595 - categorical_accuracy: 0.6781 - accuracy: 0.6781 - val_loss: 1.2679 - val_categorical_accuracy: 0.6559 - val_accuracy: 0.6559\n",
      "Epoch 30/10000\n",
      "186/186 [==============================] - 2s 13ms/step - loss: 1.2622 - categorical_accuracy: 0.6737 - accuracy: 0.6737 - val_loss: 1.2704 - val_categorical_accuracy: 0.6756 - val_accuracy: 0.6756\n",
      "Epoch 31/10000\n",
      "186/186 [==============================] - 2s 13ms/step - loss: 1.2565 - categorical_accuracy: 0.6739 - accuracy: 0.6739 - val_loss: 1.2733 - val_categorical_accuracy: 0.6761 - val_accuracy: 0.6761\n",
      "Epoch 32/10000\n",
      "186/186 [==============================] - 2s 13ms/step - loss: 1.2479 - categorical_accuracy: 0.6786 - accuracy: 0.6786 - val_loss: 1.2607 - val_categorical_accuracy: 0.6589 - val_accuracy: 0.6589\n",
      "Epoch 33/10000\n",
      "186/186 [==============================] - 2s 13ms/step - loss: 1.2451 - categorical_accuracy: 0.6759 - accuracy: 0.6759 - val_loss: 1.2584 - val_categorical_accuracy: 0.6731 - val_accuracy: 0.6731\n",
      "Epoch 34/10000\n",
      "186/186 [==============================] - 2s 13ms/step - loss: 1.2376 - categorical_accuracy: 0.6761 - accuracy: 0.6761 - val_loss: 1.2627 - val_categorical_accuracy: 0.6599 - val_accuracy: 0.6599\n",
      "Epoch 35/10000\n",
      "186/186 [==============================] - 2s 13ms/step - loss: 1.2341 - categorical_accuracy: 0.6758 - accuracy: 0.6758 - val_loss: 1.3344 - val_categorical_accuracy: 0.6013 - val_accuracy: 0.6013\n",
      "Epoch 36/10000\n",
      "186/186 [==============================] - 2s 13ms/step - loss: 1.2354 - categorical_accuracy: 0.6754 - accuracy: 0.6754 - val_loss: 1.2436 - val_categorical_accuracy: 0.6690 - val_accuracy: 0.6690\n",
      "Epoch 37/10000\n",
      "186/186 [==============================] - 2s 13ms/step - loss: 1.2256 - categorical_accuracy: 0.6736 - accuracy: 0.6736 - val_loss: 1.2591 - val_categorical_accuracy: 0.6529 - val_accuracy: 0.6529\n",
      "stop  11:17:05\n",
      "Took =  0:01:31.060046\n"
     ]
    }
   ],
   "source": [
    "reg_history = fit_model(reg_model)"
   ]
  },
  {
   "cell_type": "code",
   "execution_count": 50,
   "id": "91a8e82b",
   "metadata": {},
   "outputs": [
    {
     "data": {
      "image/png": "[encoded data removed]",
      "text/plain": [
       "<Figure size 720x360 with 2 Axes>"
      ]
     },
     "metadata": {
      "needs_background": "light"
     },
     "output_type": "display_data"
    }
   ],
   "source": [
    "plot_fit_history(reg_history.history['loss'], reg_history.history['val_loss'],\n",
    "                    reg_history.history['categorical_accuracy'], reg_history.history['val_categorical_accuracy'])"
   ]
  },
  {
   "cell_type": "code",
   "execution_count": 51,
   "id": "cf312424",
   "metadata": {},
   "outputs": [],
   "source": [
    "(test_y, pred_y) = predict_model(reg_model)"
   ]
  },
  {
   "cell_type": "code",
   "execution_count": 52,
   "id": "336656eb",
   "metadata": {},
   "outputs": [
    {
     "name": "stdout",
     "output_type": "stream",
     "text": [
      "Accuracy score:  0.6439777327935222\n",
      "F1 score:  0.5598254745213944\n",
      "              precision    recall  f1-score   support\n",
      "\n",
      "           0       0.72      0.25      0.37     12483\n",
      "           1       0.73      0.56      0.64     15842\n",
      "           2       0.76      0.94      0.84     25257\n",
      "           3       0.32      0.51      0.39      9650\n",
      "\n",
      "    accuracy                           0.64     63232\n",
      "   macro avg       0.63      0.57      0.56     63232\n",
      "weighted avg       0.68      0.64      0.63     63232\n",
      "\n"
     ]
    }
   ],
   "source": [
    "show_stats(test_y, pred_y)"
   ]
  },
  {
   "cell_type": "code",
   "execution_count": 53,
   "id": "20e9b122",
   "metadata": {},
   "outputs": [
    {
     "data": {
      "image/png": "[encoded data removed]",
      "text/plain": [
       "<Figure size 576x432 with 2 Axes>"
      ]
     },
     "metadata": {
      "needs_background": "light"
     },
     "output_type": "display_data"
    }
   ],
   "source": [
    "plot_confusion_matrix(test_y, pred_y, [0, 1, 2, 3])"
   ]
  },
  {
   "cell_type": "markdown",
   "id": "5535d4c7",
   "metadata": {},
   "source": [
    "## Base VGG model"
   ]
  },
  {
   "cell_type": "code",
   "execution_count": 54,
   "id": "80136304",
   "metadata": {},
   "outputs": [],
   "source": [
    "VGG_model = keras.Sequential([\n",
    "    #VGG block 1\n",
    "    keras.layers.Conv2D(32, (3, 3), activation='relu', padding='same', input_shape=INPUT_DIM),\n",
    "    keras.layers.Conv2D(32, (3, 3), activation='relu', padding='same'),\n",
    "    keras.layers.MaxPooling2D((2, 2)),\n",
    "    \n",
    "    #VGG block 2\n",
    "    keras.layers.Conv2D(64, (3, 3), activation='relu', padding='same'),\n",
    "    keras.layers.Conv2D(64, (3, 3), activation='relu', padding='same'),\n",
    "    keras.layers.MaxPooling2D((2, 2)),\n",
    "    \n",
    "    #VGG block 3\n",
    "    keras.layers.Conv2D(128, (3, 3), activation='relu', padding='same'),\n",
    "    keras.layers.Conv2D(128, (3, 3), activation='relu', padding='same'),\n",
    "    keras.layers.MaxPooling2D((2, 2)),\n",
    "    \n",
    "    keras.layers.Flatten(),\n",
    "    \n",
    "    keras.layers.Dense(128, activation='relu', kernel_regularizer=keras.regularizers.l2(reg_lambda)),\n",
    "    keras.layers.Dense(OUTPUT_CLASSES, activation='relu', kernel_regularizer=keras.regularizers.l2(reg_lambda))\n",
    "])"
   ]
  },
  {
   "cell_type": "code",
   "execution_count": 55,
   "id": "8a212785",
   "metadata": {},
   "outputs": [],
   "source": [
    "compile_model(VGG_model)"
   ]
  },
  {
   "cell_type": "code",
   "execution_count": 56,
   "id": "c1573f0d",
   "metadata": {},
   "outputs": [
    {
     "name": "stdout",
     "output_type": "stream",
     "text": [
      "Model: \"sequential_4\"\n",
      "_________________________________________________________________\n",
      "Layer (type)                 Output Shape              Param #   \n",
      "=================================================================\n",
      "conv2d_6 (Conv2D)            (None, 27, 27, 32)        896       \n",
      "_________________________________________________________________\n",
      "conv2d_7 (Conv2D)            (None, 27, 27, 32)        9248      \n",
      "_________________________________________________________________\n",
      "max_pooling2d_3 (MaxPooling2 (None, 13, 13, 32)        0         \n",
      "_________________________________________________________________\n",
      "conv2d_8 (Conv2D)            (None, 13, 13, 64)        18496     \n",
      "_________________________________________________________________\n",
      "conv2d_9 (Conv2D)            (None, 13, 13, 64)        36928     \n",
      "_________________________________________________________________\n",
      "max_pooling2d_4 (MaxPooling2 (None, 6, 6, 64)          0         \n",
      "_________________________________________________________________\n",
      "conv2d_10 (Conv2D)           (None, 6, 6, 128)         73856     \n",
      "_________________________________________________________________\n",
      "conv2d_11 (Conv2D)           (None, 6, 6, 128)         147584    \n",
      "_________________________________________________________________\n",
      "max_pooling2d_5 (MaxPooling2 (None, 3, 3, 128)         0         \n",
      "_________________________________________________________________\n",
      "flatten_4 (Flatten)          (None, 1152)              0         \n",
      "_________________________________________________________________\n",
      "dense_8 (Dense)              (None, 128)               147584    \n",
      "_________________________________________________________________\n",
      "dense_9 (Dense)              (None, 4)                 516       \n",
      "=================================================================\n",
      "Total params: 435,108\n",
      "Trainable params: 435,108\n",
      "Non-trainable params: 0\n",
      "_________________________________________________________________\n"
     ]
    }
   ],
   "source": [
    "VGG_model.summary()"
   ]
  },
  {
   "cell_type": "code",
   "execution_count": 57,
   "id": "1dac5bee",
   "metadata": {},
   "outputs": [
    {
     "name": "stdout",
     "output_type": "stream",
     "text": [
      "start  11:18:22\n",
      "Epoch 1/10000\n",
      "186/186 [==============================] - 16s 83ms/step - loss: 1.6195 - categorical_accuracy: 0.2580 - accuracy: 0.2580 - val_loss: 1.6161 - val_categorical_accuracy: 0.2567 - val_accuracy: 0.2567\n",
      "Epoch 2/10000\n",
      "186/186 [==============================] - 16s 87ms/step - loss: 1.6120 - categorical_accuracy: 0.2609 - accuracy: 0.2609 - val_loss: 1.6099 - val_categorical_accuracy: 0.2567 - val_accuracy: 0.2567\n",
      "Epoch 3/10000\n",
      "186/186 [==============================] - 17s 89ms/step - loss: 1.6000 - categorical_accuracy: 0.2668 - accuracy: 0.2668 - val_loss: 1.5886 - val_categorical_accuracy: 0.2804 - val_accuracy: 0.2804\n",
      "Epoch 4/10000\n",
      "186/186 [==============================] - 17s 91ms/step - loss: 1.5775 - categorical_accuracy: 0.2838 - accuracy: 0.2838 - val_loss: 1.5579 - val_categorical_accuracy: 0.3254 - val_accuracy: 0.3254\n",
      "Epoch 5/10000\n",
      "186/186 [==============================] - 17s 90ms/step - loss: 1.5438 - categorical_accuracy: 0.3195 - accuracy: 0.3195 - val_loss: 1.5296 - val_categorical_accuracy: 0.3042 - val_accuracy: 0.3042\n",
      "Epoch 6/10000\n",
      "186/186 [==============================] - 16s 89ms/step - loss: 1.5189 - categorical_accuracy: 0.3443 - accuracy: 0.3443 - val_loss: 1.5050 - val_categorical_accuracy: 0.3552 - val_accuracy: 0.3552\n",
      "Epoch 7/10000\n",
      "186/186 [==============================] - 17s 89ms/step - loss: 1.5025 - categorical_accuracy: 0.3544 - accuracy: 0.3544 - val_loss: 1.4890 - val_categorical_accuracy: 0.3608 - val_accuracy: 0.3608\n",
      "Epoch 8/10000\n",
      "186/186 [==============================] - 17s 92ms/step - loss: 1.4919 - categorical_accuracy: 0.3665 - accuracy: 0.3665 - val_loss: 1.4821 - val_categorical_accuracy: 0.3689 - val_accuracy: 0.3689\n",
      "Epoch 9/10000\n",
      "186/186 [==============================] - 16s 89ms/step - loss: 1.4856 - categorical_accuracy: 0.3655 - accuracy: 0.3655 - val_loss: 1.4840 - val_categorical_accuracy: 0.3648 - val_accuracy: 0.3648\n",
      "Epoch 10/10000\n",
      "186/186 [==============================] - 17s 89ms/step - loss: 1.4705 - categorical_accuracy: 0.3893 - accuracy: 0.3893 - val_loss: 1.3538 - val_categorical_accuracy: 0.5867 - val_accuracy: 0.5867\n",
      "Epoch 11/10000\n",
      "186/186 [==============================] - 17s 89ms/step - loss: 1.3154 - categorical_accuracy: 0.5824 - accuracy: 0.5824 - val_loss: 1.2933 - val_categorical_accuracy: 0.5846 - val_accuracy: 0.5846\n",
      "Epoch 12/10000\n",
      "186/186 [==============================] - 17s 93ms/step - loss: 1.2824 - categorical_accuracy: 0.5899 - accuracy: 0.5899 - val_loss: 1.2729 - val_categorical_accuracy: 0.5902 - val_accuracy: 0.5902\n",
      "Epoch 13/10000\n",
      "186/186 [==============================] - 17s 89ms/step - loss: 1.2629 - categorical_accuracy: 0.5937 - accuracy: 0.5937 - val_loss: 1.2725 - val_categorical_accuracy: 0.5917 - val_accuracy: 0.5917\n",
      "Epoch 14/10000\n",
      "186/186 [==============================] - 17s 90ms/step - loss: 1.2469 - categorical_accuracy: 0.5936 - accuracy: 0.5936 - val_loss: 1.2729 - val_categorical_accuracy: 0.6013 - val_accuracy: 0.6013\n",
      "Epoch 15/10000\n",
      "186/186 [==============================] - 17s 89ms/step - loss: 1.2320 - categorical_accuracy: 0.6027 - accuracy: 0.6027 - val_loss: 1.2268 - val_categorical_accuracy: 0.5912 - val_accuracy: 0.5912\n",
      "Epoch 16/10000\n",
      "186/186 [==============================] - 17s 94ms/step - loss: 1.2174 - categorical_accuracy: 0.6047 - accuracy: 0.6047 - val_loss: 1.2048 - val_categorical_accuracy: 0.5973 - val_accuracy: 0.5973\n",
      "Epoch 17/10000\n",
      "186/186 [==============================] - 17s 89ms/step - loss: 1.1801 - categorical_accuracy: 0.6190 - accuracy: 0.6190 - val_loss: 1.5266 - val_categorical_accuracy: 0.4098 - val_accuracy: 0.4098\n",
      "Epoch 18/10000\n",
      "186/186 [==============================] - 17s 89ms/step - loss: 1.1225 - categorical_accuracy: 0.6251 - accuracy: 0.6251 - val_loss: 1.0822 - val_categorical_accuracy: 0.6316 - val_accuracy: 0.6316\n",
      "Epoch 19/10000\n",
      "186/186 [==============================] - 17s 92ms/step - loss: 1.0765 - categorical_accuracy: 0.6465 - accuracy: 0.6465 - val_loss: 1.0334 - val_categorical_accuracy: 0.6822 - val_accuracy: 0.6822\n",
      "Epoch 20/10000\n",
      "186/186 [==============================] - 18s 94ms/step - loss: 1.0461 - categorical_accuracy: 0.6603 - accuracy: 0.6603 - val_loss: 1.0064 - val_categorical_accuracy: 0.6761 - val_accuracy: 0.6761\n",
      "Epoch 21/10000\n",
      "186/186 [==============================] - 17s 90ms/step - loss: 1.0177 - categorical_accuracy: 0.6731 - accuracy: 0.6731 - val_loss: 1.4395 - val_categorical_accuracy: 0.5341 - val_accuracy: 0.5341\n",
      "Epoch 22/10000\n",
      "186/186 [==============================] - 17s 91ms/step - loss: 1.0059 - categorical_accuracy: 0.6825 - accuracy: 0.6825 - val_loss: 0.9804 - val_categorical_accuracy: 0.7044 - val_accuracy: 0.7044\n",
      "Epoch 23/10000\n",
      "186/186 [==============================] - 17s 92ms/step - loss: 0.9684 - categorical_accuracy: 0.6950 - accuracy: 0.6950 - val_loss: 0.9816 - val_categorical_accuracy: 0.6867 - val_accuracy: 0.6867\n",
      "Epoch 24/10000\n",
      "186/186 [==============================] - 18s 96ms/step - loss: 0.9552 - categorical_accuracy: 0.7046 - accuracy: 0.7046 - val_loss: 1.0216 - val_categorical_accuracy: 0.6817 - val_accuracy: 0.6817\n",
      "Epoch 25/10000\n",
      "186/186 [==============================] - 20s 110ms/step - loss: 0.9314 - categorical_accuracy: 0.7116 - accuracy: 0.7116 - val_loss: 1.0317 - val_categorical_accuracy: 0.6721 - val_accuracy: 0.6721\n",
      "Epoch 26/10000\n",
      "186/186 [==============================] - 20s 108ms/step - loss: 0.9082 - categorical_accuracy: 0.7206 - accuracy: 0.7206 - val_loss: 0.9040 - val_categorical_accuracy: 0.7287 - val_accuracy: 0.7287\n",
      "Epoch 27/10000\n",
      "186/186 [==============================] - 17s 94ms/step - loss: 0.8970 - categorical_accuracy: 0.7280 - accuracy: 0.7280 - val_loss: 1.0010 - val_categorical_accuracy: 0.6786 - val_accuracy: 0.6786\n",
      "Epoch 28/10000\n",
      "186/186 [==============================] - 18s 96ms/step - loss: 0.8743 - categorical_accuracy: 0.7361 - accuracy: 0.7361 - val_loss: 0.9144 - val_categorical_accuracy: 0.7266 - val_accuracy: 0.7266\n",
      "Epoch 29/10000\n",
      "186/186 [==============================] - 19s 105ms/step - loss: 0.8579 - categorical_accuracy: 0.7394 - accuracy: 0.7394 - val_loss: 0.9674 - val_categorical_accuracy: 0.6776 - val_accuracy: 0.6776\n",
      "Epoch 30/10000\n",
      "186/186 [==============================] - 17s 90ms/step - loss: 0.8466 - categorical_accuracy: 0.7470 - accuracy: 0.7470 - val_loss: 0.9025 - val_categorical_accuracy: 0.7135 - val_accuracy: 0.7135\n",
      "Epoch 31/10000\n",
      "186/186 [==============================] - 18s 95ms/step - loss: 0.8186 - categorical_accuracy: 0.7558 - accuracy: 0.7558 - val_loss: 1.1039 - val_categorical_accuracy: 0.6498 - val_accuracy: 0.6498\n",
      "Epoch 32/10000\n",
      "186/186 [==============================] - 17s 91ms/step - loss: 0.8036 - categorical_accuracy: 0.7637 - accuracy: 0.7637 - val_loss: 0.8942 - val_categorical_accuracy: 0.7312 - val_accuracy: 0.7312\n",
      "Epoch 33/10000\n",
      "186/186 [==============================] - 17s 89ms/step - loss: 0.7902 - categorical_accuracy: 0.7736 - accuracy: 0.7736 - val_loss: 1.0152 - val_categorical_accuracy: 0.6685 - val_accuracy: 0.6685\n",
      "Epoch 34/10000\n",
      "186/186 [==============================] - 17s 91ms/step - loss: 0.7695 - categorical_accuracy: 0.7780 - accuracy: 0.7780 - val_loss: 0.9128 - val_categorical_accuracy: 0.7342 - val_accuracy: 0.7342\n",
      "Epoch 35/10000\n",
      "186/186 [==============================] - 17s 92ms/step - loss: 0.7310 - categorical_accuracy: 0.7906 - accuracy: 0.7906 - val_loss: 0.9161 - val_categorical_accuracy: 0.7236 - val_accuracy: 0.7236\n",
      "Epoch 36/10000\n",
      "186/186 [==============================] - 16s 88ms/step - loss: 0.7359 - categorical_accuracy: 0.7873 - accuracy: 0.7873 - val_loss: 1.0002 - val_categorical_accuracy: 0.6973 - val_accuracy: 0.6973\n",
      "Epoch 37/10000\n",
      "186/186 [==============================] - 16s 88ms/step - loss: 0.7103 - categorical_accuracy: 0.7994 - accuracy: 0.7994 - val_loss: 1.1779 - val_categorical_accuracy: 0.6483 - val_accuracy: 0.6483\n",
      "Epoch 38/10000\n",
      "186/186 [==============================] - 17s 90ms/step - loss: 0.6831 - categorical_accuracy: 0.8080 - accuracy: 0.8080 - val_loss: 1.0489 - val_categorical_accuracy: 0.6923 - val_accuracy: 0.6923\n",
      "Epoch 39/10000\n"
     ]
    },
    {
     "name": "stdout",
     "output_type": "stream",
     "text": [
      "186/186 [==============================] - 17s 89ms/step - loss: 0.6826 - categorical_accuracy: 0.8073 - accuracy: 0.8073 - val_loss: 0.9331 - val_categorical_accuracy: 0.7054 - val_accuracy: 0.7054\n",
      "Epoch 40/10000\n",
      "186/186 [==============================] - 16s 87ms/step - loss: 0.6350 - categorical_accuracy: 0.8316 - accuracy: 0.8316 - val_loss: 0.9750 - val_categorical_accuracy: 0.7150 - val_accuracy: 0.7150\n",
      "Epoch 41/10000\n",
      "186/186 [==============================] - 16s 87ms/step - loss: 0.6453 - categorical_accuracy: 0.8297 - accuracy: 0.8297 - val_loss: 0.9953 - val_categorical_accuracy: 0.6832 - val_accuracy: 0.6832\n",
      "Epoch 42/10000\n",
      "186/186 [==============================] - 18s 94ms/step - loss: 0.5857 - categorical_accuracy: 0.8530 - accuracy: 0.8530 - val_loss: 1.0035 - val_categorical_accuracy: 0.7064 - val_accuracy: 0.7064\n",
      "Epoch 43/10000\n",
      "186/186 [==============================] - 17s 92ms/step - loss: 0.5688 - categorical_accuracy: 0.8560 - accuracy: 0.8560 - val_loss: 1.1728 - val_categorical_accuracy: 0.6660 - val_accuracy: 0.6660\n",
      "Epoch 44/10000\n",
      "186/186 [==============================] - 17s 89ms/step - loss: 0.5417 - categorical_accuracy: 0.8695 - accuracy: 0.8695 - val_loss: 1.0371 - val_categorical_accuracy: 0.6938 - val_accuracy: 0.6938\n",
      "stop  11:30:53\n",
      "Took =  0:12:31.034260\n"
     ]
    }
   ],
   "source": [
    "VGG_history = fit_model(VGG_model)"
   ]
  },
  {
   "cell_type": "code",
   "execution_count": 58,
   "id": "103b3084",
   "metadata": {},
   "outputs": [
    {
     "data": {
      "image/png": "[encoded data removed]",
      "text/plain": [
       "<Figure size 720x360 with 2 Axes>"
      ]
     },
     "metadata": {
      "needs_background": "light"
     },
     "output_type": "display_data"
    }
   ],
   "source": [
    "plot_fit_history(VGG_history.history['loss'], VGG_history.history['val_loss'],\n",
    "                    VGG_history.history['categorical_accuracy'], VGG_history.history['val_categorical_accuracy'])"
   ]
  },
  {
   "cell_type": "markdown",
   "id": "458cbdbf",
   "metadata": {},
   "source": [
    " Model seems to be overfitting. There are a couple of things we can do here. We have gone with removing 1 VGG block as well as add a dropout layer"
   ]
  },
  {
   "cell_type": "code",
   "execution_count": 59,
   "id": "0a0ce7cb",
   "metadata": {},
   "outputs": [],
   "source": [
    "(test_y, pred_y) = predict_model(VGG_model)"
   ]
  },
  {
   "cell_type": "code",
   "execution_count": 60,
   "id": "a06f5ad6",
   "metadata": {},
   "outputs": [
    {
     "name": "stdout",
     "output_type": "stream",
     "text": [
      "Accuracy score:  0.6976056427125507\n",
      "F1 score:  0.623684561596697\n",
      "              precision    recall  f1-score   support\n",
      "\n",
      "           0       0.61      0.70      0.65     12487\n",
      "           1       0.70      0.63      0.66     15833\n",
      "           2       0.84      0.90      0.87     25269\n",
      "           3       0.36      0.28      0.31      9643\n",
      "\n",
      "    accuracy                           0.70     63232\n",
      "   macro avg       0.63      0.63      0.62     63232\n",
      "weighted avg       0.68      0.70      0.69     63232\n",
      "\n"
     ]
    }
   ],
   "source": [
    "show_stats(test_y, pred_y)"
   ]
  },
  {
   "cell_type": "code",
   "execution_count": 61,
   "id": "507c4d81",
   "metadata": {},
   "outputs": [
    {
     "ename": "TypeError",
     "evalue": "plot_confusion_matrix() missing 1 required positional argument: 'target_names'",
     "output_type": "error",
     "traceback": [
      "\u001b[0;31m---------------------------------------------------------------------------\u001b[0m",
      "\u001b[0;31mTypeError\u001b[0m                                 Traceback (most recent call last)",
      "\u001b[0;32m<ipython-input-61-d8c07d36fef9>\u001b[0m in \u001b[0;36m<module>\u001b[0;34m\u001b[0m\n\u001b[0;32m----> 1\u001b[0;31m \u001b[0mplot_confusion_matrix\u001b[0m\u001b[0;34m(\u001b[0m\u001b[0mtest_y\u001b[0m\u001b[0;34m,\u001b[0m \u001b[0mpred_y\u001b[0m\u001b[0;34m)\u001b[0m\u001b[0;34m\u001b[0m\u001b[0;34m\u001b[0m\u001b[0m\n\u001b[0m",
      "\u001b[0;31mTypeError\u001b[0m: plot_confusion_matrix() missing 1 required positional argument: 'target_names'"
     ]
    }
   ],
   "source": [
    "plot_confusion_matrix(test_y, pred_y)"
   ]
  },
  {
   "cell_type": "markdown",
   "id": "25f83a70",
   "metadata": {},
   "source": [
    "# VGG 2 model with Dropout"
   ]
  },
  {
   "cell_type": "code",
   "execution_count": 83,
   "id": "7ec52e84",
   "metadata": {},
   "outputs": [],
   "source": [
    "VGG2_model = keras.Sequential([\n",
    "    #VGG block 1\n",
    "    keras.layers.Conv2D(32, (3, 3), activation='relu', padding='same', input_shape=INPUT_DIM),\n",
    "    keras.layers.Conv2D(32, (3, 3), activation='relu', padding='same'),\n",
    "    keras.layers.MaxPooling2D((2, 2)),\n",
    "    \n",
    "    #VGG block 2\n",
    "    keras.layers.Conv2D(64, (3, 3), activation='relu', padding='same'),\n",
    "    keras.layers.Conv2D(64, (3, 3), activation='relu', padding='same'),\n",
    "    keras.layers.MaxPooling2D((2, 2)),\n",
    "    \n",
    "    keras.layers.Flatten(),\n",
    "    \n",
    "    keras.layers.Dense(128, activation='relu'), #, kernel_regularizer=keras.regularizers.l2(reg_lambda)),\n",
    "    keras.layers.Dropout(.2),\n",
    "    keras.layers.Dense(OUTPUT_CLASSES, activation='relu',) # kernel_regularizer=keras.regularizers.l2(reg_lambda))\n",
    "])"
   ]
  },
  {
   "cell_type": "code",
   "execution_count": 84,
   "id": "2a76d5d4",
   "metadata": {},
   "outputs": [],
   "source": [
    "compile_model(VGG2_model)"
   ]
  },
  {
   "cell_type": "code",
   "execution_count": 85,
   "id": "f0496e4b",
   "metadata": {},
   "outputs": [
    {
     "name": "stdout",
     "output_type": "stream",
     "text": [
      "Model: \"sequential_5\"\n",
      "_________________________________________________________________\n",
      "Layer (type)                 Output Shape              Param #   \n",
      "=================================================================\n",
      "conv2d_12 (Conv2D)           (None, 27, 27, 32)        896       \n",
      "_________________________________________________________________\n",
      "conv2d_13 (Conv2D)           (None, 27, 27, 32)        9248      \n",
      "_________________________________________________________________\n",
      "max_pooling2d_6 (MaxPooling2 (None, 13, 13, 32)        0         \n",
      "_________________________________________________________________\n",
      "conv2d_14 (Conv2D)           (None, 13, 13, 64)        18496     \n",
      "_________________________________________________________________\n",
      "conv2d_15 (Conv2D)           (None, 13, 13, 64)        36928     \n",
      "_________________________________________________________________\n",
      "max_pooling2d_7 (MaxPooling2 (None, 6, 6, 64)          0         \n",
      "_________________________________________________________________\n",
      "flatten_5 (Flatten)          (None, 2304)              0         \n",
      "_________________________________________________________________\n",
      "dense_10 (Dense)             (None, 128)               295040    \n",
      "_________________________________________________________________\n",
      "dropout (Dropout)            (None, 128)               0         \n",
      "_________________________________________________________________\n",
      "dense_11 (Dense)             (None, 4)                 516       \n",
      "=================================================================\n",
      "Total params: 361,124\n",
      "Trainable params: 361,124\n",
      "Non-trainable params: 0\n",
      "_________________________________________________________________\n"
     ]
    }
   ],
   "source": [
    "VGG_model2.summary()"
   ]
  },
  {
   "cell_type": "code",
   "execution_count": 86,
   "id": "2feb9c8a",
   "metadata": {},
   "outputs": [
    {
     "name": "stdout",
     "output_type": "stream",
     "text": [
      "start  12:23:40\n",
      "Epoch 1/10000\n",
      "186/186 [==============================] - 13s 66ms/step - loss: 1.3843 - categorical_accuracy: 0.2510 - accuracy: 0.2510 - val_loss: 1.3811 - val_categorical_accuracy: 0.2567 - val_accuracy: 0.2567\n",
      "Epoch 2/10000\n",
      "186/186 [==============================] - 12s 63ms/step - loss: 1.3682 - categorical_accuracy: 0.2951 - accuracy: 0.2951 - val_loss: 1.3088 - val_categorical_accuracy: 0.4093 - val_accuracy: 0.4093\n",
      "Epoch 3/10000\n",
      "186/186 [==============================] - 12s 64ms/step - loss: 1.2880 - categorical_accuracy: 0.4329 - accuracy: 0.4329 - val_loss: 1.2650 - val_categorical_accuracy: 0.4154 - val_accuracy: 0.4154\n",
      "Epoch 4/10000\n",
      "186/186 [==============================] - 13s 69ms/step - loss: 1.2256 - categorical_accuracy: 0.5019 - accuracy: 0.5019 - val_loss: 1.1416 - val_categorical_accuracy: 0.5811 - val_accuracy: 0.5811\n",
      "Epoch 5/10000\n",
      "186/186 [==============================] - 13s 70ms/step - loss: 1.1331 - categorical_accuracy: 0.5449 - accuracy: 0.5449 - val_loss: 1.0344 - val_categorical_accuracy: 0.5826 - val_accuracy: 0.5826\n",
      "Epoch 6/10000\n",
      "186/186 [==============================] - 13s 71ms/step - loss: 1.0604 - categorical_accuracy: 0.5754 - accuracy: 0.5754 - val_loss: 1.0843 - val_categorical_accuracy: 0.5624 - val_accuracy: 0.5624\n",
      "Epoch 7/10000\n",
      "186/186 [==============================] - 13s 72ms/step - loss: 1.0207 - categorical_accuracy: 0.5926 - accuracy: 0.5926 - val_loss: 0.9476 - val_categorical_accuracy: 0.5937 - val_accuracy: 0.5937\n",
      "Epoch 8/10000\n",
      "186/186 [==============================] - 13s 71ms/step - loss: 0.9608 - categorical_accuracy: 0.6242 - accuracy: 0.6242 - val_loss: 1.0371 - val_categorical_accuracy: 0.5755 - val_accuracy: 0.5755\n",
      "Epoch 9/10000\n",
      "186/186 [==============================] - 13s 72ms/step - loss: 0.9120 - categorical_accuracy: 0.6395 - accuracy: 0.6395 - val_loss: 0.8701 - val_categorical_accuracy: 0.6225 - val_accuracy: 0.6225\n",
      "Epoch 10/10000\n",
      "186/186 [==============================] - 13s 70ms/step - loss: 0.8888 - categorical_accuracy: 0.6512 - accuracy: 0.6512 - val_loss: 0.9935 - val_categorical_accuracy: 0.5907 - val_accuracy: 0.5907\n",
      "Epoch 11/10000\n",
      "186/186 [==============================] - 13s 72ms/step - loss: 0.8542 - categorical_accuracy: 0.6650 - accuracy: 0.6650 - val_loss: 0.7978 - val_categorical_accuracy: 0.6897 - val_accuracy: 0.6897\n",
      "Epoch 12/10000\n",
      "186/186 [==============================] - 13s 71ms/step - loss: 0.8304 - categorical_accuracy: 0.6748 - accuracy: 0.6748 - val_loss: 0.8458 - val_categorical_accuracy: 0.6483 - val_accuracy: 0.6483\n",
      "Epoch 13/10000\n",
      "186/186 [==============================] - 13s 71ms/step - loss: 0.8104 - categorical_accuracy: 0.6795 - accuracy: 0.6795 - val_loss: 0.7777 - val_categorical_accuracy: 0.6902 - val_accuracy: 0.6902\n",
      "Epoch 14/10000\n",
      "186/186 [==============================] - 13s 72ms/step - loss: 0.7958 - categorical_accuracy: 0.6913 - accuracy: 0.6913 - val_loss: 0.8049 - val_categorical_accuracy: 0.6832 - val_accuracy: 0.6832\n",
      "Epoch 15/10000\n",
      "186/186 [==============================] - 13s 71ms/step - loss: 0.7662 - categorical_accuracy: 0.7024 - accuracy: 0.7024 - val_loss: 0.7770 - val_categorical_accuracy: 0.6842 - val_accuracy: 0.6842\n",
      "Epoch 16/10000\n",
      "186/186 [==============================] - 13s 73ms/step - loss: 0.7757 - categorical_accuracy: 0.6966 - accuracy: 0.6966 - val_loss: 0.7601 - val_categorical_accuracy: 0.7054 - val_accuracy: 0.7054\n",
      "Epoch 17/10000\n",
      "186/186 [==============================] - 13s 71ms/step - loss: 0.7540 - categorical_accuracy: 0.7057 - accuracy: 0.7057 - val_loss: 0.7347 - val_categorical_accuracy: 0.7074 - val_accuracy: 0.7074\n",
      "Epoch 18/10000\n",
      "186/186 [==============================] - 13s 71ms/step - loss: 0.7398 - categorical_accuracy: 0.7147 - accuracy: 0.7147 - val_loss: 0.7226 - val_categorical_accuracy: 0.7226 - val_accuracy: 0.7226\n",
      "Epoch 19/10000\n",
      "186/186 [==============================] - 14s 73ms/step - loss: 0.7324 - categorical_accuracy: 0.7153 - accuracy: 0.7153 - val_loss: 0.7029 - val_categorical_accuracy: 0.7292 - val_accuracy: 0.7292\n",
      "Epoch 20/10000\n",
      "186/186 [==============================] - 13s 71ms/step - loss: 0.7183 - categorical_accuracy: 0.7239 - accuracy: 0.7239 - val_loss: 0.7000 - val_categorical_accuracy: 0.7211 - val_accuracy: 0.7211\n",
      "Epoch 21/10000\n",
      "186/186 [==============================] - 14s 74ms/step - loss: 0.7042 - categorical_accuracy: 0.7234 - accuracy: 0.7234 - val_loss: 0.6864 - val_categorical_accuracy: 0.7337 - val_accuracy: 0.7337\n",
      "Epoch 22/10000\n",
      "186/186 [==============================] - 13s 71ms/step - loss: 0.6930 - categorical_accuracy: 0.7320 - accuracy: 0.7320 - val_loss: 0.7129 - val_categorical_accuracy: 0.7322 - val_accuracy: 0.7322\n",
      "Epoch 23/10000\n",
      "186/186 [==============================] - 13s 71ms/step - loss: 0.6740 - categorical_accuracy: 0.7411 - accuracy: 0.7411 - val_loss: 0.6762 - val_categorical_accuracy: 0.7468 - val_accuracy: 0.7468\n",
      "Epoch 24/10000\n",
      "186/186 [==============================] - 14s 74ms/step - loss: 0.6674 - categorical_accuracy: 0.7416 - accuracy: 0.7416 - val_loss: 0.6683 - val_categorical_accuracy: 0.7438 - val_accuracy: 0.7438\n",
      "Epoch 25/10000\n",
      "186/186 [==============================] - 13s 71ms/step - loss: 0.6635 - categorical_accuracy: 0.7440 - accuracy: 0.7440 - val_loss: 0.6861 - val_categorical_accuracy: 0.7287 - val_accuracy: 0.7287\n",
      "Epoch 26/10000\n",
      "186/186 [==============================] - 13s 72ms/step - loss: 0.6695 - categorical_accuracy: 0.7440 - accuracy: 0.7440 - val_loss: 0.7722 - val_categorical_accuracy: 0.6988 - val_accuracy: 0.6988\n",
      "Epoch 27/10000\n",
      "186/186 [==============================] - 13s 70ms/step - loss: 0.6374 - categorical_accuracy: 0.7527 - accuracy: 0.7527 - val_loss: 0.6630 - val_categorical_accuracy: 0.7519 - val_accuracy: 0.7519\n",
      "Epoch 28/10000\n",
      "186/186 [==============================] - 13s 71ms/step - loss: 0.6202 - categorical_accuracy: 0.7549 - accuracy: 0.7549 - val_loss: 0.6704 - val_categorical_accuracy: 0.7524 - val_accuracy: 0.7524\n",
      "Epoch 29/10000\n",
      "186/186 [==============================] - 13s 72ms/step - loss: 0.6191 - categorical_accuracy: 0.7622 - accuracy: 0.7622 - val_loss: 0.7286 - val_categorical_accuracy: 0.7120 - val_accuracy: 0.7120\n",
      "Epoch 30/10000\n",
      "186/186 [==============================] - 13s 71ms/step - loss: 0.6076 - categorical_accuracy: 0.7671 - accuracy: 0.7671 - val_loss: 0.6512 - val_categorical_accuracy: 0.7559 - val_accuracy: 0.7559\n",
      "Epoch 31/10000\n",
      "186/186 [==============================] - 13s 71ms/step - loss: 0.5964 - categorical_accuracy: 0.7713 - accuracy: 0.7713 - val_loss: 0.6505 - val_categorical_accuracy: 0.7655 - val_accuracy: 0.7655\n",
      "Epoch 32/10000\n",
      "186/186 [==============================] - 13s 72ms/step - loss: 0.5785 - categorical_accuracy: 0.7738 - accuracy: 0.7738 - val_loss: 0.6769 - val_categorical_accuracy: 0.7489 - val_accuracy: 0.7489\n",
      "Epoch 33/10000\n",
      "186/186 [==============================] - 13s 71ms/step - loss: 0.5667 - categorical_accuracy: 0.7817 - accuracy: 0.7817 - val_loss: 0.6706 - val_categorical_accuracy: 0.7438 - val_accuracy: 0.7438\n",
      "Epoch 34/10000\n",
      "186/186 [==============================] - 13s 72ms/step - loss: 0.5602 - categorical_accuracy: 0.7822 - accuracy: 0.7822 - val_loss: 0.6685 - val_categorical_accuracy: 0.7494 - val_accuracy: 0.7494\n",
      "Epoch 35/10000\n",
      "186/186 [==============================] - 13s 70ms/step - loss: 0.5417 - categorical_accuracy: 0.7942 - accuracy: 0.7942 - val_loss: 0.7061 - val_categorical_accuracy: 0.7312 - val_accuracy: 0.7312\n",
      "Epoch 36/10000\n",
      "186/186 [==============================] - 13s 72ms/step - loss: 0.5480 - categorical_accuracy: 0.7903 - accuracy: 0.7903 - val_loss: 0.6624 - val_categorical_accuracy: 0.7514 - val_accuracy: 0.7514\n",
      "Epoch 37/10000\n",
      "186/186 [==============================] - 13s 71ms/step - loss: 0.5212 - categorical_accuracy: 0.8009 - accuracy: 0.8009 - val_loss: 0.6578 - val_categorical_accuracy: 0.7559 - val_accuracy: 0.7559\n",
      "Epoch 38/10000\n",
      "186/186 [==============================] - 13s 70ms/step - loss: 0.5172 - categorical_accuracy: 0.8021 - accuracy: 0.8021 - val_loss: 0.6977 - val_categorical_accuracy: 0.7367 - val_accuracy: 0.7367\n",
      "Epoch 39/10000\n"
     ]
    },
    {
     "name": "stdout",
     "output_type": "stream",
     "text": [
      "186/186 [==============================] - 13s 70ms/step - loss: 0.4957 - categorical_accuracy: 0.8105 - accuracy: 0.8105 - val_loss: 0.6725 - val_categorical_accuracy: 0.7453 - val_accuracy: 0.7453\n",
      "Epoch 40/10000\n",
      "186/186 [==============================] - 13s 68ms/step - loss: 0.4930 - categorical_accuracy: 0.8142 - accuracy: 0.8142 - val_loss: 0.6914 - val_categorical_accuracy: 0.7377 - val_accuracy: 0.7377\n",
      "Epoch 41/10000\n",
      "186/186 [==============================] - 13s 68ms/step - loss: 0.4664 - categorical_accuracy: 0.8240 - accuracy: 0.8240 - val_loss: 0.7030 - val_categorical_accuracy: 0.7453 - val_accuracy: 0.7453\n",
      "stop  12:32:40\n",
      "Took =  0:08:59.756163\n"
     ]
    }
   ],
   "source": [
    "VGG2_history = fit_model(VGG2_model)"
   ]
  },
  {
   "cell_type": "code",
   "execution_count": 87,
   "id": "d932ec55",
   "metadata": {},
   "outputs": [
    {
     "data": {
      "image/png": "[encoded data removed]",
      "text/plain": [
       "<Figure size 720x360 with 2 Axes>"
      ]
     },
     "metadata": {
      "needs_background": "light"
     },
     "output_type": "display_data"
    }
   ],
   "source": [
    "plot_fit_history(VGG_history.history['loss'], VGG_history.history['val_loss'],\n",
    "                    VGG_history.history['categorical_accuracy'], VGG_history.history['val_categorical_accuracy'])"
   ]
  },
  {
   "cell_type": "markdown",
   "id": "3bc24e2f",
   "metadata": {},
   "source": [
    "Performance seems slightly better, but definately can be imporved upon. As of right now, overfitting seems to be the main problem."
   ]
  },
  {
   "cell_type": "code",
   "execution_count": 75,
   "id": "c8658e6f",
   "metadata": {},
   "outputs": [],
   "source": [
    "(test_y, pred_y) = predict_model(VGG_model)"
   ]
  },
  {
   "cell_type": "code",
   "execution_count": 76,
   "id": "ad1fdc77",
   "metadata": {},
   "outputs": [
    {
     "name": "stdout",
     "output_type": "stream",
     "text": [
      "Accuracy score:  0.697510754048583\n",
      "F1 score:  0.6235443016330974\n",
      "              precision    recall  f1-score   support\n",
      "\n",
      "           0       0.61      0.70      0.65     12483\n",
      "           1       0.70      0.63      0.66     15837\n",
      "           2       0.84      0.90      0.87     25269\n",
      "           3       0.36      0.28      0.31      9643\n",
      "\n",
      "    accuracy                           0.70     63232\n",
      "   macro avg       0.63      0.63      0.62     63232\n",
      "weighted avg       0.68      0.70      0.69     63232\n",
      "\n"
     ]
    }
   ],
   "source": [
    "show_stats(test_y, pred_y)"
   ]
  },
  {
   "cell_type": "code",
   "execution_count": null,
   "id": "e9122f5d",
   "metadata": {},
   "outputs": [],
   "source": [
    "plot_confusion_matrix(test_y, pred_y)"
   ]
  },
  {
   "cell_type": "markdown",
   "id": "3a3be4fb",
   "metadata": {},
   "source": [
    "## Data Augumentation"
   ]
  },
  {
   "cell_type": "code",
   "execution_count": 92,
   "id": "324ad4ec",
   "metadata": {},
   "outputs": [
    {
     "name": "stdout",
     "output_type": "stream",
     "text": [
      "Found 5937 validated image filenames.\n",
      "Found 1979 validated image filenames.\n"
     ]
    }
   ],
   "source": [
    "aug_train_datagen = ImageDataGenerator(rescale=1./255, data_format='channels_last',\n",
    "                                   rotation_range=90, width_shift_range=0.2,\n",
    "                                   height_shift_range=0.2, brightness_range=[0.5,1.5])\n",
    "aug_val_datagen = ImageDataGenerator(rescale=1./255, data_format='channels_last')\n",
    "\n",
    "batch_size = 32\n",
    "columns = ['cellType_0', 'cellType_1', 'cellType_2', 'cellType_3']\n",
    "\n",
    "aug_train_generator = aug_train_datagen.flow_from_dataframe(\n",
    "    dataframe = train_data,\n",
    "    directory = './patch_images',\n",
    "    x_col = 'ImageName',\n",
    "    y_col = columns,\n",
    "    target_size = (27, 27),\n",
    "    batch_size = batch_size,\n",
    "    class_mode = 'raw',\n",
    "    shuffle=False\n",
    ")\n",
    "\n",
    "aug_validation_generator = aug_val_datagen.flow_from_dataframe(\n",
    "    dataframe=val_data,\n",
    "    directory = './patch_images',\n",
    "    x_col = 'ImageName',\n",
    "    y_col = columns,\n",
    "    target_size = (27, 27),\n",
    "    batch_size = batch_size,\n",
    "    class_mode = 'raw',\n",
    "    shuffle = False\n",
    ")"
   ]
  },
  {
   "cell_type": "code",
   "execution_count": 95,
   "id": "bcfe703f",
   "metadata": {},
   "outputs": [],
   "source": [
    "compile_model(VGG_model)"
   ]
  },
  {
   "cell_type": "code",
   "execution_count": 96,
   "id": "37bc088b",
   "metadata": {},
   "outputs": [
    {
     "name": "stdout",
     "output_type": "stream",
     "text": [
      "Training started...\n",
      "Took =  0:29:12.716854\n"
     ]
    }
   ],
   "source": [
    "print(\"Training started...\")\n",
    "now = datetime.datetime.now()\n",
    "\n",
    "VGG2_history = VGG_model.fit(aug_train_generator, validation_data=aug_validation_generator, epochs=100, verbose=0)\n",
    "\n",
    "print(\"Took = \", datetime.datetime.now() - now)"
   ]
  },
  {
   "cell_type": "code",
   "execution_count": 97,
   "id": "58521651",
   "metadata": {},
   "outputs": [
    {
     "data": {
      "image/png": "[encoded data removed]",
      "text/plain": [
       "<Figure size 720x360 with 2 Axes>"
      ]
     },
     "metadata": {
      "needs_background": "light"
     },
     "output_type": "display_data"
    }
   ],
   "source": [
    "plot_fit_history(VGG2_history.history['loss'], VGG2_history.history['val_loss'],\n",
    "                    VGG2_history.history['categorical_accuracy'], VGG2_history.history['val_categorical_accuracy'])"
   ]
  },
  {
   "cell_type": "code",
   "execution_count": null,
   "id": "bcb2934c",
   "metadata": {},
   "outputs": [],
   "source": []
  }
 ],
 "metadata": {
  "kernelspec": {
   "display_name": "Python 3",
   "language": "python",
   "name": "python3"
  },
  "language_info": {
   "codemirror_mode": {
    "name": "ipython",
    "version": 3
   },
   "file_extension": ".py",
   "mimetype": "text/x-python",
   "name": "python",
   "nbconvert_exporter": "python",
   "pygments_lexer": "ipython3",
   "version": "3.9.4"
  }
 },
 "nbformat": 4,
 "nbformat_minor": 5
}
