{
 "cells": [
  {
   "cell_type": "markdown",
   "metadata": {},
   "source": [
    "# COCS2673 Assignment 2 P1A - Is or is not cancer prediction"
   ]
  },
  {
   "cell_type": "code",
   "execution_count": 1,
   "metadata": {
    "scrolled": true
   },
   "outputs": [],
   "source": [
    "#!pip install tensorflow"
   ]
  },
  {
   "cell_type": "code",
   "execution_count": 2,
   "metadata": {
    "scrolled": true
   },
   "outputs": [],
   "source": [
    "#import zipfile\n",
    "#with zipfile.ZipFile('./Image_classification_data.zip', 'r') as zip_ref:\n",
    "#   zip_ref.extractall('./')"
   ]
  },
  {
   "cell_type": "code",
   "execution_count": 3,
   "metadata": {
    "scrolled": true
   },
   "outputs": [],
   "source": [
    "#!pwd"
   ]
  },
  {
   "cell_type": "code",
   "execution_count": 4,
   "metadata": {
    "scrolled": true
   },
   "outputs": [
    {
     "data": {
      "text/plain": [
       "'2.4.1'"
      ]
     },
     "execution_count": 4,
     "metadata": {},
     "output_type": "execute_result"
    }
   ],
   "source": [
    "import tensorflow as tf\n",
    "AUTOTUNE = tf.data.experimental.AUTOTUNE\n",
    "\n",
    "import IPython.display as display\n",
    "from PIL import Image\n",
    "import pandas as pd\n",
    "import numpy as np\n",
    "import matplotlib.pyplot as plt\n",
    "import os\n",
    "import datetime\n",
    "\n",
    "import pandas as pd\n",
    "\n",
    "tf.__version__"
   ]
  },
  {
   "cell_type": "markdown",
   "metadata": {},
   "source": [
    "# Load Data\n",
    "Split data into train, validation, and test\n",
    "Note that images for the same patient may contain a mix of cancerous and non-cancerous data.\n",
    "Q - Sould we split on patient or just randomly\n",
    "\n"
   ]
  },
  {
   "cell_type": "code",
   "execution_count": 5,
   "metadata": {
    "scrolled": true
   },
   "outputs": [],
   "source": [
    "mainData = pd.read_csv('./data_labels_mainData.csv')\n",
    "extraData = pd.read_csv('./data_labels_extraData.csv')"
   ]
  },
  {
   "cell_type": "code",
   "execution_count": 6,
   "metadata": {
    "scrolled": true
   },
   "outputs": [],
   "source": [
    "mainData = mainData.sample(2000)\n",
    "#mainData = mainData.append(extraData, ignore_index=True)"
   ]
  },
  {
   "cell_type": "markdown",
   "metadata": {},
   "source": [
    "# Exploratary Data Analysis (EDA)"
   ]
  },
  {
   "cell_type": "code",
   "execution_count": 7,
   "metadata": {
    "scrolled": false
   },
   "outputs": [
    {
     "name": "stdout",
     "output_type": "stream",
     "text": [
      "InstanceID       int64\n",
      "patientID        int64\n",
      "ImageName       object\n",
      "cellTypeName    object\n",
      "cellType         int64\n",
      "isCancerous      int64\n",
      "dtype: object\n",
      "         InstanceID    patientID     cellType  isCancerous\n",
      "count   2000.000000  2000.000000  2000.000000  2000.000000\n",
      "mean    9997.034000    29.399000     1.509000     0.419000\n",
      "std     6672.934539    17.599366     0.938275     0.493519\n",
      "min        2.000000     1.000000     0.000000     0.000000\n",
      "25%     4005.750000    14.000000     1.000000     0.000000\n",
      "50%     9065.500000    25.000000     2.000000     0.000000\n",
      "75%    16719.250000    47.000000     2.000000     1.000000\n",
      "max    22435.000000    60.000000     3.000000     1.000000\n"
     ]
    }
   ],
   "source": [
    "print(mainData.dtypes)\n",
    "#print(mainData.shape)\n",
    "#print(mainData.info())\n",
    "print(mainData.describe())\n"
   ]
  },
  {
   "cell_type": "markdown",
   "metadata": {},
   "source": [
    "Update Categorical Data types"
   ]
  },
  {
   "cell_type": "code",
   "execution_count": 8,
   "metadata": {
    "scrolled": true
   },
   "outputs": [],
   "source": [
    "mainData['cellType'] = mainData['cellType'].astype('category')\n",
    "mainData['cellTypeName'] = mainData['cellTypeName'].astype('category')\n"
   ]
  },
  {
   "cell_type": "code",
   "execution_count": 9,
   "metadata": {
    "scrolled": false
   },
   "outputs": [
    {
     "data": {
      "image/png": "[encoded data removed]",
      "text/plain": [
       "<Figure size 432x288 with 4 Axes>"
      ]
     },
     "metadata": {
      "needs_background": "light"
     },
     "output_type": "display_data"
    }
   ],
   "source": [
    "mainData.hist()\n",
    "plt.show()"
   ]
  },
  {
   "cell_type": "code",
   "execution_count": 10,
   "metadata": {
    "scrolled": true
   },
   "outputs": [],
   "source": [
    "mainData.drop(['InstanceID'], axis=1,inplace=True)\n",
    "mainData.drop(['cellType'], axis=1,inplace=True)\n",
    "mainData.drop(['cellTypeName'], axis=1,inplace=True)\n"
   ]
  },
  {
   "cell_type": "code",
   "execution_count": 11,
   "metadata": {
    "scrolled": true
   },
   "outputs": [],
   "source": [
    "mainData['isCancerous'] = mainData['isCancerous'].astype('category')\n",
    "\n",
    "#mainData['cellTypeName'] = mainData['cellTypeName'].astype('category')\n",
    "#mainData['cellType'] = mainData['cellType'].astype('category')\n",
    "\n",
    "#? One hot encode cellType?\n"
   ]
  },
  {
   "cell_type": "code",
   "execution_count": 12,
   "metadata": {
    "scrolled": true
   },
   "outputs": [
    {
     "name": "stdout",
     "output_type": "stream",
     "text": [
      "<class 'pandas.core.frame.DataFrame'>\n",
      "Int64Index: 2000 entries, 3629 to 8818\n",
      "Data columns (total 3 columns):\n",
      " #   Column       Non-Null Count  Dtype   \n",
      "---  ------       --------------  -----   \n",
      " 0   patientID    2000 non-null   int64   \n",
      " 1   ImageName    2000 non-null   object  \n",
      " 2   isCancerous  2000 non-null   category\n",
      "dtypes: category(1), int64(1), object(1)\n",
      "memory usage: 48.9+ KB\n"
     ]
    }
   ],
   "source": [
    "mainData.info()"
   ]
  },
  {
   "cell_type": "code",
   "execution_count": 13,
   "metadata": {
    "scrolled": true
   },
   "outputs": [
    {
     "data": {
      "text/plain": [
       "patientID      0\n",
       "ImageName      0\n",
       "isCancerous    0\n",
       "dtype: int64"
      ]
     },
     "execution_count": 13,
     "metadata": {},
     "output_type": "execute_result"
    }
   ],
   "source": [
    "mainData.isnull().sum()"
   ]
  },
  {
   "cell_type": "code",
   "execution_count": 14,
   "metadata": {
    "scrolled": true
   },
   "outputs": [],
   "source": [
    "#for i, col in enumerate(mainData.columns):\n",
    "#    print(\"==>\", col)\n",
    "#    print(mainData[col].value_counts())\n",
    "#    print()"
   ]
  },
  {
   "cell_type": "code",
   "execution_count": 15,
   "metadata": {
    "scrolled": true
   },
   "outputs": [
    {
     "name": "stdout",
     "output_type": "stream",
     "text": [
      "Class Data:\n",
      "    Total: 2000\n",
      "    Positive: 838 (41.90% of total)\n",
      "\n"
     ]
    }
   ],
   "source": [
    "neg, pos = np.bincount(mainData.isCancerous)\n",
    "total = neg + pos\n",
    "print('Class Data:\\n    Total: {}\\n    Positive: {} ({:.2f}% of total)\\n'.format(total, pos, 100 * pos / total))"
   ]
  },
  {
   "cell_type": "markdown",
   "metadata": {},
   "source": [
    "#### Key observations:\n",
    "* Data has 20280  observations and 6 columns.\n",
    "* InstanceID - is Id field, need to remove as not valueable classification attribute\n",
    "* cellTypeName, cellType - indicator of actual cell type and not used in this case for cancer diagnosis\n",
    "* isCancerous - indicator of the actual diagnosis (1 = cancerous, 0 = benign)\n",
    "\n",
    "Split of benign to cancerous is a 35% cancerous, 65% benign"
   ]
  },
  {
   "cell_type": "markdown",
   "metadata": {},
   "source": [
    "Check all image files exist"
   ]
  },
  {
   "cell_type": "code",
   "execution_count": 16,
   "metadata": {
    "scrolled": true
   },
   "outputs": [
    {
     "name": "stdout",
     "output_type": "stream",
     "text": [
      "20280\n"
     ]
    }
   ],
   "source": [
    "import glob\n",
    "\n",
    "image_list = set()\n",
    "for filepath in glob.glob('./patch_images/*', recursive=True): #assuming gif\n",
    "    filename = filepath.split(\"\\\\\")[-1]\n",
    "    image_list.add(filename)\n",
    "    \n",
    "print(len(image_list))"
   ]
  },
  {
   "cell_type": "markdown",
   "metadata": {},
   "source": [
    "# Train/Validation/Test Split on Patients"
   ]
  },
  {
   "cell_type": "markdown",
   "metadata": {},
   "source": [
    "### Add classification class"
   ]
  },
  {
   "cell_type": "code",
   "execution_count": 17,
   "metadata": {
    "scrolled": true
   },
   "outputs": [],
   "source": [
    "mainData['isCancerous'] = mainData['isCancerous'].astype('str')"
   ]
  },
  {
   "cell_type": "markdown",
   "metadata": {},
   "source": [
    "### Split Data into Train/Validate/Test\n",
    "For test and training data split via person.\n",
    "- Check if a person has cancer or not, then would the images for that person have cancer?"
   ]
  },
  {
   "cell_type": "code",
   "execution_count": 18,
   "metadata": {
    "scrolled": true
   },
   "outputs": [],
   "source": [
    "# Get list of patients and observation counts\n",
    "TEST_RATIO = 0.10\n",
    "VAL_RATIO = 0.15\n"
   ]
  },
  {
   "cell_type": "code",
   "execution_count": 19,
   "metadata": {
    "scrolled": true
   },
   "outputs": [],
   "source": [
    "# Split train tests by ratios\n",
    "# Select random patients until the number of images for \n",
    "# each patient sums to the number of records require\n",
    "\n",
    "np.random.seed(43) # Consistent random list\n",
    "\n",
    "recCount = mainData.shape[0]\n",
    "custRec = mainData.patientID.value_counts().to_dict()\n",
    "    \n",
    "patientIds = list(custRec.keys())\n",
    "\n",
    "# Loop through selecting a patient at random summing the number of images they have\n",
    "# until the count of images crosses is more than required number\n",
    "\n",
    "testCust = []\n",
    "testRecs = 0\n",
    "while (testRecs < (recCount * TEST_RATIO)):\n",
    "    pId = np.random.choice(patientIds)\n",
    "    ic = custRec.get(pId)\n",
    "    patientIds.remove(pId)\n",
    "    testCust.append(pId)\n",
    "    testRecs += ic\n",
    "    \n",
    "#print(testCust, testRecs)\n",
    "\n",
    "valCust = []\n",
    "valRecs = 0\n",
    "while (valRecs < (recCount * VAL_RATIO)):\n",
    "    pId = np.random.choice(patientIds)\n",
    "    ic = custRec.get(pId)\n",
    "    patientIds.remove(pId)\n",
    "    valCust.append(pId)\n",
    "    valRecs += ic\n",
    "\n",
    "#print(valCust, valRecs)"
   ]
  },
  {
   "cell_type": "code",
   "execution_count": 20,
   "metadata": {
    "scrolled": true
   },
   "outputs": [],
   "source": [
    "testData = mainData[mainData.patientID.isin(testCust)]\n",
    "valData = mainData[mainData.patientID.isin(valCust)]\n",
    "trainData = mainData[~(mainData.patientID.isin(valCust + testCust))]"
   ]
  },
  {
   "cell_type": "code",
   "execution_count": 21,
   "metadata": {
    "scrolled": true
   },
   "outputs": [
    {
     "name": "stdout",
     "output_type": "stream",
     "text": [
      "Train data : 1426, Val Data: 341, Test Data: 233\n"
     ]
    }
   ],
   "source": [
    "#print(trainData.shape[0] + valData.shape[0] + testData.shape[0])\n",
    "#print(mainData.shape[0])\n",
    "print(\"Train data : {}, Val Data: {}, Test Data: {}\".format(trainData.shape[0], valData.shape[0], testData.shape[0]))"
   ]
  },
  {
   "cell_type": "code",
   "execution_count": 22,
   "metadata": {
    "scrolled": true
   },
   "outputs": [
    {
     "data": {
      "text/html": [
       "<div>\n",
       "<style scoped>\n",
       "    .dataframe tbody tr th:only-of-type {\n",
       "        vertical-align: middle;\n",
       "    }\n",
       "\n",
       "    .dataframe tbody tr th {\n",
       "        vertical-align: top;\n",
       "    }\n",
       "\n",
       "    .dataframe thead th {\n",
       "        text-align: right;\n",
       "    }\n",
       "</style>\n",
       "<table border=\"1\" class=\"dataframe\">\n",
       "  <thead>\n",
       "    <tr style=\"text-align: right;\">\n",
       "      <th></th>\n",
       "      <th>patientID</th>\n",
       "      <th>ImageName</th>\n",
       "      <th>isCancerous</th>\n",
       "    </tr>\n",
       "  </thead>\n",
       "  <tbody>\n",
       "    <tr>\n",
       "      <th>3629</th>\n",
       "      <td>20</td>\n",
       "      <td>440.png</td>\n",
       "      <td>1</td>\n",
       "    </tr>\n",
       "    <tr>\n",
       "      <th>4667</th>\n",
       "      <td>25</td>\n",
       "      <td>17260.png</td>\n",
       "      <td>0</td>\n",
       "    </tr>\n",
       "    <tr>\n",
       "      <th>1780</th>\n",
       "      <td>10</td>\n",
       "      <td>13527.png</td>\n",
       "      <td>1</td>\n",
       "    </tr>\n",
       "    <tr>\n",
       "      <th>4837</th>\n",
       "      <td>25</td>\n",
       "      <td>17448.png</td>\n",
       "      <td>0</td>\n",
       "    </tr>\n",
       "    <tr>\n",
       "      <th>3156</th>\n",
       "      <td>18</td>\n",
       "      <td>8424.png</td>\n",
       "      <td>1</td>\n",
       "    </tr>\n",
       "  </tbody>\n",
       "</table>\n",
       "</div>"
      ],
      "text/plain": [
       "      patientID  ImageName isCancerous\n",
       "3629         20    440.png           1\n",
       "4667         25  17260.png           0\n",
       "1780         10  13527.png           1\n",
       "4837         25  17448.png           0\n",
       "3156         18   8424.png           1"
      ]
     },
     "execution_count": 22,
     "metadata": {},
     "output_type": "execute_result"
    }
   ],
   "source": [
    "trainData.head()"
   ]
  },
  {
   "cell_type": "code",
   "execution_count": 23,
   "metadata": {
    "scrolled": true
   },
   "outputs": [
    {
     "data": {
      "text/plain": [
       "([0, 1], <a list of 2 Text xticklabel objects>)"
      ]
     },
     "execution_count": 23,
     "metadata": {},
     "output_type": "execute_result"
    },
    {
     "data": {
      "image/png": "[encoded data removed]",
      "text/plain": [
       "<Figure size 432x288 with 1 Axes>"
      ]
     },
     "metadata": {
      "needs_background": "light"
     },
     "output_type": "display_data"
    }
   ],
   "source": [
    "plt.bar(\n",
    "    trainData.isCancerous.value_counts().index.astype(str), \n",
    "    trainData.isCancerous.value_counts().values/np.sum(trainData.isCancerous.value_counts().values), \n",
    "    alpha=0.3, \n",
    "    color='r')\n",
    "plt.bar(\n",
    "    valData.isCancerous.value_counts().index.astype(str), \n",
    "    valData.isCancerous.value_counts().values/np.sum(valData.isCancerous.value_counts().values), \n",
    "    alpha=0.3, \n",
    "    color='b')\n",
    "plt.bar(\n",
    "    testData.isCancerous.value_counts().index.astype(str), \n",
    "    testData.isCancerous.value_counts().values/np.sum(testData.isCancerous.value_counts().values), \n",
    "    alpha=0.3, \n",
    "    color='g')\n",
    "plt.title('isCancerous - Train vs Test')\n",
    "plt.xticks(rotation='vertical')"
   ]
  },
  {
   "cell_type": "markdown",
   "metadata": {},
   "source": [
    "# Images\n",
    "27x27 RGB "
   ]
  },
  {
   "cell_type": "code",
   "execution_count": 24,
   "metadata": {
    "scrolled": true
   },
   "outputs": [
    {
     "name": "stdout",
     "output_type": "stream",
     "text": [
      "Found 1426 validated image filenames belonging to 2 classes.\n",
      "Found 341 validated image filenames belonging to 2 classes.\n",
      "Found 233 validated image filenames belonging to 2 classes.\n"
     ]
    }
   ],
   "source": [
    "from tensorflow.keras.preprocessing.image import ImageDataGenerator\n",
    "\n",
    "train_datagen = ImageDataGenerator(rescale=1./255, data_format='channels_last')\n",
    "val_datagen = ImageDataGenerator(rescale=1./255, data_format='channels_last')\n",
    "\n",
    "batch_size = 32\n",
    "\n",
    "train_generator = train_datagen.flow_from_dataframe(\n",
    "        dataframe=trainData,\n",
    "        directory='./patch_images',\n",
    "        x_col=\"ImageName\",\n",
    "        y_col=\"isCancerous\",\n",
    "        target_size=(27, 27),\n",
    "        batch_size=batch_size,\n",
    "        class_mode='binary')\n",
    "\n",
    "validation_generator = val_datagen.flow_from_dataframe(\n",
    "        dataframe=valData,\n",
    "        directory='patch_images',\n",
    "        x_col=\"ImageName\",\n",
    "        y_col=\"isCancerous\",\n",
    "        target_size=(27, 27),\n",
    "        batch_size=batch_size,\n",
    "        class_mode='binary')\n",
    "\n",
    "test_generator = val_datagen.flow_from_dataframe(\n",
    "        dataframe=testData,\n",
    "        directory='patch_images',\n",
    "        x_col=\"ImageName\",\n",
    "        y_col=\"isCancerous\",\n",
    "        target_size=(27, 27),\n",
    "        batch_size=batch_size,\n",
    "        class_mode='binary')"
   ]
  },
  {
   "cell_type": "markdown",
   "metadata": {},
   "source": [
    "### Utility Functions"
   ]
  },
  {
   "cell_type": "code",
   "execution_count": 25,
   "metadata": {},
   "outputs": [],
   "source": [
    "import seaborn as sn\n",
    "import matplotlib.pyplot as plt\n",
    "from sklearn.metrics import confusion_matrix\n",
    "from sklearn.metrics import classification_report\n"
   ]
  },
  {
   "cell_type": "code",
   "execution_count": 26,
   "metadata": {
    "scrolled": true
   },
   "outputs": [],
   "source": [
    "def PlotModelFitHistory(mh):\n",
    "    plt.figure(figsize=(10,5))\n",
    "    plt.subplot(1,2,1)\n",
    "    plt.plot(mh.history['loss'], 'r--')\n",
    "    plt.plot(mh.history['val_loss'], 'b--')\n",
    "    plt.xlabel(\"epochs\")\n",
    "    plt.ylabel(\"Loss\")\n",
    "    plt.legend(['train', 'val'], loc='upper left')\n",
    "\n",
    "    plt.subplot(1,2,2)\n",
    "    plt.plot(mh.history['binary_accuracy'], 'r--')\n",
    "    plt.plot(mh.history['val_binary_accuracy'], 'b--')\n",
    "    plt.xlabel(\"epochs\")\n",
    "    plt.ylabel(\"Accuracy\")\n",
    "    plt.legend(['train', 'val'], loc='upper left')\n",
    "\n",
    "    plt.show()\n"
   ]
  },
  {
   "cell_type": "code",
   "execution_count": 27,
   "metadata": {
    "scrolled": true
   },
   "outputs": [],
   "source": [
    "def PlotConfusionMatrix(test, pred):\n",
    "    cm = confusion_matrix(test, test)\n",
    "    group_names = ['True Neg','False Pos','False Neg','True Pos']\n",
    "    group_counts = [\"{0:0.0f}\".format(value) for value in cm.flatten()]\n",
    "    group_percentages = [\"{0:.2%}\".format(value) for value in cm.flatten()/np.sum(cm)]\n",
    "    labels = [f\"{v1}\\n{v2}\\n{v3}\" for v1, v2, v3 in zip(group_names, group_counts, group_percentages)]\n",
    "    labels = np.asarray(labels).reshape(2,2)\n",
    "    sn.heatmap(cm, annot=labels, fmt='', cmap='Blues')"
   ]
  },
  {
   "cell_type": "markdown",
   "metadata": {},
   "source": [
    "# Models"
   ]
  },
  {
   "cell_type": "markdown",
   "metadata": {},
   "source": [
    "### Measure \n",
    "As this is a screening task, the impact of a false negative is high (ie someone who has cancer is missed)\n",
    "In this case use Recall for measure.\n",
    "We can also use F1 to get a more balanced measure of Precision and Recall"
   ]
  },
  {
   "cell_type": "code",
   "execution_count": 28,
   "metadata": {
    "scrolled": true
   },
   "outputs": [],
   "source": [
    "INPUT_DIM = (27,27,3)\n",
    "HIDDEN_LAYER_DIM = 256\n",
    "OUTPUT_CLASSES = 1"
   ]
  },
  {
   "cell_type": "markdown",
   "metadata": {},
   "source": [
    "## 1. Baseline an simple MLP Model\n",
    "Observations\n",
    "* Use a initial NN to get a baseline\n",
    "* Binary classification problem\n",
    "* Input has 2187 dims\n",
    "* 1 hidden layer with 256 internal nodes\n",
    "* 1 output binary\n",
    "* Loss - Binary Cross Entropy\n",
    "* Metric - binary_accuracy \n",
    "* use sigmoid activation as this is a logistics issue\n",
    "\n"
   ]
  },
  {
   "cell_type": "code",
   "execution_count": 29,
   "metadata": {
    "scrolled": true
   },
   "outputs": [],
   "source": [
    "import tensorflow as tf\n",
    "\n",
    "model_base = tf.keras.Sequential([\n",
    "    tf.keras.layers.Flatten(input_shape=INPUT_DIM),\n",
    "    tf.keras.layers.Dense(HIDDEN_LAYER_DIM, activation='sigmoid'),\n",
    "    tf.keras.layers.Dense(OUTPUT_CLASSES,activation='sigmoid')\n",
    "])"
   ]
  },
  {
   "cell_type": "code",
   "execution_count": 30,
   "metadata": {
    "scrolled": true
   },
   "outputs": [
    {
     "name": "stdout",
     "output_type": "stream",
     "text": [
      "Model: \"sequential\"\n",
      "_________________________________________________________________\n",
      "Layer (type)                 Output Shape              Param #   \n",
      "=================================================================\n",
      "flatten (Flatten)            (None, 2187)              0         \n",
      "_________________________________________________________________\n",
      "dense (Dense)                (None, 256)               560128    \n",
      "_________________________________________________________________\n",
      "dense_1 (Dense)              (None, 1)                 257       \n",
      "=================================================================\n",
      "Total params: 560,385\n",
      "Trainable params: 560,385\n",
      "Non-trainable params: 0\n",
      "_________________________________________________________________\n"
     ]
    }
   ],
   "source": [
    "model_base.summary()"
   ]
  },
  {
   "cell_type": "code",
   "execution_count": 31,
   "metadata": {
    "scrolled": true
   },
   "outputs": [],
   "source": [
    "model_base.compile(optimizer='SGD',\n",
    "              loss=tf.keras.losses.BinaryCrossentropy(from_logits=False),\n",
    "              metrics=['binary_accuracy'])"
   ]
  },
  {
   "cell_type": "code",
   "execution_count": 32,
   "metadata": {
    "scrolled": true
   },
   "outputs": [
    {
     "name": "stdout",
     "output_type": "stream",
     "text": [
      "15:38:36\n",
      "15:40:25\n",
      "Took =  0:01:49.032962\n"
     ]
    }
   ],
   "source": [
    "print(datetime.datetime.now().strftime(\"%H:%M:%S\"))\n",
    "now = datetime.datetime.now()\n",
    "\n",
    "history_base = model_base.fit(train_generator, validation_data = validation_generator, epochs=150, verbose=0)\n",
    "\n",
    "print(datetime.datetime.now().strftime(\"%H:%M:%S\"))\n",
    "print(\"Took = \", datetime.datetime.now() - now)"
   ]
  },
  {
   "cell_type": "code",
   "execution_count": 33,
   "metadata": {
    "scrolled": false
   },
   "outputs": [
    {
     "data": {
      "image/png": "[encoded data removed]",
      "text/plain": [
       "<Figure size 720x360 with 2 Axes>"
      ]
     },
     "metadata": {
      "needs_background": "light"
     },
     "output_type": "display_data"
    }
   ],
   "source": [
    "PlotModelFitHistory(history_base)\n"
   ]
  },
  {
   "cell_type": "code",
   "execution_count": 34,
   "metadata": {
    "scrolled": true
   },
   "outputs": [
    {
     "name": "stdout",
     "output_type": "stream",
     "text": [
      "8/8 [==============================] - 0s 14ms/step\n"
     ]
    }
   ],
   "source": [
    "test_y = testData['isCancerous'].astype('int')\n",
    "\n",
    "pred_y_base = model_base.predict(test_generator, batch_size=64, verbose=1)\n",
    "pred_y_base = np.argmax(pred_y_base, axis=1)\n"
   ]
  },
  {
   "cell_type": "code",
   "execution_count": 35,
   "metadata": {},
   "outputs": [
    {
     "name": "stdout",
     "output_type": "stream",
     "text": [
      "              precision    recall  f1-score   support\n",
      "\n",
      "           0       0.78      1.00      0.88       182\n",
      "           1       0.00      0.00      0.00        51\n",
      "\n",
      "    accuracy                           0.78       233\n",
      "   macro avg       0.39      0.50      0.44       233\n",
      "weighted avg       0.61      0.78      0.69       233\n",
      "\n"
     ]
    }
   ],
   "source": [
    "print(classification_report(test_y, pred_y_base, zero_division=0))"
   ]
  },
  {
   "cell_type": "code",
   "execution_count": 36,
   "metadata": {},
   "outputs": [
    {
     "data": {
      "image/png": "[encoded data removed]",
      "text/plain": [
       "<Figure size 432x288 with 2 Axes>"
      ]
     },
     "metadata": {
      "needs_background": "light"
     },
     "output_type": "display_data"
    }
   ],
   "source": [
    "PlotConfusionMatrix(test_y, pred_y_base)"
   ]
  },
  {
   "cell_type": "markdown",
   "metadata": {},
   "source": [
    "### Observation\n",
    "* Train vs Validation approaches at 150 epocs\n",
    "* There looks to be some overfitting\n",
    "* Recall is good (?) maybe too good \n",
    "* Precision low low at 0.40\n",
    "* F1 score low at 0.64"
   ]
  },
  {
   "cell_type": "markdown",
   "metadata": {},
   "source": [
    "### Try some regularisation"
   ]
  },
  {
   "cell_type": "code",
   "execution_count": 37,
   "metadata": {
    "scrolled": true
   },
   "outputs": [],
   "source": [
    "# Use default lambda - note for assignment only. In real this might be in loop to determine best value.\n",
    "reg_lambda = 0.01\n",
    "\n",
    "model_reg = tf.keras.Sequential([\n",
    "    tf.keras.layers.Flatten(input_shape=INPUT_DIM),\n",
    "    tf.keras.layers.Dense(HIDDEN_LAYER_DIM, activation='sigmoid', kernel_regularizer=tf.keras.regularizers.l2(reg_lambda)),\n",
    "    tf.keras.layers.Dense(OUTPUT_CLASSES, activation='sigmoid', kernel_regularizer=tf.keras.regularizers.l2(reg_lambda))\n",
    "])"
   ]
  },
  {
   "cell_type": "code",
   "execution_count": 38,
   "metadata": {
    "scrolled": true
   },
   "outputs": [],
   "source": [
    "model_reg.compile(optimizer='sgd',\n",
    "              loss=tf.keras.losses.BinaryCrossentropy(from_logits=False),\n",
    "              metrics=['binary_accuracy'])"
   ]
  },
  {
   "cell_type": "code",
   "execution_count": 39,
   "metadata": {
    "scrolled": true
   },
   "outputs": [
    {
     "name": "stdout",
     "output_type": "stream",
     "text": [
      "Model: \"sequential_1\"\n",
      "_________________________________________________________________\n",
      "Layer (type)                 Output Shape              Param #   \n",
      "=================================================================\n",
      "flatten_1 (Flatten)          (None, 2187)              0         \n",
      "_________________________________________________________________\n",
      "dense_2 (Dense)              (None, 256)               560128    \n",
      "_________________________________________________________________\n",
      "dense_3 (Dense)              (None, 1)                 257       \n",
      "=================================================================\n",
      "Total params: 560,385\n",
      "Trainable params: 560,385\n",
      "Non-trainable params: 0\n",
      "_________________________________________________________________\n"
     ]
    }
   ],
   "source": [
    "model_reg.summary()"
   ]
  },
  {
   "cell_type": "code",
   "execution_count": 40,
   "metadata": {
    "scrolled": true
   },
   "outputs": [
    {
     "name": "stdout",
     "output_type": "stream",
     "text": [
      "15:40:25\n",
      "15:41:41\n",
      "Took =  0:01:15.776101\n"
     ]
    }
   ],
   "source": [
    "print(datetime.datetime.now().strftime(\"%H:%M:%S\"))\n",
    "now = datetime.datetime.now()\n",
    "\n",
    "history_reg = model_reg.fit(train_generator, validation_data = validation_generator, epochs=100, verbose=0)\n",
    "\n",
    "print(datetime.datetime.now().strftime(\"%H:%M:%S\"))\n",
    "print(\"Took = \", datetime.datetime.now() - now)\n"
   ]
  },
  {
   "cell_type": "code",
   "execution_count": 41,
   "metadata": {
    "scrolled": true
   },
   "outputs": [
    {
     "data": {
      "image/png": "[encoded data removed]",
      "text/plain": [
       "<Figure size 720x360 with 2 Axes>"
      ]
     },
     "metadata": {
      "needs_background": "light"
     },
     "output_type": "display_data"
    }
   ],
   "source": [
    "PlotModelFitHistory(history_reg)\n"
   ]
  },
  {
   "cell_type": "code",
   "execution_count": 42,
   "metadata": {
    "scrolled": true
   },
   "outputs": [
    {
     "name": "stdout",
     "output_type": "stream",
     "text": [
      "8/8 [==============================] - 0s 11ms/step\n"
     ]
    }
   ],
   "source": [
    "pred_y_reg = model_reg.predict(test_generator, batch_size=64, verbose=1)\n",
    "pred_y_reg = np.argmax(pred_y_reg, axis=1)"
   ]
  },
  {
   "cell_type": "code",
   "execution_count": 43,
   "metadata": {},
   "outputs": [
    {
     "name": "stdout",
     "output_type": "stream",
     "text": [
      "              precision    recall  f1-score   support\n",
      "\n",
      "           0       0.78      1.00      0.88       182\n",
      "           1       0.00      0.00      0.00        51\n",
      "\n",
      "    accuracy                           0.78       233\n",
      "   macro avg       0.39      0.50      0.44       233\n",
      "weighted avg       0.61      0.78      0.69       233\n",
      "\n"
     ]
    }
   ],
   "source": [
    "print(classification_report(test_y, pred_y_reg, zero_division=0))"
   ]
  },
  {
   "cell_type": "code",
   "execution_count": 44,
   "metadata": {},
   "outputs": [
    {
     "data": {
      "image/png": "[encoded data removed]",
      "text/plain": [
       "<Figure size 432x288 with 2 Axes>"
      ]
     },
     "metadata": {
      "needs_background": "light"
     },
     "output_type": "display_data"
    }
   ],
   "source": [
    "PlotConfusionMatrix(test_y, pred_y_reg)"
   ]
  },
  {
   "cell_type": "markdown",
   "metadata": {},
   "source": [
    "### Try some dropout"
   ]
  },
  {
   "cell_type": "code",
   "execution_count": 45,
   "metadata": {
    "scrolled": true
   },
   "outputs": [],
   "source": [
    "reg_lambda = 0.01\n",
    "\n",
    "model_drop = tf.keras.Sequential([\n",
    "    tf.keras.layers.Flatten(input_shape=INPUT_DIM),\n",
    "    tf.keras.layers.Dense(HIDDEN_LAYER_DIM, activation='sigmoid'),\n",
    "    tf.keras.layers.Dropout(.3),\n",
    "    tf.keras.layers.Dense(OUTPUT_CLASSES, activation='sigmoid')\n",
    "])"
   ]
  },
  {
   "cell_type": "code",
   "execution_count": 46,
   "metadata": {
    "scrolled": true
   },
   "outputs": [],
   "source": [
    "model_drop.compile(optimizer='sgd',\n",
    "              loss=tf.keras.losses.BinaryCrossentropy(from_logits=False),\n",
    "              metrics=['binary_accuracy'])"
   ]
  },
  {
   "cell_type": "code",
   "execution_count": 47,
   "metadata": {
    "scrolled": true
   },
   "outputs": [
    {
     "name": "stdout",
     "output_type": "stream",
     "text": [
      "Model: \"sequential_2\"\n",
      "_________________________________________________________________\n",
      "Layer (type)                 Output Shape              Param #   \n",
      "=================================================================\n",
      "flatten_2 (Flatten)          (None, 2187)              0         \n",
      "_________________________________________________________________\n",
      "dense_4 (Dense)              (None, 256)               560128    \n",
      "_________________________________________________________________\n",
      "dropout (Dropout)            (None, 256)               0         \n",
      "_________________________________________________________________\n",
      "dense_5 (Dense)              (None, 1)                 257       \n",
      "=================================================================\n",
      "Total params: 560,385\n",
      "Trainable params: 560,385\n",
      "Non-trainable params: 0\n",
      "_________________________________________________________________\n"
     ]
    }
   ],
   "source": [
    "model_drop.summary()"
   ]
  },
  {
   "cell_type": "code",
   "execution_count": 48,
   "metadata": {
    "scrolled": true
   },
   "outputs": [
    {
     "name": "stdout",
     "output_type": "stream",
     "text": [
      "15:41:42\n",
      "15:43:28\n",
      "Took =  0:01:45.604316\n"
     ]
    }
   ],
   "source": [
    "print(datetime.datetime.now().strftime(\"%H:%M:%S\"))\n",
    "now = datetime.datetime.now()\n",
    "\n",
    "history_drop = model_drop.fit(train_generator, validation_data = validation_generator, epochs=150, verbose=0)\n",
    "\n",
    "print(datetime.datetime.now().strftime(\"%H:%M:%S\"))\n",
    "print(\"Took = \", datetime.datetime.now() - now)"
   ]
  },
  {
   "cell_type": "code",
   "execution_count": 49,
   "metadata": {
    "scrolled": true
   },
   "outputs": [
    {
     "data": {
      "image/png": "[encoded data removed]",
      "text/plain": [
       "<Figure size 720x360 with 2 Axes>"
      ]
     },
     "metadata": {
      "needs_background": "light"
     },
     "output_type": "display_data"
    }
   ],
   "source": [
    "PlotModelFitHistory(history_drop)"
   ]
  },
  {
   "cell_type": "markdown",
   "metadata": {},
   "source": [
    "Also improves but test data looks to be better than training"
   ]
  },
  {
   "cell_type": "code",
   "execution_count": 50,
   "metadata": {
    "scrolled": true
   },
   "outputs": [
    {
     "name": "stdout",
     "output_type": "stream",
     "text": [
      "8/8 [==============================] - 0s 12ms/step\n"
     ]
    }
   ],
   "source": [
    "pred_y_drop = model_drop.predict(test_generator, batch_size=64, verbose=1)\n",
    "pred_y_drop = np.argmax(pred_y_drop, axis=1)"
   ]
  },
  {
   "cell_type": "code",
   "execution_count": 51,
   "metadata": {},
   "outputs": [
    {
     "name": "stdout",
     "output_type": "stream",
     "text": [
      "              precision    recall  f1-score   support\n",
      "\n",
      "           0       0.78      1.00      0.88       182\n",
      "           1       0.00      0.00      0.00        51\n",
      "\n",
      "    accuracy                           0.78       233\n",
      "   macro avg       0.39      0.50      0.44       233\n",
      "weighted avg       0.61      0.78      0.69       233\n",
      "\n"
     ]
    },
    {
     "name": "stderr",
     "output_type": "stream",
     "text": [
      "C:\\bin\\Anaconda3\\lib\\site-packages\\sklearn\\metrics\\_classification.py:1272: UndefinedMetricWarning: Precision and F-score are ill-defined and being set to 0.0 in labels with no predicted samples. Use `zero_division` parameter to control this behavior.\n",
      "  _warn_prf(average, modifier, msg_start, len(result))\n"
     ]
    }
   ],
   "source": [
    "print(classification_report(test_y, pred_y_drop))"
   ]
  },
  {
   "cell_type": "code",
   "execution_count": 52,
   "metadata": {},
   "outputs": [
    {
     "data": {
      "image/png": "[encoded data removed]",
      "text/plain": [
       "<Figure size 432x288 with 2 Axes>"
      ]
     },
     "metadata": {
      "needs_background": "light"
     },
     "output_type": "display_data"
    }
   ],
   "source": [
    "PlotConfusionMatrix(test_y, pred_y_drop)"
   ]
  },
  {
   "cell_type": "markdown",
   "metadata": {},
   "source": [
    "## 2. Baseline Plus VGG"
   ]
  },
  {
   "cell_type": "code",
   "execution_count": 53,
   "metadata": {
    "scrolled": true
   },
   "outputs": [],
   "source": [
    "model_VGG_1 = tf.keras.Sequential([\n",
    "    #VGG block 1\n",
    "    tf.keras.layers.Conv2D(32, (3, 3), activation='relu', padding='same', input_shape=INPUT_DIM),\n",
    "    tf.keras.layers.Conv2D(32, (3, 3), activation='relu', padding='same'),\n",
    "    tf.keras.layers.MaxPooling2D((2, 2)),\n",
    "    \n",
    "    #VGG block 2\n",
    "    tf.keras.layers.Conv2D(64, (3, 3), activation='relu', padding='same'),\n",
    "    tf.keras.layers.Conv2D(64, (3, 3), activation='relu', padding='same'),\n",
    "    tf.keras.layers.MaxPooling2D((2, 2)),\n",
    "    \n",
    "    #VGG block 3\n",
    "    tf.keras.layers.Conv2D(128, (3, 3), activation='relu', padding='same'),\n",
    "    tf.keras.layers.Conv2D(128, (3, 3), activation='relu', padding='same'),\n",
    "    tf.keras.layers.MaxPooling2D((2, 2)),\n",
    "    \n",
    "    tf.keras.layers.Flatten(),\n",
    "    \n",
    "    tf.keras.layers.Dense(128, activation='sigmoid', kernel_regularizer=tf.keras.regularizers.l2(reg_lambda)),\n",
    "    tf.keras.layers.Dense(\n",
    "        OUTPUT_CLASSES, \n",
    "        kernel_regularizer=tf.keras.regularizers.l2(reg_lambda),\n",
    "        activation='sigmoid' )\n",
    "])"
   ]
  },
  {
   "cell_type": "code",
   "execution_count": 54,
   "metadata": {
    "scrolled": true
   },
   "outputs": [],
   "source": [
    "model_VGG_1.compile(optimizer='sgd',\n",
    "              loss=tf.keras.losses.BinaryCrossentropy(from_logits=False),\n",
    "              metrics=['binary_accuracy'])"
   ]
  },
  {
   "cell_type": "code",
   "execution_count": 55,
   "metadata": {
    "scrolled": true
   },
   "outputs": [
    {
     "name": "stdout",
     "output_type": "stream",
     "text": [
      "Model: \"sequential_3\"\n",
      "_________________________________________________________________\n",
      "Layer (type)                 Output Shape              Param #   \n",
      "=================================================================\n",
      "conv2d (Conv2D)              (None, 27, 27, 32)        896       \n",
      "_________________________________________________________________\n",
      "conv2d_1 (Conv2D)            (None, 27, 27, 32)        9248      \n",
      "_________________________________________________________________\n",
      "max_pooling2d (MaxPooling2D) (None, 13, 13, 32)        0         \n",
      "_________________________________________________________________\n",
      "conv2d_2 (Conv2D)            (None, 13, 13, 64)        18496     \n",
      "_________________________________________________________________\n",
      "conv2d_3 (Conv2D)            (None, 13, 13, 64)        36928     \n",
      "_________________________________________________________________\n",
      "max_pooling2d_1 (MaxPooling2 (None, 6, 6, 64)          0         \n",
      "_________________________________________________________________\n",
      "conv2d_4 (Conv2D)            (None, 6, 6, 128)         73856     \n",
      "_________________________________________________________________\n",
      "conv2d_5 (Conv2D)            (None, 6, 6, 128)         147584    \n",
      "_________________________________________________________________\n",
      "max_pooling2d_2 (MaxPooling2 (None, 3, 3, 128)         0         \n",
      "_________________________________________________________________\n",
      "flatten_3 (Flatten)          (None, 1152)              0         \n",
      "_________________________________________________________________\n",
      "dense_6 (Dense)              (None, 128)               147584    \n",
      "_________________________________________________________________\n",
      "dense_7 (Dense)              (None, 1)                 129       \n",
      "=================================================================\n",
      "Total params: 434,721\n",
      "Trainable params: 434,721\n",
      "Non-trainable params: 0\n",
      "_________________________________________________________________\n"
     ]
    }
   ],
   "source": [
    "model_VGG_1.summary()"
   ]
  },
  {
   "cell_type": "code",
   "execution_count": 56,
   "metadata": {
    "scrolled": true
   },
   "outputs": [
    {
     "name": "stdout",
     "output_type": "stream",
     "text": [
      "15:43:29\n",
      "15:49:07\n",
      "Took =  0:05:38.274955\n"
     ]
    }
   ],
   "source": [
    "print(datetime.datetime.now().strftime(\"%H:%M:%S\"))\n",
    "now = datetime.datetime.now()\n",
    "\n",
    "history_VGG_1 = model_VGG_1.fit(train_generator, validation_data = validation_generator, epochs=100, verbose=0)\n",
    "\n",
    "print(datetime.datetime.now().strftime(\"%H:%M:%S\"))\n",
    "print(\"Took = \", datetime.datetime.now() - now)"
   ]
  },
  {
   "cell_type": "code",
   "execution_count": 57,
   "metadata": {
    "scrolled": true
   },
   "outputs": [
    {
     "data": {
      "image/png": "[encoded data removed]",
      "text/plain": [
       "<Figure size 720x360 with 2 Axes>"
      ]
     },
     "metadata": {
      "needs_background": "light"
     },
     "output_type": "display_data"
    }
   ],
   "source": [
    "PlotModelFitHistory(history_VGG_1)"
   ]
  },
  {
   "cell_type": "code",
   "execution_count": 58,
   "metadata": {
    "scrolled": true
   },
   "outputs": [
    {
     "name": "stdout",
     "output_type": "stream",
     "text": [
      "8/8 [==============================] - 0s 20ms/step\n"
     ]
    }
   ],
   "source": [
    "pred_y_vgg1 = model_VGG_1.predict(test_generator, batch_size=64, verbose=1)\n",
    "pred_y_vgg1 = np.argmax(pred_y_vgg1, axis=1)"
   ]
  },
  {
   "cell_type": "code",
   "execution_count": 59,
   "metadata": {},
   "outputs": [
    {
     "name": "stdout",
     "output_type": "stream",
     "text": [
      "              precision    recall  f1-score   support\n",
      "\n",
      "           0       0.78      1.00      0.88       182\n",
      "           1       0.00      0.00      0.00        51\n",
      "\n",
      "    accuracy                           0.78       233\n",
      "   macro avg       0.39      0.50      0.44       233\n",
      "weighted avg       0.61      0.78      0.69       233\n",
      "\n"
     ]
    }
   ],
   "source": [
    "print(classification_report(test_y, pred_y_vgg1, zero_division=0))"
   ]
  },
  {
   "cell_type": "code",
   "execution_count": 60,
   "metadata": {},
   "outputs": [
    {
     "data": {
      "image/png": "[encoded data removed]",
      "text/plain": [
       "<Figure size 432x288 with 2 Axes>"
      ]
     },
     "metadata": {
      "needs_background": "light"
     },
     "output_type": "display_data"
    }
   ],
   "source": [
    "PlotConfusionMatrix(test_y, pred_y_vgg1)"
   ]
  },
  {
   "cell_type": "markdown",
   "metadata": {},
   "source": [
    "## VGG 2\n",
    "Observations\n",
    "\n",
    "Issue is over fitting \n",
    "* We have 20k images so that should be ok for training\n",
    "* image size is small so down scaling is not too beneficial\n",
    "* after 40 epics so could stop early \n",
    "* over fitting so reduce the number of convolutions\n",
    "* Given number of images, data augmentation probably not required\n"
   ]
  },
  {
   "cell_type": "code",
   "execution_count": 61,
   "metadata": {
    "scrolled": true
   },
   "outputs": [],
   "source": [
    "model_VGG_2 = tf.keras.Sequential([\n",
    "    #VGG block 1\n",
    "    tf.keras.layers.Conv2D(32, (3, 3), activation='relu', padding='same', input_shape=INPUT_DIM),\n",
    "    tf.keras.layers.Conv2D(32, (3, 3), activation='relu', padding='same'),\n",
    "    tf.keras.layers.MaxPooling2D((2, 2)),\n",
    "    \n",
    "    #VGG block 2\n",
    "    tf.keras.layers.Conv2D(64, (3, 3), activation='relu', padding='same'),\n",
    "    tf.keras.layers.Conv2D(64, (3, 3), activation='relu', padding='same'),\n",
    "    tf.keras.layers.MaxPooling2D((2, 2)),\n",
    "    \n",
    "    tf.keras.layers.Flatten(),\n",
    "    \n",
    "    tf.keras.layers.Dense(128, activation='sigmoid', kernel_regularizer=tf.keras.regularizers.l2(reg_lambda)),\n",
    "    tf.keras.layers.Dropout(.2),\n",
    "    tf.keras.layers.Dense(\n",
    "        OUTPUT_CLASSES, \n",
    "        kernel_regularizer=tf.keras.regularizers.l2(reg_lambda),\n",
    "        activation='sigmoid' )\n",
    "])"
   ]
  },
  {
   "cell_type": "code",
   "execution_count": 62,
   "metadata": {
    "scrolled": true
   },
   "outputs": [],
   "source": [
    "model_VGG_2.compile(optimizer='sgd',\n",
    "              loss=tf.keras.losses.BinaryCrossentropy(from_logits=False),\n",
    "              metrics=['binary_accuracy'])"
   ]
  },
  {
   "cell_type": "code",
   "execution_count": 63,
   "metadata": {
    "scrolled": true
   },
   "outputs": [
    {
     "name": "stdout",
     "output_type": "stream",
     "text": [
      "Model: \"sequential_4\"\n",
      "_________________________________________________________________\n",
      "Layer (type)                 Output Shape              Param #   \n",
      "=================================================================\n",
      "conv2d_6 (Conv2D)            (None, 27, 27, 32)        896       \n",
      "_________________________________________________________________\n",
      "conv2d_7 (Conv2D)            (None, 27, 27, 32)        9248      \n",
      "_________________________________________________________________\n",
      "max_pooling2d_3 (MaxPooling2 (None, 13, 13, 32)        0         \n",
      "_________________________________________________________________\n",
      "conv2d_8 (Conv2D)            (None, 13, 13, 64)        18496     \n",
      "_________________________________________________________________\n",
      "conv2d_9 (Conv2D)            (None, 13, 13, 64)        36928     \n",
      "_________________________________________________________________\n",
      "max_pooling2d_4 (MaxPooling2 (None, 6, 6, 64)          0         \n",
      "_________________________________________________________________\n",
      "flatten_4 (Flatten)          (None, 2304)              0         \n",
      "_________________________________________________________________\n",
      "dense_8 (Dense)              (None, 128)               295040    \n",
      "_________________________________________________________________\n",
      "dropout_1 (Dropout)          (None, 128)               0         \n",
      "_________________________________________________________________\n",
      "dense_9 (Dense)              (None, 1)                 129       \n",
      "=================================================================\n",
      "Total params: 360,737\n",
      "Trainable params: 360,737\n",
      "Non-trainable params: 0\n",
      "_________________________________________________________________\n"
     ]
    }
   ],
   "source": [
    "model_VGG_2.summary()"
   ]
  },
  {
   "cell_type": "code",
   "execution_count": 64,
   "metadata": {
    "scrolled": true
   },
   "outputs": [
    {
     "name": "stdout",
     "output_type": "stream",
     "text": [
      "15:49:08\n",
      "15:51:29\n",
      "Took =  0:02:21.159487\n"
     ]
    }
   ],
   "source": [
    "print(datetime.datetime.now().strftime(\"%H:%M:%S\"))\n",
    "now = datetime.datetime.now()\n",
    "\n",
    "history_VGG_2 = model_VGG_2.fit(train_generator, validation_data = validation_generator, epochs=100, verbose=0)\n",
    "\n",
    "print(datetime.datetime.now().strftime(\"%H:%M:%S\"))\n",
    "print(\"Took = \", datetime.datetime.now() - now)"
   ]
  },
  {
   "cell_type": "code",
   "execution_count": 65,
   "metadata": {
    "scrolled": true
   },
   "outputs": [
    {
     "data": {
      "image/png": "[encoded data removed]",
      "text/plain": [
       "<Figure size 720x360 with 2 Axes>"
      ]
     },
     "metadata": {
      "needs_background": "light"
     },
     "output_type": "display_data"
    }
   ],
   "source": [
    "PlotModelFitHistory(history_VGG_2)"
   ]
  },
  {
   "cell_type": "code",
   "execution_count": 66,
   "metadata": {
    "scrolled": true
   },
   "outputs": [
    {
     "name": "stdout",
     "output_type": "stream",
     "text": [
      "8/8 [==============================] - 0s 15ms/step\n"
     ]
    }
   ],
   "source": [
    "pred_y_vgg2 = model_VGG_2.predict(test_generator, batch_size=64, verbose=1)\n",
    "pred_y_vgg2 = np.argmax(pred_y_vgg2, axis=1)"
   ]
  },
  {
   "cell_type": "code",
   "execution_count": 67,
   "metadata": {
    "scrolled": true
   },
   "outputs": [
    {
     "name": "stdout",
     "output_type": "stream",
     "text": [
      "              precision    recall  f1-score   support\n",
      "\n",
      "           0       0.78      1.00      0.88       182\n",
      "           1       0.00      0.00      0.00        51\n",
      "\n",
      "    accuracy                           0.78       233\n",
      "   macro avg       0.39      0.50      0.44       233\n",
      "weighted avg       0.61      0.78      0.69       233\n",
      "\n"
     ]
    }
   ],
   "source": [
    "print(classification_report(test_y, pred_y_vgg2, zero_division=0))"
   ]
  },
  {
   "cell_type": "code",
   "execution_count": 68,
   "metadata": {
    "scrolled": true
   },
   "outputs": [
    {
     "data": {
      "image/png": "[encoded data removed]",
      "text/plain": [
       "<Figure size 432x288 with 2 Axes>"
      ]
     },
     "metadata": {
      "needs_background": "light"
     },
     "output_type": "display_data"
    }
   ],
   "source": [
    "PlotConfusionMatrix(test_y, pred_y_vgg2)"
   ]
  },
  {
   "cell_type": "markdown",
   "metadata": {},
   "source": [
    "# Model comparison and ultimate judgment"
   ]
  },
  {
   "cell_type": "markdown",
   "metadata": {},
   "source": [
    "The base MLP model show overfitting\n",
    "Using Regularistion resulted in a better model\n",
    "Applying dropout also reduced overfitting but not the the same extent as regularisation \n",
    "\n",
    "Using the base VGG achitecture resulted in a small amount of overfitting\n",
    "As the size of the inputs are quite low reducing the number of convolutions and adding some regulariation in the final MLP \n",
    "latyer might create a better model. \n",
    "\n",
    "All base models showed good results with 100% recall\n",
    "Given the training time and simplicity the MLP with regularisation would be the best model"
   ]
  },
  {
   "cell_type": "code",
   "execution_count": null,
   "metadata": {},
   "outputs": [],
   "source": []
  }
 ],
 "metadata": {
  "kernelspec": {
   "display_name": "Python 3",
   "language": "python",
   "name": "python3"
  },
  "language_info": {
   "codemirror_mode": {
    "name": "ipython",
    "version": 3
   },
   "file_extension": ".py",
   "mimetype": "text/x-python",
   "name": "python",
   "nbconvert_exporter": "python",
   "pygments_lexer": "ipython3",
   "version": "3.7.7"
  }
 },
 "nbformat": 4,
 "nbformat_minor": 4
}
