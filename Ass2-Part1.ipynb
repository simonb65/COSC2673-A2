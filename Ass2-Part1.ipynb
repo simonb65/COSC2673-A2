{
 "cells": [
  {
   "cell_type": "markdown",
   "metadata": {},
   "source": [
    "---\n",
    "# <div align=\"center\"><font color='green'>  </font></div>\n",
    "# <div align=\"center\"><font color='green'> COSC 2673 | Machine Learning  </font></div>\n",
    "## <div align=\"center\"> <font color='green'> Assignment  02, 2021 Semester 1 </font></div>\n",
    "## <div align=\"center\"> <font color='green'> Part 1 - Cancer Detection in images </font></div>\n",
    "## <div align=\"center\"> <font color='green'> Author: Simon Bateman (S8401236), Saneyar Tajjdeen Khazin (S3798420) </font></div>\n",
    "---"
   ]
  },
  {
   "cell_type": "code",
   "execution_count": 1,
   "metadata": {
    "scrolled": true
   },
   "outputs": [],
   "source": [
    "#!pip install tensorflow"
   ]
  },
  {
   "cell_type": "code",
   "execution_count": 2,
   "metadata": {
    "scrolled": true
   },
   "outputs": [],
   "source": [
    "#import zipfile\n",
    "#with zipfile.ZipFile('./Image_classification_data.zip', 'r') as zip_ref:\n",
    "#   zip_ref.extractall('./')"
   ]
  },
  {
   "cell_type": "code",
   "execution_count": 3,
   "metadata": {
    "scrolled": true
   },
   "outputs": [],
   "source": [
    "#!pwd"
   ]
  },
  {
   "cell_type": "code",
   "execution_count": 4,
   "metadata": {
    "scrolled": true
   },
   "outputs": [
    {
     "data": {
      "text/plain": [
       "'2.5.0'"
      ]
     },
     "execution_count": 4,
     "metadata": {},
     "output_type": "execute_result"
    }
   ],
   "source": [
    "import tensorflow as tf\n",
    "from tensorflow.keras.callbacks import EarlyStopping\n",
    "\n",
    "import IPython.display as display\n",
    "from PIL import Image\n",
    "import pandas as pd\n",
    "import numpy as np\n",
    "import matplotlib.pyplot as plt\n",
    "import os\n",
    "import datetime\n",
    "\n",
    "from sklearn.metrics import classification_report\n",
    "from sklearn.metrics import confusion_matrix, accuracy_score, f1_score, precision_recall_fscore_support\n",
    "\n",
    "tf.__version__\n"
   ]
  },
  {
   "cell_type": "markdown",
   "metadata": {},
   "source": [
    "# Read Data\n",
    "Split data into train, validation, and test\n",
    "Note that images for the same patient may contain a mix of cancerous and non-cancerous data.\n",
    "Q - Sould we split on patient or just randomly\n",
    "\n"
   ]
  },
  {
   "cell_type": "code",
   "execution_count": 5,
   "metadata": {
    "scrolled": true
   },
   "outputs": [],
   "source": [
    "mainData = pd.read_csv('./data_labels_mainData.csv')\n",
    "extraData = pd.read_csv('./data_labels_extraData.csv')"
   ]
  },
  {
   "cell_type": "code",
   "execution_count": 6,
   "metadata": {},
   "outputs": [
    {
     "data": {
      "text/html": [
       "<div>\n",
       "<style scoped>\n",
       "    .dataframe tbody tr th:only-of-type {\n",
       "        vertical-align: middle;\n",
       "    }\n",
       "\n",
       "    .dataframe tbody tr th {\n",
       "        vertical-align: top;\n",
       "    }\n",
       "\n",
       "    .dataframe thead th {\n",
       "        text-align: right;\n",
       "    }\n",
       "</style>\n",
       "<table border=\"1\" class=\"dataframe\">\n",
       "  <thead>\n",
       "    <tr style=\"text-align: right;\">\n",
       "      <th></th>\n",
       "      <th>InstanceID</th>\n",
       "      <th>patientID</th>\n",
       "      <th>ImageName</th>\n",
       "      <th>cellTypeName</th>\n",
       "      <th>cellType</th>\n",
       "      <th>isCancerous</th>\n",
       "    </tr>\n",
       "  </thead>\n",
       "  <tbody>\n",
       "    <tr>\n",
       "      <th>0</th>\n",
       "      <td>22405</td>\n",
       "      <td>1</td>\n",
       "      <td>22405.png</td>\n",
       "      <td>fibroblast</td>\n",
       "      <td>0</td>\n",
       "      <td>0</td>\n",
       "    </tr>\n",
       "    <tr>\n",
       "      <th>1</th>\n",
       "      <td>22406</td>\n",
       "      <td>1</td>\n",
       "      <td>22406.png</td>\n",
       "      <td>fibroblast</td>\n",
       "      <td>0</td>\n",
       "      <td>0</td>\n",
       "    </tr>\n",
       "    <tr>\n",
       "      <th>2</th>\n",
       "      <td>22407</td>\n",
       "      <td>1</td>\n",
       "      <td>22407.png</td>\n",
       "      <td>fibroblast</td>\n",
       "      <td>0</td>\n",
       "      <td>0</td>\n",
       "    </tr>\n",
       "    <tr>\n",
       "      <th>3</th>\n",
       "      <td>22408</td>\n",
       "      <td>1</td>\n",
       "      <td>22408.png</td>\n",
       "      <td>fibroblast</td>\n",
       "      <td>0</td>\n",
       "      <td>0</td>\n",
       "    </tr>\n",
       "    <tr>\n",
       "      <th>4</th>\n",
       "      <td>22409</td>\n",
       "      <td>1</td>\n",
       "      <td>22409.png</td>\n",
       "      <td>fibroblast</td>\n",
       "      <td>0</td>\n",
       "      <td>0</td>\n",
       "    </tr>\n",
       "  </tbody>\n",
       "</table>\n",
       "</div>"
      ],
      "text/plain": [
       "   InstanceID  patientID  ImageName cellTypeName  cellType  isCancerous\n",
       "0       22405          1  22405.png   fibroblast         0            0\n",
       "1       22406          1  22406.png   fibroblast         0            0\n",
       "2       22407          1  22407.png   fibroblast         0            0\n",
       "3       22408          1  22408.png   fibroblast         0            0\n",
       "4       22409          1  22409.png   fibroblast         0            0"
      ]
     },
     "execution_count": 6,
     "metadata": {},
     "output_type": "execute_result"
    }
   ],
   "source": [
    "mainData.head()"
   ]
  },
  {
   "cell_type": "code",
   "execution_count": 7,
   "metadata": {},
   "outputs": [
    {
     "data": {
      "text/html": [
       "<div>\n",
       "<style scoped>\n",
       "    .dataframe tbody tr th:only-of-type {\n",
       "        vertical-align: middle;\n",
       "    }\n",
       "\n",
       "    .dataframe tbody tr th {\n",
       "        vertical-align: top;\n",
       "    }\n",
       "\n",
       "    .dataframe thead th {\n",
       "        text-align: right;\n",
       "    }\n",
       "</style>\n",
       "<table border=\"1\" class=\"dataframe\">\n",
       "  <thead>\n",
       "    <tr style=\"text-align: right;\">\n",
       "      <th></th>\n",
       "      <th>InstanceID</th>\n",
       "      <th>patientID</th>\n",
       "      <th>ImageName</th>\n",
       "      <th>isCancerous</th>\n",
       "    </tr>\n",
       "  </thead>\n",
       "  <tbody>\n",
       "    <tr>\n",
       "      <th>0</th>\n",
       "      <td>12681</td>\n",
       "      <td>61</td>\n",
       "      <td>12681.png</td>\n",
       "      <td>0</td>\n",
       "    </tr>\n",
       "    <tr>\n",
       "      <th>1</th>\n",
       "      <td>12682</td>\n",
       "      <td>61</td>\n",
       "      <td>12682.png</td>\n",
       "      <td>0</td>\n",
       "    </tr>\n",
       "    <tr>\n",
       "      <th>2</th>\n",
       "      <td>12683</td>\n",
       "      <td>61</td>\n",
       "      <td>12683.png</td>\n",
       "      <td>0</td>\n",
       "    </tr>\n",
       "    <tr>\n",
       "      <th>3</th>\n",
       "      <td>12684</td>\n",
       "      <td>61</td>\n",
       "      <td>12684.png</td>\n",
       "      <td>0</td>\n",
       "    </tr>\n",
       "    <tr>\n",
       "      <th>4</th>\n",
       "      <td>12685</td>\n",
       "      <td>61</td>\n",
       "      <td>12685.png</td>\n",
       "      <td>0</td>\n",
       "    </tr>\n",
       "  </tbody>\n",
       "</table>\n",
       "</div>"
      ],
      "text/plain": [
       "   InstanceID  patientID  ImageName  isCancerous\n",
       "0       12681         61  12681.png            0\n",
       "1       12682         61  12682.png            0\n",
       "2       12683         61  12683.png            0\n",
       "3       12684         61  12684.png            0\n",
       "4       12685         61  12685.png            0"
      ]
     },
     "execution_count": 7,
     "metadata": {},
     "output_type": "execute_result"
    }
   ],
   "source": [
    "extraData.head()"
   ]
  },
  {
   "cell_type": "markdown",
   "metadata": {},
   "source": [
    "# Exploratary Data Analysis (EDA)"
   ]
  },
  {
   "cell_type": "code",
   "execution_count": 8,
   "metadata": {
    "scrolled": false
   },
   "outputs": [
    {
     "name": "stdout",
     "output_type": "stream",
     "text": [
      "InstanceID       int64\n",
      "patientID        int64\n",
      "ImageName       object\n",
      "cellTypeName    object\n",
      "cellType         int64\n",
      "isCancerous      int64\n",
      "dtype: object\n",
      "(9896, 6)\n"
     ]
    }
   ],
   "source": [
    "print(mainData.dtypes)\n",
    "print(mainData.shape)\n",
    "#print(mainData.info())\n",
    "#print(mainData.describe())\n"
   ]
  },
  {
   "cell_type": "code",
   "execution_count": 9,
   "metadata": {},
   "outputs": [
    {
     "name": "stdout",
     "output_type": "stream",
     "text": [
      "InstanceID      int64\n",
      "patientID       int64\n",
      "ImageName      object\n",
      "isCancerous     int64\n",
      "dtype: object\n",
      "(10384, 4)\n"
     ]
    }
   ],
   "source": [
    "print(extraData.dtypes)\n",
    "print(extraData.shape)\n",
    "#print(extraData.info())\n",
    "#print(extraData.describe())"
   ]
  },
  {
   "cell_type": "markdown",
   "metadata": {},
   "source": [
    "There are 2 data files mainData with 6 properties and 9896 rows, and extraData with 4 properties and 10384 rows.\n",
    "\n",
    "For part1, the aim is to predict if a slide is cancerous or not from the image data.\n",
    "Lets append data and confirm the number of images matches the input data rows."
   ]
  },
  {
   "cell_type": "code",
   "execution_count": 10,
   "metadata": {
    "scrolled": true
   },
   "outputs": [],
   "source": [
    "mainData = mainData.append(extraData, ignore_index=True)\n",
    "#mainData = mainData.sample(2000)   # Sampling used for inital model development"
   ]
  },
  {
   "cell_type": "code",
   "execution_count": 11,
   "metadata": {},
   "outputs": [
    {
     "data": {
      "text/plain": [
       "20280"
      ]
     },
     "execution_count": 11,
     "metadata": {},
     "output_type": "execute_result"
    }
   ],
   "source": [
    "mainData.shape[0]"
   ]
  },
  {
   "cell_type": "code",
   "execution_count": 12,
   "metadata": {
    "scrolled": true
   },
   "outputs": [
    {
     "name": "stdout",
     "output_type": "stream",
     "text": [
      "20280\n"
     ]
    }
   ],
   "source": [
    "import glob\n",
    "\n",
    "image_list = set()\n",
    "for filepath in glob.glob('./patch_images/*', recursive=True): #assuming gif\n",
    "    filename = filepath.split(\"\\\\\")[-1]\n",
    "    image_list.add(filename)\n",
    "    \n",
    "print(len(image_list))"
   ]
  },
  {
   "cell_type": "markdown",
   "metadata": {},
   "source": [
    "The number of images matches the records."
   ]
  },
  {
   "cell_type": "markdown",
   "metadata": {},
   "source": [
    "Update Categorical Data types"
   ]
  },
  {
   "cell_type": "code",
   "execution_count": 13,
   "metadata": {
    "scrolled": true
   },
   "outputs": [],
   "source": [
    "mainData['cellType'] = mainData['cellType'].astype('category')\n",
    "mainData['cellTypeName'] = mainData['cellTypeName'].astype('category')\n"
   ]
  },
  {
   "cell_type": "code",
   "execution_count": 14,
   "metadata": {
    "scrolled": true
   },
   "outputs": [
    {
     "data": {
      "text/plain": [
       "InstanceID          0\n",
       "patientID           0\n",
       "ImageName           0\n",
       "cellTypeName    10384\n",
       "cellType        10384\n",
       "isCancerous         0\n",
       "dtype: int64"
      ]
     },
     "execution_count": 14,
     "metadata": {},
     "output_type": "execute_result"
    }
   ],
   "source": [
    "mainData.isnull().sum()"
   ]
  },
  {
   "cell_type": "code",
   "execution_count": 15,
   "metadata": {},
   "outputs": [
    {
     "data": {
      "text/plain": [
       "79    699\n",
       "77    696\n",
       "91    642\n",
       "92    571\n",
       "80    507\n",
       "     ... \n",
       "73     12\n",
       "75     12\n",
       "35     11\n",
       "74      8\n",
       "96      6\n",
       "Name: patientID, Length: 98, dtype: int64"
      ]
     },
     "execution_count": 15,
     "metadata": {},
     "output_type": "execute_result"
    }
   ],
   "source": [
    "mainData['patientID'].value_counts()"
   ]
  },
  {
   "cell_type": "code",
   "execution_count": 16,
   "metadata": {
    "scrolled": false
   },
   "outputs": [
    {
     "data": {
      "image/png": "[encoded data removed]",
      "text/plain": [
       "<Figure size 432x288 with 4 Axes>"
      ]
     },
     "metadata": {
      "needs_background": "light"
     },
     "output_type": "display_data"
    }
   ],
   "source": [
    "mainData.hist()\n",
    "plt.show()"
   ]
  },
  {
   "cell_type": "code",
   "execution_count": 17,
   "metadata": {
    "scrolled": true
   },
   "outputs": [],
   "source": [
    "# Remove non-relevant data - instance is ID\n",
    "mainData.drop(['InstanceID'], axis=1,inplace=True)\n",
    "\n",
    "# cellType and cellTypeName may be not known in scan so for this case removed - identification is part2\n",
    "# Note this data could be use but it is not as its not in main data set\n",
    "mainData.drop(['cellType'], axis=1,inplace=True)\n",
    "mainData.drop(['cellTypeName'], axis=1,inplace=True)"
   ]
  },
  {
   "cell_type": "code",
   "execution_count": 18,
   "metadata": {
    "scrolled": true
   },
   "outputs": [
    {
     "name": "stdout",
     "output_type": "stream",
     "text": [
      "<class 'pandas.core.frame.DataFrame'>\n",
      "RangeIndex: 20280 entries, 0 to 20279\n",
      "Data columns (total 3 columns):\n",
      " #   Column       Non-Null Count  Dtype \n",
      "---  ------       --------------  ----- \n",
      " 0   patientID    20280 non-null  int64 \n",
      " 1   ImageName    20280 non-null  object\n",
      " 2   isCancerous  20280 non-null  int64 \n",
      "dtypes: int64(2), object(1)\n",
      "memory usage: 475.4+ KB\n"
     ]
    }
   ],
   "source": [
    "mainData.info()"
   ]
  },
  {
   "cell_type": "markdown",
   "metadata": {},
   "source": [
    "**There are no missing values in the datasets.**"
   ]
  },
  {
   "cell_type": "code",
   "execution_count": 19,
   "metadata": {
    "scrolled": true
   },
   "outputs": [],
   "source": [
    "def BinBreakdown(desc, data):\n",
    "    neg, pos = np.bincount(data)\n",
    "    total = neg + pos\n",
    "    print('{} Class Data:\\n    Total: {}\\n    Positive: {} ({:.2f}% of total)\\n'.format(desc, total, pos, 100 * pos / total))"
   ]
  },
  {
   "cell_type": "code",
   "execution_count": 20,
   "metadata": {},
   "outputs": [
    {
     "name": "stdout",
     "output_type": "stream",
     "text": [
      "Input Data Class Data:\n",
      "    Total: 20280\n",
      "    Positive: 7069 (34.86% of total)\n",
      "\n"
     ]
    }
   ],
   "source": [
    "BinBreakdown('Input Data', mainData.isCancerous)"
   ]
  },
  {
   "cell_type": "markdown",
   "metadata": {},
   "source": [
    "#### Key observations:\n",
    "* Data has 20280  observations and 6 columns.\n",
    "* InstanceID - is Id field, need to remove as not valueable classification attribute\n",
    "* cellTypeName, cellType - indicator of actual cell type and not used in this case for cancer diagnosis\n",
    "* isCancerous - indicator of the actual diagnosis (1 = cancerous, 0 = benign)\n",
    "* image count matches data rows\n",
    "* Patients have mix of images counts between 6 and 699 images per patient\n",
    "\n",
    "Split of benign to cancerous is a 35% cancerous, 65% benign\n",
    "\n",
    "* The class value is boolean so doesn't have outliers etc to consider"
   ]
  },
  {
   "cell_type": "markdown",
   "metadata": {},
   "source": [
    "# Train/Validation/Test Split on Patients"
   ]
  },
  {
   "cell_type": "markdown",
   "metadata": {},
   "source": [
    "### Add classification class"
   ]
  },
  {
   "cell_type": "code",
   "execution_count": 21,
   "metadata": {
    "scrolled": true
   },
   "outputs": [],
   "source": [
    "mainData['isCancerous'] = mainData['isCancerous'].astype('str')"
   ]
  },
  {
   "cell_type": "markdown",
   "metadata": {},
   "source": [
    "### Split Data into Train/Validate/Test\n",
    "For test and training data split via person.\n",
    "This assumes that if a person has cancer or not, then would the images for that person have cancer.\n",
    "Also different cell types per person would be used for validation/testing."
   ]
  },
  {
   "cell_type": "code",
   "execution_count": 22,
   "metadata": {
    "scrolled": true
   },
   "outputs": [],
   "source": [
    "# Get list of patients and observation counts\n",
    "# Allocate approc 25% of data for Validation and Testing - of that 60%/40% for validation/test split.\n",
    "TEST_RATIO = 0.10\n",
    "VAL_RATIO = 0.15\n"
   ]
  },
  {
   "cell_type": "code",
   "execution_count": 23,
   "metadata": {
    "scrolled": true
   },
   "outputs": [],
   "source": [
    "# Split train tests by ratios\n",
    "# Select random patients until the number of images for \n",
    "# each patient sums to the number of records require\n",
    "\n",
    "np.random.seed(43) # Consistent random list\n",
    "\n",
    "recCount = mainData.shape[0]\n",
    "custRec = mainData.patientID.value_counts().to_dict()\n",
    "    \n",
    "patientIds = list(custRec.keys())\n",
    "\n",
    "# Loop through selecting a patient at random summing the number of images they have\n",
    "# until the count of images crosses is more than required number\n",
    "\n",
    "testCust = []\n",
    "testRecs = 0\n",
    "while (testRecs < (recCount * TEST_RATIO)):\n",
    "    pId = np.random.choice(patientIds)\n",
    "    ic = custRec.get(pId)\n",
    "    patientIds.remove(pId)\n",
    "    testCust.append(pId)\n",
    "    testRecs += ic\n",
    "    \n",
    "#print(testCust, testRecs)\n",
    "\n",
    "valCust = []\n",
    "valRecs = 0\n",
    "while (valRecs < (recCount * VAL_RATIO)):\n",
    "    pId = np.random.choice(patientIds)\n",
    "    ic = custRec.get(pId)\n",
    "    patientIds.remove(pId)\n",
    "    valCust.append(pId)\n",
    "    valRecs += ic\n",
    "\n",
    "#print(valCust, valRecs)"
   ]
  },
  {
   "cell_type": "code",
   "execution_count": 24,
   "metadata": {
    "scrolled": true
   },
   "outputs": [],
   "source": [
    "testData = mainData[mainData.patientID.isin(testCust)]\n",
    "valData = mainData[mainData.patientID.isin(valCust)]\n",
    "trainData = mainData[~(mainData.patientID.isin(valCust + testCust))]"
   ]
  },
  {
   "cell_type": "code",
   "execution_count": 25,
   "metadata": {
    "scrolled": true
   },
   "outputs": [
    {
     "name": "stdout",
     "output_type": "stream",
     "text": [
      "Train data : 15054, Val Data: 3055, Test Data: 2171\n",
      "Train data : 74.23%, Val Data: 15.06%, Test Data: 10.71%\n"
     ]
    }
   ],
   "source": [
    "totalRecs = mainData.shape[0]\n",
    "#print(trainData.shape[0] + valData.shape[0] + testData.shape[0])\n",
    "\n",
    "print(\"Train data : {}, Val Data: {}, Test Data: {}\".format(trainData.shape[0], valData.shape[0], testData.shape[0]))\n",
    "print(\"Train data : {:.2f}%, Val Data: {:.2f}%, Test Data: {:.2f}%\".format(\n",
    "    100 * trainData.shape[0] / totalRecs, 100 * valData.shape[0]/totalRecs, 100 * testData.shape[0]/totalRecs))"
   ]
  },
  {
   "cell_type": "code",
   "execution_count": 26,
   "metadata": {
    "scrolled": true
   },
   "outputs": [
    {
     "data": {
      "text/html": [
       "<div>\n",
       "<style scoped>\n",
       "    .dataframe tbody tr th:only-of-type {\n",
       "        vertical-align: middle;\n",
       "    }\n",
       "\n",
       "    .dataframe tbody tr th {\n",
       "        vertical-align: top;\n",
       "    }\n",
       "\n",
       "    .dataframe thead th {\n",
       "        text-align: right;\n",
       "    }\n",
       "</style>\n",
       "<table border=\"1\" class=\"dataframe\">\n",
       "  <thead>\n",
       "    <tr style=\"text-align: right;\">\n",
       "      <th></th>\n",
       "      <th>patientID</th>\n",
       "      <th>ImageName</th>\n",
       "      <th>isCancerous</th>\n",
       "    </tr>\n",
       "  </thead>\n",
       "  <tbody>\n",
       "    <tr>\n",
       "      <th>19</th>\n",
       "      <td>2</td>\n",
       "      <td>19035.png</td>\n",
       "      <td>0</td>\n",
       "    </tr>\n",
       "    <tr>\n",
       "      <th>20</th>\n",
       "      <td>2</td>\n",
       "      <td>19036.png</td>\n",
       "      <td>0</td>\n",
       "    </tr>\n",
       "    <tr>\n",
       "      <th>21</th>\n",
       "      <td>2</td>\n",
       "      <td>19037.png</td>\n",
       "      <td>0</td>\n",
       "    </tr>\n",
       "    <tr>\n",
       "      <th>22</th>\n",
       "      <td>2</td>\n",
       "      <td>19038.png</td>\n",
       "      <td>0</td>\n",
       "    </tr>\n",
       "    <tr>\n",
       "      <th>23</th>\n",
       "      <td>2</td>\n",
       "      <td>19039.png</td>\n",
       "      <td>0</td>\n",
       "    </tr>\n",
       "  </tbody>\n",
       "</table>\n",
       "</div>"
      ],
      "text/plain": [
       "    patientID  ImageName isCancerous\n",
       "19          2  19035.png           0\n",
       "20          2  19036.png           0\n",
       "21          2  19037.png           0\n",
       "22          2  19038.png           0\n",
       "23          2  19039.png           0"
      ]
     },
     "execution_count": 26,
     "metadata": {},
     "output_type": "execute_result"
    }
   ],
   "source": [
    "trainData.head()"
   ]
  },
  {
   "cell_type": "code",
   "execution_count": 27,
   "metadata": {},
   "outputs": [
    {
     "name": "stdout",
     "output_type": "stream",
     "text": [
      "Train Class Data:\n",
      "    Total: 15054\n",
      "    Positive: 5055 (33.58% of total)\n",
      "\n",
      "Validation Class Data:\n",
      "    Total: 3055\n",
      "    Positive: 1252 (40.98% of total)\n",
      "\n",
      "Test Class Data:\n",
      "    Total: 2171\n",
      "    Positive: 762 (35.10% of total)\n",
      "\n"
     ]
    }
   ],
   "source": [
    "BinBreakdown('Train', trainData.isCancerous)\n",
    "BinBreakdown('Validation', valData.isCancerous)\n",
    "BinBreakdown('Test', testData.isCancerous)"
   ]
  },
  {
   "cell_type": "markdown",
   "metadata": {},
   "source": [
    "Tran/Val/Test data sets have unique patients with similar ratios of non-Cancerous to Cancerous images"
   ]
  },
  {
   "cell_type": "code",
   "execution_count": 28,
   "metadata": {
    "scrolled": true
   },
   "outputs": [
    {
     "data": {
      "text/plain": [
       "([0, 1], [Text(0, 0, ''), Text(0, 0, '')])"
      ]
     },
     "execution_count": 28,
     "metadata": {},
     "output_type": "execute_result"
    },
    {
     "data": {
      "image/png": "[encoded data removed]",
      "text/plain": [
       "<Figure size 432x288 with 1 Axes>"
      ]
     },
     "metadata": {
      "needs_background": "light"
     },
     "output_type": "display_data"
    }
   ],
   "source": [
    "plt.bar(\n",
    "    trainData.isCancerous.value_counts().index.astype(str), \n",
    "    trainData.isCancerous.value_counts().values/np.sum(trainData.isCancerous.value_counts().values), \n",
    "    alpha=0.3, \n",
    "    color='r')\n",
    "\n",
    "plt.bar(\n",
    "    valData.isCancerous.value_counts().index.astype(str), \n",
    "    valData.isCancerous.value_counts().values/np.sum(valData.isCancerous.value_counts().values), \n",
    "    alpha=0.3, \n",
    "    color='b')\n",
    "\n",
    "plt.bar(\n",
    "    testData.isCancerous.value_counts().index.astype(str), \n",
    "    testData.isCancerous.value_counts().values/np.sum(testData.isCancerous.value_counts().values), \n",
    "    alpha=0.3, \n",
    "    color='g')\n",
    "\n",
    "plt.title('isCancerous - Train vs Test')\n",
    "plt.xticks(rotation='vertical')"
   ]
  },
  {
   "cell_type": "markdown",
   "metadata": {},
   "source": [
    "**Observations:**\n",
    "1. Train/Validation/Test data distributions sets have similar distributions"
   ]
  },
  {
   "cell_type": "markdown",
   "metadata": {},
   "source": [
    "# Images\n",
    "27x27 RGB "
   ]
  },
  {
   "cell_type": "code",
   "execution_count": 29,
   "metadata": {
    "scrolled": true
   },
   "outputs": [
    {
     "name": "stdout",
     "output_type": "stream",
     "text": [
      "Found 15054 validated image filenames belonging to 2 classes.\n",
      "Found 3055 validated image filenames belonging to 2 classes.\n",
      "Found 2171 validated image filenames belonging to 2 classes.\n"
     ]
    }
   ],
   "source": [
    "from tensorflow.keras.preprocessing.image import ImageDataGenerator\n",
    "\n",
    "# Could add Data Augmentation here - but initial trials showed no real improvement for a lot of extra traing time\n",
    "# Note: Sirinukunwattana 2016 and co arbitrary rotated patches (0, 90, 180, 270) and flipped them along vertical or \n",
    "# horizontal axis.\n",
    "train_datagen = ImageDataGenerator(\n",
    "    rescale=1./255, \n",
    "    data_format='channels_last',\n",
    "    #rotation_range=90, \n",
    "    #width_shift_range=0.1,\n",
    "    #height_shift_range=0.1, \n",
    "    #brightness_range=[0.5,1.5],\n",
    "    #horizontal_flip=True,\n",
    "    #vertical_flip=True\n",
    ")\n",
    "\n",
    "val_datagen = ImageDataGenerator(rescale=1./255, data_format='channels_last')\n",
    "test_datagen = ImageDataGenerator(rescale=1./255, data_format='channels_last')\n",
    "\n",
    "batch_size = 32\n",
    "\n",
    "train_generator = train_datagen.flow_from_dataframe(\n",
    "        dataframe=trainData,\n",
    "        directory='./patch_images',\n",
    "        x_col=\"ImageName\",\n",
    "        y_col=\"isCancerous\",\n",
    "        target_size=(27, 27),\n",
    "        batch_size=batch_size,\n",
    "        class_mode='categorical')\n",
    "\n",
    "validation_generator = val_datagen.flow_from_dataframe(\n",
    "        dataframe=valData,\n",
    "        directory='patch_images',\n",
    "        x_col=\"ImageName\",\n",
    "        y_col=\"isCancerous\",\n",
    "        target_size=(27, 27),\n",
    "        batch_size=batch_size,\n",
    "        class_mode='categorical')\n",
    "\n",
    "test_generator = test_datagen.flow_from_dataframe(\n",
    "        dataframe=testData,\n",
    "        directory='patch_images',\n",
    "        x_col=\"ImageName\",\n",
    "        y_col=\"isCancerous\",\n",
    "        target_size=(27, 27),\n",
    "        batch_size=batch_size,\n",
    "        class_mode='categorical')"
   ]
  },
  {
   "cell_type": "markdown",
   "metadata": {},
   "source": [
    "### Utility Functions"
   ]
  },
  {
   "cell_type": "code",
   "execution_count": 30,
   "metadata": {},
   "outputs": [],
   "source": [
    "import seaborn as sn\n",
    "import matplotlib.pyplot as plt\n",
    "from sklearn.metrics import confusion_matrix\n",
    "from sklearn.metrics import classification_report\n"
   ]
  },
  {
   "cell_type": "code",
   "execution_count": 31,
   "metadata": {
    "scrolled": true
   },
   "outputs": [],
   "source": [
    "def PlotModelFitHistory(mh):\n",
    "    plt.figure(figsize=(10,5))\n",
    "    plt.subplot(1,2,1)\n",
    "    plt.plot(mh.history['loss'], 'r--')\n",
    "    plt.plot(mh.history['val_loss'], 'b--')\n",
    "    plt.xlabel(\"epochs\")\n",
    "    plt.ylabel(\"Loss\")\n",
    "    plt.legend(['train', 'val'], loc='upper left')\n",
    "\n",
    "    plt.subplot(1,2,2)\n",
    "    plt.plot(mh.history['categorical_accuracy'], 'r--')\n",
    "    plt.plot(mh.history['val_categorical_accuracy'], 'b--')\n",
    "    plt.xlabel(\"epochs\")\n",
    "    plt.ylabel(\"Accuracy\")\n",
    "    plt.legend(['train', 'val'], loc='upper left')\n",
    "\n",
    "    plt.show()\n"
   ]
  },
  {
   "cell_type": "code",
   "execution_count": 32,
   "metadata": {
    "scrolled": true
   },
   "outputs": [],
   "source": [
    "def PlotConfusionMatrix(test, pred):\n",
    "    cm = confusion_matrix(test, pred)\n",
    "    group_names = ['True Neg','False Pos','False Neg','True Pos']\n",
    "    group_counts = [\"{0:0.0f}\".format(value) for value in cm.flatten()]\n",
    "    group_percentages = [\"{0:.2%}\".format(value) for value in cm.flatten()/np.sum(cm)]\n",
    "    labels = [f\"{v1}\\n{v2}\\n{v3}\" for v1, v2, v3 in zip(group_names, group_counts, group_percentages)]\n",
    "    labels = np.asarray(labels).reshape(2,2)\n",
    "    sn.heatmap(cm, annot=labels, fmt='', cmap='Blues')"
   ]
  },
  {
   "cell_type": "markdown",
   "metadata": {},
   "source": [
    "# Model Development"
   ]
  },
  {
   "cell_type": "markdown",
   "metadata": {},
   "source": [
    "### Measure \n",
    "As this is a screening/detection task, the impact of a false negative is high (ie someone who has cancer is missed)\n",
    "In this case use Recall for measure.\n",
    "We can also use F1 to get a more balanced measure of Precision and Recall\n",
    "For training use accuracy of prediction as measure"
   ]
  },
  {
   "cell_type": "code",
   "execution_count": 33,
   "metadata": {},
   "outputs": [],
   "source": [
    "# Use self tuning optimiser instead of SGD\n",
    "def CompileModel(model):\n",
    "    opt = tf.keras.optimizers.Adagrad()\n",
    "    model.compile(optimizer=opt,\n",
    "              loss=tf.keras.losses.CategoricalCrossentropy(from_logits=False),\n",
    "              metrics=['categorical_accuracy'])    "
   ]
  },
  {
   "cell_type": "code",
   "execution_count": 34,
   "metadata": {},
   "outputs": [],
   "source": [
    "# using patience here - could use other limits. 25 an abitary limit for no more improvement in metric\n",
    "early_stopping_patience=25\n",
    "early_stopping_monitor = EarlyStopping(patience=early_stopping_patience, monitor='val_categorical_accuracy')\n",
    "\n",
    "def FitModel(model):\n",
    "\n",
    "    print('start ', datetime.datetime.now().strftime(\"%H:%M:%S\"))\n",
    "    now = datetime.datetime.now()\n",
    "\n",
    "    fit_history = model.fit(train_generator, validation_data = validation_generator, \n",
    "                            callbacks=[early_stopping_monitor], epochs=10000, verbose=1)\n",
    "\n",
    "    print('stop ', datetime.datetime.now().strftime(\"%H:%M:%S\"))\n",
    "    print(\"Took = \", datetime.datetime.now() - now)\n",
    "    \n",
    "    return fit_history"
   ]
  },
  {
   "cell_type": "code",
   "execution_count": 35,
   "metadata": {},
   "outputs": [],
   "source": [
    "def PredictModel(model):\n",
    "    batch_size_ = 1\n",
    "    y_pred = list()\n",
    "    y_test = list()\n",
    "    filenames = test_generator.filenames\n",
    "    N_images = len(filenames)\n",
    "    batches = 0\n",
    "\n",
    "    # iterate through the data generator and predict for each batch\n",
    "    # hold the predictions and labels\n",
    "    for x,y in test_generator:\n",
    "            yp = model.predict(x, verbose=0)\n",
    "            yp = np.argmax(yp, axis = 1)\n",
    "            yt = np.argmax(y, axis = 1)\n",
    "            y_pred = y_pred + yp.tolist()\n",
    "            y_test = y_test + yt.tolist()\n",
    "\n",
    "            batches += 1\n",
    "            if batches >= N_images / batch_size_:\n",
    "                break\n",
    "                \n",
    "    return (y_test, y_pred)"
   ]
  },
  {
   "cell_type": "code",
   "execution_count": 36,
   "metadata": {},
   "outputs": [],
   "source": [
    "class ModelResult:\n",
    "  def __init__(self, name, accuracy, f1, precision, recall):\n",
    "    self.name = name\n",
    "    self.accuracy = accuracy\n",
    "    self.f1 = f1\n",
    "    self.precision = precision\n",
    "    self.recall = recall\n",
    "    \n",
    "modelResults = list()"
   ]
  },
  {
   "cell_type": "code",
   "execution_count": 37,
   "metadata": {},
   "outputs": [],
   "source": [
    "def ShowStats(test_name, y_test, y_pred):\n",
    "    accuracy = accuracy_score(test_y, pred_y)\n",
    "    f1 = f1_score(test_y, pred_y, average='macro')\n",
    "    cm = classification_report(test_y, pred_y, zero_division=0)\n",
    "    \n",
    "    prfs = precision_recall_fscore_support(test_y, pred_y, zero_division=0)\n",
    "    detect_precision = prfs[0][1]\n",
    "    detect_recall = prfs[1][1]\n",
    "\n",
    "    mr = ModelResult(test_name, accuracy, f1, detect_precision, detect_recall)\n",
    "    modelResults.append(mr)\n",
    "\n",
    "    print(\"Accuracy score: \", accuracy_score(test_y, pred_y))\n",
    "    print(\"F1 score: \", f1_score(test_y, pred_y, average='macro'))\n",
    "    print(classification_report(test_y, pred_y, zero_division=0))"
   ]
  },
  {
   "cell_type": "markdown",
   "metadata": {},
   "source": [
    "### Model Inputs"
   ]
  },
  {
   "cell_type": "code",
   "execution_count": 38,
   "metadata": {
    "scrolled": true
   },
   "outputs": [],
   "source": [
    "INPUT_DIM = (27,27,3)\n",
    "OUTPUT_CLASSES = 2       # TensorFlow automatically does one hot encoding to our target label"
   ]
  },
  {
   "cell_type": "markdown",
   "metadata": {},
   "source": [
    "## 1. Baseline an simple MLP Model\n",
    "Observations\n",
    "* Use a initial NN to get a baseline\n",
    "* Binary classification problem - output are 2 variables OneHotEncoded\n",
    "* Input has 2187 dims (this is small for image recognition)\n",
    "* 1 hidden layer with 256 internal nodes\n",
    "* 2 output binary\n",
    "* Loss - Categorical Cross Entropy\n",
    "* Metric - categorical_accuracy \n",
    "* use sigmoid activation on last layer for probabilities as this is a logistics issue"
   ]
  },
  {
   "cell_type": "code",
   "execution_count": 39,
   "metadata": {
    "scrolled": true
   },
   "outputs": [],
   "source": [
    "model_base = tf.keras.Sequential([\n",
    "    tf.keras.layers.Flatten(input_shape=INPUT_DIM),\n",
    "    tf.keras.layers.Dense(256, activation='relu'),\n",
    "    tf.keras.layers.Dense(OUTPUT_CLASSES, activation='sigmoid')\n",
    "])"
   ]
  },
  {
   "cell_type": "code",
   "execution_count": 40,
   "metadata": {},
   "outputs": [
    {
     "name": "stdout",
     "output_type": "stream",
     "text": [
      "Model: \"sequential\"\n",
      "_________________________________________________________________\n",
      "Layer (type)                 Output Shape              Param #   \n",
      "=================================================================\n",
      "flatten (Flatten)            (None, 2187)              0         \n",
      "_________________________________________________________________\n",
      "dense (Dense)                (None, 256)               560128    \n",
      "_________________________________________________________________\n",
      "dense_1 (Dense)              (None, 2)                 514       \n",
      "=================================================================\n",
      "Total params: 560,642\n",
      "Trainable params: 560,642\n",
      "Non-trainable params: 0\n",
      "_________________________________________________________________\n"
     ]
    }
   ],
   "source": [
    "model_base.summary()"
   ]
  },
  {
   "cell_type": "code",
   "execution_count": 41,
   "metadata": {},
   "outputs": [],
   "source": [
    "CompileModel(model_base)"
   ]
  },
  {
   "cell_type": "code",
   "execution_count": 42,
   "metadata": {},
   "outputs": [
    {
     "name": "stdout",
     "output_type": "stream",
     "text": [
      "start  12:23:37\n",
      "Epoch 1/10000\n",
      "471/471 [==============================] - 8s 16ms/step - loss: 0.5014 - categorical_accuracy: 0.7578 - val_loss: 0.4303 - val_categorical_accuracy: 0.8396\n",
      "Epoch 2/10000\n",
      "471/471 [==============================] - 7s 14ms/step - loss: 0.4086 - categorical_accuracy: 0.8244 - val_loss: 0.3845 - val_categorical_accuracy: 0.8396\n",
      "Epoch 3/10000\n",
      "471/471 [==============================] - 8s 18ms/step - loss: 0.3848 - categorical_accuracy: 0.8339 - val_loss: 0.3751 - val_categorical_accuracy: 0.8393\n",
      "Epoch 4/10000\n",
      "471/471 [==============================] - 8s 18ms/step - loss: 0.3730 - categorical_accuracy: 0.8389 - val_loss: 0.4070 - val_categorical_accuracy: 0.8151\n",
      "Epoch 5/10000\n",
      "471/471 [==============================] - 8s 18ms/step - loss: 0.3652 - categorical_accuracy: 0.8394 - val_loss: 0.3556 - val_categorical_accuracy: 0.8504loss: 0.3622 - ca - ETA: 3s - loss: 0.3603 - categorical_accuracy: 0. - ETA: 3s - loss: 0.3605 - categorical_accuracy: 0. - ETA - ETA: 0s - loss: 0.3661 - categorical_accuracy - ETA: 0s - loss: 0.3661 - categorical_accuracy\n",
      "Epoch 6/10000\n",
      "471/471 [==============================] - 8s 17ms/step - loss: 0.3619 - categorical_accuracy: 0.8406 - val_loss: 0.3502 - val_categorical_accuracy: 0.8524\n",
      "Epoch 7/10000\n",
      "471/471 [==============================] - 8s 17ms/step - loss: 0.3586 - categorical_accuracy: 0.8440 - val_loss: 0.3617 - val_categorical_accuracy: 0.8403\n",
      "Epoch 8/10000\n",
      "471/471 [==============================] - 8s 17ms/step - loss: 0.3561 - categorical_accuracy: 0.8442 - val_loss: 0.3468 - val_categorical_accuracy: 0.8530y: \n",
      "Epoch 9/10000\n",
      "471/471 [==============================] - 8s 16ms/step - loss: 0.3539 - categorical_accuracy: 0.8468 - val_loss: 0.3596 - val_categorical_accuracy: 0.8406\n",
      "Epoch 10/10000\n",
      "471/471 [==============================] - 8s 16ms/step - loss: 0.3526 - categorical_accuracy: 0.8460 - val_loss: 0.3492 - val_categorical_accuracy: 0.8517\n",
      "Epoch 11/10000\n",
      "471/471 [==============================] - 8s 16ms/step - loss: 0.3513 - categorical_accuracy: 0.8468 - val_loss: 0.3486 - val_categorical_accuracy: 0.8520\n",
      "Epoch 12/10000\n",
      "471/471 [==============================] - 8s 17ms/step - loss: 0.3502 - categorical_accuracy: 0.8464 - val_loss: 0.3488 - val_categorical_accuracy: 0.8511s - loss: 0.3\n",
      "Epoch 13/10000\n",
      "471/471 [==============================] - 8s 17ms/step - loss: 0.3503 - categorical_accuracy: 0.8489 - val_loss: 0.3506 - val_categorical_accuracy: 0.8494\n",
      "Epoch 14/10000\n",
      "471/471 [==============================] - 8s 17ms/step - loss: 0.3479 - categorical_accuracy: 0.8487 - val_loss: 0.3469 - val_categorical_accuracy: 0.8524\n",
      "Epoch 15/10000\n",
      "471/471 [==============================] - 8s 16ms/step - loss: 0.3475 - categorical_accuracy: 0.8470 - val_loss: 0.3734 - val_categorical_accuracy: 0.8357\n",
      "Epoch 16/10000\n",
      "471/471 [==============================] - 8s 17ms/step - loss: 0.3461 - categorical_accuracy: 0.8481 - val_loss: 0.3405 - val_categorical_accuracy: 0.8553\n",
      "Epoch 17/10000\n",
      "471/471 [==============================] - 8s 16ms/step - loss: 0.3464 - categorical_accuracy: 0.8479 - val_loss: 0.3465 - val_categorical_accuracy: 0.8530\n",
      "Epoch 18/10000\n",
      "471/471 [==============================] - 8s 17ms/step - loss: 0.3453 - categorical_accuracy: 0.8502 - val_loss: 0.3499 - val_categorical_accuracy: 0.8498ategorical_accuracy: 0. - ETA: 1s - loss: 0.3489 - categorical_ - ETA: 1s - loss: 0.3494 - categorical_accura - ETA: 0s - loss: 0.3\n",
      "Epoch 19/10000\n",
      "471/471 [==============================] - 8s 17ms/step - loss: 0.3449 - categorical_accuracy: 0.8501 - val_loss: 0.3430 - val_categorical_accuracy: 0.8534\n",
      "Epoch 20/10000\n",
      "471/471 [==============================] - 8s 17ms/step - loss: 0.3436 - categorical_accuracy: 0.8483 - val_loss: 0.3395 - val_categorical_accuracy: 0.8547\n",
      "Epoch 21/10000\n",
      "471/471 [==============================] - 8s 17ms/step - loss: 0.3438 - categorical_accuracy: 0.8489 - val_loss: 0.3518 - val_categorical_accuracy: 0.8488\n",
      "Epoch 22/10000\n",
      "471/471 [==============================] - 8s 17ms/step - loss: 0.3428 - categorical_accuracy: 0.8498 - val_loss: 0.3565 - val_categorical_accuracy: 0.8475ss: 0.344\n",
      "Epoch 23/10000\n",
      "471/471 [==============================] - 8s 17ms/step - loss: 0.3422 - categorical_accuracy: 0.8489 - val_loss: 0.3404 - val_categorical_accuracy: 0.8547\n",
      "Epoch 24/10000\n",
      "471/471 [==============================] - 8s 17ms/step - loss: 0.3417 - categorical_accuracy: 0.8506 - val_loss: 0.3562 - val_categorical_accuracy: 0.8471\n",
      "Epoch 25/10000\n",
      "471/471 [==============================] - 8s 17ms/step - loss: 0.3408 - categorical_accuracy: 0.8511 - val_loss: 0.3395 - val_categorical_accuracy: 0.8553\n",
      "Epoch 26/10000\n",
      "471/471 [==============================] - 8s 16ms/step - loss: 0.3411 - categorical_accuracy: 0.8508 - val_loss: 0.3452 - val_categorical_accuracy: 0.8517\n",
      "Epoch 27/10000\n",
      "471/471 [==============================] - 8s 17ms/step - loss: 0.3410 - categorical_accuracy: 0.8501 - val_loss: 0.3485 - val_categorical_accuracy: 0.85013\n",
      "Epoch 28/10000\n",
      "471/471 [==============================] - 8s 17ms/step - loss: 0.3403 - categorical_accuracy: 0.8518 - val_loss: 0.3399 - val_categorical_accuracy: 0.8560\n",
      "Epoch 29/10000\n",
      "471/471 [==============================] - 8s 16ms/step - loss: 0.3397 - categorical_accuracy: 0.8499 - val_loss: 0.3671 - val_categorical_accuracy: 0.8383\n",
      "Epoch 30/10000\n",
      "471/471 [==============================] - 8s 17ms/step - loss: 0.3390 - categorical_accuracy: 0.8508 - val_loss: 0.3506 - val_categorical_accuracy: 0.8504\n",
      "Epoch 31/10000\n",
      "471/471 [==============================] - 8s 16ms/step - loss: 0.3387 - categorical_accuracy: 0.8517 - val_loss: 0.3577 - val_categorical_accuracy: 0.8462\n",
      "Epoch 32/10000\n",
      "471/471 [==============================] - 8s 17ms/step - loss: 0.3387 - categorical_accuracy: 0.8490 - val_loss: 0.3409 - val_categorical_accuracy: 0.8537\n",
      "Epoch 33/10000\n",
      "471/471 [==============================] - 8s 16ms/step - loss: 0.3389 - categorical_accuracy: 0.8529 - val_loss: 0.3462 - val_categorical_accuracy: 0.8517\n",
      "Epoch 34/10000\n",
      "471/471 [==============================] - 8s 17ms/step - loss: 0.3380 - categorical_accuracy: 0.8521 - val_loss: 0.3584 - val_categorical_accuracy: 0.8448\n",
      "Epoch 35/10000\n",
      "471/471 [==============================] - 8s 17ms/step - loss: 0.3378 - categorical_accuracy: 0.8522 - val_loss: 0.3545 - val_categorical_accuracy: 0.8478s - loss: 0.3396 - categorical_accura - ETA: 1s - loss: 0.3404 - categorica - ETA: 0s - loss: 0.3402 - \n",
      "Epoch 36/10000\n",
      "471/471 [==============================] - 8s 17ms/step - loss: 0.3366 - categorical_accuracy: 0.8509 - val_loss: 0.3809 - val_categorical_accuracy: 0.8357\n",
      "Epoch 37/10000\n",
      "471/471 [==============================] - 8s 17ms/step - loss: 0.3368 - categorical_accuracy: 0.8520 - val_loss: 0.3375 - val_categorical_accuracy: 0.8553\n",
      "Epoch 38/10000\n",
      "471/471 [==============================] - 8s 17ms/step - loss: 0.3366 - categorical_accuracy: 0.8537 - val_loss: 0.3816 - val_categorical_accuracy: 0.8347\n",
      "Epoch 39/10000\n",
      "471/471 [==============================] - 8s 17ms/step - loss: 0.3363 - categorical_accuracy: 0.8515 - val_loss: 0.3370 - val_categorical_accuracy: 0.8556:\n",
      "Epoch 40/10000\n",
      "471/471 [==============================] - 9s 19ms/step - loss: 0.3356 - categorical_accuracy: 0.8536 - val_loss: 0.3398 - val_categorical_accuracy: 0.8556\n",
      "Epoch 41/10000\n",
      "471/471 [==============================] - 9s 19ms/step - loss: 0.3356 - categorical_accuracy: 0.8547 - val_loss: 0.3530 - val_categorical_accuracy: 0.8501\n",
      "Epoch 42/10000\n",
      "471/471 [==============================] - 8s 17ms/step - loss: 0.3354 - categorical_accuracy: 0.8545 - val_loss: 0.3524 - val_categorical_accuracy: 0.8501\n",
      "Epoch 43/10000\n",
      "471/471 [==============================] - 8s 17ms/step - loss: 0.3349 - categorical_accuracy: 0.8537 - val_loss: 0.3393 - val_categorical_accuracy: 0.8550loss: 0.3311 - categorica - ETA\n",
      "Epoch 44/10000\n",
      "471/471 [==============================] - 8s 17ms/step - loss: 0.3342 - categorical_accuracy: 0.8517 - val_loss: 0.3702 - val_categorical_accuracy: 0.8383\n",
      "Epoch 45/10000\n",
      "471/471 [==============================] - 8s 18ms/step - loss: 0.3340 - categorical_accuracy: 0.8547 - val_loss: 0.3384 - val_categorical_accuracy: 0.85703391 - categorical_accu - ETA: 3s - - ETA: 2s - - ETA: 1s - loss: 0.3329 - categorical_accura - ETA: 0s - loss: 0.3326 - categorical_accu - ETA: 0s - loss: 0.3304 - categori\n",
      "Epoch 46/10000\n",
      "471/471 [==============================] - 8s 16ms/step - loss: 0.3340 - categorical_accuracy: 0.8531 - val_loss: 0.3356 - val_categorical_accuracy: 0.8560\n",
      "Epoch 47/10000\n",
      "471/471 [==============================] - 8s 17ms/step - loss: 0.3336 - categorical_accuracy: 0.8545 - val_loss: 0.3514 - val_categorical_accuracy: 0.8501\n",
      "Epoch 48/10000\n",
      "471/471 [==============================] - 8s 16ms/step - loss: 0.3339 - categorical_accuracy: 0.8536 - val_loss: 0.3366 - val_categorical_accuracy: 0.8576\n",
      "Epoch 49/10000\n",
      "471/471 [==============================] - 8s 16ms/step - loss: 0.3330 - categorical_accuracy: 0.8529 - val_loss: 0.3418 - val_categorical_accuracy: 0.8547\n",
      "Epoch 50/10000\n",
      "471/471 [==============================] - 7s 16ms/step - loss: 0.3330 - categorical_accuracy: 0.8563 - val_loss: 0.3567 - val_categorical_accuracy: 0.8458: 0.3325 - categorical_\n",
      "Epoch 51/10000\n",
      "471/471 [==============================] - 8s 16ms/step - loss: 0.3321 - categorical_accuracy: 0.8551 - val_loss: 0.3670 - val_categorical_accuracy: 0.8403\n",
      "Epoch 52/10000\n",
      "471/471 [==============================] - 8s 16ms/step - loss: 0.3322 - categorical_accuracy: 0.8550 - val_loss: 0.3453 - val_categorical_accuracy: 0.8507\n",
      "Epoch 53/10000\n",
      "471/471 [==============================] - 8s 16ms/step - loss: 0.3328 - categorical_accuracy: 0.8543 - val_loss: 0.3415 - val_categorical_accuracy: 0.8543\n",
      "Epoch 54/10000\n",
      "471/471 [==============================] - 8s 16ms/step - loss: 0.3313 - categorical_accuracy: 0.8543 - val_loss: 0.3381 - val_categorical_accuracy: 0.8566\n",
      "Epoch 55/10000\n",
      "471/471 [==============================] - 8s 16ms/step - loss: 0.3311 - categorical_accuracy: 0.8559 - val_loss: 0.3395 - val_categorical_accuracy: 0.8563- - ETA: 2s - l\n",
      "Epoch 56/10000\n",
      "471/471 [==============================] - 8s 16ms/step - loss: 0.3311 - categorical_accuracy: 0.8576 - val_loss: 0.3514 - val_categorical_accuracy: 0.8501orical_accuracy: 0.\n",
      "Epoch 57/10000\n",
      "471/471 [==============================] - 8s 16ms/step - loss: 0.3306 - categorical_accuracy: 0.8575 - val_loss: 0.3408 - val_categorical_accuracy: 0.8553\n",
      "Epoch 58/10000\n",
      "471/471 [==============================] - 8s 16ms/step - loss: 0.3304 - categorical_accuracy: 0.8554 - val_loss: 0.3426 - val_categorical_accuracy: 0.8524\n",
      "Epoch 59/10000\n",
      "471/471 [==============================] - 8s 16ms/step - loss: 0.3304 - categorical_accuracy: 0.8574 - val_loss: 0.3424 - val_categorical_accuracy: 0.854002 - categorical_accuracy\n",
      "Epoch 60/10000\n",
      "471/471 [==============================] - 8s 16ms/step - loss: 0.3298 - categorical_accuracy: 0.8572 - val_loss: 0.3425 - val_categorical_accuracy: 0.8543- loss: 0.3289 - catego - ETA: 1s\n",
      "Epoch 61/10000\n",
      "471/471 [==============================] - 8s 16ms/step - loss: 0.3298 - categorical_accuracy: 0.8553 - val_loss: 0.3682 - val_categorical_accuracy: 0.8403\n",
      "Epoch 62/10000\n",
      "471/471 [==============================] - 8s 17ms/step - loss: 0.3299 - categorical_accuracy: 0.8559 - val_loss: 0.3342 - val_categorical_accuracy: 0.8586\n",
      "Epoch 63/10000\n",
      "471/471 [==============================] - 9s 19ms/step - loss: 0.3290 - categorical_accuracy: 0.8557 - val_loss: 0.3432 - val_categorical_accuracy: 0.8534\n",
      "Epoch 64/10000\n",
      "471/471 [==============================] - 9s 19ms/step - loss: 0.3292 - categorical_accuracy: 0.8566 - val_loss: 0.3526 - val_categorical_accuracy: 0.84983305 - categorica - ETA: 2s - loss: 0.3307  - ETA: 1s - loss: 0.3 - ETA: 0s - loss: 0.3296 - categorica\n",
      "Epoch 65/10000\n",
      "471/471 [==============================] - 8s 18ms/step - loss: 0.3280 - categorical_accuracy: 0.8580 - val_loss: 0.3387 - val_categorical_accuracy: 0.8560\n",
      "Epoch 66/10000\n",
      "471/471 [==============================] - 8s 16ms/step - loss: 0.3281 - categorical_accuracy: 0.8567 - val_loss: 0.3342 - val_categorical_accuracy: 0.8576s - l - ETA: 4s - loss: 0.3265 - categorica - ETA: 3s - loss: 0.3254 - ca - ETA: 3s - loss: 0 - - ETA: 0s - loss: 0.3287 - categorical_ac - ETA: 0s - loss: 0.3279 - categorical_accura\n",
      "Epoch 67/10000\n",
      "471/471 [==============================] - 8s 16ms/step - loss: 0.3283 - categorical_accuracy: 0.8584 - val_loss: 0.3476 - val_categorical_accuracy: 0.8498\n",
      "Epoch 68/10000\n",
      "471/471 [==============================] - 8s 16ms/step - loss: 0.3276 - categorical_accuracy: 0.8583 - val_loss: 0.3479 - val_categorical_accuracy: 0.8491\n",
      "Epoch 69/10000\n",
      "471/471 [==============================] - 8s 16ms/step - loss: 0.3279 - categorical_accuracy: 0.8576 - val_loss: 0.3440 - val_categorical_accuracy: 0.8537\n",
      "Epoch 70/10000\n",
      "471/471 [==============================] - 8s 16ms/step - loss: 0.3273 - categorical_accuracy: 0.8566 - val_loss: 0.3457 - val_categorical_accuracy: 0.8511\n",
      "Epoch 71/10000\n",
      "471/471 [==============================] - 8s 16ms/step - loss: 0.3271 - categorical_accuracy: 0.8586 - val_loss: 0.3387 - val_categorical_accuracy: 0.8560\n",
      "Epoch 72/10000\n",
      "471/471 [==============================] - 8s 16ms/step - loss: 0.3268 - categorical_accuracy: 0.8587 - val_loss: 0.3395 - val_categorical_accuracy: 0.8560\n",
      "Epoch 73/10000\n",
      "471/471 [==============================] - 8s 16ms/step - loss: 0.3259 - categorical_accuracy: 0.8608 - val_loss: 0.3379 - val_categorical_accuracy: 0.8573\n",
      "Epoch 74/10000\n",
      "471/471 [==============================] - 8s 16ms/step - loss: 0.3260 - categorical_accuracy: 0.8588 - val_loss: 0.3449 - val_categorical_accuracy: 0.8511al_accura\n",
      "Epoch 75/10000\n",
      "471/471 [==============================] - 8s 16ms/step - loss: 0.3260 - categorical_accuracy: 0.8597 - val_loss: 0.3337 - val_categorical_accuracy: 0.8589\n",
      "Epoch 76/10000\n",
      "471/471 [==============================] - 8s 16ms/step - loss: 0.3255 - categorical_accuracy: 0.8582 - val_loss: 0.3448 - val_categorical_accuracy: 0.8520\n",
      "Epoch 77/10000\n",
      "471/471 [==============================] - 8s 16ms/step - loss: 0.3254 - categorical_accuracy: 0.8592 - val_loss: 0.3539 - val_categorical_accuracy: 0.8488\n",
      "Epoch 78/10000\n",
      "471/471 [==============================] - 8s 16ms/step - loss: 0.3254 - categorical_accuracy: 0.8602 - val_loss: 0.3430 - val_categorical_accuracy: 0.8537- ETA: 3s - loss: 0.330 - ETA: 2s - - E\n",
      "Epoch 79/10000\n",
      "471/471 [==============================] - 8s 16ms/step - loss: 0.3246 - categorical_accuracy: 0.8594 - val_loss: 0.3429 - val_categorical_accuracy: 0.8524\n",
      "Epoch 80/10000\n",
      "471/471 [==============================] - 8s 16ms/step - loss: 0.3248 - categorical_accuracy: 0.8592 - val_loss: 0.3499 - val_categorical_accuracy: 0.8498\n",
      "Epoch 81/10000\n",
      "471/471 [==============================] - 8s 16ms/step - loss: 0.3243 - categorical_accuracy: 0.8600 - val_loss: 0.3403 - val_categorical_accuracy: 0.8547\n",
      "Epoch 82/10000\n",
      "471/471 [==============================] - 8s 16ms/step - loss: 0.3239 - categorical_accuracy: 0.8598 - val_loss: 0.3374 - val_categorical_accuracy: 0.8583\n",
      "Epoch 83/10000\n",
      "471/471 [==============================] - 8s 16ms/step - loss: 0.3238 - categorical_accuracy: 0.8610 - val_loss: 0.3399 - val_categorical_accuracy: 0.8547\n",
      "Epoch 84/10000\n",
      "471/471 [==============================] - 8s 16ms/step - loss: 0.3233 - categorical_accuracy: 0.8606 - val_loss: 0.3319 - val_categorical_accuracy: 0.8583\n",
      "Epoch 85/10000\n",
      "471/471 [==============================] - 8s 16ms/step - loss: 0.3231 - categorical_accuracy: 0.8602 - val_loss: 0.3491 - val_categorical_accuracy: 0.8517\n",
      "Epoch 86/10000\n",
      "471/471 [==============================] - 8s 16ms/step - loss: 0.3224 - categorical_accuracy: 0.8616 - val_loss: 0.3318 - val_categorical_accuracy: 0.8586\n",
      "Epoch 87/10000\n",
      "471/471 [==============================] - 8s 16ms/step - loss: 0.3233 - categorical_accuracy: 0.8594 - val_loss: 0.3434 - val_categorical_accuracy: 0.8530\n",
      "Epoch 88/10000\n",
      "471/471 [==============================] - 8s 16ms/step - loss: 0.3230 - categorical_accuracy: 0.8612 - val_loss: 0.3385 - val_categorical_accuracy: 0.8579\n",
      "Epoch 89/10000\n"
     ]
    },
    {
     "name": "stdout",
     "output_type": "stream",
     "text": [
      "471/471 [==============================] - 8s 16ms/step - loss: 0.3224 - categorical_accuracy: 0.8598 - val_loss: 0.3382 - val_categorical_accuracy: 0.8576al_\n",
      "Epoch 90/10000\n",
      "471/471 [==============================] - 8s 17ms/step - loss: 0.3218 - categorical_accuracy: 0.8603 - val_loss: 0.3361 - val_categorical_accuracy: 0.8573A: 1s - loss: 0.3213 - categorical_accuracy - ETA: 0s - loss: 0\n",
      "Epoch 91/10000\n",
      "471/471 [==============================] - 8s 16ms/step - loss: 0.3216 - categorical_accuracy: 0.8607 - val_loss: 0.3360 - val_categorical_accuracy: 0.8586\n",
      "Epoch 92/10000\n",
      "471/471 [==============================] - 8s 16ms/step - loss: 0.3219 - categorical_accuracy: 0.8616 - val_loss: 0.3363 - val_categorical_accuracy: 0.8576\n",
      "Epoch 93/10000\n",
      "471/471 [==============================] - 7s 16ms/step - loss: 0.3211 - categorical_accuracy: 0.8616 - val_loss: 0.3365 - val_categorical_accuracy: 0.8586\n",
      "Epoch 94/10000\n",
      "471/471 [==============================] - 7s 16ms/step - loss: 0.3205 - categorical_accuracy: 0.8614 - val_loss: 0.3501 - val_categorical_accuracy: 0.8484- loss: 0.3165 - categorical_accuracy: 0. - ETA: 1s - los - ETA: 0s - loss: 0.3211 - categorical_\n",
      "Epoch 95/10000\n",
      "471/471 [==============================] - 8s 16ms/step - loss: 0.3204 - categorical_accuracy: 0.8629 - val_loss: 0.3339 - val_categorical_accuracy: 0.8583\n",
      "Epoch 96/10000\n",
      "471/471 [==============================] - 8s 16ms/step - loss: 0.3204 - categorical_accuracy: 0.8610 - val_loss: 0.3463 - val_categorical_accuracy: 0.8517\n",
      "Epoch 97/10000\n",
      "471/471 [==============================] - 7s 16ms/step - loss: 0.3201 - categorical_accuracy: 0.8622 - val_loss: 0.3355 - val_categorical_accuracy: 0.85860.3200 - categorical_accura\n",
      "Epoch 98/10000\n",
      "471/471 [==============================] - 7s 16ms/step - loss: 0.3198 - categorical_accuracy: 0.8622 - val_loss: 0.3362 - val_categorical_accuracy: 0.8579\n",
      "Epoch 99/10000\n",
      "471/471 [==============================] - 7s 16ms/step - loss: 0.3195 - categorical_accuracy: 0.8622 - val_loss: 0.3398 - val_categorical_accuracy: 0.8560\n",
      "Epoch 100/10000\n",
      "471/471 [==============================] - 8s 16ms/step - loss: 0.3197 - categorical_accuracy: 0.8640 - val_loss: 0.3325 - val_categorical_accuracy: 0.8609\n",
      "Epoch 101/10000\n",
      "471/471 [==============================] - 7s 16ms/step - loss: 0.3193 - categorical_accuracy: 0.8643 - val_loss: 0.3360 - val_categorical_accuracy: 0.8589\n",
      "Epoch 102/10000\n",
      "471/471 [==============================] - 7s 16ms/step - loss: 0.3191 - categorical_accuracy: 0.8628 - val_loss: 0.3480 - val_categorical_accuracy: 0.8507ss: 0.3184 - categorical_accuracy: 0. - ETA: 1s - loss: 0.3188 - categorical_accuracy: 0. - ETA: 1s - los\n",
      "Epoch 103/10000\n",
      "471/471 [==============================] - 7s 16ms/step - loss: 0.3183 - categorical_accuracy: 0.8631 - val_loss: 0.3340 - val_categorical_accuracy: 0.8589l - ETA: 2s - loss: 0.3163  - ETA: 2s - ETA: 0s - loss: 0.319\n",
      "Epoch 104/10000\n",
      "471/471 [==============================] - 8s 17ms/step - loss: 0.3188 - categorical_accuracy: 0.8642 - val_loss: 0.3521 - val_categorical_accuracy: 0.8488\n",
      "Epoch 105/10000\n",
      "471/471 [==============================] - 8s 16ms/step - loss: 0.3184 - categorical_accuracy: 0.8628 - val_loss: 0.3347 - val_categorical_accuracy: 0.8592\n",
      "Epoch 106/10000\n",
      "471/471 [==============================] - 7s 16ms/step - loss: 0.3178 - categorical_accuracy: 0.8637 - val_loss: 0.3317 - val_categorical_accuracy: 0.8606s - loss: 0.3143 - categori\n",
      "Epoch 107/10000\n",
      "471/471 [==============================] - 7s 16ms/step - loss: 0.3178 - categorical_accuracy: 0.8629 - val_loss: 0.3380 - val_categorical_accuracy: 0.8560ss: 0.3224 - categori - ETA: 3s - loss: 0.3215 - categorical_accuracy:  - ETA: 2s - ETA: 0s - loss: 0\n",
      "Epoch 108/10000\n",
      "471/471 [==============================] - 8s 16ms/step - loss: 0.3176 - categorical_accuracy: 0.8639 - val_loss: 0.3380 - val_categorical_accuracy: 0.85533190 -  - ETA: 1s - los\n",
      "Epoch 109/10000\n",
      "471/471 [==============================] - 7s 16ms/step - loss: 0.3170 - categorical_accuracy: 0.8648 - val_loss: 0.3492 - val_categorical_accuracy: 0.8511\n",
      "Epoch 110/10000\n",
      "471/471 [==============================] - 7s 16ms/step - loss: 0.3171 - categorical_accuracy: 0.8638 - val_loss: 0.3489 - val_categorical_accuracy: 0.8501\n",
      "Epoch 111/10000\n",
      "471/471 [==============================] - 7s 16ms/step - loss: 0.3170 - categorical_accuracy: 0.8644 - val_loss: 0.3330 - val_categorical_accuracy: 0.8589\n",
      "Epoch 112/10000\n",
      "471/471 [==============================] - 7s 16ms/step - loss: 0.3165 - categorical_accuracy: 0.8648 - val_loss: 0.3333 - val_categorical_accuracy: 0.8599\n",
      "Epoch 113/10000\n",
      "471/471 [==============================] - 7s 16ms/step - loss: 0.3161 - categorical_accuracy: 0.8634 - val_loss: 0.3306 - val_categorical_accuracy: 0.8599\n",
      "Epoch 114/10000\n",
      "471/471 [==============================] - 7s 16ms/step - loss: 0.3161 - categorical_accuracy: 0.8655 - val_loss: 0.3477 - val_categorical_accuracy: 0.8514\n",
      "Epoch 115/10000\n",
      "471/471 [==============================] - 7s 16ms/step - loss: 0.3153 - categorical_accuracy: 0.8654 - val_loss: 0.3386 - val_categorical_accuracy: 0.8553\n",
      "Epoch 116/10000\n",
      "471/471 [==============================] - 8s 16ms/step - loss: 0.3153 - categorical_accuracy: 0.8641 - val_loss: 0.3370 - val_categorical_accuracy: 0.8579 catego\n",
      "Epoch 117/10000\n",
      "471/471 [==============================] - 7s 16ms/step - loss: 0.3156 - categorical_accuracy: 0.8657 - val_loss: 0.3358 - val_categorical_accuracy: 0.8586\n",
      "Epoch 118/10000\n",
      "471/471 [==============================] - 8s 16ms/step - loss: 0.3148 - categorical_accuracy: 0.8649 - val_loss: 0.3350 - val_categorical_accuracy: 0.8599ical_accuracy: 0. - ETA: 0s - loss: 0.3166 - \n",
      "Epoch 119/10000\n",
      "471/471 [==============================] - 7s 16ms/step - loss: 0.3148 - categorical_accuracy: 0.8652 - val_loss: 0.3601 - val_categorical_accuracy: 0.8439\n",
      "Epoch 120/10000\n",
      "471/471 [==============================] - 8s 16ms/step - loss: 0.3150 - categorical_accuracy: 0.8664 - val_loss: 0.3316 - val_categorical_accuracy: 0.8592\n",
      "Epoch 121/10000\n",
      "471/471 [==============================] - 8s 16ms/step - loss: 0.3144 - categorical_accuracy: 0.8661 - val_loss: 0.3365 - val_categorical_accuracy: 0.8583\n",
      "Epoch 122/10000\n",
      "471/471 [==============================] - 7s 16ms/step - loss: 0.3143 - categorical_accuracy: 0.8652 - val_loss: 0.3416 - val_categorical_accuracy: 0.8547\n",
      "Epoch 123/10000\n",
      "471/471 [==============================] - 8s 16ms/step - loss: 0.3139 - categorical_accuracy: 0.8656 - val_loss: 0.3314 - val_categorical_accuracy: 0.8592\n",
      "Epoch 124/10000\n",
      "471/471 [==============================] - 8s 16ms/step - loss: 0.3136 - categorical_accuracy: 0.8661 - val_loss: 0.3390 - val_categorical_accuracy: 0.8553\n",
      "Epoch 125/10000\n",
      "471/471 [==============================] - 7s 16ms/step - loss: 0.3133 - categorical_accuracy: 0.8675 - val_loss: 0.3334 - val_categorical_accuracy: 0.8579: 0.3133 - categorical_accuracy: 0. - ETA\n",
      "stop  12:39:46\n",
      "Took =  0:16:08.235791\n"
     ]
    }
   ],
   "source": [
    "history_base = FitModel(model_base)"
   ]
  },
  {
   "cell_type": "code",
   "execution_count": 43,
   "metadata": {},
   "outputs": [
    {
     "data": {
      "image/png": "[encoded data removed]",
      "text/plain": [
       "<Figure size 720x360 with 2 Axes>"
      ]
     },
     "metadata": {
      "needs_background": "light"
     },
     "output_type": "display_data"
    }
   ],
   "source": [
    "PlotModelFitHistory(history_base)"
   ]
  },
  {
   "cell_type": "code",
   "execution_count": 44,
   "metadata": {},
   "outputs": [],
   "source": [
    "(test_y, pred_y) = PredictModel(model_base)"
   ]
  },
  {
   "cell_type": "code",
   "execution_count": 45,
   "metadata": {},
   "outputs": [
    {
     "name": "stdout",
     "output_type": "stream",
     "text": [
      "Accuracy score:  0.8686180879149416\n",
      "F1 score:  0.8480960646895481\n",
      "              precision    recall  f1-score   support\n",
      "\n",
      "           0       0.86      0.95      0.90     44983\n",
      "           1       0.89      0.71      0.79     24334\n",
      "\n",
      "    accuracy                           0.87     69317\n",
      "   macro avg       0.88      0.83      0.85     69317\n",
      "weighted avg       0.87      0.87      0.86     69317\n",
      "\n"
     ]
    }
   ],
   "source": [
    "ShowStats('Baseline', test_y, pred_y)"
   ]
  },
  {
   "cell_type": "code",
   "execution_count": 46,
   "metadata": {},
   "outputs": [
    {
     "data": {
      "image/png": "[encoded data removed]",
      "text/plain": [
       "<Figure size 432x288 with 2 Axes>"
      ]
     },
     "metadata": {
      "needs_background": "light"
     },
     "output_type": "display_data"
    }
   ],
   "source": [
    "PlotConfusionMatrix(test_y, pred_y)"
   ]
  },
  {
   "cell_type": "markdown",
   "metadata": {},
   "source": [
    "### Observation\n",
    "* Train vs Validation loss shows over fitting\n",
    "* Instability in accuracy could indicate too high learning rate\n",
    "* Results show low detection of cancorous images - recall at 66%\n",
    "* Model not predicting well and is overfitting - so try regularisation or dropout"
   ]
  },
  {
   "cell_type": "markdown",
   "metadata": {},
   "source": [
    "## 2. Base Model with regularisation\n",
    "To reduce overfitting try regularisation"
   ]
  },
  {
   "cell_type": "code",
   "execution_count": 47,
   "metadata": {
    "scrolled": true
   },
   "outputs": [],
   "source": [
    "# Use default lambda - note for assignment only. In real this might be in loop to determine best value.\n",
    "reg_lambda = 0.01\n",
    "\n",
    "model_reg = tf.keras.Sequential([\n",
    "    tf.keras.layers.Flatten(input_shape=INPUT_DIM),\n",
    "    tf.keras.layers.Dense(256, activation='relu', kernel_regularizer=tf.keras.regularizers.l2(reg_lambda)),\n",
    "    tf.keras.layers.Dense(OUTPUT_CLASSES, activation='sigmoid', kernel_regularizer=tf.keras.regularizers.l2(reg_lambda))\n",
    "])"
   ]
  },
  {
   "cell_type": "code",
   "execution_count": 48,
   "metadata": {
    "scrolled": true
   },
   "outputs": [
    {
     "name": "stdout",
     "output_type": "stream",
     "text": [
      "Model: \"sequential_1\"\n",
      "_________________________________________________________________\n",
      "Layer (type)                 Output Shape              Param #   \n",
      "=================================================================\n",
      "flatten_1 (Flatten)          (None, 2187)              0         \n",
      "_________________________________________________________________\n",
      "dense_2 (Dense)              (None, 256)               560128    \n",
      "_________________________________________________________________\n",
      "dense_3 (Dense)              (None, 2)                 514       \n",
      "=================================================================\n",
      "Total params: 560,642\n",
      "Trainable params: 560,642\n",
      "Non-trainable params: 0\n",
      "_________________________________________________________________\n"
     ]
    }
   ],
   "source": [
    "model_reg.summary()"
   ]
  },
  {
   "cell_type": "code",
   "execution_count": 49,
   "metadata": {},
   "outputs": [],
   "source": [
    "CompileModel(model_reg)"
   ]
  },
  {
   "cell_type": "code",
   "execution_count": 50,
   "metadata": {},
   "outputs": [
    {
     "name": "stdout",
     "output_type": "stream",
     "text": [
      "start  12:41:18\n",
      "Epoch 1/10000\n",
      "471/471 [==============================] - 9s 19ms/step - loss: 5.0046 - categorical_accuracy: 0.7486 - val_loss: 4.8078 - val_categorical_accuracy: 0.8173ical_accura - ETA: 4s - loss: 5.1632 - categorica - ETA: 4s - loss: 5.1 - ETA: 3s - loss: 5.1050 - categorical_accura - ETA: 3s - loss: 5.0955 - categorical_accuracy: 0.71 - ETA: 3s - loss: 5.0929 - categorical_accura - ETA: 2s - loss: 5.0830 - categorical_accuracy - ETA: 2s - loss: 5.0743 - categorical_accuracy: 0.72 - ETA: 2s - loss: 5.0726 - categorical_ac - ETA: 2s - ETA: 0s - loss: 5.0258 - categorical_accuracy:  - ETA: 0s - loss: 5.0208 - catego\n",
      "Epoch 2/10000\n",
      "471/471 [==============================] - 9s 18ms/step - loss: 4.6692 - categorical_accuracy: 0.8232 - val_loss: 4.5402 - val_categorical_accuracy: 0.8324 6s - loss: 4.7911 - categorical_accuracy:  - ETA: 6s - loss: 4.7879 - catego - ETA: 5s - loss: 4.7796 - categorical_accuracy: 0. - ETA: 5s - l - ETA: 4s - loss: 4.7465 - categorica - ETA: 3s - loss: 4.7351  - ETA: 2s - loss: 4.7210 - categorical_accuracy:  - ETA: 2s - loss: 4.7173  - ETA: 1s - loss: 4.6990 - categorical_accura - ETA: 1s - loss: 4.6922 - categorical_accuracy: 0.82 - ETA: 1s - loss: 4.6916 - categorical_accura - ETA: 1s - loss: 4.6865 - categorical_accuracy: 0. - ETA: 0s - loss: 4.6844 - categorical_accuracy: 0. - ETA: 0s - loss: 4.6\n",
      "Epoch 3/10000\n",
      "471/471 [==============================] - 9s 18ms/step - loss: 4.4266 - categorical_accuracy: 0.8333 - val_loss: 4.3389 - val_categorical_accuracy: 0.8131s - loss: 4.5065 - categorical_accu - ETA: 4s - loss: 4.4981 - categorical_accuracy - ETA: 4s - loss: 4.4957 - categorical_accuracy: 0.82 - ETA: 4s - loss: 4.4950 - categorical_ac - ETA: 3s - loss: 4.4868 - categori - ETA: 3s - ETA: 1s - loss: 4.4539 - categorical_ - ETA: 1s - loss: 4.4457 - categorical_accuracy:  - ETA: 1s - loss: 4.4426 - cate - ETA: 0s - loss: 4.4319 - categorical_accu\n",
      "Epoch 4/10000\n",
      "471/471 [==============================] - 9s 18ms/step - loss: 4.2110 - categorical_accuracy: 0.8373 - val_loss: 4.1145 - val_categorical_accuracy: 0.8393s - loss: 4.2927 - categorical_accuracy - ETA: 6s - loss: 4.2861 - categorical_accuracy: 0.84 - ETA: 6s - loss: 4.2821 - categorical_accuracy:  - ETA: 6s - loss: 4.2851 -  - ETA - ETA: 3s - loss: - ETA: 2s - loss: 4.2510 - categorical_accuracy: 0. - ETA: 2s - loss: 4.2509 - categorical_accuracy - ETA: 2s - loss: 4.2480 - categorical_accu - ETA: 2s - loss: 4.2399 - categorical_accuracy: 0. - ETA:  - ETA: 0s - loss: 4.2169 - categorical_ac - ETA: 0s - loss: 4.2121 - categorical_accuracy: 0.83 - ETA: 0s - loss: 4.2113 - categorical_accuracy: 0.83\n",
      "Epoch 5/10000\n",
      "471/471 [==============================] - 8s 18ms/step - loss: 4.0150 - categorical_accuracy: 0.8417 - val_loss: 3.9368 - val_categorical_accuracy: 0.83180761 - categorical_accu - ETA: 4s - loss: 4.0701 - categorical_ - ETA: 3s - loss: 4.0657 - categorical_ac - ETA: 3s - los - ETA: 1s - loss: 4.0420 - ca - ETA: 1s - loss: 4.0293 - categorical_accuracy: 0. - ETA: 1s - loss: 4.0276 - categorical_accuracy: 0.84 - ETA: 0s - loss: 4.0\n",
      "Epoch 6/10000\n",
      "471/471 [==============================] - 9s 18ms/step - loss: 3.8345 - categorical_accuracy: 0.8445 - val_loss: 3.7398 - val_categorical_accuracy: 0.85243.8761 - categorical_ac - ETA: 3s - loss: 3.8717 - cate - ETA: 2s - loss: - ETA: 1s - loss: 3.8530 - categorical_accuracy: 0. - ETA:  - ETA: 0s - loss: 3.8357 - categorical_accuracy: 0.84 - ETA: 0s - loss: 3.8345 - categorical_accuracy: 0.84\n",
      "Epoch 7/10000\n",
      "471/471 [==============================] - 9s 18ms/step - loss: 3.6671 - categorical_accuracy: 0.8453 - val_loss: 3.6336 - val_categorical_accuracy: 0.8157A: 4s - loss: 3.7156 - categorical_accuracy: 0. - ETA: 4s - loss: - ETA: 3s - loss: 3.7 - ETA: 2s - loss: 3.6906 - categorical_accuracy - ETA: 2s - loss: 3.6878 - categorical_accuracy - ETA: 1s - loss: 3.6854 - ca - ETA: 1s - loss: 3.6772 - categorical_accuracy:  - ETA: 0s - loss: 3.6753 - \n",
      "Epoch 8/10000\n",
      "471/471 [==============================] - 9s 18ms/step - loss: 3.5111 - categorical_accuracy: 0.8433 - val_loss: 3.4288 - val_categorical_accuracy: 0.85143.5698 - categorical_accuracy: 0.84 - ETA: 5s - loss: 3.5697 - categorical_accuracy: 0.84 - ETA: 5s - loss: 3.5686  - ETA: 4s - loss: 3.5599 - categorical_accura - ETA: 3s - loss: 3.5566 - categorical_accura - ETA: 3s - loss: 3.5515 - categori - ETA: 3s - loss: 3.5422 - categorical_ - ETA: 2s - loss: 3.5352 - categorical_accuracy: 0. - ETA: 2s - loss: 3.5337 - categorical_ac - ETA: 1s - loss: 3.5280 - categorical_accuracy: 0. - ETA: 1s - loss: 3.5270 - categorical_accu - ETA: 1s - loss: 3.5229 - cate - ETA: 0s - loss: 3.5171 - categorical_accuracy - ETA: 0s - loss: 3.5149 - categorica\n",
      "Epoch 9/10000\n",
      "471/471 [==============================] - 9s 19ms/step - loss: 3.3626 - categorical_accuracy: 0.8468 - val_loss: 3.3128 - val_categorical_accuracy: 0.8334: 3.4320 - categorical_accuracy: 0.84 - ETA: 6s - loss: 3.4348 - categorical_ac - ETA: 5s - loss: 3.4245 - categorical_ac - ETA: 5s - loss: 3.4145 -  - ETA: 4s - loss: 3.4012 - categorical_accura - ETA: 4s - loss: 3.4006 - categorical_accuracy: 0.85 - ETA: 4s - l - ETA: 2s - loss: 3.3888 - categori - ETA: 2s - ETA: 0s - los\n",
      "Epoch 10/10000\n",
      "471/471 [==============================] - 8s 18ms/step - loss: 3.2265 - categorical_accuracy: 0.8439 - val_loss: 3.1671 - val_categorical_accuracy: 0.8422 - categorical_accuracy - ETA: 5s - loss: 3.2717 - categorical_accuracy - ETA: 5s - loss: - ETA: 2s - loss: 3.2464 - categorical_accu - ETA: 2s - loss: 3.2435 - categorica - ETA: 1s - loss: 3.2387 - categorical_accuracy: 0.84 - ETA: 1s - loss: 3.2375 - categorical_accura - ETA: 1s - loss: 3.2372 - categorical_accu - ETA: 0s - loss: 3.2337 - categorical_ac - ETA: 0s - loss: 3.2305 - categorical_\n",
      "Epoch 11/10000\n",
      "471/471 [==============================] - 9s 18ms/step - loss: 3.0953 - categorical_accuracy: 0.8460 - val_loss: 3.0672 - val_categorical_accuracy: 0.8239s - loss: 3.1365 - categorical_accuracy: 0.84 - ETA: 4s - loss: 3 - ETA: 3s - loss: 3.1280 - categorical_accura - ETA: 3s - loss: 3.1246 - categorical_accuracy: 0.84 - ETA: 3s - loss: 3.1234 - catego - ETA: 2s - ETA: 1s - loss: 3.1051 - cate - ETA: 0s - loss: 3.0988 - categorical_\n",
      "Epoch 12/10000\n",
      "471/471 [==============================] - 9s 18ms/step - loss: 2.9747 - categorical_accuracy: 0.8456 - val_loss: 2.9111 - val_categorical_accuracy: 0.8511atego - ETA: 5s - loss: 3.0145 - categorical_accuracy: 0. - ETA: 4s - loss: 3.0159 - catego - ETA: 4s - loss: 3.0103 - categorica - ETA: 3s - loss: 3.0060 - categorical_accuracy: 0. - ETA: 3s - loss: 3.0051 - categorica - ETA: 3s - loss: 3.0007 - categorical_accuracy: 0.84 - ETA: 3s - loss: 2.9997 - categorical_ac - ETA: 2s - loss: 2.9975 - categori - ETA: 1s - loss: 2.9905 - categorical_ - ETA: 1s - loss: 2.9877 - categorical_accuracy: 0. - ETA: 1s - loss: 2.9867 - categorical_accuracy - ETA: 1s - loss: 2.9846 - categorical_accu - ETA: 0s - loss: 2.9810 - categorical_accura - ETA: 0s - loss: 2.9783 - categorical_accuracy: 0.84 - ETA: 0s - loss: 2.9781 - categorical_accu - ETA: 0s - loss: 2.9755 - categorical_accuracy: 0.84\n",
      "Epoch 13/10000\n",
      "471/471 [==============================] - 9s 18ms/step - loss: 2.8590 - categorical_accuracy: 0.8460 - val_loss: 2.8057 - val_categorical_accuracy: 0.8442al_accuracy: 0. - ETA: 4s - l - ETA: 2s - loss: 2.8786 - categorical_accuracy - ETA: 2s - loss: 2.8764 \n",
      "Epoch 14/10000\n",
      "471/471 [==============================] - 9s 18ms/step - loss: 2.7510 - categorical_accuracy: 0.8460 - val_loss: 2.7206 - val_categorical_accuracy: 0.8354: - ETA: 1s - loss: 2.7632 - categorical_accuracy: 0.84 - ETA: 1s - loss: 2.7623 - categorical_accuracy: 0.84 - ETA: 1s - loss: 2.762 - ETA: 0s - loss: 2.7560 - ca\n",
      "Epoch 15/10000\n",
      "471/471 [==============================] - 9s 18ms/step - loss: 2.6487 - categorical_accuracy: 0.8464 - val_loss: 2.5980 - val_categorical_accuracy: 0.8504s - loss: 2.6864 - catego - ETA: 4s - loss: 2.6791 - categorical_accuracy - ETA: 4s - loss: 2.6752 - categorical_accu - ETA: 3s - loss: 2.6709 - categorical_ac - ETA: 3s - loss: 2.6692 - ca - ETA: 2s - loss: 2.6642 - categorical_accuracy: 0.84 - ETA: 2s - loss: 2.6636 - categorical_accuracy: 0.84 - ETA: 2s - loss: 2 - ETA: 1s - loss: 2.6557 - categorical_ - ETA: 0s - loss: 2.6533 - categorical_accu - ETA: 0s - loss: 2.6506 - categorical_ac\n",
      "Epoch 16/10000\n",
      "471/471 [==============================] - 9s 18ms/step - loss: 2.5531 - categorical_accuracy: 0.8455 - val_loss: 2.5490 - val_categorical_accuracy: 0.8229: 2.5791 - categorical_accuracy: 0.84 - ETA: 3s - loss: 2.5796 - categorical_accuracy: 0. - ETA: 3s - loss: 2.5794 - catego - ETA: 2s - loss: 2.5771 - categorical_accuracy: 0. - ETA: 2s - loss: 2.5773 - categorica - ETA: 0s - loss: 2.5576 - categorical_accuracy: 0. - ETA: 0s - loss: 2.5572 - categorical_\n",
      "Epoch 17/10000\n",
      "471/471 [==============================] - 8s 18ms/step - loss: 2.4616 - categorical_accuracy: 0.8462 - val_loss: 2.4256 - val_categorical_accuracy: 0.8432- loss: 2.4999 - cate - ETA: 5s - loss: 2.5136 - categorical_accuracy: 0. - ETA: 5s - loss: 2.5072 - ca - ETA: 5s - loss: 2.4986 - categorical_accuracy: 0. - ETA: 4s - loss: 2.4968 - categorica - ETA: 0s - loss: 2.4666 - categorical_accura - ETA: 0s - loss: 2.4649 - categorical_accuracy: 0.84 - ETA: 0s - loss: 2.4646 - categori\n",
      "Epoch 18/10000\n",
      "471/471 [==============================] - 8s 18ms/step - loss: 2.3752 - categorical_accuracy: 0.8463 - val_loss: 2.3543 - val_categorical_accuracy: 0.8373A: 4s - loss: 2.4037 - categorical_accuracy: 0. - ETA: 4s - loss: 2.4039 - categorical_accuracy: 0. - ETA: 4s - loss: 2 - ETA: 3s - loss: 2 - ETA: 2s - loss: 2.3903 - categorical_accuracy: 0.84 - ETA: 2s - loss: 2.3905 - categorical_accuracy:  - ETA: 2s - loss: 2.3905 - catego - ETA: 1s - loss: 2.3842 - categori - ETA: 0s - loss: 2.3807 - categorical_accuracy - ETA: 0s - loss: 2.3803 - categorical_accuracy - ETA: 0s - loss: 2.3788 - categorica\n",
      "Epoch 19/10000\n",
      "471/471 [==============================] - 8s 18ms/step - loss: 2.2940 - categorical_accuracy: 0.8452 - val_loss: 2.2653 - val_categorical_accuracy: 0.8426 categorical_accuracy: 0.84 - ETA: 6s - loss: 2.3298  - ETA: 1s - loss: 2.3026 - categorical_accura - ETA: 1s - loss: 2.3008 - categorical_ - ETA: 1s - loss: 2.2980 -  - ETA: 0s - loss: 2.2941 - categorical_accuracy: 0.84 - ETA: 0s - loss: 2.2945 - categorical_accuracy: 0. - ETA: 0s - loss: 2.2939 - categorical_accuracy: 0.84\n",
      "Epoch 20/10000\n",
      "471/471 [==============================] - 8s 18ms/step - loss: 2.2172 - categorical_accuracy: 0.8462 - val_loss: 2.1871 - val_categorical_accuracy: 0.8439ss: 2.2510 - categorical_accuracy:  - ETA: 5s - loss: 2.2509  - ETA: 4s - loss: 2.2452 - categorical_accuracy: 0. - ETA - ETA: 3s - loss: 2.2383 - categorical_accuracy - ETA: 2s - loss: 2.2365 - categorical_accu - ETA: 2s - loss: 2.2333 - categorical_accuracy: 0. - ETA: 2s - loss: 2.2332 - categorica - ETA: 1s - loss: 2.2270 - categorical_accuracy - ETA: 1s - loss: 2.2248 - categorical_accura - ETA: 1s - loss: 2.2233 - categori - ETA: 0s - loss: 2.2210 - categorical_accuracy - ETA: 0s - loss: 2.2192 - categorical_accuracy - ETA: 0s - loss: 2.2179 - categorical_accuracy: \n",
      "Epoch 21/10000\n",
      "471/471 [==============================] - 8s 18ms/step - loss: 2.1438 - categorical_accuracy: 0.8453 - val_loss: 2.1166 - val_categorical_accuracy: 0.8435loss: 2.1745 - categorical_accu - - ETA: 4s - loss: 2.1708 - categorical_accura - ETA: 3s - loss: 2.1674 - categorical_accuracy: 0. - ETA: 3s - loss: 2.1670 - categorical_ - ETA: 3s - loss: 2.1665 - categorical_accuracy: 0.84 - ETA: 3s - loss: 2.1656 - categorical_accuracy - ETA:  - ETA: 1s - loss: 2.1513 - categorical_accura - ETA: 1s - loss: 2.1511 - categorical_accuracy: 0.84 - ETA: 1s - loss: 2.1515 - categorica - ETA: 0s - loss: 2.1478 - categorical_accu - ETA: 0s - loss: 2.1465 - categorical_accuracy:  - ETA: 0s - loss: 2.1449 - categorical_accuracy: \n",
      "Epoch 22/10000\n",
      "471/471 [==============================] - 8s 18ms/step - loss: 2.0740 - categorical_accuracy: 0.8483 - val_loss: 2.0476 - val_categorical_accuracy: 0.8439s - loss: 2.0947 - categorical_accuracy: 0.84 - ETA: 4s - loss: 2.0947 - categorical_accuracy - ETA: 4s - loss: 2.0927 - categorical_accuracy: 0. - ETA: 4s - loss: 2.0910 - categorical_accuracy: 0.84 - ETA: 4s - loss: 2.0909 - catego - ETA: 1s - loss: 2.0787 - catego - ETA: 1s - loss: 2.0770 - cate - ETA: 0s - loss: 2.0751 - categorical_accu\n",
      "Epoch 23/10000\n",
      "471/471 [==============================] - 9s 18ms/step - loss: 2.0086 - categorical_accuracy: 0.8478 - val_loss: 1.9782 - val_categorical_accuracy: 0.849199 - categorical_accuracy:  - ETA: 3s - loss: 2.0199 - categorical_accuracy - ETA: 3s - loss: 2.0191 - categorical_ac - ETA: 3s - loss: 2.0174  - ETA: 2s - loss: 2.0198 - categorical_accuracy:  - ETA: 2s - loss: 2.0177 - categorical_\n",
      "Epoch 24/10000\n",
      "471/471 [==============================] - 9s 18ms/step - loss: 1.9469 - categorical_accuracy: 0.8479 - val_loss: 1.9306 - val_categorical_accuracy: 0.8432 - categorical_accuracy: 0. - ETA: 4s - loss: 1.9676 - catego - ETA: 4s - - ETA: 2s - los - ETA: 1s - los - ETA: 0s - loss: 1.9476 - categorical_accuracy: 0.\n",
      "Epoch 25/10000\n",
      "471/471 [==============================] - 8s 18ms/step - loss: 1.8878 - categorical_accuracy: 0.8477 - val_loss: 1.8527 - val_categorical_accuracy: 0.8540 5s - loss: 1.9092 - categorical_accuracy: 0. - ETA: 5s - loss: 1.9087 - categorical_accuracy:  - ETA: 5s - loss: 1.9087 - categorical_accuracy: 0.84 - ETA:  - ETA: 2s - loss: 1 - ETA: 1s - loss: 1.8928 - categorical_accu - ETA: 0s - loss: 1.8899 - categorical_accuracy: 0. - ETA: 0s - loss: 1.8898 - categorical_ac - ETA: 0s - loss: 1.8897 - categorical_accuracy:  - ETA: 0s - loss: 1.8880 - categorical_accuracy: 0.84\n",
      "Epoch 26/10000\n",
      "471/471 [==============================] - 8s 18ms/step - loss: 1.8313 - categorical_accuracy: 0.8495 - val_loss: 1.8093 - val_categorical_accuracy: 0.8455 categorical_accu - ETA: 5s - loss: 1.8505 - categorical_accuracy:  - ETA: 5s - loss: 1.8449 - categorical_ - ETA: 5s - loss: 1.8437 - categorical_accu - ETA: 4s - loss: 1.8388 - catego - ETA: 4s - loss: 1.8441 - categorical_accuracy: 0.85 - ETA: 4s - loss: 1.8438 - ca - ETA: 3s - loss: 1.8395 - categorical_accu - ETA: 3s - loss: 1.8393 - categorical_ac - ETA: 2s - loss: 1.8402 - cate - ETA: 1s - loss: 1.8407 - categorical_accuracy\n",
      "Epoch 27/10000\n",
      "471/471 [==============================] - 8s 18ms/step - loss: 1.7782 - categorical_accuracy: 0.8488 - val_loss: 1.7517 - val_categorical_accuracy: 0.8524s - loss: 1.8126 - categorical_accuracy: 0.84 - ETA: 6s - loss: 1.8094 - ca - ETA: 5s - loss: 1.8029 - cate - ETA: 4s - loss: 1.8035 - categorical_accuracy - ETA: 4s - loss: 1.7994 - categorical_ - ETA: 4s - loss: 1.7980  - ETA: 1s - loss: 1.7885 - categorical_accura - ETA: 1s - loss: 1.7865 - categorical_accuracy: 0.84 - ETA: 1s - loss: 1.7866 - cate - ETA: 0s - loss: 1.7798 - categorical_accuracy: 0. - ETA: 0s - loss: 1.7794 - categorical_accuracy - ETA: 0s - loss: 1.7786 - categorical_accuracy: 0.84 - ETA: 0s - loss: 1.7781 - categorical_accuracy: \n",
      "Epoch 28/10000\n",
      "471/471 [==============================] - 9s 18ms/step - loss: 1.7277 - categorical_accuracy: 0.8473 - val_loss: 1.7125 - val_categorical_accuracy: 0.8448 6s - loss: 1.7518 - categorical_accuracy: 0. - ETA: 6s - loss: 1.7548 - cate - ETA: 5s - loss: 1.731 - ETA: 4s - loss: 1.7323 - categorical_accuracy - ETA: 4s - loss: 1.7305 - categorical_accuracy:  - ETA: 4s - loss: 1.732 - ETA: 3s - loss: 1.730 - ETA: 2s - loss: 1.7329 - categorical_accuracy: 0.84 - ETA: 2s - loss: 1.7326 - categorical_accura - ETA: 2s - loss: 1.7319  - ETA: 1s - loss: 1.7312 - categorical_accuracy: 0. - ETA: 1s - loss: 1.7309 - categori - ETA: 0s - loss: 1.7284 - categorical_accura - ETA: 0s - loss: 1.7282 - categorical_ac\n",
      "Epoch 29/10000\n"
     ]
    },
    {
     "name": "stdout",
     "output_type": "stream",
     "text": [
      "471/471 [==============================] - 8s 18ms/step - loss: 1.6795 - categorical_accuracy: 0.8499 - val_loss: 1.6807 - val_categorical_accuracy: 0.8370loss: 1.6883 - categorical_accura - ETA: 2s - loss: 1.6883 - categorical_accu - ETA: 1s - loss: 1.6865 - categorical_accuracy:  - ETA: 1s - loss: 1.6853 - categorical_accu - ETA: 1s - loss: 1 - ETA: 0s - loss: 1.6815 - categorical_accuracy: 0.84 - ETA: 0s - loss: 1.6806 - categorical_accuracy: \n",
      "Epoch 30/10000\n",
      "471/471 [==============================] - 8s 18ms/step - loss: 1.6339 - categorical_accuracy: 0.8464 - val_loss: 1.6250 - val_categorical_accuracy: 0.8422- ETA: 3s - loss: 1.6519 -  - ETA: 2s - loss: 1.6477 - categorical_accuracy: 0.84 - ETA: 2s - loss: 1 - ETA: 1s - loss: 1.6408 - categorical_accuracy: 0.84 - ETA: 1s - loss: 1.6401 - categorical_accuracy: 0.84 - ETA: 1s - loss: 1.6398 - categorical_accuracy: 0.84 - ETA: 1s - loss: 1.6395 - categorical_accuracy: 0. - ETA: 1s - loss: 1.6381 - ca - ETA: 0s - loss: 1.6345 - categorical_\n",
      "Epoch 31/10000\n",
      "471/471 [==============================] - 8s 18ms/step - loss: 1.5901 - categorical_accuracy: 0.8488 - val_loss: 1.5710 - val_categorical_accuracy: 0.8514s - l - ETA: 3s - loss: 1.6063 - categorical_accuracy: 0.84 - ETA: 3s - loss: 1.6056 - categorical_accuracy: 0. - ETA: 2s - loss: 1.605 - ETA: 1s - loss: 1.5984 - categorical_accuracy: 0.84 - ETA: 1s - loss: 1.5989 - categorical_ - ETA: 1s - loss: 1.5971 - catego - ETA: 0s - loss: 1.5928 - categorical_accu - ETA: 0s - loss: 1.5914 - categorical_accuracy: 0.84 - ETA: 0s - loss: 1.5917 - categorical_accuracy - ETA: 0s - loss: 1.5904 - categorical_accuracy: 0.84\n",
      "Epoch 32/10000\n",
      "471/471 [==============================] - 8s 18ms/step - loss: 1.5487 - categorical_accuracy: 0.8489 - val_loss: 1.5284 - val_categorical_accuracy: 0.8524 - categorical_accuracy: 0.85 - ETA: 6s - loss: 1.5586 - categorica - ETA: 5s - loss: 1.5666  - ETA: 4s - loss: 1.5605 - categorical_accuracy: 0.85 - ETA - ETA: 1s - loss: 1.5539 - categorical_ac - ETA: 1s - loss: 1.5536 - cate - ETA: 0s - loss: 1.5499 - categorical_\n",
      "Epoch 33/10000\n",
      "471/471 [==============================] - 8s 18ms/step - loss: 1.5091 - categorical_accuracy: 0.8483 - val_loss: 1.5030 - val_categorical_accuracy: 0.84321.5126 - categorical_accuracy: 0.85 - ETA: 5s - loss: 1.5097 - categorical_ - ETA: 5s - loss: 1.5043 - cate - ETA: 4s - loss: 1.5084 - categorical_accuracy - ETA: 4s - loss: 1.510 - ETA: 3s - l - ETA: 2s - loss: 1.5142 - categorical_ac - ETA: 1s - loss: 1.5159 - categorica - ETA: 1s - loss: 1.5153 - categorical_accuracy: 0. - ETA: \n",
      "Epoch 34/10000\n",
      "471/471 [==============================] - 8s 18ms/step - loss: 1.4723 - categorical_accuracy: 0.8474 - val_loss: 1.4553 - val_categorical_accuracy: 0.8514\n",
      "Epoch 35/10000\n",
      "471/471 [==============================] - 8s 18ms/step - loss: 1.4361 - categorical_accuracy: 0.8497 - val_loss: 1.4310 - val_categorical_accuracy: 0.8432ategorical_accuracy - ETA: 1s - loss: 1.4397  - ETA: 0s - loss: 1.4391 - categori\n",
      "Epoch 36/10000\n",
      "471/471 [==============================] - 8s 18ms/step - loss: 1.4018 - categorical_accuracy: 0.8481 - val_loss: 1.3962 - val_categorical_accuracy: 0.8445ss: 1.4121 - cate - ETA: 1s - loss: 1.4075 - categorical_ - ETA: 1s - loss: 1\n",
      "Epoch 37/10000\n",
      "471/471 [==============================] - 8s 18ms/step - loss: 1.3692 - categorical_accuracy: 0.8493 - val_loss: 1.3819 - val_categorical_accuracy: 0.8376loss: 1.3790 - categorical_accuracy - ETA: 5s - loss: 1.3713 - categorical_accuracy:  - ETA: 5s - loss: 1.3723 - categorical_accuracy:  - ETA: 5s - loss: 1.3687 - categorical_ac - ETA: 4s - loss: 1.3690  - ETA: 3s - loss: 1.3728 - categorical_accuracy: 0.85 - ETA: 3s - los - ETA: 2s - loss: 1.3697 - categorical_accuracy: 0.85 - ETA: 2s - loss: 1.3700  - ETA: 1s - loss: 1.3737  - ETA: 0s - loss: 1.3685 - cate\n",
      "Epoch 38/10000\n",
      "471/471 [==============================] - 8s 18ms/step - loss: 1.3377 - categorical_accuracy: 0.8468 - val_loss: 1.3256 - val_categorical_accuracy: 0.8527ategorical_accuracy - ETA: 4s - loss: 1.3489 - categorical_accuracy: 0. - ETA: 4s - loss: 1.3507 - categorical_ac - ETA: 3s - loss: 1.3507 - categorical_accuracy: 0.84 - ETA: 3s - - ETA: 2s - loss: 1.3440 -  - ETA: 1s - loss: 1.3408 - categorical_accuracy: 0.84 - ETA: 1s - loss: 1.3415 - categorical_accuracy: 0.84 - E\n",
      "Epoch 39/10000\n",
      "471/471 [==============================] - 8s 18ms/step - loss: 1.3091 - categorical_accuracy: 0.8491 - val_loss: 1.2980 - val_categorical_accuracy: 0.8511- loss: 1.3196 - categorical_ - ETA: 5s - loss: 1.3149 - ca - ETA: 4s - loss: 1.3162 - categorical_accuracy: 0.84 - ETA: 4s - loss: 1.3166 - categorical_accu - ETA: 4s - - ETA: 2s - loss: 1.3105 - categorical_accura - ETA: 2s - loss: 1.3108 - ca - ETA: 1s - loss: 1.3107 - categorical_ac - ETA: 1s - loss: 1.3086 - categorical_accu - ETA: 1s - loss: 1.3091 - categorical_accu - ETA: 0s - loss: 1.3078 - categorica - ETA: 0s - loss: 1.3078 - categorical_accuracy: \n",
      "Epoch 40/10000\n",
      "471/471 [==============================] - 8s 18ms/step - loss: 1.2803 - categorical_accuracy: 0.8491 - val_loss: 1.2866 - val_categorical_accuracy: 0.840634 - ca - ETA: 4s - loss: 1.2978 - categorical_accura - ETA: 4s - loss: 1.2941 - categorical_accuracy:  - ETA: 4s - loss: 1.2 - ETA: 3s - loss: - ETA: 0s - loss: 1.2817 - categori\n",
      "Epoch 41/10000\n",
      "471/471 [==============================] - 8s 18ms/step - loss: 1.2540 - categorical_accuracy: 0.8470 - val_loss: 1.2445 - val_categorical_accuracy: 0.8507ss: 1.2684 - categorical_ac - ETA: 5s - loss: 1.2653 - categorica - ETA: 4s - loss: 1.2625 - categorical_accuracy - ETA: 4s - loss: 1.2592 - categorical_ac - ETA: 4s - loss: 1.2 - ETA: 3s - loss: 1.2542 - categorical_accuracy: 0. - ETA: 3s - loss: 1.2539 - categorical_accuracy: 0.84 - ETA: 2s - loss: 1.2553 - categorical_accu - ETA: 2s - loss: 1.2563 - categorical_ - ETA: 2s - loss: 1.2551 - categorical_accuracy: 0. - ETA: 2s - loss: 1.2552 - categorical_ - ETA: 1s - loss: 1.2542 - categorical_accuracy: 0.84 - ETA\n",
      "Epoch 42/10000\n",
      "471/471 [==============================] - 8s 18ms/step - loss: 1.2272 - categorical_accuracy: 0.8503 - val_loss: 1.2327 - val_categorical_accuracy: 0.8419 5s - loss: 1.2429 - categorical_accuracy: 0.84 - ETA: 5s - loss: 1.2478 -  - - E - ETA: 1s - loss: 1.2318 - categorical_accuracy - ETA: 1s - loss: - ETA: 0s - loss: 1.2282 - categorical_accura - ETA: 0s - loss: 1.2278 - categorical_accuracy: \n",
      "Epoch 43/10000\n",
      "471/471 [==============================] - 8s 18ms/step - loss: 1.2021 - categorical_accuracy: 0.8481 - val_loss: 1.2113 - val_categorical_accuracy: 0.8403- loss: 1.2196 - categorica - ETA: 5s - loss: 1.2068 - categorical_accuracy:  - ETA: 5s - loss: 1.2108 - categorical_accuracy: 0. - ETA: 5s - loss: 1.2129 - catego - ETA: 4s - loss: 1\n",
      "Epoch 44/10000\n",
      "471/471 [==============================] - 8s 18ms/step - loss: 1.1793 - categorical_accuracy: 0.8498 - val_loss: 1.1637 - val_categorical_accuracy: 0.8576ETA: 4s - loss: 1.1912 - ca - ETA: 3s - loss: 1.1865 - catego\n",
      "Epoch 45/10000\n",
      "471/471 [==============================] - 8s 18ms/step - loss: 1.1567 - categorical_accuracy: 0.8501 - val_loss: 1.1572 - val_categorical_accuracy: 0.8448 6s - loss: 1.1481 - categorical_accura - ETA: 5s - loss: 1.1486 - categorical_accuracy: 0.85 - ETA: 5s - loss: 1.1486 - categorical_ - ETA: 5s - loss: 1.1554 - categorical_accuracy:  - ETA: 5s - loss: 1.1545 - categorical_accuracy: 0.85 - ETA: 5s - loss: 1.1524 - categorical_accuracy - ETA: 4s - loss: 1.1522 - categorical_accuracy: 0. - ETA: 4s - loss: 1.1521 - categorical_accuracy - ETA: 4s - loss: 1.1510 - categorical_accuracy: 0.85 - ETA: 4s - loss: 1.1503 - categorica - ETA: 3s - loss: 1.1525 - categorical_accuracy: 0. - ETA: 3s - loss: 1.1521 - categorical_accuracy - ETA: 3s - loss: 1.1512 - categorical_ - ETA: 3s - loss: 1.1539 - categorical_accuracy: 0. - ETA: 3s - loss: 1.1536 - categorical_accuracy: 0. - ETA: 2s - loss: 1.1551 - categorical_accuracy: 0. - ETA: 2s - loss: 1.1548 - ca - ETA: 1s - loss: 1.1530 - categorical_ - ETA: 1s - loss: 1.1541  - ETA: 0s - loss: 1.1573 - categorica - ETA: 0s - loss: 1.1578 - categorical_accura\n",
      "Epoch 46/10000\n",
      "471/471 [==============================] - 8s 18ms/step - loss: 1.1349 - categorical_accuracy: 0.8505 - val_loss: 1.1392 - val_categorical_accuracy: 0.843979 - catego - ETA: 4s - loss: 1.1522 - categorical_accuracy: 0.84 - ETA: 4s - los - ETA: 3s - loss: 1.1516 - categorical_accuracy - ETA: 3s - loss: 1.1511 - categorica - ETA: 3s - loss: 1.1481 - categorical_accu - ETA: 0s - loss: 1.1\n",
      "Epoch 47/10000\n",
      "471/471 [==============================] - 8s 18ms/step - loss: 1.1141 - categorical_accuracy: 0.8499 - val_loss: 1.1017 - val_categorical_accuracy: 0.8560 5s - loss: 1.1151 - categorical_accuracy: 0. - - ETA: 2s - loss: 1.1136 - categorical_accu - ETA: 1s - loss: 1.1125 - categorical_accuracy:  - ETA: 1s - loss: 1.1134 - categorica - ETA: 0s - loss: 1.1135 - categorical_ - ETA: 0s - loss: 1.1144 - categorical_accura - ETA: 0s - loss: 1.1135 - categorical_accuracy\n",
      "Epoch 48/10000\n",
      "471/471 [==============================] - 8s 17ms/step - loss: 1.0941 - categorical_accuracy: 0.8489 - val_loss: 1.0809 - val_categorical_accuracy: 0.8543ss: 1.0995 - categorical_accu - ETA: 2s - loss: 1.0971 - categorical_accura - ETA: 1s - loss: 1.0973 -  - ETA: 1s - loss:\n",
      "Epoch 49/10000\n",
      "471/471 [==============================] - 8s 17ms/step - loss: 1.0757 - categorical_accuracy: 0.8483 - val_loss: 1.0844 - val_categorical_accuracy: 0.8422s - loss: 1.0774 - categori - ETA: 0s - loss: 1.0765 - categorical_accuracy - ETA: 0s - loss: 1.0757 - categorical_accuracy: 0.84\n",
      "Epoch 50/10000\n",
      "471/471 [==============================] - 8s 17ms/step - loss: 1.0570 - categorical_accuracy: 0.8479 - val_loss: 1.0530 - val_categorical_accuracy: 0.8511loss: 1.0594 - categori - ETA: 5s - - ETA: 2s - loss: 1.0576 - categori - ETA: 2s - loss: 1.0605 - categorical_accura - ETA: 1s - loss: 1.0593 - categorical_accuracy:  - ETA: 1s - loss: 1.0594 - categorical_accuracy - ETA: 1s - loss: 1.0581 - categorical_accu - ETA: 1s - loss: 1.0578 - ca - ETA: 0s - loss: 1.0581 - categorical_\n",
      "Epoch 51/10000\n",
      "471/471 [==============================] - 8s 18ms/step - loss: 1.0398 - categorical_accuracy: 0.8486 - val_loss: 1.0311 - val_categorical_accuracy: 0.8563- loss: 1.0540 - categorical_accu - ETA: 3s - loss: 1.0518 - categorical_accuracy: 0. - ETA: 3s - loss: 1.0499 - categorical_accuracy:  - ETA: 3s - loss: 1.0489 - categorica - ETA: 2s - loss: 1.0450 - categorical_accuracy: 0.84 - ETA: 2s - loss: 1.0455 -  - ETA: 1s - - ETA: 0s - loss: 1.0412 - categorical_ac\n",
      "Epoch 52/10000\n",
      "471/471 [==============================] - 8s 18ms/step - loss: 1.0232 - categorical_accuracy: 0.8481 - val_loss: 1.0253 - val_categorical_accuracy: 0.8478: 1.0210 - categorical_accuracy: 0.85 - ETA: 5s - loss: 1.0 - ETA: 4s - loss: 1.0265 - categorical_accuracy: 0.85 - ETA: 4s - loss: 1.0278 - categorical_accuracy: 0.84 - ETA: 4s - loss: 1.0266 - ca - ETA: 3s - loss: 1.0232 - categorical_accuracy:  - ETA: 3s - loss: 1.0231 - categorical_accuracy: 0. - ETA: 3s - loss: 1.0217 - categori - ETA: 2s - loss: 1.0247 - categorical_accuracy: 0.84 - ETA: 2s - loss: 1.0251 - categorical_accuracy: 0.84 - ETA: 2s - loss: 1.0253 - categorical_accuracy: 0.84 - ETA: 2s - loss: 1.0250 - categorical_ac - ETA: 2s - loss: 1.0259 - categorical_accuracy: 0.84 - ETA: 2s - loss: 1.0260 - categorical_accu - ETA: 1s - loss: 1.0253 - categorical_accuracy: 0.84 - ETA: 1s - loss: 1.0253 - categorical_accuracy - ETA: 1s - loss: 1.0247 - categorical_accuracy: 0. - ETA: 1s - loss: 1.0241 - ca - ETA: 0s - loss: 1.0236 - categorical_accuracy:  - ETA: 0s - loss: 1.0232 - categorical_accu\n",
      "Epoch 53/10000\n",
      "471/471 [==============================] - 8s 18ms/step - loss: 1.0066 - categorical_accuracy: 0.8499 - val_loss: 1.0033 - val_categorical_accuracy: 0.8524: 1.0139 - categorical_accu - ETA: 5s - loss: 1.0111 - categorical_accu - ETA: 4s - loss: 1.0121 -  - ETA: 2s - loss: 1 - ETA: 1s - loss: 1.0081 - categorical_accuracy: 0.85 - ETA: 1s - loss:\n",
      "Epoch 54/10000\n",
      "471/471 [==============================] - 8s 18ms/step - loss: 0.9916 - categorical_accuracy: 0.8481 - val_loss: 1.0028 - val_categorical_accuracy: 0.8419ategorical_accuracy: 0.84 - ETA: 4s - ETA: 3s - loss: 0.9959 - categorical_accuracy - ETA: 3s - loss: 0.992 - ETA: 2s - loss: 0.9905 - cate -\n",
      "Epoch 55/10000\n",
      "471/471 [==============================] - 8s 18ms/step - loss: 0.9763 - categorical_accuracy: 0.8505 - val_loss: 0.9856 - val_categorical_accuracy: 0.8442ategorical_accuracy: 0. - ETA: 5s - loss: 0.9715 - categorical_accuracy: 0.85 - ETA: 5s - loss: 0.9718 - categori - ETA: 4s - loss: 0.9713 - categorica - ETA: 3s - loss: 0.9798 - categorical_accu - ETA: 3s - loss: 0.9803 - categori - ETA: 3s - loss: 0.9786 - cate - ETA: 0s - loss: 0.9775 - categori - ETA: 0s - loss: 0.9765 - categorical_accuracy: 0.85\n",
      "Epoch 56/10000\n",
      "471/471 [==============================] - 8s 18ms/step - loss: 0.9626 - categorical_accuracy: 0.8491 - val_loss: 0.9536 - val_categorical_accuracy: 0.8566 categorical_accuracy - ETA: 3s - loss: 0.9730 - categorical_accura - ETA: 3s - loss: 0.9713 - categorical_accuracy: 0.84 - ETA: 3s - loss: 0.9705 - catego - ETA: 2s - loss: 0.9674 - categorical_accuracy: 0.84 - ETA: 2s - loss: 0.9685 - categorical_accuracy: 0.84 - ETA: 2s - loss: 0 - ETA: 1s - loss: 0.9653 - categorical_accu - ETA: 1s - loss: 0.9637 - categorical_accu - ETA: 0s - loss: 0.9652 - categorical_accura - ETA: 0s - loss: 0.9641 - catego\n",
      "Epoch 57/10000\n",
      "471/471 [==============================] - 8s 18ms/step - loss: 0.9483 - categorical_accuracy: 0.8497 - val_loss: 0.9653 - val_categorical_accuracy: 0.8396s - loss: 0.9579 - catego - ETA: 4s - loss: - ETA: 3s - loss: 0.9553 - categorical_accuracy:  - ETA: 3s - loss: 0.9556 - categorical_accu - ETA: 2s - loss: 0.9527  - ETA: 1s - loss: 0.9520 - categorical_ - ETA: 1s - loss: 0.9514  - ETA: 0s - loss: 0.9492 - categorical_accu - ETA: 0s - loss: 0.9485 - categorical_accuracy: 0.\n",
      "Epoch 58/10000\n",
      "471/471 [==============================] - 8s 18ms/step - loss: 0.9361 - categorical_accuracy: 0.8499 - val_loss: 0.9287 - val_categorical_accuracy: 0.8563ccura - ETA: 1s - loss: 0.9361 - categorical_ac - ETA: 1s - loss: 0.9369 - categorical_accu - ETA: 1s - loss: 0.9360 - categorical_accuracy: 0. - ETA: 0s - loss: 0.9360 - categorica - ETA: 0s - loss: 0.9363 - categorical_\n",
      "Epoch 59/10000\n",
      "471/471 [==============================] - 8s 18ms/step - loss: 0.9227 - categorical_accuracy: 0.8512 - val_loss: 0.9335 - val_categorical_accuracy: 0.8432- loss: 0.9259 - categorical_accuracy - ETA: 5s - loss: 0.9302 - categorical_accuracy:  - ETA: 5s - loss: 0.9278 - categorical_accuracy - ETA: 5s - ETA: 2s - loss: 0.9303 - categorical_accuracy - ETA - ETA: 0s - loss: 0.9227 - categorical_accuracy: 0. - ETA: 0s - loss: 0.9229 - categori\n",
      "Epoch 60/10000\n",
      "471/471 [==============================] - 8s 18ms/step - loss: 0.9105 - categorical_accuracy: 0.8507 - val_loss: 0.9063 - val_categorical_accuracy: 0.8547egorical_accuracy: 0.85 - ETA: 3s - loss: 0.9154 - categorical_accuracy - ETA: 2s - loss: 0.9153 - categorical_accuracy - ETA: 2s - loss: 0.9142 - categorical_accu - ETA: 2s - loss: 0.9134 - categori - ETA: 1s - loss: 0.9 - ETA: 0s - loss: 0.9108 - categorical_accuracy:  - ETA: 0s - loss: 0.9101 - categorical_accura\n",
      "Epoch 61/10000\n",
      "471/471 [==============================] - 8s 18ms/step - loss: 0.8987 - categorical_accuracy: 0.8505 - val_loss: 0.9028 - val_categorical_accuracy: 0.8484 2s - - ETA: 1s -\n",
      "Epoch 62/10000\n",
      "471/471 [==============================] - 8s 18ms/step - loss: 0.8876 - categorical_accuracy: 0.8488 - val_loss: 0.8872 - val_categorical_accuracy: 0.8520loss: 0.8898 - categorical_ - ETA: 5s - ETA: 4s - loss: 0.8908 - categorical_accuracy: 0.84 - ETA: 4s - loss: 0.8910  - ETA: 3s - loss: 0.8910 - categorical_accuracy: 0.85 - ETA: 3s - loss: 0.8924 - categorical_accuracy: 0. - ETA: 2s - loss: 0.8916 - categorical_ - ETA: 2s - loss: 0.8922 - categorical_accuracy - ETA: 2s - loss: 0.8921 - categorical_accura - ETA: 1s - loss: 0.890 - ETA: 0s - loss: 0.8897 - categorical_accuracy: 0.84 - ETA: 0s - loss: 0.889\n",
      "Epoch 63/10000\n"
     ]
    },
    {
     "name": "stdout",
     "output_type": "stream",
     "text": [
      "471/471 [==============================] - 8s 18ms/step - loss: 0.8761 - categorical_accuracy: 0.8505 - val_loss: 0.8745 - val_categorical_accuracy: 0.8520loss: 0.8709 - ca - ETA: 4s - loss: 0.8699 - categorical_accuracy: 0.85 - ETA: 4s - loss: 0.8710 - categorical_ - ETA: 4s - loss: - ETA: 3s - loss: 0.8793 - categorical_accuracy: 0.85 - ETA: 3s - loss: - ETA: 2s - loss: 0.8769 - categori - ETA: 1s - loss: 0.8775 - categorical_ac - ETA: 1s - loss: 0.8764 - catego - ETA: 0s - loss: 0.8759 - categorica\n",
      "Epoch 64/10000\n",
      "471/471 [==============================] - 8s 18ms/step - loss: 0.8659 - categorical_accuracy: 0.8515 - val_loss: 0.8707 - val_categorical_accuracy: 0.8488loss: 0.8722 - categorical_accura - ETA: 3s - loss: 0.8728 - categorical_ac - ETA: 3s - ETA: 1s - loss: 0.8744  - ETA: 0s - loss: 0.8688 - categorical_ac - ETA: 0s - loss: 0.8661 - categorical_ac\n",
      "Epoch 65/10000\n",
      "471/471 [==============================] - 8s 17ms/step - loss: 0.8561 - categorical_accuracy: 0.8503 - val_loss: 0.8584 - val_categorical_accuracy: 0.8494\n",
      "Epoch 66/10000\n",
      "471/471 [==============================] - 8s 18ms/step - loss: 0.8462 - categorical_accuracy: 0.8501 - val_loss: 0.8422 - val_categorical_accuracy: 0.8560 6s - loss: 0.8483 - categorical_accuracy - ETA: 5s - loss: 0.8445 - categorical_accuracy: 0.85 - ETA: 5s - l - ETA: 4s - loss: 0.8493 - categorical_accuracy:  - ETA: 4s - loss: - ETA: 3s - loss: 0.8480 - categorical_accuracy: 0. - ETA:  - ETA: 1s - loss: 0.8460 - categorical_ - ETA: 1s - loss: 0.8448 - cate - ETA: 0s - loss: 0.8463 - categori\n",
      "Epoch 67/10000\n",
      "471/471 [==============================] - 8s 18ms/step - loss: 0.8366 - categorical_accuracy: 0.8498 - val_loss: 0.8373 - val_categorical_accuracy: 0.8530loss: 0.8261 - categorical_ac - ETA: 5s - loss: 0.8424 - categorical_accuracy:  - E - ETA: 4s - loss: 0.8359 - categorical_accuracy: 0. - ETA: 3s - loss: 0.8367 - catego - E - ETA: 1s - loss: 0.8356  - ETA: 1s - loss: 0.8351 - categorical_accuracy: 0.85 - ETA: 0s - loss: 0.8\n",
      "Epoch 68/10000\n",
      "471/471 [==============================] - 8s 18ms/step - loss: 0.8272 - categorical_accuracy: 0.8496 - val_loss: 0.8727 - val_categorical_accuracy: 0.8242 4s - loss: 0.8317 - categorical_accuracy:  - ETA: 3s - loss: 0.8307 - ca - ETA: 3s - loss: 0.8294 - categorical_accuracy:  - ETA: 2s - loss: 0.831 - ETA: 1s - loss: 0.8307 - categorical_accu - ETA: 1s - loss: 0.829 - ETA: 0s - loss: 0.8276 - categorical_accuracy: 0.84 - ETA: 0s - loss: 0.8276 - categori\n",
      "Epoch 69/10000\n",
      "471/471 [==============================] - 8s 18ms/step - loss: 0.8190 - categorical_accuracy: 0.8499 - val_loss: 0.8303 - val_categorical_accuracy: 0.8445 6s - loss: 0.8082 - categorical_accuracy: 0. - ETA: 5s - loss: 0.8175 - categorical_accuracy: 0.85 - ETA: 5s - loss: 0.8172 - categorical_accu - ETA: 5s - loss: 0.8167 - categorical_accuracy:  - ETA: 5s - - ETA: 4s - loss: 0.8210 - categorical_ac - ETA: 3s - loss: 0.8188 - categorical_accuracy: 0.84 - ETA: 3s - loss: 0.8184  - ETA: 2s - loss: 0.8182 - categorical_ac - ETA: 2s - loss: 0 - ETA: 1s - loss: 0.8180 - categori - ETA: 0s - loss: 0.8198 - cate\n",
      "stop  12:50:59\n",
      "Took =  0:09:41.472785\n"
     ]
    }
   ],
   "source": [
    "history_reg = FitModel(model_reg)"
   ]
  },
  {
   "cell_type": "code",
   "execution_count": 51,
   "metadata": {},
   "outputs": [
    {
     "data": {
      "image/png": "[encoded data removed]",
      "text/plain": [
       "<Figure size 720x360 with 2 Axes>"
      ]
     },
     "metadata": {
      "needs_background": "light"
     },
     "output_type": "display_data"
    }
   ],
   "source": [
    "PlotModelFitHistory(history_reg)"
   ]
  },
  {
   "cell_type": "code",
   "execution_count": 52,
   "metadata": {},
   "outputs": [],
   "source": [
    "(test_y, pred_y) = PredictModel(model_reg)"
   ]
  },
  {
   "cell_type": "code",
   "execution_count": 53,
   "metadata": {},
   "outputs": [
    {
     "name": "stdout",
     "output_type": "stream",
     "text": [
      "Accuracy score:  0.8531711680517082\n",
      "F1 score:  0.8262501247739644\n",
      "              precision    recall  f1-score   support\n",
      "\n",
      "           0       0.84      0.96      0.89     44993\n",
      "           1       0.90      0.65      0.76     24319\n",
      "\n",
      "    accuracy                           0.85     69312\n",
      "   macro avg       0.87      0.81      0.83     69312\n",
      "weighted avg       0.86      0.85      0.85     69312\n",
      "\n"
     ]
    }
   ],
   "source": [
    "ShowStats('Base Reg', test_y, pred_y)"
   ]
  },
  {
   "cell_type": "code",
   "execution_count": 54,
   "metadata": {},
   "outputs": [
    {
     "data": {
      "image/png": "[encoded data removed]",
      "text/plain": [
       "<Figure size 432x288 with 2 Axes>"
      ]
     },
     "metadata": {
      "needs_background": "light"
     },
     "output_type": "display_data"
    }
   ],
   "source": [
    "PlotConfusionMatrix(test_y, pred_y)"
   ]
  },
  {
   "cell_type": "markdown",
   "metadata": {},
   "source": [
    "### Observation\n",
    "* Loss vs Epochs plot shows significantly improved fitting\n",
    "* Accuracy stablises at ~ 82% after 20 epochs\n",
    "* Learning rate maybe still high but results good\n",
    "* Model positive case detection recall still low at 63%"
   ]
  },
  {
   "cell_type": "markdown",
   "metadata": {},
   "source": [
    "## 3. Base Model with dropout\n",
    "To reduce overfitting and improve speed see if minor drop out improves the model."
   ]
  },
  {
   "cell_type": "code",
   "execution_count": 55,
   "metadata": {
    "scrolled": true
   },
   "outputs": [],
   "source": [
    "model_drop = tf.keras.Sequential([\n",
    "    tf.keras.layers.Flatten(input_shape=INPUT_DIM),\n",
    "    tf.keras.layers.Dense(256, activation='relu'),\n",
    "    tf.keras.layers.Dropout(.2),\n",
    "    tf.keras.layers.Dense(OUTPUT_CLASSES, activation='sigmoid')\n",
    "])"
   ]
  },
  {
   "cell_type": "code",
   "execution_count": 56,
   "metadata": {},
   "outputs": [
    {
     "name": "stdout",
     "output_type": "stream",
     "text": [
      "Model: \"sequential_2\"\n",
      "_________________________________________________________________\n",
      "Layer (type)                 Output Shape              Param #   \n",
      "=================================================================\n",
      "flatten_2 (Flatten)          (None, 2187)              0         \n",
      "_________________________________________________________________\n",
      "dense_4 (Dense)              (None, 256)               560128    \n",
      "_________________________________________________________________\n",
      "dropout (Dropout)            (None, 256)               0         \n",
      "_________________________________________________________________\n",
      "dense_5 (Dense)              (None, 2)                 514       \n",
      "=================================================================\n",
      "Total params: 560,642\n",
      "Trainable params: 560,642\n",
      "Non-trainable params: 0\n",
      "_________________________________________________________________\n"
     ]
    }
   ],
   "source": [
    "model_drop.summary()"
   ]
  },
  {
   "cell_type": "code",
   "execution_count": 57,
   "metadata": {},
   "outputs": [],
   "source": [
    "CompileModel(model_drop)"
   ]
  },
  {
   "cell_type": "code",
   "execution_count": 58,
   "metadata": {},
   "outputs": [
    {
     "name": "stdout",
     "output_type": "stream",
     "text": [
      "start  12:52:30\n",
      "Epoch 1/10000\n",
      "471/471 [==============================] - 8s 16ms/step - loss: 0.5191 - categorical_accuracy: 0.7465 - val_loss: 0.4962 - val_categorical_accuracy: 0.7283\n",
      "Epoch 2/10000\n",
      "471/471 [==============================] - 8s 17ms/step - loss: 0.4281 - categorical_accuracy: 0.8099 - val_loss: 0.4197 - val_categorical_accuracy: 0.8056\n",
      "Epoch 3/10000\n",
      "471/471 [==============================] - 8s 16ms/step - loss: 0.3973 - categorical_accuracy: 0.8279 - val_loss: 0.4343 - val_categorical_accuracy: 0.7944- loss: 0.3974  - ETA: 0s - loss: 0\n",
      "Epoch 4/10000\n",
      "471/471 [==============================] - 8s 16ms/step - loss: 0.3846 - categorical_accuracy: 0.8320 - val_loss: 0.3795 - val_categorical_accuracy: 0.8340\n",
      "Epoch 5/10000\n",
      "471/471 [==============================] - 8s 16ms/step - loss: 0.3761 - categorical_accuracy: 0.8350 - val_loss: 0.3598 - val_categorical_accuracy: 0.8488\n",
      "Epoch 6/10000\n",
      "471/471 [==============================] - 8s 17ms/step - loss: 0.3723 - categorical_accuracy: 0.8380 - val_loss: 0.4038 - val_categorical_accuracy: 0.8137\n",
      "Epoch 7/10000\n",
      "471/471 [==============================] - 8s 16ms/step - loss: 0.3665 - categorical_accuracy: 0.8408 - val_loss: 0.3646 - val_categorical_accuracy: 0.8409\n",
      "Epoch 8/10000\n",
      "471/471 [==============================] - 8s 16ms/step - loss: 0.3628 - categorical_accuracy: 0.8428 - val_loss: 0.3652 - val_categorical_accuracy: 0.8390\n",
      "Epoch 9/10000\n",
      "471/471 [==============================] - 8s 17ms/step - loss: 0.3626 - categorical_accuracy: 0.8398 - val_loss: 0.3553 - val_categorical_accuracy: 0.8491\n",
      "Epoch 10/10000\n",
      "471/471 [==============================] - 8s 16ms/step - loss: 0.3592 - categorical_accuracy: 0.8448 - val_loss: 0.3565 - val_categorical_accuracy: 0.8465\n",
      "Epoch 11/10000\n",
      "471/471 [==============================] - 8s 16ms/step - loss: 0.3596 - categorical_accuracy: 0.8414 - val_loss: 0.3679 - val_categorical_accuracy: 0.8376\n",
      "Epoch 12/10000\n",
      "471/471 [==============================] - 8s 16ms/step - loss: 0.3566 - categorical_accuracy: 0.8452 - val_loss: 0.3629 - val_categorical_accuracy: 0.8399\n",
      "Epoch 13/10000\n",
      "471/471 [==============================] - 8s 16ms/step - loss: 0.3549 - categorical_accuracy: 0.8442 - val_loss: 0.3482 - val_categorical_accuracy: 0.8524\n",
      "Epoch 14/10000\n",
      "471/471 [==============================] - 8s 16ms/step - loss: 0.3544 - categorical_accuracy: 0.8431 - val_loss: 0.3574 - val_categorical_accuracy: 0.8439\n",
      "Epoch 15/10000\n",
      "471/471 [==============================] - 8s 16ms/step - loss: 0.3538 - categorical_accuracy: 0.8451 - val_loss: 0.3518 - val_categorical_accuracy: 0.8481\n",
      "Epoch 16/10000\n",
      "471/471 [==============================] - 8s 16ms/step - loss: 0.3540 - categorical_accuracy: 0.8440 - val_loss: 0.3859 - val_categorical_accuracy: 0.8268\n",
      "Epoch 17/10000\n",
      "471/471 [==============================] - 8s 17ms/step - loss: 0.3513 - categorical_accuracy: 0.8464 - val_loss: 0.3644 - val_categorical_accuracy: 0.8380\n",
      "Epoch 18/10000\n",
      "471/471 [==============================] - 8s 16ms/step - loss: 0.3512 - categorical_accuracy: 0.8449 - val_loss: 0.3431 - val_categorical_accuracy: 0.8556\n",
      "Epoch 19/10000\n",
      "471/471 [==============================] - 8s 16ms/step - loss: 0.3524 - categorical_accuracy: 0.8451 - val_loss: 0.3562 - val_categorical_accuracy: 0.8455\n",
      "Epoch 20/10000\n",
      "471/471 [==============================] - 8s 16ms/step - loss: 0.3507 - categorical_accuracy: 0.8477 - val_loss: 0.3567 - val_categorical_accuracy: 0.8452\n",
      "Epoch 21/10000\n",
      "471/471 [==============================] - 8s 17ms/step - loss: 0.3504 - categorical_accuracy: 0.8466 - val_loss: 0.3509 - val_categorical_accuracy: 0.8491\n",
      "Epoch 22/10000\n",
      "471/471 [==============================] - 8s 16ms/step - loss: 0.3507 - categorical_accuracy: 0.8470 - val_loss: 0.3460 - val_categorical_accuracy: 0.8524\n",
      "Epoch 23/10000\n",
      "471/471 [==============================] - 8s 16ms/step - loss: 0.3466 - categorical_accuracy: 0.8487 - val_loss: 0.3426 - val_categorical_accuracy: 0.8563A: 2s - loss: 0.3442 - categori\n",
      "Epoch 24/10000\n",
      "471/471 [==============================] - 8s 16ms/step - loss: 0.3486 - categorical_accuracy: 0.8441 - val_loss: 0.3550 - val_categorical_accuracy: 0.8478\n",
      "Epoch 25/10000\n",
      "471/471 [==============================] - 8s 18ms/step - loss: 0.3479 - categorical_accuracy: 0.8460 - val_loss: 0.3484 - val_categorical_accuracy: 0.8504 2s - loss: 0.3491 - categorical_ac - ETA: 1s - loss: 0.3488 - categorical_accuracy: 0.84 - ETA\n",
      "Epoch 26/10000\n",
      "471/471 [==============================] - 8s 16ms/step - loss: 0.3470 - categorical_accuracy: 0.8464 - val_loss: 0.3549 - val_categorical_accuracy: 0.8455\n",
      "Epoch 27/10000\n",
      "471/471 [==============================] - 8s 17ms/step - loss: 0.3471 - categorical_accuracy: 0.8470 - val_loss: 0.3582 - val_categorical_accuracy: 0.8448\n",
      "Epoch 28/10000\n",
      "471/471 [==============================] - 8s 16ms/step - loss: 0.3477 - categorical_accuracy: 0.8473 - val_loss: 0.3440 - val_categorical_accuracy: 0.8547\n",
      "Epoch 29/10000\n",
      "471/471 [==============================] - 8s 17ms/step - loss: 0.3453 - categorical_accuracy: 0.8487 - val_loss: 0.3433 - val_categorical_accuracy: 0.8534\n",
      "Epoch 30/10000\n",
      "471/471 [==============================] - 8s 16ms/step - loss: 0.3454 - categorical_accuracy: 0.8477 - val_loss: 0.3461 - val_categorical_accuracy: 0.8530\n",
      "Epoch 31/10000\n",
      "471/471 [==============================] - 8s 16ms/step - loss: 0.3449 - categorical_accuracy: 0.8495 - val_loss: 0.3607 - val_categorical_accuracy: 0.8432\n",
      "Epoch 32/10000\n",
      "471/471 [==============================] - 8s 16ms/step - loss: 0.3452 - categorical_accuracy: 0.8502 - val_loss: 0.3744 - val_categorical_accuracy: 0.8331\n",
      "Epoch 33/10000\n",
      "471/471 [==============================] - 8s 17ms/step - loss: 0.3427 - categorical_accuracy: 0.8500 - val_loss: 0.4014 - val_categorical_accuracy: 0.8216\n",
      "Epoch 34/10000\n",
      "471/471 [==============================] - 8s 16ms/step - loss: 0.3447 - categorical_accuracy: 0.8482 - val_loss: 0.3609 - val_categorical_accuracy: 0.8432\n",
      "Epoch 35/10000\n",
      "471/471 [==============================] - 8s 16ms/step - loss: 0.3435 - categorical_accuracy: 0.8495 - val_loss: 0.3410 - val_categorical_accuracy: 0.8573\n",
      "Epoch 36/10000\n",
      "471/471 [==============================] - 8s 16ms/step - loss: 0.3440 - categorical_accuracy: 0.8495 - val_loss: 0.3628 - val_categorical_accuracy: 0.8432\n",
      "Epoch 37/10000\n",
      "471/471 [==============================] - 8s 17ms/step - loss: 0.3429 - categorical_accuracy: 0.8503 - val_loss: 0.3463 - val_categorical_accuracy: 0.8511\n",
      "Epoch 38/10000\n",
      "471/471 [==============================] - 8s 16ms/step - loss: 0.3412 - categorical_accuracy: 0.8511 - val_loss: 0.3421 - val_categorical_accuracy: 0.8556\n",
      "Epoch 39/10000\n",
      "471/471 [==============================] - 8s 16ms/step - loss: 0.3412 - categorical_accuracy: 0.8507 - val_loss: 0.3483 - val_categorical_accuracy: 0.8504\n",
      "Epoch 40/10000\n",
      "471/471 [==============================] - 8s 17ms/step - loss: 0.3423 - categorical_accuracy: 0.8526 - val_loss: 0.3495 - val_categorical_accuracy: 0.8488\n",
      "Epoch 41/10000\n",
      "471/471 [==============================] - 8s 17ms/step - loss: 0.3429 - categorical_accuracy: 0.8507 - val_loss: 0.3589 - val_categorical_accuracy: 0.8458\n",
      "Epoch 42/10000\n",
      "471/471 [==============================] - 8s 16ms/step - loss: 0.3414 - categorical_accuracy: 0.8511 - val_loss: 0.3517 - val_categorical_accuracy: 0.8494\n",
      "Epoch 43/10000\n",
      "471/471 [==============================] - 8s 16ms/step - loss: 0.3405 - categorical_accuracy: 0.8515 - val_loss: 0.3489 - val_categorical_accuracy: 0.8507\n",
      "Epoch 44/10000\n",
      "471/471 [==============================] - 8s 16ms/step - loss: 0.3408 - categorical_accuracy: 0.8509 - val_loss: 0.3456 - val_categorical_accuracy: 0.8530\n",
      "Epoch 45/10000\n",
      "471/471 [==============================] - 8s 16ms/step - loss: 0.3400 - categorical_accuracy: 0.8505 - val_loss: 0.3535 - val_categorical_accuracy: 0.8471\n",
      "Epoch 46/10000\n",
      "471/471 [==============================] - 8s 16ms/step - loss: 0.3398 - categorical_accuracy: 0.8527 - val_loss: 0.3553 - val_categorical_accuracy: 0.8445\n",
      "Epoch 47/10000\n",
      "471/471 [==============================] - 8s 16ms/step - loss: 0.3405 - categorical_accuracy: 0.8513 - val_loss: 0.3473 - val_categorical_accuracy: 0.8517\n",
      "Epoch 48/10000\n",
      "471/471 [==============================] - 8s 16ms/step - loss: 0.3399 - categorical_accuracy: 0.8519 - val_loss: 0.3427 - val_categorical_accuracy: 0.8570\n",
      "Epoch 49/10000\n",
      "471/471 [==============================] - 8s 16ms/step - loss: 0.3393 - categorical_accuracy: 0.8513 - val_loss: 0.3452 - val_categorical_accuracy: 0.8550\n",
      "Epoch 50/10000\n",
      "471/471 [==============================] - 8s 16ms/step - loss: 0.3398 - categorical_accuracy: 0.8512 - val_loss: 0.3455 - val_categorical_accuracy: 0.8524\n",
      "Epoch 51/10000\n",
      "471/471 [==============================] - 8s 16ms/step - loss: 0.3388 - categorical_accuracy: 0.8525 - val_loss: 0.3559 - val_categorical_accuracy: 0.8462\n",
      "Epoch 52/10000\n",
      "471/471 [==============================] - 8s 16ms/step - loss: 0.3375 - categorical_accuracy: 0.8543 - val_loss: 0.3433 - val_categorical_accuracy: 0.8553\n",
      "Epoch 53/10000\n",
      "471/471 [==============================] - 8s 16ms/step - loss: 0.3391 - categorical_accuracy: 0.8520 - val_loss: 0.3405 - val_categorical_accuracy: 0.8566\n",
      "Epoch 54/10000\n",
      "471/471 [==============================] - 8s 16ms/step - loss: 0.3370 - categorical_accuracy: 0.8527 - val_loss: 0.3486 - val_categorical_accuracy: 0.8514\n",
      "Epoch 55/10000\n",
      "471/471 [==============================] - 8s 16ms/step - loss: 0.3392 - categorical_accuracy: 0.8516 - val_loss: 0.3527 - val_categorical_accuracy: 0.8471\n",
      "Epoch 56/10000\n",
      "471/471 [==============================] - 8s 17ms/step - loss: 0.3372 - categorical_accuracy: 0.8531 - val_loss: 0.3420 - val_categorical_accuracy: 0.8556ss: 0.3362 - categorical_accura - E - ETA: 1s - loss: 0.3393 -  - ETA: 0s - loss: 0.3368 - categorical_accura - ETA: 0s - loss: 0.3376 - categorical_accuracy: 0.\n",
      "Epoch 57/10000\n",
      "471/471 [==============================] - 8s 16ms/step - loss: 0.3372 - categorical_accuracy: 0.8510 - val_loss: 0.3631 - val_categorical_accuracy: 0.8429\n",
      "Epoch 58/10000\n",
      "471/471 [==============================] - 8s 16ms/step - loss: 0.3379 - categorical_accuracy: 0.8523 - val_loss: 0.3410 - val_categorical_accuracy: 0.8556ategorical_accuracy: 0. - ETA: 0s - loss: 0.3379 - categorical_accuracy - ETA: 0s - loss: 0.3375 - categori\n",
      "Epoch 59/10000\n",
      "471/471 [==============================] - 8s 16ms/step - loss: 0.3366 - categorical_accuracy: 0.8551 - val_loss: 0.3488 - val_categorical_accuracy: 0.8494\n",
      "Epoch 60/10000\n",
      "471/471 [==============================] - 8s 16ms/step - loss: 0.3362 - categorical_accuracy: 0.8521 - val_loss: 0.3403 - val_categorical_accuracy: 0.8560\n",
      "stop  13:00:14\n",
      "Took =  0:07:43.865558\n"
     ]
    }
   ],
   "source": [
    "history_drop = FitModel(model_drop)"
   ]
  },
  {
   "cell_type": "code",
   "execution_count": 59,
   "metadata": {},
   "outputs": [
    {
     "data": {
      "image/png": "[encoded data removed]",
      "text/plain": [
       "<Figure size 720x360 with 2 Axes>"
      ]
     },
     "metadata": {
      "needs_background": "light"
     },
     "output_type": "display_data"
    }
   ],
   "source": [
    "PlotModelFitHistory(history_drop)"
   ]
  },
  {
   "cell_type": "code",
   "execution_count": 60,
   "metadata": {},
   "outputs": [],
   "source": [
    "(test_y, pred_y) = PredictModel(model_drop)"
   ]
  },
  {
   "cell_type": "code",
   "execution_count": 61,
   "metadata": {},
   "outputs": [
    {
     "name": "stdout",
     "output_type": "stream",
     "text": [
      "Accuracy score:  0.8699503693444137\n",
      "F1 score:  0.8509975670971457\n",
      "              precision    recall  f1-score   support\n",
      "\n",
      "           0       0.87      0.95      0.90     44971\n",
      "           1       0.88      0.73      0.80     24341\n",
      "\n",
      "    accuracy                           0.87     69312\n",
      "   macro avg       0.87      0.84      0.85     69312\n",
      "weighted avg       0.87      0.87      0.87     69312\n",
      "\n"
     ]
    }
   ],
   "source": [
    "ShowStats('Base Drop', test_y, pred_y)"
   ]
  },
  {
   "cell_type": "code",
   "execution_count": 62,
   "metadata": {},
   "outputs": [
    {
     "data": {
      "image/png": "[encoded data removed]",
      "text/plain": [
       "<Figure size 432x288 with 2 Axes>"
      ]
     },
     "metadata": {
      "needs_background": "light"
     },
     "output_type": "display_data"
    }
   ],
   "source": [
    "PlotConfusionMatrix(test_y, pred_y)"
   ]
  },
  {
   "cell_type": "markdown",
   "metadata": {},
   "source": [
    "### Observation\n",
    "* Loss vs Epochs plot shows significantly improved fitting\n",
    "* Accuracy stablises quicker than regularisation at ~ 85% after 10 or so epochs\n",
    "* Learning rate maybe still high but results good\n",
    "* Model positive case detection recall still improved at low at 72%\n",
    "* An improvement on regularisation\n",
    "\n",
    "Try convolution based on this model to get improve recall."
   ]
  },
  {
   "cell_type": "markdown",
   "metadata": {},
   "source": [
    "## 4. Baseline Plus VGG\n",
    "* Using an initial set of convolution layers may improve input to the MLP layers\n",
    "* Use standard VGG architecture to check if this provides better results"
   ]
  },
  {
   "cell_type": "code",
   "execution_count": 63,
   "metadata": {
    "scrolled": true
   },
   "outputs": [],
   "source": [
    "model_VGG_1 = tf.keras.Sequential([\n",
    "    #VGG block 1\n",
    "    tf.keras.layers.Conv2D(32, (3, 3), activation='relu', padding='same', input_shape=INPUT_DIM),\n",
    "    tf.keras.layers.Conv2D(32, (3, 3), activation='relu', padding='same'),\n",
    "    tf.keras.layers.MaxPooling2D((2, 2)),\n",
    "    \n",
    "    #VGG block 2\n",
    "    tf.keras.layers.Conv2D(64, (3, 3), activation='relu', padding='same'),\n",
    "    tf.keras.layers.Conv2D(64, (3, 3), activation='relu', padding='same'),\n",
    "    tf.keras.layers.MaxPooling2D((2, 2)),\n",
    "    \n",
    "    #VGG block 3\n",
    "    tf.keras.layers.Conv2D(128, (3, 3), activation='relu', padding='same'),\n",
    "    tf.keras.layers.Conv2D(128, (3, 3), activation='relu', padding='same'),\n",
    "    tf.keras.layers.MaxPooling2D((2, 2)),\n",
    "    \n",
    "    tf.keras.layers.Flatten(),\n",
    "    \n",
    "    tf.keras.layers.Dense(256, activation='relu'),\n",
    "    tf.keras.layers.Dropout(.2),\n",
    "    tf.keras.layers.Dense(OUTPUT_CLASSES, activation='sigmoid' )\n",
    "])"
   ]
  },
  {
   "cell_type": "code",
   "execution_count": 64,
   "metadata": {},
   "outputs": [],
   "source": [
    "CompileModel(model_VGG_1)"
   ]
  },
  {
   "cell_type": "code",
   "execution_count": 65,
   "metadata": {},
   "outputs": [
    {
     "name": "stdout",
     "output_type": "stream",
     "text": [
      "start  13:01:46\n",
      "Epoch 1/10000\n",
      "471/471 [==============================] - 33s 70ms/step - loss: 0.6270 - categorical_accuracy: 0.6618 - val_loss: 0.6645 - val_categorical_accuracy: 0.5902\n",
      "Epoch 2/10000\n",
      "471/471 [==============================] - 33s 69ms/step - loss: 0.6101 - categorical_accuracy: 0.6642 - val_loss: 0.6453 - val_categorical_accuracy: 0.5902\n",
      "Epoch 3/10000\n",
      "471/471 [==============================] - 33s 69ms/step - loss: 0.5814 - categorical_accuracy: 0.6657 - val_loss: 0.5883 - val_categorical_accuracy: 0.6049\n",
      "Epoch 4/10000\n",
      "471/471 [==============================] - 33s 69ms/step - loss: 0.5153 - categorical_accuracy: 0.7376 - val_loss: 0.5021 - val_categorical_accuracy: 0.7362\n",
      "Epoch 5/10000\n",
      "471/471 [==============================] - 33s 69ms/step - loss: 0.4427 - categorical_accuracy: 0.8016 - val_loss: 0.4096 - val_categorical_accuracy: 0.8288\n",
      "Epoch 6/10000\n",
      "471/471 [==============================] - 33s 69ms/step - loss: 0.3972 - categorical_accuracy: 0.8250 - val_loss: 0.3803 - val_categorical_accuracy: 0.8445\n",
      "Epoch 7/10000\n",
      "471/471 [==============================] - 33s 69ms/step - loss: 0.3771 - categorical_accuracy: 0.8349 - val_loss: 0.3764 - val_categorical_accuracy: 0.8363\n",
      "Epoch 8/10000\n",
      "471/471 [==============================] - 33s 70ms/step - loss: 0.3622 - categorical_accuracy: 0.8442 - val_loss: 0.3551 - val_categorical_accuracy: 0.8488\n",
      "Epoch 9/10000\n",
      "471/471 [==============================] - 33s 69ms/step - loss: 0.3535 - categorical_accuracy: 0.8479 - val_loss: 0.3622 - val_categorical_accuracy: 0.8432\n",
      "Epoch 10/10000\n",
      "471/471 [==============================] - 33s 70ms/step - loss: 0.3474 - categorical_accuracy: 0.8499 - val_loss: 0.3416 - val_categorical_accuracy: 0.8573\n",
      "Epoch 11/10000\n",
      "471/471 [==============================] - 33s 69ms/step - loss: 0.3424 - categorical_accuracy: 0.8527 - val_loss: 0.3389 - val_categorical_accuracy: 0.8589\n",
      "Epoch 12/10000\n",
      "471/471 [==============================] - 33s 69ms/step - loss: 0.3377 - categorical_accuracy: 0.8548 - val_loss: 0.3483 - val_categorical_accuracy: 0.8520\n",
      "Epoch 13/10000\n",
      "471/471 [==============================] - 33s 69ms/step - loss: 0.3342 - categorical_accuracy: 0.8543 - val_loss: 0.3401 - val_categorical_accuracy: 0.8566\n",
      "Epoch 14/10000\n",
      "471/471 [==============================] - 33s 70ms/step - loss: 0.3331 - categorical_accuracy: 0.8583 - val_loss: 0.3422 - val_categorical_accuracy: 0.8553\n",
      "Epoch 15/10000\n",
      "471/471 [==============================] - 33s 70ms/step - loss: 0.3288 - categorical_accuracy: 0.8586 - val_loss: 0.3300 - val_categorical_accuracy: 0.8615\n",
      "Epoch 16/10000\n",
      "471/471 [==============================] - 36s 76ms/step - loss: 0.3275 - categorical_accuracy: 0.8567 - val_loss: 0.3437 - val_categorical_accuracy: 0.8560\n",
      "Epoch 17/10000\n",
      "471/471 [==============================] - 35s 74ms/step - loss: 0.3254 - categorical_accuracy: 0.8607 - val_loss: 0.3306 - val_categorical_accuracy: 0.8622\n",
      "Epoch 18/10000\n",
      "471/471 [==============================] - 35s 74ms/step - loss: 0.3253 - categorical_accuracy: 0.8608 - val_loss: 0.3519 - val_categorical_accuracy: 0.8527\n",
      "Epoch 19/10000\n",
      "471/471 [==============================] - 34s 73ms/step - loss: 0.3215 - categorical_accuracy: 0.8641 - val_loss: 0.3259 - val_categorical_accuracy: 0.8635\n",
      "Epoch 20/10000\n",
      "471/471 [==============================] - 35s 75ms/step - loss: 0.3209 - categorical_accuracy: 0.8641 - val_loss: 0.3314 - val_categorical_accuracy: 0.8615\n",
      "Epoch 21/10000\n",
      "471/471 [==============================] - 35s 75ms/step - loss: 0.3172 - categorical_accuracy: 0.8656 - val_loss: 0.3346 - val_categorical_accuracy: 0.8619\n",
      "Epoch 22/10000\n",
      "471/471 [==============================] - 34s 72ms/step - loss: 0.3174 - categorical_accuracy: 0.8663 - val_loss: 0.3365 - val_categorical_accuracy: 0.8632\n",
      "Epoch 23/10000\n",
      "471/471 [==============================] - 34s 72ms/step - loss: 0.3153 - categorical_accuracy: 0.8654 - val_loss: 0.3259 - val_categorical_accuracy: 0.8632\n",
      "Epoch 24/10000\n",
      "471/471 [==============================] - 34s 72ms/step - loss: 0.3149 - categorical_accuracy: 0.8672 - val_loss: 0.3217 - val_categorical_accuracy: 0.8651\n",
      "Epoch 25/10000\n",
      "471/471 [==============================] - 34s 72ms/step - loss: 0.3116 - categorical_accuracy: 0.8667 - val_loss: 0.3238 - val_categorical_accuracy: 0.8635\n",
      "Epoch 26/10000\n",
      "471/471 [==============================] - 34s 72ms/step - loss: 0.3112 - categorical_accuracy: 0.8673 - val_loss: 0.3398 - val_categorical_accuracy: 0.8622\n",
      "Epoch 27/10000\n",
      "471/471 [==============================] - 34s 72ms/step - loss: 0.3098 - categorical_accuracy: 0.8681 - val_loss: 0.3194 - val_categorical_accuracy: 0.8671\n",
      "Epoch 28/10000\n",
      "471/471 [==============================] - 34s 72ms/step - loss: 0.3080 - categorical_accuracy: 0.8693 - val_loss: 0.3280 - val_categorical_accuracy: 0.8651\n",
      "Epoch 29/10000\n",
      "471/471 [==============================] - 35s 73ms/step - loss: 0.3079 - categorical_accuracy: 0.8684 - val_loss: 0.3186 - val_categorical_accuracy: 0.8671\n",
      "Epoch 30/10000\n",
      "471/471 [==============================] - 35s 73ms/step - loss: 0.3066 - categorical_accuracy: 0.8707 - val_loss: 0.3217 - val_categorical_accuracy: 0.8678\n",
      "Epoch 31/10000\n",
      "471/471 [==============================] - 33s 71ms/step - loss: 0.3056 - categorical_accuracy: 0.8695 - val_loss: 0.3225 - val_categorical_accuracy: 0.8658\n",
      "Epoch 32/10000\n",
      "471/471 [==============================] - 33s 71ms/step - loss: 0.3040 - categorical_accuracy: 0.8717 - val_loss: 0.3390 - val_categorical_accuracy: 0.8642\n",
      "Epoch 33/10000\n",
      "471/471 [==============================] - 33s 71ms/step - loss: 0.3018 - categorical_accuracy: 0.8719 - val_loss: 0.3200 - val_categorical_accuracy: 0.8668\n",
      "Epoch 34/10000\n",
      "471/471 [==============================] - 33s 70ms/step - loss: 0.3040 - categorical_accuracy: 0.8738 - val_loss: 0.3199 - val_categorical_accuracy: 0.8668\n",
      "Epoch 35/10000\n",
      "471/471 [==============================] - 33s 71ms/step - loss: 0.3010 - categorical_accuracy: 0.8739 - val_loss: 0.3319 - val_categorical_accuracy: 0.8648\n",
      "Epoch 36/10000\n",
      "471/471 [==============================] - 33s 71ms/step - loss: 0.3009 - categorical_accuracy: 0.8744 - val_loss: 0.3408 - val_categorical_accuracy: 0.8612\n",
      "Epoch 37/10000\n",
      "471/471 [==============================] - 34s 72ms/step - loss: 0.2998 - categorical_accuracy: 0.8743 - val_loss: 0.3141 - val_categorical_accuracy: 0.8707\n",
      "Epoch 38/10000\n",
      "471/471 [==============================] - 33s 70ms/step - loss: 0.2976 - categorical_accuracy: 0.8764 - val_loss: 0.3174 - val_categorical_accuracy: 0.8684\n",
      "Epoch 39/10000\n",
      "471/471 [==============================] - 33s 71ms/step - loss: 0.2963 - categorical_accuracy: 0.8736 - val_loss: 0.3350 - val_categorical_accuracy: 0.8651\n",
      "Epoch 40/10000\n",
      "471/471 [==============================] - 33s 71ms/step - loss: 0.2956 - categorical_accuracy: 0.8749 - val_loss: 0.3309 - val_categorical_accuracy: 0.8661\n",
      "Epoch 41/10000\n",
      "471/471 [==============================] - 33s 71ms/step - loss: 0.2930 - categorical_accuracy: 0.8781 - val_loss: 0.3328 - val_categorical_accuracy: 0.8638\n",
      "Epoch 42/10000\n",
      "471/471 [==============================] - 33s 70ms/step - loss: 0.2933 - categorical_accuracy: 0.8765 - val_loss: 0.3138 - val_categorical_accuracy: 0.8714\n",
      "Epoch 43/10000\n",
      "471/471 [==============================] - 34s 71ms/step - loss: 0.2944 - categorical_accuracy: 0.8753 - val_loss: 0.3161 - val_categorical_accuracy: 0.8691\n",
      "Epoch 44/10000\n",
      "471/471 [==============================] - 33s 71ms/step - loss: 0.2921 - categorical_accuracy: 0.8780 - val_loss: 0.3162 - val_categorical_accuracy: 0.8710\n",
      "Epoch 45/10000\n",
      "471/471 [==============================] - 33s 71ms/step - loss: 0.2915 - categorical_accuracy: 0.8750 - val_loss: 0.3180 - val_categorical_accuracy: 0.8697\n",
      "Epoch 46/10000\n",
      "471/471 [==============================] - 33s 71ms/step - loss: 0.2912 - categorical_accuracy: 0.8762 - val_loss: 0.3150 - val_categorical_accuracy: 0.8700\n",
      "Epoch 47/10000\n",
      "471/471 [==============================] - 33s 71ms/step - loss: 0.2883 - categorical_accuracy: 0.8802 - val_loss: 0.3199 - val_categorical_accuracy: 0.8700\n",
      "Epoch 48/10000\n",
      "471/471 [==============================] - 32s 69ms/step - loss: 0.2883 - categorical_accuracy: 0.8800 - val_loss: 0.3114 - val_categorical_accuracy: 0.8743\n",
      "Epoch 49/10000\n",
      "471/471 [==============================] - 32s 69ms/step - loss: 0.2876 - categorical_accuracy: 0.8789 - val_loss: 0.3161 - val_categorical_accuracy: 0.8710\n",
      "Epoch 50/10000\n",
      "471/471 [==============================] - 33s 69ms/step - loss: 0.2865 - categorical_accuracy: 0.8792 - val_loss: 0.3115 - val_categorical_accuracy: 0.8753\n",
      "Epoch 51/10000\n",
      "471/471 [==============================] - 33s 69ms/step - loss: 0.2842 - categorical_accuracy: 0.8816 - val_loss: 0.3109 - val_categorical_accuracy: 0.8730\n",
      "Epoch 52/10000\n",
      "471/471 [==============================] - 33s 69ms/step - loss: 0.2841 - categorical_accuracy: 0.8808 - val_loss: 0.3131 - val_categorical_accuracy: 0.8710\n",
      "Epoch 53/10000\n",
      "471/471 [==============================] - 33s 69ms/step - loss: 0.2830 - categorical_accuracy: 0.8810 - val_loss: 0.3109 - val_categorical_accuracy: 0.8756\n",
      "Epoch 54/10000\n",
      "471/471 [==============================] - 33s 69ms/step - loss: 0.2829 - categorical_accuracy: 0.8808 - val_loss: 0.3399 - val_categorical_accuracy: 0.8645\n",
      "Epoch 55/10000\n",
      "471/471 [==============================] - 33s 69ms/step - loss: 0.2815 - categorical_accuracy: 0.8822 - val_loss: 0.3100 - val_categorical_accuracy: 0.8766\n",
      "Epoch 56/10000\n",
      "471/471 [==============================] - 33s 70ms/step - loss: 0.2801 - categorical_accuracy: 0.8812 - val_loss: 0.3093 - val_categorical_accuracy: 0.8756\n",
      "Epoch 57/10000\n",
      "471/471 [==============================] - 33s 71ms/step - loss: 0.2794 - categorical_accuracy: 0.8849 - val_loss: 0.3086 - val_categorical_accuracy: 0.8766\n",
      "Epoch 58/10000\n",
      "471/471 [==============================] - 33s 70ms/step - loss: 0.2791 - categorical_accuracy: 0.8849 - val_loss: 0.3146 - val_categorical_accuracy: 0.8727\n",
      "Epoch 59/10000\n",
      "471/471 [==============================] - 33s 71ms/step - loss: 0.2793 - categorical_accuracy: 0.8812 - val_loss: 0.3070 - val_categorical_accuracy: 0.8763\n",
      "Epoch 60/10000\n",
      "471/471 [==============================] - 33s 69ms/step - loss: 0.2770 - categorical_accuracy: 0.8850 - val_loss: 0.3170 - val_categorical_accuracy: 0.8704\n",
      "Epoch 61/10000\n",
      "471/471 [==============================] - 34s 71ms/step - loss: 0.2771 - categorical_accuracy: 0.8832 - val_loss: 0.3074 - val_categorical_accuracy: 0.8782\n",
      "Epoch 62/10000\n",
      "471/471 [==============================] - 34s 73ms/step - loss: 0.2755 - categorical_accuracy: 0.8861 - val_loss: 0.3072 - val_categorical_accuracy: 0.8756\n",
      "Epoch 63/10000\n",
      "471/471 [==============================] - 34s 73ms/step - loss: 0.2760 - categorical_accuracy: 0.8860 - val_loss: 0.3072 - val_categorical_accuracy: 0.8802\n",
      "Epoch 64/10000\n",
      "471/471 [==============================] - 33s 71ms/step - loss: 0.2741 - categorical_accuracy: 0.8864 - val_loss: 0.3070 - val_categorical_accuracy: 0.8759\n",
      "Epoch 65/10000\n",
      "471/471 [==============================] - 33s 70ms/step - loss: 0.2728 - categorical_accuracy: 0.8860 - val_loss: 0.3091 - val_categorical_accuracy: 0.8750\n",
      "Epoch 66/10000\n",
      "471/471 [==============================] - 33s 69ms/step - loss: 0.2735 - categorical_accuracy: 0.8854 - val_loss: 0.3079 - val_categorical_accuracy: 0.8782\n",
      "Epoch 67/10000\n",
      "471/471 [==============================] - 33s 70ms/step - loss: 0.2715 - categorical_accuracy: 0.8867 - val_loss: 0.3088 - val_categorical_accuracy: 0.8756\n",
      "Epoch 68/10000\n",
      "471/471 [==============================] - 33s 70ms/step - loss: 0.2720 - categorical_accuracy: 0.8863 - val_loss: 0.3063 - val_categorical_accuracy: 0.8779\n",
      "Epoch 69/10000\n",
      "471/471 [==============================] - 33s 70ms/step - loss: 0.2721 - categorical_accuracy: 0.8867 - val_loss: 0.3092 - val_categorical_accuracy: 0.8786\n",
      "Epoch 70/10000\n",
      "471/471 [==============================] - 33s 70ms/step - loss: 0.2697 - categorical_accuracy: 0.8867 - val_loss: 0.3095 - val_categorical_accuracy: 0.8763\n",
      "Epoch 71/10000\n",
      "471/471 [==============================] - 33s 70ms/step - loss: 0.2687 - categorical_accuracy: 0.8879 - val_loss: 0.3091 - val_categorical_accuracy: 0.8782\n",
      "Epoch 72/10000\n",
      "471/471 [==============================] - 33s 70ms/step - loss: 0.2684 - categorical_accuracy: 0.8869 - val_loss: 0.3052 - val_categorical_accuracy: 0.8786\n",
      "Epoch 73/10000\n",
      "471/471 [==============================] - 33s 69ms/step - loss: 0.2672 - categorical_accuracy: 0.8913 - val_loss: 0.3056 - val_categorical_accuracy: 0.8789\n",
      "Epoch 74/10000\n",
      "471/471 [==============================] - 33s 70ms/step - loss: 0.2675 - categorical_accuracy: 0.8909 - val_loss: 0.3205 - val_categorical_accuracy: 0.8710\n",
      "Epoch 75/10000\n",
      "471/471 [==============================] - 33s 70ms/step - loss: 0.2664 - categorical_accuracy: 0.8892 - val_loss: 0.3050 - val_categorical_accuracy: 0.8799\n",
      "Epoch 76/10000\n",
      "471/471 [==============================] - 33s 70ms/step - loss: 0.2658 - categorical_accuracy: 0.8902 - val_loss: 0.3068 - val_categorical_accuracy: 0.8799\n",
      "Epoch 77/10000\n",
      "471/471 [==============================] - 33s 70ms/step - loss: 0.2665 - categorical_accuracy: 0.8885 - val_loss: 0.3123 - val_categorical_accuracy: 0.8756\n",
      "Epoch 78/10000\n",
      "471/471 [==============================] - 33s 70ms/step - loss: 0.2647 - categorical_accuracy: 0.8911 - val_loss: 0.3036 - val_categorical_accuracy: 0.8809\n",
      "Epoch 79/10000\n",
      "471/471 [==============================] - 33s 70ms/step - loss: 0.2635 - categorical_accuracy: 0.8903 - val_loss: 0.3051 - val_categorical_accuracy: 0.8782\n",
      "Epoch 80/10000\n",
      "471/471 [==============================] - 33s 70ms/step - loss: 0.2643 - categorical_accuracy: 0.8902 - val_loss: 0.3056 - val_categorical_accuracy: 0.8792\n",
      "Epoch 81/10000\n",
      "471/471 [==============================] - 33s 70ms/step - loss: 0.2631 - categorical_accuracy: 0.8920 - val_loss: 0.3027 - val_categorical_accuracy: 0.8825\n",
      "Epoch 82/10000\n",
      "471/471 [==============================] - 33s 70ms/step - loss: 0.2624 - categorical_accuracy: 0.8928 - val_loss: 0.3028 - val_categorical_accuracy: 0.8802\n",
      "Epoch 83/10000\n",
      "471/471 [==============================] - 33s 70ms/step - loss: 0.2599 - categorical_accuracy: 0.8929 - val_loss: 0.3132 - val_categorical_accuracy: 0.8753\n",
      "Epoch 84/10000\n",
      "471/471 [==============================] - 33s 70ms/step - loss: 0.2615 - categorical_accuracy: 0.8934 - val_loss: 0.3034 - val_categorical_accuracy: 0.8815\n",
      "Epoch 85/10000\n",
      "471/471 [==============================] - 33s 70ms/step - loss: 0.2604 - categorical_accuracy: 0.8919 - val_loss: 0.3035 - val_categorical_accuracy: 0.8795\n",
      "Epoch 86/10000\n",
      "471/471 [==============================] - 33s 70ms/step - loss: 0.2606 - categorical_accuracy: 0.8905 - val_loss: 0.3129 - val_categorical_accuracy: 0.8733\n",
      "Epoch 87/10000\n",
      "471/471 [==============================] - 33s 70ms/step - loss: 0.2587 - categorical_accuracy: 0.8923 - val_loss: 0.3059 - val_categorical_accuracy: 0.8802\n",
      "Epoch 88/10000\n",
      "471/471 [==============================] - 33s 70ms/step - loss: 0.2603 - categorical_accuracy: 0.8931 - val_loss: 0.3071 - val_categorical_accuracy: 0.8789\n",
      "Epoch 89/10000\n",
      "471/471 [==============================] - 33s 70ms/step - loss: 0.2584 - categorical_accuracy: 0.8920 - val_loss: 0.3026 - val_categorical_accuracy: 0.8815\n",
      "Epoch 90/10000\n",
      "471/471 [==============================] - 33s 70ms/step - loss: 0.2572 - categorical_accuracy: 0.8933 - val_loss: 0.3038 - val_categorical_accuracy: 0.8795\n",
      "Epoch 91/10000\n",
      "471/471 [==============================] - 33s 70ms/step - loss: 0.2577 - categorical_accuracy: 0.8942 - val_loss: 0.3046 - val_categorical_accuracy: 0.8782\n",
      "Epoch 92/10000\n",
      "471/471 [==============================] - 33s 70ms/step - loss: 0.2558 - categorical_accuracy: 0.8946 - val_loss: 0.3065 - val_categorical_accuracy: 0.8802\n",
      "Epoch 93/10000\n",
      "471/471 [==============================] - 33s 70ms/step - loss: 0.2557 - categorical_accuracy: 0.8950 - val_loss: 0.3019 - val_categorical_accuracy: 0.8805\n",
      "Epoch 94/10000\n",
      "471/471 [==============================] - 33s 70ms/step - loss: 0.2541 - categorical_accuracy: 0.8948 - val_loss: 0.3024 - val_categorical_accuracy: 0.8786\n",
      "Epoch 95/10000\n"
     ]
    },
    {
     "name": "stdout",
     "output_type": "stream",
     "text": [
      "471/471 [==============================] - 33s 70ms/step - loss: 0.2533 - categorical_accuracy: 0.8955 - val_loss: 0.3137 - val_categorical_accuracy: 0.8743\n",
      "Epoch 96/10000\n",
      "471/471 [==============================] - 32s 68ms/step - loss: 0.2540 - categorical_accuracy: 0.8955 - val_loss: 0.3227 - val_categorical_accuracy: 0.8704\n",
      "Epoch 97/10000\n",
      "471/471 [==============================] - 32s 69ms/step - loss: 0.2541 - categorical_accuracy: 0.8942 - val_loss: 0.3138 - val_categorical_accuracy: 0.8753\n",
      "Epoch 98/10000\n",
      "471/471 [==============================] - 33s 69ms/step - loss: 0.2523 - categorical_accuracy: 0.8972 - val_loss: 0.3025 - val_categorical_accuracy: 0.8779\n",
      "Epoch 99/10000\n",
      "471/471 [==============================] - 32s 68ms/step - loss: 0.2537 - categorical_accuracy: 0.8966 - val_loss: 0.3029 - val_categorical_accuracy: 0.8786\n",
      "Epoch 100/10000\n",
      "471/471 [==============================] - 32s 69ms/step - loss: 0.2535 - categorical_accuracy: 0.8959 - val_loss: 0.3263 - val_categorical_accuracy: 0.8707\n",
      "Epoch 101/10000\n",
      "471/471 [==============================] - 32s 69ms/step - loss: 0.2521 - categorical_accuracy: 0.8971 - val_loss: 0.3041 - val_categorical_accuracy: 0.8786\n",
      "Epoch 102/10000\n",
      "471/471 [==============================] - 33s 69ms/step - loss: 0.2514 - categorical_accuracy: 0.8956 - val_loss: 0.3106 - val_categorical_accuracy: 0.8766\n",
      "Epoch 103/10000\n",
      "471/471 [==============================] - 32s 68ms/step - loss: 0.2505 - categorical_accuracy: 0.8980 - val_loss: 0.3041 - val_categorical_accuracy: 0.8818\n",
      "Epoch 104/10000\n",
      "471/471 [==============================] - 32s 69ms/step - loss: 0.2513 - categorical_accuracy: 0.8966 - val_loss: 0.3019 - val_categorical_accuracy: 0.8828\n",
      "Epoch 105/10000\n",
      "471/471 [==============================] - 32s 69ms/step - loss: 0.2490 - categorical_accuracy: 0.8984 - val_loss: 0.3033 - val_categorical_accuracy: 0.8773\n",
      "Epoch 106/10000\n",
      "471/471 [==============================] - 32s 69ms/step - loss: 0.2497 - categorical_accuracy: 0.8962 - val_loss: 0.3015 - val_categorical_accuracy: 0.8779\n",
      "Epoch 107/10000\n",
      "471/471 [==============================] - 32s 68ms/step - loss: 0.2490 - categorical_accuracy: 0.8979 - val_loss: 0.3022 - val_categorical_accuracy: 0.8786\n",
      "Epoch 108/10000\n",
      "471/471 [==============================] - 33s 69ms/step - loss: 0.2502 - categorical_accuracy: 0.8962 - val_loss: 0.3028 - val_categorical_accuracy: 0.8795\n",
      "Epoch 109/10000\n",
      "471/471 [==============================] - 32s 68ms/step - loss: 0.2488 - categorical_accuracy: 0.8980 - val_loss: 0.3008 - val_categorical_accuracy: 0.8818\n",
      "Epoch 110/10000\n",
      "471/471 [==============================] - 32s 69ms/step - loss: 0.2477 - categorical_accuracy: 0.8978 - val_loss: 0.3000 - val_categorical_accuracy: 0.8792\n",
      "Epoch 111/10000\n",
      "471/471 [==============================] - 33s 71ms/step - loss: 0.2470 - categorical_accuracy: 0.8986 - val_loss: 0.3010 - val_categorical_accuracy: 0.8792\n",
      "Epoch 112/10000\n",
      "471/471 [==============================] - 33s 71ms/step - loss: 0.2468 - categorical_accuracy: 0.9004 - val_loss: 0.3066 - val_categorical_accuracy: 0.8792\n",
      "Epoch 113/10000\n",
      "471/471 [==============================] - 32s 68ms/step - loss: 0.2450 - categorical_accuracy: 0.8996 - val_loss: 0.3016 - val_categorical_accuracy: 0.8799\n",
      "Epoch 114/10000\n",
      "471/471 [==============================] - 33s 69ms/step - loss: 0.2454 - categorical_accuracy: 0.8993 - val_loss: 0.3248 - val_categorical_accuracy: 0.8700\n",
      "Epoch 115/10000\n",
      "471/471 [==============================] - 33s 69ms/step - loss: 0.2452 - categorical_accuracy: 0.8992 - val_loss: 0.3016 - val_categorical_accuracy: 0.8812\n",
      "Epoch 116/10000\n",
      "471/471 [==============================] - 32s 68ms/step - loss: 0.2457 - categorical_accuracy: 0.9003 - val_loss: 0.3028 - val_categorical_accuracy: 0.8773\n",
      "Epoch 117/10000\n",
      "471/471 [==============================] - 32s 69ms/step - loss: 0.2429 - categorical_accuracy: 0.9000 - val_loss: 0.3040 - val_categorical_accuracy: 0.8822\n",
      "Epoch 118/10000\n",
      "471/471 [==============================] - 32s 68ms/step - loss: 0.2435 - categorical_accuracy: 0.9010 - val_loss: 0.3108 - val_categorical_accuracy: 0.8789\n",
      "Epoch 119/10000\n",
      "471/471 [==============================] - 33s 69ms/step - loss: 0.2438 - categorical_accuracy: 0.9015 - val_loss: 0.3146 - val_categorical_accuracy: 0.8766\n",
      "Epoch 120/10000\n",
      "471/471 [==============================] - 32s 68ms/step - loss: 0.2443 - categorical_accuracy: 0.9010 - val_loss: 0.3075 - val_categorical_accuracy: 0.8812\n",
      "Epoch 121/10000\n",
      "471/471 [==============================] - 32s 69ms/step - loss: 0.2437 - categorical_accuracy: 0.8994 - val_loss: 0.3023 - val_categorical_accuracy: 0.8812\n",
      "Epoch 122/10000\n",
      "471/471 [==============================] - 32s 68ms/step - loss: 0.2430 - categorical_accuracy: 0.8999 - val_loss: 0.3026 - val_categorical_accuracy: 0.8789\n",
      "Epoch 123/10000\n",
      "471/471 [==============================] - 32s 69ms/step - loss: 0.2426 - categorical_accuracy: 0.9002 - val_loss: 0.3014 - val_categorical_accuracy: 0.8782\n",
      "Epoch 124/10000\n",
      "471/471 [==============================] - 33s 69ms/step - loss: 0.2405 - categorical_accuracy: 0.9027 - val_loss: 0.3099 - val_categorical_accuracy: 0.8786\n",
      "Epoch 125/10000\n",
      "471/471 [==============================] - 32s 69ms/step - loss: 0.2421 - categorical_accuracy: 0.8990 - val_loss: 0.3011 - val_categorical_accuracy: 0.8805\n",
      "Epoch 126/10000\n",
      "471/471 [==============================] - 32s 69ms/step - loss: 0.2401 - categorical_accuracy: 0.9035 - val_loss: 0.3062 - val_categorical_accuracy: 0.8812\n",
      "Epoch 127/10000\n",
      "471/471 [==============================] - 33s 69ms/step - loss: 0.2403 - categorical_accuracy: 0.9026 - val_loss: 0.3261 - val_categorical_accuracy: 0.8720\n",
      "Epoch 128/10000\n",
      "471/471 [==============================] - 32s 69ms/step - loss: 0.2420 - categorical_accuracy: 0.8996 - val_loss: 0.3021 - val_categorical_accuracy: 0.8818\n",
      "Epoch 129/10000\n",
      "471/471 [==============================] - 33s 70ms/step - loss: 0.2406 - categorical_accuracy: 0.9012 - val_loss: 0.3005 - val_categorical_accuracy: 0.8789\n",
      "stop  14:12:46\n",
      "Took =  1:11:00.385092\n"
     ]
    }
   ],
   "source": [
    "history_VGG_1 = FitModel(model_VGG_1)"
   ]
  },
  {
   "cell_type": "code",
   "execution_count": 66,
   "metadata": {},
   "outputs": [
    {
     "data": {
      "image/png": "[encoded data removed]",
      "text/plain": [
       "<Figure size 720x360 with 2 Axes>"
      ]
     },
     "metadata": {
      "needs_background": "light"
     },
     "output_type": "display_data"
    }
   ],
   "source": [
    "PlotModelFitHistory(history_VGG_1)"
   ]
  },
  {
   "cell_type": "code",
   "execution_count": 67,
   "metadata": {},
   "outputs": [],
   "source": [
    "(test_y, pred_y) = PredictModel(model_VGG_1)"
   ]
  },
  {
   "cell_type": "code",
   "execution_count": 68,
   "metadata": {},
   "outputs": [
    {
     "name": "stdout",
     "output_type": "stream",
     "text": [
      "Accuracy score:  0.9017197599261311\n",
      "F1 score:  0.8891720646401685\n",
      "              precision    recall  f1-score   support\n",
      "\n",
      "           0       0.90      0.95      0.93     44982\n",
      "           1       0.90      0.81      0.85     24330\n",
      "\n",
      "    accuracy                           0.90     69312\n",
      "   macro avg       0.90      0.88      0.89     69312\n",
      "weighted avg       0.90      0.90      0.90     69312\n",
      "\n"
     ]
    }
   ],
   "source": [
    "ShowStats('VGG1', test_y, pred_y)"
   ]
  },
  {
   "cell_type": "code",
   "execution_count": 69,
   "metadata": {},
   "outputs": [
    {
     "data": {
      "image/png": "[encoded data removed]",
      "text/plain": [
       "<Figure size 432x288 with 2 Axes>"
      ]
     },
     "metadata": {
      "needs_background": "light"
     },
     "output_type": "display_data"
    }
   ],
   "source": [
    "PlotConfusionMatrix(test_y, pred_y)"
   ]
  },
  {
   "cell_type": "markdown",
   "metadata": {},
   "source": [
    "### Observation\n",
    "* Some overfitting - Model doesn't appear to reduce after 25 or so epochs\n",
    "* This model took much longer to train.\n",
    "* Reviewing the input size that VGG was designed for the number of inputs is much reduced.\n",
    "* Lets reduce the number of convolutions layers and converlutions in the layer to improve training times.\n",
    "* Detection recall improved at 81%\n",
    "* So far the best model"
   ]
  },
  {
   "cell_type": "markdown",
   "metadata": {},
   "source": [
    "## 5. VGG 2 with simplified convolutions\n",
    "* We have 20k images so that should be ok for training\n",
    "* image size is small so down scaling is not too beneficial\n",
    "* after 40 to 50 epics so could stop early \n",
    "* over fitting so reduce the number of convolutions\n",
    "* Given number of images, data augmentation probably not required\n"
   ]
  },
  {
   "cell_type": "code",
   "execution_count": 70,
   "metadata": {
    "scrolled": true
   },
   "outputs": [],
   "source": [
    "model_VGG_2 = tf.keras.Sequential([\n",
    "    #VGG block 1\n",
    "    tf.keras.layers.Conv2D(32, (3, 3), activation='relu', padding='same', input_shape=INPUT_DIM),\n",
    "    tf.keras.layers.Conv2D(32, (3, 3), activation='relu', padding='same'),\n",
    "    tf.keras.layers.MaxPooling2D((2, 2)),\n",
    "    \n",
    "    #VGG block 2\n",
    "    tf.keras.layers.Conv2D(64, (3, 3), activation='relu', padding='same'),\n",
    "    tf.keras.layers.Conv2D(64, (3, 3), activation='relu', padding='same'),\n",
    "    tf.keras.layers.MaxPooling2D((2, 2)),\n",
    "    \n",
    "    tf.keras.layers.Flatten(),\n",
    "    \n",
    "    tf.keras.layers.Dense(128, activation='sigmoid'),\n",
    "    tf.keras.layers.Dropout(.2),\n",
    "    tf.keras.layers.Dense(OUTPUT_CLASSES, activation='sigmoid' )\n",
    "])"
   ]
  },
  {
   "cell_type": "code",
   "execution_count": 71,
   "metadata": {},
   "outputs": [],
   "source": [
    "CompileModel(model_VGG_2)"
   ]
  },
  {
   "cell_type": "code",
   "execution_count": 72,
   "metadata": {},
   "outputs": [
    {
     "name": "stdout",
     "output_type": "stream",
     "text": [
      "start  14:14:51\n",
      "Epoch 1/10000\n",
      "471/471 [==============================] - 27s 57ms/step - loss: 0.6556 - categorical_accuracy: 0.6422 - val_loss: 0.6722 - val_categorical_accuracy: 0.5902\n",
      "Epoch 2/10000\n",
      "471/471 [==============================] - 27s 58ms/step - loss: 0.6406 - categorical_accuracy: 0.6533 - val_loss: 0.6463 - val_categorical_accuracy: 0.5902\n",
      "Epoch 3/10000\n",
      "471/471 [==============================] - 27s 56ms/step - loss: 0.6128 - categorical_accuracy: 0.6698 - val_loss: 0.6002 - val_categorical_accuracy: 0.6105\n",
      "Epoch 4/10000\n",
      "471/471 [==============================] - 27s 57ms/step - loss: 0.5637 - categorical_accuracy: 0.7087 - val_loss: 0.5367 - val_categorical_accuracy: 0.6992\n",
      "Epoch 5/10000\n",
      "471/471 [==============================] - 27s 57ms/step - loss: 0.5008 - categorical_accuracy: 0.7551 - val_loss: 0.4632 - val_categorical_accuracy: 0.7732\n",
      "Epoch 6/10000\n",
      "471/471 [==============================] - 27s 57ms/step - loss: 0.4686 - categorical_accuracy: 0.7711 - val_loss: 0.4329 - val_categorical_accuracy: 0.7948\n",
      "Epoch 7/10000\n",
      "471/471 [==============================] - 28s 59ms/step - loss: 0.4501 - categorical_accuracy: 0.7856 - val_loss: 0.4259 - val_categorical_accuracy: 0.7961\n",
      "Epoch 8/10000\n",
      "471/471 [==============================] - 27s 57ms/step - loss: 0.4340 - categorical_accuracy: 0.7963 - val_loss: 0.4191 - val_categorical_accuracy: 0.7997\n",
      "Epoch 9/10000\n",
      "471/471 [==============================] - 27s 57ms/step - loss: 0.4236 - categorical_accuracy: 0.8005 - val_loss: 0.4087 - val_categorical_accuracy: 0.8085\n",
      "Epoch 10/10000\n",
      "471/471 [==============================] - 27s 57ms/step - loss: 0.4156 - categorical_accuracy: 0.8075 - val_loss: 0.3969 - val_categorical_accuracy: 0.8213\n",
      "Epoch 11/10000\n",
      "471/471 [==============================] - 27s 57ms/step - loss: 0.4060 - categorical_accuracy: 0.8122 - val_loss: 0.3951 - val_categorical_accuracy: 0.8190\n",
      "Epoch 12/10000\n",
      "471/471 [==============================] - 27s 57ms/step - loss: 0.3990 - categorical_accuracy: 0.8175 - val_loss: 0.3868 - val_categorical_accuracy: 0.8242\n",
      "Epoch 13/10000\n",
      "471/471 [==============================] - 27s 57ms/step - loss: 0.3899 - categorical_accuracy: 0.8238 - val_loss: 0.3780 - val_categorical_accuracy: 0.8318\n",
      "Epoch 14/10000\n",
      "471/471 [==============================] - 27s 57ms/step - loss: 0.3805 - categorical_accuracy: 0.8280 - val_loss: 0.3737 - val_categorical_accuracy: 0.8350\n",
      "Epoch 15/10000\n",
      "471/471 [==============================] - 27s 57ms/step - loss: 0.3764 - categorical_accuracy: 0.8335 - val_loss: 0.3642 - val_categorical_accuracy: 0.8403\n",
      "Epoch 16/10000\n",
      "471/471 [==============================] - 27s 57ms/step - loss: 0.3731 - categorical_accuracy: 0.8345 - val_loss: 0.3603 - val_categorical_accuracy: 0.8429\n",
      "Epoch 17/10000\n",
      "471/471 [==============================] - 27s 57ms/step - loss: 0.3654 - categorical_accuracy: 0.8404 - val_loss: 0.3607 - val_categorical_accuracy: 0.8439\n",
      "Epoch 18/10000\n",
      "471/471 [==============================] - 27s 57ms/step - loss: 0.3643 - categorical_accuracy: 0.8403 - val_loss: 0.3567 - val_categorical_accuracy: 0.8455\n",
      "Epoch 19/10000\n",
      "471/471 [==============================] - 27s 57ms/step - loss: 0.3609 - categorical_accuracy: 0.8428 - val_loss: 0.3521 - val_categorical_accuracy: 0.8488\n",
      "Epoch 20/10000\n",
      "471/471 [==============================] - 27s 57ms/step - loss: 0.3587 - categorical_accuracy: 0.8445 - val_loss: 0.3504 - val_categorical_accuracy: 0.8517\n",
      "Epoch 21/10000\n",
      "471/471 [==============================] - 27s 57ms/step - loss: 0.3542 - categorical_accuracy: 0.8453 - val_loss: 0.3598 - val_categorical_accuracy: 0.8419\n",
      "Epoch 22/10000\n",
      "471/471 [==============================] - 27s 57ms/step - loss: 0.3520 - categorical_accuracy: 0.8465 - val_loss: 0.3536 - val_categorical_accuracy: 0.8445\n",
      "Epoch 23/10000\n",
      "471/471 [==============================] - 27s 57ms/step - loss: 0.3516 - categorical_accuracy: 0.8460 - val_loss: 0.3446 - val_categorical_accuracy: 0.8530\n",
      "Epoch 24/10000\n",
      "471/471 [==============================] - 27s 57ms/step - loss: 0.3481 - categorical_accuracy: 0.8523 - val_loss: 0.3560 - val_categorical_accuracy: 0.8439\n",
      "Epoch 25/10000\n",
      "471/471 [==============================] - 27s 57ms/step - loss: 0.3467 - categorical_accuracy: 0.8497 - val_loss: 0.3626 - val_categorical_accuracy: 0.8435\n",
      "Epoch 26/10000\n",
      "471/471 [==============================] - 27s 57ms/step - loss: 0.3434 - categorical_accuracy: 0.8516 - val_loss: 0.3384 - val_categorical_accuracy: 0.8556\n",
      "Epoch 27/10000\n",
      "471/471 [==============================] - 27s 57ms/step - loss: 0.3432 - categorical_accuracy: 0.8522 - val_loss: 0.3426 - val_categorical_accuracy: 0.8491\n",
      "Epoch 28/10000\n",
      "471/471 [==============================] - 27s 57ms/step - loss: 0.3403 - categorical_accuracy: 0.8549 - val_loss: 0.3461 - val_categorical_accuracy: 0.8491\n",
      "Epoch 29/10000\n",
      "471/471 [==============================] - 27s 57ms/step - loss: 0.3399 - categorical_accuracy: 0.8544 - val_loss: 0.3377 - val_categorical_accuracy: 0.8556\n",
      "Epoch 30/10000\n",
      "471/471 [==============================] - 27s 57ms/step - loss: 0.3396 - categorical_accuracy: 0.8539 - val_loss: 0.3469 - val_categorical_accuracy: 0.8504\n",
      "Epoch 31/10000\n",
      "471/471 [==============================] - 27s 57ms/step - loss: 0.3364 - categorical_accuracy: 0.8543 - val_loss: 0.3360 - val_categorical_accuracy: 0.8563\n",
      "Epoch 32/10000\n",
      "471/471 [==============================] - 27s 57ms/step - loss: 0.3367 - categorical_accuracy: 0.8558 - val_loss: 0.3337 - val_categorical_accuracy: 0.8579\n",
      "Epoch 33/10000\n",
      "471/471 [==============================] - 27s 57ms/step - loss: 0.3339 - categorical_accuracy: 0.8561 - val_loss: 0.3353 - val_categorical_accuracy: 0.8560\n",
      "Epoch 34/10000\n",
      "471/471 [==============================] - 27s 57ms/step - loss: 0.3335 - categorical_accuracy: 0.8574 - val_loss: 0.3363 - val_categorical_accuracy: 0.8563\n",
      "Epoch 35/10000\n",
      "471/471 [==============================] - 27s 57ms/step - loss: 0.3330 - categorical_accuracy: 0.8565 - val_loss: 0.3318 - val_categorical_accuracy: 0.8589\n",
      "Epoch 36/10000\n",
      "471/471 [==============================] - 27s 57ms/step - loss: 0.3304 - categorical_accuracy: 0.8601 - val_loss: 0.3332 - val_categorical_accuracy: 0.8573\n",
      "Epoch 37/10000\n",
      "471/471 [==============================] - 27s 57ms/step - loss: 0.3315 - categorical_accuracy: 0.8590 - val_loss: 0.3385 - val_categorical_accuracy: 0.8530\n",
      "Epoch 38/10000\n",
      "471/471 [==============================] - 27s 57ms/step - loss: 0.3289 - categorical_accuracy: 0.8578 - val_loss: 0.3285 - val_categorical_accuracy: 0.8668\n",
      "Epoch 39/10000\n",
      "471/471 [==============================] - 27s 57ms/step - loss: 0.3292 - categorical_accuracy: 0.8608 - val_loss: 0.3337 - val_categorical_accuracy: 0.8566\n",
      "Epoch 40/10000\n",
      "471/471 [==============================] - 27s 57ms/step - loss: 0.3302 - categorical_accuracy: 0.8590 - val_loss: 0.3301 - val_categorical_accuracy: 0.8599\n",
      "Epoch 41/10000\n",
      "471/471 [==============================] - 27s 57ms/step - loss: 0.3267 - categorical_accuracy: 0.8599 - val_loss: 0.3261 - val_categorical_accuracy: 0.8615\n",
      "Epoch 42/10000\n",
      "471/471 [==============================] - 27s 57ms/step - loss: 0.3258 - categorical_accuracy: 0.8621 - val_loss: 0.3411 - val_categorical_accuracy: 0.8530\n",
      "Epoch 43/10000\n",
      "471/471 [==============================] - 27s 58ms/step - loss: 0.3256 - categorical_accuracy: 0.8626 - val_loss: 0.3254 - val_categorical_accuracy: 0.8645\n",
      "Epoch 44/10000\n",
      "471/471 [==============================] - 27s 58ms/step - loss: 0.3250 - categorical_accuracy: 0.8620 - val_loss: 0.3275 - val_categorical_accuracy: 0.8589\n",
      "Epoch 45/10000\n",
      "471/471 [==============================] - 27s 58ms/step - loss: 0.3256 - categorical_accuracy: 0.8614 - val_loss: 0.3274 - val_categorical_accuracy: 0.8592\n",
      "Epoch 46/10000\n",
      "471/471 [==============================] - 28s 59ms/step - loss: 0.3234 - categorical_accuracy: 0.8628 - val_loss: 0.3263 - val_categorical_accuracy: 0.8602\n",
      "Epoch 47/10000\n",
      "471/471 [==============================] - 27s 57ms/step - loss: 0.3232 - categorical_accuracy: 0.8630 - val_loss: 0.3281 - val_categorical_accuracy: 0.8599\n",
      "Epoch 48/10000\n",
      "471/471 [==============================] - 27s 57ms/step - loss: 0.3216 - categorical_accuracy: 0.8642 - val_loss: 0.3389 - val_categorical_accuracy: 0.8553\n",
      "Epoch 49/10000\n",
      "471/471 [==============================] - 27s 57ms/step - loss: 0.3208 - categorical_accuracy: 0.8631 - val_loss: 0.3273 - val_categorical_accuracy: 0.8596\n",
      "Epoch 50/10000\n",
      "471/471 [==============================] - 27s 57ms/step - loss: 0.3209 - categorical_accuracy: 0.8644 - val_loss: 0.3218 - val_categorical_accuracy: 0.8642\n",
      "Epoch 51/10000\n",
      "471/471 [==============================] - 27s 56ms/step - loss: 0.3204 - categorical_accuracy: 0.8640 - val_loss: 0.3286 - val_categorical_accuracy: 0.8599\n",
      "Epoch 52/10000\n",
      "471/471 [==============================] - 27s 57ms/step - loss: 0.3195 - categorical_accuracy: 0.8668 - val_loss: 0.3260 - val_categorical_accuracy: 0.8606\n",
      "Epoch 53/10000\n",
      "471/471 [==============================] - 27s 56ms/step - loss: 0.3194 - categorical_accuracy: 0.8648 - val_loss: 0.3261 - val_categorical_accuracy: 0.8612\n",
      "Epoch 54/10000\n",
      "471/471 [==============================] - 27s 57ms/step - loss: 0.3208 - categorical_accuracy: 0.8640 - val_loss: 0.3220 - val_categorical_accuracy: 0.8635\n",
      "Epoch 55/10000\n",
      "471/471 [==============================] - 27s 57ms/step - loss: 0.3174 - categorical_accuracy: 0.8644 - val_loss: 0.3215 - val_categorical_accuracy: 0.8645\n",
      "Epoch 56/10000\n",
      "471/471 [==============================] - 27s 57ms/step - loss: 0.3177 - categorical_accuracy: 0.8659 - val_loss: 0.3275 - val_categorical_accuracy: 0.8619\n",
      "Epoch 57/10000\n",
      "471/471 [==============================] - 27s 56ms/step - loss: 0.3174 - categorical_accuracy: 0.8652 - val_loss: 0.3257 - val_categorical_accuracy: 0.8628\n",
      "Epoch 58/10000\n",
      "471/471 [==============================] - 27s 57ms/step - loss: 0.3160 - categorical_accuracy: 0.8657 - val_loss: 0.3331 - val_categorical_accuracy: 0.8589\n",
      "Epoch 59/10000\n",
      "471/471 [==============================] - 27s 58ms/step - loss: 0.3194 - categorical_accuracy: 0.8649 - val_loss: 0.3241 - val_categorical_accuracy: 0.8632\n",
      "Epoch 60/10000\n",
      "471/471 [==============================] - 27s 57ms/step - loss: 0.3147 - categorical_accuracy: 0.8672 - val_loss: 0.3206 - val_categorical_accuracy: 0.8651\n",
      "Epoch 61/10000\n",
      "471/471 [==============================] - 27s 57ms/step - loss: 0.3142 - categorical_accuracy: 0.8675 - val_loss: 0.3246 - val_categorical_accuracy: 0.8635\n",
      "Epoch 62/10000\n",
      "471/471 [==============================] - 27s 57ms/step - loss: 0.3137 - categorical_accuracy: 0.8679 - val_loss: 0.3192 - val_categorical_accuracy: 0.8658\n",
      "Epoch 63/10000\n",
      "471/471 [==============================] - 27s 57ms/step - loss: 0.3141 - categorical_accuracy: 0.8677 - val_loss: 0.3199 - val_categorical_accuracy: 0.8648\n",
      "stop  14:43:06\n",
      "Took =  0:28:15.008088\n"
     ]
    }
   ],
   "source": [
    "history_VGG_2 = FitModel(model_VGG_2)"
   ]
  },
  {
   "cell_type": "code",
   "execution_count": 73,
   "metadata": {},
   "outputs": [
    {
     "data": {
      "image/png": "[encoded data removed]",
      "text/plain": [
       "<Figure size 720x360 with 2 Axes>"
      ]
     },
     "metadata": {
      "needs_background": "light"
     },
     "output_type": "display_data"
    }
   ],
   "source": [
    "PlotModelFitHistory(history_VGG_2)"
   ]
  },
  {
   "cell_type": "code",
   "execution_count": 74,
   "metadata": {},
   "outputs": [],
   "source": [
    "(test_y, pred_y) = PredictModel(model_VGG_2)"
   ]
  },
  {
   "cell_type": "code",
   "execution_count": 75,
   "metadata": {},
   "outputs": [
    {
     "name": "stdout",
     "output_type": "stream",
     "text": [
      "Accuracy score:  0.8709747229916898\n",
      "F1 score:  0.8495173483241232\n",
      "              precision    recall  f1-score   support\n",
      "\n",
      "           0       0.86      0.96      0.91     44994\n",
      "           1       0.91      0.70      0.79     24318\n",
      "\n",
      "    accuracy                           0.87     69312\n",
      "   macro avg       0.88      0.83      0.85     69312\n",
      "weighted avg       0.88      0.87      0.87     69312\n",
      "\n"
     ]
    }
   ],
   "source": [
    "ShowStats('VGG2', test_y, pred_y)"
   ]
  },
  {
   "cell_type": "code",
   "execution_count": 76,
   "metadata": {},
   "outputs": [
    {
     "data": {
      "image/png": "[encoded data removed]",
      "text/plain": [
       "<Figure size 432x288 with 2 Axes>"
      ]
     },
     "metadata": {
      "needs_background": "light"
     },
     "output_type": "display_data"
    }
   ],
   "source": [
    "PlotConfusionMatrix(test_y, pred_y)"
   ]
  },
  {
   "cell_type": "markdown",
   "metadata": {},
   "source": [
    "### Observations\n",
    "* The model still took a long time to train\n",
    "* There looks to be some minimal overfitting\n",
    "* Reducing the number of epochs to 50 showed minimal loss issues but accuracy was jumbled\n",
    "* Detection recall still around 70%"
   ]
  },
  {
   "cell_type": "markdown",
   "metadata": {},
   "source": [
    "## 6. SC-CNN 1\n",
    "* Try model based on SC-CNN \n",
    "* We have 20k images so that should be ok for training\n",
    "* The paper doesn't define last 2 layers of PARAMETER ESTIMATION (S1), AND SPATIALLY CONSTRAINED (S2) LAYERS.\n",
    "* This may be the key here but try without to see if the architecture works\n",
    "* Note 512 internal nodes and use of softmax\n"
   ]
  },
  {
   "cell_type": "code",
   "execution_count": 77,
   "metadata": {
    "scrolled": true
   },
   "outputs": [],
   "source": [
    "model_SC_CNN_1 = tf.keras.Sequential([\n",
    "    # Convolution\n",
    "    \n",
    "    tf.keras.layers.Conv2D(24, (4, 4), activation='relu', padding='same', input_shape=INPUT_DIM),\n",
    "    tf.keras.layers.MaxPooling2D((2, 2)),\n",
    "    tf.keras.layers.Conv2D(36, (3, 3), activation='relu', padding='same'),\n",
    "    tf.keras.layers.MaxPooling2D((2, 2)),\n",
    "    \n",
    "    tf.keras.layers.Flatten(),\n",
    "    \n",
    "    tf.keras.layers.Dense(512, activation='softmax'),\n",
    "    tf.keras.layers.Dense(OUTPUT_CLASSES, activation='sigmoid' )\n",
    "    \n",
    "])"
   ]
  },
  {
   "cell_type": "code",
   "execution_count": 78,
   "metadata": {},
   "outputs": [],
   "source": [
    "CompileModel(model_SC_CNN_1)"
   ]
  },
  {
   "cell_type": "code",
   "execution_count": 79,
   "metadata": {},
   "outputs": [
    {
     "name": "stdout",
     "output_type": "stream",
     "text": [
      "start  14:45:01\n",
      "Epoch 1/10000\n",
      "471/471 [==============================] - 13s 26ms/step - loss: 0.6862 - categorical_accuracy: 0.6631 - val_loss: 0.6875 - val_categorical_accuracy: 0.5902\n",
      "Epoch 2/10000\n",
      "471/471 [==============================] - 12s 26ms/step - loss: 0.6801 - categorical_accuracy: 0.6642 - val_loss: 0.6854 - val_categorical_accuracy: 0.5902\n",
      "Epoch 3/10000\n",
      "471/471 [==============================] - 12s 25ms/step - loss: 0.6763 - categorical_accuracy: 0.6642 - val_loss: 0.6839 - val_categorical_accuracy: 0.5902\n",
      "Epoch 4/10000\n",
      "471/471 [==============================] - 12s 26ms/step - loss: 0.6735 - categorical_accuracy: 0.6642 - val_loss: 0.6828 - val_categorical_accuracy: 0.5902\n",
      "Epoch 5/10000\n",
      "471/471 [==============================] - 12s 26ms/step - loss: 0.6711 - categorical_accuracy: 0.6642 - val_loss: 0.6819 - val_categorical_accuracy: 0.5902\n",
      "Epoch 6/10000\n",
      "471/471 [==============================] - 12s 26ms/step - loss: 0.6691 - categorical_accuracy: 0.6642 - val_loss: 0.6812 - val_categorical_accuracy: 0.5902\n",
      "Epoch 7/10000\n",
      "471/471 [==============================] - 12s 26ms/step - loss: 0.6674 - categorical_accuracy: 0.6642 - val_loss: 0.6805 - val_categorical_accuracy: 0.5902\n",
      "Epoch 8/10000\n",
      "471/471 [==============================] - 12s 25ms/step - loss: 0.6658 - categorical_accuracy: 0.6642 - val_loss: 0.6800 - val_categorical_accuracy: 0.5902\n",
      "Epoch 9/10000\n",
      "471/471 [==============================] - 12s 26ms/step - loss: 0.6644 - categorical_accuracy: 0.6642 - val_loss: 0.6795 - val_categorical_accuracy: 0.5902\n",
      "Epoch 10/10000\n",
      "471/471 [==============================] - 12s 26ms/step - loss: 0.6632 - categorical_accuracy: 0.6642 - val_loss: 0.6791 - val_categorical_accuracy: 0.5902\n",
      "Epoch 11/10000\n",
      "471/471 [==============================] - 12s 26ms/step - loss: 0.6620 - categorical_accuracy: 0.6642 - val_loss: 0.6788 - val_categorical_accuracy: 0.5902\n",
      "Epoch 12/10000\n",
      "471/471 [==============================] - 12s 26ms/step - loss: 0.6609 - categorical_accuracy: 0.6642 - val_loss: 0.6785 - val_categorical_accuracy: 0.5902\n",
      "Epoch 13/10000\n",
      "471/471 [==============================] - 12s 25ms/step - loss: 0.6599 - categorical_accuracy: 0.6642 - val_loss: 0.6782 - val_categorical_accuracy: 0.5902\n",
      "Epoch 14/10000\n",
      "471/471 [==============================] - 12s 26ms/step - loss: 0.6590 - categorical_accuracy: 0.6642 - val_loss: 0.6779 - val_categorical_accuracy: 0.5902\n",
      "Epoch 15/10000\n",
      "471/471 [==============================] - 12s 26ms/step - loss: 0.6581 - categorical_accuracy: 0.6642 - val_loss: 0.6777 - val_categorical_accuracy: 0.5902\n",
      "Epoch 16/10000\n",
      "471/471 [==============================] - 12s 26ms/step - loss: 0.6573 - categorical_accuracy: 0.6642 - val_loss: 0.6775 - val_categorical_accuracy: 0.5902\n",
      "Epoch 17/10000\n",
      "471/471 [==============================] - 12s 26ms/step - loss: 0.6565 - categorical_accuracy: 0.6642 - val_loss: 0.6774 - val_categorical_accuracy: 0.5902\n",
      "Epoch 18/10000\n",
      "471/471 [==============================] - 12s 26ms/step - loss: 0.6557 - categorical_accuracy: 0.6642 - val_loss: 0.6772 - val_categorical_accuracy: 0.5902\n",
      "Epoch 19/10000\n",
      "471/471 [==============================] - 12s 26ms/step - loss: 0.6550 - categorical_accuracy: 0.6642 - val_loss: 0.6771 - val_categorical_accuracy: 0.5902\n",
      "Epoch 20/10000\n",
      "471/471 [==============================] - 12s 26ms/step - loss: 0.6544 - categorical_accuracy: 0.6642 - val_loss: 0.6770 - val_categorical_accuracy: 0.5902\n",
      "Epoch 21/10000\n",
      "471/471 [==============================] - 12s 26ms/step - loss: 0.6537 - categorical_accuracy: 0.6642 - val_loss: 0.6769 - val_categorical_accuracy: 0.5902\n",
      "Epoch 22/10000\n",
      "471/471 [==============================] - 12s 26ms/step - loss: 0.6531 - categorical_accuracy: 0.6642 - val_loss: 0.6768 - val_categorical_accuracy: 0.5902\n",
      "Epoch 23/10000\n",
      "471/471 [==============================] - 12s 26ms/step - loss: 0.6525 - categorical_accuracy: 0.6642 - val_loss: 0.6767 - val_categorical_accuracy: 0.5902\n",
      "Epoch 24/10000\n",
      "471/471 [==============================] - 12s 26ms/step - loss: 0.6520 - categorical_accuracy: 0.6642 - val_loss: 0.6766 - val_categorical_accuracy: 0.5902\n",
      "Epoch 25/10000\n",
      "471/471 [==============================] - 12s 26ms/step - loss: 0.6514 - categorical_accuracy: 0.6642 - val_loss: 0.6766 - val_categorical_accuracy: 0.5902\n",
      "Epoch 26/10000\n",
      "471/471 [==============================] - 12s 26ms/step - loss: 0.6509 - categorical_accuracy: 0.6642 - val_loss: 0.6765 - val_categorical_accuracy: 0.5902\n",
      "stop  14:50:17\n",
      "Took =  0:05:15.765566\n"
     ]
    }
   ],
   "source": [
    "history_SC_CNN_1 = FitModel(model_SC_CNN_1)"
   ]
  },
  {
   "cell_type": "code",
   "execution_count": 80,
   "metadata": {},
   "outputs": [
    {
     "data": {
      "image/png": "[encoded data removed]",
      "text/plain": [
       "<Figure size 720x360 with 2 Axes>"
      ]
     },
     "metadata": {
      "needs_background": "light"
     },
     "output_type": "display_data"
    }
   ],
   "source": [
    "PlotModelFitHistory(history_SC_CNN_1)"
   ]
  },
  {
   "cell_type": "code",
   "execution_count": 81,
   "metadata": {},
   "outputs": [],
   "source": [
    "(test_y, pred_y) = PredictModel(model_SC_CNN_1)"
   ]
  },
  {
   "cell_type": "code",
   "execution_count": 82,
   "metadata": {},
   "outputs": [
    {
     "name": "stdout",
     "output_type": "stream",
     "text": [
      "Accuracy score:  0.6488631117266851\n",
      "F1 score:  0.39352151619620945\n",
      "              precision    recall  f1-score   support\n",
      "\n",
      "           0       0.65      1.00      0.79     44974\n",
      "           1       0.00      0.00      0.00     24338\n",
      "\n",
      "    accuracy                           0.65     69312\n",
      "   macro avg       0.32      0.50      0.39     69312\n",
      "weighted avg       0.42      0.65      0.51     69312\n",
      "\n"
     ]
    }
   ],
   "source": [
    "ShowStats('SC-CNN 1', test_y, pred_y)"
   ]
  },
  {
   "cell_type": "code",
   "execution_count": 83,
   "metadata": {},
   "outputs": [
    {
     "data": {
      "image/png": "[encoded data removed]",
      "text/plain": [
       "<Figure size 432x288 with 2 Axes>"
      ]
     },
     "metadata": {
      "needs_background": "light"
     },
     "output_type": "display_data"
    }
   ],
   "source": [
    "PlotConfusionMatrix(test_y, pred_y)"
   ]
  },
  {
   "cell_type": "markdown",
   "metadata": {},
   "source": [
    "### Observations\n",
    "* The model overfitted\n",
    "* Accuracy about same as VGG2\n",
    "* Detection Recall at 0%\n",
    "* Model is unusable"
   ]
  },
  {
   "cell_type": "markdown",
   "metadata": {},
   "source": [
    "# 7. SC-CNN 2"
   ]
  },
  {
   "cell_type": "markdown",
   "metadata": {},
   "source": [
    "SC-CNN 1 adding some dropout to help reduce overfitting"
   ]
  },
  {
   "cell_type": "code",
   "execution_count": 84,
   "metadata": {},
   "outputs": [],
   "source": [
    "model_SC_CNN_2 = tf.keras.Sequential([\n",
    "    # Convolution\n",
    "    \n",
    "    tf.keras.layers.Conv2D(24, (4, 4), activation='relu', padding='same', input_shape=INPUT_DIM),\n",
    "    tf.keras.layers.MaxPooling2D((2, 2)),\n",
    "    tf.keras.layers.Conv2D(36, (3, 3), activation='relu', padding='same'),\n",
    "    tf.keras.layers.MaxPooling2D((2, 2)),\n",
    "    \n",
    "    tf.keras.layers.Flatten(),\n",
    "    \n",
    "    tf.keras.layers.Dense(512, activation='softmax', kernel_regularizer=tf.keras.regularizers.l2(reg_lambda)),\n",
    "      \n",
    "    tf.keras.layers.Dropout(.2),\n",
    "    \n",
    "    tf.keras.layers.Dense(\n",
    "        OUTPUT_CLASSES, \n",
    "        kernel_regularizer=tf.keras.regularizers.l2(reg_lambda),\n",
    "        activation='sigmoid' )\n",
    "    \n",
    "])"
   ]
  },
  {
   "cell_type": "code",
   "execution_count": 85,
   "metadata": {},
   "outputs": [],
   "source": [
    "CompileModel(model_SC_CNN_2)"
   ]
  },
  {
   "cell_type": "code",
   "execution_count": 86,
   "metadata": {},
   "outputs": [
    {
     "name": "stdout",
     "output_type": "stream",
     "text": [
      "start  14:51:55\n",
      "Epoch 1/10000\n",
      "471/471 [==============================] - 13s 27ms/step - loss: 7.8519 - categorical_accuracy: 0.6642 - val_loss: 7.6420 - val_categorical_accuracy: 0.5902\n",
      "Epoch 2/10000\n",
      "471/471 [==============================] - 13s 27ms/step - loss: 7.4321 - categorical_accuracy: 0.6642 - val_loss: 7.2388 - val_categorical_accuracy: 0.5902\n",
      "Epoch 3/10000\n",
      "471/471 [==============================] - 13s 27ms/step - loss: 7.0392 - categorical_accuracy: 0.6642 - val_loss: 6.8599 - val_categorical_accuracy: 0.5902\n",
      "Epoch 4/10000\n",
      "471/471 [==============================] - 13s 27ms/step - loss: 6.6703 - categorical_accuracy: 0.6642 - val_loss: 6.5037 - val_categorical_accuracy: 0.5902\n",
      "Epoch 5/10000\n",
      "471/471 [==============================] - 13s 27ms/step - loss: 6.3232 - categorical_accuracy: 0.6642 - val_loss: 6.1686 - val_categorical_accuracy: 0.5902\n",
      "Epoch 6/10000\n",
      "471/471 [==============================] - 13s 27ms/step - loss: 5.9969 - categorical_accuracy: 0.6642 - val_loss: 5.8533 - val_categorical_accuracy: 0.5902\n",
      "Epoch 7/10000\n",
      "471/471 [==============================] - 13s 27ms/step - loss: 5.6901 - categorical_accuracy: 0.6642 - val_loss: 5.5565 - val_categorical_accuracy: 0.5902\n",
      "Epoch 8/10000\n",
      "471/471 [==============================] - 13s 27ms/step - loss: 5.4011 - categorical_accuracy: 0.6642 - val_loss: 5.2771 - val_categorical_accuracy: 0.5902\n",
      "Epoch 9/10000\n",
      "471/471 [==============================] - 13s 27ms/step - loss: 5.1289 - categorical_accuracy: 0.6642 - val_loss: 5.0140 - val_categorical_accuracy: 0.5902\n",
      "Epoch 10/10000\n",
      "471/471 [==============================] - 13s 27ms/step - loss: 4.8729 - categorical_accuracy: 0.6642 - val_loss: 4.7663 - val_categorical_accuracy: 0.5902\n",
      "Epoch 11/10000\n",
      "471/471 [==============================] - 13s 27ms/step - loss: 4.6315 - categorical_accuracy: 0.6642 - val_loss: 4.5329 - val_categorical_accuracy: 0.5902\n",
      "Epoch 12/10000\n",
      "471/471 [==============================] - 13s 27ms/step - loss: 4.4044 - categorical_accuracy: 0.6642 - val_loss: 4.3131 - val_categorical_accuracy: 0.5902\n",
      "Epoch 13/10000\n",
      "471/471 [==============================] - 13s 27ms/step - loss: 4.1903 - categorical_accuracy: 0.6642 - val_loss: 4.1060 - val_categorical_accuracy: 0.5902\n",
      "Epoch 14/10000\n",
      "471/471 [==============================] - 13s 27ms/step - loss: 3.9886 - categorical_accuracy: 0.6642 - val_loss: 3.9109 - val_categorical_accuracy: 0.5902\n",
      "Epoch 15/10000\n",
      "471/471 [==============================] - 13s 27ms/step - loss: 3.7986 - categorical_accuracy: 0.6642 - val_loss: 3.7270 - val_categorical_accuracy: 0.5902\n",
      "Epoch 16/10000\n",
      "471/471 [==============================] - 13s 27ms/step - loss: 3.6194 - categorical_accuracy: 0.6642 - val_loss: 3.5537 - val_categorical_accuracy: 0.5902\n",
      "Epoch 17/10000\n",
      "471/471 [==============================] - 13s 27ms/step - loss: 3.4506 - categorical_accuracy: 0.6642 - val_loss: 3.3904 - val_categorical_accuracy: 0.5902\n",
      "Epoch 18/10000\n",
      "471/471 [==============================] - 13s 27ms/step - loss: 3.2915 - categorical_accuracy: 0.6642 - val_loss: 3.2364 - val_categorical_accuracy: 0.5902\n",
      "Epoch 19/10000\n",
      "471/471 [==============================] - 13s 28ms/step - loss: 3.1415 - categorical_accuracy: 0.6642 - val_loss: 3.0913 - val_categorical_accuracy: 0.5902\n",
      "Epoch 20/10000\n",
      "471/471 [==============================] - 13s 27ms/step - loss: 3.0001 - categorical_accuracy: 0.6642 - val_loss: 2.9545 - val_categorical_accuracy: 0.5902\n",
      "Epoch 21/10000\n",
      "471/471 [==============================] - 13s 27ms/step - loss: 2.8668 - categorical_accuracy: 0.6642 - val_loss: 2.8255 - val_categorical_accuracy: 0.5902\n",
      "Epoch 22/10000\n",
      "471/471 [==============================] - 13s 27ms/step - loss: 2.7411 - categorical_accuracy: 0.6642 - val_loss: 2.7039 - val_categorical_accuracy: 0.5902\n",
      "Epoch 23/10000\n",
      "471/471 [==============================] - 13s 27ms/step - loss: 2.6226 - categorical_accuracy: 0.6642 - val_loss: 2.5893 - val_categorical_accuracy: 0.5902\n",
      "Epoch 24/10000\n",
      "471/471 [==============================] - 13s 27ms/step - loss: 2.5107 - categorical_accuracy: 0.6642 - val_loss: 2.4811 - val_categorical_accuracy: 0.5902\n",
      "Epoch 25/10000\n",
      "471/471 [==============================] - 13s 28ms/step - loss: 2.4053 - categorical_accuracy: 0.6642 - val_loss: 2.3792 - val_categorical_accuracy: 0.5902\n",
      "Epoch 26/10000\n",
      "471/471 [==============================] - 13s 27ms/step - loss: 2.3059 - categorical_accuracy: 0.6642 - val_loss: 2.2830 - val_categorical_accuracy: 0.5902\n",
      "stop  14:57:30\n",
      "Took =  0:05:34.516638\n"
     ]
    }
   ],
   "source": [
    "history_SC_CNN_2 = FitModel(model_SC_CNN_2)"
   ]
  },
  {
   "cell_type": "code",
   "execution_count": 87,
   "metadata": {},
   "outputs": [
    {
     "data": {
      "image/png": "[encoded data removed]",
      "text/plain": [
       "<Figure size 720x360 with 2 Axes>"
      ]
     },
     "metadata": {
      "needs_background": "light"
     },
     "output_type": "display_data"
    }
   ],
   "source": [
    "PlotModelFitHistory(history_SC_CNN_2)"
   ]
  },
  {
   "cell_type": "code",
   "execution_count": 88,
   "metadata": {},
   "outputs": [],
   "source": [
    "(test_y, pred_y) = PredictModel(model_SC_CNN_2)"
   ]
  },
  {
   "cell_type": "code",
   "execution_count": 89,
   "metadata": {},
   "outputs": [
    {
     "name": "stdout",
     "output_type": "stream",
     "text": [
      "Accuracy score:  0.6491660895660203\n",
      "F1 score:  0.393632935865695\n",
      "              precision    recall  f1-score   support\n",
      "\n",
      "           0       0.65      1.00      0.79     44995\n",
      "           1       0.00      0.00      0.00     24317\n",
      "\n",
      "    accuracy                           0.65     69312\n",
      "   macro avg       0.32      0.50      0.39     69312\n",
      "weighted avg       0.42      0.65      0.51     69312\n",
      "\n"
     ]
    }
   ],
   "source": [
    "ShowStats('SC-CNN 2', test_y, pred_y)"
   ]
  },
  {
   "cell_type": "code",
   "execution_count": 90,
   "metadata": {},
   "outputs": [
    {
     "data": {
      "image/png": "[encoded data removed]",
      "text/plain": [
       "<Figure size 432x288 with 2 Axes>"
      ]
     },
     "metadata": {
      "needs_background": "light"
     },
     "output_type": "display_data"
    }
   ],
   "source": [
    "PlotConfusionMatrix(test_y, pred_y)"
   ]
  },
  {
   "cell_type": "markdown",
   "metadata": {},
   "source": [
    "### Observations\n",
    "* Better fitting\n",
    "* Still didn't pickup anything\n",
    "* Not a usable model"
   ]
  },
  {
   "cell_type": "markdown",
   "metadata": {},
   "source": [
    "# Model comparison and ultimate judgment"
   ]
  },
  {
   "cell_type": "code",
   "execution_count": 91,
   "metadata": {},
   "outputs": [
    {
     "name": "stdout",
     "output_type": "stream",
     "text": [
      "Name                   Accuracy   F1-score  Precision     Recall\n",
      "Baseline                   0.87       0.85       0.89       0.71\n",
      "Base Reg                   0.85       0.83       0.90       0.65\n",
      "Base Drop                  0.87       0.85       0.88       0.73\n",
      "VGG1                       0.90       0.89       0.90       0.81\n",
      "VGG2                       0.87       0.85       0.91       0.70\n",
      "SC-CNN 1                   0.65       0.39       0.00       0.00\n",
      "SC-CNN 2                   0.65       0.39       0.00       0.00\n"
     ]
    }
   ],
   "source": [
    "#Print out Summary Results\n",
    "print(\"{:20} {:>10} {:>10} {:>10} {:>10}\".format('Name', 'Accuracy', 'F1-score', 'Precision', 'Recall'))\n",
    "for mr in modelResults:\n",
    "    print(\"{:20} {:10.2f} {:10.2f} {:10.2f} {:10.2f}\".format(mr.name, mr.accuracy, mr.f1, mr.precision, mr.recall))"
   ]
  },
  {
   "cell_type": "markdown",
   "metadata": {},
   "source": [
    "### Analysis of models\n",
    "Looking at the models as a screening tool for Cancer\n",
    "* The base MLP model showed some overfitting and provided reasonable results\n",
    "* Using Regularistion resulted in less overfitting but worse detection recall\n",
    "* Applying dropout also reduced overfitting but produced much better recall results\n",
    "* Using the base VGG achitecture resulted in a small amount of overfitting and best recall results\n",
    "* As the size of the inputs are quite low reducing the number of convolutions and adding some regulariation in the final MLP, but this reduced Recall to below that of baseline modeld\n",
    "* Attempts to use models based on SC-CNN architecture produce usable models. The authors of the model used non-public designs for PARAMETER ESTIMATION (S1), and SPATIALLY CONSTRAINED (S2) layers. Without these layers the model was not usable.\n",
    "\n",
    "Whilst the base models showed good results with the VGG1 model produced the best results overall and best recall, a key metric for a scanning test."
   ]
  },
  {
   "cell_type": "code",
   "execution_count": null,
   "metadata": {},
   "outputs": [],
   "source": []
  }
 ],
 "metadata": {
  "kernelspec": {
   "display_name": "Python 3",
   "language": "python",
   "name": "python3"
  },
  "language_info": {
   "codemirror_mode": {
    "name": "ipython",
    "version": 3
   },
   "file_extension": ".py",
   "mimetype": "text/x-python",
   "name": "python",
   "nbconvert_exporter": "python",
   "pygments_lexer": "ipython3",
   "version": "3.7.7"
  }
 },
 "nbformat": 4,
 "nbformat_minor": 4
}
