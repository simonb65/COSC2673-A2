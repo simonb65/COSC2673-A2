{
 "cells": [
  {
   "cell_type": "markdown",
   "metadata": {},
   "source": [
    "# COCS2673 Assignment 2 P1A - Is or is not cancer prediction"
   ]
  },
  {
   "cell_type": "code",
   "execution_count": 1,
   "metadata": {
    "scrolled": true
   },
   "outputs": [],
   "source": [
    "#!pip install tensorflow"
   ]
  },
  {
   "cell_type": "code",
   "execution_count": 2,
   "metadata": {
    "scrolled": true
   },
   "outputs": [],
   "source": [
    "#import zipfile\n",
    "#with zipfile.ZipFile('./Image_classification_data.zip', 'r') as zip_ref:\n",
    "#   zip_ref.extractall('./')"
   ]
  },
  {
   "cell_type": "code",
   "execution_count": 3,
   "metadata": {
    "scrolled": true
   },
   "outputs": [],
   "source": [
    "#!pwd"
   ]
  },
  {
   "cell_type": "code",
   "execution_count": 4,
   "metadata": {
    "scrolled": true
   },
   "outputs": [
    {
     "data": {
      "text/plain": [
       "'2.5.0'"
      ]
     },
     "execution_count": 4,
     "metadata": {},
     "output_type": "execute_result"
    }
   ],
   "source": [
    "import tensorflow as tf\n",
    "from tensorflow.keras.callbacks import EarlyStopping\n",
    "\n",
    "import IPython.display as display\n",
    "from PIL import Image\n",
    "import pandas as pd\n",
    "import numpy as np\n",
    "import matplotlib.pyplot as plt\n",
    "import os\n",
    "import datetime\n",
    "\n",
    "from sklearn.metrics import classification_report\n",
    "from sklearn.metrics import confusion_matrix, accuracy_score, f1_score\n",
    "\n",
    "tf.__version__\n"
   ]
  },
  {
   "cell_type": "markdown",
   "metadata": {},
   "source": [
    "# Read Data\n",
    "Split data into train, validation, and test\n",
    "Note that images for the same patient may contain a mix of cancerous and non-cancerous data.\n",
    "Q - Sould we split on patient or just randomly\n",
    "\n"
   ]
  },
  {
   "cell_type": "code",
   "execution_count": 5,
   "metadata": {
    "scrolled": true
   },
   "outputs": [],
   "source": [
    "mainData = pd.read_csv('./data_labels_mainData.csv')\n",
    "extraData = pd.read_csv('./data_labels_extraData.csv')"
   ]
  },
  {
   "cell_type": "code",
   "execution_count": 6,
   "metadata": {},
   "outputs": [
    {
     "data": {
      "text/html": [
       "<div>\n",
       "<style scoped>\n",
       "    .dataframe tbody tr th:only-of-type {\n",
       "        vertical-align: middle;\n",
       "    }\n",
       "\n",
       "    .dataframe tbody tr th {\n",
       "        vertical-align: top;\n",
       "    }\n",
       "\n",
       "    .dataframe thead th {\n",
       "        text-align: right;\n",
       "    }\n",
       "</style>\n",
       "<table border=\"1\" class=\"dataframe\">\n",
       "  <thead>\n",
       "    <tr style=\"text-align: right;\">\n",
       "      <th></th>\n",
       "      <th>InstanceID</th>\n",
       "      <th>patientID</th>\n",
       "      <th>ImageName</th>\n",
       "      <th>cellTypeName</th>\n",
       "      <th>cellType</th>\n",
       "      <th>isCancerous</th>\n",
       "    </tr>\n",
       "  </thead>\n",
       "  <tbody>\n",
       "    <tr>\n",
       "      <th>0</th>\n",
       "      <td>22405</td>\n",
       "      <td>1</td>\n",
       "      <td>22405.png</td>\n",
       "      <td>fibroblast</td>\n",
       "      <td>0</td>\n",
       "      <td>0</td>\n",
       "    </tr>\n",
       "    <tr>\n",
       "      <th>1</th>\n",
       "      <td>22406</td>\n",
       "      <td>1</td>\n",
       "      <td>22406.png</td>\n",
       "      <td>fibroblast</td>\n",
       "      <td>0</td>\n",
       "      <td>0</td>\n",
       "    </tr>\n",
       "    <tr>\n",
       "      <th>2</th>\n",
       "      <td>22407</td>\n",
       "      <td>1</td>\n",
       "      <td>22407.png</td>\n",
       "      <td>fibroblast</td>\n",
       "      <td>0</td>\n",
       "      <td>0</td>\n",
       "    </tr>\n",
       "    <tr>\n",
       "      <th>3</th>\n",
       "      <td>22408</td>\n",
       "      <td>1</td>\n",
       "      <td>22408.png</td>\n",
       "      <td>fibroblast</td>\n",
       "      <td>0</td>\n",
       "      <td>0</td>\n",
       "    </tr>\n",
       "    <tr>\n",
       "      <th>4</th>\n",
       "      <td>22409</td>\n",
       "      <td>1</td>\n",
       "      <td>22409.png</td>\n",
       "      <td>fibroblast</td>\n",
       "      <td>0</td>\n",
       "      <td>0</td>\n",
       "    </tr>\n",
       "  </tbody>\n",
       "</table>\n",
       "</div>"
      ],
      "text/plain": [
       "   InstanceID  patientID  ImageName cellTypeName  cellType  isCancerous\n",
       "0       22405          1  22405.png   fibroblast         0            0\n",
       "1       22406          1  22406.png   fibroblast         0            0\n",
       "2       22407          1  22407.png   fibroblast         0            0\n",
       "3       22408          1  22408.png   fibroblast         0            0\n",
       "4       22409          1  22409.png   fibroblast         0            0"
      ]
     },
     "execution_count": 6,
     "metadata": {},
     "output_type": "execute_result"
    }
   ],
   "source": [
    "mainData.head()"
   ]
  },
  {
   "cell_type": "code",
   "execution_count": 7,
   "metadata": {},
   "outputs": [
    {
     "data": {
      "text/html": [
       "<div>\n",
       "<style scoped>\n",
       "    .dataframe tbody tr th:only-of-type {\n",
       "        vertical-align: middle;\n",
       "    }\n",
       "\n",
       "    .dataframe tbody tr th {\n",
       "        vertical-align: top;\n",
       "    }\n",
       "\n",
       "    .dataframe thead th {\n",
       "        text-align: right;\n",
       "    }\n",
       "</style>\n",
       "<table border=\"1\" class=\"dataframe\">\n",
       "  <thead>\n",
       "    <tr style=\"text-align: right;\">\n",
       "      <th></th>\n",
       "      <th>InstanceID</th>\n",
       "      <th>patientID</th>\n",
       "      <th>ImageName</th>\n",
       "      <th>isCancerous</th>\n",
       "    </tr>\n",
       "  </thead>\n",
       "  <tbody>\n",
       "    <tr>\n",
       "      <th>0</th>\n",
       "      <td>12681</td>\n",
       "      <td>61</td>\n",
       "      <td>12681.png</td>\n",
       "      <td>0</td>\n",
       "    </tr>\n",
       "    <tr>\n",
       "      <th>1</th>\n",
       "      <td>12682</td>\n",
       "      <td>61</td>\n",
       "      <td>12682.png</td>\n",
       "      <td>0</td>\n",
       "    </tr>\n",
       "    <tr>\n",
       "      <th>2</th>\n",
       "      <td>12683</td>\n",
       "      <td>61</td>\n",
       "      <td>12683.png</td>\n",
       "      <td>0</td>\n",
       "    </tr>\n",
       "    <tr>\n",
       "      <th>3</th>\n",
       "      <td>12684</td>\n",
       "      <td>61</td>\n",
       "      <td>12684.png</td>\n",
       "      <td>0</td>\n",
       "    </tr>\n",
       "    <tr>\n",
       "      <th>4</th>\n",
       "      <td>12685</td>\n",
       "      <td>61</td>\n",
       "      <td>12685.png</td>\n",
       "      <td>0</td>\n",
       "    </tr>\n",
       "  </tbody>\n",
       "</table>\n",
       "</div>"
      ],
      "text/plain": [
       "   InstanceID  patientID  ImageName  isCancerous\n",
       "0       12681         61  12681.png            0\n",
       "1       12682         61  12682.png            0\n",
       "2       12683         61  12683.png            0\n",
       "3       12684         61  12684.png            0\n",
       "4       12685         61  12685.png            0"
      ]
     },
     "execution_count": 7,
     "metadata": {},
     "output_type": "execute_result"
    }
   ],
   "source": [
    "extraData.head()"
   ]
  },
  {
   "cell_type": "markdown",
   "metadata": {},
   "source": [
    "# Exploratary Data Analysis (EDA)"
   ]
  },
  {
   "cell_type": "code",
   "execution_count": 8,
   "metadata": {
    "scrolled": false
   },
   "outputs": [
    {
     "name": "stdout",
     "output_type": "stream",
     "text": [
      "InstanceID       int64\n",
      "patientID        int64\n",
      "ImageName       object\n",
      "cellTypeName    object\n",
      "cellType         int64\n",
      "isCancerous      int64\n",
      "dtype: object\n",
      "(9896, 6)\n"
     ]
    }
   ],
   "source": [
    "print(mainData.dtypes)\n",
    "print(mainData.shape)\n",
    "#print(mainData.info())\n",
    "#print(mainData.describe())\n"
   ]
  },
  {
   "cell_type": "code",
   "execution_count": 9,
   "metadata": {},
   "outputs": [
    {
     "name": "stdout",
     "output_type": "stream",
     "text": [
      "InstanceID      int64\n",
      "patientID       int64\n",
      "ImageName      object\n",
      "isCancerous     int64\n",
      "dtype: object\n",
      "(10384, 4)\n"
     ]
    }
   ],
   "source": [
    "print(extraData.dtypes)\n",
    "print(extraData.shape)\n",
    "#print(extraData.info())\n",
    "#print(extraData.describe())"
   ]
  },
  {
   "cell_type": "markdown",
   "metadata": {},
   "source": [
    "There are 2 data files mainData with 6 properties and 9896 rows, and extraData with 4 properties and 10384 rows.\n",
    "\n",
    "For part1, the aim is to predict if a slide is cancerous or not from the image data.\n",
    "Lets append data and confirm the number of images matches the input data rows."
   ]
  },
  {
   "cell_type": "code",
   "execution_count": 10,
   "metadata": {
    "scrolled": true
   },
   "outputs": [],
   "source": [
    "#mainData = mainData.sample(2000)   # Sampling used for inital model development\n",
    "mainData = mainData.append(extraData, ignore_index=True)"
   ]
  },
  {
   "cell_type": "code",
   "execution_count": 11,
   "metadata": {},
   "outputs": [
    {
     "data": {
      "text/plain": [
       "20280"
      ]
     },
     "execution_count": 11,
     "metadata": {},
     "output_type": "execute_result"
    }
   ],
   "source": [
    "mainData.shape[0]"
   ]
  },
  {
   "cell_type": "code",
   "execution_count": 12,
   "metadata": {
    "scrolled": true
   },
   "outputs": [
    {
     "name": "stdout",
     "output_type": "stream",
     "text": [
      "20280\n"
     ]
    }
   ],
   "source": [
    "import glob\n",
    "\n",
    "image_list = set()\n",
    "for filepath in glob.glob('./patch_images/*', recursive=True): #assuming gif\n",
    "    filename = filepath.split(\"\\\\\")[-1]\n",
    "    image_list.add(filename)\n",
    "    \n",
    "print(len(image_list))"
   ]
  },
  {
   "cell_type": "markdown",
   "metadata": {},
   "source": [
    "The number of images matches the records."
   ]
  },
  {
   "cell_type": "markdown",
   "metadata": {},
   "source": [
    "Update Categorical Data types"
   ]
  },
  {
   "cell_type": "code",
   "execution_count": 13,
   "metadata": {
    "scrolled": true
   },
   "outputs": [],
   "source": [
    "mainData['cellType'] = mainData['cellType'].astype('category')\n",
    "mainData['cellTypeName'] = mainData['cellTypeName'].astype('category')\n"
   ]
  },
  {
   "cell_type": "code",
   "execution_count": 14,
   "metadata": {
    "scrolled": false
   },
   "outputs": [
    {
     "data": {
      "image/png": "[encoded data removed]",
      "text/plain": [
       "<Figure size 432x288 with 4 Axes>"
      ]
     },
     "metadata": {
      "needs_background": "light"
     },
     "output_type": "display_data"
    }
   ],
   "source": [
    "mainData.hist()\n",
    "plt.show()"
   ]
  },
  {
   "cell_type": "code",
   "execution_count": 15,
   "metadata": {
    "scrolled": true
   },
   "outputs": [],
   "source": [
    "mainData.drop(['InstanceID'], axis=1,inplace=True)\n",
    "mainData.drop(['cellType'], axis=1,inplace=True)\n",
    "mainData.drop(['cellTypeName'], axis=1,inplace=True)\n"
   ]
  },
  {
   "cell_type": "code",
   "execution_count": 16,
   "metadata": {
    "scrolled": true
   },
   "outputs": [],
   "source": [
    "mainData['isCancerous'] = mainData['isCancerous'].astype('category')\n"
   ]
  },
  {
   "cell_type": "code",
   "execution_count": 17,
   "metadata": {
    "scrolled": true
   },
   "outputs": [
    {
     "name": "stdout",
     "output_type": "stream",
     "text": [
      "<class 'pandas.core.frame.DataFrame'>\n",
      "RangeIndex: 20280 entries, 0 to 20279\n",
      "Data columns (total 3 columns):\n",
      " #   Column       Non-Null Count  Dtype   \n",
      "---  ------       --------------  -----   \n",
      " 0   patientID    20280 non-null  int64   \n",
      " 1   ImageName    20280 non-null  object  \n",
      " 2   isCancerous  20280 non-null  category\n",
      "dtypes: category(1), int64(1), object(1)\n",
      "memory usage: 336.9+ KB\n"
     ]
    }
   ],
   "source": [
    "mainData.info()"
   ]
  },
  {
   "cell_type": "code",
   "execution_count": 18,
   "metadata": {
    "scrolled": true
   },
   "outputs": [
    {
     "data": {
      "text/plain": [
       "patientID      0\n",
       "ImageName      0\n",
       "isCancerous    0\n",
       "dtype: int64"
      ]
     },
     "execution_count": 18,
     "metadata": {},
     "output_type": "execute_result"
    }
   ],
   "source": [
    "mainData.isnull().sum()"
   ]
  },
  {
   "cell_type": "markdown",
   "metadata": {},
   "source": [
    "**There are no missing values in the datasets.**"
   ]
  },
  {
   "cell_type": "code",
   "execution_count": 19,
   "metadata": {
    "scrolled": true
   },
   "outputs": [],
   "source": [
    "def BinBreakdown(desc, data):\n",
    "    neg, pos = np.bincount(data)\n",
    "    total = neg + pos\n",
    "    print('{} Class Data:\\n    Total: {}\\n    Positive: {} ({:.2f}% of total)\\n'.format(desc, total, pos, 100 * pos / total))"
   ]
  },
  {
   "cell_type": "code",
   "execution_count": 20,
   "metadata": {},
   "outputs": [
    {
     "name": "stdout",
     "output_type": "stream",
     "text": [
      "Input Data Class Data:\n",
      "    Total: 20280\n",
      "    Positive: 7069 (34.86% of total)\n",
      "\n"
     ]
    }
   ],
   "source": [
    "BinBreakdown('Input Data', mainData.isCancerous)"
   ]
  },
  {
   "cell_type": "markdown",
   "metadata": {},
   "source": [
    "#### Key observations:\n",
    "* Data has 20280  observations and 6 columns.\n",
    "* InstanceID - is Id field, need to remove as not valueable classification attribute\n",
    "* cellTypeName, cellType - indicator of actual cell type and not used in this case for cancer diagnosis\n",
    "* isCancerous - indicator of the actual diagnosis (1 = cancerous, 0 = benign)\n",
    "* image count matches data rows \n",
    "\n",
    "Split of benign to cancerous is a 35% cancerous, 65% benign\n",
    "\n",
    "* The class value is boolean so doesn't have outliers etc to consider"
   ]
  },
  {
   "cell_type": "markdown",
   "metadata": {},
   "source": [
    "# Train/Validation/Test Split on Patients"
   ]
  },
  {
   "cell_type": "markdown",
   "metadata": {},
   "source": [
    "### Add classification class"
   ]
  },
  {
   "cell_type": "code",
   "execution_count": 21,
   "metadata": {
    "scrolled": true
   },
   "outputs": [],
   "source": [
    "mainData['isCancerous'] = mainData['isCancerous'].astype('str')"
   ]
  },
  {
   "cell_type": "markdown",
   "metadata": {},
   "source": [
    "### Split Data into Train/Validate/Test\n",
    "For test and training data split via person.\n",
    "This assumes that if a person has cancer or not, then would the images for that person have cancer.\n",
    "Also different cell types per person would be used for validation/testing."
   ]
  },
  {
   "cell_type": "code",
   "execution_count": 22,
   "metadata": {
    "scrolled": true
   },
   "outputs": [],
   "source": [
    "# Get list of patients and observation counts\n",
    "# Allocate approc 25% of data for Validation and Testing - of that 60%/40% for validation/test split.\n",
    "TEST_RATIO = 0.10\n",
    "VAL_RATIO = 0.15\n"
   ]
  },
  {
   "cell_type": "code",
   "execution_count": 23,
   "metadata": {
    "scrolled": true
   },
   "outputs": [],
   "source": [
    "# Split train tests by ratios\n",
    "# Select random patients until the number of images for \n",
    "# each patient sums to the number of records require\n",
    "\n",
    "np.random.seed(43) # Consistent random list\n",
    "\n",
    "recCount = mainData.shape[0]\n",
    "custRec = mainData.patientID.value_counts().to_dict()\n",
    "    \n",
    "patientIds = list(custRec.keys())\n",
    "\n",
    "# Loop through selecting a patient at random summing the number of images they have\n",
    "# until the count of images crosses is more than required number\n",
    "\n",
    "testCust = []\n",
    "testRecs = 0\n",
    "while (testRecs < (recCount * TEST_RATIO)):\n",
    "    pId = np.random.choice(patientIds)\n",
    "    ic = custRec.get(pId)\n",
    "    patientIds.remove(pId)\n",
    "    testCust.append(pId)\n",
    "    testRecs += ic\n",
    "    \n",
    "#print(testCust, testRecs)\n",
    "\n",
    "valCust = []\n",
    "valRecs = 0\n",
    "while (valRecs < (recCount * VAL_RATIO)):\n",
    "    pId = np.random.choice(patientIds)\n",
    "    ic = custRec.get(pId)\n",
    "    patientIds.remove(pId)\n",
    "    valCust.append(pId)\n",
    "    valRecs += ic\n",
    "\n",
    "#print(valCust, valRecs)"
   ]
  },
  {
   "cell_type": "code",
   "execution_count": 24,
   "metadata": {
    "scrolled": true
   },
   "outputs": [],
   "source": [
    "testData = mainData[mainData.patientID.isin(testCust)]\n",
    "valData = mainData[mainData.patientID.isin(valCust)]\n",
    "trainData = mainData[~(mainData.patientID.isin(valCust + testCust))]"
   ]
  },
  {
   "cell_type": "code",
   "execution_count": 25,
   "metadata": {
    "scrolled": true
   },
   "outputs": [
    {
     "name": "stdout",
     "output_type": "stream",
     "text": [
      "Train data : 15054, Val Data: 3055, Test Data: 2171\n",
      "Train data : 74.23%, Val Data: 15.06%, Test Data: 10.71%\n"
     ]
    }
   ],
   "source": [
    "totalRecs = mainData.shape[0]\n",
    "#print(trainData.shape[0] + valData.shape[0] + testData.shape[0])\n",
    "\n",
    "print(\"Train data : {}, Val Data: {}, Test Data: {}\".format(trainData.shape[0], valData.shape[0], testData.shape[0]))\n",
    "print(\"Train data : {:.2f}%, Val Data: {:.2f}%, Test Data: {:.2f}%\".format(\n",
    "    100 * trainData.shape[0] / totalRecs, 100 * valData.shape[0]/totalRecs, 100 * testData.shape[0]/totalRecs))"
   ]
  },
  {
   "cell_type": "code",
   "execution_count": 26,
   "metadata": {
    "scrolled": true
   },
   "outputs": [
    {
     "data": {
      "text/html": [
       "<div>\n",
       "<style scoped>\n",
       "    .dataframe tbody tr th:only-of-type {\n",
       "        vertical-align: middle;\n",
       "    }\n",
       "\n",
       "    .dataframe tbody tr th {\n",
       "        vertical-align: top;\n",
       "    }\n",
       "\n",
       "    .dataframe thead th {\n",
       "        text-align: right;\n",
       "    }\n",
       "</style>\n",
       "<table border=\"1\" class=\"dataframe\">\n",
       "  <thead>\n",
       "    <tr style=\"text-align: right;\">\n",
       "      <th></th>\n",
       "      <th>patientID</th>\n",
       "      <th>ImageName</th>\n",
       "      <th>isCancerous</th>\n",
       "    </tr>\n",
       "  </thead>\n",
       "  <tbody>\n",
       "    <tr>\n",
       "      <th>19</th>\n",
       "      <td>2</td>\n",
       "      <td>19035.png</td>\n",
       "      <td>0</td>\n",
       "    </tr>\n",
       "    <tr>\n",
       "      <th>20</th>\n",
       "      <td>2</td>\n",
       "      <td>19036.png</td>\n",
       "      <td>0</td>\n",
       "    </tr>\n",
       "    <tr>\n",
       "      <th>21</th>\n",
       "      <td>2</td>\n",
       "      <td>19037.png</td>\n",
       "      <td>0</td>\n",
       "    </tr>\n",
       "    <tr>\n",
       "      <th>22</th>\n",
       "      <td>2</td>\n",
       "      <td>19038.png</td>\n",
       "      <td>0</td>\n",
       "    </tr>\n",
       "    <tr>\n",
       "      <th>23</th>\n",
       "      <td>2</td>\n",
       "      <td>19039.png</td>\n",
       "      <td>0</td>\n",
       "    </tr>\n",
       "  </tbody>\n",
       "</table>\n",
       "</div>"
      ],
      "text/plain": [
       "    patientID  ImageName isCancerous\n",
       "19          2  19035.png           0\n",
       "20          2  19036.png           0\n",
       "21          2  19037.png           0\n",
       "22          2  19038.png           0\n",
       "23          2  19039.png           0"
      ]
     },
     "execution_count": 26,
     "metadata": {},
     "output_type": "execute_result"
    }
   ],
   "source": [
    "trainData.head()"
   ]
  },
  {
   "cell_type": "code",
   "execution_count": 27,
   "metadata": {},
   "outputs": [
    {
     "name": "stdout",
     "output_type": "stream",
     "text": [
      "Train Class Data:\n",
      "    Total: 15054\n",
      "    Positive: 5055 (33.58% of total)\n",
      "\n",
      "Validation Class Data:\n",
      "    Total: 3055\n",
      "    Positive: 1252 (40.98% of total)\n",
      "\n",
      "Test Class Data:\n",
      "    Total: 2171\n",
      "    Positive: 762 (35.10% of total)\n",
      "\n"
     ]
    }
   ],
   "source": [
    "BinBreakdown('Train', trainData.isCancerous)\n",
    "BinBreakdown('Validation', valData.isCancerous)\n",
    "BinBreakdown('Test', testData.isCancerous)"
   ]
  },
  {
   "cell_type": "code",
   "execution_count": 28,
   "metadata": {
    "scrolled": true
   },
   "outputs": [
    {
     "data": {
      "text/plain": [
       "([0, 1], [Text(0, 0, ''), Text(0, 0, '')])"
      ]
     },
     "execution_count": 28,
     "metadata": {},
     "output_type": "execute_result"
    },
    {
     "data": {
      "image/png": "[encoded data removed]",
      "text/plain": [
       "<Figure size 432x288 with 1 Axes>"
      ]
     },
     "metadata": {
      "needs_background": "light"
     },
     "output_type": "display_data"
    }
   ],
   "source": [
    "plt.bar(\n",
    "    trainData.isCancerous.value_counts().index.astype(str), \n",
    "    trainData.isCancerous.value_counts().values/np.sum(trainData.isCancerous.value_counts().values), \n",
    "    alpha=0.3, \n",
    "    color='r')\n",
    "\n",
    "plt.bar(\n",
    "    valData.isCancerous.value_counts().index.astype(str), \n",
    "    valData.isCancerous.value_counts().values/np.sum(valData.isCancerous.value_counts().values), \n",
    "    alpha=0.3, \n",
    "    color='b')\n",
    "\n",
    "plt.bar(\n",
    "    testData.isCancerous.value_counts().index.astype(str), \n",
    "    testData.isCancerous.value_counts().values/np.sum(testData.isCancerous.value_counts().values), \n",
    "    alpha=0.3, \n",
    "    color='g')\n",
    "\n",
    "plt.title('isCancerous - Train vs Test')\n",
    "plt.xticks(rotation='vertical')"
   ]
  },
  {
   "cell_type": "markdown",
   "metadata": {},
   "source": [
    "**Observations:**\n",
    "1. Train/Validation/Test data distributions sets have similar distributions"
   ]
  },
  {
   "cell_type": "markdown",
   "metadata": {},
   "source": [
    "# Images\n",
    "27x27 RGB "
   ]
  },
  {
   "cell_type": "code",
   "execution_count": 29,
   "metadata": {
    "scrolled": true
   },
   "outputs": [
    {
     "name": "stdout",
     "output_type": "stream",
     "text": [
      "Found 15054 validated image filenames belonging to 2 classes.\n",
      "Found 3055 validated image filenames belonging to 2 classes.\n",
      "Found 2171 validated image filenames belonging to 2 classes.\n"
     ]
    }
   ],
   "source": [
    "from tensorflow.keras.preprocessing.image import ImageDataGenerator\n",
    "\n",
    "train_datagen = ImageDataGenerator(rescale=1./255, data_format='channels_last')\n",
    "val_datagen = ImageDataGenerator(rescale=1./255, data_format='channels_last')\n",
    "\n",
    "batch_size = 32\n",
    "\n",
    "train_generator = train_datagen.flow_from_dataframe(\n",
    "        dataframe=trainData,\n",
    "        directory='./patch_images',\n",
    "        x_col=\"ImageName\",\n",
    "        y_col=\"isCancerous\",\n",
    "        target_size=(27, 27),\n",
    "        batch_size=batch_size,\n",
    "        class_mode='categorical')\n",
    "\n",
    "validation_generator = val_datagen.flow_from_dataframe(\n",
    "        dataframe=valData,\n",
    "        directory='patch_images',\n",
    "        x_col=\"ImageName\",\n",
    "        y_col=\"isCancerous\",\n",
    "        target_size=(27, 27),\n",
    "        batch_size=batch_size,\n",
    "        class_mode='categorical')\n",
    "\n",
    "test_generator = val_datagen.flow_from_dataframe(\n",
    "        dataframe=testData,\n",
    "        directory='patch_images',\n",
    "        x_col=\"ImageName\",\n",
    "        y_col=\"isCancerous\",\n",
    "        target_size=(27, 27),\n",
    "        batch_size=batch_size,\n",
    "        class_mode='categorical')"
   ]
  },
  {
   "cell_type": "markdown",
   "metadata": {},
   "source": [
    "### Utility Functions"
   ]
  },
  {
   "cell_type": "code",
   "execution_count": 30,
   "metadata": {},
   "outputs": [],
   "source": [
    "import seaborn as sn\n",
    "import matplotlib.pyplot as plt\n",
    "from sklearn.metrics import confusion_matrix\n",
    "from sklearn.metrics import classification_report\n"
   ]
  },
  {
   "cell_type": "code",
   "execution_count": 31,
   "metadata": {
    "scrolled": true
   },
   "outputs": [],
   "source": [
    "def PlotModelFitHistory(mh):\n",
    "    plt.figure(figsize=(10,5))\n",
    "    plt.subplot(1,2,1)\n",
    "    plt.plot(mh.history['loss'], 'r--')\n",
    "    plt.plot(mh.history['val_loss'], 'b--')\n",
    "    plt.xlabel(\"epochs\")\n",
    "    plt.ylabel(\"Loss\")\n",
    "    plt.legend(['train', 'val'], loc='upper left')\n",
    "\n",
    "    plt.subplot(1,2,2)\n",
    "    plt.plot(mh.history['categorical_accuracy'], 'r--')\n",
    "    plt.plot(mh.history['val_categorical_accuracy'], 'b--')\n",
    "    plt.xlabel(\"epochs\")\n",
    "    plt.ylabel(\"Accuracy\")\n",
    "    plt.legend(['train', 'val'], loc='upper left')\n",
    "\n",
    "    plt.show()\n"
   ]
  },
  {
   "cell_type": "code",
   "execution_count": 32,
   "metadata": {
    "scrolled": true
   },
   "outputs": [],
   "source": [
    "def PlotConfusionMatrix(test, pred):\n",
    "    cm = confusion_matrix(test, pred)\n",
    "    group_names = ['True Neg','False Pos','False Neg','True Pos']\n",
    "    group_counts = [\"{0:0.0f}\".format(value) for value in cm.flatten()]\n",
    "    group_percentages = [\"{0:.2%}\".format(value) for value in cm.flatten()/np.sum(cm)]\n",
    "    labels = [f\"{v1}\\n{v2}\\n{v3}\" for v1, v2, v3 in zip(group_names, group_counts, group_percentages)]\n",
    "    labels = np.asarray(labels).reshape(2,2)\n",
    "    sn.heatmap(cm, annot=labels, fmt='', cmap='Blues')"
   ]
  },
  {
   "cell_type": "markdown",
   "metadata": {},
   "source": [
    "# Model Development"
   ]
  },
  {
   "cell_type": "markdown",
   "metadata": {},
   "source": [
    "### Measure \n",
    "As this is a screening/detection task, the impact of a false negative is high (ie someone who has cancer is missed)\n",
    "In this case use Recall for measure.\n",
    "We can also use F1 to get a more balanced measure of Precision and Recall"
   ]
  },
  {
   "cell_type": "code",
   "execution_count": 33,
   "metadata": {},
   "outputs": [],
   "source": [
    "def CompileModel(model):\n",
    "    opt = tf.keras.optimizers.Adagrad()\n",
    "    model.compile(optimizer=opt,\n",
    "              loss=tf.keras.losses.CategoricalCrossentropy(from_logits=False),\n",
    "              metrics=['categorical_accuracy'])    "
   ]
  },
  {
   "cell_type": "code",
   "execution_count": 34,
   "metadata": {},
   "outputs": [],
   "source": [
    "# using patience here - could use other limits\n",
    "early_stopping_monitor = EarlyStopping(patience=30, monitor='val_categorical_accuracy')\n",
    "\n",
    "def FitModel(model):\n",
    "\n",
    "    print('start ', datetime.datetime.now().strftime(\"%H:%M:%S\"))\n",
    "    now = datetime.datetime.now()\n",
    "\n",
    "    fit_history = model.fit(train_generator, validation_data = validation_generator, \n",
    "                            callbacks=[early_stopping_monitor], epochs=10000, verbose=1)\n",
    "\n",
    "    print('stop ', datetime.datetime.now().strftime(\"%H:%M:%S\"))\n",
    "    print(\"Took = \", datetime.datetime.now() - now)\n",
    "    \n",
    "    return fit_history"
   ]
  },
  {
   "cell_type": "code",
   "execution_count": 35,
   "metadata": {},
   "outputs": [],
   "source": [
    "def PredictModel(model):\n",
    "    batch_size_ = 1\n",
    "    y_pred = list()\n",
    "    y_test = list()\n",
    "    filenames = test_generator.filenames\n",
    "    N_images = len(filenames)\n",
    "    batches = 0\n",
    "\n",
    "    # iterate through the data generator and predict for each batch\n",
    "    # hold the predictions and labels\n",
    "    for x,y in test_generator:\n",
    "            yp = model.predict(x, verbose=0)\n",
    "            yp = np.argmax(yp, axis = 1)\n",
    "            yt = np.argmax(y, axis = 1)\n",
    "            y_pred = y_pred + yp.tolist()\n",
    "            y_test = y_test + yt.tolist()\n",
    "\n",
    "            batches += 1\n",
    "            if batches >= N_images / batch_size_:\n",
    "                break\n",
    "                \n",
    "    return (y_test, y_pred)"
   ]
  },
  {
   "cell_type": "code",
   "execution_count": 36,
   "metadata": {},
   "outputs": [],
   "source": [
    "def ShowStats(y_test, y_pred):\n",
    "    print(\"Accuracy score: \", accuracy_score(test_y, pred_y))\n",
    "    print(\"F1 score: \", f1_score(test_y, pred_y, average='macro'))\n",
    "\n",
    "    print(classification_report(test_y, pred_y, zero_division=0))"
   ]
  },
  {
   "cell_type": "markdown",
   "metadata": {},
   "source": [
    "### Model Inputs"
   ]
  },
  {
   "cell_type": "code",
   "execution_count": 37,
   "metadata": {
    "scrolled": true
   },
   "outputs": [],
   "source": [
    "INPUT_DIM = (27,27,3)\n",
    "OUTPUT_CLASSES = 2       # TensorFlow automatically does one hot encoding to our target label"
   ]
  },
  {
   "cell_type": "markdown",
   "metadata": {},
   "source": [
    "## 1. Baseline an simple MLP Model\n",
    "Observations\n",
    "* Use a initial NN to get a baseline\n",
    "* Binary classification problem\n",
    "* Input has 2187 dims (this is small for image recognition)\n",
    "* 1 hidden layer with 256 internal nodes\n",
    "* 1 output binary\n",
    "* Loss - Binary Cross Entropy\n",
    "* Metric - binary_accuracy \n",
    "* use sigmoid activation as this is a logistics issue\n",
    "\n"
   ]
  },
  {
   "cell_type": "code",
   "execution_count": 38,
   "metadata": {
    "scrolled": true
   },
   "outputs": [],
   "source": [
    "model_base = tf.keras.Sequential([\n",
    "    tf.keras.layers.Flatten(input_shape=INPUT_DIM),\n",
    "    tf.keras.layers.Dense(256, activation='relu'),\n",
    "    tf.keras.layers.Dense(OUTPUT_CLASSES, activation='sigmoid')\n",
    "])"
   ]
  },
  {
   "cell_type": "code",
   "execution_count": 39,
   "metadata": {},
   "outputs": [
    {
     "name": "stdout",
     "output_type": "stream",
     "text": [
      "Model: \"sequential\"\n",
      "_________________________________________________________________\n",
      "Layer (type)                 Output Shape              Param #   \n",
      "=================================================================\n",
      "flatten (Flatten)            (None, 2187)              0         \n",
      "_________________________________________________________________\n",
      "dense (Dense)                (None, 256)               560128    \n",
      "_________________________________________________________________\n",
      "dense_1 (Dense)              (None, 2)                 514       \n",
      "=================================================================\n",
      "Total params: 560,642\n",
      "Trainable params: 560,642\n",
      "Non-trainable params: 0\n",
      "_________________________________________________________________\n"
     ]
    }
   ],
   "source": [
    "model_base.summary()"
   ]
  },
  {
   "cell_type": "code",
   "execution_count": 40,
   "metadata": {},
   "outputs": [],
   "source": [
    "CompileModel(model_base)"
   ]
  },
  {
   "cell_type": "code",
   "execution_count": 41,
   "metadata": {},
   "outputs": [
    {
     "name": "stdout",
     "output_type": "stream",
     "text": [
      "start  19:56:48\n",
      "Epoch 1/10000\n",
      "471/471 [==============================] - 7s 15ms/step - loss: 0.5069 - categorical_accuracy: 0.7483 - val_loss: 0.4985 - val_categorical_accuracy: 0.7218\n",
      "Epoch 2/10000\n",
      "471/471 [==============================] - 7s 15ms/step - loss: 0.4110 - categorical_accuracy: 0.8212 - val_loss: 0.3840 - val_categorical_accuracy: 0.8488\n",
      "Epoch 3/10000\n",
      "471/471 [==============================] - 8s 18ms/step - loss: 0.3835 - categorical_accuracy: 0.8345 - val_loss: 0.3970 - val_categorical_accuracy: 0.8232\n",
      "Epoch 4/10000\n",
      "471/471 [==============================] - 8s 17ms/step - loss: 0.3726 - categorical_accuracy: 0.8396 - val_loss: 0.3719 - val_categorical_accuracy: 0.8376\n",
      "Epoch 5/10000\n",
      "471/471 [==============================] - 8s 16ms/step - loss: 0.3657 - categorical_accuracy: 0.8398 - val_loss: 0.3584 - val_categorical_accuracy: 0.8547\n",
      "Epoch 6/10000\n",
      "471/471 [==============================] - 8s 16ms/step - loss: 0.3615 - categorical_accuracy: 0.8440 - val_loss: 0.3628 - val_categorical_accuracy: 0.8422\n",
      "Epoch 7/10000\n",
      "471/471 [==============================] - 8s 16ms/step - loss: 0.3576 - categorical_accuracy: 0.8430 - val_loss: 0.4113 - val_categorical_accuracy: 0.8164\n",
      "Epoch 8/10000\n",
      "471/471 [==============================] - 8s 16ms/step - loss: 0.3559 - categorical_accuracy: 0.8472 - val_loss: 0.3475 - val_categorical_accuracy: 0.8560\n",
      "Epoch 9/10000\n",
      "471/471 [==============================] - 8s 16ms/step - loss: 0.3552 - categorical_accuracy: 0.8448 - val_loss: 0.4040 - val_categorical_accuracy: 0.8206\n",
      "Epoch 10/10000\n",
      "471/471 [==============================] - 8s 16ms/step - loss: 0.3532 - categorical_accuracy: 0.8474 - val_loss: 0.3624 - val_categorical_accuracy: 0.8399\n",
      "Epoch 11/10000\n",
      "471/471 [==============================] - 8s 16ms/step - loss: 0.3519 - categorical_accuracy: 0.8462 - val_loss: 0.3533 - val_categorical_accuracy: 0.8491\n",
      "Epoch 12/10000\n",
      "471/471 [==============================] - 8s 17ms/step - loss: 0.3501 - categorical_accuracy: 0.8487 - val_loss: 0.3451 - val_categorical_accuracy: 0.8563\n",
      "Epoch 13/10000\n",
      "471/471 [==============================] - 8s 17ms/step - loss: 0.3504 - categorical_accuracy: 0.8476 - val_loss: 0.3516 - val_categorical_accuracy: 0.8478\n",
      "Epoch 14/10000\n",
      "471/471 [==============================] - 8s 16ms/step - loss: 0.3492 - categorical_accuracy: 0.8481 - val_loss: 0.3437 - val_categorical_accuracy: 0.8570\n",
      "Epoch 15/10000\n",
      "471/471 [==============================] - 8s 16ms/step - loss: 0.3470 - categorical_accuracy: 0.8495 - val_loss: 0.3421 - val_categorical_accuracy: 0.8573\n",
      "Epoch 16/10000\n",
      "471/471 [==============================] - 8s 17ms/step - loss: 0.3471 - categorical_accuracy: 0.8489 - val_loss: 0.3488 - val_categorical_accuracy: 0.8520\n",
      "Epoch 17/10000\n",
      "471/471 [==============================] - 8s 17ms/step - loss: 0.3466 - categorical_accuracy: 0.8491 - val_loss: 0.3559 - val_categorical_accuracy: 0.8445\n",
      "Epoch 18/10000\n",
      "471/471 [==============================] - 8s 16ms/step - loss: 0.3461 - categorical_accuracy: 0.8493 - val_loss: 0.3456 - val_categorical_accuracy: 0.8553\n",
      "Epoch 19/10000\n",
      "471/471 [==============================] - 8s 17ms/step - loss: 0.3453 - categorical_accuracy: 0.8493 - val_loss: 0.3776 - val_categorical_accuracy: 0.8321\n",
      "Epoch 20/10000\n",
      "471/471 [==============================] - 8s 17ms/step - loss: 0.3451 - categorical_accuracy: 0.8514 - val_loss: 0.3404 - val_categorical_accuracy: 0.8563_accuracy: 0.85\n",
      "Epoch 21/10000\n",
      "471/471 [==============================] - 8s 17ms/step - loss: 0.3444 - categorical_accuracy: 0.8502 - val_loss: 0.3641 - val_categorical_accuracy: 0.8386\n",
      "Epoch 22/10000\n",
      "471/471 [==============================] - 8s 16ms/step - loss: 0.3430 - categorical_accuracy: 0.8507 - val_loss: 0.3423 - val_categorical_accuracy: 0.8576\n",
      "Epoch 23/10000\n",
      "471/471 [==============================] - 8s 16ms/step - loss: 0.3430 - categorical_accuracy: 0.8512 - val_loss: 0.3521 - val_categorical_accuracy: 0.8481loss: 0.3 -\n",
      "Epoch 24/10000\n",
      "471/471 [==============================] - 8s 17ms/step - loss: 0.3427 - categorical_accuracy: 0.8511 - val_loss: 0.3426 - val_categorical_accuracy: 0.8579\n",
      "Epoch 25/10000\n",
      "471/471 [==============================] - 9s 20ms/step - loss: 0.3417 - categorical_accuracy: 0.8511 - val_loss: 0.3391 - val_categorical_accuracy: 0.854306 - categorical_accuracy - ETA: 0s - loss: 0.3399 - categorical_accuracy: 0.85 - ETA: 0s -\n",
      "Epoch 26/10000\n",
      "471/471 [==============================] - 9s 18ms/step - loss: 0.3419 - categorical_accuracy: 0.8503 - val_loss: 0.3572 - val_categorical_accuracy: 0.8432 \n",
      "Epoch 27/10000\n",
      "471/471 [==============================] - 8s 18ms/step - loss: 0.3425 - categorical_accuracy: 0.8510 - val_loss: 0.3427 - val_categorical_accuracy: 0.8583s - loss: 0.3403 -  - ETA: 1s - loss: 0.3406 - categorical_ac - ETA: 0s - loss: 0.3415 - categorical_accuracy - ETA: 0s - loss: 0.3438 - ca\n",
      "Epoch 28/10000\n",
      "471/471 [==============================] - 8s 17ms/step - loss: 0.3412 - categorical_accuracy: 0.8523 - val_loss: 0.3446 - val_categorical_accuracy: 0.8570- loss: 0.3362 - catego - ETA: 2s - loss: 0.3387 - ca\n",
      "Epoch 29/10000\n",
      "471/471 [==============================] - 8s 16ms/step - loss: 0.3406 - categorical_accuracy: 0.8521 - val_loss: 0.3502 - val_categorical_accuracy: 0.8511\n",
      "Epoch 30/10000\n",
      "471/471 [==============================] - 8s 16ms/step - loss: 0.3411 - categorical_accuracy: 0.8519 - val_loss: 0.3514 - val_categorical_accuracy: 0.8498\n",
      "Epoch 31/10000\n",
      "471/471 [==============================] - 8s 16ms/step - loss: 0.3400 - categorical_accuracy: 0.8535 - val_loss: 0.3452 - val_categorical_accuracy: 0.8556\n",
      "Epoch 32/10000\n",
      "471/471 [==============================] - 8s 17ms/step - loss: 0.3407 - categorical_accuracy: 0.8518 - val_loss: 0.3392 - val_categorical_accuracy: 0.8560\n",
      "Epoch 33/10000\n",
      "471/471 [==============================] - 8s 17ms/step - loss: 0.3394 - categorical_accuracy: 0.8533 - val_loss: 0.3545 - val_categorical_accuracy: 0.8475orical_accuracy:  - ETA: 5s - loss: 0.3423 -  - ETA: 4s\n",
      "Epoch 34/10000\n",
      "471/471 [==============================] - 8s 17ms/step - loss: 0.3396 - categorical_accuracy: 0.8523 - val_loss: 0.3461 - val_categorical_accuracy: 0.8547loss: 0\n",
      "Epoch 35/10000\n",
      "471/471 [==============================] - 8s 16ms/step - loss: 0.3395 - categorical_accuracy: 0.8536 - val_loss: 0.3418 - val_categorical_accuracy: 0.8583\n",
      "Epoch 36/10000\n",
      "471/471 [==============================] - 8s 17ms/step - loss: 0.3387 - categorical_accuracy: 0.8527 - val_loss: 0.3436 - val_categorical_accuracy: 0.8573\n",
      "Epoch 37/10000\n",
      "471/471 [==============================] - 8s 17ms/step - loss: 0.3393 - categorical_accuracy: 0.8525 - val_loss: 0.3507 - val_categorical_accuracy: 0.8507\n",
      "Epoch 38/10000\n",
      "471/471 [==============================] - 8s 17ms/step - loss: 0.3381 - categorical_accuracy: 0.8511 - val_loss: 0.3392 - val_categorical_accuracy: 0.8573\n",
      "Epoch 39/10000\n",
      "471/471 [==============================] - 8s 17ms/step - loss: 0.3377 - categorical_accuracy: 0.8536 - val_loss: 0.3434 - val_categorical_accuracy: 0.8570\n",
      "Epoch 40/10000\n",
      "471/471 [==============================] - 8s 17ms/step - loss: 0.3372 - categorical_accuracy: 0.8556 - val_loss: 0.3550 - val_categorical_accuracy: 0.8468\n",
      "Epoch 41/10000\n",
      "471/471 [==============================] - 8s 17ms/step - loss: 0.3376 - categorical_accuracy: 0.8521 - val_loss: 0.3550 - val_categorical_accuracy: 0.8465 0s - loss: 0.3379 - categorical_accuracy: \n",
      "Epoch 42/10000\n",
      "471/471 [==============================] - 8s 17ms/step - loss: 0.3380 - categorical_accuracy: 0.8537 - val_loss: 0.3394 - val_categorical_accuracy: 0.8596 - categorical_accura - ETA - ETA: 1s - los\n",
      "Epoch 43/10000\n",
      "471/471 [==============================] - 8s 17ms/step - loss: 0.3366 - categorical_accuracy: 0.8536 - val_loss: 0.3399 - val_categorical_accuracy: 0.85893383 - cate\n",
      "Epoch 44/10000\n",
      "471/471 [==============================] - 8s 17ms/step - loss: 0.3366 - categorical_accuracy: 0.8541 - val_loss: 0.3428 - val_categorical_accuracy: 0.8570\n",
      "Epoch 45/10000\n"
     ]
    },
    {
     "name": "stdout",
     "output_type": "stream",
     "text": [
      "471/471 [==============================] - 8s 17ms/step - loss: 0.3361 - categorical_accuracy: 0.8544 - val_loss: 0.3501 - val_categorical_accuracy: 0.8498\n",
      "Epoch 46/10000\n",
      "471/471 [==============================] - 8s 16ms/step - loss: 0.3358 - categorical_accuracy: 0.8543 - val_loss: 0.3612 - val_categorical_accuracy: 0.8426\n",
      "Epoch 47/10000\n",
      "471/471 [==============================] - 8s 17ms/step - loss: 0.3360 - categorical_accuracy: 0.8543 - val_loss: 0.3515 - val_categorical_accuracy: 0.8488 categorical_accu - ETA: 0s - loss: 0.3357 - categorical_accuracy:  - ETA: 0s - loss: 0.3350 - categorical_accu\n",
      "Epoch 48/10000\n",
      "471/471 [==============================] - 8s 17ms/step - loss: 0.3348 - categorical_accuracy: 0.8565 - val_loss: 0.3423 - val_categorical_accuracy: 0.8579\n",
      "Epoch 49/10000\n",
      "471/471 [==============================] - 8s 17ms/step - loss: 0.3354 - categorical_accuracy: 0.8562 - val_loss: 0.3397 - val_categorical_accuracy: 0.8592\n",
      "Epoch 50/10000\n",
      "471/471 [==============================] - 8s 17ms/step - loss: 0.3343 - categorical_accuracy: 0.8574 - val_loss: 0.3637 - val_categorical_accuracy: 0.8419\n",
      "Epoch 51/10000\n",
      "471/471 [==============================] - 8s 16ms/step - loss: 0.3341 - categorical_accuracy: 0.8551 - val_loss: 0.3390 - val_categorical_accuracy: 0.8586egorical_accura\n",
      "Epoch 52/10000\n",
      "471/471 [==============================] - 8s 17ms/step - loss: 0.3348 - categorical_accuracy: 0.8552 - val_loss: 0.3510 - val_categorical_accuracy: 0.8488ETA: 4s -\n",
      "Epoch 53/10000\n",
      "471/471 [==============================] - 8s 17ms/step - loss: 0.3342 - categorical_accuracy: 0.8536 - val_loss: 0.3816 - val_categorical_accuracy: 0.8350\n",
      "Epoch 54/10000\n",
      "471/471 [==============================] - 8s 16ms/step - loss: 0.3342 - categorical_accuracy: 0.8550 - val_loss: 0.3450 - val_categorical_accuracy: 0.8553\n",
      "Epoch 55/10000\n",
      "471/471 [==============================] - 8s 16ms/step - loss: 0.3337 - categorical_accuracy: 0.8534 - val_loss: 0.3462 - val_categorical_accuracy: 0.8543\n",
      "Epoch 56/10000\n",
      "471/471 [==============================] - 8s 16ms/step - loss: 0.3332 - categorical_accuracy: 0.8581 - val_loss: 0.3679 - val_categorical_accuracy: 0.8403\n",
      "Epoch 57/10000\n",
      "471/471 [==============================] - 8s 17ms/step - loss: 0.3332 - categorical_accuracy: 0.8553 - val_loss: 0.3625 - val_categorical_accuracy: 0.8432s - loss: 0 - ETA: 0s - loss: 0.3344 - categorical_accuracy: 0. - ETA: 0s - loss: 0.3338 - categorica\n",
      "Epoch 58/10000\n",
      "471/471 [==============================] - 8s 17ms/step - loss: 0.3328 - categorical_accuracy: 0.8563 - val_loss: 0.3430 - val_categorical_accuracy: 0.8537\n",
      "Epoch 59/10000\n",
      "471/471 [==============================] - 8s 17ms/step - loss: 0.3330 - categorical_accuracy: 0.8559 - val_loss: 0.3455 - val_categorical_accuracy: 0.8550\n",
      "Epoch 60/10000\n",
      "471/471 [==============================] - 8s 16ms/step - loss: 0.3324 - categorical_accuracy: 0.8558 - val_loss: 0.3407 - val_categorical_accuracy: 0.8579ss: 0.329 - ETA: 0s - loss: 0.3326 - categorical_accuracy: \n",
      "Epoch 61/10000\n",
      "471/471 [==============================] - 8s 17ms/step - loss: 0.3322 - categorical_accuracy: 0.8558 - val_loss: 0.3761 - val_categorical_accuracy: 0.8373\n",
      "Epoch 62/10000\n",
      "471/471 [==============================] - 8s 16ms/step - loss: 0.3323 - categorical_accuracy: 0.8560 - val_loss: 0.3583 - val_categorical_accuracy: 0.8435loss: 0.3316 - categorical_accuracy\n",
      "Epoch 63/10000\n",
      "471/471 [==============================] - 8s 16ms/step - loss: 0.3318 - categorical_accuracy: 0.8551 - val_loss: 0.3426 - val_categorical_accuracy: 0.8550\n",
      "Epoch 64/10000\n",
      "471/471 [==============================] - 8s 16ms/step - loss: 0.3314 - categorical_accuracy: 0.8562 - val_loss: 0.3362 - val_categorical_accuracy: 0.8570\n",
      "Epoch 65/10000\n",
      "471/471 [==============================] - 8s 17ms/step - loss: 0.3308 - categorical_accuracy: 0.8568 - val_loss: 0.3605 - val_categorical_accuracy: 0.8435\n",
      "Epoch 66/10000\n",
      "471/471 [==============================] - 8s 17ms/step - loss: 0.3313 - categorical_accuracy: 0.8565 - val_loss: 0.3626 - val_categorical_accuracy: 0.8432al_accu -\n",
      "Epoch 67/10000\n",
      "471/471 [==============================] - 8s 16ms/step - loss: 0.3314 - categorical_accuracy: 0.8574 - val_loss: 0.3407 - val_categorical_accuracy: 0.8570\n",
      "Epoch 68/10000\n",
      "471/471 [==============================] - 8s 17ms/step - loss: 0.3303 - categorical_accuracy: 0.8572 - val_loss: 0.3468 - val_categorical_accuracy: 0.8530\n",
      "Epoch 69/10000\n",
      "471/471 [==============================] - 8s 17ms/step - loss: 0.3310 - categorical_accuracy: 0.8576 - val_loss: 0.3607 - val_categorical_accuracy: 0.8439\n",
      "Epoch 70/10000\n",
      "471/471 [==============================] - 8s 17ms/step - loss: 0.3303 - categorical_accuracy: 0.8583 - val_loss: 0.3618 - val_categorical_accuracy: 0.8429\n",
      "Epoch 71/10000\n",
      "471/471 [==============================] - 8s 17ms/step - loss: 0.3298 - categorical_accuracy: 0.8576 - val_loss: 0.3370 - val_categorical_accuracy: 0.8570\n",
      "Epoch 72/10000\n",
      "471/471 [==============================] - 8s 17ms/step - loss: 0.3297 - categorical_accuracy: 0.8577 - val_loss: 0.3545 - val_categorical_accuracy: 0.8468\n",
      "stop  20:06:15\n",
      "Took =  0:09:26.176407\n"
     ]
    }
   ],
   "source": [
    "history_base = FitModel(model_base)"
   ]
  },
  {
   "cell_type": "code",
   "execution_count": 42,
   "metadata": {},
   "outputs": [
    {
     "data": {
      "image/png": "[encoded data removed]",
      "text/plain": [
       "<Figure size 720x360 with 2 Axes>"
      ]
     },
     "metadata": {
      "needs_background": "light"
     },
     "output_type": "display_data"
    }
   ],
   "source": [
    "PlotModelFitHistory(history_base)"
   ]
  },
  {
   "cell_type": "code",
   "execution_count": 43,
   "metadata": {},
   "outputs": [],
   "source": [
    "(test_y, pred_y) = PredictModel(model_base)"
   ]
  },
  {
   "cell_type": "code",
   "execution_count": 44,
   "metadata": {},
   "outputs": [
    {
     "name": "stdout",
     "output_type": "stream",
     "text": [
      "Accuracy score:  0.8553168775336497\n",
      "F1 score:  0.8286254355163871\n",
      "              precision    recall  f1-score   support\n",
      "\n",
      "           0       0.84      0.96      0.90     44986\n",
      "           1       0.91      0.66      0.76     24331\n",
      "\n",
      "    accuracy                           0.86     69317\n",
      "   macro avg       0.87      0.81      0.83     69317\n",
      "weighted avg       0.86      0.86      0.85     69317\n",
      "\n"
     ]
    }
   ],
   "source": [
    "ShowStats(test_y, pred_y)"
   ]
  },
  {
   "cell_type": "code",
   "execution_count": 45,
   "metadata": {},
   "outputs": [
    {
     "data": {
      "image/png": "[encoded data removed]",
      "text/plain": [
       "<Figure size 432x288 with 2 Axes>"
      ]
     },
     "metadata": {
      "needs_background": "light"
     },
     "output_type": "display_data"
    }
   ],
   "source": [
    "PlotConfusionMatrix(test_y, pred_y)"
   ]
  },
  {
   "cell_type": "markdown",
   "metadata": {},
   "source": [
    "### Observation\n",
    "* Train vs Validation approaches at 150 epocs\n",
    "* There is significant overfitting of model after a short number of epochs\n",
    "* Results show no detection of cancorous images - not usable\n",
    "* Instability in accuracy could indicate too high learning rate\n"
   ]
  },
  {
   "cell_type": "markdown",
   "metadata": {},
   "source": [
    "## 2. Base Model with regularisation\n",
    "To reduce overfitting try regularisation"
   ]
  },
  {
   "cell_type": "code",
   "execution_count": 46,
   "metadata": {
    "scrolled": true
   },
   "outputs": [],
   "source": [
    "# Use default lambda - note for assignment only. In real this might be in loop to determine best value.\n",
    "reg_lambda = 0.01\n",
    "\n",
    "model_reg = tf.keras.Sequential([\n",
    "    tf.keras.layers.Flatten(input_shape=INPUT_DIM),\n",
    "    tf.keras.layers.Dense(256, activation='sigmoid', kernel_regularizer=tf.keras.regularizers.l2(reg_lambda)),\n",
    "    tf.keras.layers.Dense(OUTPUT_CLASSES, activation='sigmoid', kernel_regularizer=tf.keras.regularizers.l2(reg_lambda))\n",
    "])"
   ]
  },
  {
   "cell_type": "code",
   "execution_count": 47,
   "metadata": {
    "scrolled": true
   },
   "outputs": [
    {
     "name": "stdout",
     "output_type": "stream",
     "text": [
      "Model: \"sequential_1\"\n",
      "_________________________________________________________________\n",
      "Layer (type)                 Output Shape              Param #   \n",
      "=================================================================\n",
      "flatten_1 (Flatten)          (None, 2187)              0         \n",
      "_________________________________________________________________\n",
      "dense_2 (Dense)              (None, 256)               560128    \n",
      "_________________________________________________________________\n",
      "dense_3 (Dense)              (None, 2)                 514       \n",
      "=================================================================\n",
      "Total params: 560,642\n",
      "Trainable params: 560,642\n",
      "Non-trainable params: 0\n",
      "_________________________________________________________________\n"
     ]
    }
   ],
   "source": [
    "model_reg.summary()"
   ]
  },
  {
   "cell_type": "code",
   "execution_count": 48,
   "metadata": {},
   "outputs": [],
   "source": [
    "CompileModel(model_reg)"
   ]
  },
  {
   "cell_type": "code",
   "execution_count": 49,
   "metadata": {},
   "outputs": [
    {
     "name": "stdout",
     "output_type": "stream",
     "text": [
      "start  20:07:49\n",
      "Epoch 1/10000\n",
      "471/471 [==============================] - 10s 19ms/step - loss: 5.1019 - categorical_accuracy: 0.6644 - val_loss: 4.9991 - val_categorical_accuracy: 0.5902\n",
      "Epoch 2/10000\n",
      "471/471 [==============================] - 9s 19ms/step - loss: 4.7992 - categorical_accuracy: 0.6796 - val_loss: 4.6870 - val_categorical_accuracy: 0.6334A: 5s - loss: 4.9073 - categorical_accuracy: 0. - ETA: 5s - ETA: 3s - loss: 4.8713 - categorical_ - ETA: 3s - loss: 4.8630 - categorical_accuracy:  - ETA: 3s - loss: 4.8586 - categorical_accuracy:  - ETA\n",
      "Epoch 3/10000\n",
      "471/471 [==============================] - 9s 19ms/step - loss: 4.5269 - categorical_accuracy: 0.7218 - val_loss: 4.4222 - val_categorical_accuracy: 0.7021A: 4s - loss: 4.6104 - categorical_accura - ETA: 4s - l - ETA: 1s - loss: 4.5530 - categorical_accura - ETA: 1s - loss: 4.5479 -  - ETA: 0s - loss: 4.5341 - categorical_\n",
      "Epoch 4/10000\n",
      "471/471 [==============================] - 9s 20ms/step - loss: 4.2794 - categorical_accuracy: 0.7598 - val_loss: 4.1938 - val_categorical_accuracy: 0.70152979 - catego - ETA: 0s - loss: 4.2879 - categorica\n",
      "Epoch 5/10000\n",
      "471/471 [==============================] - 9s 18ms/step - loss: 4.0513 - categorical_accuracy: 0.7829 - val_loss: 3.9716 - val_categorical_accuracy: 0.7375 5s - loss: 4.1283 - categorical_accura - ETA: 5s - loss: 4.1278 - categorical_ - ETA: 3s - loss: 4.1072 - ca - ETA: 3s - loss: 4.0943 - categorical_accuracy: 0. - ETA: 2s - loss: 4.0925 - categorical_accuracy: 0.77 - ETA: 2s - loss: 4.0928 - categorical_ - ETA: 2s - loss: 4.0835 - categorical_accuracy - ETA: 2s - loss: 4.0809 - categorical_accu - ETA: 1s - loss: 4.0760 - categorical_ac - ETA: 1s - loss: 4.0703 - categorical_ - ETA: 0s - loss: 4.0632 - categorical_accu - ETA: 0s - loss: 4.0591 - categorical_\n",
      "Epoch 6/10000\n",
      "471/471 [==============================] - 9s 18ms/step - loss: 3.8411 - categorical_accuracy: 0.7973 - val_loss: 3.7534 - val_categorical_accuracy: 0.7928- loss: 3.9094 - categorica - ETA: 4s - loss: 3.9000 - categorica - ETA: 3s - loss: 3.8903 - categorical_accu - - ETA: 1s - loss: 3.8635 - categorical_accu - ETA: 1s - loss: 3.8584 - categorical_accuracy - ETA: 0s - loss: 3.8547 -  - ETA: 0s - loss: 3.8420 - categorical_accuracy: 0.\n",
      "Epoch 7/10000\n",
      "471/471 [==============================] - 9s 20ms/step - loss: 3.6457 - categorical_accuracy: 0.8084 - val_loss: 3.5712 - val_categorical_accuracy: 0.7833\n",
      "Epoch 8/10000\n",
      "471/471 [==============================] - 10s 21ms/step - loss: 3.4635 - categorical_accuracy: 0.8147 - val_loss: 3.3956 - val_categorical_accuracy: 0.7869\n",
      "Epoch 9/10000\n",
      "471/471 [==============================] - 9s 20ms/step - loss: 3.2939 - categorical_accuracy: 0.8189 - val_loss: 3.2286 - val_categorical_accuracy: 0.7977\n",
      "Epoch 10/10000\n",
      "471/471 [==============================] - 9s 20ms/step - loss: 3.1347 - categorical_accuracy: 0.8241 - val_loss: 3.0667 - val_categorical_accuracy: 0.8193\n",
      "Epoch 11/10000\n",
      "471/471 [==============================] - 9s 19ms/step - loss: 2.9859 - categorical_accuracy: 0.8281 - val_loss: 2.9182 - val_categorical_accuracy: 0.8350 - categorica - ETA: 0s - loss: 2.993\n",
      "Epoch 12/10000\n",
      "471/471 [==============================] - 9s 19ms/step - loss: 2.8465 - categorical_accuracy: 0.8302 - val_loss: 2.7888 - val_categorical_accuracy: 0.8200ss: 2.8524 - cate\n",
      "Epoch 13/10000\n",
      "471/471 [==============================] - 9s 19ms/step - loss: 2.7151 - categorical_accuracy: 0.8321 - val_loss: 2.6624 - val_categorical_accuracy: 0.8200\n",
      "Epoch 14/10000\n",
      "471/471 [==============================] - 9s 19ms/step - loss: 2.5918 - categorical_accuracy: 0.8341 - val_loss: 2.5453 - val_categorical_accuracy: 0.8187\n",
      "Epoch 15/10000\n",
      "471/471 [==============================] - 9s 19ms/step - loss: 2.4769 - categorical_accuracy: 0.8344 - val_loss: 2.4408 - val_categorical_accuracy: 0.8075ss: 2 - ETA: 5s - loss: 2.5142 - categorical_accura - ETA: 5s - loss: 2.5137 - categorical_accuracy: 0. - ETA: 5s - loss: 2.5143 - categorical_accura - ETA: 5s - loss: 2.5118 - categorical_ac - ETA: 4s - loss: 2.5089 - categorical_ - ETA: 4s - loss: 2.5057 - categorical_accuracy: 0. - ETA: 2s - ETA: 0s - loss: 2.4\n",
      "Epoch 16/10000\n",
      "471/471 [==============================] - 9s 19ms/step - loss: 2.3678 - categorical_accuracy: 0.8366 - val_loss: 2.3261 - val_categorical_accuracy: 0.8236\n",
      "Epoch 17/10000\n",
      "471/471 [==============================] - 9s 20ms/step - loss: 2.2656 - categorical_accuracy: 0.8369 - val_loss: 2.2232 - val_categorical_accuracy: 0.8291\n",
      "Epoch 18/10000\n",
      "471/471 [==============================] - 9s 19ms/step - loss: 2.1696 - categorical_accuracy: 0.8383 - val_loss: 2.1302 - val_categorical_accuracy: 0.8295orical_accu - - ETA: 2s - loss: 2.1803  - ETA: 1s - loss: 2.1768 - categorical_accuracy: 0.83 - ETA: 1s - loss: 2.1764 - categorical_accuracy: 0.83 - ETA: 1s - loss: 2\n",
      "Epoch 19/10000\n",
      "471/471 [==============================] - 9s 19ms/step - loss: 2.0784 - categorical_accuracy: 0.8377 - val_loss: 2.0399 - val_categorical_accuracy: 0.8350 5s - loss: 2.1166  - ETA: 5s - - ETA: 3s - loss: 2.0968 - categorica - ETA: 1s - loss: 2.0893 - categorical_accu - ETA: 1s -\n",
      "Epoch 20/10000\n",
      "471/471 [==============================] - 9s 19ms/step - loss: 1.9931 - categorical_accuracy: 0.8391 - val_loss: 1.9640 - val_categorical_accuracy: 0.82390179 - ca - ETA: 5s - l - ETA: 4s - loss: 2.0218 - categorical_accuracy: 0.84 - ETA: 4s - loss: 2.0213 - ca - ETA: 4s - loss: 2.0191 - categorical_accu - ETA: 3s - loss: - ETA: 0s - loss: 1.997\n",
      "Epoch 21/10000\n",
      "471/471 [==============================] - 9s 19ms/step - loss: 1.9122 - categorical_accuracy: 0.8398 - val_loss: 1.8789 - val_categorical_accuracy: 0.8360\n",
      "Epoch 22/10000\n",
      "471/471 [==============================] - 9s 19ms/step - loss: 1.8362 - categorical_accuracy: 0.8396 - val_loss: 1.8032 - val_categorical_accuracy: 0.8412\n",
      "Epoch 23/10000\n",
      "471/471 [==============================] - 9s 19ms/step - loss: 1.7646 - categorical_accuracy: 0.8407 - val_loss: 1.7377 - val_categorical_accuracy: 0.8331- loss: 1.7831 - categorical_accuracy: 0.84 - ETA: 4s - loss: 1.7832 - categori - ETA: 3s - loss: 1.7824 - categorica - ETA: 3s - loss: 1.7794 - cate - ETA: 2s - loss: 1.7757 - categorical_ac - ETA: 2s - loss: 1.7754 - categorical_ - ETA: 1s - loss: 1.7743 - categorical_accuracy:  - ETA: 1s - loss: 1.7735 -  - ETA: 0s - loss: 1.7681 - categorical_accuracy: 0.84 - ETA: 0s - loss: 1.7681 - cate\n",
      "Epoch 24/10000\n",
      "471/471 [==============================] - 9s 20ms/step - loss: 1.6965 - categorical_accuracy: 0.8410 - val_loss: 1.6670 - val_categorical_accuracy: 0.8429\n",
      "Epoch 25/10000\n",
      "471/471 [==============================] - 9s 20ms/step - loss: 1.6328 - categorical_accuracy: 0.8390 - val_loss: 1.6010 - val_categorical_accuracy: 0.8471\n",
      "Epoch 26/10000\n",
      "471/471 [==============================] - 9s 19ms/step - loss: 1.5728 - categorical_accuracy: 0.8407 - val_loss: 1.5462 - val_categorical_accuracy: 0.8432\n",
      "Epoch 27/10000\n",
      "471/471 [==============================] - 9s 19ms/step - loss: 1.5158 - categorical_accuracy: 0.8410 - val_loss: 1.4899 - val_categorical_accuracy: 0.8455 1s - los\n",
      "Epoch 28/10000\n",
      "471/471 [==============================] - 9s 19ms/step - loss: 1.4617 - categorical_accuracy: 0.8427 - val_loss: 1.4543 - val_categorical_accuracy: 0.8200\n",
      "Epoch 29/10000\n",
      "471/471 [==============================] - 9s 19ms/step - loss: 1.4111 - categorical_accuracy: 0.8431 - val_loss: 1.3980 - val_categorical_accuracy: 0.8262ss: 1.4123 - categorical_accu\n",
      "Epoch 30/10000\n",
      "471/471 [==============================] - 9s 19ms/step - loss: 1.3629 - categorical_accuracy: 0.8428 - val_loss: 1.3555 - val_categorical_accuracy: 0.8229 2s - loss: 1.3688 - ca - ETA: 0s - loss: 1.3639 - categorical_accura\n",
      "Epoch 31/10000\n",
      "471/471 [==============================] - 9s 19ms/step - loss: 1.3170 - categorical_accuracy: 0.8422 - val_loss: 1.3093 - val_categorical_accuracy: 0.8255 1s - loss: 1.3 - ETA: 0s - loss: 1.3189 \n",
      "Epoch 32/10000\n"
     ]
    },
    {
     "name": "stdout",
     "output_type": "stream",
     "text": [
      "471/471 [==============================] - 9s 19ms/step - loss: 1.2743 - categorical_accuracy: 0.8434 - val_loss: 1.2552 - val_categorical_accuracy: 0.8455ategorical_ac - ETA: 4s - loss: 1.2850 - categorical_accu - ETA: 2s - loss: 1.2796 - categorical_accuracy: 0. - ETA: 2s - loss: 1.2800 - categorical_ac - ETA: 1s - loss: 1.2780 - categorical_accu - ETA: 1s - loss: 1.2769 - categorical_accuracy: 0. - ETA: 1s - loss: 1.2780 - categorical_accuracy: 0.84 - ETA: 1s - loss: 1.2780 - categori - ETA: 0s - loss: 1.2756 - categorical_accuracy - ETA: 0s - loss: 1.2753 - categorical_ac\n",
      "Epoch 33/10000\n",
      "471/471 [==============================] - 9s 18ms/step - loss: 1.2337 - categorical_accuracy: 0.8434 - val_loss: 1.2264 - val_categorical_accuracy: 0.8278 categorical_accuracy - ETA: 5s - loss: 1.2 - ETA: 3s - loss: 1.2446 - ca - ETA: 2s - loss: 1.239 - ETA\n",
      "Epoch 34/10000\n",
      "471/471 [==============================] - 9s 19ms/step - loss: 1.1954 - categorical_accuracy: 0.8434 - val_loss: 1.1804 - val_categorical_accuracy: 0.8429: 1.2002 - categorical_accuracy: 0.84 - ETA: 2s - loss:\n",
      "Epoch 35/10000\n",
      "471/471 [==============================] - 9s 18ms/step - loss: 1.1586 - categorical_accuracy: 0.8432 - val_loss: 1.1434 - val_categorical_accuracy: 0.8458\n",
      "Epoch 36/10000\n",
      "471/471 [==============================] - 9s 18ms/step - loss: 1.1240 - categorical_accuracy: 0.8432 - val_loss: 1.1103 - val_categorical_accuracy: 0.8435\n",
      "Epoch 37/10000\n",
      "471/471 [==============================] - 9s 18ms/step - loss: 1.0913 - categorical_accuracy: 0.8432 - val_loss: 1.0809 - val_categorical_accuracy: 0.8386 - categorical_accuracy: 0. - ETA: 1s - loss: 1.0924 - categorical_ac - ETA: 1s - loss: 1\n",
      "Epoch 38/10000\n",
      "471/471 [==============================] - 9s 19ms/step - loss: 1.0603 - categorical_accuracy: 0.8436 - val_loss: 1.0546 - val_categorical_accuracy: 0.8331s - loss: 1.0671 - categorical_accu - ETA: 5s - - ETA: 3s - loss: 1.0615 - categorical_accura - ETA:  - ETA:  - ETA: 0s - loss: 1.0607 - catego\n",
      "Epoch 39/10000\n",
      "471/471 [==============================] - 9s 18ms/step - loss: 1.0310 - categorical_accuracy: 0.8446 - val_loss: 1.0293 - val_categorical_accuracy: 0.8291loss: 1.0372 - categorical_ - ETA: 4s - loss: 1.0385  - ETA: 1s - loss: 1.0355 - catego - ETA: 0s - loss: 1.0333 - \n",
      "Epoch 40/10000\n",
      "471/471 [==============================] - 9s 18ms/step - loss: 1.0035 - categorical_accuracy: 0.8437 - val_loss: 0.9969 - val_categorical_accuracy: 0.8367 6s - loss: 1.0253 - categorical_accu - - ETA: 3s -\n",
      "Epoch 41/10000\n",
      "471/471 [==============================] - 9s 19ms/step - loss: 0.9768 - categorical_accuracy: 0.8442 - val_loss: 0.9638 - val_categorical_accuracy: 0.8448\n",
      "Epoch 42/10000\n",
      "471/471 [==============================] - 9s 19ms/step - loss: 0.9515 - categorical_accuracy: 0.8435 - val_loss: 0.9528 - val_categorical_accuracy: 0.828875 - categorical_ac - ETA: 2s - loss: 0.9572 - categorical_accura\n",
      "Epoch 43/10000\n",
      "471/471 [==============================] - 9s 18ms/step - loss: 0.9281 - categorical_accuracy: 0.8463 - val_loss: 0.9282 - val_categorical_accuracy: 0.8311: 0 - ETA: 3s - loss: 0.9336 - categorical_accuracy:  - ETA: 2s - loss: 0.9333 - ca - ETA: 2s - loss: 0.9335 - categorica - ETA: 1s - - ETA: 0s - loss: 0.9280 - categorical_accu\n",
      "Epoch 44/10000\n",
      "471/471 [==============================] - 9s 19ms/step - loss: 0.9057 - categorical_accuracy: 0.8438 - val_loss: 0.8988 - val_categorical_accuracy: 0.8432al_accuracy: 0. - ETA: 4s - loss: 0.9090 - categorical_accura - ETA: 3s - l - ETA: 1s - loss: 0.9059 - categorical_accuracy: 0.84 - ETA: 1s - los\n",
      "Epoch 45/10000\n",
      "471/471 [==============================] - 9s 19ms/step - loss: 0.8842 - categorical_accuracy: 0.8438 - val_loss: 0.8743 - val_categorical_accuracy: 0.8448loss: 0.8 - ETA: 5s - loss: 0.8868 - categori - ETA: 5s - loss: 0.8838 - categorical_accu - ETA: 4s - loss: 0.8873 - categorical_accuracy: 0. - ETA - ETA: 3s - loss: 0.8849 - ca - ETA: 2s - loss: 0.8851 - categorical_accura - ETA: 2s - loss: 0.8852 - categorical_accuracy: 0.84 - ETA: 2s - loss: 0.8849 - categorica - ETA: 1s - loss: 0.8846 - categori - ETA: 0s - loss: 0.8842 - categorical_accuracy - ETA: 0s - loss: 0.8841 - categorical_ - ETA: 0s - loss: 0.8843 - categorical_accuracy: 0.84 - ETA: 0s - loss: 0.8842 - categorical_accuracy\n",
      "Epoch 46/10000\n",
      "471/471 [==============================] - 9s 18ms/step - loss: 0.8641 - categorical_accuracy: 0.8445 - val_loss: 0.8521 - val_categorical_accuracy: 0.8498\n",
      "Epoch 47/10000\n",
      "471/471 [==============================] - 9s 18ms/step - loss: 0.8450 - categorical_accuracy: 0.8448 - val_loss: 0.8383 - val_categorical_accuracy: 0.845229 - categorical_accuracy - ETA: 6s - loss: 0.8584 - categorical_ac - ETA: 5s - loss: 0.8 - ETA: 4s - loss: 0.8551 - categorical_accuracy - ETA: 4s - loss: 0.8556 - categorica - ETA: 3s - loss: 0.8501 -  - ETA: 1s - loss: 0.8473 - categorical_accuracy:  - ETA: 1s - loss: 0.8471 - categorical_accuracy: 0. - ETA: 1s - loss: 0.8461 - categorical_accuracy: 0. - ETA: 1s - loss: 0.8\n",
      "Epoch 48/10000\n",
      "471/471 [==============================] - 9s 19ms/step - loss: 0.8266 - categorical_accuracy: 0.8448 - val_loss: 0.8176 - val_categorical_accuracy: 0.84480.8273 - categorical_accuracy: 0. - ETA: 4s - loss: 0.8273 - categorical_accuracy: 0. - ETA: 4s - loss: - ETA: 3s - loss: 0.8288 - categorical_accu - ETA: 1s - loss: 0.8258 - cate - ETA: 1s - loss: 0.8245 - categorical_accu - ETA: 0s - loss: 0.8254 - ca\n",
      "Epoch 49/10000\n",
      "471/471 [==============================] - 9s 19ms/step - loss: 0.8093 - categorical_accuracy: 0.8464 - val_loss: 0.8035 - val_categorical_accuracy: 0.8452- loss: 0.8 - ETA: 2s - loss: 0.8125 - categori - ETA: 1s - loss: 0 - ETA: 0s - loss: 0.810\n",
      "Epoch 50/10000\n",
      "471/471 [==============================] - 9s 19ms/step - loss: 0.7931 - categorical_accuracy: 0.8441 - val_loss: 0.7864 - val_categorical_accuracy: 0.8452 6s - loss: - ETA: 5s - loss: 0.7 - ETA: 4s - loss: 0.7967  - ETA: 3s - loss: 0.7977 - cate - ETA: 3s - loss: 0.795 - ETA: 2s - loss: 0.7945 - categorical_accura - E - ETA: 0s - loss: 0.7942 - categorical_ac\n",
      "Epoch 51/10000\n",
      "471/471 [==============================] - 9s 19ms/step - loss: 0.7773 - categorical_accuracy: 0.8448 - val_loss: 0.7784 - val_categorical_accuracy: 0.8354 5s - loss: 0.7726 - categorical_accuracy:  - ETA: 5s - loss: 0.7765 - categorical_accuracy: 0.85 - ETA: 5s - loss: 0.7748 - categorical_accuracy:  - ETA: 4s - loss: 0.7725 -  - ETA: 4s - loss: 0.7746 - ca - ETA: 3s - loss: 0.7739 - ca - ETA: 2s - loss: 0.778\n",
      "Epoch 52/10000\n",
      "471/471 [==============================] - 9s 19ms/step - loss: 0.7629 - categorical_accuracy: 0.8454 - val_loss: 0.7689 - val_categorical_accuracy: 0.8301s - loss: 0.7 - ETA: 3s - loss: 0.7680 - categorical_accuracy: 0. - E - ETA: 1s - loss: 0.7635 - categorical_accura - ETA: 1s - loss: 0.7634 - categorical_accuracy: 0.84 - ETA: 1s - loss: 0.7636  - ETA: 0s - loss: 0.7633 - categorical_accuracy:  - ETA: 0s - loss: 0.7630 - categorical_accuracy: 0.\n",
      "Epoch 53/10000\n",
      "471/471 [==============================] - 9s 19ms/step - loss: 0.7487 - categorical_accuracy: 0.8429 - val_loss: 0.7471 - val_categorical_accuracy: 0.8419\n",
      "Epoch 54/10000\n",
      "471/471 [==============================] - 9s 19ms/step - loss: 0.7354 - categorical_accuracy: 0.8443 - val_loss: 0.7328 - val_categorical_accuracy: 0.84397368 - cate - ETA: 2s - loss: 0.7353 - cate - ETA: 1s - loss: 0.7353 - categorical_accu - ETA: 1s - loss: 0.7348 - categorical_accuracy: 0.84 - ETA: 1s -\n",
      "Epoch 55/10000\n",
      "471/471 [==============================] - 9s 19ms/step - loss: 0.7226 - categorical_accuracy: 0.8446 - val_loss: 0.7299 - val_categorical_accuracy: 0.8298- loss: 0.7394 - categorical_accura - ETA: 5s - loss: 0.7317 \n",
      "Epoch 56/10000\n",
      "471/471 [==============================] - 9s 19ms/step - loss: 0.7102 - categorical_accuracy: 0.8448 - val_loss: 0.7135 - val_categorical_accuracy: 0.8347loss: 0.7109 - categori\n",
      "Epoch 57/10000\n"
     ]
    },
    {
     "name": "stdout",
     "output_type": "stream",
     "text": [
      "471/471 [==============================] - 9s 19ms/step - loss: 0.6983 - categorical_accuracy: 0.8442 - val_loss: 0.6974 - val_categorical_accuracy: 0.8435 2s - loss: 0.7009 - categorical_accuracy - ETA: 2s - loss: 0.7014  - ETA: 1s - loss: 0.7002 - categorical_accuracy:  - ETA: 1s - loss: 0.6998 - categorical_accu - ETA: 0s - loss: 0.6997 - cate\n",
      "Epoch 58/10000\n",
      "471/471 [==============================] - 9s 19ms/step - loss: 0.6881 - categorical_accuracy: 0.8462 - val_loss: 0.6872 - val_categorical_accuracy: 0.8445\n",
      "Epoch 59/10000\n",
      "471/471 [==============================] - 9s 18ms/step - loss: 0.6774 - categorical_accuracy: 0.8459 - val_loss: 0.6734 - val_categorical_accuracy: 0.8445egorical_accuracy: 0. - ETA: 4s - loss: 0.6837 - categorical_accuracy - ETA: 4s - loss: 0.681 - ETA: 1s - loss: 0.6767 - categorical_accura - ETA: 1s - loss: 0.6771 - ca - ETA: 0s - loss: 0.6772 - catego\n",
      "Epoch 60/10000\n",
      "471/471 [==============================] - 8s 18ms/step - loss: 0.6674 - categorical_accuracy: 0.8450 - val_loss: 0.6621 - val_categorical_accuracy: 0.8481- ETA: 2s - loss: 0.6688 - categorical_ac - ETA: 1s - loss: 0.667 - ETA: 1s - loss: 0.6\n",
      "Epoch 61/10000\n",
      "471/471 [==============================] - 9s 18ms/step - loss: 0.6584 - categorical_accuracy: 0.8447 - val_loss: 0.6676 - val_categorical_accuracy: 0.8298s - loss: 0.6548  - ETA: 5s - loss: 0.6601 - categorical_accu - ETA: 5s - loss: 0.6584 - ca - ETA: 4s - loss: 0.6605 - categorica - ETA: 2s - loss: 0.6598 - ca - ETA: 1s - loss: 0.6587 - categorical_accuracy: 0. - ETA: 1s - loss: 0.6595 - categorical_accuracy: 0.84 - ETA: 1s\n",
      "Epoch 62/10000\n",
      "471/471 [==============================] - 9s 18ms/step - loss: 0.6492 - categorical_accuracy: 0.8456 - val_loss: 0.6666 - val_categorical_accuracy: 0.8216\n",
      "Epoch 63/10000\n",
      "471/471 [==============================] - 9s 19ms/step - loss: 0.6409 - categorical_accuracy: 0.8453 - val_loss: 0.6455 - val_categorical_accuracy: 0.8354ego - ETA: 3s - loss: 0.6426 -  - ETA: 2s - loss: 0.6438 - categorical_accuracy: 0.84 - ETA: 2s - loss: 0.6431 -  - ETA: 1s\n",
      "Epoch 64/10000\n",
      "471/471 [==============================] - 8s 18ms/step - loss: 0.6325 - categorical_accuracy: 0.8467 - val_loss: 0.6413 - val_categorical_accuracy: 0.8318 6s - loss: 0.6370 - categorica - E - ETA: 4s - loss: 0 - ETA: 3s - loss: 0.6323 - ca - ETA: 2s - loss: 0.6 - ETA: 1s - loss: 0.6335 - categorical_ - ETA: 0s - loss: 0.6338 - categorical_accuracy - ETA: 0s - loss: 0.6337 - categorical_accuracy: 0. - ETA: 0s - loss: 0.6335 - categori\n",
      "Epoch 65/10000\n",
      "471/471 [==============================] - 8s 18ms/step - loss: 0.6249 - categorical_accuracy: 0.8433 - val_loss: 0.6271 - val_categorical_accuracy: 0.8416s - loss: 0.6260 - categori - ETA: 4s - loss: 0.6287 - categorical_accura - ETA: 3s - loss: 0.6273 -  - ETA: 2s - loss: 0.6286 - categorical_accuracy: 0. - ETA: 2s - loss: 0.6278 - categorical_accuracy - ETA: 2s - loss: 0.6270 - categorical_accuracy: 0.84 - ETA: 2s - los - ETA\n",
      "Epoch 66/10000\n",
      "471/471 [==============================] - 8s 18ms/step - loss: 0.6173 - categorical_accuracy: 0.8432 - val_loss: 0.6166 - val_categorical_accuracy: 0.8442loss: 0.6139 - categorica - ETA: 5s - loss: 0.6 - ETA: 4s - loss: 0.6213 - categorical_ac - ETA: 3s - loss: 0.6227 - categorical_accu - ETA: 3s - loss: 0.6226 - categorical_accuracy: 0. - ETA: 3s - loss: 0.6221 - categorical_accuracy: 0.83 - ETA: 3s - loss: 0.6212 - categorical_accuracy: 0. - ETA: 3s - loss: - ETA: 1s - loss: 0.6194 - cate - ETA: 1s - loss: 0.6183 - categorica - ETA: 0s - loss: 0.6179 - categorical_accuracy:  - ETA: 0s - loss: 0.6177 - categorical_\n",
      "Epoch 67/10000\n",
      "471/471 [==============================] - 8s 18ms/step - loss: 0.6103 - categorical_accuracy: 0.8448 - val_loss: 0.6127 - val_categorical_accuracy: 0.8419 categorical_accuracy: 0.84 - ETA: 3s - loss: 0.6171 - categorica - ETA: 3s - loss: 0.6155 - categorical_accuracy: 0. - ETA: 2s - ETA - ETA: 0s - loss: 0.6104 - categorical_accuracy: 0.\n",
      "Epoch 68/10000\n",
      "471/471 [==============================] - 8s 18ms/step - loss: 0.6036 - categorical_accuracy: 0.8445 - val_loss: 0.6079 - val_categorical_accuracy: 0.8386s - loss: 0.6194  - ETA: 5s - loss: 0.6080 - catego - ETA: 4s - loss: 0.6092 - categorical_accu - ETA: 1s - loss: 0.6019 - categorical_ac - ETA: 0s - loss: 0.6038 - cate\n",
      "Epoch 69/10000\n",
      "471/471 [==============================] - 8s 18ms/step - loss: 0.5974 - categorical_accuracy: 0.8451 - val_loss: 0.5979 - val_categorical_accuracy: 0.8439 - categorical_accuracy:  - ETA: 5s - loss: 0.5958 - categorical_accuracy: 0.84 - E - ETA: 3s - loss: 0.5935 - ca - ETA: 3s - loss: 0.5936 - categorical_accura - ETA: 2s - loss: 0.5943 - categori - ETA: 2s - loss: 0.5949 - categorical_accu - ETA: 1s - loss: 0.5948 - categorical_ - ETA: 1s - ETA: 0s - loss: 0.5976 - categorical_accuracy: 0.84\n",
      "Epoch 70/10000\n",
      "471/471 [==============================] - 8s 18ms/step - loss: 0.5912 - categorical_accuracy: 0.8447 - val_loss: 0.5921 - val_categorical_accuracy: 0.8442ss: 0.5896  - ETA: 4s - loss: 0.5888 - categorical_accuracy:  - ETA: 3s - loss: 0.5891 - categori\n",
      "Epoch 71/10000\n",
      "471/471 [==============================] - 8s 18ms/step - loss: 0.5854 - categorical_accuracy: 0.8468 - val_loss: 0.5911 - val_categorical_accuracy: 0.8373- loss: 0.5918 - categorical_accuracy - ETA: 4s - loss: 0.5902 - categorical_accuracy - ETA: 4s - loss: 0.5899 - catego - ETA: 3s - loss: 0.5889 - categorical_accuracy: 0.84 - ETA: 3s - loss: 0.5887 - categorical_accu - ETA: 3s - loss: 0.5882 - categorical_accuracy: 0. - ETA: 3s - loss: 0.5887 - categorical_accuracy: 0.84 - ETA: 3s - loss: 0.5876 - categorical_ac - ETA: 1s - loss: 0.5851 - categorical_ac - ETA: 0s - loss: 0.5853 - categorical_ - ETA: 0s - loss: 0.5867 - categorical_accuracy: 0.84 - ETA: 0s - loss: 0.5860 - categorical_accuracy: 0.\n",
      "Epoch 72/10000\n",
      "471/471 [==============================] - 8s 18ms/step - loss: 0.5795 - categorical_accuracy: 0.8440 - val_loss: 0.5778 - val_categorical_accuracy: 0.8452ss: 0.5652 - categorical_ac - ETA: 5s - loss: 0.5725 - categorica - ETA: 5s - loss: 0.5751 - categorical_accuracy: 0. - ETA: 5s - loss: 0.5775 - categorical_accuracy - ETA: 4s - loss: 0.5798 - categorical_accuracy:  - E - ETA: 1s - loss: 0.5849 - categorical_ - ETA: 1s - loss: 0.5834 - categori - ETA: 0s - loss: 0.5807 - categorica\n",
      "Epoch 73/10000\n",
      "471/471 [==============================] - 9s 18ms/step - loss: 0.5746 - categorical_accuracy: 0.8449 - val_loss: 0.5931 - val_categorical_accuracy: 0.8223ical_accuracy: 0. - ETA - ETA - ETA: 0s - loss: 0.5746 - categorical_accuracy: 0.84\n",
      "Epoch 74/10000\n",
      "471/471 [==============================] - 8s 18ms/step - loss: 0.5696 - categorical_accuracy: 0.8452 - val_loss: 0.5682 - val_categorical_accuracy: 0.844531 - categorical_accu - ETA: 5s - loss: 0.5701 - categorical_ - ETA: 4s - loss: 0.5687  - ETA: 3s - loss: 0.570 - ETA: 2s - loss: 0.5667 - categorical_accuracy: 0.84 - ETA: 2s - loss: 0.5669 - ca - ETA: 1s - loss: 0.5678 - categorical_accuracy: 0. - ETA: 1s - loss: 0.5678  - ETA: 0s - loss: 0.568\n",
      "Epoch 75/10000\n",
      "471/471 [==============================] - 8s 18ms/step - loss: 0.5647 - categorical_accuracy: 0.8450 - val_loss: 0.5662 - val_categorical_accuracy: 0.8445ccura - ETA: 3s - loss: 0.5682 - categorica\n",
      "Epoch 76/10000\n",
      "471/471 [==============================] - 8s 18ms/step - loss: 0.5603 - categorical_accuracy: 0.8446 - val_loss: 0.5678 - val_categorical_accuracy: 0.83445629  - ETA: 2s - loss: 0.5627 - categorical_ - ETA: 1s - loss: 0.5611 - ca - ETA: 0s - loss: 0.560\n",
      "stop  20:18:58\n",
      "Took =  0:11:08.857126\n"
     ]
    }
   ],
   "source": [
    "history_reg = FitModel(model_reg)"
   ]
  },
  {
   "cell_type": "code",
   "execution_count": 50,
   "metadata": {},
   "outputs": [
    {
     "data": {
      "image/png": "[encoded data removed]",
      "text/plain": [
       "<Figure size 720x360 with 2 Axes>"
      ]
     },
     "metadata": {
      "needs_background": "light"
     },
     "output_type": "display_data"
    }
   ],
   "source": [
    "PlotModelFitHistory(history_reg)"
   ]
  },
  {
   "cell_type": "code",
   "execution_count": 51,
   "metadata": {},
   "outputs": [],
   "source": [
    "(test_y, pred_y) = PredictModel(model_reg)"
   ]
  },
  {
   "cell_type": "code",
   "execution_count": 52,
   "metadata": {},
   "outputs": [
    {
     "name": "stdout",
     "output_type": "stream",
     "text": [
      "Accuracy score:  0.8429709141274239\n",
      "F1 score:  0.8125716919200051\n",
      "              precision    recall  f1-score   support\n",
      "\n",
      "           0       0.83      0.96      0.89     44989\n",
      "           1       0.89      0.63      0.74     24323\n",
      "\n",
      "    accuracy                           0.84     69312\n",
      "   macro avg       0.86      0.79      0.81     69312\n",
      "weighted avg       0.85      0.84      0.84     69312\n",
      "\n"
     ]
    }
   ],
   "source": [
    "ShowStats(test_y, pred_y)"
   ]
  },
  {
   "cell_type": "code",
   "execution_count": 53,
   "metadata": {},
   "outputs": [
    {
     "data": {
      "image/png": "[encoded data removed]",
      "text/plain": [
       "<Figure size 432x288 with 2 Axes>"
      ]
     },
     "metadata": {
      "needs_background": "light"
     },
     "output_type": "display_data"
    }
   ],
   "source": [
    "PlotConfusionMatrix(test_y, pred_y)"
   ]
  },
  {
   "cell_type": "markdown",
   "metadata": {},
   "source": [
    "### Observation\n",
    "* Loss vs Epochs plot shows significantly improved fitting\n",
    "* Accuracy stablises at ~ 80% after 20 epochs\n",
    "* Learning rate maybe still high but results good\n",
    "* Model doesn't detect positive cases"
   ]
  },
  {
   "cell_type": "markdown",
   "metadata": {},
   "source": [
    "## 3. Base Model with dropout\n",
    "To reduce overfitting and improve speed see if minor drop out improves the model."
   ]
  },
  {
   "cell_type": "code",
   "execution_count": 54,
   "metadata": {
    "scrolled": true
   },
   "outputs": [],
   "source": [
    "model_drop = tf.keras.Sequential([\n",
    "    tf.keras.layers.Flatten(input_shape=INPUT_DIM),\n",
    "    tf.keras.layers.Dense(256, activation='relu'),\n",
    "    tf.keras.layers.Dropout(.2),\n",
    "    tf.keras.layers.Dense(OUTPUT_CLASSES, activation='sigmoid')\n",
    "])"
   ]
  },
  {
   "cell_type": "code",
   "execution_count": 55,
   "metadata": {},
   "outputs": [
    {
     "name": "stdout",
     "output_type": "stream",
     "text": [
      "Model: \"sequential_2\"\n",
      "_________________________________________________________________\n",
      "Layer (type)                 Output Shape              Param #   \n",
      "=================================================================\n",
      "flatten_2 (Flatten)          (None, 2187)              0         \n",
      "_________________________________________________________________\n",
      "dense_4 (Dense)              (None, 256)               560128    \n",
      "_________________________________________________________________\n",
      "dropout (Dropout)            (None, 256)               0         \n",
      "_________________________________________________________________\n",
      "dense_5 (Dense)              (None, 2)                 514       \n",
      "=================================================================\n",
      "Total params: 560,642\n",
      "Trainable params: 560,642\n",
      "Non-trainable params: 0\n",
      "_________________________________________________________________\n"
     ]
    }
   ],
   "source": [
    "model_drop.summary()"
   ]
  },
  {
   "cell_type": "code",
   "execution_count": 56,
   "metadata": {},
   "outputs": [],
   "source": [
    "CompileModel(model_drop)"
   ]
  },
  {
   "cell_type": "code",
   "execution_count": 57,
   "metadata": {},
   "outputs": [
    {
     "name": "stdout",
     "output_type": "stream",
     "text": [
      "start  20:20:29\n",
      "Epoch 1/10000\n",
      "471/471 [==============================] - 8s 17ms/step - loss: 0.5295 - categorical_accuracy: 0.7325 - val_loss: 0.4676 - val_categorical_accuracy: 0.77745324 - categorical_accura\n",
      "Epoch 2/10000\n",
      "471/471 [==============================] - 8s 16ms/step - loss: 0.4302 - categorical_accuracy: 0.8075 - val_loss: 0.4747 - val_categorical_accuracy: 0.7561\n",
      "Epoch 3/10000\n",
      "471/471 [==============================] - 8s 16ms/step - loss: 0.4015 - categorical_accuracy: 0.8244 - val_loss: 0.4244 - val_categorical_accuracy: 0.8033s - loss: 0.406 - ETA: 0s - loss: 0.4041 - \n",
      "Epoch 4/10000\n",
      "471/471 [==============================] - 8s 17ms/step - loss: 0.3862 - categorical_accuracy: 0.8324 - val_loss: 0.3695 - val_categorical_accuracy: 0.84650.3866 - categorical_accuracy: 0.\n",
      "Epoch 5/10000\n",
      "471/471 [==============================] - 8s 16ms/step - loss: 0.3787 - categorical_accuracy: 0.8353 - val_loss: 0.3636 - val_categorical_accuracy: 0.8471\n",
      "Epoch 6/10000\n",
      "471/471 [==============================] - 8s 16ms/step - loss: 0.3709 - categorical_accuracy: 0.8379 - val_loss: 0.3626 - val_categorical_accuracy: 0.8462\n",
      "Epoch 7/10000\n",
      "471/471 [==============================] - 8s 16ms/step - loss: 0.3684 - categorical_accuracy: 0.8375 - val_loss: 0.3617 - val_categorical_accuracy: 0.8439\n",
      "Epoch 8/10000\n",
      "471/471 [==============================] - 8s 17ms/step - loss: 0.3658 - categorical_accuracy: 0.8407 - val_loss: 0.3732 - val_categorical_accuracy: 0.8360\n",
      "Epoch 9/10000\n",
      "471/471 [==============================] - 8s 16ms/step - loss: 0.3634 - categorical_accuracy: 0.8393 - val_loss: 0.3487 - val_categorical_accuracy: 0.8537\n",
      "Epoch 10/10000\n",
      "471/471 [==============================] - 8s 16ms/step - loss: 0.3612 - categorical_accuracy: 0.8404 - val_loss: 0.3505 - val_categorical_accuracy: 0.8524- loss: 0.3616 - categorical_accuracy: 0.\n",
      "Epoch 11/10000\n",
      "471/471 [==============================] - 8s 17ms/step - loss: 0.3576 - categorical_accuracy: 0.8450 - val_loss: 0.3468 - val_categorical_accuracy: 0.8550ss: 0 - ETA: 1s -\n",
      "Epoch 12/10000\n",
      "471/471 [==============================] - 8s 16ms/step - loss: 0.3564 - categorical_accuracy: 0.8418 - val_loss: 0.3507 - val_categorical_accuracy: 0.8501\n",
      "Epoch 13/10000\n",
      "471/471 [==============================] - 8s 16ms/step - loss: 0.3549 - categorical_accuracy: 0.8423 - val_loss: 0.3678 - val_categorical_accuracy: 0.8390\n",
      "Epoch 14/10000\n",
      "471/471 [==============================] - 8s 16ms/step - loss: 0.3554 - categorical_accuracy: 0.8424 - val_loss: 0.3511 - val_categorical_accuracy: 0.8501\n",
      "Epoch 15/10000\n",
      "471/471 [==============================] - 8s 17ms/step - loss: 0.3542 - categorical_accuracy: 0.8448 - val_loss: 0.3501 - val_categorical_accuracy: 0.8491\n",
      "Epoch 16/10000\n",
      "471/471 [==============================] - 8s 16ms/step - loss: 0.3531 - categorical_accuracy: 0.8452 - val_loss: 0.3554 - val_categorical_accuracy: 0.8455\n",
      "Epoch 17/10000\n",
      "471/471 [==============================] - 8s 17ms/step - loss: 0.3507 - categorical_accuracy: 0.8443 - val_loss: 0.3600 - val_categorical_accuracy: 0.8445\n",
      "Epoch 18/10000\n",
      "471/471 [==============================] - 8s 16ms/step - loss: 0.3505 - categorical_accuracy: 0.8471 - val_loss: 0.3497 - val_categorical_accuracy: 0.8498\n",
      "Epoch 19/10000\n",
      "471/471 [==============================] - 8s 16ms/step - loss: 0.3509 - categorical_accuracy: 0.8496 - val_loss: 0.3421 - val_categorical_accuracy: 0.8570\n",
      "Epoch 20/10000\n",
      "471/471 [==============================] - 8s 17ms/step - loss: 0.3493 - categorical_accuracy: 0.8469 - val_loss: 0.3587 - val_categorical_accuracy: 0.8442\n",
      "Epoch 21/10000\n",
      "471/471 [==============================] - 8s 16ms/step - loss: 0.3482 - categorical_accuracy: 0.8494 - val_loss: 0.3518 - val_categorical_accuracy: 0.8491\n",
      "Epoch 22/10000\n",
      "471/471 [==============================] - 8s 17ms/step - loss: 0.3498 - categorical_accuracy: 0.8472 - val_loss: 0.3497 - val_categorical_accuracy: 0.8501\n",
      "Epoch 23/10000\n",
      "471/471 [==============================] - 8s 17ms/step - loss: 0.3496 - categorical_accuracy: 0.8473 - val_loss: 0.3748 - val_categorical_accuracy: 0.8350\n",
      "Epoch 24/10000\n",
      "471/471 [==============================] - 8s 16ms/step - loss: 0.3477 - categorical_accuracy: 0.8492 - val_loss: 0.3579 - val_categorical_accuracy: 0.8429\n",
      "Epoch 25/10000\n",
      "471/471 [==============================] - 8s 16ms/step - loss: 0.3475 - categorical_accuracy: 0.8500 - val_loss: 0.3608 - val_categorical_accuracy: 0.8422\n",
      "Epoch 26/10000\n",
      "471/471 [==============================] - 8s 17ms/step - loss: 0.3455 - categorical_accuracy: 0.8503 - val_loss: 0.3463 - val_categorical_accuracy: 0.8550\n",
      "Epoch 27/10000\n",
      "471/471 [==============================] - 9s 19ms/step - loss: 0.3445 - categorical_accuracy: 0.8511 - val_loss: 0.3550 - val_categorical_accuracy: 0.84783432 - categorical_\n",
      "Epoch 28/10000\n",
      "471/471 [==============================] - 9s 19ms/step - loss: 0.3452 - categorical_accuracy: 0.8510 - val_loss: 0.3478 - val_categorical_accuracy: 0.85073541 - categorical_accuracy: 0.84 - ETA: 5s - loss: 0.354 - ETA: 4s - loss: 0.3523 - categorical_accuracy: 0.84 - ETA: 4s - loss: 0.3519 - categorical_accuracy:  - ETA: 4s - ETA: 1s - loss: 0.3445 - cate - ETA: 1s - loss: 0.3469 - categorical_accuracy: 0. - ETA: 0s - loss: 0.346\n",
      "Epoch 29/10000\n",
      "471/471 [==============================] - 9s 18ms/step - loss: 0.3450 - categorical_accuracy: 0.8487 - val_loss: 0.3551 - val_categorical_accuracy: 0.8484\n",
      "Epoch 30/10000\n",
      "471/471 [==============================] - 8s 17ms/step - loss: 0.3445 - categorical_accuracy: 0.8490 - val_loss: 0.3385 - val_categorical_accuracy: 0.8583\n",
      "Epoch 31/10000\n",
      "471/471 [==============================] - 8s 17ms/step - loss: 0.3426 - categorical_accuracy: 0.8504 - val_loss: 0.3628 - val_categorical_accuracy: 0.8399\n",
      "Epoch 32/10000\n",
      "471/471 [==============================] - 8s 17ms/step - loss: 0.3427 - categorical_accuracy: 0.8486 - val_loss: 0.3607 - val_categorical_accuracy: 0.8426\n",
      "Epoch 33/10000\n",
      "471/471 [==============================] - 8s 17ms/step - loss: 0.3436 - categorical_accuracy: 0.8499 - val_loss: 0.3392 - val_categorical_accuracy: 0.8576\n",
      "Epoch 34/10000\n",
      "471/471 [==============================] - 8s 17ms/step - loss: 0.3422 - categorical_accuracy: 0.8511 - val_loss: 0.3400 - val_categorical_accuracy: 0.8573\n",
      "Epoch 35/10000\n",
      "471/471 [==============================] - 8s 17ms/step - loss: 0.3433 - categorical_accuracy: 0.8499 - val_loss: 0.3669 - val_categorical_accuracy: 0.8386\n",
      "Epoch 36/10000\n",
      "471/471 [==============================] - 8s 17ms/step - loss: 0.3426 - categorical_accuracy: 0.8502 - val_loss: 0.3533 - val_categorical_accuracy: 0.8481\n",
      "Epoch 37/10000\n",
      "471/471 [==============================] - 8s 17ms/step - loss: 0.3411 - categorical_accuracy: 0.8505 - val_loss: 0.3478 - val_categorical_accuracy: 0.8527ss:\n",
      "Epoch 38/10000\n",
      "471/471 [==============================] - 8s 17ms/step - loss: 0.3406 - categorical_accuracy: 0.8518 - val_loss: 0.3387 - val_categorical_accuracy: 0.8579\n",
      "Epoch 39/10000\n",
      "471/471 [==============================] - 8s 17ms/step - loss: 0.3407 - categorical_accuracy: 0.8504 - val_loss: 0.3493 - val_categorical_accuracy: 0.85113444 -  - ETA: 2s - los - ETA: 0s - loss: 0.341\n",
      "Epoch 40/10000\n",
      "471/471 [==============================] - 8s 17ms/step - loss: 0.3397 - categorical_accuracy: 0.8525 - val_loss: 0.3534 - val_categorical_accuracy: 0.8488\n",
      "Epoch 41/10000\n",
      "471/471 [==============================] - 8s 17ms/step - loss: 0.3392 - categorical_accuracy: 0.8534 - val_loss: 0.3636 - val_categorical_accuracy: 0.8422\n",
      "Epoch 42/10000\n",
      "471/471 [==============================] - 8s 17ms/step - loss: 0.3406 - categorical_accuracy: 0.8513 - val_loss: 0.3531 - val_categorical_accuracy: 0.8491\n",
      "Epoch 43/10000\n",
      "471/471 [==============================] - 8s 17ms/step - loss: 0.3397 - categorical_accuracy: 0.8511 - val_loss: 0.3496 - val_categorical_accuracy: 0.8498ss: 0.3392 - categorical_accuracy\n",
      "Epoch 44/10000\n",
      "471/471 [==============================] - 8s 17ms/step - loss: 0.3397 - categorical_accuracy: 0.8519 - val_loss: 0.3429 - val_categorical_accuracy: 0.8553\n",
      "Epoch 45/10000\n"
     ]
    },
    {
     "name": "stdout",
     "output_type": "stream",
     "text": [
      "471/471 [==============================] - 8s 17ms/step - loss: 0.3386 - categorical_accuracy: 0.8520 - val_loss: 0.3405 - val_categorical_accuracy: 0.8589\n",
      "Epoch 46/10000\n",
      "471/471 [==============================] - 8s 17ms/step - loss: 0.3378 - categorical_accuracy: 0.8521 - val_loss: 0.3511 - val_categorical_accuracy: 0.8517orical_accuracy: \n",
      "Epoch 47/10000\n",
      "471/471 [==============================] - 8s 17ms/step - loss: 0.3375 - categorical_accuracy: 0.8526 - val_loss: 0.3404 - val_categorical_accuracy: 0.8579\n",
      "Epoch 48/10000\n",
      "471/471 [==============================] - 8s 17ms/step - loss: 0.3381 - categorical_accuracy: 0.8513 - val_loss: 0.3511 - val_categorical_accuracy: 0.8498\n",
      "Epoch 49/10000\n",
      "471/471 [==============================] - 8s 17ms/step - loss: 0.3376 - categorical_accuracy: 0.8541 - val_loss: 0.3416 - val_categorical_accuracy: 0.8563\n",
      "Epoch 50/10000\n",
      "471/471 [==============================] - 8s 17ms/step - loss: 0.3361 - categorical_accuracy: 0.8522 - val_loss: 0.3398 - val_categorical_accuracy: 0.8556\n",
      "Epoch 51/10000\n",
      "471/471 [==============================] - 8s 17ms/step - loss: 0.3373 - categorical_accuracy: 0.8547 - val_loss: 0.3459 - val_categorical_accuracy: 0.8537\n",
      "Epoch 52/10000\n",
      "471/471 [==============================] - 8s 17ms/step - loss: 0.3362 - categorical_accuracy: 0.8565 - val_loss: 0.3399 - val_categorical_accuracy: 0.8570\n",
      "Epoch 53/10000\n",
      "471/471 [==============================] - 8s 17ms/step - loss: 0.3359 - categorical_accuracy: 0.8528 - val_loss: 0.3460 - val_categorical_accuracy: 0.8527\n",
      "Epoch 54/10000\n",
      "471/471 [==============================] - 8s 17ms/step - loss: 0.3350 - categorical_accuracy: 0.8545 - val_loss: 0.3360 - val_categorical_accuracy: 0.8573\n",
      "Epoch 55/10000\n",
      "471/471 [==============================] - 8s 17ms/step - loss: 0.3360 - categorical_accuracy: 0.8512 - val_loss: 0.3482 - val_categorical_accuracy: 0.8520\n",
      "Epoch 56/10000\n",
      "471/471 [==============================] - 8s 17ms/step - loss: 0.3343 - categorical_accuracy: 0.8552 - val_loss: 0.3497 - val_categorical_accuracy: 0.8507\n",
      "Epoch 57/10000\n",
      "471/471 [==============================] - 8s 17ms/step - loss: 0.3335 - categorical_accuracy: 0.8541 - val_loss: 0.3438 - val_categorical_accuracy: 0.8550\n",
      "Epoch 58/10000\n",
      "471/471 [==============================] - 8s 17ms/step - loss: 0.3344 - categorical_accuracy: 0.8549 - val_loss: 0.3479 - val_categorical_accuracy: 0.8514 1s - los\n",
      "Epoch 59/10000\n",
      "471/471 [==============================] - 8s 17ms/step - loss: 0.3348 - categorical_accuracy: 0.8525 - val_loss: 0.3446 - val_categorical_accuracy: 0.8537\n",
      "Epoch 60/10000\n",
      "471/471 [==============================] - 8s 17ms/step - loss: 0.3342 - categorical_accuracy: 0.8547 - val_loss: 0.3359 - val_categorical_accuracy: 0.8573\n",
      "Epoch 61/10000\n",
      "471/471 [==============================] - 8s 17ms/step - loss: 0.3339 - categorical_accuracy: 0.8536 - val_loss: 0.3407 - val_categorical_accuracy: 0.8570\n",
      "Epoch 62/10000\n",
      "471/471 [==============================] - 8s 17ms/step - loss: 0.3337 - categorical_accuracy: 0.8553 - val_loss: 0.3419 - val_categorical_accuracy: 0.8553\n",
      "Epoch 63/10000\n",
      "471/471 [==============================] - 8s 17ms/step - loss: 0.3328 - categorical_accuracy: 0.8557 - val_loss: 0.3432 - val_categorical_accuracy: 0.8547\n",
      "Epoch 64/10000\n",
      "471/471 [==============================] - 8s 17ms/step - loss: 0.3326 - categorical_accuracy: 0.8547 - val_loss: 0.3549 - val_categorical_accuracy: 0.8475\n",
      "Epoch 65/10000\n",
      "471/471 [==============================] - 8s 17ms/step - loss: 0.3325 - categorical_accuracy: 0.8559 - val_loss: 0.3446 - val_categorical_accuracy: 0.8547\n",
      "Epoch 66/10000\n",
      "471/471 [==============================] - 8s 17ms/step - loss: 0.3321 - categorical_accuracy: 0.8568 - val_loss: 0.3374 - val_categorical_accuracy: 0.8579\n",
      "Epoch 67/10000\n",
      "471/471 [==============================] - 8s 17ms/step - loss: 0.3316 - categorical_accuracy: 0.8565 - val_loss: 0.3570 - val_categorical_accuracy: 0.8468\n",
      "Epoch 68/10000\n",
      "471/471 [==============================] - 8s 17ms/step - loss: 0.3311 - categorical_accuracy: 0.8556 - val_loss: 0.3445 - val_categorical_accuracy: 0.8540\n",
      "Epoch 69/10000\n",
      "471/471 [==============================] - 8s 17ms/step - loss: 0.3308 - categorical_accuracy: 0.8579 - val_loss: 0.3494 - val_categorical_accuracy: 0.8517\n",
      "Epoch 70/10000\n",
      "471/471 [==============================] - 8s 17ms/step - loss: 0.3310 - categorical_accuracy: 0.8577 - val_loss: 0.3370 - val_categorical_accuracy: 0.8573s - loss: 0.3487 - categorical_accu - ETA: 5s - loss: 0.3342 - categorical_accuracy - ETA: 5s - loss:\n",
      "Epoch 71/10000\n",
      "471/471 [==============================] - 8s 17ms/step - loss: 0.3304 - categorical_accuracy: 0.8564 - val_loss: 0.3367 - val_categorical_accuracy: 0.8589\n",
      "Epoch 72/10000\n",
      "471/471 [==============================] - 8s 16ms/step - loss: 0.3309 - categorical_accuracy: 0.8549 - val_loss: 0.3428 - val_categorical_accuracy: 0.8524\n",
      "Epoch 73/10000\n",
      "471/471 [==============================] - 8s 16ms/step - loss: 0.3289 - categorical_accuracy: 0.8567 - val_loss: 0.3458 - val_categorical_accuracy: 0.8527\n",
      "Epoch 74/10000\n",
      "471/471 [==============================] - 8s 16ms/step - loss: 0.3289 - categorical_accuracy: 0.8563 - val_loss: 0.3356 - val_categorical_accuracy: 0.8589\n",
      "Epoch 75/10000\n",
      "471/471 [==============================] - 8s 17ms/step - loss: 0.3292 - categorical_accuracy: 0.8567 - val_loss: 0.3370 - val_categorical_accuracy: 0.8592\n",
      "Epoch 76/10000\n",
      "471/471 [==============================] - 8s 17ms/step - loss: 0.3291 - categorical_accuracy: 0.8582 - val_loss: 0.3651 - val_categorical_accuracy: 0.8442\n",
      "Epoch 77/10000\n",
      "471/471 [==============================] - 8s 16ms/step - loss: 0.3294 - categorical_accuracy: 0.8576 - val_loss: 0.3401 - val_categorical_accuracy: 0.8560\n",
      "Epoch 78/10000\n",
      "471/471 [==============================] - 8s 16ms/step - loss: 0.3285 - categorical_accuracy: 0.8565 - val_loss: 0.3440 - val_categorical_accuracy: 0.8547\n",
      "Epoch 79/10000\n",
      "471/471 [==============================] - 8s 16ms/step - loss: 0.3278 - categorical_accuracy: 0.8579 - val_loss: 0.3379 - val_categorical_accuracy: 0.8586\n",
      "Epoch 80/10000\n",
      "471/471 [==============================] - 8s 17ms/step - loss: 0.3283 - categorical_accuracy: 0.8571 - val_loss: 0.3573 - val_categorical_accuracy: 0.8445\n",
      "Epoch 81/10000\n",
      "471/471 [==============================] - 8s 16ms/step - loss: 0.3284 - categorical_accuracy: 0.8573 - val_loss: 0.3396 - val_categorical_accuracy: 0.8576- l - ETA: 0s - loss: 0.3285 - categorical_accuracy\n",
      "Epoch 82/10000\n",
      "471/471 [==============================] - 8s 16ms/step - loss: 0.3271 - categorical_accuracy: 0.8587 - val_loss: 0.3426 - val_categorical_accuracy: 0.8553\n",
      "Epoch 83/10000\n",
      "471/471 [==============================] - 8s 16ms/step - loss: 0.3263 - categorical_accuracy: 0.8586 - val_loss: 0.3519 - val_categorical_accuracy: 0.8491\n",
      "Epoch 84/10000\n",
      "471/471 [==============================] - 8s 17ms/step - loss: 0.3276 - categorical_accuracy: 0.8586 - val_loss: 0.3367 - val_categorical_accuracy: 0.8592\n",
      "Epoch 85/10000\n",
      "471/471 [==============================] - 8s 16ms/step - loss: 0.3269 - categorical_accuracy: 0.8592 - val_loss: 0.3426 - val_categorical_accuracy: 0.8543\n",
      "Epoch 86/10000\n",
      "471/471 [==============================] - 8s 16ms/step - loss: 0.3265 - categorical_accuracy: 0.8578 - val_loss: 0.3385 - val_categorical_accuracy: 0.8592\n",
      "Epoch 87/10000\n",
      "471/471 [==============================] - 8s 16ms/step - loss: 0.3259 - categorical_accuracy: 0.8588 - val_loss: 0.3365 - val_categorical_accuracy: 0.8599loss: 0 - ETA: 0s - loss: 0.3\n",
      "Epoch 88/10000\n",
      "471/471 [==============================] - 8s 16ms/step - loss: 0.3261 - categorical_accuracy: 0.8602 - val_loss: 0.3454 - val_categorical_accuracy: 0.8530\n",
      "Epoch 89/10000\n",
      "471/471 [==============================] - 8s 16ms/step - loss: 0.3263 - categorical_accuracy: 0.8592 - val_loss: 0.3541 - val_categorical_accuracy: 0.8478\n",
      "Epoch 90/10000\n",
      "471/471 [==============================] - 8s 17ms/step - loss: 0.3264 - categorical_accuracy: 0.8594 - val_loss: 0.3360 - val_categorical_accuracy: 0.8599s - loss: 0.317 -\n",
      "Epoch 91/10000\n",
      "471/471 [==============================] - 8s 16ms/step - loss: 0.3251 - categorical_accuracy: 0.8594 - val_loss: 0.3358 - val_categorical_accuracy: 0.8599\n"
     ]
    },
    {
     "name": "stdout",
     "output_type": "stream",
     "text": [
      "Epoch 92/10000\n",
      "471/471 [==============================] - 8s 16ms/step - loss: 0.3252 - categorical_accuracy: 0.8586 - val_loss: 0.3448 - val_categorical_accuracy: 0.8540s - loss: 0.3265 - categorica\n",
      "Epoch 93/10000\n",
      "471/471 [==============================] - 8s 16ms/step - loss: 0.3246 - categorical_accuracy: 0.8600 - val_loss: 0.3379 - val_categorical_accuracy: 0.8576\n",
      "Epoch 94/10000\n",
      "471/471 [==============================] - 8s 16ms/step - loss: 0.3250 - categorical_accuracy: 0.8598 - val_loss: 0.3446 - val_categorical_accuracy: 0.8534s - loss: 0.3498 - cate - ETA: 3s - loss: 0 - ETA: 2s - loss: 0.329\n",
      "Epoch 95/10000\n",
      "471/471 [==============================] - 8s 16ms/step - loss: 0.3233 - categorical_accuracy: 0.8596 - val_loss: 0.3323 - val_categorical_accuracy: 0.8606\n",
      "Epoch 96/10000\n",
      "471/471 [==============================] - 8s 16ms/step - loss: 0.3233 - categorical_accuracy: 0.8618 - val_loss: 0.3388 - val_categorical_accuracy: 0.8583: 0.3246 \n",
      "Epoch 97/10000\n",
      "471/471 [==============================] - 8s 16ms/step - loss: 0.3233 - categorical_accuracy: 0.8620 - val_loss: 0.3389 - val_categorical_accuracy: 0.8570: 0.3237 - categorical_accuracy: 0. - ETA: 0s - loss: 0.3238 - categorical_accuracy: 0.\n",
      "Epoch 98/10000\n",
      "471/471 [==============================] - 8s 16ms/step - loss: 0.3233 - categorical_accuracy: 0.8578 - val_loss: 0.3358 - val_categorical_accuracy: 0.8602\n",
      "Epoch 99/10000\n",
      "471/471 [==============================] - 8s 16ms/step - loss: 0.3227 - categorical_accuracy: 0.8604 - val_loss: 0.3335 - val_categorical_accuracy: 0.8602loss: 0 - ETA: 2s - loss: 0.318\n",
      "Epoch 100/10000\n",
      "471/471 [==============================] - 8s 18ms/step - loss: 0.3221 - categorical_accuracy: 0.8632 - val_loss: 0.3452 - val_categorical_accuracy: 0.8540\n",
      "Epoch 101/10000\n",
      "471/471 [==============================] - 8s 16ms/step - loss: 0.3236 - categorical_accuracy: 0.8609 - val_loss: 0.3389 - val_categorical_accuracy: 0.8566\n",
      "Epoch 102/10000\n",
      "471/471 [==============================] - 8s 16ms/step - loss: 0.3239 - categorical_accuracy: 0.8618 - val_loss: 0.3411 - val_categorical_accuracy: 0.8560\n",
      "Epoch 103/10000\n",
      "471/471 [==============================] - 8s 16ms/step - loss: 0.3229 - categorical_accuracy: 0.8613 - val_loss: 0.3374 - val_categorical_accuracy: 0.8586\n",
      "Epoch 104/10000\n",
      "471/471 [==============================] - 8s 16ms/step - loss: 0.3218 - categorical_accuracy: 0.8622 - val_loss: 0.3379 - val_categorical_accuracy: 0.8560loss: 0.3190 - categorical_accuracy - ETA: 0s - loss: 0\n",
      "Epoch 105/10000\n",
      "471/471 [==============================] - 8s 17ms/step - loss: 0.3220 - categorical_accuracy: 0.8621 - val_loss: 0.3426 - val_categorical_accuracy: 0.8530\n",
      "Epoch 106/10000\n",
      "471/471 [==============================] - 8s 17ms/step - loss: 0.3220 - categorical_accuracy: 0.8618 - val_loss: 0.3340 - val_categorical_accuracy: 0.8612\n",
      "Epoch 107/10000\n",
      "471/471 [==============================] - 8s 17ms/step - loss: 0.3224 - categorical_accuracy: 0.8599 - val_loss: 0.3346 - val_categorical_accuracy: 0.8602\n",
      "Epoch 108/10000\n",
      "471/471 [==============================] - 8s 16ms/step - loss: 0.3208 - categorical_accuracy: 0.8620 - val_loss: 0.3330 - val_categorical_accuracy: 0.8609\n",
      "Epoch 109/10000\n",
      "471/471 [==============================] - 8s 16ms/step - loss: 0.3213 - categorical_accuracy: 0.8620 - val_loss: 0.3346 - val_categorical_accuracy: 0.8606A: 0s - loss: 0.3215 - categorical_accuracy\n",
      "Epoch 110/10000\n",
      "471/471 [==============================] - 8s 16ms/step - loss: 0.3205 - categorical_accuracy: 0.8603 - val_loss: 0.3325 - val_categorical_accuracy: 0.8615s - loss: 0.3200 - categorical_\n",
      "Epoch 111/10000\n",
      "471/471 [==============================] - 8s 16ms/step - loss: 0.3198 - categorical_accuracy: 0.8630 - val_loss: 0.3405 - val_categorical_accuracy: 0.8553\n",
      "Epoch 112/10000\n",
      "471/471 [==============================] - 8s 16ms/step - loss: 0.3194 - categorical_accuracy: 0.8618 - val_loss: 0.3343 - val_categorical_accuracy: 0.8599\n",
      "Epoch 113/10000\n",
      "471/471 [==============================] - 8s 16ms/step - loss: 0.3199 - categorical_accuracy: 0.8618 - val_loss: 0.3420 - val_categorical_accuracy: 0.8537 1s - loss: 0.3 - ETA: 0s - loss: 0.3\n",
      "Epoch 114/10000\n",
      "471/471 [==============================] - 8s 18ms/step - loss: 0.3201 - categorical_accuracy: 0.8631 - val_loss: 0.3325 - val_categorical_accuracy: 0.8628\n",
      "Epoch 115/10000\n",
      "471/471 [==============================] - 8s 17ms/step - loss: 0.3200 - categorical_accuracy: 0.8634 - val_loss: 0.3337 - val_categorical_accuracy: 0.8612\n",
      "Epoch 116/10000\n",
      "471/471 [==============================] - 8s 17ms/step - loss: 0.3196 - categorical_accuracy: 0.8646 - val_loss: 0.3358 - val_categorical_accuracy: 0.8579\n",
      "Epoch 117/10000\n",
      "471/471 [==============================] - 8s 18ms/step - loss: 0.3186 - categorical_accuracy: 0.8622 - val_loss: 0.3505 - val_categorical_accuracy: 0.8498s - loss: 0.3092 - categorical_accu - ETA: 4s - loss: 0.3127 - catego - ETA: 3s - loss: 0.3124 - ca - ETA: 3s - loss: 0.3149 - categorical_accuracy: 0.86 - ETA: 3s - loss: 0.3159 - catego - ETA: 2s - loss: 0.3169 - categorical_ac - ETA: 2s - loss: 0.3170 - categorical_accuracy: 0. - ETA: 1s - loss: 0.3170 - categori - ETA: 1s -\n",
      "Epoch 118/10000\n",
      "471/471 [==============================] - 9s 18ms/step - loss: 0.3183 - categorical_accuracy: 0.8632 - val_loss: 0.3337 - val_categorical_accuracy: 0.8599- loss: 0.3171 - categorical_accu\n",
      "Epoch 119/10000\n",
      "471/471 [==============================] - 8s 18ms/step - loss: 0.3197 - categorical_accuracy: 0.8634 - val_loss: 0.3393 - val_categorical_accuracy: 0.8560- ETA: 2s - loss: 0.3165 - categorical_accuracy: 0.86 - ETA: 2s - loss: 0.3161 - categorical_ - ETA: 1s - loss: 0.3163 - categorical_accura - E\n",
      "Epoch 120/10000\n",
      "471/471 [==============================] - 8s 17ms/step - loss: 0.3186 - categorical_accuracy: 0.8644 - val_loss: 0.3443 - val_categorical_accuracy: 0.8517\n",
      "Epoch 121/10000\n",
      "471/471 [==============================] - 8s 17ms/step - loss: 0.3191 - categorical_accuracy: 0.8634 - val_loss: 0.3348 - val_categorical_accuracy: 0.8589\n",
      "Epoch 122/10000\n",
      "471/471 [==============================] - 8s 17ms/step - loss: 0.3186 - categorical_accuracy: 0.8645 - val_loss: 0.3440 - val_categorical_accuracy: 0.8524\n",
      "Epoch 123/10000\n",
      "471/471 [==============================] - 8s 17ms/step - loss: 0.3174 - categorical_accuracy: 0.8645 - val_loss: 0.3407 - val_categorical_accuracy: 0.8540\n",
      "Epoch 124/10000\n",
      "471/471 [==============================] - 8s 17ms/step - loss: 0.3174 - categorical_accuracy: 0.8622 - val_loss: 0.3396 - val_categorical_accuracy: 0.8550\n",
      "Epoch 125/10000\n",
      "471/471 [==============================] - 8s 17ms/step - loss: 0.3166 - categorical_accuracy: 0.8663 - val_loss: 0.3391 - val_categorical_accuracy: 0.8563\n",
      "Epoch 126/10000\n",
      "471/471 [==============================] - 8s 17ms/step - loss: 0.3174 - categorical_accuracy: 0.8652 - val_loss: 0.3420 - val_categorical_accuracy: 0.8534 categorical_accu - ETA: 3s - loss: 0.3197 - categorical_accuracy: 0.86 - ETA: 3s - loss: 0.3210 - categorical_ - ETA: 3s - loss: 0.3203 - catego - ETA: 0s - loss: 0.3161 \n",
      "Epoch 127/10000\n",
      "471/471 [==============================] - 8s 17ms/step - loss: 0.3170 - categorical_accuracy: 0.8637 - val_loss: 0.3346 - val_categorical_accuracy: 0.8592\n",
      "Epoch 128/10000\n",
      "471/471 [==============================] - 8s 17ms/step - loss: 0.3174 - categorical_accuracy: 0.8632 - val_loss: 0.3423 - val_categorical_accuracy: 0.8517- loss: 0.3183 - categorical_accu\n",
      "Epoch 129/10000\n",
      "471/471 [==============================] - 8s 17ms/step - loss: 0.3174 - categorical_accuracy: 0.8626 - val_loss: 0.3336 - val_categorical_accuracy: 0.8596\n",
      "Epoch 130/10000\n",
      "471/471 [==============================] - 8s 17ms/step - loss: 0.3160 - categorical_accuracy: 0.8663 - val_loss: 0.3318 - val_categorical_accuracy: 0.8628\n",
      "Epoch 131/10000\n",
      "471/471 [==============================] - 8s 17ms/step - loss: 0.3159 - categorical_accuracy: 0.8648 - val_loss: 0.3397 - val_categorical_accuracy: 0.8560\n",
      "Epoch 132/10000\n",
      "471/471 [==============================] - 8s 17ms/step - loss: 0.3158 - categorical_accuracy: 0.8634 - val_loss: 0.3406 - val_categorical_accuracy: 0.8540\n",
      "Epoch 133/10000\n"
     ]
    },
    {
     "name": "stdout",
     "output_type": "stream",
     "text": [
      "471/471 [==============================] - 9s 18ms/step - loss: 0.3167 - categorical_accuracy: 0.8636 - val_loss: 0.3431 - val_categorical_accuracy: 0.8524- ETA: 0s - loss: 0.3174 - cate\n",
      "Epoch 134/10000\n",
      "471/471 [==============================] - 8s 17ms/step - loss: 0.3157 - categorical_accuracy: 0.8653 - val_loss: 0.3399 - val_categorical_accuracy: 0.8566\n",
      "Epoch 135/10000\n",
      "471/471 [==============================] - 8s 16ms/step - loss: 0.3161 - categorical_accuracy: 0.8634 - val_loss: 0.3391 - val_categorical_accuracy: 0.8556 - categorical_ - ETA: 0s - loss: 0.3157 - categori\n",
      "Epoch 136/10000\n",
      "471/471 [==============================] - 8s 17ms/step - loss: 0.3151 - categorical_accuracy: 0.8652 - val_loss: 0.3354 - val_categorical_accuracy: 0.8606\n",
      "Epoch 137/10000\n",
      "471/471 [==============================] - 8s 16ms/step - loss: 0.3159 - categorical_accuracy: 0.8650 - val_loss: 0.3494 - val_categorical_accuracy: 0.84983165 - categorica\n",
      "Epoch 138/10000\n",
      "471/471 [==============================] - 8s 17ms/step - loss: 0.3149 - categorical_accuracy: 0.8661 - val_loss: 0.3310 - val_categorical_accuracy: 0.8599\n",
      "Epoch 139/10000\n",
      "471/471 [==============================] - 8s 16ms/step - loss: 0.3137 - categorical_accuracy: 0.8648 - val_loss: 0.3361 - val_categorical_accuracy: 0.8583\n",
      "Epoch 140/10000\n",
      "471/471 [==============================] - 8s 16ms/step - loss: 0.3136 - categorical_accuracy: 0.8637 - val_loss: 0.3413 - val_categorical_accuracy: 0.8514- loss: 0.3111 - categori - ETA: 0s - loss: 0.3124 - categorical_accuracy: 0. - ETA: 0s - loss: 0.3125 - ca\n",
      "Epoch 141/10000\n",
      "471/471 [==============================] - 8s 17ms/step - loss: 0.3141 - categorical_accuracy: 0.8663 - val_loss: 0.3483 - val_categorical_accuracy: 0.8507\n",
      "Epoch 142/10000\n",
      "471/471 [==============================] - 8s 17ms/step - loss: 0.3134 - categorical_accuracy: 0.8640 - val_loss: 0.3383 - val_categorical_accuracy: 0.8570\n",
      "Epoch 143/10000\n",
      "471/471 [==============================] - 8s 17ms/step - loss: 0.3133 - categorical_accuracy: 0.8665 - val_loss: 0.3358 - val_categorical_accuracy: 0.8592\n",
      "Epoch 144/10000\n",
      "471/471 [==============================] - 8s 17ms/step - loss: 0.3125 - categorical_accuracy: 0.8647 - val_loss: 0.3339 - val_categorical_accuracy: 0.8596\n",
      "stop  20:39:27\n",
      "Took =  0:18:57.805716\n"
     ]
    }
   ],
   "source": [
    "history_drop = FitModel(model_drop)"
   ]
  },
  {
   "cell_type": "code",
   "execution_count": 58,
   "metadata": {},
   "outputs": [
    {
     "data": {
      "image/png": "[encoded data removed]",
      "text/plain": [
       "<Figure size 720x360 with 2 Axes>"
      ]
     },
     "metadata": {
      "needs_background": "light"
     },
     "output_type": "display_data"
    }
   ],
   "source": [
    "PlotModelFitHistory(history_drop)"
   ]
  },
  {
   "cell_type": "code",
   "execution_count": 59,
   "metadata": {},
   "outputs": [],
   "source": [
    "(test_y, pred_y) = PredictModel(model_drop)"
   ]
  },
  {
   "cell_type": "code",
   "execution_count": 60,
   "metadata": {},
   "outputs": [
    {
     "name": "stdout",
     "output_type": "stream",
     "text": [
      "Accuracy score:  0.8750577100646353\n",
      "F1 score:  0.8552891690167195\n",
      "              precision    recall  f1-score   support\n",
      "\n",
      "           0       0.86      0.96      0.91     44993\n",
      "           1       0.90      0.72      0.80     24319\n",
      "\n",
      "    accuracy                           0.88     69312\n",
      "   macro avg       0.88      0.84      0.86     69312\n",
      "weighted avg       0.88      0.88      0.87     69312\n",
      "\n"
     ]
    }
   ],
   "source": [
    "ShowStats(test_y, pred_y)"
   ]
  },
  {
   "cell_type": "code",
   "execution_count": 61,
   "metadata": {},
   "outputs": [
    {
     "data": {
      "image/png": "[encoded data removed]",
      "text/plain": [
       "<Figure size 432x288 with 2 Axes>"
      ]
     },
     "metadata": {
      "needs_background": "light"
     },
     "output_type": "display_data"
    }
   ],
   "source": [
    "PlotConfusionMatrix(test_y, pred_y)"
   ]
  },
  {
   "cell_type": "markdown",
   "metadata": {},
   "source": [
    "## Observation\n",
    "* Dropout also improves but test data looks to be better than training\n",
    "* This may be result of the data but there also looks to be some overfitting\n",
    "* This doesn't appear to improve on model 2"
   ]
  },
  {
   "cell_type": "markdown",
   "metadata": {},
   "source": [
    "## 4. Baseline Plus VGG\n",
    "Using an initial set of convolution layers may improve input to the MLP layers\n",
    "Use standard VGG architecture to check if this provides better results"
   ]
  },
  {
   "cell_type": "code",
   "execution_count": 62,
   "metadata": {
    "scrolled": true
   },
   "outputs": [],
   "source": [
    "model_VGG_1 = tf.keras.Sequential([\n",
    "    #VGG block 1\n",
    "    tf.keras.layers.Conv2D(32, (3, 3), activation='relu', padding='same', input_shape=INPUT_DIM),\n",
    "    tf.keras.layers.Conv2D(32, (3, 3), activation='relu', padding='same'),\n",
    "    tf.keras.layers.MaxPooling2D((2, 2)),\n",
    "    \n",
    "    #VGG block 2\n",
    "    tf.keras.layers.Conv2D(64, (3, 3), activation='relu', padding='same'),\n",
    "    tf.keras.layers.Conv2D(64, (3, 3), activation='relu', padding='same'),\n",
    "    tf.keras.layers.MaxPooling2D((2, 2)),\n",
    "    \n",
    "    #VGG block 3\n",
    "    tf.keras.layers.Conv2D(128, (3, 3), activation='relu', padding='same'),\n",
    "    tf.keras.layers.Conv2D(128, (3, 3), activation='relu', padding='same'),\n",
    "    tf.keras.layers.MaxPooling2D((2, 2)),\n",
    "    \n",
    "    tf.keras.layers.Flatten(),\n",
    "    \n",
    "    tf.keras.layers.Dense(256, activation='relu'),\n",
    "    tf.keras.layers.Dropout(.2),\n",
    "    tf.keras.layers.Dense(OUTPUT_CLASSES, activation='sigmoid' )\n",
    "])"
   ]
  },
  {
   "cell_type": "code",
   "execution_count": 63,
   "metadata": {},
   "outputs": [],
   "source": [
    "CompileModel(model_VGG_1)"
   ]
  },
  {
   "cell_type": "code",
   "execution_count": 64,
   "metadata": {},
   "outputs": [
    {
     "name": "stdout",
     "output_type": "stream",
     "text": [
      "start  20:41:01\n",
      "Epoch 1/10000\n",
      "471/471 [==============================] - 35s 73ms/step - loss: 0.6297 - categorical_accuracy: 0.6642 - val_loss: 0.6685 - val_categorical_accuracy: 0.5902\n",
      "Epoch 2/10000\n",
      "471/471 [==============================] - 34s 72ms/step - loss: 0.6144 - categorical_accuracy: 0.6642 - val_loss: 0.6462 - val_categorical_accuracy: 0.5902\n",
      "Epoch 3/10000\n",
      "471/471 [==============================] - 33s 71ms/step - loss: 0.5769 - categorical_accuracy: 0.6686 - val_loss: 0.5643 - val_categorical_accuracy: 0.6255\n",
      "Epoch 4/10000\n",
      "471/471 [==============================] - 33s 71ms/step - loss: 0.4867 - categorical_accuracy: 0.7675 - val_loss: 0.4421 - val_categorical_accuracy: 0.7797\n",
      "Epoch 5/10000\n",
      "471/471 [==============================] - 34s 71ms/step - loss: 0.4362 - categorical_accuracy: 0.7951 - val_loss: 0.3872 - val_categorical_accuracy: 0.8196\n",
      "Epoch 6/10000\n",
      "471/471 [==============================] - 33s 71ms/step - loss: 0.4096 - categorical_accuracy: 0.8100 - val_loss: 0.3655 - val_categorical_accuracy: 0.8501\n",
      "Epoch 7/10000\n",
      "471/471 [==============================] - 33s 71ms/step - loss: 0.3926 - categorical_accuracy: 0.8223 - val_loss: 0.3521 - val_categorical_accuracy: 0.8530\n",
      "Epoch 8/10000\n",
      "471/471 [==============================] - 33s 71ms/step - loss: 0.3795 - categorical_accuracy: 0.8255 - val_loss: 0.3454 - val_categorical_accuracy: 0.8560\n",
      "Epoch 9/10000\n",
      "471/471 [==============================] - 34s 71ms/step - loss: 0.3691 - categorical_accuracy: 0.8336 - val_loss: 0.3402 - val_categorical_accuracy: 0.8583\n",
      "Epoch 10/10000\n",
      "471/471 [==============================] - 34s 71ms/step - loss: 0.3571 - categorical_accuracy: 0.8426 - val_loss: 0.3389 - val_categorical_accuracy: 0.8550\n",
      "Epoch 11/10000\n",
      "471/471 [==============================] - 34s 73ms/step - loss: 0.3525 - categorical_accuracy: 0.8452 - val_loss: 0.3334 - val_categorical_accuracy: 0.8589\n",
      "Epoch 12/10000\n",
      "471/471 [==============================] - 33s 70ms/step - loss: 0.3457 - categorical_accuracy: 0.8475 - val_loss: 0.3715 - val_categorical_accuracy: 0.8429\n",
      "Epoch 13/10000\n",
      "471/471 [==============================] - 33s 70ms/step - loss: 0.3427 - categorical_accuracy: 0.8506 - val_loss: 0.3287 - val_categorical_accuracy: 0.8619\n",
      "Epoch 14/10000\n",
      "471/471 [==============================] - 33s 71ms/step - loss: 0.3377 - categorical_accuracy: 0.8566 - val_loss: 0.3380 - val_categorical_accuracy: 0.8579\n",
      "Epoch 15/10000\n",
      "471/471 [==============================] - 33s 70ms/step - loss: 0.3351 - categorical_accuracy: 0.8552 - val_loss: 0.3257 - val_categorical_accuracy: 0.8615\n",
      "Epoch 16/10000\n",
      "471/471 [==============================] - 33s 71ms/step - loss: 0.3325 - categorical_accuracy: 0.8571 - val_loss: 0.3293 - val_categorical_accuracy: 0.8632\n",
      "Epoch 17/10000\n",
      "471/471 [==============================] - 33s 70ms/step - loss: 0.3282 - categorical_accuracy: 0.8593 - val_loss: 0.3515 - val_categorical_accuracy: 0.8537\n",
      "Epoch 18/10000\n",
      "471/471 [==============================] - 33s 71ms/step - loss: 0.3266 - categorical_accuracy: 0.8602 - val_loss: 0.3295 - val_categorical_accuracy: 0.8615\n",
      "Epoch 19/10000\n",
      "471/471 [==============================] - 35s 75ms/step - loss: 0.3241 - categorical_accuracy: 0.8598 - val_loss: 0.3432 - val_categorical_accuracy: 0.8602\n",
      "Epoch 20/10000\n",
      "471/471 [==============================] - 34s 72ms/step - loss: 0.3240 - categorical_accuracy: 0.8597 - val_loss: 0.3285 - val_categorical_accuracy: 0.8615\n",
      "Epoch 21/10000\n",
      "471/471 [==============================] - 34s 72ms/step - loss: 0.3206 - categorical_accuracy: 0.8620 - val_loss: 0.3226 - val_categorical_accuracy: 0.8632\n",
      "Epoch 22/10000\n",
      "471/471 [==============================] - 34s 72ms/step - loss: 0.3204 - categorical_accuracy: 0.8629 - val_loss: 0.3328 - val_categorical_accuracy: 0.8635\n",
      "Epoch 23/10000\n",
      "471/471 [==============================] - 34s 72ms/step - loss: 0.3171 - categorical_accuracy: 0.8646 - val_loss: 0.3294 - val_categorical_accuracy: 0.8625\n",
      "Epoch 24/10000\n",
      "471/471 [==============================] - 34s 72ms/step - loss: 0.3175 - categorical_accuracy: 0.8648 - val_loss: 0.3198 - val_categorical_accuracy: 0.8668\n",
      "Epoch 25/10000\n",
      "471/471 [==============================] - 34s 72ms/step - loss: 0.3157 - categorical_accuracy: 0.8649 - val_loss: 0.3237 - val_categorical_accuracy: 0.8648\n",
      "Epoch 26/10000\n",
      "471/471 [==============================] - 34s 72ms/step - loss: 0.3137 - categorical_accuracy: 0.8668 - val_loss: 0.3261 - val_categorical_accuracy: 0.8648\n",
      "Epoch 27/10000\n",
      "471/471 [==============================] - 34s 72ms/step - loss: 0.3141 - categorical_accuracy: 0.8684 - val_loss: 0.3211 - val_categorical_accuracy: 0.8668\n",
      "Epoch 28/10000\n",
      "471/471 [==============================] - 34s 72ms/step - loss: 0.3137 - categorical_accuracy: 0.8653 - val_loss: 0.3245 - val_categorical_accuracy: 0.8655\n",
      "Epoch 29/10000\n",
      "471/471 [==============================] - 34s 71ms/step - loss: 0.3130 - categorical_accuracy: 0.8674 - val_loss: 0.3384 - val_categorical_accuracy: 0.8619\n",
      "Epoch 30/10000\n",
      "471/471 [==============================] - 35s 73ms/step - loss: 0.3099 - categorical_accuracy: 0.8682 - val_loss: 0.3176 - val_categorical_accuracy: 0.8684\n",
      "Epoch 31/10000\n",
      "471/471 [==============================] - 35s 74ms/step - loss: 0.3098 - categorical_accuracy: 0.8695 - val_loss: 0.3276 - val_categorical_accuracy: 0.8655\n",
      "Epoch 32/10000\n",
      "471/471 [==============================] - 34s 72ms/step - loss: 0.3084 - categorical_accuracy: 0.8699 - val_loss: 0.3314 - val_categorical_accuracy: 0.8661\n",
      "Epoch 33/10000\n",
      "471/471 [==============================] - 34s 72ms/step - loss: 0.3064 - categorical_accuracy: 0.8696 - val_loss: 0.3275 - val_categorical_accuracy: 0.8648\n",
      "Epoch 34/10000\n",
      "471/471 [==============================] - 35s 73ms/step - loss: 0.3053 - categorical_accuracy: 0.8711 - val_loss: 0.3318 - val_categorical_accuracy: 0.8661\n",
      "Epoch 35/10000\n",
      "471/471 [==============================] - 34s 72ms/step - loss: 0.3046 - categorical_accuracy: 0.8711 - val_loss: 0.3253 - val_categorical_accuracy: 0.8664\n",
      "Epoch 36/10000\n",
      "471/471 [==============================] - 34s 72ms/step - loss: 0.3055 - categorical_accuracy: 0.8697 - val_loss: 0.3175 - val_categorical_accuracy: 0.8687\n",
      "Epoch 37/10000\n",
      "471/471 [==============================] - 34s 71ms/step - loss: 0.3037 - categorical_accuracy: 0.8727 - val_loss: 0.3185 - val_categorical_accuracy: 0.8674\n",
      "Epoch 38/10000\n",
      "471/471 [==============================] - 34s 72ms/step - loss: 0.3015 - categorical_accuracy: 0.8717 - val_loss: 0.3327 - val_categorical_accuracy: 0.8671\n",
      "Epoch 39/10000\n",
      "471/471 [==============================] - 34s 72ms/step - loss: 0.3017 - categorical_accuracy: 0.8727 - val_loss: 0.3167 - val_categorical_accuracy: 0.8700\n",
      "Epoch 40/10000\n",
      "471/471 [==============================] - 35s 73ms/step - loss: 0.3001 - categorical_accuracy: 0.8737 - val_loss: 0.3257 - val_categorical_accuracy: 0.8664\n",
      "Epoch 41/10000\n",
      "471/471 [==============================] - 33s 70ms/step - loss: 0.2998 - categorical_accuracy: 0.8728 - val_loss: 0.3357 - val_categorical_accuracy: 0.8651\n",
      "Epoch 42/10000\n",
      "471/471 [==============================] - 34s 71ms/step - loss: 0.3001 - categorical_accuracy: 0.8737 - val_loss: 0.3206 - val_categorical_accuracy: 0.8674\n",
      "Epoch 43/10000\n",
      "471/471 [==============================] - 33s 70ms/step - loss: 0.2981 - categorical_accuracy: 0.8737 - val_loss: 0.3167 - val_categorical_accuracy: 0.8681\n",
      "Epoch 44/10000\n",
      "471/471 [==============================] - 33s 70ms/step - loss: 0.2968 - categorical_accuracy: 0.8750 - val_loss: 0.3417 - val_categorical_accuracy: 0.8619\n",
      "Epoch 45/10000\n",
      "471/471 [==============================] - 33s 71ms/step - loss: 0.2976 - categorical_accuracy: 0.8753 - val_loss: 0.3132 - val_categorical_accuracy: 0.8714\n",
      "Epoch 46/10000\n",
      "471/471 [==============================] - 33s 70ms/step - loss: 0.2954 - categorical_accuracy: 0.8745 - val_loss: 0.3145 - val_categorical_accuracy: 0.8707\n",
      "Epoch 47/10000\n",
      "471/471 [==============================] - 33s 71ms/step - loss: 0.2960 - categorical_accuracy: 0.8764 - val_loss: 0.3368 - val_categorical_accuracy: 0.8638\n",
      "Epoch 48/10000\n"
     ]
    },
    {
     "name": "stdout",
     "output_type": "stream",
     "text": [
      "471/471 [==============================] - 33s 69ms/step - loss: 0.2937 - categorical_accuracy: 0.8752 - val_loss: 0.3175 - val_categorical_accuracy: 0.8714\n",
      "Epoch 49/10000\n",
      "471/471 [==============================] - 33s 70ms/step - loss: 0.2922 - categorical_accuracy: 0.8778 - val_loss: 0.3146 - val_categorical_accuracy: 0.8723\n",
      "Epoch 50/10000\n",
      "471/471 [==============================] - 33s 70ms/step - loss: 0.2927 - categorical_accuracy: 0.8762 - val_loss: 0.3130 - val_categorical_accuracy: 0.8723\n",
      "Epoch 51/10000\n",
      "471/471 [==============================] - 33s 70ms/step - loss: 0.2911 - categorical_accuracy: 0.8755 - val_loss: 0.3211 - val_categorical_accuracy: 0.8678\n",
      "Epoch 52/10000\n",
      "471/471 [==============================] - 33s 69ms/step - loss: 0.2909 - categorical_accuracy: 0.8764 - val_loss: 0.3130 - val_categorical_accuracy: 0.8710\n",
      "Epoch 53/10000\n",
      "471/471 [==============================] - 33s 70ms/step - loss: 0.2901 - categorical_accuracy: 0.8788 - val_loss: 0.3151 - val_categorical_accuracy: 0.8687\n",
      "Epoch 54/10000\n",
      "471/471 [==============================] - 33s 70ms/step - loss: 0.2887 - categorical_accuracy: 0.8780 - val_loss: 0.3171 - val_categorical_accuracy: 0.8707\n",
      "Epoch 55/10000\n",
      "471/471 [==============================] - 33s 70ms/step - loss: 0.2887 - categorical_accuracy: 0.8789 - val_loss: 0.3125 - val_categorical_accuracy: 0.8704\n",
      "Epoch 56/10000\n",
      "471/471 [==============================] - 34s 72ms/step - loss: 0.2878 - categorical_accuracy: 0.8789 - val_loss: 0.3127 - val_categorical_accuracy: 0.8707\n",
      "Epoch 57/10000\n",
      "471/471 [==============================] - 35s 74ms/step - loss: 0.2875 - categorical_accuracy: 0.8777 - val_loss: 0.3213 - val_categorical_accuracy: 0.8704\n",
      "Epoch 58/10000\n",
      "471/471 [==============================] - 34s 72ms/step - loss: 0.2867 - categorical_accuracy: 0.8794 - val_loss: 0.3100 - val_categorical_accuracy: 0.8723\n",
      "Epoch 59/10000\n",
      "471/471 [==============================] - 33s 71ms/step - loss: 0.2866 - categorical_accuracy: 0.8798 - val_loss: 0.3109 - val_categorical_accuracy: 0.8717\n",
      "Epoch 60/10000\n",
      "471/471 [==============================] - 34s 71ms/step - loss: 0.2845 - categorical_accuracy: 0.8799 - val_loss: 0.3130 - val_categorical_accuracy: 0.8714\n",
      "Epoch 61/10000\n",
      "471/471 [==============================] - 34s 71ms/step - loss: 0.2847 - categorical_accuracy: 0.8801 - val_loss: 0.3126 - val_categorical_accuracy: 0.8717\n",
      "Epoch 62/10000\n",
      "471/471 [==============================] - 34s 72ms/step - loss: 0.2845 - categorical_accuracy: 0.8796 - val_loss: 0.3098 - val_categorical_accuracy: 0.8727\n",
      "Epoch 63/10000\n",
      "471/471 [==============================] - 34s 72ms/step - loss: 0.2827 - categorical_accuracy: 0.8809 - val_loss: 0.3101 - val_categorical_accuracy: 0.8727\n",
      "Epoch 64/10000\n",
      "471/471 [==============================] - 34s 72ms/step - loss: 0.2824 - categorical_accuracy: 0.8792 - val_loss: 0.3148 - val_categorical_accuracy: 0.8704\n",
      "Epoch 65/10000\n",
      "471/471 [==============================] - 34s 72ms/step - loss: 0.2810 - categorical_accuracy: 0.8788 - val_loss: 0.3324 - val_categorical_accuracy: 0.8664\n",
      "Epoch 66/10000\n",
      "471/471 [==============================] - 34s 72ms/step - loss: 0.2800 - categorical_accuracy: 0.8826 - val_loss: 0.3129 - val_categorical_accuracy: 0.8736\n",
      "Epoch 67/10000\n",
      "471/471 [==============================] - 34s 72ms/step - loss: 0.2798 - categorical_accuracy: 0.8828 - val_loss: 0.3173 - val_categorical_accuracy: 0.8720\n",
      "Epoch 68/10000\n",
      "471/471 [==============================] - 33s 70ms/step - loss: 0.2783 - categorical_accuracy: 0.8826 - val_loss: 0.3109 - val_categorical_accuracy: 0.8730\n",
      "Epoch 69/10000\n",
      "471/471 [==============================] - 33s 71ms/step - loss: 0.2790 - categorical_accuracy: 0.8823 - val_loss: 0.3080 - val_categorical_accuracy: 0.8746\n",
      "Epoch 70/10000\n",
      "471/471 [==============================] - 33s 70ms/step - loss: 0.2787 - categorical_accuracy: 0.8824 - val_loss: 0.3106 - val_categorical_accuracy: 0.8720\n",
      "Epoch 71/10000\n",
      "471/471 [==============================] - 33s 70ms/step - loss: 0.2767 - categorical_accuracy: 0.8858 - val_loss: 0.3245 - val_categorical_accuracy: 0.8700\n",
      "Epoch 72/10000\n",
      "471/471 [==============================] - 33s 70ms/step - loss: 0.2769 - categorical_accuracy: 0.8822 - val_loss: 0.3072 - val_categorical_accuracy: 0.8756\n",
      "Epoch 73/10000\n",
      "471/471 [==============================] - 33s 71ms/step - loss: 0.2761 - categorical_accuracy: 0.8841 - val_loss: 0.3094 - val_categorical_accuracy: 0.8720\n",
      "Epoch 74/10000\n",
      "471/471 [==============================] - 35s 74ms/step - loss: 0.2751 - categorical_accuracy: 0.8840 - val_loss: 0.3079 - val_categorical_accuracy: 0.8750\n",
      "Epoch 75/10000\n",
      "471/471 [==============================] - 34s 72ms/step - loss: 0.2737 - categorical_accuracy: 0.8838 - val_loss: 0.3108 - val_categorical_accuracy: 0.8753\n",
      "Epoch 76/10000\n",
      "471/471 [==============================] - 35s 73ms/step - loss: 0.2737 - categorical_accuracy: 0.8856 - val_loss: 0.3083 - val_categorical_accuracy: 0.8756\n",
      "Epoch 77/10000\n",
      "471/471 [==============================] - 36s 76ms/step - loss: 0.2727 - categorical_accuracy: 0.8851 - val_loss: 0.3191 - val_categorical_accuracy: 0.8730\n",
      "Epoch 78/10000\n",
      "471/471 [==============================] - 34s 72ms/step - loss: 0.2739 - categorical_accuracy: 0.8851 - val_loss: 0.3092 - val_categorical_accuracy: 0.8750\n",
      "Epoch 79/10000\n",
      "471/471 [==============================] - 34s 72ms/step - loss: 0.2736 - categorical_accuracy: 0.8867 - val_loss: 0.3072 - val_categorical_accuracy: 0.8750\n",
      "Epoch 80/10000\n",
      "471/471 [==============================] - 34s 72ms/step - loss: 0.2714 - categorical_accuracy: 0.8845 - val_loss: 0.3063 - val_categorical_accuracy: 0.8750\n",
      "Epoch 81/10000\n",
      "471/471 [==============================] - 34s 73ms/step - loss: 0.2708 - categorical_accuracy: 0.8869 - val_loss: 0.3075 - val_categorical_accuracy: 0.8769\n",
      "Epoch 82/10000\n",
      "471/471 [==============================] - 34s 73ms/step - loss: 0.2723 - categorical_accuracy: 0.8863 - val_loss: 0.3130 - val_categorical_accuracy: 0.8733\n",
      "Epoch 83/10000\n",
      "471/471 [==============================] - 35s 73ms/step - loss: 0.2699 - categorical_accuracy: 0.8876 - val_loss: 0.3078 - val_categorical_accuracy: 0.8756\n",
      "Epoch 84/10000\n",
      "471/471 [==============================] - 34s 73ms/step - loss: 0.2689 - categorical_accuracy: 0.8890 - val_loss: 0.3122 - val_categorical_accuracy: 0.8746\n",
      "Epoch 85/10000\n",
      "471/471 [==============================] - 34s 72ms/step - loss: 0.2692 - categorical_accuracy: 0.8872 - val_loss: 0.3140 - val_categorical_accuracy: 0.8730\n",
      "Epoch 86/10000\n",
      "471/471 [==============================] - 33s 70ms/step - loss: 0.2697 - categorical_accuracy: 0.8869 - val_loss: 0.3100 - val_categorical_accuracy: 0.8759\n",
      "Epoch 87/10000\n",
      "471/471 [==============================] - 33s 71ms/step - loss: 0.2677 - categorical_accuracy: 0.8875 - val_loss: 0.3055 - val_categorical_accuracy: 0.8753\n",
      "Epoch 88/10000\n",
      "471/471 [==============================] - 33s 71ms/step - loss: 0.2678 - categorical_accuracy: 0.8876 - val_loss: 0.3069 - val_categorical_accuracy: 0.8707\n",
      "Epoch 89/10000\n",
      "471/471 [==============================] - 33s 70ms/step - loss: 0.2665 - categorical_accuracy: 0.8890 - val_loss: 0.3067 - val_categorical_accuracy: 0.8753\n",
      "Epoch 90/10000\n",
      "471/471 [==============================] - 33s 71ms/step - loss: 0.2657 - categorical_accuracy: 0.8909 - val_loss: 0.3064 - val_categorical_accuracy: 0.8773\n",
      "Epoch 91/10000\n",
      "471/471 [==============================] - 35s 74ms/step - loss: 0.2650 - categorical_accuracy: 0.8873 - val_loss: 0.3083 - val_categorical_accuracy: 0.8766\n",
      "Epoch 92/10000\n",
      "471/471 [==============================] - 34s 72ms/step - loss: 0.2654 - categorical_accuracy: 0.8889 - val_loss: 0.3084 - val_categorical_accuracy: 0.8756\n",
      "Epoch 93/10000\n",
      "471/471 [==============================] - 34s 72ms/step - loss: 0.2654 - categorical_accuracy: 0.8869 - val_loss: 0.3146 - val_categorical_accuracy: 0.8746\n",
      "Epoch 94/10000\n",
      "471/471 [==============================] - 34s 72ms/step - loss: 0.2622 - categorical_accuracy: 0.8901 - val_loss: 0.3110 - val_categorical_accuracy: 0.8763\n",
      "Epoch 95/10000\n",
      "471/471 [==============================] - 34s 73ms/step - loss: 0.2631 - categorical_accuracy: 0.8905 - val_loss: 0.3188 - val_categorical_accuracy: 0.8756\n"
     ]
    },
    {
     "name": "stdout",
     "output_type": "stream",
     "text": [
      "Epoch 96/10000\n",
      "471/471 [==============================] - 34s 72ms/step - loss: 0.2634 - categorical_accuracy: 0.8899 - val_loss: 0.3087 - val_categorical_accuracy: 0.8766\n",
      "Epoch 97/10000\n",
      "471/471 [==============================] - 34s 72ms/step - loss: 0.2629 - categorical_accuracy: 0.8914 - val_loss: 0.3039 - val_categorical_accuracy: 0.8769\n",
      "Epoch 98/10000\n",
      "471/471 [==============================] - 34s 72ms/step - loss: 0.2607 - categorical_accuracy: 0.8916 - val_loss: 0.3062 - val_categorical_accuracy: 0.8756\n",
      "Epoch 99/10000\n",
      "471/471 [==============================] - 34s 71ms/step - loss: 0.2621 - categorical_accuracy: 0.8909 - val_loss: 0.3039 - val_categorical_accuracy: 0.8805\n",
      "Epoch 100/10000\n",
      "471/471 [==============================] - 34s 72ms/step - loss: 0.2605 - categorical_accuracy: 0.8918 - val_loss: 0.3053 - val_categorical_accuracy: 0.8792\n",
      "Epoch 101/10000\n",
      "471/471 [==============================] - 34s 73ms/step - loss: 0.2591 - categorical_accuracy: 0.8916 - val_loss: 0.3076 - val_categorical_accuracy: 0.8727\n",
      "Epoch 102/10000\n",
      "471/471 [==============================] - 35s 73ms/step - loss: 0.2597 - categorical_accuracy: 0.8919 - val_loss: 0.3362 - val_categorical_accuracy: 0.8684\n",
      "Epoch 103/10000\n",
      "471/471 [==============================] - 34s 72ms/step - loss: 0.2589 - categorical_accuracy: 0.8919 - val_loss: 0.3058 - val_categorical_accuracy: 0.8769\n",
      "Epoch 104/10000\n",
      "471/471 [==============================] - 33s 70ms/step - loss: 0.2576 - categorical_accuracy: 0.8938 - val_loss: 0.3035 - val_categorical_accuracy: 0.8792\n",
      "Epoch 105/10000\n",
      "471/471 [==============================] - 33s 70ms/step - loss: 0.2594 - categorical_accuracy: 0.8921 - val_loss: 0.3038 - val_categorical_accuracy: 0.8756\n",
      "Epoch 106/10000\n",
      "471/471 [==============================] - 33s 70ms/step - loss: 0.2569 - categorical_accuracy: 0.8926 - val_loss: 0.3055 - val_categorical_accuracy: 0.8786\n",
      "Epoch 107/10000\n",
      "471/471 [==============================] - 33s 70ms/step - loss: 0.2561 - categorical_accuracy: 0.8936 - val_loss: 0.3048 - val_categorical_accuracy: 0.8776\n",
      "Epoch 108/10000\n",
      "471/471 [==============================] - 33s 70ms/step - loss: 0.2551 - categorical_accuracy: 0.8950 - val_loss: 0.3143 - val_categorical_accuracy: 0.8769\n",
      "Epoch 109/10000\n",
      "471/471 [==============================] - 33s 71ms/step - loss: 0.2560 - categorical_accuracy: 0.8955 - val_loss: 0.3019 - val_categorical_accuracy: 0.8812\n",
      "Epoch 110/10000\n",
      "471/471 [==============================] - 33s 70ms/step - loss: 0.2557 - categorical_accuracy: 0.8946 - val_loss: 0.3104 - val_categorical_accuracy: 0.8773\n",
      "Epoch 111/10000\n",
      "471/471 [==============================] - 33s 70ms/step - loss: 0.2560 - categorical_accuracy: 0.8938 - val_loss: 0.3024 - val_categorical_accuracy: 0.8802\n",
      "Epoch 112/10000\n",
      "471/471 [==============================] - 33s 70ms/step - loss: 0.2556 - categorical_accuracy: 0.8950 - val_loss: 0.3042 - val_categorical_accuracy: 0.8802\n",
      "Epoch 113/10000\n",
      "471/471 [==============================] - 33s 70ms/step - loss: 0.2552 - categorical_accuracy: 0.8948 - val_loss: 0.3221 - val_categorical_accuracy: 0.8746\n",
      "Epoch 114/10000\n",
      "471/471 [==============================] - 33s 71ms/step - loss: 0.2554 - categorical_accuracy: 0.8933 - val_loss: 0.3006 - val_categorical_accuracy: 0.8805\n",
      "Epoch 115/10000\n",
      "471/471 [==============================] - 33s 70ms/step - loss: 0.2539 - categorical_accuracy: 0.8960 - val_loss: 0.3093 - val_categorical_accuracy: 0.8763\n",
      "Epoch 116/10000\n",
      "471/471 [==============================] - 33s 70ms/step - loss: 0.2530 - categorical_accuracy: 0.8936 - val_loss: 0.3028 - val_categorical_accuracy: 0.8799\n",
      "Epoch 117/10000\n",
      "471/471 [==============================] - 33s 70ms/step - loss: 0.2531 - categorical_accuracy: 0.8941 - val_loss: 0.3046 - val_categorical_accuracy: 0.8789\n",
      "Epoch 118/10000\n",
      "471/471 [==============================] - 33s 70ms/step - loss: 0.2525 - categorical_accuracy: 0.8954 - val_loss: 0.3047 - val_categorical_accuracy: 0.8789\n",
      "Epoch 119/10000\n",
      "471/471 [==============================] - 33s 70ms/step - loss: 0.2510 - categorical_accuracy: 0.8958 - val_loss: 0.3024 - val_categorical_accuracy: 0.8805\n",
      "Epoch 120/10000\n",
      "471/471 [==============================] - 33s 70ms/step - loss: 0.2507 - categorical_accuracy: 0.8970 - val_loss: 0.3030 - val_categorical_accuracy: 0.8812\n",
      "Epoch 121/10000\n",
      "471/471 [==============================] - 34s 72ms/step - loss: 0.2512 - categorical_accuracy: 0.8960 - val_loss: 0.3022 - val_categorical_accuracy: 0.8795\n",
      "Epoch 122/10000\n",
      "471/471 [==============================] - 33s 70ms/step - loss: 0.2508 - categorical_accuracy: 0.8957 - val_loss: 0.3045 - val_categorical_accuracy: 0.8802\n",
      "Epoch 123/10000\n",
      "471/471 [==============================] - 35s 73ms/step - loss: 0.2503 - categorical_accuracy: 0.8963 - val_loss: 0.3012 - val_categorical_accuracy: 0.8789\n",
      "Epoch 124/10000\n",
      "471/471 [==============================] - 35s 74ms/step - loss: 0.2504 - categorical_accuracy: 0.8980 - val_loss: 0.3009 - val_categorical_accuracy: 0.8792\n",
      "Epoch 125/10000\n",
      "471/471 [==============================] - 34s 72ms/step - loss: 0.2496 - categorical_accuracy: 0.8951 - val_loss: 0.3114 - val_categorical_accuracy: 0.8773\n",
      "Epoch 126/10000\n",
      "471/471 [==============================] - 34s 72ms/step - loss: 0.2488 - categorical_accuracy: 0.8975 - val_loss: 0.3049 - val_categorical_accuracy: 0.8805\n",
      "Epoch 127/10000\n",
      "471/471 [==============================] - 34s 73ms/step - loss: 0.2492 - categorical_accuracy: 0.8993 - val_loss: 0.3217 - val_categorical_accuracy: 0.8736\n",
      "Epoch 128/10000\n",
      "471/471 [==============================] - 34s 72ms/step - loss: 0.2478 - categorical_accuracy: 0.8972 - val_loss: 0.3036 - val_categorical_accuracy: 0.8815\n",
      "Epoch 129/10000\n",
      "471/471 [==============================] - 34s 73ms/step - loss: 0.2481 - categorical_accuracy: 0.8986 - val_loss: 0.3067 - val_categorical_accuracy: 0.8795\n",
      "Epoch 130/10000\n",
      "471/471 [==============================] - 34s 72ms/step - loss: 0.2471 - categorical_accuracy: 0.8989 - val_loss: 0.3001 - val_categorical_accuracy: 0.8795\n",
      "Epoch 131/10000\n",
      "471/471 [==============================] - 34s 73ms/step - loss: 0.2468 - categorical_accuracy: 0.8990 - val_loss: 0.3037 - val_categorical_accuracy: 0.8795\n",
      "Epoch 132/10000\n",
      "471/471 [==============================] - 35s 75ms/step - loss: 0.2464 - categorical_accuracy: 0.8987 - val_loss: 0.3015 - val_categorical_accuracy: 0.8782\n",
      "Epoch 133/10000\n",
      "471/471 [==============================] - 34s 73ms/step - loss: 0.2470 - categorical_accuracy: 0.8978 - val_loss: 0.3026 - val_categorical_accuracy: 0.8792\n",
      "Epoch 134/10000\n",
      "471/471 [==============================] - 35s 75ms/step - loss: 0.2460 - categorical_accuracy: 0.8977 - val_loss: 0.3025 - val_categorical_accuracy: 0.8802\n",
      "Epoch 135/10000\n",
      "471/471 [==============================] - 35s 75ms/step - loss: 0.2444 - categorical_accuracy: 0.8990 - val_loss: 0.3291 - val_categorical_accuracy: 0.8730\n",
      "Epoch 136/10000\n",
      "471/471 [==============================] - 34s 72ms/step - loss: 0.2451 - categorical_accuracy: 0.9000 - val_loss: 0.3026 - val_categorical_accuracy: 0.8776\n",
      "Epoch 137/10000\n",
      "471/471 [==============================] - 34s 72ms/step - loss: 0.2458 - categorical_accuracy: 0.8986 - val_loss: 0.2994 - val_categorical_accuracy: 0.8805\n",
      "Epoch 138/10000\n",
      "471/471 [==============================] - 34s 72ms/step - loss: 0.2440 - categorical_accuracy: 0.8996 - val_loss: 0.3043 - val_categorical_accuracy: 0.8789\n",
      "Epoch 139/10000\n",
      "471/471 [==============================] - 34s 73ms/step - loss: 0.2448 - categorical_accuracy: 0.8994 - val_loss: 0.3037 - val_categorical_accuracy: 0.8782\n",
      "Epoch 140/10000\n",
      "471/471 [==============================] - 34s 73ms/step - loss: 0.2440 - categorical_accuracy: 0.8985 - val_loss: 0.3042 - val_categorical_accuracy: 0.8789\n",
      "Epoch 141/10000\n",
      "471/471 [==============================] - 36s 76ms/step - loss: 0.2436 - categorical_accuracy: 0.8979 - val_loss: 0.3006 - val_categorical_accuracy: 0.8815\n",
      "Epoch 142/10000\n",
      "471/471 [==============================] - 35s 73ms/step - loss: 0.2428 - categorical_accuracy: 0.9007 - val_loss: 0.3070 - val_categorical_accuracy: 0.8805\n",
      "Epoch 143/10000\n"
     ]
    },
    {
     "name": "stdout",
     "output_type": "stream",
     "text": [
      "471/471 [==============================] - 34s 71ms/step - loss: 0.2436 - categorical_accuracy: 0.8984 - val_loss: 0.3029 - val_categorical_accuracy: 0.8799\n",
      "Epoch 144/10000\n",
      "471/471 [==============================] - 34s 73ms/step - loss: 0.2432 - categorical_accuracy: 0.8996 - val_loss: 0.3011 - val_categorical_accuracy: 0.8795\n",
      "Epoch 145/10000\n",
      "471/471 [==============================] - 33s 70ms/step - loss: 0.2432 - categorical_accuracy: 0.9000 - val_loss: 0.3037 - val_categorical_accuracy: 0.8799\n",
      "Epoch 146/10000\n",
      "471/471 [==============================] - 33s 70ms/step - loss: 0.2422 - categorical_accuracy: 0.9006 - val_loss: 0.3125 - val_categorical_accuracy: 0.8805\n",
      "Epoch 147/10000\n",
      "471/471 [==============================] - 33s 70ms/step - loss: 0.2421 - categorical_accuracy: 0.9021 - val_loss: 0.3202 - val_categorical_accuracy: 0.8756\n",
      "Epoch 148/10000\n",
      "471/471 [==============================] - 33s 70ms/step - loss: 0.2412 - categorical_accuracy: 0.9010 - val_loss: 0.3107 - val_categorical_accuracy: 0.8809\n",
      "Epoch 149/10000\n",
      "471/471 [==============================] - 33s 70ms/step - loss: 0.2426 - categorical_accuracy: 0.9024 - val_loss: 0.2998 - val_categorical_accuracy: 0.8795\n",
      "Epoch 150/10000\n",
      "471/471 [==============================] - 33s 70ms/step - loss: 0.2410 - categorical_accuracy: 0.9016 - val_loss: 0.3066 - val_categorical_accuracy: 0.8792\n",
      "Epoch 151/10000\n",
      "471/471 [==============================] - 33s 71ms/step - loss: 0.2406 - categorical_accuracy: 0.8996 - val_loss: 0.3058 - val_categorical_accuracy: 0.8802\n",
      "Epoch 152/10000\n",
      "471/471 [==============================] - 33s 70ms/step - loss: 0.2409 - categorical_accuracy: 0.9008 - val_loss: 0.3008 - val_categorical_accuracy: 0.8812\n",
      "Epoch 153/10000\n",
      "471/471 [==============================] - 33s 71ms/step - loss: 0.2407 - categorical_accuracy: 0.9032 - val_loss: 0.3046 - val_categorical_accuracy: 0.8805\n",
      "Epoch 154/10000\n",
      "471/471 [==============================] - 33s 70ms/step - loss: 0.2395 - categorical_accuracy: 0.9012 - val_loss: 0.3038 - val_categorical_accuracy: 0.8792\n",
      "Epoch 155/10000\n",
      "471/471 [==============================] - 33s 70ms/step - loss: 0.2399 - categorical_accuracy: 0.9011 - val_loss: 0.3031 - val_categorical_accuracy: 0.8812\n",
      "Epoch 156/10000\n",
      "471/471 [==============================] - 33s 70ms/step - loss: 0.2391 - categorical_accuracy: 0.9012 - val_loss: 0.3039 - val_categorical_accuracy: 0.8802\n",
      "Epoch 157/10000\n",
      "471/471 [==============================] - 33s 70ms/step - loss: 0.2397 - categorical_accuracy: 0.9005 - val_loss: 0.3015 - val_categorical_accuracy: 0.8795\n",
      "Epoch 158/10000\n",
      "471/471 [==============================] - 33s 71ms/step - loss: 0.2391 - categorical_accuracy: 0.9025 - val_loss: 0.3043 - val_categorical_accuracy: 0.8812\n",
      "stop  22:09:46\n",
      "Took =  1:28:44.702082\n"
     ]
    }
   ],
   "source": [
    "history_VGG_1 = FitModel(model_VGG_1)"
   ]
  },
  {
   "cell_type": "code",
   "execution_count": 65,
   "metadata": {},
   "outputs": [
    {
     "data": {
      "image/png": "[encoded data removed]",
      "text/plain": [
       "<Figure size 720x360 with 2 Axes>"
      ]
     },
     "metadata": {
      "needs_background": "light"
     },
     "output_type": "display_data"
    }
   ],
   "source": [
    "PlotModelFitHistory(history_VGG_1)"
   ]
  },
  {
   "cell_type": "code",
   "execution_count": 66,
   "metadata": {},
   "outputs": [],
   "source": [
    "(test_y, pred_y) = PredictModel(model_VGG_1)"
   ]
  },
  {
   "cell_type": "code",
   "execution_count": 67,
   "metadata": {},
   "outputs": [
    {
     "name": "stdout",
     "output_type": "stream",
     "text": [
      "Accuracy score:  0.8940298938134811\n",
      "F1 score:  0.877700271832098\n",
      "              precision    recall  f1-score   support\n",
      "\n",
      "           0       0.88      0.97      0.92     44956\n",
      "           1       0.93      0.75      0.83     24356\n",
      "\n",
      "    accuracy                           0.89     69312\n",
      "   macro avg       0.91      0.86      0.88     69312\n",
      "weighted avg       0.90      0.89      0.89     69312\n",
      "\n"
     ]
    }
   ],
   "source": [
    "ShowStats(test_y, pred_y)"
   ]
  },
  {
   "cell_type": "code",
   "execution_count": 68,
   "metadata": {},
   "outputs": [
    {
     "data": {
      "image/png": "[encoded data removed]",
      "text/plain": [
       "<Figure size 432x288 with 2 Axes>"
      ]
     },
     "metadata": {
      "needs_background": "light"
     },
     "output_type": "display_data"
    }
   ],
   "source": [
    "PlotConfusionMatrix(test_y, pred_y)"
   ]
  },
  {
   "cell_type": "markdown",
   "metadata": {},
   "source": [
    "### Observation\n",
    "Issue is over fitting \n",
    "* This model took much longer to train.\n",
    "* Reviewing the input size that VGG was designed for the number of inputs is much reduced.\n",
    "* Lets reduce the number of convolutions layers and converlutions in the layer to improve training times."
   ]
  },
  {
   "cell_type": "markdown",
   "metadata": {},
   "source": [
    "## 5. VGG 2 with simplified convolutions\n",
    "* We have 20k images so that should be ok for training\n",
    "* image size is small so down scaling is not too beneficial\n",
    "* after 40 epics so could stop early \n",
    "* over fitting so reduce the number of convolutions\n",
    "* Given number of images, data augmentation probably not required\n"
   ]
  },
  {
   "cell_type": "code",
   "execution_count": 69,
   "metadata": {
    "scrolled": true
   },
   "outputs": [],
   "source": [
    "model_VGG_2 = tf.keras.Sequential([\n",
    "    #VGG block 1\n",
    "    tf.keras.layers.Conv2D(32, (3, 3), activation='relu', padding='same', input_shape=INPUT_DIM),\n",
    "    tf.keras.layers.Conv2D(32, (3, 3), activation='relu', padding='same'),\n",
    "    tf.keras.layers.MaxPooling2D((2, 2)),\n",
    "    \n",
    "    #VGG block 2\n",
    "    tf.keras.layers.Conv2D(64, (3, 3), activation='relu', padding='same'),\n",
    "    tf.keras.layers.Conv2D(64, (3, 3), activation='relu', padding='same'),\n",
    "    tf.keras.layers.MaxPooling2D((2, 2)),\n",
    "    \n",
    "    tf.keras.layers.Flatten(),\n",
    "    \n",
    "    tf.keras.layers.Dense(128, activation='sigmoid'),\n",
    "    tf.keras.layers.Dropout(.2),\n",
    "    tf.keras.layers.Dense(OUTPUT_CLASSES, activation='sigmoid' )\n",
    "])"
   ]
  },
  {
   "cell_type": "code",
   "execution_count": 70,
   "metadata": {},
   "outputs": [],
   "source": [
    "CompileModel(model_VGG_2)"
   ]
  },
  {
   "cell_type": "code",
   "execution_count": 71,
   "metadata": {},
   "outputs": [
    {
     "name": "stdout",
     "output_type": "stream",
     "text": [
      "start  22:11:51\n",
      "Epoch 1/10000\n",
      "471/471 [==============================] - 28s 59ms/step - loss: 0.6648 - categorical_accuracy: 0.6419 - val_loss: 0.6884 - val_categorical_accuracy: 0.5902\n",
      "Epoch 2/10000\n",
      "471/471 [==============================] - 28s 59ms/step - loss: 0.6585 - categorical_accuracy: 0.6452 - val_loss: 0.6844 - val_categorical_accuracy: 0.5902\n",
      "Epoch 3/10000\n",
      "471/471 [==============================] - 29s 61ms/step - loss: 0.6544 - categorical_accuracy: 0.6467 - val_loss: 0.6842 - val_categorical_accuracy: 0.5902\n",
      "Epoch 4/10000\n",
      "471/471 [==============================] - 30s 63ms/step - loss: 0.6451 - categorical_accuracy: 0.6570 - val_loss: 0.6699 - val_categorical_accuracy: 0.5902\n",
      "Epoch 5/10000\n",
      "471/471 [==============================] - 29s 61ms/step - loss: 0.6354 - categorical_accuracy: 0.6614 - val_loss: 0.6643 - val_categorical_accuracy: 0.5902\n",
      "Epoch 6/10000\n",
      "471/471 [==============================] - 28s 59ms/step - loss: 0.6196 - categorical_accuracy: 0.6674 - val_loss: 0.6460 - val_categorical_accuracy: 0.5902\n",
      "Epoch 7/10000\n",
      "471/471 [==============================] - 28s 60ms/step - loss: 0.6088 - categorical_accuracy: 0.6742 - val_loss: 0.6250 - val_categorical_accuracy: 0.5931\n",
      "Epoch 8/10000\n",
      "471/471 [==============================] - 29s 61ms/step - loss: 0.5851 - categorical_accuracy: 0.6877 - val_loss: 0.6055 - val_categorical_accuracy: 0.6124\n",
      "Epoch 9/10000\n",
      "471/471 [==============================] - 30s 63ms/step - loss: 0.5558 - categorical_accuracy: 0.7102 - val_loss: 0.5617 - val_categorical_accuracy: 0.6723\n",
      "Epoch 10/10000\n",
      "471/471 [==============================] - 27s 58ms/step - loss: 0.5188 - categorical_accuracy: 0.7454 - val_loss: 0.5042 - val_categorical_accuracy: 0.7558\n",
      "Epoch 11/10000\n",
      "471/471 [==============================] - 27s 57ms/step - loss: 0.4847 - categorical_accuracy: 0.7693 - val_loss: 0.4702 - val_categorical_accuracy: 0.7745\n",
      "Epoch 12/10000\n",
      "471/471 [==============================] - 27s 57ms/step - loss: 0.4609 - categorical_accuracy: 0.7849 - val_loss: 0.4668 - val_categorical_accuracy: 0.7748\n",
      "Epoch 13/10000\n",
      "471/471 [==============================] - 27s 58ms/step - loss: 0.4459 - categorical_accuracy: 0.7939 - val_loss: 0.4730 - val_categorical_accuracy: 0.7709\n",
      "Epoch 14/10000\n",
      "471/471 [==============================] - 28s 59ms/step - loss: 0.4320 - categorical_accuracy: 0.8035 - val_loss: 0.4583 - val_categorical_accuracy: 0.7794\n",
      "Epoch 15/10000\n",
      "471/471 [==============================] - 28s 59ms/step - loss: 0.4208 - categorical_accuracy: 0.8101 - val_loss: 0.4227 - val_categorical_accuracy: 0.8082\n",
      "Epoch 16/10000\n",
      "471/471 [==============================] - 29s 61ms/step - loss: 0.4135 - categorical_accuracy: 0.8129 - val_loss: 0.4089 - val_categorical_accuracy: 0.8187\n",
      "Epoch 17/10000\n",
      "471/471 [==============================] - 29s 61ms/step - loss: 0.4077 - categorical_accuracy: 0.8175 - val_loss: 0.4011 - val_categorical_accuracy: 0.8236\n",
      "Epoch 18/10000\n",
      "471/471 [==============================] - 29s 62ms/step - loss: 0.3971 - categorical_accuracy: 0.8218 - val_loss: 0.3982 - val_categorical_accuracy: 0.8223\n",
      "Epoch 19/10000\n",
      "471/471 [==============================] - 29s 62ms/step - loss: 0.3905 - categorical_accuracy: 0.8260 - val_loss: 0.3914 - val_categorical_accuracy: 0.8252\n",
      "Epoch 20/10000\n",
      "471/471 [==============================] - 28s 60ms/step - loss: 0.3843 - categorical_accuracy: 0.8303 - val_loss: 0.3843 - val_categorical_accuracy: 0.8301\n",
      "Epoch 21/10000\n",
      "471/471 [==============================] - 28s 59ms/step - loss: 0.3783 - categorical_accuracy: 0.8357 - val_loss: 0.3751 - val_categorical_accuracy: 0.8416\n",
      "Epoch 22/10000\n",
      "471/471 [==============================] - 28s 59ms/step - loss: 0.3754 - categorical_accuracy: 0.8339 - val_loss: 0.4270 - val_categorical_accuracy: 0.8092\n",
      "Epoch 23/10000\n",
      "471/471 [==============================] - 28s 60ms/step - loss: 0.3704 - categorical_accuracy: 0.8378 - val_loss: 0.3742 - val_categorical_accuracy: 0.8363\n",
      "Epoch 24/10000\n",
      "471/471 [==============================] - 28s 59ms/step - loss: 0.3666 - categorical_accuracy: 0.8373 - val_loss: 0.3682 - val_categorical_accuracy: 0.8419\n",
      "Epoch 25/10000\n",
      "471/471 [==============================] - 28s 59ms/step - loss: 0.3619 - categorical_accuracy: 0.8422 - val_loss: 0.3757 - val_categorical_accuracy: 0.8347\n",
      "Epoch 26/10000\n",
      "471/471 [==============================] - 29s 62ms/step - loss: 0.3599 - categorical_accuracy: 0.8408 - val_loss: 0.3732 - val_categorical_accuracy: 0.8340\n",
      "Epoch 27/10000\n",
      "471/471 [==============================] - 28s 60ms/step - loss: 0.3576 - categorical_accuracy: 0.8415 - val_loss: 0.3624 - val_categorical_accuracy: 0.8426\n",
      "Epoch 28/10000\n",
      "471/471 [==============================] - 29s 61ms/step - loss: 0.3550 - categorical_accuracy: 0.8450 - val_loss: 0.3647 - val_categorical_accuracy: 0.8416\n",
      "Epoch 29/10000\n",
      "471/471 [==============================] - 28s 59ms/step - loss: 0.3502 - categorical_accuracy: 0.8456 - val_loss: 0.3485 - val_categorical_accuracy: 0.8498\n",
      "Epoch 30/10000\n",
      "471/471 [==============================] - 27s 58ms/step - loss: 0.3497 - categorical_accuracy: 0.8481 - val_loss: 0.3506 - val_categorical_accuracy: 0.8448\n",
      "Epoch 31/10000\n",
      "471/471 [==============================] - 27s 58ms/step - loss: 0.3468 - categorical_accuracy: 0.8492 - val_loss: 0.3582 - val_categorical_accuracy: 0.8455\n",
      "Epoch 32/10000\n",
      "471/471 [==============================] - 27s 57ms/step - loss: 0.3447 - categorical_accuracy: 0.8520 - val_loss: 0.3570 - val_categorical_accuracy: 0.8455\n",
      "Epoch 33/10000\n",
      "471/471 [==============================] - 27s 57ms/step - loss: 0.3419 - categorical_accuracy: 0.8529 - val_loss: 0.3406 - val_categorical_accuracy: 0.8504\n",
      "Epoch 34/10000\n",
      "471/471 [==============================] - 27s 57ms/step - loss: 0.3400 - categorical_accuracy: 0.8527 - val_loss: 0.3430 - val_categorical_accuracy: 0.8478\n",
      "Epoch 35/10000\n",
      "471/471 [==============================] - 27s 58ms/step - loss: 0.3385 - categorical_accuracy: 0.8519 - val_loss: 0.3322 - val_categorical_accuracy: 0.8579\n",
      "Epoch 36/10000\n",
      "471/471 [==============================] - 27s 57ms/step - loss: 0.3382 - categorical_accuracy: 0.8557 - val_loss: 0.3330 - val_categorical_accuracy: 0.8563\n",
      "Epoch 37/10000\n",
      "471/471 [==============================] - 27s 57ms/step - loss: 0.3350 - categorical_accuracy: 0.8563 - val_loss: 0.3354 - val_categorical_accuracy: 0.8520\n",
      "Epoch 38/10000\n",
      "471/471 [==============================] - 27s 57ms/step - loss: 0.3355 - categorical_accuracy: 0.8557 - val_loss: 0.3427 - val_categorical_accuracy: 0.8501\n",
      "Epoch 39/10000\n",
      "471/471 [==============================] - 27s 58ms/step - loss: 0.3342 - categorical_accuracy: 0.8572 - val_loss: 0.3345 - val_categorical_accuracy: 0.8527\n",
      "Epoch 40/10000\n",
      "471/471 [==============================] - 27s 58ms/step - loss: 0.3334 - categorical_accuracy: 0.8566 - val_loss: 0.3273 - val_categorical_accuracy: 0.8586\n",
      "Epoch 41/10000\n",
      "471/471 [==============================] - 27s 57ms/step - loss: 0.3319 - categorical_accuracy: 0.8569 - val_loss: 0.3246 - val_categorical_accuracy: 0.8615\n",
      "Epoch 42/10000\n",
      "471/471 [==============================] - 27s 58ms/step - loss: 0.3318 - categorical_accuracy: 0.8572 - val_loss: 0.3274 - val_categorical_accuracy: 0.8583\n",
      "Epoch 43/10000\n",
      "471/471 [==============================] - 27s 57ms/step - loss: 0.3293 - categorical_accuracy: 0.8592 - val_loss: 0.3270 - val_categorical_accuracy: 0.8576\n",
      "Epoch 44/10000\n",
      "471/471 [==============================] - 27s 58ms/step - loss: 0.3276 - categorical_accuracy: 0.8600 - val_loss: 0.3378 - val_categorical_accuracy: 0.8540\n",
      "Epoch 45/10000\n",
      "471/471 [==============================] - 30s 63ms/step - loss: 0.3270 - categorical_accuracy: 0.8614 - val_loss: 0.3349 - val_categorical_accuracy: 0.8553\n",
      "Epoch 46/10000\n",
      "471/471 [==============================] - 29s 62ms/step - loss: 0.3279 - categorical_accuracy: 0.8588 - val_loss: 0.3220 - val_categorical_accuracy: 0.8619\n",
      "Epoch 47/10000\n",
      "471/471 [==============================] - 29s 61ms/step - loss: 0.3268 - categorical_accuracy: 0.8595 - val_loss: 0.3288 - val_categorical_accuracy: 0.8599\n",
      "Epoch 48/10000\n"
     ]
    },
    {
     "name": "stdout",
     "output_type": "stream",
     "text": [
      "471/471 [==============================] - 27s 58ms/step - loss: 0.3234 - categorical_accuracy: 0.8622 - val_loss: 0.3200 - val_categorical_accuracy: 0.8651\n",
      "Epoch 49/10000\n",
      "471/471 [==============================] - 28s 60ms/step - loss: 0.3247 - categorical_accuracy: 0.8629 - val_loss: 0.3212 - val_categorical_accuracy: 0.8612\n",
      "Epoch 50/10000\n",
      "471/471 [==============================] - 28s 59ms/step - loss: 0.3252 - categorical_accuracy: 0.8614 - val_loss: 0.3295 - val_categorical_accuracy: 0.8606\n",
      "Epoch 51/10000\n",
      "471/471 [==============================] - 29s 62ms/step - loss: 0.3225 - categorical_accuracy: 0.8608 - val_loss: 0.3247 - val_categorical_accuracy: 0.8602\n",
      "Epoch 52/10000\n",
      "471/471 [==============================] - 27s 58ms/step - loss: 0.3214 - categorical_accuracy: 0.8644 - val_loss: 0.3322 - val_categorical_accuracy: 0.8583\n",
      "Epoch 53/10000\n",
      "471/471 [==============================] - 28s 59ms/step - loss: 0.3206 - categorical_accuracy: 0.8636 - val_loss: 0.3214 - val_categorical_accuracy: 0.8606\n",
      "Epoch 54/10000\n",
      "471/471 [==============================] - 28s 58ms/step - loss: 0.3206 - categorical_accuracy: 0.8621 - val_loss: 0.3216 - val_categorical_accuracy: 0.8602\n",
      "Epoch 55/10000\n",
      "471/471 [==============================] - 28s 59ms/step - loss: 0.3200 - categorical_accuracy: 0.8633 - val_loss: 0.3209 - val_categorical_accuracy: 0.8619\n",
      "Epoch 56/10000\n",
      "471/471 [==============================] - 27s 58ms/step - loss: 0.3181 - categorical_accuracy: 0.8642 - val_loss: 0.3187 - val_categorical_accuracy: 0.8658\n",
      "Epoch 57/10000\n",
      "471/471 [==============================] - 28s 59ms/step - loss: 0.3193 - categorical_accuracy: 0.8651 - val_loss: 0.3299 - val_categorical_accuracy: 0.8612\n",
      "Epoch 58/10000\n",
      "471/471 [==============================] - 27s 58ms/step - loss: 0.3173 - categorical_accuracy: 0.8663 - val_loss: 0.3156 - val_categorical_accuracy: 0.8678\n",
      "Epoch 59/10000\n",
      "471/471 [==============================] - 28s 59ms/step - loss: 0.3186 - categorical_accuracy: 0.8646 - val_loss: 0.3219 - val_categorical_accuracy: 0.8619\n",
      "Epoch 60/10000\n",
      "471/471 [==============================] - 28s 59ms/step - loss: 0.3159 - categorical_accuracy: 0.8677 - val_loss: 0.3288 - val_categorical_accuracy: 0.8622\n",
      "Epoch 61/10000\n",
      "471/471 [==============================] - 28s 58ms/step - loss: 0.3169 - categorical_accuracy: 0.8640 - val_loss: 0.3147 - val_categorical_accuracy: 0.8678\n",
      "Epoch 62/10000\n",
      "471/471 [==============================] - 28s 60ms/step - loss: 0.3158 - categorical_accuracy: 0.8676 - val_loss: 0.3341 - val_categorical_accuracy: 0.8583\n",
      "Epoch 63/10000\n",
      "471/471 [==============================] - 28s 59ms/step - loss: 0.3151 - categorical_accuracy: 0.8666 - val_loss: 0.3463 - val_categorical_accuracy: 0.8537\n",
      "Epoch 64/10000\n",
      "471/471 [==============================] - 27s 57ms/step - loss: 0.3156 - categorical_accuracy: 0.8658 - val_loss: 0.3181 - val_categorical_accuracy: 0.8658\n",
      "Epoch 65/10000\n",
      "471/471 [==============================] - 27s 57ms/step - loss: 0.3156 - categorical_accuracy: 0.8646 - val_loss: 0.3330 - val_categorical_accuracy: 0.8592\n",
      "Epoch 66/10000\n",
      "471/471 [==============================] - 27s 57ms/step - loss: 0.3166 - categorical_accuracy: 0.8635 - val_loss: 0.3148 - val_categorical_accuracy: 0.8674\n",
      "Epoch 67/10000\n",
      "471/471 [==============================] - 27s 57ms/step - loss: 0.3136 - categorical_accuracy: 0.8677 - val_loss: 0.3214 - val_categorical_accuracy: 0.8642\n",
      "Epoch 68/10000\n",
      "471/471 [==============================] - 27s 57ms/step - loss: 0.3142 - categorical_accuracy: 0.8657 - val_loss: 0.3248 - val_categorical_accuracy: 0.8651\n",
      "Epoch 69/10000\n",
      "471/471 [==============================] - 27s 57ms/step - loss: 0.3138 - categorical_accuracy: 0.8660 - val_loss: 0.3131 - val_categorical_accuracy: 0.8687\n",
      "Epoch 70/10000\n",
      "471/471 [==============================] - 27s 57ms/step - loss: 0.3126 - categorical_accuracy: 0.8677 - val_loss: 0.3269 - val_categorical_accuracy: 0.8628\n",
      "Epoch 71/10000\n",
      "471/471 [==============================] - 27s 57ms/step - loss: 0.3128 - categorical_accuracy: 0.8673 - val_loss: 0.3139 - val_categorical_accuracy: 0.8684\n",
      "Epoch 72/10000\n",
      "471/471 [==============================] - 27s 57ms/step - loss: 0.3121 - categorical_accuracy: 0.8681 - val_loss: 0.3122 - val_categorical_accuracy: 0.8687\n",
      "Epoch 73/10000\n",
      "471/471 [==============================] - 28s 59ms/step - loss: 0.3124 - categorical_accuracy: 0.8683 - val_loss: 0.3123 - val_categorical_accuracy: 0.8678\n",
      "Epoch 74/10000\n",
      "471/471 [==============================] - 29s 61ms/step - loss: 0.3110 - categorical_accuracy: 0.8696 - val_loss: 0.3326 - val_categorical_accuracy: 0.8615\n",
      "Epoch 75/10000\n",
      "471/471 [==============================] - 27s 57ms/step - loss: 0.3123 - categorical_accuracy: 0.8679 - val_loss: 0.3185 - val_categorical_accuracy: 0.8674\n",
      "Epoch 76/10000\n",
      "471/471 [==============================] - 27s 57ms/step - loss: 0.3105 - categorical_accuracy: 0.8675 - val_loss: 0.3201 - val_categorical_accuracy: 0.8655\n",
      "Epoch 77/10000\n",
      "471/471 [==============================] - 27s 57ms/step - loss: 0.3115 - categorical_accuracy: 0.8683 - val_loss: 0.3121 - val_categorical_accuracy: 0.8697\n",
      "Epoch 78/10000\n",
      "471/471 [==============================] - 27s 58ms/step - loss: 0.3112 - categorical_accuracy: 0.8679 - val_loss: 0.3219 - val_categorical_accuracy: 0.8651\n",
      "Epoch 79/10000\n",
      "471/471 [==============================] - 27s 58ms/step - loss: 0.3097 - categorical_accuracy: 0.8684 - val_loss: 0.3142 - val_categorical_accuracy: 0.8671\n",
      "Epoch 80/10000\n",
      "471/471 [==============================] - 27s 58ms/step - loss: 0.3084 - categorical_accuracy: 0.8715 - val_loss: 0.3122 - val_categorical_accuracy: 0.8691\n",
      "Epoch 81/10000\n",
      "471/471 [==============================] - 27s 57ms/step - loss: 0.3085 - categorical_accuracy: 0.8700 - val_loss: 0.3134 - val_categorical_accuracy: 0.8678\n",
      "Epoch 82/10000\n",
      "471/471 [==============================] - 27s 58ms/step - loss: 0.3086 - categorical_accuracy: 0.8699 - val_loss: 0.3156 - val_categorical_accuracy: 0.8655\n",
      "Epoch 83/10000\n",
      "471/471 [==============================] - 27s 58ms/step - loss: 0.3090 - categorical_accuracy: 0.8680 - val_loss: 0.3153 - val_categorical_accuracy: 0.8651\n",
      "Epoch 84/10000\n",
      "471/471 [==============================] - 27s 58ms/step - loss: 0.3088 - categorical_accuracy: 0.8697 - val_loss: 0.3149 - val_categorical_accuracy: 0.8664\n",
      "Epoch 85/10000\n",
      "471/471 [==============================] - 27s 58ms/step - loss: 0.3082 - categorical_accuracy: 0.8711 - val_loss: 0.3132 - val_categorical_accuracy: 0.8674\n",
      "Epoch 86/10000\n",
      "471/471 [==============================] - 27s 56ms/step - loss: 0.3079 - categorical_accuracy: 0.8719 - val_loss: 0.3170 - val_categorical_accuracy: 0.8668\n",
      "Epoch 87/10000\n",
      "471/471 [==============================] - 27s 57ms/step - loss: 0.3069 - categorical_accuracy: 0.8694 - val_loss: 0.3137 - val_categorical_accuracy: 0.8671\n",
      "Epoch 88/10000\n",
      "471/471 [==============================] - 28s 60ms/step - loss: 0.3060 - categorical_accuracy: 0.8716 - val_loss: 0.3394 - val_categorical_accuracy: 0.8570\n",
      "Epoch 89/10000\n",
      "471/471 [==============================] - 28s 59ms/step - loss: 0.3071 - categorical_accuracy: 0.8687 - val_loss: 0.3269 - val_categorical_accuracy: 0.8645\n",
      "Epoch 90/10000\n",
      "471/471 [==============================] - 28s 59ms/step - loss: 0.3064 - categorical_accuracy: 0.8713 - val_loss: 0.3165 - val_categorical_accuracy: 0.8674\n",
      "Epoch 91/10000\n",
      "471/471 [==============================] - 28s 59ms/step - loss: 0.3070 - categorical_accuracy: 0.8688 - val_loss: 0.3169 - val_categorical_accuracy: 0.8674\n",
      "Epoch 92/10000\n",
      "471/471 [==============================] - 28s 59ms/step - loss: 0.3058 - categorical_accuracy: 0.8720 - val_loss: 0.3104 - val_categorical_accuracy: 0.8727\n",
      "Epoch 93/10000\n",
      "471/471 [==============================] - 28s 59ms/step - loss: 0.3060 - categorical_accuracy: 0.8717 - val_loss: 0.3103 - val_categorical_accuracy: 0.8720\n",
      "Epoch 94/10000\n",
      "471/471 [==============================] - 28s 59ms/step - loss: 0.3063 - categorical_accuracy: 0.8717 - val_loss: 0.3150 - val_categorical_accuracy: 0.8671\n",
      "Epoch 95/10000\n",
      "471/471 [==============================] - 29s 61ms/step - loss: 0.3059 - categorical_accuracy: 0.8714 - val_loss: 0.3167 - val_categorical_accuracy: 0.8674\n"
     ]
    },
    {
     "name": "stdout",
     "output_type": "stream",
     "text": [
      "Epoch 96/10000\n",
      "471/471 [==============================] - 28s 59ms/step - loss: 0.3066 - categorical_accuracy: 0.8706 - val_loss: 0.3134 - val_categorical_accuracy: 0.8674\n",
      "Epoch 97/10000\n",
      "471/471 [==============================] - 27s 58ms/step - loss: 0.3038 - categorical_accuracy: 0.8719 - val_loss: 0.3132 - val_categorical_accuracy: 0.8668\n",
      "Epoch 98/10000\n",
      "471/471 [==============================] - 27s 58ms/step - loss: 0.3047 - categorical_accuracy: 0.8711 - val_loss: 0.3210 - val_categorical_accuracy: 0.8674\n",
      "Epoch 99/10000\n",
      "471/471 [==============================] - 27s 57ms/step - loss: 0.3039 - categorical_accuracy: 0.8699 - val_loss: 0.3124 - val_categorical_accuracy: 0.8681\n",
      "Epoch 100/10000\n",
      "471/471 [==============================] - 27s 57ms/step - loss: 0.3030 - categorical_accuracy: 0.8728 - val_loss: 0.3120 - val_categorical_accuracy: 0.8668\n",
      "Epoch 101/10000\n",
      "471/471 [==============================] - 27s 57ms/step - loss: 0.3044 - categorical_accuracy: 0.8724 - val_loss: 0.3142 - val_categorical_accuracy: 0.8684\n",
      "Epoch 102/10000\n",
      "471/471 [==============================] - 27s 57ms/step - loss: 0.3022 - categorical_accuracy: 0.8731 - val_loss: 0.3107 - val_categorical_accuracy: 0.8714\n",
      "Epoch 103/10000\n",
      "471/471 [==============================] - 27s 58ms/step - loss: 0.3029 - categorical_accuracy: 0.8724 - val_loss: 0.3161 - val_categorical_accuracy: 0.8681\n",
      "Epoch 104/10000\n",
      "471/471 [==============================] - 27s 57ms/step - loss: 0.3031 - categorical_accuracy: 0.8710 - val_loss: 0.3120 - val_categorical_accuracy: 0.8674\n",
      "Epoch 105/10000\n",
      "471/471 [==============================] - 28s 59ms/step - loss: 0.3019 - categorical_accuracy: 0.8724 - val_loss: 0.3139 - val_categorical_accuracy: 0.8681\n",
      "Epoch 106/10000\n",
      "471/471 [==============================] - 27s 58ms/step - loss: 0.3017 - categorical_accuracy: 0.8726 - val_loss: 0.3120 - val_categorical_accuracy: 0.8674\n",
      "Epoch 107/10000\n",
      "471/471 [==============================] - 27s 58ms/step - loss: 0.3022 - categorical_accuracy: 0.8718 - val_loss: 0.3135 - val_categorical_accuracy: 0.8684\n",
      "Epoch 108/10000\n",
      "471/471 [==============================] - 27s 58ms/step - loss: 0.3016 - categorical_accuracy: 0.8732 - val_loss: 0.3127 - val_categorical_accuracy: 0.8671\n",
      "Epoch 109/10000\n",
      "471/471 [==============================] - 27s 58ms/step - loss: 0.3017 - categorical_accuracy: 0.8717 - val_loss: 0.3164 - val_categorical_accuracy: 0.8700\n",
      "Epoch 110/10000\n",
      "471/471 [==============================] - 27s 57ms/step - loss: 0.3010 - categorical_accuracy: 0.8736 - val_loss: 0.3131 - val_categorical_accuracy: 0.8681\n",
      "Epoch 111/10000\n",
      "471/471 [==============================] - 28s 59ms/step - loss: 0.3017 - categorical_accuracy: 0.8745 - val_loss: 0.3096 - val_categorical_accuracy: 0.8700\n",
      "Epoch 112/10000\n",
      "471/471 [==============================] - 28s 59ms/step - loss: 0.3011 - categorical_accuracy: 0.8721 - val_loss: 0.3127 - val_categorical_accuracy: 0.8681\n",
      "Epoch 113/10000\n",
      "471/471 [==============================] - 28s 59ms/step - loss: 0.3002 - categorical_accuracy: 0.8746 - val_loss: 0.3089 - val_categorical_accuracy: 0.8733\n",
      "Epoch 114/10000\n",
      "471/471 [==============================] - 31s 65ms/step - loss: 0.2992 - categorical_accuracy: 0.8722 - val_loss: 0.3110 - val_categorical_accuracy: 0.8694\n",
      "Epoch 115/10000\n",
      "471/471 [==============================] - 28s 59ms/step - loss: 0.3003 - categorical_accuracy: 0.8746 - val_loss: 0.3128 - val_categorical_accuracy: 0.8674\n",
      "Epoch 116/10000\n",
      "471/471 [==============================] - 28s 59ms/step - loss: 0.2986 - categorical_accuracy: 0.8755 - val_loss: 0.3164 - val_categorical_accuracy: 0.8691\n",
      "Epoch 117/10000\n",
      "471/471 [==============================] - 28s 59ms/step - loss: 0.2999 - categorical_accuracy: 0.8738 - val_loss: 0.3095 - val_categorical_accuracy: 0.8723\n",
      "Epoch 118/10000\n",
      "471/471 [==============================] - 28s 59ms/step - loss: 0.2987 - categorical_accuracy: 0.8727 - val_loss: 0.3111 - val_categorical_accuracy: 0.8664\n",
      "Epoch 119/10000\n",
      "471/471 [==============================] - 28s 59ms/step - loss: 0.2988 - categorical_accuracy: 0.8743 - val_loss: 0.3217 - val_categorical_accuracy: 0.8681\n",
      "Epoch 120/10000\n",
      "471/471 [==============================] - 28s 60ms/step - loss: 0.2983 - categorical_accuracy: 0.8727 - val_loss: 0.3109 - val_categorical_accuracy: 0.8668\n",
      "Epoch 121/10000\n",
      "471/471 [==============================] - 28s 60ms/step - loss: 0.2973 - categorical_accuracy: 0.8762 - val_loss: 0.3123 - val_categorical_accuracy: 0.8687\n",
      "Epoch 122/10000\n",
      "471/471 [==============================] - 28s 60ms/step - loss: 0.2992 - categorical_accuracy: 0.8744 - val_loss: 0.3086 - val_categorical_accuracy: 0.8743\n",
      "Epoch 123/10000\n",
      "471/471 [==============================] - 28s 60ms/step - loss: 0.2993 - categorical_accuracy: 0.8743 - val_loss: 0.3117 - val_categorical_accuracy: 0.8681\n",
      "Epoch 124/10000\n",
      "471/471 [==============================] - 28s 60ms/step - loss: 0.2989 - categorical_accuracy: 0.8723 - val_loss: 0.3113 - val_categorical_accuracy: 0.8681\n",
      "Epoch 125/10000\n",
      "471/471 [==============================] - 29s 61ms/step - loss: 0.2981 - categorical_accuracy: 0.8741 - val_loss: 0.3140 - val_categorical_accuracy: 0.8694\n",
      "Epoch 126/10000\n",
      "471/471 [==============================] - 28s 60ms/step - loss: 0.2975 - categorical_accuracy: 0.8759 - val_loss: 0.3157 - val_categorical_accuracy: 0.8697\n",
      "Epoch 127/10000\n",
      "471/471 [==============================] - 30s 63ms/step - loss: 0.2985 - categorical_accuracy: 0.8747 - val_loss: 0.3143 - val_categorical_accuracy: 0.8691\n",
      "Epoch 128/10000\n",
      "471/471 [==============================] - 28s 60ms/step - loss: 0.2973 - categorical_accuracy: 0.8743 - val_loss: 0.3179 - val_categorical_accuracy: 0.8691\n",
      "Epoch 129/10000\n",
      "471/471 [==============================] - 28s 59ms/step - loss: 0.2961 - categorical_accuracy: 0.8743 - val_loss: 0.3135 - val_categorical_accuracy: 0.8697\n",
      "Epoch 130/10000\n",
      "471/471 [==============================] - 28s 59ms/step - loss: 0.2986 - categorical_accuracy: 0.8731 - val_loss: 0.3122 - val_categorical_accuracy: 0.8691\n",
      "Epoch 131/10000\n",
      "471/471 [==============================] - 28s 59ms/step - loss: 0.2963 - categorical_accuracy: 0.8742 - val_loss: 0.3115 - val_categorical_accuracy: 0.8684\n",
      "Epoch 132/10000\n",
      "471/471 [==============================] - 28s 59ms/step - loss: 0.2960 - categorical_accuracy: 0.8756 - val_loss: 0.3081 - val_categorical_accuracy: 0.8750\n",
      "Epoch 133/10000\n",
      "471/471 [==============================] - 28s 59ms/step - loss: 0.2944 - categorical_accuracy: 0.8765 - val_loss: 0.3082 - val_categorical_accuracy: 0.8750\n",
      "Epoch 134/10000\n",
      "471/471 [==============================] - 28s 58ms/step - loss: 0.2968 - categorical_accuracy: 0.8747 - val_loss: 0.3101 - val_categorical_accuracy: 0.8697\n",
      "Epoch 135/10000\n",
      "471/471 [==============================] - 28s 59ms/step - loss: 0.2947 - categorical_accuracy: 0.8740 - val_loss: 0.3118 - val_categorical_accuracy: 0.8687\n",
      "Epoch 136/10000\n",
      "471/471 [==============================] - 28s 59ms/step - loss: 0.2953 - categorical_accuracy: 0.8752 - val_loss: 0.3148 - val_categorical_accuracy: 0.8700\n",
      "Epoch 137/10000\n",
      "471/471 [==============================] - 28s 59ms/step - loss: 0.2954 - categorical_accuracy: 0.8749 - val_loss: 0.3091 - val_categorical_accuracy: 0.8717\n",
      "Epoch 138/10000\n",
      "471/471 [==============================] - 28s 59ms/step - loss: 0.2953 - categorical_accuracy: 0.8758 - val_loss: 0.3087 - val_categorical_accuracy: 0.8733\n",
      "Epoch 139/10000\n",
      "471/471 [==============================] - 28s 59ms/step - loss: 0.2942 - categorical_accuracy: 0.8743 - val_loss: 0.3165 - val_categorical_accuracy: 0.8697\n",
      "Epoch 140/10000\n",
      "471/471 [==============================] - 29s 61ms/step - loss: 0.2961 - categorical_accuracy: 0.8752 - val_loss: 0.3176 - val_categorical_accuracy: 0.8691\n",
      "Epoch 141/10000\n",
      "471/471 [==============================] - 27s 58ms/step - loss: 0.2948 - categorical_accuracy: 0.8752 - val_loss: 0.3076 - val_categorical_accuracy: 0.8736\n",
      "Epoch 142/10000\n",
      "471/471 [==============================] - 27s 58ms/step - loss: 0.2951 - categorical_accuracy: 0.8750 - val_loss: 0.3073 - val_categorical_accuracy: 0.8733\n",
      "Epoch 143/10000\n"
     ]
    },
    {
     "name": "stdout",
     "output_type": "stream",
     "text": [
      "471/471 [==============================] - 27s 56ms/step - loss: 0.2938 - categorical_accuracy: 0.8764 - val_loss: 0.3127 - val_categorical_accuracy: 0.8700\n",
      "Epoch 144/10000\n",
      "471/471 [==============================] - 27s 57ms/step - loss: 0.2946 - categorical_accuracy: 0.8760 - val_loss: 0.3152 - val_categorical_accuracy: 0.8694\n",
      "Epoch 145/10000\n",
      "471/471 [==============================] - 27s 57ms/step - loss: 0.2931 - categorical_accuracy: 0.8774 - val_loss: 0.3077 - val_categorical_accuracy: 0.8740\n",
      "Epoch 146/10000\n",
      "471/471 [==============================] - 27s 57ms/step - loss: 0.2927 - categorical_accuracy: 0.8772 - val_loss: 0.3118 - val_categorical_accuracy: 0.8694\n",
      "Epoch 147/10000\n",
      "471/471 [==============================] - 27s 57ms/step - loss: 0.2942 - categorical_accuracy: 0.8764 - val_loss: 0.3129 - val_categorical_accuracy: 0.8704\n",
      "Epoch 148/10000\n",
      "471/471 [==============================] - 27s 57ms/step - loss: 0.2928 - categorical_accuracy: 0.8772 - val_loss: 0.3087 - val_categorical_accuracy: 0.8710\n",
      "Epoch 149/10000\n",
      "471/471 [==============================] - 27s 57ms/step - loss: 0.2934 - categorical_accuracy: 0.8778 - val_loss: 0.3073 - val_categorical_accuracy: 0.8717\n",
      "Epoch 150/10000\n",
      "471/471 [==============================] - 27s 56ms/step - loss: 0.2918 - categorical_accuracy: 0.8763 - val_loss: 0.3078 - val_categorical_accuracy: 0.8736\n",
      "Epoch 151/10000\n",
      "471/471 [==============================] - 27s 57ms/step - loss: 0.2928 - categorical_accuracy: 0.8757 - val_loss: 0.3214 - val_categorical_accuracy: 0.8674\n",
      "Epoch 152/10000\n",
      "471/471 [==============================] - 27s 57ms/step - loss: 0.2924 - categorical_accuracy: 0.8770 - val_loss: 0.3070 - val_categorical_accuracy: 0.8743\n",
      "Epoch 153/10000\n",
      "471/471 [==============================] - 27s 58ms/step - loss: 0.2920 - categorical_accuracy: 0.8772 - val_loss: 0.3105 - val_categorical_accuracy: 0.8730\n",
      "Epoch 154/10000\n",
      "471/471 [==============================] - 27s 57ms/step - loss: 0.2930 - categorical_accuracy: 0.8764 - val_loss: 0.3072 - val_categorical_accuracy: 0.8746\n",
      "Epoch 155/10000\n",
      "471/471 [==============================] - 27s 56ms/step - loss: 0.2917 - categorical_accuracy: 0.8772 - val_loss: 0.3107 - val_categorical_accuracy: 0.8723\n",
      "Epoch 156/10000\n",
      "471/471 [==============================] - 27s 57ms/step - loss: 0.2912 - categorical_accuracy: 0.8785 - val_loss: 0.3065 - val_categorical_accuracy: 0.8730\n",
      "Epoch 157/10000\n",
      "471/471 [==============================] - 27s 57ms/step - loss: 0.2912 - categorical_accuracy: 0.8778 - val_loss: 0.3128 - val_categorical_accuracy: 0.8704\n",
      "Epoch 158/10000\n",
      "471/471 [==============================] - 27s 58ms/step - loss: 0.2911 - categorical_accuracy: 0.8750 - val_loss: 0.3089 - val_categorical_accuracy: 0.8717\n",
      "Epoch 159/10000\n",
      "471/471 [==============================] - 27s 57ms/step - loss: 0.2927 - categorical_accuracy: 0.8766 - val_loss: 0.3097 - val_categorical_accuracy: 0.8727\n",
      "Epoch 160/10000\n",
      "471/471 [==============================] - 27s 58ms/step - loss: 0.2909 - categorical_accuracy: 0.8788 - val_loss: 0.3088 - val_categorical_accuracy: 0.8740\n",
      "Epoch 161/10000\n",
      "471/471 [==============================] - 27s 57ms/step - loss: 0.2907 - categorical_accuracy: 0.8792 - val_loss: 0.3109 - val_categorical_accuracy: 0.8727\n",
      "Epoch 162/10000\n",
      "471/471 [==============================] - 27s 57ms/step - loss: 0.2900 - categorical_accuracy: 0.8772 - val_loss: 0.3071 - val_categorical_accuracy: 0.8740\n",
      "stop  23:26:29\n",
      "Took =  1:14:38.521821\n"
     ]
    }
   ],
   "source": [
    "history_VGG_2 = FitModel(model_VGG_2)"
   ]
  },
  {
   "cell_type": "code",
   "execution_count": 72,
   "metadata": {},
   "outputs": [
    {
     "data": {
      "image/png": "[encoded data removed]",
      "text/plain": [
       "<Figure size 720x360 with 2 Axes>"
      ]
     },
     "metadata": {
      "needs_background": "light"
     },
     "output_type": "display_data"
    }
   ],
   "source": [
    "PlotModelFitHistory(history_VGG_2)"
   ]
  },
  {
   "cell_type": "code",
   "execution_count": 73,
   "metadata": {},
   "outputs": [],
   "source": [
    "(test_y, pred_y) = PredictModel(model_VGG_2)"
   ]
  },
  {
   "cell_type": "code",
   "execution_count": 74,
   "metadata": {},
   "outputs": [
    {
     "name": "stdout",
     "output_type": "stream",
     "text": [
      "Accuracy score:  0.8826898661126501\n",
      "F1 score:  0.8635503229357736\n",
      "              precision    recall  f1-score   support\n",
      "\n",
      "           0       0.87      0.97      0.91     45004\n",
      "           1       0.92      0.72      0.81     24308\n",
      "\n",
      "    accuracy                           0.88     69312\n",
      "   macro avg       0.90      0.85      0.86     69312\n",
      "weighted avg       0.89      0.88      0.88     69312\n",
      "\n"
     ]
    }
   ],
   "source": [
    "ShowStats(test_y, pred_y)"
   ]
  },
  {
   "cell_type": "code",
   "execution_count": 75,
   "metadata": {},
   "outputs": [
    {
     "data": {
      "image/png": "[encoded data removed]",
      "text/plain": [
       "<Figure size 432x288 with 2 Axes>"
      ]
     },
     "metadata": {
      "needs_background": "light"
     },
     "output_type": "display_data"
    }
   ],
   "source": [
    "PlotConfusionMatrix(test_y, pred_y)"
   ]
  },
  {
   "cell_type": "markdown",
   "metadata": {},
   "source": [
    "### Observations\n",
    "* The model still took a long time to train\n",
    "* There looks to be minimal overfitting\n",
    "* Reducing the number of epochs to 50 showed minimal loss issues but accuracy was jumbled"
   ]
  },
  {
   "cell_type": "markdown",
   "metadata": {},
   "source": [
    "## 6. SC-CNN \n",
    "* Try model based on SC-CNN \n",
    "* We have 20k images so that should be ok for training"
   ]
  },
  {
   "cell_type": "code",
   "execution_count": 76,
   "metadata": {
    "scrolled": true
   },
   "outputs": [],
   "source": [
    "model_SC_CNN_1 = tf.keras.Sequential([\n",
    "    # Convolution\n",
    "    \n",
    "    tf.keras.layers.Conv2D(24, (4, 4), activation='relu', padding='same', input_shape=INPUT_DIM),\n",
    "    tf.keras.layers.MaxPooling2D((2, 2)),\n",
    "    tf.keras.layers.Conv2D(36, (3, 3), activation='relu', padding='same'),\n",
    "    tf.keras.layers.MaxPooling2D((2, 2)),\n",
    "    \n",
    "    tf.keras.layers.Flatten(),\n",
    "    \n",
    "    tf.keras.layers.Dense(512, activation='relu'),\n",
    "    tf.keras.layers.Dense(OUTPUT_CLASSES, activation='sigmoid' )\n",
    "    \n",
    "])"
   ]
  },
  {
   "cell_type": "code",
   "execution_count": 77,
   "metadata": {},
   "outputs": [],
   "source": [
    "CompileModel(model_SC_CNN_1)"
   ]
  },
  {
   "cell_type": "code",
   "execution_count": 78,
   "metadata": {},
   "outputs": [
    {
     "name": "stdout",
     "output_type": "stream",
     "text": [
      "start  23:28:24\n",
      "Epoch 1/10000\n",
      "471/471 [==============================] - 13s 26ms/step - loss: 0.6062 - categorical_accuracy: 0.6639 - val_loss: 0.6131 - val_categorical_accuracy: 0.5921\n",
      "Epoch 2/10000\n",
      "471/471 [==============================] - 12s 25ms/step - loss: 0.5509 - categorical_accuracy: 0.6878 - val_loss: 0.5363 - val_categorical_accuracy: 0.7290\n",
      "Epoch 3/10000\n",
      "471/471 [==============================] - 12s 25ms/step - loss: 0.4870 - categorical_accuracy: 0.7690 - val_loss: 0.4760 - val_categorical_accuracy: 0.7637\n",
      "Epoch 4/10000\n",
      "471/471 [==============================] - 12s 25ms/step - loss: 0.4375 - categorical_accuracy: 0.8097 - val_loss: 0.4172 - val_categorical_accuracy: 0.8357\n",
      "Epoch 5/10000\n",
      "471/471 [==============================] - 12s 25ms/step - loss: 0.4104 - categorical_accuracy: 0.8211 - val_loss: 0.4166 - val_categorical_accuracy: 0.8082\n",
      "Epoch 6/10000\n",
      "471/471 [==============================] - 12s 26ms/step - loss: 0.3942 - categorical_accuracy: 0.8272 - val_loss: 0.3919 - val_categorical_accuracy: 0.8275\n",
      "Epoch 7/10000\n",
      "471/471 [==============================] - 12s 25ms/step - loss: 0.3824 - categorical_accuracy: 0.8333 - val_loss: 0.3788 - val_categorical_accuracy: 0.8376\n",
      "Epoch 8/10000\n",
      "471/471 [==============================] - 12s 25ms/step - loss: 0.3744 - categorical_accuracy: 0.8373 - val_loss: 0.3741 - val_categorical_accuracy: 0.8373\n",
      "Epoch 9/10000\n",
      "471/471 [==============================] - 12s 25ms/step - loss: 0.3685 - categorical_accuracy: 0.8388 - val_loss: 0.3787 - val_categorical_accuracy: 0.8331\n",
      "Epoch 10/10000\n",
      "471/471 [==============================] - 12s 26ms/step - loss: 0.3626 - categorical_accuracy: 0.8441 - val_loss: 0.3570 - val_categorical_accuracy: 0.8507\n",
      "Epoch 11/10000\n",
      "471/471 [==============================] - 12s 26ms/step - loss: 0.3601 - categorical_accuracy: 0.8440 - val_loss: 0.3793 - val_categorical_accuracy: 0.8331\n",
      "Epoch 12/10000\n",
      "471/471 [==============================] - 12s 25ms/step - loss: 0.3561 - categorical_accuracy: 0.8450 - val_loss: 0.3551 - val_categorical_accuracy: 0.8468\n",
      "Epoch 13/10000\n",
      "471/471 [==============================] - 12s 25ms/step - loss: 0.3529 - categorical_accuracy: 0.8487 - val_loss: 0.3684 - val_categorical_accuracy: 0.8363\n",
      "Epoch 14/10000\n",
      "471/471 [==============================] - 12s 26ms/step - loss: 0.3499 - categorical_accuracy: 0.8500 - val_loss: 0.3576 - val_categorical_accuracy: 0.8422\n",
      "Epoch 15/10000\n",
      "471/471 [==============================] - 12s 25ms/step - loss: 0.3483 - categorical_accuracy: 0.8513 - val_loss: 0.3533 - val_categorical_accuracy: 0.8458\n",
      "Epoch 16/10000\n",
      "471/471 [==============================] - 12s 26ms/step - loss: 0.3460 - categorical_accuracy: 0.8515 - val_loss: 0.3473 - val_categorical_accuracy: 0.8511\n",
      "Epoch 17/10000\n",
      "471/471 [==============================] - 12s 26ms/step - loss: 0.3445 - categorical_accuracy: 0.8539 - val_loss: 0.3449 - val_categorical_accuracy: 0.8530\n",
      "Epoch 18/10000\n",
      "471/471 [==============================] - 12s 25ms/step - loss: 0.3426 - categorical_accuracy: 0.8526 - val_loss: 0.3545 - val_categorical_accuracy: 0.8448\n",
      "Epoch 19/10000\n",
      "471/471 [==============================] - 12s 25ms/step - loss: 0.3413 - categorical_accuracy: 0.8547 - val_loss: 0.3582 - val_categorical_accuracy: 0.8435\n",
      "Epoch 20/10000\n",
      "471/471 [==============================] - 12s 25ms/step - loss: 0.3401 - categorical_accuracy: 0.8543 - val_loss: 0.3467 - val_categorical_accuracy: 0.8511\n",
      "Epoch 21/10000\n",
      "471/471 [==============================] - 12s 26ms/step - loss: 0.3390 - categorical_accuracy: 0.8545 - val_loss: 0.3403 - val_categorical_accuracy: 0.8530\n",
      "Epoch 22/10000\n",
      "471/471 [==============================] - 12s 25ms/step - loss: 0.3375 - categorical_accuracy: 0.8545 - val_loss: 0.3501 - val_categorical_accuracy: 0.8498\n",
      "Epoch 23/10000\n",
      "471/471 [==============================] - 12s 25ms/step - loss: 0.3366 - categorical_accuracy: 0.8558 - val_loss: 0.3420 - val_categorical_accuracy: 0.8530\n",
      "Epoch 24/10000\n",
      "471/471 [==============================] - 12s 25ms/step - loss: 0.3364 - categorical_accuracy: 0.8561 - val_loss: 0.3406 - val_categorical_accuracy: 0.8534\n",
      "Epoch 25/10000\n",
      "471/471 [==============================] - 12s 25ms/step - loss: 0.3346 - categorical_accuracy: 0.8584 - val_loss: 0.3325 - val_categorical_accuracy: 0.8632\n",
      "Epoch 26/10000\n",
      "471/471 [==============================] - 12s 26ms/step - loss: 0.3342 - categorical_accuracy: 0.8563 - val_loss: 0.3408 - val_categorical_accuracy: 0.8537\n",
      "Epoch 27/10000\n",
      "471/471 [==============================] - 12s 26ms/step - loss: 0.3325 - categorical_accuracy: 0.8578 - val_loss: 0.3404 - val_categorical_accuracy: 0.8540\n",
      "Epoch 28/10000\n",
      "471/471 [==============================] - 12s 25ms/step - loss: 0.3324 - categorical_accuracy: 0.8566 - val_loss: 0.3427 - val_categorical_accuracy: 0.8540\n",
      "Epoch 29/10000\n",
      "471/471 [==============================] - 12s 26ms/step - loss: 0.3317 - categorical_accuracy: 0.8582 - val_loss: 0.3330 - val_categorical_accuracy: 0.8596\n",
      "Epoch 30/10000\n",
      "471/471 [==============================] - 12s 26ms/step - loss: 0.3309 - categorical_accuracy: 0.8586 - val_loss: 0.3371 - val_categorical_accuracy: 0.8560\n",
      "Epoch 31/10000\n",
      "471/471 [==============================] - 12s 26ms/step - loss: 0.3299 - categorical_accuracy: 0.8584 - val_loss: 0.3468 - val_categorical_accuracy: 0.8540\n",
      "Epoch 32/10000\n",
      "471/471 [==============================] - 12s 25ms/step - loss: 0.3291 - categorical_accuracy: 0.8591 - val_loss: 0.3307 - val_categorical_accuracy: 0.8625\n",
      "Epoch 33/10000\n",
      "471/471 [==============================] - 12s 25ms/step - loss: 0.3289 - categorical_accuracy: 0.8590 - val_loss: 0.3304 - val_categorical_accuracy: 0.8632\n",
      "Epoch 34/10000\n",
      "471/471 [==============================] - 12s 26ms/step - loss: 0.3280 - categorical_accuracy: 0.8592 - val_loss: 0.3402 - val_categorical_accuracy: 0.8550\n",
      "Epoch 35/10000\n",
      "471/471 [==============================] - 13s 27ms/step - loss: 0.3266 - categorical_accuracy: 0.8611 - val_loss: 0.3556 - val_categorical_accuracy: 0.8488\n",
      "Epoch 36/10000\n",
      "471/471 [==============================] - 12s 26ms/step - loss: 0.3273 - categorical_accuracy: 0.8593 - val_loss: 0.3371 - val_categorical_accuracy: 0.8570\n",
      "Epoch 37/10000\n",
      "471/471 [==============================] - 12s 25ms/step - loss: 0.3265 - categorical_accuracy: 0.8596 - val_loss: 0.3328 - val_categorical_accuracy: 0.8586\n",
      "Epoch 38/10000\n",
      "471/471 [==============================] - 12s 25ms/step - loss: 0.3258 - categorical_accuracy: 0.8606 - val_loss: 0.3329 - val_categorical_accuracy: 0.8583\n",
      "Epoch 39/10000\n",
      "471/471 [==============================] - 12s 26ms/step - loss: 0.3249 - categorical_accuracy: 0.8605 - val_loss: 0.3323 - val_categorical_accuracy: 0.8589\n",
      "Epoch 40/10000\n",
      "471/471 [==============================] - 12s 26ms/step - loss: 0.3243 - categorical_accuracy: 0.8619 - val_loss: 0.3286 - val_categorical_accuracy: 0.8651\n",
      "Epoch 41/10000\n",
      "471/471 [==============================] - 12s 26ms/step - loss: 0.3236 - categorical_accuracy: 0.8619 - val_loss: 0.3256 - val_categorical_accuracy: 0.8674\n",
      "Epoch 42/10000\n",
      "471/471 [==============================] - 12s 25ms/step - loss: 0.3237 - categorical_accuracy: 0.8622 - val_loss: 0.3320 - val_categorical_accuracy: 0.8606\n",
      "Epoch 43/10000\n",
      "471/471 [==============================] - 12s 26ms/step - loss: 0.3228 - categorical_accuracy: 0.8628 - val_loss: 0.3312 - val_categorical_accuracy: 0.8619\n",
      "Epoch 44/10000\n",
      "471/471 [==============================] - 12s 26ms/step - loss: 0.3226 - categorical_accuracy: 0.8618 - val_loss: 0.3412 - val_categorical_accuracy: 0.8579\n",
      "Epoch 45/10000\n",
      "471/471 [==============================] - 12s 26ms/step - loss: 0.3216 - categorical_accuracy: 0.8637 - val_loss: 0.3393 - val_categorical_accuracy: 0.8589\n",
      "Epoch 46/10000\n",
      "471/471 [==============================] - 12s 26ms/step - loss: 0.3209 - categorical_accuracy: 0.8638 - val_loss: 0.3308 - val_categorical_accuracy: 0.8622\n",
      "Epoch 47/10000\n",
      "471/471 [==============================] - 12s 25ms/step - loss: 0.3209 - categorical_accuracy: 0.8642 - val_loss: 0.3288 - val_categorical_accuracy: 0.8645\n",
      "Epoch 48/10000\n"
     ]
    },
    {
     "name": "stdout",
     "output_type": "stream",
     "text": [
      "471/471 [==============================] - 12s 25ms/step - loss: 0.3196 - categorical_accuracy: 0.8640 - val_loss: 0.3367 - val_categorical_accuracy: 0.8602\n",
      "Epoch 49/10000\n",
      "471/471 [==============================] - 12s 25ms/step - loss: 0.3198 - categorical_accuracy: 0.8633 - val_loss: 0.3283 - val_categorical_accuracy: 0.8651\n",
      "Epoch 50/10000\n",
      "471/471 [==============================] - 12s 25ms/step - loss: 0.3198 - categorical_accuracy: 0.8642 - val_loss: 0.3258 - val_categorical_accuracy: 0.8651\n",
      "Epoch 51/10000\n",
      "471/471 [==============================] - 12s 26ms/step - loss: 0.3185 - categorical_accuracy: 0.8636 - val_loss: 0.3239 - val_categorical_accuracy: 0.8681\n",
      "Epoch 52/10000\n",
      "471/471 [==============================] - 12s 25ms/step - loss: 0.3181 - categorical_accuracy: 0.8650 - val_loss: 0.3309 - val_categorical_accuracy: 0.8615\n",
      "Epoch 53/10000\n",
      "471/471 [==============================] - 12s 25ms/step - loss: 0.3180 - categorical_accuracy: 0.8648 - val_loss: 0.3303 - val_categorical_accuracy: 0.8619\n",
      "Epoch 54/10000\n",
      "471/471 [==============================] - 12s 25ms/step - loss: 0.3180 - categorical_accuracy: 0.8650 - val_loss: 0.3303 - val_categorical_accuracy: 0.8615\n",
      "Epoch 55/10000\n",
      "471/471 [==============================] - 12s 25ms/step - loss: 0.3172 - categorical_accuracy: 0.8663 - val_loss: 0.3276 - val_categorical_accuracy: 0.8661\n",
      "Epoch 56/10000\n",
      "471/471 [==============================] - 12s 26ms/step - loss: 0.3168 - categorical_accuracy: 0.8671 - val_loss: 0.3476 - val_categorical_accuracy: 0.8563\n",
      "Epoch 57/10000\n",
      "471/471 [==============================] - 12s 26ms/step - loss: 0.3160 - categorical_accuracy: 0.8654 - val_loss: 0.3278 - val_categorical_accuracy: 0.8638\n",
      "Epoch 58/10000\n",
      "471/471 [==============================] - 12s 25ms/step - loss: 0.3157 - categorical_accuracy: 0.8661 - val_loss: 0.3224 - val_categorical_accuracy: 0.8691\n",
      "Epoch 59/10000\n",
      "471/471 [==============================] - 12s 25ms/step - loss: 0.3146 - categorical_accuracy: 0.8667 - val_loss: 0.3247 - val_categorical_accuracy: 0.8694\n",
      "Epoch 60/10000\n",
      "471/471 [==============================] - 12s 25ms/step - loss: 0.3143 - categorical_accuracy: 0.8658 - val_loss: 0.3235 - val_categorical_accuracy: 0.8664\n",
      "Epoch 61/10000\n",
      "471/471 [==============================] - 12s 26ms/step - loss: 0.3140 - categorical_accuracy: 0.8677 - val_loss: 0.3275 - val_categorical_accuracy: 0.8638\n",
      "Epoch 62/10000\n",
      "471/471 [==============================] - 12s 25ms/step - loss: 0.3138 - categorical_accuracy: 0.8685 - val_loss: 0.3280 - val_categorical_accuracy: 0.8632\n",
      "Epoch 63/10000\n",
      "471/471 [==============================] - 12s 26ms/step - loss: 0.3130 - categorical_accuracy: 0.8678 - val_loss: 0.3212 - val_categorical_accuracy: 0.8684\n",
      "Epoch 64/10000\n",
      "471/471 [==============================] - 12s 25ms/step - loss: 0.3125 - categorical_accuracy: 0.8666 - val_loss: 0.3222 - val_categorical_accuracy: 0.8687\n",
      "Epoch 65/10000\n",
      "471/471 [==============================] - 12s 25ms/step - loss: 0.3126 - categorical_accuracy: 0.8684 - val_loss: 0.3225 - val_categorical_accuracy: 0.8697\n",
      "Epoch 66/10000\n",
      "471/471 [==============================] - 12s 26ms/step - loss: 0.3122 - categorical_accuracy: 0.8671 - val_loss: 0.3243 - val_categorical_accuracy: 0.8681\n",
      "Epoch 67/10000\n",
      "471/471 [==============================] - 12s 25ms/step - loss: 0.3112 - categorical_accuracy: 0.8685 - val_loss: 0.3234 - val_categorical_accuracy: 0.8671\n",
      "Epoch 68/10000\n",
      "471/471 [==============================] - 12s 26ms/step - loss: 0.3110 - categorical_accuracy: 0.8705 - val_loss: 0.3260 - val_categorical_accuracy: 0.8658\n",
      "Epoch 69/10000\n",
      "471/471 [==============================] - 12s 25ms/step - loss: 0.3103 - categorical_accuracy: 0.8685 - val_loss: 0.3227 - val_categorical_accuracy: 0.8678\n",
      "Epoch 70/10000\n",
      "471/471 [==============================] - 12s 26ms/step - loss: 0.3097 - categorical_accuracy: 0.8704 - val_loss: 0.3258 - val_categorical_accuracy: 0.8655\n",
      "Epoch 71/10000\n",
      "471/471 [==============================] - 12s 26ms/step - loss: 0.3095 - categorical_accuracy: 0.8687 - val_loss: 0.3219 - val_categorical_accuracy: 0.8684\n",
      "Epoch 72/10000\n",
      "471/471 [==============================] - 12s 25ms/step - loss: 0.3089 - categorical_accuracy: 0.8702 - val_loss: 0.3288 - val_categorical_accuracy: 0.8632\n",
      "Epoch 73/10000\n",
      "471/471 [==============================] - 12s 25ms/step - loss: 0.3090 - categorical_accuracy: 0.8709 - val_loss: 0.3322 - val_categorical_accuracy: 0.8632\n",
      "Epoch 74/10000\n",
      "471/471 [==============================] - 12s 25ms/step - loss: 0.3085 - categorical_accuracy: 0.8696 - val_loss: 0.3217 - val_categorical_accuracy: 0.8674\n",
      "Epoch 75/10000\n",
      "471/471 [==============================] - 12s 25ms/step - loss: 0.3078 - categorical_accuracy: 0.8714 - val_loss: 0.3253 - val_categorical_accuracy: 0.8668\n",
      "Epoch 76/10000\n",
      "471/471 [==============================] - 12s 26ms/step - loss: 0.3073 - categorical_accuracy: 0.8733 - val_loss: 0.3245 - val_categorical_accuracy: 0.8671\n",
      "Epoch 77/10000\n",
      "471/471 [==============================] - 12s 25ms/step - loss: 0.3070 - categorical_accuracy: 0.8724 - val_loss: 0.3186 - val_categorical_accuracy: 0.8694\n",
      "Epoch 78/10000\n",
      "471/471 [==============================] - 12s 25ms/step - loss: 0.3067 - categorical_accuracy: 0.8712 - val_loss: 0.3187 - val_categorical_accuracy: 0.8707\n",
      "Epoch 79/10000\n",
      "471/471 [==============================] - 12s 25ms/step - loss: 0.3067 - categorical_accuracy: 0.8715 - val_loss: 0.3223 - val_categorical_accuracy: 0.8678\n",
      "Epoch 80/10000\n",
      "471/471 [==============================] - 12s 25ms/step - loss: 0.3054 - categorical_accuracy: 0.8716 - val_loss: 0.3312 - val_categorical_accuracy: 0.8632\n",
      "Epoch 81/10000\n",
      "471/471 [==============================] - 12s 26ms/step - loss: 0.3053 - categorical_accuracy: 0.8717 - val_loss: 0.3233 - val_categorical_accuracy: 0.8678\n",
      "Epoch 82/10000\n",
      "471/471 [==============================] - 12s 25ms/step - loss: 0.3050 - categorical_accuracy: 0.8741 - val_loss: 0.3224 - val_categorical_accuracy: 0.8687\n",
      "Epoch 83/10000\n",
      "471/471 [==============================] - 12s 25ms/step - loss: 0.3048 - categorical_accuracy: 0.8733 - val_loss: 0.3180 - val_categorical_accuracy: 0.8717\n",
      "Epoch 84/10000\n",
      "471/471 [==============================] - 12s 26ms/step - loss: 0.3043 - categorical_accuracy: 0.8714 - val_loss: 0.3217 - val_categorical_accuracy: 0.8687\n",
      "Epoch 85/10000\n",
      "471/471 [==============================] - 12s 25ms/step - loss: 0.3041 - categorical_accuracy: 0.8731 - val_loss: 0.3334 - val_categorical_accuracy: 0.8628\n",
      "Epoch 86/10000\n",
      "471/471 [==============================] - 12s 26ms/step - loss: 0.3035 - categorical_accuracy: 0.8735 - val_loss: 0.3232 - val_categorical_accuracy: 0.8687\n",
      "Epoch 87/10000\n",
      "471/471 [==============================] - 12s 26ms/step - loss: 0.3035 - categorical_accuracy: 0.8750 - val_loss: 0.3209 - val_categorical_accuracy: 0.8687\n",
      "Epoch 88/10000\n",
      "471/471 [==============================] - 12s 25ms/step - loss: 0.3028 - categorical_accuracy: 0.8729 - val_loss: 0.3257 - val_categorical_accuracy: 0.8661\n",
      "Epoch 89/10000\n",
      "471/471 [==============================] - 12s 25ms/step - loss: 0.3032 - categorical_accuracy: 0.8722 - val_loss: 0.3224 - val_categorical_accuracy: 0.8684\n",
      "Epoch 90/10000\n",
      "471/471 [==============================] - 12s 26ms/step - loss: 0.3025 - categorical_accuracy: 0.8740 - val_loss: 0.3231 - val_categorical_accuracy: 0.8684\n",
      "Epoch 91/10000\n",
      "471/471 [==============================] - 12s 26ms/step - loss: 0.3021 - categorical_accuracy: 0.8733 - val_loss: 0.3182 - val_categorical_accuracy: 0.8704\n",
      "Epoch 92/10000\n",
      "471/471 [==============================] - 12s 26ms/step - loss: 0.3013 - categorical_accuracy: 0.8734 - val_loss: 0.3197 - val_categorical_accuracy: 0.8694\n",
      "Epoch 93/10000\n",
      "471/471 [==============================] - 12s 25ms/step - loss: 0.3011 - categorical_accuracy: 0.8747 - val_loss: 0.3174 - val_categorical_accuracy: 0.8720\n",
      "Epoch 94/10000\n",
      "471/471 [==============================] - 12s 25ms/step - loss: 0.3003 - categorical_accuracy: 0.8747 - val_loss: 0.3358 - val_categorical_accuracy: 0.8619\n",
      "Epoch 95/10000\n",
      "471/471 [==============================] - 12s 26ms/step - loss: 0.3003 - categorical_accuracy: 0.8756 - val_loss: 0.3178 - val_categorical_accuracy: 0.8704\n"
     ]
    },
    {
     "name": "stdout",
     "output_type": "stream",
     "text": [
      "Epoch 96/10000\n",
      "471/471 [==============================] - 12s 25ms/step - loss: 0.2998 - categorical_accuracy: 0.8750 - val_loss: 0.3318 - val_categorical_accuracy: 0.8632\n",
      "Epoch 97/10000\n",
      "471/471 [==============================] - 12s 25ms/step - loss: 0.2995 - categorical_accuracy: 0.8757 - val_loss: 0.3194 - val_categorical_accuracy: 0.8691\n",
      "Epoch 98/10000\n",
      "471/471 [==============================] - 12s 25ms/step - loss: 0.2992 - categorical_accuracy: 0.8747 - val_loss: 0.3167 - val_categorical_accuracy: 0.8720\n",
      "Epoch 99/10000\n",
      "471/471 [==============================] - 12s 25ms/step - loss: 0.2992 - categorical_accuracy: 0.8754 - val_loss: 0.3182 - val_categorical_accuracy: 0.8700\n",
      "Epoch 100/10000\n",
      "471/471 [==============================] - 12s 25ms/step - loss: 0.2987 - categorical_accuracy: 0.8754 - val_loss: 0.3165 - val_categorical_accuracy: 0.8723\n",
      "Epoch 101/10000\n",
      "471/471 [==============================] - 12s 25ms/step - loss: 0.2983 - categorical_accuracy: 0.8749 - val_loss: 0.3164 - val_categorical_accuracy: 0.8723\n",
      "Epoch 102/10000\n",
      "471/471 [==============================] - 12s 25ms/step - loss: 0.2983 - categorical_accuracy: 0.8752 - val_loss: 0.3310 - val_categorical_accuracy: 0.8632\n",
      "Epoch 103/10000\n",
      "471/471 [==============================] - 12s 25ms/step - loss: 0.2972 - categorical_accuracy: 0.8765 - val_loss: 0.3224 - val_categorical_accuracy: 0.8681\n",
      "Epoch 104/10000\n",
      "471/471 [==============================] - 12s 25ms/step - loss: 0.2976 - categorical_accuracy: 0.8760 - val_loss: 0.3186 - val_categorical_accuracy: 0.8700\n",
      "Epoch 105/10000\n",
      "471/471 [==============================] - 12s 25ms/step - loss: 0.2972 - categorical_accuracy: 0.8779 - val_loss: 0.3264 - val_categorical_accuracy: 0.8638\n",
      "Epoch 106/10000\n",
      "471/471 [==============================] - 12s 25ms/step - loss: 0.2967 - categorical_accuracy: 0.8758 - val_loss: 0.3196 - val_categorical_accuracy: 0.8694\n",
      "Epoch 107/10000\n",
      "471/471 [==============================] - 12s 25ms/step - loss: 0.2967 - categorical_accuracy: 0.8766 - val_loss: 0.3206 - val_categorical_accuracy: 0.8671\n",
      "Epoch 108/10000\n",
      "471/471 [==============================] - 12s 25ms/step - loss: 0.2956 - categorical_accuracy: 0.8762 - val_loss: 0.3213 - val_categorical_accuracy: 0.8671\n",
      "Epoch 109/10000\n",
      "471/471 [==============================] - 12s 25ms/step - loss: 0.2955 - categorical_accuracy: 0.8762 - val_loss: 0.3203 - val_categorical_accuracy: 0.8681\n",
      "Epoch 110/10000\n",
      "471/471 [==============================] - 12s 25ms/step - loss: 0.2952 - categorical_accuracy: 0.8772 - val_loss: 0.3197 - val_categorical_accuracy: 0.8681\n",
      "Epoch 111/10000\n",
      "471/471 [==============================] - 12s 25ms/step - loss: 0.2948 - categorical_accuracy: 0.8756 - val_loss: 0.3231 - val_categorical_accuracy: 0.8664\n",
      "Epoch 112/10000\n",
      "471/471 [==============================] - 12s 25ms/step - loss: 0.2947 - categorical_accuracy: 0.8771 - val_loss: 0.3191 - val_categorical_accuracy: 0.8681\n",
      "Epoch 113/10000\n",
      "471/471 [==============================] - 12s 25ms/step - loss: 0.2942 - categorical_accuracy: 0.8776 - val_loss: 0.3157 - val_categorical_accuracy: 0.8730\n",
      "Epoch 114/10000\n",
      "471/471 [==============================] - 12s 25ms/step - loss: 0.2941 - categorical_accuracy: 0.8783 - val_loss: 0.3270 - val_categorical_accuracy: 0.8638\n",
      "Epoch 115/10000\n",
      "471/471 [==============================] - 12s 25ms/step - loss: 0.2938 - categorical_accuracy: 0.8786 - val_loss: 0.3206 - val_categorical_accuracy: 0.8681\n",
      "Epoch 116/10000\n",
      "471/471 [==============================] - 12s 25ms/step - loss: 0.2935 - categorical_accuracy: 0.8775 - val_loss: 0.3163 - val_categorical_accuracy: 0.8736\n",
      "Epoch 117/10000\n",
      "471/471 [==============================] - 12s 25ms/step - loss: 0.2930 - categorical_accuracy: 0.8798 - val_loss: 0.3224 - val_categorical_accuracy: 0.8664\n",
      "Epoch 118/10000\n",
      "471/471 [==============================] - 12s 25ms/step - loss: 0.2929 - categorical_accuracy: 0.8778 - val_loss: 0.3230 - val_categorical_accuracy: 0.8661\n",
      "Epoch 119/10000\n",
      "471/471 [==============================] - 12s 25ms/step - loss: 0.2924 - categorical_accuracy: 0.8793 - val_loss: 0.3175 - val_categorical_accuracy: 0.8704\n",
      "Epoch 120/10000\n",
      "471/471 [==============================] - 12s 25ms/step - loss: 0.2921 - categorical_accuracy: 0.8790 - val_loss: 0.3237 - val_categorical_accuracy: 0.8664\n",
      "Epoch 121/10000\n",
      "471/471 [==============================] - 12s 25ms/step - loss: 0.2919 - categorical_accuracy: 0.8782 - val_loss: 0.3151 - val_categorical_accuracy: 0.8730\n",
      "Epoch 122/10000\n",
      "471/471 [==============================] - 12s 25ms/step - loss: 0.2915 - categorical_accuracy: 0.8788 - val_loss: 0.3137 - val_categorical_accuracy: 0.8730\n",
      "Epoch 123/10000\n",
      "471/471 [==============================] - 12s 25ms/step - loss: 0.2914 - categorical_accuracy: 0.8802 - val_loss: 0.3234 - val_categorical_accuracy: 0.8668\n",
      "Epoch 124/10000\n",
      "471/471 [==============================] - 12s 25ms/step - loss: 0.2912 - categorical_accuracy: 0.8792 - val_loss: 0.3157 - val_categorical_accuracy: 0.8730\n",
      "Epoch 125/10000\n",
      "471/471 [==============================] - 12s 25ms/step - loss: 0.2909 - categorical_accuracy: 0.8798 - val_loss: 0.3157 - val_categorical_accuracy: 0.8727\n",
      "Epoch 126/10000\n",
      "471/471 [==============================] - 12s 25ms/step - loss: 0.2903 - categorical_accuracy: 0.8801 - val_loss: 0.3177 - val_categorical_accuracy: 0.8697\n",
      "Epoch 127/10000\n",
      "471/471 [==============================] - 12s 25ms/step - loss: 0.2901 - categorical_accuracy: 0.8795 - val_loss: 0.3214 - val_categorical_accuracy: 0.8668\n",
      "Epoch 128/10000\n",
      "471/471 [==============================] - 12s 25ms/step - loss: 0.2897 - categorical_accuracy: 0.8814 - val_loss: 0.3140 - val_categorical_accuracy: 0.8746\n",
      "Epoch 129/10000\n",
      "471/471 [==============================] - 12s 25ms/step - loss: 0.2893 - categorical_accuracy: 0.8804 - val_loss: 0.3198 - val_categorical_accuracy: 0.8678\n",
      "Epoch 130/10000\n",
      "471/471 [==============================] - 12s 25ms/step - loss: 0.2893 - categorical_accuracy: 0.8800 - val_loss: 0.3266 - val_categorical_accuracy: 0.8635\n",
      "Epoch 131/10000\n",
      "471/471 [==============================] - 12s 25ms/step - loss: 0.2890 - categorical_accuracy: 0.8806 - val_loss: 0.3150 - val_categorical_accuracy: 0.8733\n",
      "Epoch 132/10000\n",
      "471/471 [==============================] - 12s 26ms/step - loss: 0.2889 - categorical_accuracy: 0.8816 - val_loss: 0.3147 - val_categorical_accuracy: 0.8727\n",
      "Epoch 133/10000\n",
      "471/471 [==============================] - 12s 25ms/step - loss: 0.2888 - categorical_accuracy: 0.8804 - val_loss: 0.3131 - val_categorical_accuracy: 0.8733\n",
      "Epoch 134/10000\n",
      "471/471 [==============================] - 12s 25ms/step - loss: 0.2882 - categorical_accuracy: 0.8804 - val_loss: 0.3143 - val_categorical_accuracy: 0.8736\n",
      "Epoch 135/10000\n",
      "471/471 [==============================] - 12s 25ms/step - loss: 0.2881 - categorical_accuracy: 0.8820 - val_loss: 0.3199 - val_categorical_accuracy: 0.8681\n",
      "Epoch 136/10000\n",
      "471/471 [==============================] - 12s 25ms/step - loss: 0.2878 - categorical_accuracy: 0.8810 - val_loss: 0.3158 - val_categorical_accuracy: 0.8730\n",
      "Epoch 137/10000\n",
      "471/471 [==============================] - 12s 25ms/step - loss: 0.2876 - categorical_accuracy: 0.8808 - val_loss: 0.3159 - val_categorical_accuracy: 0.8730\n",
      "Epoch 138/10000\n",
      "471/471 [==============================] - 12s 26ms/step - loss: 0.2873 - categorical_accuracy: 0.8813 - val_loss: 0.3133 - val_categorical_accuracy: 0.8743\n",
      "Epoch 139/10000\n",
      "471/471 [==============================] - 12s 25ms/step - loss: 0.2871 - categorical_accuracy: 0.8828 - val_loss: 0.3144 - val_categorical_accuracy: 0.8723\n",
      "Epoch 140/10000\n",
      "471/471 [==============================] - 12s 25ms/step - loss: 0.2865 - categorical_accuracy: 0.8816 - val_loss: 0.3251 - val_categorical_accuracy: 0.8645\n",
      "Epoch 141/10000\n",
      "471/471 [==============================] - 12s 25ms/step - loss: 0.2867 - categorical_accuracy: 0.8824 - val_loss: 0.3178 - val_categorical_accuracy: 0.8704\n",
      "Epoch 142/10000\n",
      "471/471 [==============================] - 12s 25ms/step - loss: 0.2866 - categorical_accuracy: 0.8818 - val_loss: 0.3198 - val_categorical_accuracy: 0.8681\n",
      "Epoch 143/10000\n"
     ]
    },
    {
     "name": "stdout",
     "output_type": "stream",
     "text": [
      "471/471 [==============================] - 12s 25ms/step - loss: 0.2860 - categorical_accuracy: 0.8816 - val_loss: 0.3153 - val_categorical_accuracy: 0.8736\n",
      "Epoch 144/10000\n",
      "471/471 [==============================] - 12s 25ms/step - loss: 0.2860 - categorical_accuracy: 0.8821 - val_loss: 0.3219 - val_categorical_accuracy: 0.8668\n",
      "Epoch 145/10000\n",
      "471/471 [==============================] - 12s 25ms/step - loss: 0.2856 - categorical_accuracy: 0.8838 - val_loss: 0.3202 - val_categorical_accuracy: 0.8678\n",
      "Epoch 146/10000\n",
      "471/471 [==============================] - 12s 25ms/step - loss: 0.2851 - categorical_accuracy: 0.8827 - val_loss: 0.3353 - val_categorical_accuracy: 0.8632\n",
      "Epoch 147/10000\n",
      "471/471 [==============================] - 12s 25ms/step - loss: 0.2849 - categorical_accuracy: 0.8832 - val_loss: 0.3127 - val_categorical_accuracy: 0.8743\n",
      "Epoch 148/10000\n",
      "471/471 [==============================] - 12s 25ms/step - loss: 0.2852 - categorical_accuracy: 0.8817 - val_loss: 0.3117 - val_categorical_accuracy: 0.8750\n",
      "Epoch 149/10000\n",
      "471/471 [==============================] - 12s 25ms/step - loss: 0.2846 - categorical_accuracy: 0.8821 - val_loss: 0.3236 - val_categorical_accuracy: 0.8661\n",
      "Epoch 150/10000\n",
      "471/471 [==============================] - 12s 25ms/step - loss: 0.2846 - categorical_accuracy: 0.8830 - val_loss: 0.3158 - val_categorical_accuracy: 0.8720\n",
      "Epoch 151/10000\n",
      "471/471 [==============================] - 12s 25ms/step - loss: 0.2837 - categorical_accuracy: 0.8828 - val_loss: 0.3141 - val_categorical_accuracy: 0.8736\n",
      "Epoch 152/10000\n",
      "471/471 [==============================] - 12s 25ms/step - loss: 0.2839 - categorical_accuracy: 0.8839 - val_loss: 0.3133 - val_categorical_accuracy: 0.8723\n",
      "Epoch 153/10000\n",
      "471/471 [==============================] - 12s 25ms/step - loss: 0.2838 - categorical_accuracy: 0.8829 - val_loss: 0.3153 - val_categorical_accuracy: 0.8720\n",
      "Epoch 154/10000\n",
      "471/471 [==============================] - 12s 25ms/step - loss: 0.2834 - categorical_accuracy: 0.8830 - val_loss: 0.3138 - val_categorical_accuracy: 0.8730\n",
      "Epoch 155/10000\n",
      "471/471 [==============================] - 12s 25ms/step - loss: 0.2829 - categorical_accuracy: 0.8835 - val_loss: 0.3195 - val_categorical_accuracy: 0.8691\n",
      "Epoch 156/10000\n",
      "471/471 [==============================] - 12s 25ms/step - loss: 0.2824 - categorical_accuracy: 0.8832 - val_loss: 0.3125 - val_categorical_accuracy: 0.8746\n",
      "Epoch 157/10000\n",
      "471/471 [==============================] - 12s 25ms/step - loss: 0.2832 - categorical_accuracy: 0.8834 - val_loss: 0.3184 - val_categorical_accuracy: 0.8691\n",
      "Epoch 158/10000\n",
      "471/471 [==============================] - 12s 25ms/step - loss: 0.2828 - categorical_accuracy: 0.8846 - val_loss: 0.3207 - val_categorical_accuracy: 0.8674\n",
      "Epoch 159/10000\n",
      "471/471 [==============================] - 14s 29ms/step - loss: 0.2819 - categorical_accuracy: 0.8847 - val_loss: 0.3146 - val_categorical_accuracy: 0.8727\n",
      "Epoch 160/10000\n",
      "471/471 [==============================] - 12s 25ms/step - loss: 0.2818 - categorical_accuracy: 0.8847 - val_loss: 0.3185 - val_categorical_accuracy: 0.8694\n",
      "Epoch 161/10000\n",
      "471/471 [==============================] - 12s 25ms/step - loss: 0.2821 - categorical_accuracy: 0.8828 - val_loss: 0.3156 - val_categorical_accuracy: 0.8707\n",
      "Epoch 162/10000\n",
      "471/471 [==============================] - 12s 25ms/step - loss: 0.2818 - categorical_accuracy: 0.8834 - val_loss: 0.3136 - val_categorical_accuracy: 0.8730\n",
      "Epoch 163/10000\n",
      "471/471 [==============================] - 12s 25ms/step - loss: 0.2811 - categorical_accuracy: 0.8841 - val_loss: 0.3131 - val_categorical_accuracy: 0.8743\n",
      "Epoch 164/10000\n",
      "471/471 [==============================] - 12s 25ms/step - loss: 0.2812 - categorical_accuracy: 0.8846 - val_loss: 0.3135 - val_categorical_accuracy: 0.8730\n",
      "Epoch 165/10000\n",
      "471/471 [==============================] - 12s 25ms/step - loss: 0.2811 - categorical_accuracy: 0.8852 - val_loss: 0.3150 - val_categorical_accuracy: 0.8714\n",
      "Epoch 166/10000\n",
      "471/471 [==============================] - 12s 25ms/step - loss: 0.2806 - categorical_accuracy: 0.8846 - val_loss: 0.3133 - val_categorical_accuracy: 0.8733\n",
      "Epoch 167/10000\n",
      "471/471 [==============================] - 12s 25ms/step - loss: 0.2805 - categorical_accuracy: 0.8854 - val_loss: 0.3179 - val_categorical_accuracy: 0.8694\n",
      "Epoch 168/10000\n",
      "471/471 [==============================] - 12s 25ms/step - loss: 0.2805 - categorical_accuracy: 0.8857 - val_loss: 0.3144 - val_categorical_accuracy: 0.8733\n",
      "Epoch 169/10000\n",
      "471/471 [==============================] - 12s 25ms/step - loss: 0.2802 - categorical_accuracy: 0.8847 - val_loss: 0.3106 - val_categorical_accuracy: 0.8759\n",
      "Epoch 170/10000\n",
      "471/471 [==============================] - 12s 25ms/step - loss: 0.2802 - categorical_accuracy: 0.8854 - val_loss: 0.3164 - val_categorical_accuracy: 0.8710\n",
      "Epoch 171/10000\n",
      "471/471 [==============================] - 12s 25ms/step - loss: 0.2794 - categorical_accuracy: 0.8852 - val_loss: 0.3134 - val_categorical_accuracy: 0.8736\n",
      "Epoch 172/10000\n",
      "471/471 [==============================] - 12s 25ms/step - loss: 0.2793 - categorical_accuracy: 0.8855 - val_loss: 0.3117 - val_categorical_accuracy: 0.8743\n",
      "Epoch 173/10000\n",
      "471/471 [==============================] - 12s 25ms/step - loss: 0.2794 - categorical_accuracy: 0.8859 - val_loss: 0.3151 - val_categorical_accuracy: 0.8714\n",
      "Epoch 174/10000\n",
      "471/471 [==============================] - 12s 25ms/step - loss: 0.2788 - categorical_accuracy: 0.8853 - val_loss: 0.3157 - val_categorical_accuracy: 0.8717\n",
      "Epoch 175/10000\n",
      "471/471 [==============================] - 12s 25ms/step - loss: 0.2790 - categorical_accuracy: 0.8859 - val_loss: 0.3132 - val_categorical_accuracy: 0.8740\n",
      "Epoch 176/10000\n",
      "471/471 [==============================] - 12s 25ms/step - loss: 0.2785 - categorical_accuracy: 0.8877 - val_loss: 0.3118 - val_categorical_accuracy: 0.8750\n",
      "Epoch 177/10000\n",
      "471/471 [==============================] - 12s 25ms/step - loss: 0.2783 - categorical_accuracy: 0.8846 - val_loss: 0.3121 - val_categorical_accuracy: 0.8740\n",
      "Epoch 178/10000\n",
      "471/471 [==============================] - 12s 25ms/step - loss: 0.2780 - categorical_accuracy: 0.8854 - val_loss: 0.3115 - val_categorical_accuracy: 0.8750\n",
      "Epoch 179/10000\n",
      "471/471 [==============================] - 12s 25ms/step - loss: 0.2780 - categorical_accuracy: 0.8853 - val_loss: 0.3134 - val_categorical_accuracy: 0.8733\n",
      "Epoch 180/10000\n",
      "471/471 [==============================] - 12s 25ms/step - loss: 0.2780 - categorical_accuracy: 0.8855 - val_loss: 0.3117 - val_categorical_accuracy: 0.8740\n",
      "Epoch 181/10000\n",
      "471/471 [==============================] - 12s 25ms/step - loss: 0.2774 - categorical_accuracy: 0.8858 - val_loss: 0.3118 - val_categorical_accuracy: 0.8743\n",
      "Epoch 182/10000\n",
      "471/471 [==============================] - 12s 26ms/step - loss: 0.2774 - categorical_accuracy: 0.8871 - val_loss: 0.3255 - val_categorical_accuracy: 0.8678\n",
      "Epoch 183/10000\n",
      "471/471 [==============================] - 12s 25ms/step - loss: 0.2774 - categorical_accuracy: 0.8857 - val_loss: 0.3181 - val_categorical_accuracy: 0.8684\n",
      "Epoch 184/10000\n",
      "471/471 [==============================] - 12s 25ms/step - loss: 0.2774 - categorical_accuracy: 0.8853 - val_loss: 0.3126 - val_categorical_accuracy: 0.8746\n",
      "Epoch 185/10000\n",
      "471/471 [==============================] - 12s 25ms/step - loss: 0.2768 - categorical_accuracy: 0.8855 - val_loss: 0.3123 - val_categorical_accuracy: 0.8727\n",
      "Epoch 186/10000\n",
      "471/471 [==============================] - 12s 25ms/step - loss: 0.2769 - categorical_accuracy: 0.8852 - val_loss: 0.3110 - val_categorical_accuracy: 0.8743\n",
      "Epoch 187/10000\n",
      "471/471 [==============================] - 12s 25ms/step - loss: 0.2761 - categorical_accuracy: 0.8862 - val_loss: 0.3163 - val_categorical_accuracy: 0.8704\n",
      "Epoch 188/10000\n",
      "471/471 [==============================] - 12s 25ms/step - loss: 0.2766 - categorical_accuracy: 0.8851 - val_loss: 0.3203 - val_categorical_accuracy: 0.8697\n",
      "Epoch 189/10000\n",
      "471/471 [==============================] - 12s 25ms/step - loss: 0.2762 - categorical_accuracy: 0.8863 - val_loss: 0.3212 - val_categorical_accuracy: 0.8694\n",
      "Epoch 190/10000\n"
     ]
    },
    {
     "name": "stdout",
     "output_type": "stream",
     "text": [
      "471/471 [==============================] - 12s 25ms/step - loss: 0.2761 - categorical_accuracy: 0.8861 - val_loss: 0.3100 - val_categorical_accuracy: 0.8743\n",
      "Epoch 191/10000\n",
      "471/471 [==============================] - 12s 25ms/step - loss: 0.2757 - categorical_accuracy: 0.8861 - val_loss: 0.3198 - val_categorical_accuracy: 0.8700\n",
      "Epoch 192/10000\n",
      "471/471 [==============================] - 12s 25ms/step - loss: 0.2757 - categorical_accuracy: 0.8862 - val_loss: 0.3160 - val_categorical_accuracy: 0.8707\n",
      "Epoch 193/10000\n",
      "471/471 [==============================] - 12s 25ms/step - loss: 0.2755 - categorical_accuracy: 0.8866 - val_loss: 0.3100 - val_categorical_accuracy: 0.8740\n",
      "Epoch 194/10000\n",
      "471/471 [==============================] - 12s 25ms/step - loss: 0.2753 - categorical_accuracy: 0.8876 - val_loss: 0.3181 - val_categorical_accuracy: 0.8694\n",
      "Epoch 195/10000\n",
      "471/471 [==============================] - 12s 25ms/step - loss: 0.2752 - categorical_accuracy: 0.8863 - val_loss: 0.3146 - val_categorical_accuracy: 0.8720\n",
      "Epoch 196/10000\n",
      "471/471 [==============================] - 12s 25ms/step - loss: 0.2746 - categorical_accuracy: 0.8879 - val_loss: 0.3096 - val_categorical_accuracy: 0.8743\n",
      "Epoch 197/10000\n",
      "471/471 [==============================] - 12s 25ms/step - loss: 0.2742 - categorical_accuracy: 0.8871 - val_loss: 0.3122 - val_categorical_accuracy: 0.8740\n",
      "Epoch 198/10000\n",
      "471/471 [==============================] - 12s 25ms/step - loss: 0.2743 - categorical_accuracy: 0.8867 - val_loss: 0.3092 - val_categorical_accuracy: 0.8743\n",
      "Epoch 199/10000\n",
      "471/471 [==============================] - 12s 25ms/step - loss: 0.2745 - categorical_accuracy: 0.8865 - val_loss: 0.3096 - val_categorical_accuracy: 0.8746\n",
      "stop  00:08:04\n",
      "Took =  0:39:39.734760\n"
     ]
    }
   ],
   "source": [
    "history_SC_CNN_1 = FitModel(model_SC_CNN_1)"
   ]
  },
  {
   "cell_type": "code",
   "execution_count": 79,
   "metadata": {},
   "outputs": [
    {
     "data": {
      "image/png": "[encoded data removed]",
      "text/plain": [
       "<Figure size 720x360 with 2 Axes>"
      ]
     },
     "metadata": {
      "needs_background": "light"
     },
     "output_type": "display_data"
    }
   ],
   "source": [
    "PlotModelFitHistory(history_SC_CNN_1)"
   ]
  },
  {
   "cell_type": "code",
   "execution_count": 80,
   "metadata": {},
   "outputs": [],
   "source": [
    "(test_y, pred_y) = PredictModel(model_SC_CNN_1)"
   ]
  },
  {
   "cell_type": "code",
   "execution_count": 81,
   "metadata": {},
   "outputs": [
    {
     "name": "stdout",
     "output_type": "stream",
     "text": [
      "Accuracy score:  0.8860081948291783\n",
      "F1 score:  0.8684104194016404\n",
      "              precision    recall  f1-score   support\n",
      "\n",
      "           0       0.87      0.96      0.92     44974\n",
      "           1       0.92      0.74      0.82     24338\n",
      "\n",
      "    accuracy                           0.89     69312\n",
      "   macro avg       0.90      0.85      0.87     69312\n",
      "weighted avg       0.89      0.89      0.88     69312\n",
      "\n"
     ]
    }
   ],
   "source": [
    "ShowStats(test_y, pred_y)"
   ]
  },
  {
   "cell_type": "code",
   "execution_count": 82,
   "metadata": {},
   "outputs": [
    {
     "data": {
      "image/png": "[encoded data removed]",
      "text/plain": [
       "<Figure size 432x288 with 2 Axes>"
      ]
     },
     "metadata": {
      "needs_background": "light"
     },
     "output_type": "display_data"
    }
   ],
   "source": [
    "PlotConfusionMatrix(test_y, pred_y)"
   ]
  },
  {
   "cell_type": "markdown",
   "metadata": {},
   "source": [
    "### Observations\n",
    "* The model overfitted significantly\n",
    "* Accuracy not correct"
   ]
  },
  {
   "cell_type": "markdown",
   "metadata": {},
   "source": [
    "# 7. SC-CNN 2"
   ]
  },
  {
   "cell_type": "code",
   "execution_count": 83,
   "metadata": {},
   "outputs": [],
   "source": [
    "model_SC_CNN_2 = tf.keras.Sequential([\n",
    "    # Convolution\n",
    "    \n",
    "    tf.keras.layers.Conv2D(24, (4, 4), activation='relu', padding='same', input_shape=INPUT_DIM),\n",
    "    tf.keras.layers.MaxPooling2D((2, 2)),\n",
    "    tf.keras.layers.Conv2D(36, (3, 3), activation='relu', padding='same'),\n",
    "    tf.keras.layers.MaxPooling2D((2, 2)),\n",
    "    \n",
    "    tf.keras.layers.Flatten(),\n",
    "    \n",
    "    tf.keras.layers.Dense(512, activation='relu', kernel_regularizer=tf.keras.regularizers.l2(reg_lambda)),\n",
    "      \n",
    "    tf.keras.layers.Dropout(.2),\n",
    "    \n",
    "    tf.keras.layers.Dense(\n",
    "        OUTPUT_CLASSES, \n",
    "        kernel_regularizer=tf.keras.regularizers.l2(reg_lambda),\n",
    "        activation='sigmoid' )\n",
    "    \n",
    "])"
   ]
  },
  {
   "cell_type": "markdown",
   "metadata": {},
   "source": [
    "Still didn't pickup anything"
   ]
  },
  {
   "cell_type": "markdown",
   "metadata": {},
   "source": [
    "# 8. SC-CNN 3"
   ]
  },
  {
   "cell_type": "code",
   "execution_count": 84,
   "metadata": {},
   "outputs": [],
   "source": [
    "model_SC_CNN_3 = tf.keras.Sequential([\n",
    "    # Convolution\n",
    "    \n",
    "    tf.keras.layers.Conv2D(24, (4, 4), activation='relu', padding='same', input_shape=INPUT_DIM),\n",
    "    tf.keras.layers.MaxPooling2D((2, 2)),\n",
    "    tf.keras.layers.Conv2D(36, (3, 3), activation='relu', padding='same'),\n",
    "    tf.keras.layers.MaxPooling2D((2, 2)),\n",
    "    \n",
    "    tf.keras.layers.Flatten(),\n",
    "    \n",
    "    tf.keras.layers.Dense(512, activation='relu', kernel_regularizer=tf.keras.regularizers.l2(reg_lambda)),\n",
    "        \n",
    "    tf.keras.layers.Dense(\n",
    "        OUTPUT_CLASSES, \n",
    "        kernel_regularizer=tf.keras.regularizers.l2(reg_lambda),\n",
    "        activation='sigmoid' )\n",
    "    \n",
    "])"
   ]
  },
  {
   "cell_type": "code",
   "execution_count": null,
   "metadata": {},
   "outputs": [],
   "source": []
  },
  {
   "cell_type": "markdown",
   "metadata": {},
   "source": [
    "# Model comparison and ultimate judgment"
   ]
  },
  {
   "cell_type": "markdown",
   "metadata": {},
   "source": [
    "The base MLP model show overfitting\n",
    "Using Regularistion resulted in a better model\n",
    "Applying dropout also reduced overfitting but not the the same extent as regularisation \n",
    "\n",
    "Using the base VGG achitecture resulted in a small amount of overfitting\n",
    "As the size of the inputs are quite low reducing the number of convolutions and adding some regulariation in the final MLP \n",
    "latyer might create a better model. \n",
    "\n",
    "All base models showed good results with 100% recall\n",
    "Given the training time and simplicity the MLP with regularisation would be the best model"
   ]
  },
  {
   "cell_type": "markdown",
   "metadata": {},
   "source": [
    "# Questions\n",
    "* Results are the same for all models - looks bad but I can work out why\n",
    "* accuracy jumps around but how to set learning rate?"
   ]
  },
  {
   "cell_type": "code",
   "execution_count": null,
   "metadata": {},
   "outputs": [],
   "source": []
  }
 ],
 "metadata": {
  "kernelspec": {
   "display_name": "Python 3",
   "language": "python",
   "name": "python3"
  },
  "language_info": {
   "codemirror_mode": {
    "name": "ipython",
    "version": 3
   },
   "file_extension": ".py",
   "mimetype": "text/x-python",
   "name": "python",
   "nbconvert_exporter": "python",
   "pygments_lexer": "ipython3",
   "version": "3.8.8"
  }
 },
 "nbformat": 4,
 "nbformat_minor": 4
}
