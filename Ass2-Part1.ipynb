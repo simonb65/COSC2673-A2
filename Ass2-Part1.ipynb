{
 "cells": [
  {
   "cell_type": "markdown",
   "metadata": {},
   "source": [
    "# COCS2673 Assignment 2 P1A - Is or is not cancer prediction"
   ]
  },
  {
   "cell_type": "code",
   "execution_count": 1,
   "metadata": {
    "scrolled": true
   },
   "outputs": [],
   "source": [
    "#!pip install tensorflow"
   ]
  },
  {
   "cell_type": "code",
   "execution_count": 2,
   "metadata": {
    "scrolled": true
   },
   "outputs": [],
   "source": [
    "#import zipfile\n",
    "#with zipfile.ZipFile('./Image_classification_data.zip', 'r') as zip_ref:\n",
    "#   zip_ref.extractall('./')"
   ]
  },
  {
   "cell_type": "code",
   "execution_count": 3,
   "metadata": {
    "scrolled": true
   },
   "outputs": [],
   "source": [
    "#!pwd"
   ]
  },
  {
   "cell_type": "code",
   "execution_count": 4,
   "metadata": {
    "scrolled": true
   },
   "outputs": [
    {
     "data": {
      "text/plain": [
       "'2.4.1'"
      ]
     },
     "execution_count": 4,
     "metadata": {},
     "output_type": "execute_result"
    }
   ],
   "source": [
    "import tensorflow as tf\n",
    "from tensorflow.keras.callbacks import EarlyStopping\n",
    "\n",
    "import IPython.display as display\n",
    "from PIL import Image\n",
    "import pandas as pd\n",
    "import numpy as np\n",
    "import matplotlib.pyplot as plt\n",
    "import os\n",
    "import datetime\n",
    "\n",
    "from sklearn.metrics import classification_report\n",
    "from sklearn.metrics import confusion_matrix, accuracy_score, f1_score\n",
    "\n",
    "tf.__version__\n"
   ]
  },
  {
   "cell_type": "markdown",
   "metadata": {},
   "source": [
    "# Read Data\n",
    "Split data into train, validation, and test\n",
    "Note that images for the same patient may contain a mix of cancerous and non-cancerous data.\n",
    "Q - Sould we split on patient or just randomly\n",
    "\n"
   ]
  },
  {
   "cell_type": "code",
   "execution_count": 5,
   "metadata": {
    "scrolled": true
   },
   "outputs": [],
   "source": [
    "mainData = pd.read_csv('./data_labels_mainData.csv')\n",
    "extraData = pd.read_csv('./data_labels_extraData.csv')"
   ]
  },
  {
   "cell_type": "code",
   "execution_count": 6,
   "metadata": {},
   "outputs": [
    {
     "data": {
      "text/html": [
       "<div>\n",
       "<style scoped>\n",
       "    .dataframe tbody tr th:only-of-type {\n",
       "        vertical-align: middle;\n",
       "    }\n",
       "\n",
       "    .dataframe tbody tr th {\n",
       "        vertical-align: top;\n",
       "    }\n",
       "\n",
       "    .dataframe thead th {\n",
       "        text-align: right;\n",
       "    }\n",
       "</style>\n",
       "<table border=\"1\" class=\"dataframe\">\n",
       "  <thead>\n",
       "    <tr style=\"text-align: right;\">\n",
       "      <th></th>\n",
       "      <th>InstanceID</th>\n",
       "      <th>patientID</th>\n",
       "      <th>ImageName</th>\n",
       "      <th>cellTypeName</th>\n",
       "      <th>cellType</th>\n",
       "      <th>isCancerous</th>\n",
       "    </tr>\n",
       "  </thead>\n",
       "  <tbody>\n",
       "    <tr>\n",
       "      <th>0</th>\n",
       "      <td>22405</td>\n",
       "      <td>1</td>\n",
       "      <td>22405.png</td>\n",
       "      <td>fibroblast</td>\n",
       "      <td>0</td>\n",
       "      <td>0</td>\n",
       "    </tr>\n",
       "    <tr>\n",
       "      <th>1</th>\n",
       "      <td>22406</td>\n",
       "      <td>1</td>\n",
       "      <td>22406.png</td>\n",
       "      <td>fibroblast</td>\n",
       "      <td>0</td>\n",
       "      <td>0</td>\n",
       "    </tr>\n",
       "    <tr>\n",
       "      <th>2</th>\n",
       "      <td>22407</td>\n",
       "      <td>1</td>\n",
       "      <td>22407.png</td>\n",
       "      <td>fibroblast</td>\n",
       "      <td>0</td>\n",
       "      <td>0</td>\n",
       "    </tr>\n",
       "    <tr>\n",
       "      <th>3</th>\n",
       "      <td>22408</td>\n",
       "      <td>1</td>\n",
       "      <td>22408.png</td>\n",
       "      <td>fibroblast</td>\n",
       "      <td>0</td>\n",
       "      <td>0</td>\n",
       "    </tr>\n",
       "    <tr>\n",
       "      <th>4</th>\n",
       "      <td>22409</td>\n",
       "      <td>1</td>\n",
       "      <td>22409.png</td>\n",
       "      <td>fibroblast</td>\n",
       "      <td>0</td>\n",
       "      <td>0</td>\n",
       "    </tr>\n",
       "  </tbody>\n",
       "</table>\n",
       "</div>"
      ],
      "text/plain": [
       "   InstanceID  patientID  ImageName cellTypeName  cellType  isCancerous\n",
       "0       22405          1  22405.png   fibroblast         0            0\n",
       "1       22406          1  22406.png   fibroblast         0            0\n",
       "2       22407          1  22407.png   fibroblast         0            0\n",
       "3       22408          1  22408.png   fibroblast         0            0\n",
       "4       22409          1  22409.png   fibroblast         0            0"
      ]
     },
     "execution_count": 6,
     "metadata": {},
     "output_type": "execute_result"
    }
   ],
   "source": [
    "mainData.head()"
   ]
  },
  {
   "cell_type": "code",
   "execution_count": 7,
   "metadata": {},
   "outputs": [
    {
     "data": {
      "text/html": [
       "<div>\n",
       "<style scoped>\n",
       "    .dataframe tbody tr th:only-of-type {\n",
       "        vertical-align: middle;\n",
       "    }\n",
       "\n",
       "    .dataframe tbody tr th {\n",
       "        vertical-align: top;\n",
       "    }\n",
       "\n",
       "    .dataframe thead th {\n",
       "        text-align: right;\n",
       "    }\n",
       "</style>\n",
       "<table border=\"1\" class=\"dataframe\">\n",
       "  <thead>\n",
       "    <tr style=\"text-align: right;\">\n",
       "      <th></th>\n",
       "      <th>InstanceID</th>\n",
       "      <th>patientID</th>\n",
       "      <th>ImageName</th>\n",
       "      <th>isCancerous</th>\n",
       "    </tr>\n",
       "  </thead>\n",
       "  <tbody>\n",
       "    <tr>\n",
       "      <th>0</th>\n",
       "      <td>12681</td>\n",
       "      <td>61</td>\n",
       "      <td>12681.png</td>\n",
       "      <td>0</td>\n",
       "    </tr>\n",
       "    <tr>\n",
       "      <th>1</th>\n",
       "      <td>12682</td>\n",
       "      <td>61</td>\n",
       "      <td>12682.png</td>\n",
       "      <td>0</td>\n",
       "    </tr>\n",
       "    <tr>\n",
       "      <th>2</th>\n",
       "      <td>12683</td>\n",
       "      <td>61</td>\n",
       "      <td>12683.png</td>\n",
       "      <td>0</td>\n",
       "    </tr>\n",
       "    <tr>\n",
       "      <th>3</th>\n",
       "      <td>12684</td>\n",
       "      <td>61</td>\n",
       "      <td>12684.png</td>\n",
       "      <td>0</td>\n",
       "    </tr>\n",
       "    <tr>\n",
       "      <th>4</th>\n",
       "      <td>12685</td>\n",
       "      <td>61</td>\n",
       "      <td>12685.png</td>\n",
       "      <td>0</td>\n",
       "    </tr>\n",
       "  </tbody>\n",
       "</table>\n",
       "</div>"
      ],
      "text/plain": [
       "   InstanceID  patientID  ImageName  isCancerous\n",
       "0       12681         61  12681.png            0\n",
       "1       12682         61  12682.png            0\n",
       "2       12683         61  12683.png            0\n",
       "3       12684         61  12684.png            0\n",
       "4       12685         61  12685.png            0"
      ]
     },
     "execution_count": 7,
     "metadata": {},
     "output_type": "execute_result"
    }
   ],
   "source": [
    "extraData.head()"
   ]
  },
  {
   "cell_type": "markdown",
   "metadata": {},
   "source": [
    "# Exploratary Data Analysis (EDA)"
   ]
  },
  {
   "cell_type": "code",
   "execution_count": 8,
   "metadata": {
    "scrolled": false
   },
   "outputs": [
    {
     "name": "stdout",
     "output_type": "stream",
     "text": [
      "InstanceID       int64\n",
      "patientID        int64\n",
      "ImageName       object\n",
      "cellTypeName    object\n",
      "cellType         int64\n",
      "isCancerous      int64\n",
      "dtype: object\n",
      "(9896, 6)\n"
     ]
    }
   ],
   "source": [
    "print(mainData.dtypes)\n",
    "print(mainData.shape)\n",
    "#print(mainData.info())\n",
    "#print(mainData.describe())\n"
   ]
  },
  {
   "cell_type": "code",
   "execution_count": 9,
   "metadata": {},
   "outputs": [
    {
     "name": "stdout",
     "output_type": "stream",
     "text": [
      "InstanceID      int64\n",
      "patientID       int64\n",
      "ImageName      object\n",
      "isCancerous     int64\n",
      "dtype: object\n",
      "(10384, 4)\n"
     ]
    }
   ],
   "source": [
    "print(extraData.dtypes)\n",
    "print(extraData.shape)\n",
    "#print(extraData.info())\n",
    "#print(extraData.describe())"
   ]
  },
  {
   "cell_type": "markdown",
   "metadata": {},
   "source": [
    "There are 2 data files mainData with 6 properties and 9896 rows, and extraData with 4 properties and 10384 rows.\n",
    "\n",
    "For part1, the aim is to predict if a slide is cancerous or not from the image data.\n",
    "Lets append data and confirm the number of images matches the input data rows."
   ]
  },
  {
   "cell_type": "code",
   "execution_count": 10,
   "metadata": {
    "scrolled": true
   },
   "outputs": [],
   "source": [
    "mainData = mainData.sample(2000)   # Sampling used for inital model development\n",
    "#mainData = mainData.append(extraData, ignore_index=True)"
   ]
  },
  {
   "cell_type": "code",
   "execution_count": 11,
   "metadata": {},
   "outputs": [
    {
     "data": {
      "text/plain": [
       "2000"
      ]
     },
     "execution_count": 11,
     "metadata": {},
     "output_type": "execute_result"
    }
   ],
   "source": [
    "mainData.shape[0]"
   ]
  },
  {
   "cell_type": "code",
   "execution_count": 12,
   "metadata": {
    "scrolled": true
   },
   "outputs": [
    {
     "name": "stdout",
     "output_type": "stream",
     "text": [
      "20280\n"
     ]
    }
   ],
   "source": [
    "import glob\n",
    "\n",
    "image_list = set()\n",
    "for filepath in glob.glob('./patch_images/*', recursive=True): #assuming gif\n",
    "    filename = filepath.split(\"\\\\\")[-1]\n",
    "    image_list.add(filename)\n",
    "    \n",
    "print(len(image_list))"
   ]
  },
  {
   "cell_type": "markdown",
   "metadata": {},
   "source": [
    "The number of images matches the records."
   ]
  },
  {
   "cell_type": "markdown",
   "metadata": {},
   "source": [
    "Update Categorical Data types"
   ]
  },
  {
   "cell_type": "code",
   "execution_count": 13,
   "metadata": {
    "scrolled": true
   },
   "outputs": [],
   "source": [
    "mainData['cellType'] = mainData['cellType'].astype('category')\n",
    "mainData['cellTypeName'] = mainData['cellTypeName'].astype('category')\n"
   ]
  },
  {
   "cell_type": "code",
   "execution_count": 14,
   "metadata": {
    "scrolled": false
   },
   "outputs": [
    {
     "data": {
      "image/png": "[encoded data removed]",
      "text/plain": [
       "<Figure size 432x288 with 4 Axes>"
      ]
     },
     "metadata": {
      "needs_background": "light"
     },
     "output_type": "display_data"
    }
   ],
   "source": [
    "mainData.hist()\n",
    "plt.show()"
   ]
  },
  {
   "cell_type": "code",
   "execution_count": 15,
   "metadata": {
    "scrolled": true
   },
   "outputs": [],
   "source": [
    "mainData.drop(['InstanceID'], axis=1,inplace=True)\n",
    "mainData.drop(['cellType'], axis=1,inplace=True)\n",
    "mainData.drop(['cellTypeName'], axis=1,inplace=True)\n"
   ]
  },
  {
   "cell_type": "code",
   "execution_count": 16,
   "metadata": {
    "scrolled": true
   },
   "outputs": [],
   "source": [
    "mainData['isCancerous'] = mainData['isCancerous'].astype('category')\n"
   ]
  },
  {
   "cell_type": "code",
   "execution_count": 17,
   "metadata": {
    "scrolled": true
   },
   "outputs": [
    {
     "name": "stdout",
     "output_type": "stream",
     "text": [
      "<class 'pandas.core.frame.DataFrame'>\n",
      "Int64Index: 2000 entries, 1268 to 7482\n",
      "Data columns (total 3 columns):\n",
      " #   Column       Non-Null Count  Dtype   \n",
      "---  ------       --------------  -----   \n",
      " 0   patientID    2000 non-null   int64   \n",
      " 1   ImageName    2000 non-null   object  \n",
      " 2   isCancerous  2000 non-null   category\n",
      "dtypes: category(1), int64(1), object(1)\n",
      "memory usage: 48.9+ KB\n"
     ]
    }
   ],
   "source": [
    "mainData.info()"
   ]
  },
  {
   "cell_type": "code",
   "execution_count": 18,
   "metadata": {
    "scrolled": true
   },
   "outputs": [
    {
     "data": {
      "text/plain": [
       "patientID      0\n",
       "ImageName      0\n",
       "isCancerous    0\n",
       "dtype: int64"
      ]
     },
     "execution_count": 18,
     "metadata": {},
     "output_type": "execute_result"
    }
   ],
   "source": [
    "mainData.isnull().sum()"
   ]
  },
  {
   "cell_type": "markdown",
   "metadata": {},
   "source": [
    "**There are no missing values in the datasets.**"
   ]
  },
  {
   "cell_type": "code",
   "execution_count": 19,
   "metadata": {
    "scrolled": true
   },
   "outputs": [],
   "source": [
    "def BinBreakdown(desc, data):\n",
    "    neg, pos = np.bincount(data)\n",
    "    total = neg + pos\n",
    "    print('{} Class Data:\\n    Total: {}\\n    Positive: {} ({:.2f}% of total)\\n'.format(desc, total, pos, 100 * pos / total))"
   ]
  },
  {
   "cell_type": "code",
   "execution_count": 20,
   "metadata": {},
   "outputs": [
    {
     "name": "stdout",
     "output_type": "stream",
     "text": [
      "Input Data Class Data:\n",
      "    Total: 2000\n",
      "    Positive: 800 (40.00% of total)\n",
      "\n"
     ]
    }
   ],
   "source": [
    "BinBreakdown('Input Data', mainData.isCancerous)"
   ]
  },
  {
   "cell_type": "markdown",
   "metadata": {},
   "source": [
    "#### Key observations:\n",
    "* Data has 20280  observations and 6 columns.\n",
    "* InstanceID - is Id field, need to remove as not valueable classification attribute\n",
    "* cellTypeName, cellType - indicator of actual cell type and not used in this case for cancer diagnosis\n",
    "* isCancerous - indicator of the actual diagnosis (1 = cancerous, 0 = benign)\n",
    "* image count matches data rows \n",
    "\n",
    "Split of benign to cancerous is a 35% cancerous, 65% benign\n",
    "\n",
    "* The class value is boolean so doesn't have outliers etc to consider"
   ]
  },
  {
   "cell_type": "markdown",
   "metadata": {},
   "source": [
    "# Train/Validation/Test Split on Patients"
   ]
  },
  {
   "cell_type": "markdown",
   "metadata": {},
   "source": [
    "### Add classification class"
   ]
  },
  {
   "cell_type": "code",
   "execution_count": 21,
   "metadata": {
    "scrolled": true
   },
   "outputs": [],
   "source": [
    "mainData['isCancerous'] = mainData['isCancerous'].astype('str')"
   ]
  },
  {
   "cell_type": "markdown",
   "metadata": {},
   "source": [
    "### Split Data into Train/Validate/Test\n",
    "For test and training data split via person.\n",
    "This assumes that if a person has cancer or not, then would the images for that person have cancer.\n",
    "Also different cell types per person would be used for validation/testing."
   ]
  },
  {
   "cell_type": "code",
   "execution_count": 22,
   "metadata": {
    "scrolled": true
   },
   "outputs": [],
   "source": [
    "# Get list of patients and observation counts\n",
    "# Allocate approc 25% of data for Validation and Testing - of that 60%/40% for validation/test split.\n",
    "TEST_RATIO = 0.10\n",
    "VAL_RATIO = 0.15\n"
   ]
  },
  {
   "cell_type": "code",
   "execution_count": 23,
   "metadata": {
    "scrolled": true
   },
   "outputs": [],
   "source": [
    "# Split train tests by ratios\n",
    "# Select random patients until the number of images for \n",
    "# each patient sums to the number of records require\n",
    "\n",
    "np.random.seed(43) # Consistent random list\n",
    "\n",
    "recCount = mainData.shape[0]\n",
    "custRec = mainData.patientID.value_counts().to_dict()\n",
    "    \n",
    "patientIds = list(custRec.keys())\n",
    "\n",
    "# Loop through selecting a patient at random summing the number of images they have\n",
    "# until the count of images crosses is more than required number\n",
    "\n",
    "testCust = []\n",
    "testRecs = 0\n",
    "while (testRecs < (recCount * TEST_RATIO)):\n",
    "    pId = np.random.choice(patientIds)\n",
    "    ic = custRec.get(pId)\n",
    "    patientIds.remove(pId)\n",
    "    testCust.append(pId)\n",
    "    testRecs += ic\n",
    "    \n",
    "#print(testCust, testRecs)\n",
    "\n",
    "valCust = []\n",
    "valRecs = 0\n",
    "while (valRecs < (recCount * VAL_RATIO)):\n",
    "    pId = np.random.choice(patientIds)\n",
    "    ic = custRec.get(pId)\n",
    "    patientIds.remove(pId)\n",
    "    valCust.append(pId)\n",
    "    valRecs += ic\n",
    "\n",
    "#print(valCust, valRecs)"
   ]
  },
  {
   "cell_type": "code",
   "execution_count": 24,
   "metadata": {
    "scrolled": true
   },
   "outputs": [],
   "source": [
    "testData = mainData[mainData.patientID.isin(testCust)]\n",
    "valData = mainData[mainData.patientID.isin(valCust)]\n",
    "trainData = mainData[~(mainData.patientID.isin(valCust + testCust))]"
   ]
  },
  {
   "cell_type": "code",
   "execution_count": 25,
   "metadata": {
    "scrolled": true
   },
   "outputs": [
    {
     "name": "stdout",
     "output_type": "stream",
     "text": [
      "Train data : 1428, Val Data: 335, Test Data: 237\n",
      "Train data : 71.40%, Val Data: 16.75%, Test Data: 11.85%\n"
     ]
    }
   ],
   "source": [
    "totalRecs = mainData.shape[0]\n",
    "#print(trainData.shape[0] + valData.shape[0] + testData.shape[0])\n",
    "\n",
    "print(\"Train data : {}, Val Data: {}, Test Data: {}\".format(trainData.shape[0], valData.shape[0], testData.shape[0]))\n",
    "print(\"Train data : {:.2f}%, Val Data: {:.2f}%, Test Data: {:.2f}%\".format(\n",
    "    100 * trainData.shape[0] / totalRecs, 100 * valData.shape[0]/totalRecs, 100 * testData.shape[0]/totalRecs))"
   ]
  },
  {
   "cell_type": "code",
   "execution_count": 26,
   "metadata": {
    "scrolled": true
   },
   "outputs": [
    {
     "data": {
      "text/html": [
       "<div>\n",
       "<style scoped>\n",
       "    .dataframe tbody tr th:only-of-type {\n",
       "        vertical-align: middle;\n",
       "    }\n",
       "\n",
       "    .dataframe tbody tr th {\n",
       "        vertical-align: top;\n",
       "    }\n",
       "\n",
       "    .dataframe thead th {\n",
       "        text-align: right;\n",
       "    }\n",
       "</style>\n",
       "<table border=\"1\" class=\"dataframe\">\n",
       "  <thead>\n",
       "    <tr style=\"text-align: right;\">\n",
       "      <th></th>\n",
       "      <th>patientID</th>\n",
       "      <th>ImageName</th>\n",
       "      <th>isCancerous</th>\n",
       "    </tr>\n",
       "  </thead>\n",
       "  <tbody>\n",
       "    <tr>\n",
       "      <th>6047</th>\n",
       "      <td>37</td>\n",
       "      <td>20512.png</td>\n",
       "      <td>0</td>\n",
       "    </tr>\n",
       "    <tr>\n",
       "      <th>7814</th>\n",
       "      <td>49</td>\n",
       "      <td>1022.png</td>\n",
       "      <td>1</td>\n",
       "    </tr>\n",
       "    <tr>\n",
       "      <th>9633</th>\n",
       "      <td>58</td>\n",
       "      <td>22370.png</td>\n",
       "      <td>0</td>\n",
       "    </tr>\n",
       "    <tr>\n",
       "      <th>6240</th>\n",
       "      <td>39</td>\n",
       "      <td>16487.png</td>\n",
       "      <td>0</td>\n",
       "    </tr>\n",
       "    <tr>\n",
       "      <th>5889</th>\n",
       "      <td>33</td>\n",
       "      <td>19949.png</td>\n",
       "      <td>0</td>\n",
       "    </tr>\n",
       "  </tbody>\n",
       "</table>\n",
       "</div>"
      ],
      "text/plain": [
       "      patientID  ImageName isCancerous\n",
       "6047         37  20512.png           0\n",
       "7814         49   1022.png           1\n",
       "9633         58  22370.png           0\n",
       "6240         39  16487.png           0\n",
       "5889         33  19949.png           0"
      ]
     },
     "execution_count": 26,
     "metadata": {},
     "output_type": "execute_result"
    }
   ],
   "source": [
    "trainData.head()"
   ]
  },
  {
   "cell_type": "code",
   "execution_count": 27,
   "metadata": {},
   "outputs": [
    {
     "name": "stdout",
     "output_type": "stream",
     "text": [
      "Train Class Data:\n",
      "    Total: 1428\n",
      "    Positive: 531 (37.18% of total)\n",
      "\n",
      "Validation Class Data:\n",
      "    Total: 335\n",
      "    Positive: 157 (46.87% of total)\n",
      "\n",
      "Test Class Data:\n",
      "    Total: 237\n",
      "    Positive: 112 (47.26% of total)\n",
      "\n"
     ]
    }
   ],
   "source": [
    "BinBreakdown('Train', trainData.isCancerous)\n",
    "BinBreakdown('Validation', valData.isCancerous)\n",
    "BinBreakdown('Test', testData.isCancerous)"
   ]
  },
  {
   "cell_type": "code",
   "execution_count": 28,
   "metadata": {
    "scrolled": true
   },
   "outputs": [
    {
     "data": {
      "text/plain": [
       "([0, 1], <a list of 2 Text xticklabel objects>)"
      ]
     },
     "execution_count": 28,
     "metadata": {},
     "output_type": "execute_result"
    },
    {
     "data": {
      "image/png": "[encoded data removed]",
      "text/plain": [
       "<Figure size 432x288 with 1 Axes>"
      ]
     },
     "metadata": {
      "needs_background": "light"
     },
     "output_type": "display_data"
    }
   ],
   "source": [
    "plt.bar(\n",
    "    trainData.isCancerous.value_counts().index.astype(str), \n",
    "    trainData.isCancerous.value_counts().values/np.sum(trainData.isCancerous.value_counts().values), \n",
    "    alpha=0.3, \n",
    "    color='r')\n",
    "\n",
    "plt.bar(\n",
    "    valData.isCancerous.value_counts().index.astype(str), \n",
    "    valData.isCancerous.value_counts().values/np.sum(valData.isCancerous.value_counts().values), \n",
    "    alpha=0.3, \n",
    "    color='b')\n",
    "\n",
    "plt.bar(\n",
    "    testData.isCancerous.value_counts().index.astype(str), \n",
    "    testData.isCancerous.value_counts().values/np.sum(testData.isCancerous.value_counts().values), \n",
    "    alpha=0.3, \n",
    "    color='g')\n",
    "\n",
    "plt.title('isCancerous - Train vs Test')\n",
    "plt.xticks(rotation='vertical')"
   ]
  },
  {
   "cell_type": "markdown",
   "metadata": {},
   "source": [
    "**Observations:**\n",
    "1. Train/Validation/Test data distributions sets have similar distributions"
   ]
  },
  {
   "cell_type": "markdown",
   "metadata": {},
   "source": [
    "# Images\n",
    "27x27 RGB "
   ]
  },
  {
   "cell_type": "code",
   "execution_count": 29,
   "metadata": {
    "scrolled": true
   },
   "outputs": [
    {
     "name": "stdout",
     "output_type": "stream",
     "text": [
      "Found 1428 validated image filenames belonging to 2 classes.\n",
      "Found 335 validated image filenames belonging to 2 classes.\n",
      "Found 237 validated image filenames belonging to 2 classes.\n"
     ]
    }
   ],
   "source": [
    "from tensorflow.keras.preprocessing.image import ImageDataGenerator\n",
    "\n",
    "train_datagen = ImageDataGenerator(rescale=1./255, data_format='channels_last')\n",
    "val_datagen = ImageDataGenerator(rescale=1./255, data_format='channels_last')\n",
    "\n",
    "batch_size = 32\n",
    "\n",
    "train_generator = train_datagen.flow_from_dataframe(\n",
    "        dataframe=trainData,\n",
    "        directory='./patch_images',\n",
    "        x_col=\"ImageName\",\n",
    "        y_col=\"isCancerous\",\n",
    "        target_size=(27, 27),\n",
    "        batch_size=batch_size,\n",
    "        class_mode='categorical')\n",
    "\n",
    "validation_generator = val_datagen.flow_from_dataframe(\n",
    "        dataframe=valData,\n",
    "        directory='patch_images',\n",
    "        x_col=\"ImageName\",\n",
    "        y_col=\"isCancerous\",\n",
    "        target_size=(27, 27),\n",
    "        batch_size=batch_size,\n",
    "        class_mode='categorical')\n",
    "\n",
    "test_generator = val_datagen.flow_from_dataframe(\n",
    "        dataframe=testData,\n",
    "        directory='patch_images',\n",
    "        x_col=\"ImageName\",\n",
    "        y_col=\"isCancerous\",\n",
    "        target_size=(27, 27),\n",
    "        batch_size=batch_size,\n",
    "        class_mode='categorical')"
   ]
  },
  {
   "cell_type": "markdown",
   "metadata": {},
   "source": [
    "### Utility Functions"
   ]
  },
  {
   "cell_type": "code",
   "execution_count": 30,
   "metadata": {},
   "outputs": [],
   "source": [
    "import seaborn as sn\n",
    "import matplotlib.pyplot as plt\n",
    "from sklearn.metrics import confusion_matrix\n",
    "from sklearn.metrics import classification_report\n"
   ]
  },
  {
   "cell_type": "code",
   "execution_count": 31,
   "metadata": {
    "scrolled": true
   },
   "outputs": [],
   "source": [
    "def PlotModelFitHistory(mh):\n",
    "    plt.figure(figsize=(10,5))\n",
    "    plt.subplot(1,2,1)\n",
    "    plt.plot(mh.history['loss'], 'r--')\n",
    "    plt.plot(mh.history['val_loss'], 'b--')\n",
    "    plt.xlabel(\"epochs\")\n",
    "    plt.ylabel(\"Loss\")\n",
    "    plt.legend(['train', 'val'], loc='upper left')\n",
    "\n",
    "    plt.subplot(1,2,2)\n",
    "    plt.plot(mh.history['categorical_accuracy'], 'r--')\n",
    "    plt.plot(mh.history['val_categorical_accuracy'], 'b--')\n",
    "    plt.xlabel(\"epochs\")\n",
    "    plt.ylabel(\"Accuracy\")\n",
    "    plt.legend(['train', 'val'], loc='upper left')\n",
    "\n",
    "    plt.show()\n"
   ]
  },
  {
   "cell_type": "code",
   "execution_count": 32,
   "metadata": {
    "scrolled": true
   },
   "outputs": [],
   "source": [
    "def PlotConfusionMatrix(test, pred):\n",
    "    cm = confusion_matrix(test, pred)\n",
    "    group_names = ['True Neg','False Pos','False Neg','True Pos']\n",
    "    group_counts = [\"{0:0.0f}\".format(value) for value in cm.flatten()]\n",
    "    group_percentages = [\"{0:.2%}\".format(value) for value in cm.flatten()/np.sum(cm)]\n",
    "    labels = [f\"{v1}\\n{v2}\\n{v3}\" for v1, v2, v3 in zip(group_names, group_counts, group_percentages)]\n",
    "    labels = np.asarray(labels).reshape(2,2)\n",
    "    sn.heatmap(cm, annot=labels, fmt='', cmap='Blues')"
   ]
  },
  {
   "cell_type": "markdown",
   "metadata": {},
   "source": [
    "# Model Development"
   ]
  },
  {
   "cell_type": "markdown",
   "metadata": {},
   "source": [
    "### Measure \n",
    "As this is a screening/detection task, the impact of a false negative is high (ie someone who has cancer is missed)\n",
    "In this case use Recall for measure.\n",
    "We can also use F1 to get a more balanced measure of Precision and Recall"
   ]
  },
  {
   "cell_type": "code",
   "execution_count": 33,
   "metadata": {},
   "outputs": [],
   "source": [
    "def CompileModel(model):\n",
    "    opt = tf.keras.optimizers.Adagrad()\n",
    "    model.compile(optimizer=opt,\n",
    "              loss=tf.keras.losses.CategoricalCrossentropy(from_logits=False),\n",
    "              metrics=['categorical_accuracy'])    "
   ]
  },
  {
   "cell_type": "code",
   "execution_count": 34,
   "metadata": {},
   "outputs": [],
   "source": [
    "early_stopping_monitor = EarlyStopping(patience=10, monitor='val_categorical_accuracy')\n",
    "\n",
    "def FitModel(model):\n",
    "\n",
    "    print('start ', datetime.datetime.now().strftime(\"%H:%M:%S\"))\n",
    "    now = datetime.datetime.now()\n",
    "\n",
    "    fit_history = model.fit(train_generator, validation_data = validation_generator, \n",
    "                            callbacks=[early_stopping_monitor], epochs=10000, verbose=1)\n",
    "\n",
    "    print('stop ', datetime.datetime.now().strftime(\"%H:%M:%S\"))\n",
    "    print(\"Took = \", datetime.datetime.now() - now)\n",
    "    \n",
    "    return fit_history"
   ]
  },
  {
   "cell_type": "code",
   "execution_count": 35,
   "metadata": {},
   "outputs": [],
   "source": [
    "def PredictModel(model):\n",
    "    batch_size_ = 1\n",
    "    y_pred = list()\n",
    "    y_test = list()\n",
    "    filenames = test_generator.filenames\n",
    "    N_images = len(filenames)\n",
    "    batches = 0\n",
    "\n",
    "    # iterate through the data generator and predict for each batch\n",
    "    # hold the predictions and labels\n",
    "    for x,y in test_generator:\n",
    "            yp = model.predict(x, verbose=0)\n",
    "            yp = np.argmax(yp, axis = 1)\n",
    "            yt = np.argmax(y, axis = 1)\n",
    "            y_pred = y_pred + yp.tolist()\n",
    "            y_test = y_test + yt.tolist()\n",
    "\n",
    "            batches += 1\n",
    "            if batches >= N_images / batch_size_:\n",
    "                break\n",
    "                \n",
    "    return (y_test, y_pred)"
   ]
  },
  {
   "cell_type": "code",
   "execution_count": 36,
   "metadata": {},
   "outputs": [],
   "source": [
    "def ShowStats(y_test, y_pred):\n",
    "    print(\"Accuracy score: \", accuracy_score(test_y, pred_y))\n",
    "    print(\"F1 score: \", f1_score(test_y, pred_y, average='macro'))\n",
    "\n",
    "    print(classification_report(test_y, pred_y, zero_division=0))"
   ]
  },
  {
   "cell_type": "markdown",
   "metadata": {},
   "source": [
    "### Model Inputs"
   ]
  },
  {
   "cell_type": "code",
   "execution_count": 37,
   "metadata": {
    "scrolled": true
   },
   "outputs": [],
   "source": [
    "INPUT_DIM = (27,27,3)\n",
    "OUTPUT_CLASSES = 2       # TensorFlow automatically does one hot encoding to our target label"
   ]
  },
  {
   "cell_type": "markdown",
   "metadata": {},
   "source": [
    "## 1. Baseline an simple MLP Model\n",
    "Observations\n",
    "* Use a initial NN to get a baseline\n",
    "* Binary classification problem\n",
    "* Input has 2187 dims (this is small for image recognition)\n",
    "* 1 hidden layer with 256 internal nodes\n",
    "* 1 output binary\n",
    "* Loss - Binary Cross Entropy\n",
    "* Metric - binary_accuracy \n",
    "* use sigmoid activation as this is a logistics issue\n",
    "\n"
   ]
  },
  {
   "cell_type": "code",
   "execution_count": 38,
   "metadata": {
    "scrolled": true
   },
   "outputs": [],
   "source": [
    "model_base = tf.keras.Sequential([\n",
    "    tf.keras.layers.Flatten(input_shape=INPUT_DIM),\n",
    "    tf.keras.layers.Dense(256, activation='relu'),\n",
    "    tf.keras.layers.Dense(OUTPUT_CLASSES, activation='sigmoid')\n",
    "])"
   ]
  },
  {
   "cell_type": "code",
   "execution_count": 39,
   "metadata": {},
   "outputs": [
    {
     "name": "stdout",
     "output_type": "stream",
     "text": [
      "Model: \"sequential\"\n",
      "_________________________________________________________________\n",
      "Layer (type)                 Output Shape              Param #   \n",
      "=================================================================\n",
      "flatten (Flatten)            (None, 2187)              0         \n",
      "_________________________________________________________________\n",
      "dense (Dense)                (None, 256)               560128    \n",
      "_________________________________________________________________\n",
      "dense_1 (Dense)              (None, 2)                 514       \n",
      "=================================================================\n",
      "Total params: 560,642\n",
      "Trainable params: 560,642\n",
      "Non-trainable params: 0\n",
      "_________________________________________________________________\n"
     ]
    }
   ],
   "source": [
    "model_base.summary()"
   ]
  },
  {
   "cell_type": "code",
   "execution_count": 40,
   "metadata": {},
   "outputs": [],
   "source": [
    "CompileModel(model_base)"
   ]
  },
  {
   "cell_type": "code",
   "execution_count": 41,
   "metadata": {},
   "outputs": [
    {
     "name": "stdout",
     "output_type": "stream",
     "text": [
      "start  19:24:20\n",
      "Epoch 1/10000\n",
      "45/45 [==============================] - 2s 43ms/step - loss: 0.6528 - categorical_accuracy: 0.6388 - val_loss: 0.6100 - val_categorical_accuracy: 0.6119\n",
      "Epoch 2/10000\n",
      "45/45 [==============================] - 1s 25ms/step - loss: 0.5708 - categorical_accuracy: 0.7007 - val_loss: 0.6125 - val_categorical_accuracy: 0.5910\n",
      "Epoch 3/10000\n",
      "45/45 [==============================] - 1s 21ms/step - loss: 0.5216 - categorical_accuracy: 0.7435 - val_loss: 0.5542 - val_categorical_accuracy: 0.7463\n",
      "Epoch 4/10000\n",
      "45/45 [==============================] - 1s 22ms/step - loss: 0.5361 - categorical_accuracy: 0.7285 - val_loss: 0.5237 - val_categorical_accuracy: 0.7075\n",
      "Epoch 5/10000\n",
      "45/45 [==============================] - 1s 23ms/step - loss: 0.4743 - categorical_accuracy: 0.8082 - val_loss: 0.5575 - val_categorical_accuracy: 0.6328\n",
      "Epoch 6/10000\n",
      "45/45 [==============================] - 1s 21ms/step - loss: 0.4668 - categorical_accuracy: 0.8128 - val_loss: 0.4672 - val_categorical_accuracy: 0.8657\n",
      "Epoch 7/10000\n",
      "45/45 [==============================] - 1s 23ms/step - loss: 0.4443 - categorical_accuracy: 0.8300 - val_loss: 0.4537 - val_categorical_accuracy: 0.8746\n",
      "Epoch 8/10000\n",
      "45/45 [==============================] - 1s 18ms/step - loss: 0.4283 - categorical_accuracy: 0.8229 - val_loss: 0.4568 - val_categorical_accuracy: 0.8507\n",
      "Epoch 9/10000\n",
      "45/45 [==============================] - 1s 21ms/step - loss: 0.4124 - categorical_accuracy: 0.8460 - val_loss: 0.4442 - val_categorical_accuracy: 0.8269\n",
      "Epoch 10/10000\n",
      "45/45 [==============================] - 1s 22ms/step - loss: 0.4045 - categorical_accuracy: 0.8280 - val_loss: 0.4393 - val_categorical_accuracy: 0.8209\n",
      "Epoch 11/10000\n",
      "45/45 [==============================] - 1s 23ms/step - loss: 0.3909 - categorical_accuracy: 0.8529 - val_loss: 0.4114 - val_categorical_accuracy: 0.8896\n",
      "Epoch 12/10000\n",
      "45/45 [==============================] - 1s 25ms/step - loss: 0.3906 - categorical_accuracy: 0.8452 - val_loss: 0.4050 - val_categorical_accuracy: 0.8925\n",
      "Epoch 13/10000\n",
      "45/45 [==============================] - 1s 22ms/step - loss: 0.3796 - categorical_accuracy: 0.8596 - val_loss: 0.4006 - val_categorical_accuracy: 0.8597\n",
      "Epoch 14/10000\n",
      "45/45 [==============================] - 1s 23ms/step - loss: 0.3681 - categorical_accuracy: 0.8676 - val_loss: 0.4369 - val_categorical_accuracy: 0.7910\n",
      "Epoch 15/10000\n",
      "45/45 [==============================] - 1s 20ms/step - loss: 0.3672 - categorical_accuracy: 0.8687 - val_loss: 0.3871 - val_categorical_accuracy: 0.8985\n",
      "Epoch 16/10000\n",
      "45/45 [==============================] - 1s 20ms/step - loss: 0.3592 - categorical_accuracy: 0.8782 - val_loss: 0.3871 - val_categorical_accuracy: 0.8746\n",
      "Epoch 17/10000\n",
      "45/45 [==============================] - 1s 22ms/step - loss: 0.3487 - categorical_accuracy: 0.8735 - val_loss: 0.4239 - val_categorical_accuracy: 0.7881\n",
      "Epoch 18/10000\n",
      "45/45 [==============================] - 1s 22ms/step - loss: 0.3623 - categorical_accuracy: 0.8480 - val_loss: 0.3908 - val_categorical_accuracy: 0.8597\n",
      "Epoch 19/10000\n",
      "45/45 [==============================] - 1s 20ms/step - loss: 0.3488 - categorical_accuracy: 0.8730 - val_loss: 0.3691 - val_categorical_accuracy: 0.8896\n",
      "Epoch 20/10000\n",
      "45/45 [==============================] - 1s 21ms/step - loss: 0.3511 - categorical_accuracy: 0.8655 - val_loss: 0.3663 - val_categorical_accuracy: 0.8746\n",
      "Epoch 21/10000\n",
      "45/45 [==============================] - 1s 25ms/step - loss: 0.3359 - categorical_accuracy: 0.8817 - val_loss: 0.3937 - val_categorical_accuracy: 0.8299\n",
      "Epoch 22/10000\n",
      "45/45 [==============================] - 1s 21ms/step - loss: 0.3323 - categorical_accuracy: 0.8844 - val_loss: 0.3957 - val_categorical_accuracy: 0.8239\n",
      "Epoch 23/10000\n",
      "45/45 [==============================] - 1s 18ms/step - loss: 0.3330 - categorical_accuracy: 0.8737 - val_loss: 0.3581 - val_categorical_accuracy: 0.8955\n",
      "Epoch 24/10000\n",
      "45/45 [==============================] - 1s 19ms/step - loss: 0.3315 - categorical_accuracy: 0.8854 - val_loss: 0.3548 - val_categorical_accuracy: 0.9075\n",
      "Epoch 25/10000\n",
      "45/45 [==============================] - 1s 18ms/step - loss: 0.3297 - categorical_accuracy: 0.8768 - val_loss: 0.3672 - val_categorical_accuracy: 0.8657\n",
      "Epoch 26/10000\n",
      "45/45 [==============================] - 1s 18ms/step - loss: 0.3359 - categorical_accuracy: 0.8719 - val_loss: 0.3486 - val_categorical_accuracy: 0.8866\n",
      "Epoch 27/10000\n",
      "45/45 [==============================] - 1s 19ms/step - loss: 0.3267 - categorical_accuracy: 0.8714 - val_loss: 0.3625 - val_categorical_accuracy: 0.8657\n",
      "Epoch 28/10000\n",
      "45/45 [==============================] - 1s 18ms/step - loss: 0.3066 - categorical_accuracy: 0.8898 - val_loss: 0.3477 - val_categorical_accuracy: 0.8925\n",
      "Epoch 29/10000\n",
      "45/45 [==============================] - 1s 18ms/step - loss: 0.3217 - categorical_accuracy: 0.8742 - val_loss: 0.4049 - val_categorical_accuracy: 0.8030\n",
      "Epoch 30/10000\n",
      "45/45 [==============================] - 1s 19ms/step - loss: 0.3125 - categorical_accuracy: 0.8780 - val_loss: 0.3515 - val_categorical_accuracy: 0.8537\n",
      "Epoch 31/10000\n",
      "45/45 [==============================] - 1s 18ms/step - loss: 0.3049 - categorical_accuracy: 0.8759 - val_loss: 0.3594 - val_categorical_accuracy: 0.8507\n",
      "Epoch 32/10000\n",
      "45/45 [==============================] - 1s 18ms/step - loss: 0.3081 - categorical_accuracy: 0.8758 - val_loss: 0.3444 - val_categorical_accuracy: 0.8925\n",
      "Epoch 33/10000\n",
      "45/45 [==============================] - 1s 21ms/step - loss: 0.3172 - categorical_accuracy: 0.8627 - val_loss: 0.3516 - val_categorical_accuracy: 0.8687\n",
      "Epoch 34/10000\n",
      "45/45 [==============================] - 1s 19ms/step - loss: 0.3193 - categorical_accuracy: 0.8800 - val_loss: 0.3358 - val_categorical_accuracy: 0.8716\n",
      "stop  19:24:54\n",
      "Took =  0:00:33.770682\n"
     ]
    }
   ],
   "source": [
    "history_base = FitModel(model_base)"
   ]
  },
  {
   "cell_type": "code",
   "execution_count": 42,
   "metadata": {},
   "outputs": [
    {
     "data": {
      "image/png": "[encoded data removed]",
      "text/plain": [
       "<Figure size 720x360 with 2 Axes>"
      ]
     },
     "metadata": {
      "needs_background": "light"
     },
     "output_type": "display_data"
    }
   ],
   "source": [
    "PlotModelFitHistory(history_base)"
   ]
  },
  {
   "cell_type": "code",
   "execution_count": 43,
   "metadata": {},
   "outputs": [],
   "source": [
    "(test_y, pred_y) = PredictModel(model_base)"
   ]
  },
  {
   "cell_type": "code",
   "execution_count": 44,
   "metadata": {},
   "outputs": [
    {
     "name": "stdout",
     "output_type": "stream",
     "text": [
      "Accuracy score:  0.9071519977250107\n",
      "F1 score:  0.9064105262692406\n",
      "              precision    recall  f1-score   support\n",
      "\n",
      "           0       0.89      0.94      0.91      3710\n",
      "           1       0.93      0.87      0.90      3323\n",
      "\n",
      "    accuracy                           0.91      7033\n",
      "   macro avg       0.91      0.90      0.91      7033\n",
      "weighted avg       0.91      0.91      0.91      7033\n",
      "\n"
     ]
    }
   ],
   "source": [
    "ShowStats(test_y, pred_y)"
   ]
  },
  {
   "cell_type": "code",
   "execution_count": 45,
   "metadata": {},
   "outputs": [
    {
     "data": {
      "image/png": "[encoded data removed]",
      "text/plain": [
       "<Figure size 432x288 with 2 Axes>"
      ]
     },
     "metadata": {
      "needs_background": "light"
     },
     "output_type": "display_data"
    }
   ],
   "source": [
    "PlotConfusionMatrix(test_y, pred_y)"
   ]
  },
  {
   "cell_type": "markdown",
   "metadata": {},
   "source": [
    "### Observation\n",
    "* Train vs Validation approaches at 150 epocs\n",
    "* There is significant overfitting of model after a short number of epochs\n",
    "* Results show no detection of cancorous images - not usable\n",
    "* Instability in accuracy could indicate too high learning rate\n"
   ]
  },
  {
   "cell_type": "markdown",
   "metadata": {},
   "source": [
    "## 2. Base Model with regularisation\n",
    "To reduce overfitting try regularisation"
   ]
  },
  {
   "cell_type": "code",
   "execution_count": 46,
   "metadata": {
    "scrolled": true
   },
   "outputs": [],
   "source": [
    "# Use default lambda - note for assignment only. In real this might be in loop to determine best value.\n",
    "reg_lambda = 0.01\n",
    "\n",
    "model_reg = tf.keras.Sequential([\n",
    "    tf.keras.layers.Flatten(input_shape=INPUT_DIM),\n",
    "    tf.keras.layers.Dense(256, activation='sigmoid', kernel_regularizer=tf.keras.regularizers.l2(reg_lambda)),\n",
    "    tf.keras.layers.Dense(OUTPUT_CLASSES, activation='sigmoid', kernel_regularizer=tf.keras.regularizers.l2(reg_lambda))\n",
    "])"
   ]
  },
  {
   "cell_type": "code",
   "execution_count": 47,
   "metadata": {
    "scrolled": true
   },
   "outputs": [
    {
     "name": "stdout",
     "output_type": "stream",
     "text": [
      "Model: \"sequential_1\"\n",
      "_________________________________________________________________\n",
      "Layer (type)                 Output Shape              Param #   \n",
      "=================================================================\n",
      "flatten_1 (Flatten)          (None, 2187)              0         \n",
      "_________________________________________________________________\n",
      "dense_2 (Dense)              (None, 256)               560128    \n",
      "_________________________________________________________________\n",
      "dense_3 (Dense)              (None, 2)                 514       \n",
      "=================================================================\n",
      "Total params: 560,642\n",
      "Trainable params: 560,642\n",
      "Non-trainable params: 0\n",
      "_________________________________________________________________\n"
     ]
    }
   ],
   "source": [
    "model_reg.summary()"
   ]
  },
  {
   "cell_type": "code",
   "execution_count": 48,
   "metadata": {},
   "outputs": [],
   "source": [
    "CompileModel(model_reg)"
   ]
  },
  {
   "cell_type": "code",
   "execution_count": 49,
   "metadata": {},
   "outputs": [
    {
     "name": "stdout",
     "output_type": "stream",
     "text": [
      "start  19:25:03\n",
      "Epoch 1/10000\n",
      "45/45 [==============================] - 1s 24ms/step - loss: 5.2816 - categorical_accuracy: 0.5924 - val_loss: 5.2916 - val_categorical_accuracy: 0.5313\n",
      "Epoch 2/10000\n",
      "45/45 [==============================] - 1s 20ms/step - loss: 5.2526 - categorical_accuracy: 0.6006 - val_loss: 5.2739 - val_categorical_accuracy: 0.5313\n",
      "Epoch 3/10000\n",
      "45/45 [==============================] - 1s 22ms/step - loss: 5.2175 - categorical_accuracy: 0.6053 - val_loss: 5.2607 - val_categorical_accuracy: 0.5313\n",
      "Epoch 4/10000\n",
      "45/45 [==============================] - 1s 20ms/step - loss: 5.1812 - categorical_accuracy: 0.6142 - val_loss: 5.1904 - val_categorical_accuracy: 0.5313\n",
      "Epoch 5/10000\n",
      "45/45 [==============================] - 1s 20ms/step - loss: 5.1287 - categorical_accuracy: 0.6461 - val_loss: 5.1473 - val_categorical_accuracy: 0.5433\n",
      "Epoch 6/10000\n",
      "45/45 [==============================] - 1s 20ms/step - loss: 5.0962 - categorical_accuracy: 0.6502 - val_loss: 5.1430 - val_categorical_accuracy: 0.5313\n",
      "Epoch 7/10000\n",
      "45/45 [==============================] - 1s 20ms/step - loss: 5.0722 - categorical_accuracy: 0.6329 - val_loss: 5.0896 - val_categorical_accuracy: 0.5463\n",
      "Epoch 8/10000\n",
      "45/45 [==============================] - 1s 20ms/step - loss: 5.0338 - categorical_accuracy: 0.6568 - val_loss: 5.0656 - val_categorical_accuracy: 0.5373\n",
      "Epoch 9/10000\n",
      "45/45 [==============================] - 1s 20ms/step - loss: 5.0107 - categorical_accuracy: 0.6487 - val_loss: 5.0419 - val_categorical_accuracy: 0.5343\n",
      "Epoch 10/10000\n",
      "45/45 [==============================] - 1s 20ms/step - loss: 4.9840 - categorical_accuracy: 0.6579 - val_loss: 5.0016 - val_categorical_accuracy: 0.5552\n",
      "Epoch 11/10000\n",
      "45/45 [==============================] - 1s 20ms/step - loss: 4.9428 - categorical_accuracy: 0.6751 - val_loss: 4.9618 - val_categorical_accuracy: 0.6090\n",
      "Epoch 12/10000\n",
      "45/45 [==============================] - 1s 21ms/step - loss: 4.9124 - categorical_accuracy: 0.6958 - val_loss: 4.9293 - val_categorical_accuracy: 0.6597\n",
      "Epoch 13/10000\n",
      "45/45 [==============================] - 1s 20ms/step - loss: 4.8815 - categorical_accuracy: 0.7033 - val_loss: 4.9028 - val_categorical_accuracy: 0.6358\n",
      "Epoch 14/10000\n",
      "45/45 [==============================] - 1s 24ms/step - loss: 4.8661 - categorical_accuracy: 0.6957 - val_loss: 4.8748 - val_categorical_accuracy: 0.6388\n",
      "Epoch 15/10000\n",
      "45/45 [==============================] - 1s 20ms/step - loss: 4.8348 - categorical_accuracy: 0.7078 - val_loss: 4.8441 - val_categorical_accuracy: 0.6657\n",
      "Epoch 16/10000\n",
      "45/45 [==============================] - 1s 21ms/step - loss: 4.8111 - categorical_accuracy: 0.7088 - val_loss: 4.8348 - val_categorical_accuracy: 0.5970\n",
      "Epoch 17/10000\n",
      "45/45 [==============================] - 1s 20ms/step - loss: 4.7761 - categorical_accuracy: 0.7088 - val_loss: 4.8249 - val_categorical_accuracy: 0.5672\n",
      "Epoch 18/10000\n",
      "45/45 [==============================] - 1s 20ms/step - loss: 4.7430 - categorical_accuracy: 0.7041 - val_loss: 4.7582 - val_categorical_accuracy: 0.7194\n",
      "Epoch 19/10000\n",
      "45/45 [==============================] - 1s 20ms/step - loss: 4.7097 - categorical_accuracy: 0.7501 - val_loss: 4.7301 - val_categorical_accuracy: 0.7284\n",
      "Epoch 20/10000\n",
      "45/45 [==============================] - 1s 20ms/step - loss: 4.6934 - categorical_accuracy: 0.7590 - val_loss: 4.7189 - val_categorical_accuracy: 0.6448\n",
      "Epoch 21/10000\n",
      "45/45 [==============================] - 1s 20ms/step - loss: 4.6707 - categorical_accuracy: 0.7390 - val_loss: 4.6831 - val_categorical_accuracy: 0.7015\n",
      "Epoch 22/10000\n",
      "45/45 [==============================] - 1s 20ms/step - loss: 4.6381 - categorical_accuracy: 0.7474 - val_loss: 4.6542 - val_categorical_accuracy: 0.7164\n",
      "Epoch 23/10000\n",
      "45/45 [==============================] - 1s 20ms/step - loss: 4.6050 - categorical_accuracy: 0.7645 - val_loss: 4.6289 - val_categorical_accuracy: 0.7164\n",
      "Epoch 24/10000\n",
      "45/45 [==============================] - 1s 21ms/step - loss: 4.5911 - categorical_accuracy: 0.7582 - val_loss: 4.6052 - val_categorical_accuracy: 0.7075\n",
      "Epoch 25/10000\n",
      "45/45 [==============================] - 1s 20ms/step - loss: 4.5632 - categorical_accuracy: 0.7722 - val_loss: 4.5789 - val_categorical_accuracy: 0.7194\n",
      "Epoch 26/10000\n",
      "45/45 [==============================] - 1s 20ms/step - loss: 4.5261 - categorical_accuracy: 0.7725 - val_loss: 4.5479 - val_categorical_accuracy: 0.7493\n",
      "Epoch 27/10000\n",
      "45/45 [==============================] - 1s 20ms/step - loss: 4.5098 - categorical_accuracy: 0.7781 - val_loss: 4.5248 - val_categorical_accuracy: 0.7373\n",
      "Epoch 28/10000\n",
      "45/45 [==============================] - 1s 20ms/step - loss: 4.4936 - categorical_accuracy: 0.7616 - val_loss: 4.5113 - val_categorical_accuracy: 0.6955\n",
      "Epoch 29/10000\n",
      "45/45 [==============================] - 1s 19ms/step - loss: 4.4528 - categorical_accuracy: 0.7821 - val_loss: 4.4757 - val_categorical_accuracy: 0.7373\n",
      "Epoch 30/10000\n",
      "45/45 [==============================] - 1s 20ms/step - loss: 4.4331 - categorical_accuracy: 0.7717 - val_loss: 4.4449 - val_categorical_accuracy: 0.8000\n",
      "Epoch 31/10000\n",
      "45/45 [==============================] - 1s 20ms/step - loss: 4.4157 - categorical_accuracy: 0.7832 - val_loss: 4.4233 - val_categorical_accuracy: 0.7851\n",
      "Epoch 32/10000\n",
      "45/45 [==============================] - 1s 21ms/step - loss: 4.3851 - categorical_accuracy: 0.7786 - val_loss: 4.4031 - val_categorical_accuracy: 0.7522\n",
      "Epoch 33/10000\n",
      "45/45 [==============================] - 1s 27ms/step - loss: 4.3677 - categorical_accuracy: 0.7840 - val_loss: 4.3906 - val_categorical_accuracy: 0.7134\n",
      "Epoch 34/10000\n",
      "45/45 [==============================] - 1s 21ms/step - loss: 4.3250 - categorical_accuracy: 0.7891 - val_loss: 4.3509 - val_categorical_accuracy: 0.7881\n",
      "Epoch 35/10000\n",
      "45/45 [==============================] - 1s 23ms/step - loss: 4.3125 - categorical_accuracy: 0.8066 - val_loss: 4.3289 - val_categorical_accuracy: 0.7910\n",
      "Epoch 36/10000\n",
      "45/45 [==============================] - 1s 21ms/step - loss: 4.2876 - categorical_accuracy: 0.7905 - val_loss: 4.3048 - val_categorical_accuracy: 0.7881\n",
      "Epoch 37/10000\n",
      "45/45 [==============================] - 1s 27ms/step - loss: 4.2648 - categorical_accuracy: 0.8069 - val_loss: 4.2859 - val_categorical_accuracy: 0.7582\n",
      "Epoch 38/10000\n",
      "45/45 [==============================] - 1s 23ms/step - loss: 4.2465 - categorical_accuracy: 0.7953 - val_loss: 4.2740 - val_categorical_accuracy: 0.7284\n",
      "Epoch 39/10000\n",
      "45/45 [==============================] - 1s 28ms/step - loss: 4.2170 - categorical_accuracy: 0.8029 - val_loss: 4.2363 - val_categorical_accuracy: 0.7940\n",
      "Epoch 40/10000\n",
      "45/45 [==============================] - 1s 20ms/step - loss: 4.1976 - categorical_accuracy: 0.8046 - val_loss: 4.2167 - val_categorical_accuracy: 0.7821\n",
      "stop  19:25:42\n",
      "Took =  0:00:38.795577\n"
     ]
    }
   ],
   "source": [
    "history_reg = FitModel(model_reg)"
   ]
  },
  {
   "cell_type": "code",
   "execution_count": 50,
   "metadata": {},
   "outputs": [
    {
     "data": {
      "image/png": "[encoded data removed]",
      "text/plain": [
       "<Figure size 720x360 with 2 Axes>"
      ]
     },
     "metadata": {
      "needs_background": "light"
     },
     "output_type": "display_data"
    }
   ],
   "source": [
    "PlotModelFitHistory(history_reg)"
   ]
  },
  {
   "cell_type": "code",
   "execution_count": 51,
   "metadata": {},
   "outputs": [],
   "source": [
    "(test_y, pred_y) = PredictModel(model_reg)"
   ]
  },
  {
   "cell_type": "code",
   "execution_count": 52,
   "metadata": {},
   "outputs": [
    {
     "name": "stdout",
     "output_type": "stream",
     "text": [
      "Accuracy score:  0.8058169375534645\n",
      "F1 score:  0.7955745117790014\n",
      "              precision    recall  f1-score   support\n",
      "\n",
      "           0       0.74      0.98      0.84      3701\n",
      "           1       0.96      0.62      0.75      3313\n",
      "\n",
      "    accuracy                           0.81      7014\n",
      "   macro avg       0.85      0.80      0.80      7014\n",
      "weighted avg       0.84      0.81      0.80      7014\n",
      "\n"
     ]
    }
   ],
   "source": [
    "ShowStats(test_y, pred_y)"
   ]
  },
  {
   "cell_type": "code",
   "execution_count": 53,
   "metadata": {},
   "outputs": [
    {
     "data": {
      "image/png": "[encoded data removed]",
      "text/plain": [
       "<Figure size 432x288 with 2 Axes>"
      ]
     },
     "metadata": {
      "needs_background": "light"
     },
     "output_type": "display_data"
    }
   ],
   "source": [
    "PlotConfusionMatrix(test_y, pred_y)"
   ]
  },
  {
   "cell_type": "markdown",
   "metadata": {},
   "source": [
    "### Observation\n",
    "* Loss vs Epochs plot shows significantly improved fitting\n",
    "* Accuracy stablises at ~ 80% after 20 epochs\n",
    "* Learning rate maybe still high but results good\n",
    "* Model doesn't detect positive cases"
   ]
  },
  {
   "cell_type": "markdown",
   "metadata": {},
   "source": [
    "## 3. Base Model with dropout\n",
    "To reduce overfitting and improve speed see if minor drop out improves the model."
   ]
  },
  {
   "cell_type": "code",
   "execution_count": 54,
   "metadata": {
    "scrolled": true
   },
   "outputs": [],
   "source": [
    "model_drop = tf.keras.Sequential([\n",
    "    tf.keras.layers.Flatten(input_shape=INPUT_DIM),\n",
    "    tf.keras.layers.Dense(256, activation='relu'),\n",
    "    tf.keras.layers.Dropout(.2),\n",
    "    tf.keras.layers.Dense(OUTPUT_CLASSES, activation='sigmoid')\n",
    "])"
   ]
  },
  {
   "cell_type": "code",
   "execution_count": 55,
   "metadata": {},
   "outputs": [
    {
     "name": "stdout",
     "output_type": "stream",
     "text": [
      "Model: \"sequential_2\"\n",
      "_________________________________________________________________\n",
      "Layer (type)                 Output Shape              Param #   \n",
      "=================================================================\n",
      "flatten_2 (Flatten)          (None, 2187)              0         \n",
      "_________________________________________________________________\n",
      "dense_4 (Dense)              (None, 256)               560128    \n",
      "_________________________________________________________________\n",
      "dropout (Dropout)            (None, 256)               0         \n",
      "_________________________________________________________________\n",
      "dense_5 (Dense)              (None, 2)                 514       \n",
      "=================================================================\n",
      "Total params: 560,642\n",
      "Trainable params: 560,642\n",
      "Non-trainable params: 0\n",
      "_________________________________________________________________\n"
     ]
    }
   ],
   "source": [
    "model_drop.summary()"
   ]
  },
  {
   "cell_type": "code",
   "execution_count": 56,
   "metadata": {},
   "outputs": [],
   "source": [
    "CompileModel(model_drop)"
   ]
  },
  {
   "cell_type": "code",
   "execution_count": 57,
   "metadata": {},
   "outputs": [
    {
     "name": "stdout",
     "output_type": "stream",
     "text": [
      "start  19:25:52\n",
      "Epoch 1/10000\n",
      "45/45 [==============================] - 1s 23ms/step - loss: 0.7353 - categorical_accuracy: 0.5788 - val_loss: 0.6388 - val_categorical_accuracy: 0.5821\n",
      "Epoch 2/10000\n",
      "45/45 [==============================] - 1s 24ms/step - loss: 0.6044 - categorical_accuracy: 0.6623 - val_loss: 0.5851 - val_categorical_accuracy: 0.6627\n",
      "Epoch 3/10000\n",
      "45/45 [==============================] - 1s 23ms/step - loss: 0.5873 - categorical_accuracy: 0.6922 - val_loss: 0.5859 - val_categorical_accuracy: 0.6358\n",
      "Epoch 4/10000\n",
      "45/45 [==============================] - 1s 22ms/step - loss: 0.5169 - categorical_accuracy: 0.7325 - val_loss: 0.5209 - val_categorical_accuracy: 0.8537\n",
      "Epoch 5/10000\n",
      "45/45 [==============================] - 1s 18ms/step - loss: 0.4973 - categorical_accuracy: 0.7903 - val_loss: 0.5070 - val_categorical_accuracy: 0.7940\n",
      "Epoch 6/10000\n",
      "45/45 [==============================] - 1s 18ms/step - loss: 0.4720 - categorical_accuracy: 0.7849 - val_loss: 0.5350 - val_categorical_accuracy: 0.6687\n",
      "Epoch 7/10000\n",
      "45/45 [==============================] - 1s 18ms/step - loss: 0.4496 - categorical_accuracy: 0.8013 - val_loss: 0.4889 - val_categorical_accuracy: 0.7642\n",
      "Epoch 8/10000\n",
      "45/45 [==============================] - 1s 19ms/step - loss: 0.4645 - categorical_accuracy: 0.8006 - val_loss: 0.4686 - val_categorical_accuracy: 0.7970\n",
      "Epoch 9/10000\n",
      "45/45 [==============================] - 1s 22ms/step - loss: 0.4308 - categorical_accuracy: 0.8272 - val_loss: 0.4435 - val_categorical_accuracy: 0.8507\n",
      "Epoch 10/10000\n",
      "45/45 [==============================] - 1s 18ms/step - loss: 0.4215 - categorical_accuracy: 0.8358 - val_loss: 0.4449 - val_categorical_accuracy: 0.8090\n",
      "Epoch 11/10000\n",
      "45/45 [==============================] - 1s 18ms/step - loss: 0.4069 - categorical_accuracy: 0.8432 - val_loss: 0.4538 - val_categorical_accuracy: 0.7881\n",
      "Epoch 12/10000\n",
      "45/45 [==============================] - 1s 18ms/step - loss: 0.4142 - categorical_accuracy: 0.8185 - val_loss: 0.4286 - val_categorical_accuracy: 0.8149\n",
      "Epoch 13/10000\n",
      "45/45 [==============================] - 1s 20ms/step - loss: 0.3801 - categorical_accuracy: 0.8475 - val_loss: 0.4456 - val_categorical_accuracy: 0.7881\n",
      "Epoch 14/10000\n",
      "45/45 [==============================] - 1s 18ms/step - loss: 0.3596 - categorical_accuracy: 0.8664 - val_loss: 0.4060 - val_categorical_accuracy: 0.8687\n",
      "Epoch 15/10000\n",
      "45/45 [==============================] - 1s 19ms/step - loss: 0.3781 - categorical_accuracy: 0.8531 - val_loss: 0.4135 - val_categorical_accuracy: 0.8149\n",
      "Epoch 16/10000\n",
      "45/45 [==============================] - 1s 19ms/step - loss: 0.3723 - categorical_accuracy: 0.8315 - val_loss: 0.4313 - val_categorical_accuracy: 0.7910\n",
      "Epoch 17/10000\n",
      "45/45 [==============================] - 1s 18ms/step - loss: 0.3687 - categorical_accuracy: 0.8366 - val_loss: 0.3907 - val_categorical_accuracy: 0.8687\n",
      "Epoch 18/10000\n",
      "45/45 [==============================] - 1s 18ms/step - loss: 0.3535 - categorical_accuracy: 0.8690 - val_loss: 0.3834 - val_categorical_accuracy: 0.8806\n",
      "Epoch 19/10000\n",
      "45/45 [==============================] - 1s 18ms/step - loss: 0.3788 - categorical_accuracy: 0.8426 - val_loss: 0.3802 - val_categorical_accuracy: 0.8776\n",
      "Epoch 20/10000\n",
      "45/45 [==============================] - 1s 20ms/step - loss: 0.3640 - categorical_accuracy: 0.8515 - val_loss: 0.3875 - val_categorical_accuracy: 0.8478\n",
      "Epoch 21/10000\n",
      "45/45 [==============================] - 1s 18ms/step - loss: 0.3300 - categorical_accuracy: 0.8726 - val_loss: 0.3930 - val_categorical_accuracy: 0.8179\n",
      "Epoch 22/10000\n",
      "45/45 [==============================] - 1s 23ms/step - loss: 0.3529 - categorical_accuracy: 0.8686 - val_loss: 0.3682 - val_categorical_accuracy: 0.8836\n",
      "Epoch 23/10000\n",
      "45/45 [==============================] - 1s 20ms/step - loss: 0.3642 - categorical_accuracy: 0.8580 - val_loss: 0.3882 - val_categorical_accuracy: 0.8239\n",
      "Epoch 24/10000\n",
      "45/45 [==============================] - 1s 18ms/step - loss: 0.3493 - categorical_accuracy: 0.8600 - val_loss: 0.3699 - val_categorical_accuracy: 0.8657\n",
      "Epoch 25/10000\n",
      "45/45 [==============================] - 1s 18ms/step - loss: 0.3373 - categorical_accuracy: 0.8798 - val_loss: 0.3619 - val_categorical_accuracy: 0.8687\n",
      "Epoch 26/10000\n",
      "45/45 [==============================] - 1s 19ms/step - loss: 0.3356 - categorical_accuracy: 0.8598 - val_loss: 0.3696 - val_categorical_accuracy: 0.8627\n",
      "Epoch 27/10000\n",
      "45/45 [==============================] - 1s 18ms/step - loss: 0.3176 - categorical_accuracy: 0.8804 - val_loss: 0.3624 - val_categorical_accuracy: 0.8746\n",
      "Epoch 28/10000\n",
      "45/45 [==============================] - 1s 18ms/step - loss: 0.3183 - categorical_accuracy: 0.8862 - val_loss: 0.3525 - val_categorical_accuracy: 0.8806\n",
      "Epoch 29/10000\n",
      "45/45 [==============================] - 1s 21ms/step - loss: 0.3291 - categorical_accuracy: 0.8791 - val_loss: 0.3695 - val_categorical_accuracy: 0.8478\n",
      "Epoch 30/10000\n",
      "45/45 [==============================] - 1s 19ms/step - loss: 0.3252 - categorical_accuracy: 0.8698 - val_loss: 0.3552 - val_categorical_accuracy: 0.8806\n",
      "Epoch 31/10000\n",
      "45/45 [==============================] - 1s 19ms/step - loss: 0.3303 - categorical_accuracy: 0.8819 - val_loss: 0.3570 - val_categorical_accuracy: 0.8716\n",
      "Epoch 32/10000\n",
      "45/45 [==============================] - 1s 19ms/step - loss: 0.3119 - categorical_accuracy: 0.8866 - val_loss: 0.3456 - val_categorical_accuracy: 0.8806\n",
      "stop  19:26:21\n",
      "Took =  0:00:28.801116\n"
     ]
    }
   ],
   "source": [
    "history_drop = FitModel(model_drop)"
   ]
  },
  {
   "cell_type": "code",
   "execution_count": 58,
   "metadata": {},
   "outputs": [
    {
     "data": {
      "image/png": "[encoded data removed]",
      "text/plain": [
       "<Figure size 720x360 with 2 Axes>"
      ]
     },
     "metadata": {
      "needs_background": "light"
     },
     "output_type": "display_data"
    }
   ],
   "source": [
    "PlotModelFitHistory(history_drop)"
   ]
  },
  {
   "cell_type": "code",
   "execution_count": 59,
   "metadata": {},
   "outputs": [],
   "source": [
    "(test_y, pred_y) = PredictModel(model_drop)"
   ]
  },
  {
   "cell_type": "code",
   "execution_count": 60,
   "metadata": {},
   "outputs": [
    {
     "name": "stdout",
     "output_type": "stream",
     "text": [
      "Accuracy score:  0.9033129532205317\n",
      "F1 score:  0.9023259081711097\n",
      "              precision    recall  f1-score   support\n",
      "\n",
      "           0       0.88      0.95      0.91      3708\n",
      "           1       0.94      0.85      0.89      3325\n",
      "\n",
      "    accuracy                           0.90      7033\n",
      "   macro avg       0.91      0.90      0.90      7033\n",
      "weighted avg       0.91      0.90      0.90      7033\n",
      "\n"
     ]
    }
   ],
   "source": [
    "ShowStats(test_y, pred_y)"
   ]
  },
  {
   "cell_type": "code",
   "execution_count": 61,
   "metadata": {},
   "outputs": [
    {
     "data": {
      "image/png": "[encoded data removed]",
      "text/plain": [
       "<Figure size 432x288 with 2 Axes>"
      ]
     },
     "metadata": {
      "needs_background": "light"
     },
     "output_type": "display_data"
    }
   ],
   "source": [
    "PlotConfusionMatrix(test_y, pred_y)"
   ]
  },
  {
   "cell_type": "markdown",
   "metadata": {},
   "source": [
    "## Observation\n",
    "* Dropout also improves but test data looks to be better than training\n",
    "* This may be result of the data but there also looks to be some overfitting\n",
    "* This doesn't appear to improve on model 2"
   ]
  },
  {
   "cell_type": "markdown",
   "metadata": {},
   "source": [
    "## 4. Baseline Plus VGG\n",
    "Using an initial set of convolution layers may improve input to the MLP layers\n",
    "Use standard VGG architecture to check if this provides better results"
   ]
  },
  {
   "cell_type": "code",
   "execution_count": 62,
   "metadata": {
    "scrolled": true
   },
   "outputs": [],
   "source": [
    "model_VGG_1 = tf.keras.Sequential([\n",
    "    #VGG block 1\n",
    "    tf.keras.layers.Conv2D(32, (3, 3), activation='relu', padding='same', input_shape=INPUT_DIM),\n",
    "    tf.keras.layers.Conv2D(32, (3, 3), activation='relu', padding='same'),\n",
    "    tf.keras.layers.MaxPooling2D((2, 2)),\n",
    "    \n",
    "    #VGG block 2\n",
    "    tf.keras.layers.Conv2D(64, (3, 3), activation='relu', padding='same'),\n",
    "    tf.keras.layers.Conv2D(64, (3, 3), activation='relu', padding='same'),\n",
    "    tf.keras.layers.MaxPooling2D((2, 2)),\n",
    "    \n",
    "    #VGG block 3\n",
    "    tf.keras.layers.Conv2D(128, (3, 3), activation='relu', padding='same'),\n",
    "    tf.keras.layers.Conv2D(128, (3, 3), activation='relu', padding='same'),\n",
    "    tf.keras.layers.MaxPooling2D((2, 2)),\n",
    "    \n",
    "    tf.keras.layers.Flatten(),\n",
    "    \n",
    "    tf.keras.layers.Dense(256, activation='relu'),\n",
    "    tf.keras.layers.Dropout(.2),\n",
    "    tf.keras.layers.Dense(OUTPUT_CLASSES, activation='sigmoid' )\n",
    "])"
   ]
  },
  {
   "cell_type": "code",
   "execution_count": 63,
   "metadata": {},
   "outputs": [],
   "source": [
    "CompileModel(model_VGG_1)"
   ]
  },
  {
   "cell_type": "code",
   "execution_count": 64,
   "metadata": {},
   "outputs": [
    {
     "name": "stdout",
     "output_type": "stream",
     "text": [
      "start  19:26:30\n",
      "Epoch 1/10000\n",
      "45/45 [==============================] - 4s 88ms/step - loss: 0.6930 - categorical_accuracy: 0.4906 - val_loss: 0.6881 - val_categorical_accuracy: 0.5313\n",
      "Epoch 2/10000\n",
      "45/45 [==============================] - 4s 83ms/step - loss: 0.6650 - categorical_accuracy: 0.6211 - val_loss: 0.6943 - val_categorical_accuracy: 0.5313\n",
      "Epoch 3/10000\n",
      "45/45 [==============================] - 4s 83ms/step - loss: 0.6488 - categorical_accuracy: 0.6342 - val_loss: 0.7007 - val_categorical_accuracy: 0.5313\n",
      "Epoch 4/10000\n",
      "45/45 [==============================] - 4s 83ms/step - loss: 0.6553 - categorical_accuracy: 0.6163 - val_loss: 0.7021 - val_categorical_accuracy: 0.5313\n",
      "Epoch 5/10000\n",
      "45/45 [==============================] - 4s 83ms/step - loss: 0.6457 - categorical_accuracy: 0.6372 - val_loss: 0.6988 - val_categorical_accuracy: 0.5313\n",
      "Epoch 6/10000\n",
      "45/45 [==============================] - 4s 83ms/step - loss: 0.6464 - categorical_accuracy: 0.6297 - val_loss: 0.7019 - val_categorical_accuracy: 0.5313\n",
      "Epoch 7/10000\n",
      "45/45 [==============================] - 4s 87ms/step - loss: 0.6484 - categorical_accuracy: 0.6202 - val_loss: 0.7000 - val_categorical_accuracy: 0.5313\n",
      "Epoch 8/10000\n",
      "45/45 [==============================] - 4s 84ms/step - loss: 0.6357 - categorical_accuracy: 0.6393 - val_loss: 0.6976 - val_categorical_accuracy: 0.5313\n",
      "Epoch 9/10000\n",
      "45/45 [==============================] - 4s 83ms/step - loss: 0.6452 - categorical_accuracy: 0.6213 - val_loss: 0.7043 - val_categorical_accuracy: 0.5313\n",
      "Epoch 10/10000\n",
      "45/45 [==============================] - 4s 83ms/step - loss: 0.6533 - categorical_accuracy: 0.6092 - val_loss: 0.6947 - val_categorical_accuracy: 0.5313\n",
      "Epoch 11/10000\n",
      "45/45 [==============================] - 4s 84ms/step - loss: 0.6346 - categorical_accuracy: 0.6383 - val_loss: 0.6973 - val_categorical_accuracy: 0.5313\n",
      "stop  19:27:12\n",
      "Took =  0:00:42.283260\n"
     ]
    }
   ],
   "source": [
    "history_VGG_1 = FitModel(model_VGG_1)"
   ]
  },
  {
   "cell_type": "code",
   "execution_count": 65,
   "metadata": {},
   "outputs": [
    {
     "data": {
      "image/png": "[encoded data removed]",
      "text/plain": [
       "<Figure size 720x360 with 2 Axes>"
      ]
     },
     "metadata": {
      "needs_background": "light"
     },
     "output_type": "display_data"
    }
   ],
   "source": [
    "PlotModelFitHistory(history_VGG_1)"
   ]
  },
  {
   "cell_type": "code",
   "execution_count": 66,
   "metadata": {},
   "outputs": [],
   "source": [
    "(test_y, pred_y) = PredictModel(model_VGG_1)"
   ]
  },
  {
   "cell_type": "code",
   "execution_count": 67,
   "metadata": {},
   "outputs": [
    {
     "name": "stdout",
     "output_type": "stream",
     "text": [
      "Accuracy score:  0.5275163957798689\n",
      "F1 score:  0.34534254246779916\n",
      "              precision    recall  f1-score   support\n",
      "\n",
      "           0       0.53      1.00      0.69      3700\n",
      "           1       0.00      0.00      0.00      3314\n",
      "\n",
      "    accuracy                           0.53      7014\n",
      "   macro avg       0.26      0.50      0.35      7014\n",
      "weighted avg       0.28      0.53      0.36      7014\n",
      "\n"
     ]
    }
   ],
   "source": [
    "ShowStats(test_y, pred_y)"
   ]
  },
  {
   "cell_type": "code",
   "execution_count": 68,
   "metadata": {},
   "outputs": [
    {
     "data": {
      "image/png": "[encoded data removed]",
      "text/plain": [
       "<Figure size 432x288 with 2 Axes>"
      ]
     },
     "metadata": {
      "needs_background": "light"
     },
     "output_type": "display_data"
    }
   ],
   "source": [
    "PlotConfusionMatrix(test_y, pred_y)"
   ]
  },
  {
   "cell_type": "markdown",
   "metadata": {},
   "source": [
    "### Observation\n",
    "Issue is over fitting \n",
    "* This model took much longer to train.\n",
    "* Reviewing the input size that VGG was designed for the number of inputs is much reduced.\n",
    "* Lets reduce the number of convolutions layers and converlutions in the layer to improve training times."
   ]
  },
  {
   "cell_type": "markdown",
   "metadata": {},
   "source": [
    "## 5. VGG 2 with simplified convolutions\n",
    "* We have 20k images so that should be ok for training\n",
    "* image size is small so down scaling is not too beneficial\n",
    "* after 40 epics so could stop early \n",
    "* over fitting so reduce the number of convolutions\n",
    "* Given number of images, data augmentation probably not required\n"
   ]
  },
  {
   "cell_type": "code",
   "execution_count": 69,
   "metadata": {
    "scrolled": true
   },
   "outputs": [],
   "source": [
    "model_VGG_2 = tf.keras.Sequential([\n",
    "    #VGG block 1\n",
    "    tf.keras.layers.Conv2D(32, (3, 3), activation='relu', padding='same', input_shape=INPUT_DIM),\n",
    "    tf.keras.layers.Conv2D(32, (3, 3), activation='relu', padding='same'),\n",
    "    tf.keras.layers.MaxPooling2D((2, 2)),\n",
    "    \n",
    "    #VGG block 2\n",
    "    tf.keras.layers.Conv2D(64, (3, 3), activation='relu', padding='same'),\n",
    "    tf.keras.layers.Conv2D(64, (3, 3), activation='relu', padding='same'),\n",
    "    tf.keras.layers.MaxPooling2D((2, 2)),\n",
    "    \n",
    "    tf.keras.layers.Flatten(),\n",
    "    \n",
    "    tf.keras.layers.Dense(128, activation='sigmoid'),\n",
    "    tf.keras.layers.Dropout(.2),\n",
    "    tf.keras.layers.Dense(OUTPUT_CLASSES, activation='sigmoid' )\n",
    "])"
   ]
  },
  {
   "cell_type": "code",
   "execution_count": 70,
   "metadata": {},
   "outputs": [],
   "source": [
    "CompileModel(model_VGG_2)"
   ]
  },
  {
   "cell_type": "code",
   "execution_count": 71,
   "metadata": {},
   "outputs": [
    {
     "name": "stdout",
     "output_type": "stream",
     "text": [
      "start  19:27:25\n",
      "Epoch 1/10000\n",
      "45/45 [==============================] - 4s 72ms/step - loss: 0.6687 - categorical_accuracy: 0.6425 - val_loss: 0.7166 - val_categorical_accuracy: 0.5313\n",
      "Epoch 2/10000\n",
      "45/45 [==============================] - 3s 70ms/step - loss: 0.6885 - categorical_accuracy: 0.6047 - val_loss: 0.7131 - val_categorical_accuracy: 0.5313\n",
      "Epoch 3/10000\n",
      "45/45 [==============================] - 3s 70ms/step - loss: 0.7068 - categorical_accuracy: 0.5470 - val_loss: 0.7168 - val_categorical_accuracy: 0.5313\n",
      "Epoch 4/10000\n",
      "45/45 [==============================] - 3s 71ms/step - loss: 0.6979 - categorical_accuracy: 0.5957 - val_loss: 0.7125 - val_categorical_accuracy: 0.5313\n",
      "Epoch 5/10000\n",
      "45/45 [==============================] - 3s 70ms/step - loss: 0.6911 - categorical_accuracy: 0.5940 - val_loss: 0.7150 - val_categorical_accuracy: 0.5313\n",
      "Epoch 6/10000\n",
      "45/45 [==============================] - 3s 70ms/step - loss: 0.6999 - categorical_accuracy: 0.5635 - val_loss: 0.7156 - val_categorical_accuracy: 0.5313\n",
      "Epoch 7/10000\n",
      "45/45 [==============================] - 3s 69ms/step - loss: 0.6795 - categorical_accuracy: 0.6043 - val_loss: 0.7109 - val_categorical_accuracy: 0.5313\n",
      "Epoch 8/10000\n",
      "45/45 [==============================] - 3s 69ms/step - loss: 0.7015 - categorical_accuracy: 0.5731 - val_loss: 0.7120 - val_categorical_accuracy: 0.5313\n",
      "Epoch 9/10000\n",
      "45/45 [==============================] - 3s 70ms/step - loss: 0.6921 - categorical_accuracy: 0.5710 - val_loss: 0.7098 - val_categorical_accuracy: 0.5313\n",
      "Epoch 10/10000\n",
      "45/45 [==============================] - 3s 71ms/step - loss: 0.6892 - categorical_accuracy: 0.5986 - val_loss: 0.7108 - val_categorical_accuracy: 0.5313\n",
      "Epoch 11/10000\n",
      "45/45 [==============================] - 3s 71ms/step - loss: 0.7005 - categorical_accuracy: 0.5910 - val_loss: 0.7113 - val_categorical_accuracy: 0.5313\n",
      "stop  19:28:00\n",
      "Took =  0:00:35.320700\n"
     ]
    }
   ],
   "source": [
    "history_VGG_2 = FitModel(model_VGG_2)"
   ]
  },
  {
   "cell_type": "code",
   "execution_count": 72,
   "metadata": {},
   "outputs": [
    {
     "data": {
      "image/png": "[encoded data removed]",
      "text/plain": [
       "<Figure size 720x360 with 2 Axes>"
      ]
     },
     "metadata": {
      "needs_background": "light"
     },
     "output_type": "display_data"
    }
   ],
   "source": [
    "PlotModelFitHistory(history_VGG_2)"
   ]
  },
  {
   "cell_type": "code",
   "execution_count": 73,
   "metadata": {},
   "outputs": [],
   "source": [
    "(test_y, pred_y) = PredictModel(model_VGG_2)"
   ]
  },
  {
   "cell_type": "code",
   "execution_count": 74,
   "metadata": {},
   "outputs": [
    {
     "name": "stdout",
     "output_type": "stream",
     "text": [
      "Accuracy score:  0.52723125178215\n",
      "F1 score:  0.34522031366691563\n",
      "              precision    recall  f1-score   support\n",
      "\n",
      "           0       0.53      1.00      0.69      3698\n",
      "           1       0.00      0.00      0.00      3316\n",
      "\n",
      "    accuracy                           0.53      7014\n",
      "   macro avg       0.26      0.50      0.35      7014\n",
      "weighted avg       0.28      0.53      0.36      7014\n",
      "\n"
     ]
    }
   ],
   "source": [
    "ShowStats(test_y, pred_y)"
   ]
  },
  {
   "cell_type": "code",
   "execution_count": 75,
   "metadata": {},
   "outputs": [
    {
     "data": {
      "image/png": "[encoded data removed]",
      "text/plain": [
       "<Figure size 432x288 with 2 Axes>"
      ]
     },
     "metadata": {
      "needs_background": "light"
     },
     "output_type": "display_data"
    }
   ],
   "source": [
    "PlotConfusionMatrix(test_y, pred_y)"
   ]
  },
  {
   "cell_type": "markdown",
   "metadata": {},
   "source": [
    "### Observations\n",
    "* The model still took a long time to train\n",
    "* There looks to be minimal overfitting\n",
    "* Reducing the number of epochs to 50 showed minimal loss issues but accuracy was jumbled"
   ]
  },
  {
   "cell_type": "markdown",
   "metadata": {},
   "source": [
    "## 6. SC-CNN \n",
    "* Try model based on SC-CNN \n",
    "* We have 20k images so that should be ok for training"
   ]
  },
  {
   "cell_type": "code",
   "execution_count": 76,
   "metadata": {
    "scrolled": true
   },
   "outputs": [],
   "source": [
    "model_SC_CNN_1 = tf.keras.Sequential([\n",
    "    # Convolution\n",
    "    \n",
    "    tf.keras.layers.Conv2D(24, (4, 4), activation='relu', padding='same', input_shape=INPUT_DIM),\n",
    "    tf.keras.layers.MaxPooling2D((2, 2)),\n",
    "    tf.keras.layers.Conv2D(36, (3, 3), activation='relu', padding='same'),\n",
    "    tf.keras.layers.MaxPooling2D((2, 2)),\n",
    "    \n",
    "    tf.keras.layers.Flatten(),\n",
    "    \n",
    "    tf.keras.layers.Dense(512, activation='relu'),\n",
    "    tf.keras.layers.Dense(OUTPUT_CLASSES, activation='sigmoid' )\n",
    "    \n",
    "])"
   ]
  },
  {
   "cell_type": "code",
   "execution_count": 77,
   "metadata": {},
   "outputs": [],
   "source": [
    "CompileModel(model_SC_CNN_1)"
   ]
  },
  {
   "cell_type": "code",
   "execution_count": 78,
   "metadata": {},
   "outputs": [
    {
     "name": "stdout",
     "output_type": "stream",
     "text": [
      "start  19:28:12\n",
      "Epoch 1/10000\n",
      "45/45 [==============================] - 2s 31ms/step - loss: 0.6658 - categorical_accuracy: 0.5856 - val_loss: 0.6968 - val_categorical_accuracy: 0.5313\n",
      "Epoch 2/10000\n",
      "45/45 [==============================] - 1s 29ms/step - loss: 0.6405 - categorical_accuracy: 0.6313 - val_loss: 0.6942 - val_categorical_accuracy: 0.5313\n",
      "Epoch 3/10000\n",
      "45/45 [==============================] - 1s 27ms/step - loss: 0.6342 - categorical_accuracy: 0.6376 - val_loss: 0.6768 - val_categorical_accuracy: 0.5313\n",
      "Epoch 4/10000\n",
      "45/45 [==============================] - 1s 28ms/step - loss: 0.6410 - categorical_accuracy: 0.6130 - val_loss: 0.6859 - val_categorical_accuracy: 0.5313\n",
      "Epoch 5/10000\n",
      "45/45 [==============================] - 1s 29ms/step - loss: 0.6323 - categorical_accuracy: 0.6229 - val_loss: 0.6709 - val_categorical_accuracy: 0.5313\n",
      "Epoch 6/10000\n",
      "45/45 [==============================] - 1s 29ms/step - loss: 0.6267 - categorical_accuracy: 0.6233 - val_loss: 0.6653 - val_categorical_accuracy: 0.5313\n",
      "Epoch 7/10000\n",
      "45/45 [==============================] - 1s 29ms/step - loss: 0.6130 - categorical_accuracy: 0.6314 - val_loss: 0.6573 - val_categorical_accuracy: 0.5313\n",
      "Epoch 8/10000\n",
      "45/45 [==============================] - 1s 29ms/step - loss: 0.6108 - categorical_accuracy: 0.6230 - val_loss: 0.6645 - val_categorical_accuracy: 0.5313\n",
      "Epoch 9/10000\n",
      "45/45 [==============================] - 1s 31ms/step - loss: 0.5985 - categorical_accuracy: 0.6348 - val_loss: 0.6454 - val_categorical_accuracy: 0.5343\n",
      "Epoch 10/10000\n",
      "45/45 [==============================] - 1s 29ms/step - loss: 0.5958 - categorical_accuracy: 0.6257 - val_loss: 0.6324 - val_categorical_accuracy: 0.5642\n",
      "Epoch 11/10000\n",
      "45/45 [==============================] - 1s 29ms/step - loss: 0.5877 - categorical_accuracy: 0.6592 - val_loss: 0.6372 - val_categorical_accuracy: 0.5373\n",
      "Epoch 12/10000\n",
      "45/45 [==============================] - 1s 28ms/step - loss: 0.5707 - categorical_accuracy: 0.6672 - val_loss: 0.6418 - val_categorical_accuracy: 0.5343\n",
      "Epoch 13/10000\n",
      "45/45 [==============================] - 1s 28ms/step - loss: 0.5593 - categorical_accuracy: 0.6777 - val_loss: 0.5986 - val_categorical_accuracy: 0.7493\n",
      "Epoch 14/10000\n",
      "45/45 [==============================] - 1s 29ms/step - loss: 0.5644 - categorical_accuracy: 0.7275 - val_loss: 0.6003 - val_categorical_accuracy: 0.6269\n",
      "Epoch 15/10000\n",
      "45/45 [==============================] - 1s 29ms/step - loss: 0.5529 - categorical_accuracy: 0.7036 - val_loss: 0.5923 - val_categorical_accuracy: 0.6448\n",
      "Epoch 16/10000\n",
      "45/45 [==============================] - 1s 28ms/step - loss: 0.5362 - categorical_accuracy: 0.7313 - val_loss: 0.5801 - val_categorical_accuracy: 0.6716\n",
      "Epoch 17/10000\n",
      "45/45 [==============================] - 1s 29ms/step - loss: 0.5371 - categorical_accuracy: 0.7411 - val_loss: 0.5701 - val_categorical_accuracy: 0.6866\n",
      "Epoch 18/10000\n",
      "45/45 [==============================] - 1s 27ms/step - loss: 0.5142 - categorical_accuracy: 0.7667 - val_loss: 0.5615 - val_categorical_accuracy: 0.7015\n",
      "Epoch 19/10000\n",
      "45/45 [==============================] - 1s 28ms/step - loss: 0.5099 - categorical_accuracy: 0.7622 - val_loss: 0.5400 - val_categorical_accuracy: 0.7910\n",
      "Epoch 20/10000\n",
      "45/45 [==============================] - 1s 27ms/step - loss: 0.4982 - categorical_accuracy: 0.7702 - val_loss: 0.5441 - val_categorical_accuracy: 0.7224\n",
      "Epoch 21/10000\n",
      "45/45 [==============================] - 1s 29ms/step - loss: 0.5136 - categorical_accuracy: 0.7489 - val_loss: 0.5248 - val_categorical_accuracy: 0.7701\n",
      "Epoch 22/10000\n",
      "45/45 [==============================] - 1s 29ms/step - loss: 0.4741 - categorical_accuracy: 0.7983 - val_loss: 0.5122 - val_categorical_accuracy: 0.7970\n",
      "Epoch 23/10000\n",
      "45/45 [==============================] - 1s 28ms/step - loss: 0.4562 - categorical_accuracy: 0.7994 - val_loss: 0.5022 - val_categorical_accuracy: 0.8119\n",
      "Epoch 24/10000\n",
      "45/45 [==============================] - 1s 29ms/step - loss: 0.4651 - categorical_accuracy: 0.8045 - val_loss: 0.4988 - val_categorical_accuracy: 0.7821\n",
      "Epoch 25/10000\n",
      "45/45 [==============================] - 1s 28ms/step - loss: 0.4416 - categorical_accuracy: 0.8118 - val_loss: 0.4856 - val_categorical_accuracy: 0.8149\n",
      "Epoch 26/10000\n",
      "45/45 [==============================] - 1s 28ms/step - loss: 0.4368 - categorical_accuracy: 0.8207 - val_loss: 0.4839 - val_categorical_accuracy: 0.7940\n",
      "Epoch 27/10000\n",
      "45/45 [==============================] - 1s 28ms/step - loss: 0.4431 - categorical_accuracy: 0.8043 - val_loss: 0.4713 - val_categorical_accuracy: 0.8149\n",
      "Epoch 28/10000\n",
      "45/45 [==============================] - 1s 28ms/step - loss: 0.4313 - categorical_accuracy: 0.8237 - val_loss: 0.4798 - val_categorical_accuracy: 0.7731\n",
      "Epoch 29/10000\n",
      "45/45 [==============================] - 1s 29ms/step - loss: 0.4275 - categorical_accuracy: 0.8250 - val_loss: 0.4581 - val_categorical_accuracy: 0.8179\n",
      "Epoch 30/10000\n",
      "45/45 [==============================] - 1s 29ms/step - loss: 0.4172 - categorical_accuracy: 0.8253 - val_loss: 0.4799 - val_categorical_accuracy: 0.7552\n",
      "Epoch 31/10000\n",
      "45/45 [==============================] - 1s 29ms/step - loss: 0.4110 - categorical_accuracy: 0.8250 - val_loss: 0.4468 - val_categorical_accuracy: 0.8239\n",
      "Epoch 32/10000\n",
      "45/45 [==============================] - 1s 28ms/step - loss: 0.3978 - categorical_accuracy: 0.8182 - val_loss: 0.4437 - val_categorical_accuracy: 0.8328\n",
      "Epoch 33/10000\n",
      "45/45 [==============================] - 1s 28ms/step - loss: 0.3887 - categorical_accuracy: 0.8435 - val_loss: 0.4283 - val_categorical_accuracy: 0.8448\n",
      "Epoch 34/10000\n",
      "45/45 [==============================] - 1s 31ms/step - loss: 0.3890 - categorical_accuracy: 0.8388 - val_loss: 0.4353 - val_categorical_accuracy: 0.8209\n",
      "Epoch 35/10000\n",
      "45/45 [==============================] - 1s 29ms/step - loss: 0.3911 - categorical_accuracy: 0.8202 - val_loss: 0.4314 - val_categorical_accuracy: 0.8239\n",
      "Epoch 36/10000\n",
      "45/45 [==============================] - 1s 29ms/step - loss: 0.3717 - categorical_accuracy: 0.8407 - val_loss: 0.4157 - val_categorical_accuracy: 0.8507\n",
      "Epoch 37/10000\n",
      "45/45 [==============================] - 1s 28ms/step - loss: 0.3880 - categorical_accuracy: 0.8362 - val_loss: 0.4123 - val_categorical_accuracy: 0.8478\n",
      "Epoch 38/10000\n",
      "45/45 [==============================] - 1s 29ms/step - loss: 0.3704 - categorical_accuracy: 0.8558 - val_loss: 0.4143 - val_categorical_accuracy: 0.8418\n",
      "Epoch 39/10000\n",
      "45/45 [==============================] - 1s 31ms/step - loss: 0.3837 - categorical_accuracy: 0.8359 - val_loss: 0.4065 - val_categorical_accuracy: 0.8448\n",
      "Epoch 40/10000\n",
      "45/45 [==============================] - 1s 28ms/step - loss: 0.3640 - categorical_accuracy: 0.8531 - val_loss: 0.4020 - val_categorical_accuracy: 0.8448\n",
      "Epoch 41/10000\n",
      "45/45 [==============================] - 1s 30ms/step - loss: 0.3700 - categorical_accuracy: 0.8365 - val_loss: 0.4035 - val_categorical_accuracy: 0.8418\n",
      "Epoch 42/10000\n",
      "45/45 [==============================] - 1s 28ms/step - loss: 0.3745 - categorical_accuracy: 0.8300 - val_loss: 0.3986 - val_categorical_accuracy: 0.8418\n",
      "Epoch 43/10000\n",
      "45/45 [==============================] - 1s 28ms/step - loss: 0.3611 - categorical_accuracy: 0.8475 - val_loss: 0.4047 - val_categorical_accuracy: 0.8418\n",
      "Epoch 44/10000\n",
      "45/45 [==============================] - 1s 31ms/step - loss: 0.3680 - categorical_accuracy: 0.8384 - val_loss: 0.3911 - val_categorical_accuracy: 0.8507\n",
      "Epoch 45/10000\n",
      "45/45 [==============================] - 1s 29ms/step - loss: 0.3541 - categorical_accuracy: 0.8609 - val_loss: 0.3901 - val_categorical_accuracy: 0.8507\n",
      "Epoch 46/10000\n",
      "45/45 [==============================] - 1s 30ms/step - loss: 0.3584 - categorical_accuracy: 0.8496 - val_loss: 0.3863 - val_categorical_accuracy: 0.8478\n",
      "stop  19:29:13\n",
      "Took =  0:01:01.113057\n"
     ]
    }
   ],
   "source": [
    "history_SC_CNN_1 = FitModel(model_SC_CNN_1)"
   ]
  },
  {
   "cell_type": "code",
   "execution_count": 79,
   "metadata": {},
   "outputs": [
    {
     "data": {
      "image/png": "[encoded data removed]",
      "text/plain": [
       "<Figure size 720x360 with 2 Axes>"
      ]
     },
     "metadata": {
      "needs_background": "light"
     },
     "output_type": "display_data"
    }
   ],
   "source": [
    "PlotModelFitHistory(history_SC_CNN_1)"
   ]
  },
  {
   "cell_type": "code",
   "execution_count": 80,
   "metadata": {},
   "outputs": [],
   "source": [
    "(test_y, pred_y) = PredictModel(model_SC_CNN_1)"
   ]
  },
  {
   "cell_type": "code",
   "execution_count": 81,
   "metadata": {},
   "outputs": [
    {
     "name": "stdout",
     "output_type": "stream",
     "text": [
      "Accuracy score:  0.8981942272145599\n",
      "F1 score:  0.8974046093915538\n",
      "              precision    recall  f1-score   support\n",
      "\n",
      "           0       0.88      0.94      0.91      3707\n",
      "           1       0.92      0.86      0.89      3326\n",
      "\n",
      "    accuracy                           0.90      7033\n",
      "   macro avg       0.90      0.90      0.90      7033\n",
      "weighted avg       0.90      0.90      0.90      7033\n",
      "\n"
     ]
    }
   ],
   "source": [
    "ShowStats(test_y, pred_y)"
   ]
  },
  {
   "cell_type": "code",
   "execution_count": 82,
   "metadata": {},
   "outputs": [
    {
     "data": {
      "image/png": "[encoded data removed]",
      "text/plain": [
       "<Figure size 432x288 with 2 Axes>"
      ]
     },
     "metadata": {
      "needs_background": "light"
     },
     "output_type": "display_data"
    }
   ],
   "source": [
    "PlotConfusionMatrix(test_y, pred_y)"
   ]
  },
  {
   "cell_type": "markdown",
   "metadata": {},
   "source": [
    "### Observations\n",
    "* The model overfitted significantly\n",
    "* Accuracy not correct"
   ]
  },
  {
   "cell_type": "markdown",
   "metadata": {},
   "source": [
    "# 7. SC-CNN 2"
   ]
  },
  {
   "cell_type": "code",
   "execution_count": 83,
   "metadata": {},
   "outputs": [],
   "source": [
    "model_SC_CNN_2 = tf.keras.Sequential([\n",
    "    # Convolution\n",
    "    \n",
    "    tf.keras.layers.Conv2D(24, (4, 4), activation='relu', padding='same', input_shape=INPUT_DIM),\n",
    "    tf.keras.layers.MaxPooling2D((2, 2)),\n",
    "    tf.keras.layers.Conv2D(36, (3, 3), activation='relu', padding='same'),\n",
    "    tf.keras.layers.MaxPooling2D((2, 2)),\n",
    "    \n",
    "    tf.keras.layers.Flatten(),\n",
    "    \n",
    "    tf.keras.layers.Dense(512, activation='relu', kernel_regularizer=tf.keras.regularizers.l2(reg_lambda)),\n",
    "      \n",
    "    tf.keras.layers.Dropout(.2),\n",
    "    \n",
    "    tf.keras.layers.Dense(\n",
    "        OUTPUT_CLASSES, \n",
    "        kernel_regularizer=tf.keras.regularizers.l2(reg_lambda),\n",
    "        activation='sigmoid' )\n",
    "    \n",
    "])"
   ]
  },
  {
   "cell_type": "markdown",
   "metadata": {},
   "source": [
    "Still didn't pickup anything"
   ]
  },
  {
   "cell_type": "markdown",
   "metadata": {},
   "source": [
    "# 8. SC-CNN 3"
   ]
  },
  {
   "cell_type": "code",
   "execution_count": 84,
   "metadata": {},
   "outputs": [],
   "source": [
    "model_SC_CNN_3 = tf.keras.Sequential([\n",
    "    # Convolution\n",
    "    \n",
    "    tf.keras.layers.Conv2D(24, (4, 4), activation='relu', padding='same', input_shape=INPUT_DIM),\n",
    "    tf.keras.layers.MaxPooling2D((2, 2)),\n",
    "    tf.keras.layers.Conv2D(36, (3, 3), activation='relu', padding='same'),\n",
    "    tf.keras.layers.MaxPooling2D((2, 2)),\n",
    "    \n",
    "    tf.keras.layers.Flatten(),\n",
    "    \n",
    "    tf.keras.layers.Dense(512, activation='relu', kernel_regularizer=tf.keras.regularizers.l2(reg_lambda)),\n",
    "        \n",
    "    tf.keras.layers.Dense(\n",
    "        OUTPUT_CLASSES, \n",
    "        kernel_regularizer=tf.keras.regularizers.l2(reg_lambda),\n",
    "        activation='sigmoid' )\n",
    "    \n",
    "])"
   ]
  },
  {
   "cell_type": "code",
   "execution_count": null,
   "metadata": {},
   "outputs": [],
   "source": []
  },
  {
   "cell_type": "markdown",
   "metadata": {},
   "source": [
    "# Model comparison and ultimate judgment"
   ]
  },
  {
   "cell_type": "markdown",
   "metadata": {},
   "source": [
    "The base MLP model show overfitting\n",
    "Using Regularistion resulted in a better model\n",
    "Applying dropout also reduced overfitting but not the the same extent as regularisation \n",
    "\n",
    "Using the base VGG achitecture resulted in a small amount of overfitting\n",
    "As the size of the inputs are quite low reducing the number of convolutions and adding some regulariation in the final MLP \n",
    "latyer might create a better model. \n",
    "\n",
    "All base models showed good results with 100% recall\n",
    "Given the training time and simplicity the MLP with regularisation would be the best model"
   ]
  },
  {
   "cell_type": "markdown",
   "metadata": {},
   "source": [
    "# Questions\n",
    "* Results are the same for all models - looks bad but I can work out why\n",
    "* accuracy jumps around but how to set learning rate?"
   ]
  },
  {
   "cell_type": "code",
   "execution_count": null,
   "metadata": {},
   "outputs": [],
   "source": []
  }
 ],
 "metadata": {
  "kernelspec": {
   "display_name": "Python 3",
   "language": "python",
   "name": "python3"
  },
  "language_info": {
   "codemirror_mode": {
    "name": "ipython",
    "version": 3
   },
   "file_extension": ".py",
   "mimetype": "text/x-python",
   "name": "python",
   "nbconvert_exporter": "python",
   "pygments_lexer": "ipython3",
   "version": "3.7.7"
  }
 },
 "nbformat": 4,
 "nbformat_minor": 4
}
